{
 "cells": [
  {
   "cell_type": "code",
   "execution_count": 43,
   "id": "fdbc9744",
   "metadata": {},
   "outputs": [],
   "source": [
    "import pandas as pd\n",
    "import numpy as np\n",
    "\n",
    "import re\n",
    "import nltk\n",
    "from tensorflow.keras.preprocessing.text import Tokenizer\n",
    "from tensorflow.keras.preprocessing.sequence import pad_sequences\n",
    "\n",
    "\n",
    "import torch\n",
    "from torch.utils.data import TensorDataset, DataLoader, random_split\n",
    "import torch.nn as nn\n",
    "import torch.optim as optim"
   ]
  },
  {
   "cell_type": "code",
   "execution_count": 44,
   "id": "20e86431",
   "metadata": {},
   "outputs": [
    {
     "data": {
      "application/vnd.microsoft.datawrangler.viewer.v0+json": {
       "columns": [
        {
         "name": "index",
         "rawType": "int64",
         "type": "integer"
        },
        {
         "name": "Title",
         "rawType": "object",
         "type": "string"
        },
        {
         "name": "Poem",
         "rawType": "object",
         "type": "string"
        },
        {
         "name": "Poet",
         "rawType": "object",
         "type": "string"
        },
        {
         "name": "Genre",
         "rawType": "object",
         "type": "string"
        }
       ],
       "conversionMethod": "pd.DataFrame",
       "ref": "53bd6dbe-2388-4834-bad0-b342a518a918",
       "rows": [
        [
         "0",
         "Search",
         "Wandered tonight through a cityas ruined as a body with brokenribs and a bared heart. Looked for you there with cookies in my pocket, searched for a sigh, for movement in demolished streets and alleys. Tonightsince I’d forgotten for a moment where you are,I searched for you with hope in my bones.But no matter how I lured you with my voiceand my eyes, walls of debris grew up steadily around you, cellars seemedto creep around you. I remained alonewith those cookies in my pocketand kept calling and walking.",
         "Hester Knibbe",
         "Fear"
        ],
        [
         "1",
         "A Poem for the Cruel Majority",
         "The cruel majority emerges!Hail to the cruel majority!They will punish the poor for being poor.They will punish the dead for having died.Nothing can make the dark turn into lightfor the cruel majority.Nothing can make them feel hunger or terror.If the cruel majority would only cup their earsthe sea would wash over them.The sea would help them forget their wayward children.It would weave a lullaby for young & old.(See the cruel majority with hands cupped to their ears,one foot is in the water, one foot is on the clouds.)One man of them is large enough to hold a cloudbetween his thumb & middle finger,to squeeze a drop of sweat from it before he sleeps.He is a little god but not a poet.(See how his body heaves.)The cruel majority love crowds & picnics.The cruel majority fill up their parks with little flags.The cruel majority celebrate their birthday.Hail to the cruel majority again!The cruel majority weep for their unborn children,they weep for the children that they will never bear.The cruel majority are overwhelmed by sorrow.(Then why are the cruel majority always laughing?Is it because night has covered up the city's walls?Because the poor lie hidden in the darkness?The maimed no longer come to show their wounds?)Today the cruel majority vote to enlarge the darkness.They vote for shadows to take the place of pondsWhatever they vote for they can bring to pass.The mountains skip like lambs for the cruel majority.Hail to the cruel majority!Hail! hail! to the cruel majority!The mountains skip like lambs, the hills like rams.The cruel majority tear up the earth for the cruel majority.Then the cruel majority line up to be buried.Those who love death will love the cruel majority.Those who know themselves will know the fearthe cruel majority feel when they look in the mirror.The cruel majority order the poor to stay poor.They order the sun to shine only on weekdays.The god of the cruel majority is hanging from a tree.Their god's voice is the tree screaming as it bends.The tree's voice is as quick as lightning as it streaks across the sky.(If the cruel majority go to sleep inside their shadows,they will wake to find their beds filled up with glass.)Hail to the god of the cruel majority!Hail to the eyes in the head of their screaming god!Hail to his face in the mirror!Hail to their faces as they float around him!Hail to their blood & to his!Hail to the blood of the poor they need to feed them!Hail to their world & their god!Hail & farewell!Hail & farewell!Hail & farewell!",
         "Jerome Rothenberg",
         "Anger"
        ],
        [
         "2",
         "“Do Not Embrace Your Mind’s New Negro Friend”",
         "Do not embrace your mind’s new negro friendOr embarrass the blackballed jew with memberships:There must be years of atonement first, and even thenYou may still be the blundering raconteurWith the wrong story, and they may still be free.If you are with them, if even mind is friend,There will be plenty to do: give the liars lessonsWho have heard no rumors of truth for a long timeBut have whatever they hear on good authority,Whether it concerns Chinese women or the arts.Expose the patrons, some of whose best friendsAre brothers, and who are never now anonymous:What kind of credit do they expect for that,Ask them, or better, ask their protested brothers,The grateful tenants who can’t get their curtsies right.Finally the injured, who think they have no friend,Who have been convinced by the repeated namesThat they are jews or negroes or some dark thing:They must be courted with the lover’s touchAnd as guiltily as if yourself had turned them inward.If you complete this program, you will have friendsFrom all the rich races of your human blood:Meantime, engage in the often friendless struggle.A long war, a pygmy war in ways,But island by island we must go across.",
         "William Meredith",
         "Anger"
        ],
        [
         "3",
         "The Greatest Love",
         "She is sixty. She livesthe greatest love of her life.She walks arm-in-arm with her dear one,   her hair streams in the wind.Her dear one says:“You have hair like pearls.”Her children say:   “Old fool.”",
         "Anna Swir",
         "Love"
        ],
        [
         "4",
         "Bilingual/Bilingüe",
         "My father liked them separate, one there,one here (allá y aquí), as if awarethat words might cut in two his daughter’s heart(el corazón) and lock the alien partto what he was—his memory, his name(su nombre)—with a key he could not claim.“English outside this door, Spanish inside,”he said, “y basta.” But who can dividethe world, the word (mundo y palabra) fromany child? I knew how to be dumband stubborn (testaruda); late, in bed,I hoarded secret syllables I readuntil my tongue (mi lengua) learned to runwhere his stumbled. And still the heart was one.I like to think he knew that, even when,proud (orgulloso) of his daughter’s pen,he stood outside mis versos, half in fearof words he loved but wanted not to hear.",
         "Rhina P. Espaillat",
         "Anger"
        ]
       ],
       "shape": {
        "columns": 4,
        "rows": 5
       }
      },
      "text/html": [
       "<div>\n",
       "<style scoped>\n",
       "    .dataframe tbody tr th:only-of-type {\n",
       "        vertical-align: middle;\n",
       "    }\n",
       "\n",
       "    .dataframe tbody tr th {\n",
       "        vertical-align: top;\n",
       "    }\n",
       "\n",
       "    .dataframe thead th {\n",
       "        text-align: right;\n",
       "    }\n",
       "</style>\n",
       "<table border=\"1\" class=\"dataframe\">\n",
       "  <thead>\n",
       "    <tr style=\"text-align: right;\">\n",
       "      <th></th>\n",
       "      <th>Title</th>\n",
       "      <th>Poem</th>\n",
       "      <th>Poet</th>\n",
       "      <th>Genre</th>\n",
       "    </tr>\n",
       "  </thead>\n",
       "  <tbody>\n",
       "    <tr>\n",
       "      <th>0</th>\n",
       "      <td>Search</td>\n",
       "      <td>Wandered tonight through a cityas ruined as a ...</td>\n",
       "      <td>Hester Knibbe</td>\n",
       "      <td>Fear</td>\n",
       "    </tr>\n",
       "    <tr>\n",
       "      <th>1</th>\n",
       "      <td>A Poem for the Cruel Majority</td>\n",
       "      <td>The cruel majority emerges!Hail to the cruel m...</td>\n",
       "      <td>Jerome Rothenberg</td>\n",
       "      <td>Anger</td>\n",
       "    </tr>\n",
       "    <tr>\n",
       "      <th>2</th>\n",
       "      <td>“Do Not Embrace Your Mind’s New Negro Friend”</td>\n",
       "      <td>Do not embrace your mind’s new negro friendOr ...</td>\n",
       "      <td>William Meredith</td>\n",
       "      <td>Anger</td>\n",
       "    </tr>\n",
       "    <tr>\n",
       "      <th>3</th>\n",
       "      <td>The Greatest Love</td>\n",
       "      <td>She is sixty. She livesthe greatest love of he...</td>\n",
       "      <td>Anna Swir</td>\n",
       "      <td>Love</td>\n",
       "    </tr>\n",
       "    <tr>\n",
       "      <th>4</th>\n",
       "      <td>Bilingual/Bilingüe</td>\n",
       "      <td>My father liked them separate, one there,one h...</td>\n",
       "      <td>Rhina P. Espaillat</td>\n",
       "      <td>Anger</td>\n",
       "    </tr>\n",
       "  </tbody>\n",
       "</table>\n",
       "</div>"
      ],
      "text/plain": [
       "                                           Title  \\\n",
       "0                                         Search   \n",
       "1                  A Poem for the Cruel Majority   \n",
       "2  “Do Not Embrace Your Mind’s New Negro Friend”   \n",
       "3                              The Greatest Love   \n",
       "4                             Bilingual/Bilingüe   \n",
       "\n",
       "                                                Poem                Poet  \\\n",
       "0  Wandered tonight through a cityas ruined as a ...       Hester Knibbe   \n",
       "1  The cruel majority emerges!Hail to the cruel m...   Jerome Rothenberg   \n",
       "2  Do not embrace your mind’s new negro friendOr ...    William Meredith   \n",
       "3  She is sixty. She livesthe greatest love of he...           Anna Swir   \n",
       "4  My father liked them separate, one there,one h...  Rhina P. Espaillat   \n",
       "\n",
       "   Genre  \n",
       "0   Fear  \n",
       "1  Anger  \n",
       "2  Anger  \n",
       "3   Love  \n",
       "4  Anger  "
      ]
     },
     "execution_count": 44,
     "metadata": {},
     "output_type": "execute_result"
    }
   ],
   "source": [
    "df =pd.read_csv('PoemDataset.csv')\n",
    "df.head()"
   ]
  },
  {
   "cell_type": "code",
   "execution_count": 45,
   "id": "d033dada",
   "metadata": {},
   "outputs": [
    {
     "data": {
      "application/vnd.microsoft.datawrangler.viewer.v0+json": {
       "columns": [
        {
         "name": "index",
         "rawType": "int64",
         "type": "integer"
        },
        {
         "name": "Title",
         "rawType": "object",
         "type": "string"
        },
        {
         "name": "Poem",
         "rawType": "object",
         "type": "string"
        },
        {
         "name": "Genre",
         "rawType": "object",
         "type": "string"
        }
       ],
       "conversionMethod": "pd.DataFrame",
       "ref": "bdd6b49f-26ae-4085-8483-6624360ca454",
       "rows": [
        [
         "0",
         "Search",
         "Wandered tonight through a cityas ruined as a body with brokenribs and a bared heart. Looked for you there with cookies in my pocket, searched for a sigh, for movement in demolished streets and alleys. Tonightsince I’d forgotten for a moment where you are,I searched for you with hope in my bones.But no matter how I lured you with my voiceand my eyes, walls of debris grew up steadily around you, cellars seemedto creep around you. I remained alonewith those cookies in my pocketand kept calling and walking.",
         "Fear"
        ],
        [
         "1",
         "A Poem for the Cruel Majority",
         "The cruel majority emerges!Hail to the cruel majority!They will punish the poor for being poor.They will punish the dead for having died.Nothing can make the dark turn into lightfor the cruel majority.Nothing can make them feel hunger or terror.If the cruel majority would only cup their earsthe sea would wash over them.The sea would help them forget their wayward children.It would weave a lullaby for young & old.(See the cruel majority with hands cupped to their ears,one foot is in the water, one foot is on the clouds.)One man of them is large enough to hold a cloudbetween his thumb & middle finger,to squeeze a drop of sweat from it before he sleeps.He is a little god but not a poet.(See how his body heaves.)The cruel majority love crowds & picnics.The cruel majority fill up their parks with little flags.The cruel majority celebrate their birthday.Hail to the cruel majority again!The cruel majority weep for their unborn children,they weep for the children that they will never bear.The cruel majority are overwhelmed by sorrow.(Then why are the cruel majority always laughing?Is it because night has covered up the city's walls?Because the poor lie hidden in the darkness?The maimed no longer come to show their wounds?)Today the cruel majority vote to enlarge the darkness.They vote for shadows to take the place of pondsWhatever they vote for they can bring to pass.The mountains skip like lambs for the cruel majority.Hail to the cruel majority!Hail! hail! to the cruel majority!The mountains skip like lambs, the hills like rams.The cruel majority tear up the earth for the cruel majority.Then the cruel majority line up to be buried.Those who love death will love the cruel majority.Those who know themselves will know the fearthe cruel majority feel when they look in the mirror.The cruel majority order the poor to stay poor.They order the sun to shine only on weekdays.The god of the cruel majority is hanging from a tree.Their god's voice is the tree screaming as it bends.The tree's voice is as quick as lightning as it streaks across the sky.(If the cruel majority go to sleep inside their shadows,they will wake to find their beds filled up with glass.)Hail to the god of the cruel majority!Hail to the eyes in the head of their screaming god!Hail to his face in the mirror!Hail to their faces as they float around him!Hail to their blood & to his!Hail to the blood of the poor they need to feed them!Hail to their world & their god!Hail & farewell!Hail & farewell!Hail & farewell!",
         "Anger"
        ],
        [
         "2",
         "“Do Not Embrace Your Mind’s New Negro Friend”",
         "Do not embrace your mind’s new negro friendOr embarrass the blackballed jew with memberships:There must be years of atonement first, and even thenYou may still be the blundering raconteurWith the wrong story, and they may still be free.If you are with them, if even mind is friend,There will be plenty to do: give the liars lessonsWho have heard no rumors of truth for a long timeBut have whatever they hear on good authority,Whether it concerns Chinese women or the arts.Expose the patrons, some of whose best friendsAre brothers, and who are never now anonymous:What kind of credit do they expect for that,Ask them, or better, ask their protested brothers,The grateful tenants who can’t get their curtsies right.Finally the injured, who think they have no friend,Who have been convinced by the repeated namesThat they are jews or negroes or some dark thing:They must be courted with the lover’s touchAnd as guiltily as if yourself had turned them inward.If you complete this program, you will have friendsFrom all the rich races of your human blood:Meantime, engage in the often friendless struggle.A long war, a pygmy war in ways,But island by island we must go across.",
         "Anger"
        ],
        [
         "3",
         "The Greatest Love",
         "She is sixty. She livesthe greatest love of her life.She walks arm-in-arm with her dear one,   her hair streams in the wind.Her dear one says:“You have hair like pearls.”Her children say:   “Old fool.”",
         "Love"
        ],
        [
         "4",
         "Bilingual/Bilingüe",
         "My father liked them separate, one there,one here (allá y aquí), as if awarethat words might cut in two his daughter’s heart(el corazón) and lock the alien partto what he was—his memory, his name(su nombre)—with a key he could not claim.“English outside this door, Spanish inside,”he said, “y basta.” But who can dividethe world, the word (mundo y palabra) fromany child? I knew how to be dumband stubborn (testaruda); late, in bed,I hoarded secret syllables I readuntil my tongue (mi lengua) learned to runwhere his stumbled. And still the heart was one.I like to think he knew that, even when,proud (orgulloso) of his daughter’s pen,he stood outside mis versos, half in fearof words he loved but wanted not to hear.",
         "Anger"
        ],
        [
         "5",
         "The War Films",
         "O living pictures of the dead, O songs without a sound, O fellowship whose phantom tread Hallows a phantom ground— How in a gleam have these revealed The faith we had not found.   We have sought God in a cloudy Heaven, We have passed by God on earth: His seven sins and his sorrows seven, His wayworn mood and mirth, Like a ragged cloak have hid from us The secret of his birth.   Brother of men, when now I see The lads go forth in line, Thou knowest my heart is hungry in me As for thy bread and wine; Thou knowest my heart is bowed in me To take their death for mine.",
         "Fear"
        ],
        [
         "6",
         "Of the Education of Children",
         "I was planted, a cropnot a boy but with headlong technique, everything in me tellingto be coursed through with water and emptiness                                                          ★The blank was worth tendinga matter of tight, small discretionsseparating from youth like a beeIt's just silenceI've been talking aboutInto hills I tried things I was made ofWhat was not in my memory, not mathyet patched all togetherI required this armor\"wrestling with old champions body against body\"                                                                                                                  ★Scribbling down the solution\"by little light attacks\"A life is at odds and we solve ita shadow itself\"Understanding makes profit of everything—arranges, acts, and            reigns,\"gives knowledge out in a swanVirtue wasn't a mountain, not a fieldor was it me brooding                                                         ★\"Too ill to instruct others,\"this awareness of slow moving and ditchof the past of the subjectA few lumps on the ground like a book\"Mixing with men is wonderfully useful\"but hard practice                                                                                                             ★\"For our boy, a closet, a garden, the table and bed, solitude,company, morning and evening, all hours will be the same, allplaces will be his study\"                                                         ★He's in philosophy, and mingledlet him forgive itI have been happy in roomsGambling with pocket, with babble\"he will not say his lesson as do it\"and the unit is character,\"repeated in actions\"                                                        ★Rising to beg and confoundingI hear it now, in our ears",
         "Sadness"
        ],
        [
         "7",
         "from America, America",
         "God save America,               My home, sweet home!",
         "Joy"
        ],
        [
         "8",
         "Poisonous Plants of America",
         "April foolBear's-footBog-onionDevil's-appleDog parsleyDoll's-eyesFairy hellsFlying saucersFour o'clockGagweedGoosefootHare's-earIndian beansInkweedJacob's-coatLady's-thumbLion's-beardLocoweedMonkey-fiddleMoonseedMother-in-lawPuncture-vineNaked ladyQuaker-bonnetsRabbit-bushSmartweedSneezeweedSnakegrassStinking WillieSundialsSwallow-wortWahooWart-cressWitches' thimblesWolfsbaneWonder berry",
         "Fear"
        ],
        [
         "9",
         "Morte d'Arthur",
         "So all day long the noise of battle roll'd Among the mountains by the winter sea; Until King Arthur's table, man by man, Had fallen in Lyonnesse about their Lord, King Arthur: then, because his wound was deep, The bold Sir Bedivere uplifted him, Sir Bedivere, the last of all his knights, And bore him to a chapel nigh the field, A broken chancel with a broken cross, That stood on a dark strait of barren land. On one side lay the ocean, and on one Lay a great water, and the moon was full.          Then spake King Arthur to Sir Bedivere: \"The sequel of to-day unsolders all The goodliest fellowship of famous knights Whereof this world holds record. Such a sleep They sleep—the men I loved. I think that we Shall never more, at any future time, Delight our souls with talk of knightly deeds, Walking about the gardens and the halls Of Camelot, as in the days that were. I perish by this people which I made,— Tho' Merlin sware that I should come again To rule once more—but let what will be, be, I am so deeply smitten thro' the helm That without help I cannot last till morn. Thou therefore take my brand Excalibur, Which was my pride: for thou rememberest how In those old days, one summer noon, an arm Rose up from out the bosom of the lake, Clothed in white samite, mystic, wonderful, Holding the sword—and how I row'd across And took it, and have worn it, like a king: And, wheresoever I am sung or told In aftertime, this also shall be known: But now delay not: take Excalibur, And fling him far into the middle mere: Watch what thou seëst, and lightly bring me word.\"          To him replied the bold Sir Bedivere: \"It is not meet, Sir King, to leave thee thus, Aidless, alone, and smitten thro' the helm. A little thing may harm a wounded man. Yet I thy hest will all perform at full, Watch what I see, and lightly bring thee word.\"          So saying, from the ruin'd shrine he stept And in the moon athwart the place of tombs, Where lay the mighty bones of ancient men, Old knights, and over them the sea-wind sang Shrill, chill, with flakes of foam. He, stepping down By zigzag paths, and juts of pointed rock, Came on the shining levels of the lake.          There drew he forth the brand Excalibur, And o'er him, drawing it, the winter moon, Brightening the skirts of a long cloud, ran forth And sparkled keen with frost against the hilt: For all the haft twinkled with diamond sparks, Myriads of topaz-lights, and jacinth work Of subtlest jewellery. He gazed so long That both his eyes were dazzled, as he stood, This way and that dividing the swift mind, In act to throw: but at the last it seem'd Better to leave Excalibur conceal'd There in the many-knotted water-flags, That whistled stiff and dry about the marge. So strode he back slow to the wounded King.          Then spake King Arthur to Sir Bedivere: \"Hast thou perform'd my mission which I gave? What is it thou hast seen, or what hast heard?\"          And answer made the bold Sir Bedivere: \"I heard the ripple washing in the reeds, And the wild water lapping on the crag.\"          To whom replied King Arthur, faint and pale: \"Thou hast betray'd thy nature and thy name, Not rendering true answer, as beseem'd Thy fealty, nor like a noble knight: For surer sign had follow'd, either hand, Or voice, or else a motion of the mere. This is a shameful thing for men to lie. Yet now, I charge thee, quickly go again As thou art lief and dear, and do the thing I bade thee, watch, and lightly bring me word.\"          Then went Sir Bedivere the second time Across the ridge, and paced beside the mere, Counting the dewy pebbles, fixed in thought; But when he saw the wonder of the hilt, How curiously and strangely chased, he smote His palms together, and he cried aloud,          \"And if indeed I cast the brand away, Surely a precious thing, one worthy note, Should thus be lost forever from the earth, Which might have pleased the eyes of many men. What good should follow this, if this were done? What harm, undone? deep harm to disobey, Seeing obedience is the bond of rule. Were it well to obey then, if a king demand An act unprofitable, against himself? The King is sick, and knows not what he does. What record, or what relic of my lord Should be to aftertime, but empty breath And rumours of a doubt? but were this kept, Stored in some treasure-house of mighty kings, Some one might show it at a joust of arms, Saying, 'King Arthur's sword, Excalibur, Wrought by the lonely maiden of the Lake; Nine years she wrought it, sitting in the deeps Upon the hidden bases of the hills.' So might some old man speak in the aftertime To all the people, winning reverence. But now much honour and much fame were lost.\"          So spake he, clouded with his own conceit, And hid Excalibur the second time, And so strode back slow to the wounded King.          Then spoke King Arthur, breathing heavily: \"What is it thou hast seen, or what hast heard?\"          And answer made the bold Sir Bedivere: \"I heard the water lapping on the crag, And the long ripple washing in the reeds.\"          To whom replied King Arthur, much in wrath: \"Ah, miserable and unkind, untrue, Unknightly, traitor-hearted! Woe is me! Authority forgets a dying king, Laid widow'd of the power in his eye That bow'd the will. I see thee what thou art, For thou, the latest-left of all my knights, In whom should meet the offices of all, Thou wouldst betray me for the precious hilt; Either from lust of gold, or like a girl Valuing the giddy pleasure of the eyes. Yet, for a man may fail in duty twice, And the third time may prosper, get thee hence: But, if thou spare to fling Excalibur, I will arise and slay thee with my hands.\"          Then quickly rose Sir Bedivere, and ran, And, leaping down the ridges lightly, plunged Among the bulrush-beds, and clutch'd the sword, And strongly wheel'd and threw it. The great brand Made lightnings in the splendour of the moon, And flashing round and round, and whirl'd in an arch, Shot like a streamer of the northern morn, Seen where the moving isles of winter shock By night, with noises of the northern sea. So flash'd and fell the brand Excalibur: But ere he dipt the surface, rose an arm Clothed in white samite, mystic, wonderful, And caught him by the hilt, and brandish'd him Three times, and drew him under in the mere. And lightly went the other to the King.          Then spoke King Arthur, drawing thicker breath: \"Now see I by thine eyes that this is done. Speak out: what is it thou hast heard, or seen?\"          And answer made the bold Sir Bedivere: \"Sir King, I closed mine eyelids, lest the gems Should blind my purpose, for I never saw, Nor shall see, here or elsewhere, till I die, Not tho' I live three lives of mortal men, So great a miracle as yonder hilt. Then with both hands I flung him, wheeling him; But when I look'd again, behold an arm, Clothed in white samite, mystic, wonderful, That caught him by the hilt, and brandish'd him Three times, and drew him under in the mere.\"          And answer made King Arthur, breathing hard: \"My end draws nigh; 't is time that I were gone. Make broad thy shoulders to receive my weight, And bear me to the margin; yet I fear My wound hath taken cold, and I shall die.\"          So saying, from the pavement he half rose, Slowly, with pain, reclining on his arm, And looking wistfully with wide blue eyes As in a picture. Him Sir Bedivere Remorsefully regarded thro' his tears, And would have spoken, but he found not words, Then took with care, and kneeling on one knee, O'er both his shoulders drew the languid hands, And rising bore him thro' the place of tombs.          But, as he walk'd, King Arthur panted hard, Like one that feels a nightmare on his bed When all the house is mute. So sigh'd the King Muttering and murmuring at his ear, \"Quick, quick! I fear it is too late, and I shall die.\" But the other swiftly strode from ridge to ridge, Clothed with his breath, and looking, as he walk'd Larger than human on the frozen hills. He heard the deep behind him, and a cry Before. His own thought drove him like a goad. Dry clash'd his harness in the icy caves And barren chasms, and all to left and right The bare black cliff clang'd round him, as he based His feet on juts of slippery crag that rang Sharp-smitten with the dint of armed heels— And on a sudden, lo! the level lake, And the long glories of the winter moon.          Then saw they how there hove a dusky barge Dark as a funeral scarf from stem to stern, Beneath them; and descending they were ware That all the decks were dense with stately forms Black-stoled, black-hooded, like a dream—by these Three Queens with crowns of gold—and from them rose A cry that shiver'd to the tingling stars, And, as it were one voice, an agony Of lamentation, like a wind, that shrills All night in a waste land, where no one comes, Or hath come, since the making of the world.          Then murmur'd Arthur, \"Place me in the barge,\" And to the barge they came. There those three Queens Put forth their hands, and took the King, and wept. But she that rose the tallest of them all And fairest, laid his head upon her lap, And loosed the shatter'd casque, and chafed his hands, And call'd him by his name, complaining loud And dropping bitter tears against his brow Striped with dark blood: for all his face was white And colourless, and like the wither'd moon Smote by the fresh beam of the springing east; And all his greaves and cuisses dash'd with drops Of onset; and the light and lustrous curls— That made his forehead like a rising sun High from the daïs-throne—were parch'd with dust; Or, clotted into points and hanging loose, Mix'd with the knightly growth that fringed his lips. So like a shatter'd column lay the King; Not like that Arthur who, with lance in rest, From spur to plume a star of tournament, Shot thro' the lists at Camelot, and charged Before the eyes of ladies and of kings.          Then loudly cried the bold Sir Bedivere: \"Ah! my Lord Arthur, whither shall I go? Where shall I hide my forehead and my eyes? For now I see the true old times are dead, When every morning brought a noble chance, And every chance brought out a noble knight. Such times have been not since the light that led The holy Elders with the gift of myrrh. But now the whole ROUND TABLE is dissolved Which was an image of the mighty world; And I, the last, go forth companionless, And the days darken round me, and the years, Among new men, strange faces, other minds.\"          And slowly answer'd Arthur from the barge: \"The old order changeth, yielding place to new, And God fulfils Himself in many ways, Lest one good custom should corrupt the world. Comfort thyself: what comfort is in me? I have lived my life, and that which I have done May He within Himself make pure! but thou, If thou shouldst never see my face again, Pray for my soul. More things are wrought by prayer Than this world dreams of. Wherefore, let thy voice Rise like a fountain for me night and day. For what are men better than sheep or goats That nourish a blind life within the brain, If, knowing God, they lift not hands of prayer Both for themselves and those who call them friend? For so the whole round earth is every way Bound by gold chains about the feet of God. But now farewell. I am going a long way With these thou seëst—if indeed I go— (For all my mind is clouded with a doubt) To the island-valley of Avilion; Where falls not hail, or rain, or any snow, Nor ever wind blows loudly; but it lies Deep-meadow'd, happy, fair with orchard-lawns And bowery hollows crown'd with summer sea, Where I will heal me of my grievous wound.\"          So said he, and the barge with oar and sail Moved from the brink, like some full-breasted swan That, fluting a wild carol ere her death, Ruffles her pure cold plume, and takes the flood With swarthy webs. Long stood Sir Bedivere Revolving many memories, till the hull Look'd one black dot against the verge of dawn, And on the mere the wailing died away.",
         "Fear"
        ],
        [
         "10",
         "The Summer Bower",
         "It is a place whither I’ve often goneFor peace, and found it, secret, hushed, and cool, A beautiful recess in neighboring woods. Trees of the soberest hues, thick-leaved and tall, Arch it o’erhead and column it around, Framing a covert, natural and wild,Domelike and dim; though nowhere so enclosed But that the gentlest breezes reach the spot Unwearied and unweakened. Sound is here A transient and unfrequent visitor;Yet if the day be calm, not often then, Whilst the high pines in one another’s arms Sleep, you may sometimes with unstartled ear Catch the far fall of voices, how remote You know not, and you do not care to know. The turf is soft and green, but not a flower Lights the recess, save one, star-shaped and bright—I do not know its name—which here and there Gleams like a sapphire set in emerald.A narrow opening in the branched roof,A single one, is large enough to show,With that half-glimpse a dreamer loves so much, The blue air and the blessing of the sky.Thither I always bent my idle steps,When griefs depressed, or joys disturbed my heart, And found the calm I looked for, or returned Strong with the quite rapture in my soul.                                         But one day,One of those July days when winds have fled One knows not whither, I, most sick in mind With thoughts that shall be nameless, yet, no doubt, Wrong, or at least unhealthful, since though dark With gloom, and touched with discontent, they had No adequate excuse, nor cause, nor end,I, with these thoughts, and on this summer day, Entered the accustomed haunt, and found for once No medicinal virtue.                    Not a leafStirred with the whispering welcome which I sought, But in a close and humid atmosphere,Every fair plant and implicated boughHung lax and lifeless. Something in the place, Its utter stillness, the unusual heat,And some more secret influence, I thought, Weighed on the sense like sin. Above I saw, Though not a cloud was visible in heaven,The palid sky look through a glazed mistLike a blue eye in death.                         The change, perhaps, Was natural enough; my jaundiced sight,The weather, and the time explain it all:Yet have I drawn a lesson from the spot,And shrined it in these verses for my heart. Thenceforth those tranquil precincts I have sought Not less, and in all shades of various moods; But always shun to desecrate the spotBy weak repinings, sickly sentiments,Or inconclusive sorrows. Nature, thoughPure as she was in Eden when her breathKissed the white brow of Eve, doth not refuse,In her own way and with a just reserve, To sympathize with human suffering; But for the pains, the fever, and the fret Engendered of a weak, unquiet heart,She hath no solace; and who seeks her when These be the troubles over which he moans, Reads in her unreplying lineaments Rebukes, that, to the guilty consciousness, Strike like contempt.",
         "Joy"
        ],
        [
         "11",
         "A Carafe, that is a Blind Glass",
         "A kind in glass and a cousin, a spectacle and nothing strange a single hurt color and an arrangement in a system to pointing. All this and not ordinary, not unordered in not resembling. The difference is spreading.",
         "Surprise"
        ],
        [
         "12",
         "Mutter",
         "There is a brand of play called mutenessBeneath the play yard’s interlacing branches. It appeals to children born Entre deux guerres, whose specialty it is.    It is mutiny; that is, a tongue  Of foreign origin ending in grunts.  One such child uses his tongueOn a frozen fence for the embrace of it For the mutating appendage makes of speech A combat; an internment. There is a brand of child assisted to the play yardBy his keeper fussing with his zipper.   Yes, it is cold in the high hemisphereAnd nothing will be the death of him As he sets hard sweets on his tongue He neither chews nor swallows.  Such children can never swing too freely  From the elm’s loping barkless arm.  It is mutual. There is smoke on the air, tarry,  Commuting the industry on high As the children simmer withinTheir word-cloud.  And someone or something is calling them homeA familiar voice, if they have one.",
         "Anger"
        ],
        [
         "13",
         "Eating Together",
         "I know my friend is going,though she still sits thereacross from me in the restaurant,   and leans over the table to dipher bread in the oil on my plate; I know   how thick her hair used to be,   and what it takes for her to discardher man’s cap partway through our meal,   to look straight at the young waiter   and smile when he askshow we are liking it. She eatsas though starving—chicken, dolmata,   the buttery flakes of filo—and what’s killing hereats, too. I watch her lifta glistening black olive and peel   the meat from the pit, watchher fine long fingers, and her face,   puffy from medication. She lowers   her eyes to the food, pretendingnot to know what I know. She’s going.   And we go on eating.",
         "Joy"
        ],
        [
         "14",
         "Ghazal for Becoming Your Own Country",
         "After Rachel Eliza Griffiths’s “Self Stones Country” photographsKnow what the almost-gone dandelion knows. Piece by pieceThe body prayers home. Its whole head a veil, a wind-blown bride.When all the mothers gone, frame the portraits. Wood spoon overBoiling pot, test the milk on your own wrist. You soil, sand, and mud grown bride.If you miss your stop. Or lose love. If even the medicine hurts too.Even when your side-eye, your face stank, still, your heart moans bride.Fuck the fog back off the mirror. Trust the road in your name. RideYour moon hide through the pitch black. Gotsta be your own bride.Burn the honey. Write the letters. What address could hold you?Nectar arms, nectar hands. Old tire sound against the gravel. Baritone bride.Goodest grief is an orchard you know. But you have not been killedOnce. Angel, put that on everything. Self. Country. Stone. Bride.",
         "Fear"
        ],
        [
         "15",
         "Sather Tower Mystery",
         "Seems there was this Professora member of what should be calledThe Good German DepartmentMust have signed his name to5,000 petitions in front ofthe Co-Op on Cedarand bought two tons of benefitcookiesBlames Texas for the sorrystate of the oceansRode a Greyhound bus “CivilRights,” Alabama, 1960Found the long yellow war“deplorable”Believes John “Duke” Wayne’svalues to be inferior to hisHe said, “Ishmael, I’dlove to do the right thingfor as you know I’m all forthe right thing and againstthe wrong thing, butthese plaster of paris bustsof deceased EuropeansOur secret waysOur sacred fears\"These books, leather-bound 'copyright 1789’All of these things, preciousto me, gleaming like thestainless steel coffee urn inthe faculty club, an originalMaybeck, 1902“I’d stand up for Camelotby golly, even if it meantshooting all the infidels inthe world,” he saidreaching into his desk drawer“Why, I might even have toshoot you, Ishmael”Staring down the coldtunnel of a hard .38I thoughtMost people are to the rightwhen it comes to where they musteat and lay their heads!",
         "Anger"
        ],
        [
         "16",
         "Meditation",
         "after BaudelaireQuiet now, sorrow; relax. Calm down, fear ...You wanted the night? It’s falling, here,Like a black glove onto the city,Giving a few some peace ... but not me.I think, well, almost everyone I knowLoves to be whipped by pleasure—right, Killer?—As they stroll the boardwalk, parading their despair.So why don’t you come too? But instead, with me,Away from all these tattered ghosts leaning offThe sky’s balcony like last year’s lovers;We’ll watch everything we regret step from the seaDripping ... while the dead sun drags its arcTowards China. Shroud of my heart, listen. Listen—How softly the night steps toward us.",
         "Anger"
        ],
        [
         "17",
         "Spring and All: XIX [This is the time of year]",
         "This is the time of yearwhen boys fifteen and seventeenwear two horned lilac blossomsin their caps — or over one ear What is it that does this ? It is a certain sort —drivers for grocers or taxidriverswhite and colored — fellows that let their hair grow longin a curve over one eye —  Horned purple Dirty satyrs, it isvulgarity raised to the last power They have stolen thembroken the bushes apartwith a curse for the owner —  Lilacs —  They stand in the doorwayson the business streets with a sneeron their faces adorned with blossoms Out of their sweet headsdark kisses — rough faces",
         "Anger"
        ],
        [
         "18",
         "On English Monsieur",
         "Would you believe, when you this monsieur see, That his whole body should speak French, not he? That so much scarf of France, and hat, and feather, And shoe, and tie, and garter should come hether, And land on one whose face durst never be Toward the sea farther than Half-Way Tree? That he, untraveled, should be French so much As Frenchmen in his company should seem Dutch? Or had his father, when he did him get, The French disease, with which he labors yet? Or hung some monsieur’s picture on the wall, By which his dam conceived him, clothes and all? Or is it some French statue? No: ’T doth move, And stoop, and cringe. O then, it needs must prove The new French tailor’s motion, monthly made, Daily to turn in Paul’s, and help the trade.",
         "Fear"
        ],
        [
         "19",
         "The Young Blake",
         "sleeps into heaven with his lamps on, finishing explan-atory negotiations for a while. Desert the enemy. Starformations, sandstone understanding, rock time in gen-eral, whatever. Latching onto ecstasy, words that changeon waking, clover as a syrup of spring mind. Workingoff a deficit of sleep or cash, you know who your friendsare. Singled out in traffic, lurching into light, havinglunch. You’re a little one with sand in your eyes, withgreen on your horn, with milk on your chin. With flow-ering ears and hearsay.",
         "Surprise"
        ]
       ],
       "shape": {
        "columns": 3,
        "rows": 20
       }
      },
      "text/html": [
       "<div>\n",
       "<style scoped>\n",
       "    .dataframe tbody tr th:only-of-type {\n",
       "        vertical-align: middle;\n",
       "    }\n",
       "\n",
       "    .dataframe tbody tr th {\n",
       "        vertical-align: top;\n",
       "    }\n",
       "\n",
       "    .dataframe thead th {\n",
       "        text-align: right;\n",
       "    }\n",
       "</style>\n",
       "<table border=\"1\" class=\"dataframe\">\n",
       "  <thead>\n",
       "    <tr style=\"text-align: right;\">\n",
       "      <th></th>\n",
       "      <th>Title</th>\n",
       "      <th>Poem</th>\n",
       "      <th>Genre</th>\n",
       "    </tr>\n",
       "  </thead>\n",
       "  <tbody>\n",
       "    <tr>\n",
       "      <th>0</th>\n",
       "      <td>Search</td>\n",
       "      <td>Wandered tonight through a cityas ruined as a ...</td>\n",
       "      <td>Fear</td>\n",
       "    </tr>\n",
       "    <tr>\n",
       "      <th>1</th>\n",
       "      <td>A Poem for the Cruel Majority</td>\n",
       "      <td>The cruel majority emerges!Hail to the cruel m...</td>\n",
       "      <td>Anger</td>\n",
       "    </tr>\n",
       "    <tr>\n",
       "      <th>2</th>\n",
       "      <td>“Do Not Embrace Your Mind’s New Negro Friend”</td>\n",
       "      <td>Do not embrace your mind’s new negro friendOr ...</td>\n",
       "      <td>Anger</td>\n",
       "    </tr>\n",
       "    <tr>\n",
       "      <th>3</th>\n",
       "      <td>The Greatest Love</td>\n",
       "      <td>She is sixty. She livesthe greatest love of he...</td>\n",
       "      <td>Love</td>\n",
       "    </tr>\n",
       "    <tr>\n",
       "      <th>4</th>\n",
       "      <td>Bilingual/Bilingüe</td>\n",
       "      <td>My father liked them separate, one there,one h...</td>\n",
       "      <td>Anger</td>\n",
       "    </tr>\n",
       "    <tr>\n",
       "      <th>5</th>\n",
       "      <td>The War Films</td>\n",
       "      <td>O living pictures of the dead, O songs without...</td>\n",
       "      <td>Fear</td>\n",
       "    </tr>\n",
       "    <tr>\n",
       "      <th>6</th>\n",
       "      <td>Of the Education of Children</td>\n",
       "      <td>I was planted, a cropnot a boy but with headlo...</td>\n",
       "      <td>Sadness</td>\n",
       "    </tr>\n",
       "    <tr>\n",
       "      <th>7</th>\n",
       "      <td>from America, America</td>\n",
       "      <td>God save America,               My home, sweet...</td>\n",
       "      <td>Joy</td>\n",
       "    </tr>\n",
       "    <tr>\n",
       "      <th>8</th>\n",
       "      <td>Poisonous Plants of America</td>\n",
       "      <td>April foolBear's-footBog-onionDevil's-appleDog...</td>\n",
       "      <td>Fear</td>\n",
       "    </tr>\n",
       "    <tr>\n",
       "      <th>9</th>\n",
       "      <td>Morte d'Arthur</td>\n",
       "      <td>So all day long the noise of battle roll'd Amo...</td>\n",
       "      <td>Fear</td>\n",
       "    </tr>\n",
       "    <tr>\n",
       "      <th>10</th>\n",
       "      <td>The Summer Bower</td>\n",
       "      <td>It is a place whither I’ve often goneFor peace...</td>\n",
       "      <td>Joy</td>\n",
       "    </tr>\n",
       "    <tr>\n",
       "      <th>11</th>\n",
       "      <td>A Carafe, that is a Blind Glass</td>\n",
       "      <td>A kind in glass and a cousin, a spectacle and ...</td>\n",
       "      <td>Surprise</td>\n",
       "    </tr>\n",
       "    <tr>\n",
       "      <th>12</th>\n",
       "      <td>Mutter</td>\n",
       "      <td>There is a brand of play called mutenessBeneat...</td>\n",
       "      <td>Anger</td>\n",
       "    </tr>\n",
       "    <tr>\n",
       "      <th>13</th>\n",
       "      <td>Eating Together</td>\n",
       "      <td>I know my friend is going,though she still sit...</td>\n",
       "      <td>Joy</td>\n",
       "    </tr>\n",
       "    <tr>\n",
       "      <th>14</th>\n",
       "      <td>Ghazal for Becoming Your Own Country</td>\n",
       "      <td>After Rachel Eliza Griffiths’s “Self Stones Co...</td>\n",
       "      <td>Fear</td>\n",
       "    </tr>\n",
       "    <tr>\n",
       "      <th>15</th>\n",
       "      <td>Sather Tower Mystery</td>\n",
       "      <td>Seems there was this Professora member of what...</td>\n",
       "      <td>Anger</td>\n",
       "    </tr>\n",
       "    <tr>\n",
       "      <th>16</th>\n",
       "      <td>Meditation</td>\n",
       "      <td>after BaudelaireQuiet now, sorrow; relax. Calm...</td>\n",
       "      <td>Anger</td>\n",
       "    </tr>\n",
       "    <tr>\n",
       "      <th>17</th>\n",
       "      <td>Spring and All: XIX [This is the time of year]</td>\n",
       "      <td>This is the time of yearwhen boys fifteen and ...</td>\n",
       "      <td>Anger</td>\n",
       "    </tr>\n",
       "    <tr>\n",
       "      <th>18</th>\n",
       "      <td>On English Monsieur</td>\n",
       "      <td>Would you believe, when you this monsieur see,...</td>\n",
       "      <td>Fear</td>\n",
       "    </tr>\n",
       "    <tr>\n",
       "      <th>19</th>\n",
       "      <td>The Young Blake</td>\n",
       "      <td>sleeps into heaven with his lamps on, finishin...</td>\n",
       "      <td>Surprise</td>\n",
       "    </tr>\n",
       "  </tbody>\n",
       "</table>\n",
       "</div>"
      ],
      "text/plain": [
       "                                             Title  \\\n",
       "0                                           Search   \n",
       "1                    A Poem for the Cruel Majority   \n",
       "2    “Do Not Embrace Your Mind’s New Negro Friend”   \n",
       "3                                The Greatest Love   \n",
       "4                               Bilingual/Bilingüe   \n",
       "5                                    The War Films   \n",
       "6                     Of the Education of Children   \n",
       "7                            from America, America   \n",
       "8                      Poisonous Plants of America   \n",
       "9                                   Morte d'Arthur   \n",
       "10                                The Summer Bower   \n",
       "11                 A Carafe, that is a Blind Glass   \n",
       "12                                          Mutter   \n",
       "13                                 Eating Together   \n",
       "14            Ghazal for Becoming Your Own Country   \n",
       "15                            Sather Tower Mystery   \n",
       "16                                      Meditation   \n",
       "17  Spring and All: XIX [This is the time of year]   \n",
       "18                             On English Monsieur   \n",
       "19                                 The Young Blake   \n",
       "\n",
       "                                                 Poem     Genre  \n",
       "0   Wandered tonight through a cityas ruined as a ...      Fear  \n",
       "1   The cruel majority emerges!Hail to the cruel m...     Anger  \n",
       "2   Do not embrace your mind’s new negro friendOr ...     Anger  \n",
       "3   She is sixty. She livesthe greatest love of he...      Love  \n",
       "4   My father liked them separate, one there,one h...     Anger  \n",
       "5   O living pictures of the dead, O songs without...      Fear  \n",
       "6   I was planted, a cropnot a boy but with headlo...   Sadness  \n",
       "7   God save America,               My home, sweet...       Joy  \n",
       "8   April foolBear's-footBog-onionDevil's-appleDog...      Fear  \n",
       "9   So all day long the noise of battle roll'd Amo...      Fear  \n",
       "10  It is a place whither I’ve often goneFor peace...       Joy  \n",
       "11  A kind in glass and a cousin, a spectacle and ...  Surprise  \n",
       "12  There is a brand of play called mutenessBeneat...     Anger  \n",
       "13  I know my friend is going,though she still sit...       Joy  \n",
       "14  After Rachel Eliza Griffiths’s “Self Stones Co...      Fear  \n",
       "15  Seems there was this Professora member of what...     Anger  \n",
       "16  after BaudelaireQuiet now, sorrow; relax. Calm...     Anger  \n",
       "17  This is the time of yearwhen boys fifteen and ...     Anger  \n",
       "18  Would you believe, when you this monsieur see,...      Fear  \n",
       "19  sleeps into heaven with his lamps on, finishin...  Surprise  "
      ]
     },
     "execution_count": 45,
     "metadata": {},
     "output_type": "execute_result"
    }
   ],
   "source": [
    "#  Poet is not important to have it in dataset\n",
    "df = df.drop(columns=['Poet'])\n",
    "df.head(20) "
   ]
  },
  {
   "cell_type": "code",
   "execution_count": 46,
   "id": "e0b25c90",
   "metadata": {},
   "outputs": [],
   "source": [
    "# what I can see, in title column.  I will define function to clean the text\n",
    "def clean(text):\n",
    "    if pd.isnull(text):\n",
    "        return ''\n",
    "    # In dataset, there are some chines characters, I will remove them, but  I noticed that in dataset there are non English words as well , which have the same characters as English words.\n",
    "    text = re.sub(r'[^A-Za-z\\s]', '', text)\n",
    "    # Collapse multiple whitespace characters into a single space\n",
    "    text = re.sub(r'\\s+', ' ', text).strip()\n",
    "    return text.lower()\n",
    "   \n",
    " # When I apply the function, I got \"TypeError: 'float' object is not iterable\" that some values are not string\n",
    "# For debugging the error, I used Qwen 2.5,"
   ]
  },
  {
   "cell_type": "code",
   "execution_count": 47,
   "id": "c57f91c0",
   "metadata": {},
   "outputs": [
    {
     "data": {
      "application/vnd.microsoft.datawrangler.viewer.v0+json": {
       "columns": [
        {
         "name": "index",
         "rawType": "int64",
         "type": "integer"
        },
        {
         "name": "Title",
         "rawType": "object",
         "type": "string"
        },
        {
         "name": "Poem",
         "rawType": "object",
         "type": "string"
        },
        {
         "name": "Genre",
         "rawType": "object",
         "type": "string"
        }
       ],
       "conversionMethod": "pd.DataFrame",
       "ref": "62a1d525-a4a4-4fdb-a654-295d0eb45f80",
       "rows": [
        [
         "0",
         "search",
         "wandered tonight through a cityas ruined as a body with brokenribs and a bared heart looked for you there with cookies in my pocket searched for a sigh for movement in demolished streets and alleys tonightsince id forgotten for a moment where you arei searched for you with hope in my bonesbut no matter how i lured you with my voiceand my eyes walls of debris grew up steadily around you cellars seemedto creep around you i remained alonewith those cookies in my pocketand kept calling and walking",
         "Fear"
        ],
        [
         "1",
         "a poem for the cruel majority",
         "the cruel majority emergeshail to the cruel majoritythey will punish the poor for being poorthey will punish the dead for having diednothing can make the dark turn into lightfor the cruel majoritynothing can make them feel hunger or terrorif the cruel majority would only cup their earsthe sea would wash over themthe sea would help them forget their wayward childrenit would weave a lullaby for young oldsee the cruel majority with hands cupped to their earsone foot is in the water one foot is on the cloudsone man of them is large enough to hold a cloudbetween his thumb middle fingerto squeeze a drop of sweat from it before he sleepshe is a little god but not a poetsee how his body heavesthe cruel majority love crowds picnicsthe cruel majority fill up their parks with little flagsthe cruel majority celebrate their birthdayhail to the cruel majority againthe cruel majority weep for their unborn childrenthey weep for the children that they will never bearthe cruel majority are overwhelmed by sorrowthen why are the cruel majority always laughingis it because night has covered up the citys wallsbecause the poor lie hidden in the darknessthe maimed no longer come to show their woundstoday the cruel majority vote to enlarge the darknessthey vote for shadows to take the place of pondswhatever they vote for they can bring to passthe mountains skip like lambs for the cruel majorityhail to the cruel majorityhail hail to the cruel majoritythe mountains skip like lambs the hills like ramsthe cruel majority tear up the earth for the cruel majoritythen the cruel majority line up to be buriedthose who love death will love the cruel majoritythose who know themselves will know the fearthe cruel majority feel when they look in the mirrorthe cruel majority order the poor to stay poorthey order the sun to shine only on weekdaysthe god of the cruel majority is hanging from a treetheir gods voice is the tree screaming as it bendsthe trees voice is as quick as lightning as it streaks across the skyif the cruel majority go to sleep inside their shadowsthey will wake to find their beds filled up with glasshail to the god of the cruel majorityhail to the eyes in the head of their screaming godhail to his face in the mirrorhail to their faces as they float around himhail to their blood to hishail to the blood of the poor they need to feed themhail to their world their godhail farewellhail farewellhail farewell",
         "Anger"
        ],
        [
         "2",
         "do not embrace your minds new negro friend",
         "do not embrace your minds new negro friendor embarrass the blackballed jew with membershipsthere must be years of atonement first and even thenyou may still be the blundering raconteurwith the wrong story and they may still be freeif you are with them if even mind is friendthere will be plenty to do give the liars lessonswho have heard no rumors of truth for a long timebut have whatever they hear on good authoritywhether it concerns chinese women or the artsexpose the patrons some of whose best friendsare brothers and who are never now anonymouswhat kind of credit do they expect for thatask them or better ask their protested brothersthe grateful tenants who cant get their curtsies rightfinally the injured who think they have no friendwho have been convinced by the repeated namesthat they are jews or negroes or some dark thingthey must be courted with the lovers touchand as guiltily as if yourself had turned them inwardif you complete this program you will have friendsfrom all the rich races of your human bloodmeantime engage in the often friendless strugglea long war a pygmy war in waysbut island by island we must go across",
         "Anger"
        ],
        [
         "3",
         "the greatest love",
         "she is sixty she livesthe greatest love of her lifeshe walks arminarm with her dear one her hair streams in the windher dear one saysyou have hair like pearlsher children say old fool",
         "Love"
        ],
        [
         "4",
         "bilingualbilinge",
         "my father liked them separate one thereone here all y aqu as if awarethat words might cut in two his daughters heartel corazn and lock the alien partto what he washis memory his namesu nombrewith a key he could not claimenglish outside this door spanish insidehe said y basta but who can dividethe world the word mundo y palabra fromany child i knew how to be dumband stubborn testaruda late in bedi hoarded secret syllables i readuntil my tongue mi lengua learned to runwhere his stumbled and still the heart was onei like to think he knew that even whenproud orgulloso of his daughters penhe stood outside mis versos half in fearof words he loved but wanted not to hear",
         "Anger"
        ],
        [
         "5",
         "the war films",
         "o living pictures of the dead o songs without a sound o fellowship whose phantom tread hallows a phantom ground how in a gleam have these revealed the faith we had not found we have sought god in a cloudy heaven we have passed by god on earth his seven sins and his sorrows seven his wayworn mood and mirth like a ragged cloak have hid from us the secret of his birth brother of men when now i see the lads go forth in line thou knowest my heart is hungry in me as for thy bread and wine thou knowest my heart is bowed in me to take their death for mine",
         "Fear"
        ],
        [
         "6",
         "of the education of children",
         "i was planted a cropnot a boy but with headlong technique everything in me tellingto be coursed through with water and emptiness the blank was worth tendinga matter of tight small discretionsseparating from youth like a beeits just silenceive been talking aboutinto hills i tried things i was made ofwhat was not in my memory not mathyet patched all togetheri required this armorwrestling with old champions body against body scribbling down the solutionby little light attacksa life is at odds and we solve ita shadow itselfunderstanding makes profit of everythingarranges acts and reignsgives knowledge out in a swanvirtue wasnt a mountain not a fieldor was it me brooding too ill to instruct othersthis awareness of slow moving and ditchof the past of the subjecta few lumps on the ground like a bookmixing with men is wonderfully usefulbut hard practice for our boy a closet a garden the table and bed solitudecompany morning and evening all hours will be the same allplaces will be his study hes in philosophy and mingledlet him forgive iti have been happy in roomsgambling with pocket with babblehe will not say his lesson as do itand the unit is characterrepeated in actions rising to beg and confoundingi hear it now in our ears",
         "Sadness"
        ],
        [
         "7",
         "from america america",
         "god save america my home sweet home",
         "Joy"
        ],
        [
         "8",
         "poisonous plants of america",
         "april foolbearsfootbogoniondevilsappledog parsleydollseyesfairy hellsflying saucersfour oclockgagweedgoosefootharesearindian beansinkweedjacobscoatladysthumblionsbeardlocoweedmonkeyfiddlemoonseedmotherinlawpuncturevinenaked ladyquakerbonnetsrabbitbushsmartweedsneezeweedsnakegrassstinking williesundialsswallowwortwahoowartcresswitches thimbleswolfsbanewonder berry",
         "Fear"
        ],
        [
         "9",
         "morte darthur",
         "so all day long the noise of battle rolld among the mountains by the winter sea until king arthurs table man by man had fallen in lyonnesse about their lord king arthur then because his wound was deep the bold sir bedivere uplifted him sir bedivere the last of all his knights and bore him to a chapel nigh the field a broken chancel with a broken cross that stood on a dark strait of barren land on one side lay the ocean and on one lay a great water and the moon was full then spake king arthur to sir bedivere the sequel of today unsolders all the goodliest fellowship of famous knights whereof this world holds record such a sleep they sleepthe men i loved i think that we shall never more at any future time delight our souls with talk of knightly deeds walking about the gardens and the halls of camelot as in the days that were i perish by this people which i made tho merlin sware that i should come again to rule once morebut let what will be be i am so deeply smitten thro the helm that without help i cannot last till morn thou therefore take my brand excalibur which was my pride for thou rememberest how in those old days one summer noon an arm rose up from out the bosom of the lake clothed in white samite mystic wonderful holding the swordand how i rowd across and took it and have worn it like a king and wheresoever i am sung or told in aftertime this also shall be known but now delay not take excalibur and fling him far into the middle mere watch what thou sest and lightly bring me word to him replied the bold sir bedivere it is not meet sir king to leave thee thus aidless alone and smitten thro the helm a little thing may harm a wounded man yet i thy hest will all perform at full watch what i see and lightly bring thee word so saying from the ruind shrine he stept and in the moon athwart the place of tombs where lay the mighty bones of ancient men old knights and over them the seawind sang shrill chill with flakes of foam he stepping down by zigzag paths and juts of pointed rock came on the shining levels of the lake there drew he forth the brand excalibur and oer him drawing it the winter moon brightening the skirts of a long cloud ran forth and sparkled keen with frost against the hilt for all the haft twinkled with diamond sparks myriads of topazlights and jacinth work of subtlest jewellery he gazed so long that both his eyes were dazzled as he stood this way and that dividing the swift mind in act to throw but at the last it seemd better to leave excalibur conceald there in the manyknotted waterflags that whistled stiff and dry about the marge so strode he back slow to the wounded king then spake king arthur to sir bedivere hast thou performd my mission which i gave what is it thou hast seen or what hast heard and answer made the bold sir bedivere i heard the ripple washing in the reeds and the wild water lapping on the crag to whom replied king arthur faint and pale thou hast betrayd thy nature and thy name not rendering true answer as beseemd thy fealty nor like a noble knight for surer sign had followd either hand or voice or else a motion of the mere this is a shameful thing for men to lie yet now i charge thee quickly go again as thou art lief and dear and do the thing i bade thee watch and lightly bring me word then went sir bedivere the second time across the ridge and paced beside the mere counting the dewy pebbles fixed in thought but when he saw the wonder of the hilt how curiously and strangely chased he smote his palms together and he cried aloud and if indeed i cast the brand away surely a precious thing one worthy note should thus be lost forever from the earth which might have pleased the eyes of many men what good should follow this if this were done what harm undone deep harm to disobey seeing obedience is the bond of rule were it well to obey then if a king demand an act unprofitable against himself the king is sick and knows not what he does what record or what relic of my lord should be to aftertime but empty breath and rumours of a doubt but were this kept stored in some treasurehouse of mighty kings some one might show it at a joust of arms saying king arthurs sword excalibur wrought by the lonely maiden of the lake nine years she wrought it sitting in the deeps upon the hidden bases of the hills so might some old man speak in the aftertime to all the people winning reverence but now much honour and much fame were lost so spake he clouded with his own conceit and hid excalibur the second time and so strode back slow to the wounded king then spoke king arthur breathing heavily what is it thou hast seen or what hast heard and answer made the bold sir bedivere i heard the water lapping on the crag and the long ripple washing in the reeds to whom replied king arthur much in wrath ah miserable and unkind untrue unknightly traitorhearted woe is me authority forgets a dying king laid widowd of the power in his eye that bowd the will i see thee what thou art for thou the latestleft of all my knights in whom should meet the offices of all thou wouldst betray me for the precious hilt either from lust of gold or like a girl valuing the giddy pleasure of the eyes yet for a man may fail in duty twice and the third time may prosper get thee hence but if thou spare to fling excalibur i will arise and slay thee with my hands then quickly rose sir bedivere and ran and leaping down the ridges lightly plunged among the bulrushbeds and clutchd the sword and strongly wheeld and threw it the great brand made lightnings in the splendour of the moon and flashing round and round and whirld in an arch shot like a streamer of the northern morn seen where the moving isles of winter shock by night with noises of the northern sea so flashd and fell the brand excalibur but ere he dipt the surface rose an arm clothed in white samite mystic wonderful and caught him by the hilt and brandishd him three times and drew him under in the mere and lightly went the other to the king then spoke king arthur drawing thicker breath now see i by thine eyes that this is done speak out what is it thou hast heard or seen and answer made the bold sir bedivere sir king i closed mine eyelids lest the gems should blind my purpose for i never saw nor shall see here or elsewhere till i die not tho i live three lives of mortal men so great a miracle as yonder hilt then with both hands i flung him wheeling him but when i lookd again behold an arm clothed in white samite mystic wonderful that caught him by the hilt and brandishd him three times and drew him under in the mere and answer made king arthur breathing hard my end draws nigh t is time that i were gone make broad thy shoulders to receive my weight and bear me to the margin yet i fear my wound hath taken cold and i shall die so saying from the pavement he half rose slowly with pain reclining on his arm and looking wistfully with wide blue eyes as in a picture him sir bedivere remorsefully regarded thro his tears and would have spoken but he found not words then took with care and kneeling on one knee oer both his shoulders drew the languid hands and rising bore him thro the place of tombs but as he walkd king arthur panted hard like one that feels a nightmare on his bed when all the house is mute so sighd the king muttering and murmuring at his ear quick quick i fear it is too late and i shall die but the other swiftly strode from ridge to ridge clothed with his breath and looking as he walkd larger than human on the frozen hills he heard the deep behind him and a cry before his own thought drove him like a goad dry clashd his harness in the icy caves and barren chasms and all to left and right the bare black cliff clangd round him as he based his feet on juts of slippery crag that rang sharpsmitten with the dint of armed heels and on a sudden lo the level lake and the long glories of the winter moon then saw they how there hove a dusky barge dark as a funeral scarf from stem to stern beneath them and descending they were ware that all the decks were dense with stately forms blackstoled blackhooded like a dreamby these three queens with crowns of goldand from them rose a cry that shiverd to the tingling stars and as it were one voice an agony of lamentation like a wind that shrills all night in a waste land where no one comes or hath come since the making of the world then murmurd arthur place me in the barge and to the barge they came there those three queens put forth their hands and took the king and wept but she that rose the tallest of them all and fairest laid his head upon her lap and loosed the shatterd casque and chafed his hands and calld him by his name complaining loud and dropping bitter tears against his brow striped with dark blood for all his face was white and colourless and like the witherd moon smote by the fresh beam of the springing east and all his greaves and cuisses dashd with drops of onset and the light and lustrous curls that made his forehead like a rising sun high from the dasthronewere parchd with dust or clotted into points and hanging loose mixd with the knightly growth that fringed his lips so like a shatterd column lay the king not like that arthur who with lance in rest from spur to plume a star of tournament shot thro the lists at camelot and charged before the eyes of ladies and of kings then loudly cried the bold sir bedivere ah my lord arthur whither shall i go where shall i hide my forehead and my eyes for now i see the true old times are dead when every morning brought a noble chance and every chance brought out a noble knight such times have been not since the light that led the holy elders with the gift of myrrh but now the whole round table is dissolved which was an image of the mighty world and i the last go forth companionless and the days darken round me and the years among new men strange faces other minds and slowly answerd arthur from the barge the old order changeth yielding place to new and god fulfils himself in many ways lest one good custom should corrupt the world comfort thyself what comfort is in me i have lived my life and that which i have done may he within himself make pure but thou if thou shouldst never see my face again pray for my soul more things are wrought by prayer than this world dreams of wherefore let thy voice rise like a fountain for me night and day for what are men better than sheep or goats that nourish a blind life within the brain if knowing god they lift not hands of prayer both for themselves and those who call them friend for so the whole round earth is every way bound by gold chains about the feet of god but now farewell i am going a long way with these thou sestif indeed i go for all my mind is clouded with a doubt to the islandvalley of avilion where falls not hail or rain or any snow nor ever wind blows loudly but it lies deepmeadowd happy fair with orchardlawns and bowery hollows crownd with summer sea where i will heal me of my grievous wound so said he and the barge with oar and sail moved from the brink like some fullbreasted swan that fluting a wild carol ere her death ruffles her pure cold plume and takes the flood with swarthy webs long stood sir bedivere revolving many memories till the hull lookd one black dot against the verge of dawn and on the mere the wailing died away",
         "Fear"
        ],
        [
         "10",
         "the summer bower",
         "it is a place whither ive often gonefor peace and found it secret hushed and cool a beautiful recess in neighboring woods trees of the soberest hues thickleaved and tall arch it oerhead and column it around framing a covert natural and wilddomelike and dim though nowhere so enclosed but that the gentlest breezes reach the spot unwearied and unweakened sound is here a transient and unfrequent visitoryet if the day be calm not often then whilst the high pines in one anothers arms sleep you may sometimes with unstartled ear catch the far fall of voices how remote you know not and you do not care to know the turf is soft and green but not a flower lights the recess save one starshaped and brighti do not know its namewhich here and there gleams like a sapphire set in emeralda narrow opening in the branched roofa single one is large enough to showwith that halfglimpse a dreamer loves so much the blue air and the blessing of the skythither i always bent my idle stepswhen griefs depressed or joys disturbed my heart and found the calm i looked for or returned strong with the quite rapture in my soul but one dayone of those july days when winds have fled one knows not whither i most sick in mind with thoughts that shall be nameless yet no doubt wrong or at least unhealthful since though dark with gloom and touched with discontent they had no adequate excuse nor cause nor endi with these thoughts and on this summer day entered the accustomed haunt and found for once no medicinal virtue not a leafstirred with the whispering welcome which i sought but in a close and humid atmosphereevery fair plant and implicated boughhung lax and lifeless something in the place its utter stillness the unusual heatand some more secret influence i thought weighed on the sense like sin above i saw though not a cloud was visible in heaventhe palid sky look through a glazed mistlike a blue eye in death the change perhaps was natural enough my jaundiced sightthe weather and the time explain it allyet have i drawn a lesson from the spotand shrined it in these verses for my heart thenceforth those tranquil precincts i have sought not less and in all shades of various moods but always shun to desecrate the spotby weak repinings sickly sentimentsor inconclusive sorrows nature thoughpure as she was in eden when her breathkissed the white brow of eve doth not refusein her own way and with a just reserve to sympathize with human suffering but for the pains the fever and the fret engendered of a weak unquiet heartshe hath no solace and who seeks her when these be the troubles over which he moans reads in her unreplying lineaments rebukes that to the guilty consciousness strike like contempt",
         "Joy"
        ],
        [
         "11",
         "a carafe that is a blind glass",
         "a kind in glass and a cousin a spectacle and nothing strange a single hurt color and an arrangement in a system to pointing all this and not ordinary not unordered in not resembling the difference is spreading",
         "Surprise"
        ],
        [
         "12",
         "mutter",
         "there is a brand of play called mutenessbeneath the play yards interlacing branches it appeals to children born entre deux guerres whose specialty it is it is mutiny that is a tongue of foreign origin ending in grunts one such child uses his tongueon a frozen fence for the embrace of it for the mutating appendage makes of speech a combat an internment there is a brand of child assisted to the play yardby his keeper fussing with his zipper yes it is cold in the high hemisphereand nothing will be the death of him as he sets hard sweets on his tongue he neither chews nor swallows such children can never swing too freely from the elms loping barkless arm it is mutual there is smoke on the air tarry commuting the industry on high as the children simmer withintheir wordcloud and someone or something is calling them homea familiar voice if they have one",
         "Anger"
        ],
        [
         "13",
         "eating together",
         "i know my friend is goingthough she still sits thereacross from me in the restaurant and leans over the table to dipher bread in the oil on my plate i know how thick her hair used to be and what it takes for her to discardher mans cap partway through our meal to look straight at the young waiter and smile when he askshow we are liking it she eatsas though starvingchicken dolmata the buttery flakes of filoand whats killing hereats too i watch her lifta glistening black olive and peel the meat from the pit watchher fine long fingers and her face puffy from medication she lowers her eyes to the food pretendingnot to know what i know shes going and we go on eating",
         "Joy"
        ],
        [
         "14",
         "ghazal for becoming your own country",
         "after rachel eliza griffithss self stones country photographsknow what the almostgone dandelion knows piece by piecethe body prayers home its whole head a veil a windblown bridewhen all the mothers gone frame the portraits wood spoon overboiling pot test the milk on your own wrist you soil sand and mud grown brideif you miss your stop or lose love if even the medicine hurts tooeven when your sideeye your face stank still your heart moans bridefuck the fog back off the mirror trust the road in your name rideyour moon hide through the pitch black gotsta be your own brideburn the honey write the letters what address could hold younectar arms nectar hands old tire sound against the gravel baritone bridegoodest grief is an orchard you know but you have not been killedonce angel put that on everything self country stone bride",
         "Fear"
        ]
       ],
       "shape": {
        "columns": 3,
        "rows": 15
       }
      },
      "text/html": [
       "<div>\n",
       "<style scoped>\n",
       "    .dataframe tbody tr th:only-of-type {\n",
       "        vertical-align: middle;\n",
       "    }\n",
       "\n",
       "    .dataframe tbody tr th {\n",
       "        vertical-align: top;\n",
       "    }\n",
       "\n",
       "    .dataframe thead th {\n",
       "        text-align: right;\n",
       "    }\n",
       "</style>\n",
       "<table border=\"1\" class=\"dataframe\">\n",
       "  <thead>\n",
       "    <tr style=\"text-align: right;\">\n",
       "      <th></th>\n",
       "      <th>Title</th>\n",
       "      <th>Poem</th>\n",
       "      <th>Genre</th>\n",
       "    </tr>\n",
       "  </thead>\n",
       "  <tbody>\n",
       "    <tr>\n",
       "      <th>0</th>\n",
       "      <td>search</td>\n",
       "      <td>wandered tonight through a cityas ruined as a ...</td>\n",
       "      <td>Fear</td>\n",
       "    </tr>\n",
       "    <tr>\n",
       "      <th>1</th>\n",
       "      <td>a poem for the cruel majority</td>\n",
       "      <td>the cruel majority emergeshail to the cruel ma...</td>\n",
       "      <td>Anger</td>\n",
       "    </tr>\n",
       "    <tr>\n",
       "      <th>2</th>\n",
       "      <td>do not embrace your minds new negro friend</td>\n",
       "      <td>do not embrace your minds new negro friendor e...</td>\n",
       "      <td>Anger</td>\n",
       "    </tr>\n",
       "    <tr>\n",
       "      <th>3</th>\n",
       "      <td>the greatest love</td>\n",
       "      <td>she is sixty she livesthe greatest love of her...</td>\n",
       "      <td>Love</td>\n",
       "    </tr>\n",
       "    <tr>\n",
       "      <th>4</th>\n",
       "      <td>bilingualbilinge</td>\n",
       "      <td>my father liked them separate one thereone her...</td>\n",
       "      <td>Anger</td>\n",
       "    </tr>\n",
       "    <tr>\n",
       "      <th>5</th>\n",
       "      <td>the war films</td>\n",
       "      <td>o living pictures of the dead o songs without ...</td>\n",
       "      <td>Fear</td>\n",
       "    </tr>\n",
       "    <tr>\n",
       "      <th>6</th>\n",
       "      <td>of the education of children</td>\n",
       "      <td>i was planted a cropnot a boy but with headlon...</td>\n",
       "      <td>Sadness</td>\n",
       "    </tr>\n",
       "    <tr>\n",
       "      <th>7</th>\n",
       "      <td>from america america</td>\n",
       "      <td>god save america my home sweet home</td>\n",
       "      <td>Joy</td>\n",
       "    </tr>\n",
       "    <tr>\n",
       "      <th>8</th>\n",
       "      <td>poisonous plants of america</td>\n",
       "      <td>april foolbearsfootbogoniondevilsappledog pars...</td>\n",
       "      <td>Fear</td>\n",
       "    </tr>\n",
       "    <tr>\n",
       "      <th>9</th>\n",
       "      <td>morte darthur</td>\n",
       "      <td>so all day long the noise of battle rolld amon...</td>\n",
       "      <td>Fear</td>\n",
       "    </tr>\n",
       "    <tr>\n",
       "      <th>10</th>\n",
       "      <td>the summer bower</td>\n",
       "      <td>it is a place whither ive often gonefor peace ...</td>\n",
       "      <td>Joy</td>\n",
       "    </tr>\n",
       "    <tr>\n",
       "      <th>11</th>\n",
       "      <td>a carafe that is a blind glass</td>\n",
       "      <td>a kind in glass and a cousin a spectacle and n...</td>\n",
       "      <td>Surprise</td>\n",
       "    </tr>\n",
       "    <tr>\n",
       "      <th>12</th>\n",
       "      <td>mutter</td>\n",
       "      <td>there is a brand of play called mutenessbeneat...</td>\n",
       "      <td>Anger</td>\n",
       "    </tr>\n",
       "    <tr>\n",
       "      <th>13</th>\n",
       "      <td>eating together</td>\n",
       "      <td>i know my friend is goingthough she still sits...</td>\n",
       "      <td>Joy</td>\n",
       "    </tr>\n",
       "    <tr>\n",
       "      <th>14</th>\n",
       "      <td>ghazal for becoming your own country</td>\n",
       "      <td>after rachel eliza griffithss self stones coun...</td>\n",
       "      <td>Fear</td>\n",
       "    </tr>\n",
       "  </tbody>\n",
       "</table>\n",
       "</div>"
      ],
      "text/plain": [
       "                                         Title  \\\n",
       "0                                       search   \n",
       "1                a poem for the cruel majority   \n",
       "2   do not embrace your minds new negro friend   \n",
       "3                            the greatest love   \n",
       "4                             bilingualbilinge   \n",
       "5                                the war films   \n",
       "6                 of the education of children   \n",
       "7                         from america america   \n",
       "8                  poisonous plants of america   \n",
       "9                                morte darthur   \n",
       "10                            the summer bower   \n",
       "11              a carafe that is a blind glass   \n",
       "12                                      mutter   \n",
       "13                             eating together   \n",
       "14        ghazal for becoming your own country   \n",
       "\n",
       "                                                 Poem     Genre  \n",
       "0   wandered tonight through a cityas ruined as a ...      Fear  \n",
       "1   the cruel majority emergeshail to the cruel ma...     Anger  \n",
       "2   do not embrace your minds new negro friendor e...     Anger  \n",
       "3   she is sixty she livesthe greatest love of her...      Love  \n",
       "4   my father liked them separate one thereone her...     Anger  \n",
       "5   o living pictures of the dead o songs without ...      Fear  \n",
       "6   i was planted a cropnot a boy but with headlon...   Sadness  \n",
       "7                 god save america my home sweet home       Joy  \n",
       "8   april foolbearsfootbogoniondevilsappledog pars...      Fear  \n",
       "9   so all day long the noise of battle rolld amon...      Fear  \n",
       "10  it is a place whither ive often gonefor peace ...       Joy  \n",
       "11  a kind in glass and a cousin a spectacle and n...  Surprise  \n",
       "12  there is a brand of play called mutenessbeneat...     Anger  \n",
       "13  i know my friend is goingthough she still sits...       Joy  \n",
       "14  after rachel eliza griffithss self stones coun...      Fear  "
      ]
     },
     "execution_count": 47,
     "metadata": {},
     "output_type": "execute_result"
    }
   ],
   "source": [
    "df['Title'] = df['Title'].apply(clean)\n",
    "df['Poem'] = df['Poem'].apply(clean)\n",
    "df.head(15)"
   ]
  },
  {
   "cell_type": "markdown",
   "id": "2a057aa4",
   "metadata": {},
   "source": [
    "# Preprocessing"
   ]
  },
  {
   "cell_type": "code",
   "execution_count": 48,
   "id": "6f95f77e",
   "metadata": {},
   "outputs": [
    {
     "name": "stderr",
     "output_type": "stream",
     "text": [
      "[nltk_data] Downloading package words to C:\\nltk_data...\n",
      "[nltk_data]   Package words is already up-to-date!\n"
     ]
    }
   ],
   "source": [
    "# Remove non English words\n",
    "nltk.download('words')\n",
    "words = set(nltk.corpus.words.words())\n",
    "df['Title'] = df['Title'].apply(lambda x: ' '.join([word for word in x.split() if word in words]))\n",
    "df['Poem'] = df['Poem'].apply(lambda x: ' '.join([word for word in x.split() if word in words]))"
   ]
  },
  {
   "cell_type": "code",
   "execution_count": 49,
   "id": "1efda392",
   "metadata": {},
   "outputs": [
    {
     "data": {
      "text/plain": [
       "(10000, 3)"
      ]
     },
     "execution_count": 49,
     "metadata": {},
     "output_type": "execute_result"
    }
   ],
   "source": [
    "df.shape"
   ]
  },
  {
   "cell_type": "code",
   "execution_count": 50,
   "id": "2fca6dc6",
   "metadata": {},
   "outputs": [],
   "source": [
    "# I noticed some rows are empty and some rows have only few words, that dont make sense, for generating poem\n",
    "# So I will remove those rows which have less than 5 words\n",
    "df = df[df['Poem'].str.split().str.len() > 20]"
   ]
  },
  {
   "cell_type": "code",
   "execution_count": 51,
   "id": "d12c0d24",
   "metadata": {},
   "outputs": [
    {
     "data": {
      "text/plain": [
       "(9546, 3)"
      ]
     },
     "execution_count": 51,
     "metadata": {},
     "output_type": "execute_result"
    }
   ],
   "source": [
    "df.shape"
   ]
  },
  {
   "cell_type": "code",
   "execution_count": 52,
   "id": "9a8988ef",
   "metadata": {},
   "outputs": [],
   "source": [
    "# Still the dataset is huge and it will take time to train the model, I will get this error again : \n",
    "# MemoryError: Unable to allocate 1.55 TiB for an array with shape (7140714, 29822) and data type float64\n",
    "# I will  take 10% of the dataset for training\n",
    "df = df.sample(frac=0.05, random_state=42).reset_index(drop=True)"
   ]
  },
  {
   "cell_type": "code",
   "execution_count": 53,
   "id": "00fadd4f",
   "metadata": {},
   "outputs": [
    {
     "data": {
      "application/vnd.microsoft.datawrangler.viewer.v0+json": {
       "columns": [
        {
         "name": "index",
         "rawType": "int64",
         "type": "integer"
        },
        {
         "name": "Title",
         "rawType": "object",
         "type": "string"
        },
        {
         "name": "Poem",
         "rawType": "object",
         "type": "string"
        },
        {
         "name": "Genre",
         "rawType": "object",
         "type": "string"
        }
       ],
       "conversionMethod": "pd.DataFrame",
       "ref": "7bde4a6c-49d4-454e-9f83-2b3aaf1430b1",
       "rows": [
        [
         "0",
         "inventor",
         "the jay through the in color note down invent outdoor so fall off in plaid in front of my window i file it after all the pussy barely tufted i have time at the drain lifting its a brook so gulping at runoff like a bear in spring like my husband he didnt trust my the gutter chain the cane a lever for old in heavy rain but every act a corresponding gadget it is that way with the acorn locking the tree with the womb he was clearly bulbous the excess i often think of him humming like me over six mason of offspring the dog you choke then black a frothing irony all wet from from the brook he them in then goes in after the rising with and afraid the electricity will fail will the dog save me with his laughing thats what this for the automatic rosebush waterer hooked to the sun and this perpetuity once a pirate my outboard told me betty better sand trickling in the hourglass than a shifting dune even the of aloe against the but i like the look of oh thats the husband at the door his furry self naked before me until the his stuffing o bear only by opening the do i see bleeding its him not me aching with overdue maternity a simple of kept for emergency does for him then together we apprise the chimney holding and chatting about the soot that was in winter before he the deft air stealing all we were speaking yesterday a patent came for my speech retrieval unit an unusual event even for me because the government usually cant the and these were intricate i had the duck by the neck her in food coloring each step in it all made the now and just in time for the aspect are arent they of all but speech i have memory that one sense shy of mimicry in the spring now in take the larvae off in the on toast the very of mortality eating them i figure i can lure death itself a and washing in the dark and from there patent the trap ill be rich if its works works go the works works",
         "Fear"
        ],
        [
         "1",
         "from deaf republic happiness",
         "alfonso to go hold him down with my smaller from his to my is drinking in my in my kitchen with his varicose fat you fool you think it is brave to all morning on an empty of our apartment flash the of our apartment stand they are his my face he the of shadow of his huge on the of our apartment the make and my shape of our only are his his glasses off and them on the table like a shining weapon his at our cat fat over his a stolen his are his hospital i am a ripe man could be happy",
         "Joy"
        ],
        [
         "2",
         "everyday",
         "my poor all i ask of themis to grow antennae lie down with rise with snow grow math and no mother wont approve of the on your communion dress the world uneasy relationship to our it nevertheless from ragged like the late frank i got off the sixth floor i feltlike i was walking out into the arent we all of it feel all wrong to turn our the ocean on an ant on those you have to go through a ancient armor to get to what was her night nurse so deft her blood wake me up dont get me wrong i wake up i want my old dog to show that she though she i wont though her vet and i keep her alive forever",
         "Anger"
        ],
        [
         "3",
         "small shame blues",
         "i live with the small not knowing the multiple for describe the over new describe the light in my it is a small shame that i live with the small in the of my i pause to search for the word in translate a poem to my there my to i cannot fully for the word from word that me in the word i fear never within me it is a small shame that indigo and cerulean are merely not ail and",
         "Fear"
        ],
        [
         "4",
         "love song for",
         "my man is my sweet lover of my life my youth and heart to him and to him of my flesh are his and bear his grown to advancing through the honeyed kiss the of wine and blissfully into the distant of all my days of happiness and in his arms and carry us under the of the past the of a distant creeping through the seaweed of the tangle us with ropes and yarn of we have been together you and i",
         "Joy"
        ],
        [
         "5",
         "",
         "have i spent too much time worrying about the each other to pray for the who do their own that not black on black that not a mother who to bury her it not the same same plot the curtain then a womb a boy a night of music a trigger a finger a bullet then always the crowd to their boy after sweet boy their endless bloody throw dirt on the like the are by the earth the audience doesnt theyre standing for",
         "Love"
        ],
        [
         "6",
         "the altar",
         "a broken altar lord thy servant of a heart and with whose are as thy hand did frame no tool hath the same a heart alone is such a stone as nothing but thy cut wherefore each part of my hard heart in this frame to praise thy name that if i chance to hold my peace these to praise thee may not let thy blessed sacrifice be sanctify this altar to be thine",
         "Joy"
        ],
        [
         "7",
         "my little",
         "folding up my little within my heart praying i may soon forget the torture of their times deft scroll my brow with fell relentless folding up my little tonight within my heart",
         "Fear"
        ],
        [
         "8",
         "my wolf sister",
         "when my tiny paper onto the carpet my wolf sister and it covering her with her i think tired of the moon she a stack of dinner from my cupboard and off to the park to break them our brother up a week later on the sofa like a fur throw why have they come here when everything i do is wrong they howl in the shower together but the water doesnt mask the sound i go in afterwards with paper to mop the know be water all the room is bone dry maybe this time will be different i hide the home in case they ask for them in the one i always watch theres some wobbly footage of the sky then my father the eye to mother teaching my sister and brother to tell time theyre following a mother hare on her sunset leveret mouthful at oclock another at then the camera in on spat out my pacifier made of fur and on the porch surrounded by bonsai killing or saving",
         "Anger"
        ],
        [
         "9",
         "",
         "i was restless and elsewhere gut dragging and with ball lightning through with steel i was hipped i whip rain a sheet of grit scraping toward the first of you for wood skin with shifting and frantic mouth i loudly slow of and",
         "Love"
        ],
        [
         "10",
         "a dead thing that in dying the living",
         "been thinking about the the egg about the two interior yolk in place by the through the semipermeable curious phrase the anatomy of the if an egg were a body which it if the egg could be broken then depending on your faith broken well best to with a new body a warmer one and to begin as if some you against a clean the rich yolk and albumen to dry in the sun as if a you i a practice that what was cracked could be at least suspended so that it could not now i wonder better to be the egg or the small hand or the bottle green their bile onto the interior drinking it think something might have grown there know it was always meant to be was always meant to spoil",
         "Surprise"
        ],
        [
         "11",
         "prayer",
         "my body is opaque to the of the spirit long have i sought to temper it unto the my mind too is opaque to the of whom my soul is but a little it to the lid of its am weak with much am weak the desire to give strong a thing is the little weak that i have confused the body with the the body with its little frail is the little voice could not carry to you did you dwell in of whom my soul is but a little finger",
         "Fear"
        ],
        [
         "12",
         "wind in",
         "and on the in the of adrift the drove strong arms of the the apex of the a statue of a out to glancing at the the the lost rain",
         "Sadness"
        ],
        [
         "13",
         "view",
         "after and dreamt half my life was wonder and never suspected so in the forgot i was ever there hawk into ecstasy the with the butt glued to the sidewalk a coral quince blossom in as a present and tilting my bamboo the warm slant of rain was i not a happy the great bay on a bridge that who when and will when",
         "Joy"
        ],
        [
         "14",
         "they that dally nicely with may quickly make them wanton",
         "i should i take this time while the are in untrim the tree standing in the dish we let go as if were our future would it spare their if i by piece its grandeur or will i sense of loss to it without we drove by a painted camel on a church lawn or what after hard freeze is brought camel to aid in the civil war now theyre in these tableaux where all his before the were coming back from a weekend the official end i took the out on the beach but the length of south swept by a long wind went of sand i gulf went from glaucous to in a poem a gown of white before me the profile of the island was the fury in my heart this tempest encampment can never be are unwritten by the same of for yearly display we from house to house no nomad i your circumference know of enclosure the open are starting to emerge to my wondering on my skin even up close the of back of wrist that the on dont soles like yours that close the lovelorn the territory and yes yes the tree is still in its vise the road we turn is with needles dried the are lighting on the this is a country are upside and name the of jack blooming flower black cat what shower or umbrella is empty lot toby and bring us crablike in the is with all the night sky for sea discharge into it change color like viola back about motley and the that shroud us in its just another carnival joke your hand on the small of my back like the sky the new year spoke but with a breath of moment feeling insolently a rather elderly personage go out on your or hear holding her sparkler overly off wearing too much speaking of ground the are for the foreign raise in a yellow on a rough hairy pod surprise at my seed at my i hear the wind the which our balcony is cloud over with blur to take the our folded white do i have to be mailed in over port glaze for sir of a or in in getup in taken st advice to gold ring who the one would sooner burn than freeze taken to the dark stuff since you maker with the a campfire express more strongly my mettle",
         "Joy"
        ]
       ],
       "shape": {
        "columns": 3,
        "rows": 15
       }
      },
      "text/html": [
       "<div>\n",
       "<style scoped>\n",
       "    .dataframe tbody tr th:only-of-type {\n",
       "        vertical-align: middle;\n",
       "    }\n",
       "\n",
       "    .dataframe tbody tr th {\n",
       "        vertical-align: top;\n",
       "    }\n",
       "\n",
       "    .dataframe thead th {\n",
       "        text-align: right;\n",
       "    }\n",
       "</style>\n",
       "<table border=\"1\" class=\"dataframe\">\n",
       "  <thead>\n",
       "    <tr style=\"text-align: right;\">\n",
       "      <th></th>\n",
       "      <th>Title</th>\n",
       "      <th>Poem</th>\n",
       "      <th>Genre</th>\n",
       "    </tr>\n",
       "  </thead>\n",
       "  <tbody>\n",
       "    <tr>\n",
       "      <th>0</th>\n",
       "      <td>inventor</td>\n",
       "      <td>the jay through the in color note down invent ...</td>\n",
       "      <td>Fear</td>\n",
       "    </tr>\n",
       "    <tr>\n",
       "      <th>1</th>\n",
       "      <td>from deaf republic happiness</td>\n",
       "      <td>alfonso to go hold him down with my smaller fr...</td>\n",
       "      <td>Joy</td>\n",
       "    </tr>\n",
       "    <tr>\n",
       "      <th>2</th>\n",
       "      <td>everyday</td>\n",
       "      <td>my poor all i ask of themis to grow antennae l...</td>\n",
       "      <td>Anger</td>\n",
       "    </tr>\n",
       "    <tr>\n",
       "      <th>3</th>\n",
       "      <td>small shame blues</td>\n",
       "      <td>i live with the small not knowing the multiple...</td>\n",
       "      <td>Fear</td>\n",
       "    </tr>\n",
       "    <tr>\n",
       "      <th>4</th>\n",
       "      <td>love song for</td>\n",
       "      <td>my man is my sweet lover of my life my youth a...</td>\n",
       "      <td>Joy</td>\n",
       "    </tr>\n",
       "    <tr>\n",
       "      <th>5</th>\n",
       "      <td></td>\n",
       "      <td>have i spent too much time worrying about the ...</td>\n",
       "      <td>Love</td>\n",
       "    </tr>\n",
       "    <tr>\n",
       "      <th>6</th>\n",
       "      <td>the altar</td>\n",
       "      <td>a broken altar lord thy servant of a heart and...</td>\n",
       "      <td>Joy</td>\n",
       "    </tr>\n",
       "    <tr>\n",
       "      <th>7</th>\n",
       "      <td>my little</td>\n",
       "      <td>folding up my little within my heart praying i...</td>\n",
       "      <td>Fear</td>\n",
       "    </tr>\n",
       "    <tr>\n",
       "      <th>8</th>\n",
       "      <td>my wolf sister</td>\n",
       "      <td>when my tiny paper onto the carpet my wolf sis...</td>\n",
       "      <td>Anger</td>\n",
       "    </tr>\n",
       "    <tr>\n",
       "      <th>9</th>\n",
       "      <td></td>\n",
       "      <td>i was restless and elsewhere gut dragging and ...</td>\n",
       "      <td>Love</td>\n",
       "    </tr>\n",
       "    <tr>\n",
       "      <th>10</th>\n",
       "      <td>a dead thing that in dying the living</td>\n",
       "      <td>been thinking about the the egg about the two ...</td>\n",
       "      <td>Surprise</td>\n",
       "    </tr>\n",
       "    <tr>\n",
       "      <th>11</th>\n",
       "      <td>prayer</td>\n",
       "      <td>my body is opaque to the of the spirit long ha...</td>\n",
       "      <td>Fear</td>\n",
       "    </tr>\n",
       "    <tr>\n",
       "      <th>12</th>\n",
       "      <td>wind in</td>\n",
       "      <td>and on the in the of adrift the drove strong a...</td>\n",
       "      <td>Sadness</td>\n",
       "    </tr>\n",
       "    <tr>\n",
       "      <th>13</th>\n",
       "      <td>view</td>\n",
       "      <td>after and dreamt half my life was wonder and n...</td>\n",
       "      <td>Joy</td>\n",
       "    </tr>\n",
       "    <tr>\n",
       "      <th>14</th>\n",
       "      <td>they that dally nicely with may quickly make t...</td>\n",
       "      <td>i should i take this time while the are in unt...</td>\n",
       "      <td>Joy</td>\n",
       "    </tr>\n",
       "  </tbody>\n",
       "</table>\n",
       "</div>"
      ],
      "text/plain": [
       "                                                Title  \\\n",
       "0                                            inventor   \n",
       "1                        from deaf republic happiness   \n",
       "2                                            everyday   \n",
       "3                                   small shame blues   \n",
       "4                                       love song for   \n",
       "5                                                       \n",
       "6                                           the altar   \n",
       "7                                           my little   \n",
       "8                                      my wolf sister   \n",
       "9                                                       \n",
       "10              a dead thing that in dying the living   \n",
       "11                                             prayer   \n",
       "12                                            wind in   \n",
       "13                                               view   \n",
       "14  they that dally nicely with may quickly make t...   \n",
       "\n",
       "                                                 Poem     Genre  \n",
       "0   the jay through the in color note down invent ...      Fear  \n",
       "1   alfonso to go hold him down with my smaller fr...       Joy  \n",
       "2   my poor all i ask of themis to grow antennae l...     Anger  \n",
       "3   i live with the small not knowing the multiple...      Fear  \n",
       "4   my man is my sweet lover of my life my youth a...       Joy  \n",
       "5   have i spent too much time worrying about the ...      Love  \n",
       "6   a broken altar lord thy servant of a heart and...       Joy  \n",
       "7   folding up my little within my heart praying i...      Fear  \n",
       "8   when my tiny paper onto the carpet my wolf sis...     Anger  \n",
       "9   i was restless and elsewhere gut dragging and ...      Love  \n",
       "10  been thinking about the the egg about the two ...  Surprise  \n",
       "11  my body is opaque to the of the spirit long ha...      Fear  \n",
       "12  and on the in the of adrift the drove strong a...   Sadness  \n",
       "13  after and dreamt half my life was wonder and n...       Joy  \n",
       "14  i should i take this time while the are in unt...       Joy  "
      ]
     },
     "execution_count": 53,
     "metadata": {},
     "output_type": "execute_result"
    }
   ],
   "source": [
    "df.head(15) "
   ]
  },
  {
   "cell_type": "code",
   "execution_count": 54,
   "id": "2501e072",
   "metadata": {},
   "outputs": [
    {
     "name": "stdout",
     "output_type": "stream",
     "text": [
      "the jay through the in color note down invent outdoor so fall off in plaid in front of my window i f\n",
      "Total characters: 443153\n"
     ]
    }
   ],
   "source": [
    "# When I create single continues sequence, LSTM transition between words and across all poets which means LSTM learns general patterns from the entire dataset. \n",
    "# combine all poems into one corpus \n",
    "poems  = '\\n'.join(df['Poem'].tolist())\n",
    "# Print length of corpus \n",
    "print(poems[:100])\n",
    "print(f'Total characters: {len(poems)}')"
   ]
  },
  {
   "cell_type": "markdown",
   "id": "da2c6636",
   "metadata": {},
   "source": [
    "##### Tokenization"
   ]
  },
  {
   "cell_type": "code",
   "execution_count": 55,
   "id": "e02c06d1",
   "metadata": {},
   "outputs": [
    {
     "name": "stdout",
     "output_type": "stream",
     "text": [
      "Vocabulary size: 8737\n",
      "Total Words: 8736\n"
     ]
    }
   ],
   "source": [
    "# Initializing the Tokenizer\n",
    "tokenizer = Tokenizer()\n",
    "tokenizer.fit_on_texts([poems])\n",
    "\n",
    "# Get the vocabulary size:\n",
    "# converting the numerical output back into readable text, I need an inverse mapping.\n",
    "# That maps integer indices back to their original words.\n",
    "# I can create this by swapping the keys and values of tokenizer.word_index.\n",
    "\n",
    "total_words = len(tokenizer.word_index)\n",
    "vocab_size = len(tokenizer.word_index) + 1\n",
    "\n",
    "# Print the result\n",
    "print(f'Vocabulary size: {vocab_size}')\n",
    "print('Total Words:', total_words)\n"
   ]
  },
  {
   "cell_type": "code",
   "execution_count": 56,
   "id": "b7e31c0a",
   "metadata": {},
   "outputs": [
    {
     "name": "stdout",
     "output_type": "stream",
     "text": [
      "Example word index mappings (word -> id):\n",
      "the -> 1\n",
      "and -> 2\n",
      "of -> 3\n",
      "a -> 4\n",
      "to -> 5\n",
      "in -> 6\n",
      "i -> 7\n",
      "my -> 8\n",
      "that -> 9\n",
      "with -> 10\n"
     ]
    }
   ],
   "source": [
    "# Let's see a sample of the word index (mapping from word to ID)\n",
    "print('Example word index mappings (word -> id):')\n",
    "for word, idx in list(tokenizer.word_index.items())[:10]:\n",
    "    print(word, '->', idx)\n",
    "# I used LLM to print sample of words index "
   ]
  },
  {
   "cell_type": "code",
   "execution_count": 57,
   "id": "7b075e51",
   "metadata": {},
   "outputs": [
    {
     "name": "stdout",
     "output_type": "stream",
     "text": [
      "Help on Tokenizer in module keras.src.legacy.preprocessing.text object:\n",
      "\n",
      "class Tokenizer(builtins.object)\n",
      " |  Tokenizer(num_words=None, filters='!\"#$%&()*+,-./:;<=>?@[\\\\]^_`{|}~\\t\\n', lower=True, split=' ', char_level=False, oov_token=None, analyzer=None, **kwargs)\n",
      " |  \n",
      " |  DEPRECATED.\n",
      " |  \n",
      " |  Methods defined here:\n",
      " |  \n",
      " |  __init__(self, num_words=None, filters='!\"#$%&()*+,-./:;<=>?@[\\\\]^_`{|}~\\t\\n', lower=True, split=' ', char_level=False, oov_token=None, analyzer=None, **kwargs)\n",
      " |      Initialize self.  See help(type(self)) for accurate signature.\n",
      " |  \n",
      " |  fit_on_sequences(self, sequences)\n",
      " |  \n",
      " |  fit_on_texts(self, texts)\n",
      " |  \n",
      " |  get_config(self)\n",
      " |  \n",
      " |  sequences_to_matrix(self, sequences, mode='binary')\n",
      " |  \n",
      " |  sequences_to_texts(self, sequences)\n",
      " |  \n",
      " |  sequences_to_texts_generator(self, sequences)\n",
      " |  \n",
      " |  texts_to_matrix(self, texts, mode='binary')\n",
      " |  \n",
      " |  texts_to_sequences(self, texts)\n",
      " |  \n",
      " |  texts_to_sequences_generator(self, texts)\n",
      " |  \n",
      " |  to_json(self, **kwargs)\n",
      " |  \n",
      " |  ----------------------------------------------------------------------\n",
      " |  Data descriptors defined here:\n",
      " |  \n",
      " |  __dict__\n",
      " |      dictionary for instance variables (if defined)\n",
      " |  \n",
      " |  __weakref__\n",
      " |      list of weak references to the object (if defined)\n",
      "\n"
     ]
    }
   ],
   "source": [
    "# Previously I did not know that by running help I can ser the details and about its configuration and methods\n",
    "# Source : https://kgptalkie.medium.com/poetry-generation-using-tensorflow-keras-and-lstm-75c4e4b7f07e\n",
    "help(tokenizer)\n",
    "# Getting the word index\n",
    "\n",
    "# Tokenizer by default converts all the words to lower case and ignores punctuation.\n",
    "# So I did not need to do that in the clean function."
   ]
  },
  {
   "cell_type": "markdown",
   "id": "6f7c5787",
   "metadata": {},
   "source": [
    "##### Encoding "
   ]
  },
  {
   "cell_type": "code",
   "execution_count": 58,
   "id": "88bfb2db",
   "metadata": {},
   "outputs": [
    {
     "name": "stdout",
     "output_type": "stream",
     "text": [
      "Length of encoded poems: 443153\n"
     ]
    }
   ],
   "source": [
    "# For poetry generation model, I will create fixed length sequences of characters as input to the  LSTM model.\n",
    "# This approach allows the model to learn the sequential dependencies between characters in the poems.\n",
    "# the model to predict the next letter in a word or the next character in a line of poetry.\n",
    "# To prepare my data in this way, I first need to convert the entire poetry text into a sequence of integer:   \n",
    "encoded_poems = tokenizer.texts_to_sequences(poems)\n",
    "print('Length of encoded poems:', len(encoded_poems))"
   ]
  },
  {
   "cell_type": "markdown",
   "id": "42f01f4a",
   "metadata": {},
   "source": [
    "**Generating training sequences for LSTM**"
   ]
  },
  {
   "cell_type": "code",
   "execution_count": 59,
   "id": "1508f696",
   "metadata": {},
   "outputs": [],
   "source": [
    "# Next I will create the training sequences.\n",
    "# 20 characters will be used as input and the next character will be the target.\n",
    "# This process will continue until the end of the text.\n",
    "# encoded_poems is list of lists, to get 20 characters, I will flatten the list of lists into a single list of characters.\n",
    "all_tokens = [token for poem in encoded_poems for token in poem]\n",
    "seq_len = 20\n",
    "X = []\n",
    "y = []\n",
    "for i in range(0, len(all_tokens) - seq_len-1):\n",
    "    seq_in = all_tokens[i:i + seq_len]\n",
    "    seq_out = all_tokens[i + seq_len]\n",
    "    X.append(seq_in)\n",
    "    y.append(seq_out)   \n",
    "\n",
    "# https://machinelearningmastery.com/text-generation-with-lstm-in-pytorch/"
   ]
  },
  {
   "cell_type": "code",
   "execution_count": 60,
   "id": "e158cfdf",
   "metadata": {},
   "outputs": [],
   "source": [
    "# I created the sequences of 20 characters, now I will convert them into numpy arrays.\n",
    "# NumPy arrays can be easily to convert to tensors\n",
    "X = np.array(X)\n",
    "y = np.array(y)"
   ]
  },
  {
   "cell_type": "code",
   "execution_count": 61,
   "id": "1f8ffb7b",
   "metadata": {},
   "outputs": [],
   "source": [
    "# Before moving on, I will convert x and y to tensors since I will use PyTorch \n",
    "X_tensor = torch.tensor(X, dtype=torch.long)\n",
    "y_tensor = torch.tensor(y, dtype=torch.long)"
   ]
  },
  {
   "cell_type": "code",
   "execution_count": 62,
   "id": "627391b9",
   "metadata": {},
   "outputs": [
    {
     "name": "stdout",
     "output_type": "stream",
     "text": [
      "Type of X <class 'torch.Tensor'> and Shape of X:torch.Size([305360, 20])\n",
      "Type of y <class 'torch.Tensor'> and Shape of y:torch.Size([305360])\n"
     ]
    }
   ],
   "source": [
    "print(f'Type of X {type(X_tensor)} and Shape of X:{(X_tensor.shape)}')  \n",
    "print(f'Type of y {type(y_tensor)} and Shape of y:{(y_tensor.shape)}')"
   ]
  },
  {
   "cell_type": "code",
   "execution_count": 63,
   "id": "eabbfd07",
   "metadata": {},
   "outputs": [
    {
     "name": "stdout",
     "output_type": "stream",
     "text": [
      "Training samples: 274824, Validation samples: 30536\n"
     ]
    }
   ],
   "source": [
    "# Creating train and val dataset:\n",
    "dataset = TensorDataset(X_tensor, y_tensor)\n",
    "# val_dataset is 10% of the dataset.\n",
    "train_size = int(len(dataset) * 0.9)  \n",
    "val_size = len(dataset) - train_size\n",
    "# Randomly split the dataset into training and validation\n",
    "train_dataset, val_dataset = random_split(dataset, [train_size, val_size])\n",
    "\n",
    "print(f'Training samples: {len(train_dataset)}, Validation samples: {len(val_dataset)}')"
   ]
  },
  {
   "cell_type": "markdown",
   "id": "995a5af0",
   "metadata": {},
   "source": [
    "**Building the LSTM Model (PyTorch)**"
   ]
  },
  {
   "cell_type": "code",
   "execution_count": 64,
   "id": "5cfc98ef",
   "metadata": {},
   "outputs": [],
   "source": [
    "# Now I have preprocessed the data, I will build the architecture of the LSTM model.\n",
    "# The common way to create NN model in PyTorch is to create a class that inherits from nn.Module.\n",
    "# Let's define PoetryLSTM\n",
    "class PoetryLSTM(nn.Module):\n",
    "\n",
    "    def __init__(self, vocab_size, embed_dim, hidden_size, num_layers, dropout_prob=0.5):\n",
    "        super(PoetryLSTM, self).__init__()\n",
    "        # FIRST LAYER, Embedding layers: \n",
    "        # This layer acts like a dictionary that converts each character ID into a meaningful code\n",
    "        self.embedding = nn.Embedding(vocab_size, embed_dim) \n",
    "        # SECOND LAYERS:\n",
    "        # LSTM Layer: In my case, the LSTM will read the sequence of word embeddings and produce an output\n",
    "        self.lstm = nn.LSTM(embed_dim, hidden_size, num_layers, batch_first=True)\n",
    "        # Dropout layer: randomly drops some values to reduce overfitting\n",
    "        self.dropout = nn.Dropout(dropout_prob)\n",
    "        # OUTPUT LAYER OR FULLY CONNECTED LAYER:\n",
    "        # It maps the output to a score for each word in the vocab.\n",
    "        # This doest explicitly apply softmax here, I will use CrossEntropyLoss which internally applies a softmax when comparing to the target word. \n",
    "        self.fc = nn.Linear(hidden_size, vocab_size)\n",
    "\n",
    "\n",
    "\n",
    "     # The forward method:\n",
    "     # It defines how the data flows through my model\n",
    "    def forward(self, x, hidden):\n",
    "        # Pass the input through the embedding layer\n",
    "        embedded = self.embedding(x)\n",
    "        # Pass the embedded input through the LSTM layer\n",
    "        out, hidden = self.lstm(embedded, hidden)\n",
    "        # Apply dropout to the LSTM output\n",
    "        out = self.dropout(out)\n",
    "        # Turns the 3D tensor into 2D so each row is one timestep.\n",
    "        out = out.contiguous().view(-1, self.fc.in_features)\n",
    "        # Pass the reshaped output through the fully connected layer \n",
    "        return out, hidden\n",
    "\n",
    "\n",
    "      # These states are what allow the LSTM to maintain memory of past inputs in the sequence\n",
    "    def init_hidden(self, batch_size):\n",
    "        # Initialize the hidden and cell states for the LSTM\n",
    "        weight = next(self.parameters()).data\n",
    "        hidden = (\n",
    "                  weight.new(self.lstm.num_layers, batch_size, self.lstm.hidden_size).zero_(),\n",
    "                  weight.new(self.lstm.num_layers, batch_size, self.lstm.hidden_size).zero_()\n",
    "                  )\n",
    "        return hidden "
   ]
  },
  {
   "cell_type": "code",
   "execution_count": 65,
   "id": "f347674c",
   "metadata": {},
   "outputs": [
    {
     "ename": "NameError",
     "evalue": "name 'device' is not defined",
     "output_type": "error",
     "traceback": [
      "\u001b[1;31m---------------------------------------------------------------------------\u001b[0m",
      "\u001b[1;31mNameError\u001b[0m                                 Traceback (most recent call last)",
      "Cell \u001b[1;32mIn[65], line 1\u001b[0m\n\u001b[1;32m----> 1\u001b[0m model \u001b[38;5;241m=\u001b[39m PoetryLSTM(vocab_size, embed_dim, hidden_size, num_layers)\u001b[38;5;241m.\u001b[39mto(\u001b[43mdevice\u001b[49m) \n\u001b[0;32m      2\u001b[0m device \u001b[38;5;241m=\u001b[39m torch\u001b[38;5;241m.\u001b[39mdevice(\u001b[38;5;124m'\u001b[39m\u001b[38;5;124mcuda\u001b[39m\u001b[38;5;124m'\u001b[39m \u001b[38;5;28;01mif\u001b[39;00m torch\u001b[38;5;241m.\u001b[39mcuda\u001b[38;5;241m.\u001b[39mis_available() \u001b[38;5;28;01melse\u001b[39;00m \u001b[38;5;124m'\u001b[39m\u001b[38;5;124mcpu\u001b[39m\u001b[38;5;124m'\u001b[39m)\n\u001b[0;32m      3\u001b[0m model\u001b[38;5;241m.\u001b[39mto(device)\n",
      "\u001b[1;31mNameError\u001b[0m: name 'device' is not defined"
     ]
    }
   ],
   "source": [
    "model = PoetryLSTM(vocab_size, embed_dim, hidden_size, num_layers).to(device) \n",
    "device = torch.device('cuda' if torch.cuda.is_available() else 'cpu')\n",
    "model.to(device)\n",
    "print(model)"
   ]
  },
  {
   "cell_type": "markdown",
   "id": "e9fcf335",
   "metadata": {},
   "source": [
    "**Training loop**"
   ]
  },
  {
   "cell_type": "code",
   "execution_count": null,
   "id": "d60185eb",
   "metadata": {},
   "outputs": [],
   "source": [
    "# hyperparameters\n",
    "embed_dim = 100\n",
    "hidden_size = 256\n",
    "num_layers = 2\n",
    "learning_rate = 0.001\n",
    "epochs = 20\n",
    "batch_size = 64"
   ]
  },
  {
   "cell_type": "code",
   "execution_count": null,
   "id": "20bafdad",
   "metadata": {},
   "outputs": [],
   "source": [
    "|"
   ]
  }
 ],
 "metadata": {
  "kernelspec": {
   "display_name": ".venv",
   "language": "python",
   "name": "python3"
  },
  "language_info": {
   "codemirror_mode": {
    "name": "ipython",
    "version": 3
   },
   "file_extension": ".py",
   "mimetype": "text/x-python",
   "name": "python",
   "nbconvert_exporter": "python",
   "pygments_lexer": "ipython3",
   "version": "3.10.11"
  }
 },
 "nbformat": 4,
 "nbformat_minor": 5
}
