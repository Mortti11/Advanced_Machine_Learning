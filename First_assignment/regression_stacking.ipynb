{
 "cells": [
  {
   "cell_type": "code",
   "execution_count": 195,
   "metadata": {},
   "outputs": [],
   "source": [
    "import numpy as np\n",
    "import pandas as pd\n",
    "import seaborn as sns\n",
    "\n",
    "from sklearn.linear_model import LinearRegression\n",
    "from sklearn.model_selection import train_test_split\n",
    "from sklearn.metrics import mean_absolute_error, mean_squared_error, r2_score\n",
    "from sklearn.preprocessing import StandardScaler, MinMaxScaler\n",
    "\n",
    "\n",
    "import xgboost as xgb\n",
    "import lightgbm as lgb\n",
    "import catboost as cb\n",
    "\n",
    "from sklearn.model_selection import KFold\n",
    "from sklearn.ensemble import StackingRegressor\n",
    "from sklearn.ensemble import ExtraTreesRegressor, GradientBoostingRegressor\n",
    "\n",
    "from tensorflow import keras\n",
    "from keras import layers"
   ]
  },
  {
   "cell_type": "code",
   "execution_count": 196,
   "metadata": {},
   "outputs": [],
   "source": [
    "# Loading the clean dataset\n",
    "df = pd.read_csv('dataset_regression/parkinsons_updrs_cleaned.data')"
   ]
  },
  {
   "cell_type": "code",
   "execution_count": 197,
   "metadata": {},
   "outputs": [
    {
     "data": {
      "application/vnd.microsoft.datawrangler.viewer.v0+json": {
       "columns": [
        {
         "name": "index",
         "rawType": "int64",
         "type": "integer"
        },
        {
         "name": "age",
         "rawType": "int64",
         "type": "integer"
        },
        {
         "name": "motor_UPDRS",
         "rawType": "float64",
         "type": "float"
        },
        {
         "name": "HNR",
         "rawType": "float64",
         "type": "float"
        },
        {
         "name": "RPDE",
         "rawType": "float64",
         "type": "float"
        },
        {
         "name": "DFA",
         "rawType": "float64",
         "type": "float"
        },
        {
         "name": "PPE",
         "rawType": "float64",
         "type": "float"
        },
        {
         "name": "Jitter_combined",
         "rawType": "float64",
         "type": "float"
        },
        {
         "name": "Shimmer_combined",
         "rawType": "float64",
         "type": "float"
        }
       ],
       "conversionMethod": "pd.DataFrame",
       "ref": "12d4de2c-4422-4f3a-86b7-5d4ac0ba773a",
       "rows": [
        [
         "0",
         "72",
         "28.447",
         "20.533",
         "0.55096",
         "0.55348",
         "0.26094",
         "0.0064",
         "0.0927"
        ],
        [
         "1",
         "72",
         "30.917",
         "21.571",
         "0.56359",
         "0.5566",
         "0.27912",
         "0.0055",
         "0.0638"
        ],
        [
         "2",
         "72",
         "29.682",
         "25.347",
         "0.43478",
         "0.5514",
         "0.26728",
         "0.0058",
         "0.0462"
        ],
        [
         "3",
         "58",
         "11.078",
         "20.632",
         "0.541",
         "0.75905",
         "0.19288",
         "0.0042",
         "0.0841"
        ],
        [
         "4",
         "58",
         "11.218",
         "18.254",
         "0.48799",
         "0.76679",
         "0.22277",
         "0.0059",
         "0.1041"
        ]
       ],
       "shape": {
        "columns": 8,
        "rows": 5
       }
      },
      "text/html": [
       "<div>\n",
       "<style scoped>\n",
       "    .dataframe tbody tr th:only-of-type {\n",
       "        vertical-align: middle;\n",
       "    }\n",
       "\n",
       "    .dataframe tbody tr th {\n",
       "        vertical-align: top;\n",
       "    }\n",
       "\n",
       "    .dataframe thead th {\n",
       "        text-align: right;\n",
       "    }\n",
       "</style>\n",
       "<table border=\"1\" class=\"dataframe\">\n",
       "  <thead>\n",
       "    <tr style=\"text-align: right;\">\n",
       "      <th></th>\n",
       "      <th>age</th>\n",
       "      <th>motor_UPDRS</th>\n",
       "      <th>HNR</th>\n",
       "      <th>RPDE</th>\n",
       "      <th>DFA</th>\n",
       "      <th>PPE</th>\n",
       "      <th>Jitter_combined</th>\n",
       "      <th>Shimmer_combined</th>\n",
       "    </tr>\n",
       "  </thead>\n",
       "  <tbody>\n",
       "    <tr>\n",
       "      <th>0</th>\n",
       "      <td>72</td>\n",
       "      <td>28.447</td>\n",
       "      <td>20.533</td>\n",
       "      <td>0.55096</td>\n",
       "      <td>0.55348</td>\n",
       "      <td>0.26094</td>\n",
       "      <td>0.0064</td>\n",
       "      <td>0.0927</td>\n",
       "    </tr>\n",
       "    <tr>\n",
       "      <th>1</th>\n",
       "      <td>72</td>\n",
       "      <td>30.917</td>\n",
       "      <td>21.571</td>\n",
       "      <td>0.56359</td>\n",
       "      <td>0.55660</td>\n",
       "      <td>0.27912</td>\n",
       "      <td>0.0055</td>\n",
       "      <td>0.0638</td>\n",
       "    </tr>\n",
       "    <tr>\n",
       "      <th>2</th>\n",
       "      <td>72</td>\n",
       "      <td>29.682</td>\n",
       "      <td>25.347</td>\n",
       "      <td>0.43478</td>\n",
       "      <td>0.55140</td>\n",
       "      <td>0.26728</td>\n",
       "      <td>0.0058</td>\n",
       "      <td>0.0462</td>\n",
       "    </tr>\n",
       "    <tr>\n",
       "      <th>3</th>\n",
       "      <td>58</td>\n",
       "      <td>11.078</td>\n",
       "      <td>20.632</td>\n",
       "      <td>0.54100</td>\n",
       "      <td>0.75905</td>\n",
       "      <td>0.19288</td>\n",
       "      <td>0.0042</td>\n",
       "      <td>0.0841</td>\n",
       "    </tr>\n",
       "    <tr>\n",
       "      <th>4</th>\n",
       "      <td>58</td>\n",
       "      <td>11.218</td>\n",
       "      <td>18.254</td>\n",
       "      <td>0.48799</td>\n",
       "      <td>0.76679</td>\n",
       "      <td>0.22277</td>\n",
       "      <td>0.0059</td>\n",
       "      <td>0.1041</td>\n",
       "    </tr>\n",
       "  </tbody>\n",
       "</table>\n",
       "</div>"
      ],
      "text/plain": [
       "   age  motor_UPDRS     HNR     RPDE      DFA      PPE  Jitter_combined  \\\n",
       "0   72       28.447  20.533  0.55096  0.55348  0.26094           0.0064   \n",
       "1   72       30.917  21.571  0.56359  0.55660  0.27912           0.0055   \n",
       "2   72       29.682  25.347  0.43478  0.55140  0.26728           0.0058   \n",
       "3   58       11.078  20.632  0.54100  0.75905  0.19288           0.0042   \n",
       "4   58       11.218  18.254  0.48799  0.76679  0.22277           0.0059   \n",
       "\n",
       "   Shimmer_combined  \n",
       "0            0.0927  \n",
       "1            0.0638  \n",
       "2            0.0462  \n",
       "3            0.0841  \n",
       "4            0.1041  "
      ]
     },
     "execution_count": 197,
     "metadata": {},
     "output_type": "execute_result"
    }
   ],
   "source": [
    "df.head()"
   ]
  },
  {
   "cell_type": "code",
   "execution_count": 198,
   "metadata": {},
   "outputs": [
    {
     "data": {
      "text/plain": [
       "(2247, 8)"
      ]
     },
     "execution_count": 198,
     "metadata": {},
     "output_type": "execute_result"
    }
   ],
   "source": [
    "df.shape"
   ]
  },
  {
   "cell_type": "code",
   "execution_count": 199,
   "metadata": {},
   "outputs": [],
   "source": [
    "X= df.drop('motor_UPDRS', axis=1)\n",
    "y = df['motor_UPDRS']"
   ]
  },
  {
   "cell_type": "code",
   "execution_count": 200,
   "metadata": {},
   "outputs": [],
   "source": [
    "X_train, X_test, y_train, y_test = train_test_split(X, y, test_size=0.2)"
   ]
  },
  {
   "cell_type": "code",
   "execution_count": 201,
   "metadata": {},
   "outputs": [],
   "source": [
    "# Here, I am gonna to use only a few models that had the best performance in the Benchmarking notebook\n",
    "meta_model = LinearRegression()\n",
    "stacking_model = StackingRegressor(\n",
    "    estimators=[\n",
    "        ('Extra Trees Regressor', ExtraTreesRegressor(n_estimators=400, max_depth=20, min_samples_split=2, max_features='sqrt')),\n",
    "        ('Gradient Boosting Regressor', GradientBoostingRegressor(n_estimators=500, learning_rate=0.01, max_depth=10)),\n",
    "        ('XGBoost', xgb.XGBRegressor(n_estimators=400, learning_rate=0.01, max_depth=10)),\n",
    "        ('LightGBM', lgb.LGBMRegressor(n_estimators=500, learning_rate=0.01, max_depth=12, verbose=0)),\n",
    "        ('CatBoost', cb.CatBoostRegressor(n_estimators=400, learning_rate=0.01, depth=6, verbose=0)),\n",
    "    ],\n",
    "    final_estimator=meta_model, \n",
    "    cv=KFold(n_splits=5, shuffle=True, random_state=42),\n",
    ")"
   ]
  },
  {
   "cell_type": "code",
   "execution_count": 202,
   "metadata": {},
   "outputs": [
    {
     "name": "stdout",
     "output_type": "stream",
     "text": [
      "\n",
      "MAE: 2.90\n",
      "MSE: 11.62\n",
      "RMSE: 3.41\n",
      "R2: 0.72\n"
     ]
    }
   ],
   "source": [
    "meta_model.fit(X_train, y_train)  \n",
    "\n",
    "# test predictions and metrics\n",
    "predictions = meta_model.predict(X_test)\n",
    "\n",
    "mae = mean_absolute_error(y_test, predictions)\n",
    "mse = mean_squared_error(y_test, predictions)\n",
    "rmse = np.sqrt(mse).round(2)    \n",
    "r2 = r2_score(y_test, predictions)\n",
    "\n",
    "print()\n",
    "print(f\"MAE: {mae:.2f}\")\n",
    "print(f\"MSE: {mse:.2f}\")\n",
    "print(f\"RMSE: {rmse:.2f}\")\n",
    "print(f\"R2: {r2:.2f}\")"
   ]
  },
  {
   "cell_type": "markdown",
   "metadata": {},
   "source": [
    "**My model is not accurate enough for health purposes. 2.8 point error in UPDRS is important.This means that my model's predictions is not reliable for doctors or patients.**"
   ]
  },
  {
   "cell_type": "code",
   "execution_count": 206,
   "metadata": {},
   "outputs": [],
   "source": [
    "# Create new dataframe to test the model \n",
    "new_data = pd.DataFrame({\n",
    "    'age': [72],\n",
    "    'HNR': [20.12],\n",
    "    'RPDE': [0.5],\n",
    "    'DFA': [0.6],\n",
    "    'PPE': [0.2],\n",
    "    'Jitter_combined': [0.003],\n",
    "    'Shimmer_combined': [0.0256]\n",
    "})"
   ]
  },
  {
   "cell_type": "code",
   "execution_count": 207,
   "metadata": {},
   "outputs": [
    {
     "name": "stdout",
     "output_type": "stream",
     "text": [
      "Predictions:\n",
      "18.14\n"
     ]
    }
   ],
   "source": [
    "predictions = meta_model.predict(new_data)\n",
    "print(\"Predictions:\")   \n",
    "print(predictions[0].round(2))"
   ]
  }
 ],
 "metadata": {
  "kernelspec": {
   "display_name": ".venv",
   "language": "python",
   "name": "python3"
  },
  "language_info": {
   "codemirror_mode": {
    "name": "ipython",
    "version": 3
   },
   "file_extension": ".py",
   "mimetype": "text/x-python",
   "name": "python",
   "nbconvert_exporter": "python",
   "pygments_lexer": "ipython3",
   "version": "3.10.11"
  }
 },
 "nbformat": 4,
 "nbformat_minor": 2
}
