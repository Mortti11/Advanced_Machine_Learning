{
  "cells": [
    {
      "cell_type": "markdown",
      "source": [],
      "metadata": {
        "id": "aLygl8RWvJYj"
      }
    },
    {
      "cell_type": "code",
      "execution_count": null,
      "metadata": {
        "id": "ITGu4VoX2q1x"
      },
      "outputs": [],
      "source": [
        "import pandas as pd\n",
        "import numpy as np\n",
        "import string\n",
        "import nltk\n",
        "import re\n",
        "\n",
        "from tensorflow.keras.preprocessing.sequence import pad_sequences\n",
        "from tensorflow.keras.preprocessing.text import Tokenizer\n",
        "import tensorflow as tf\n",
        "\n",
        "import torch\n",
        "import torch.nn as nn\n",
        "import torch.optim as optim\n",
        "from torch.utils.data import TensorDataset, DataLoader, random_split\n",
        "from torch.optim.lr_scheduler import ReduceLROnPlateau\n",
        "from torch.nn.utils import clip_grad_norm_"
      ]
    },
    {
      "cell_type": "markdown",
      "metadata": {
        "id": "Gw2f_16y2rEL"
      },
      "source": [
        "[English Poem Dataset from Kaggle](https://www.kaggle.com/datasets/abdelrahmanekhaldi/english-poem-dataset)"
      ]
    },
    {
      "cell_type": "code",
      "execution_count": null,
      "metadata": {
        "colab": {
          "base_uri": "https://localhost:8080/",
          "height": 206
        },
        "id": "7zhTNlVf1Gsh",
        "outputId": "a4bac807-31a0-4daa-e161-935b1934d649"
      },
      "outputs": [
        {
          "output_type": "execute_result",
          "data": {
            "text/plain": [
              "                                           Title  \\\n",
              "0                                         Search   \n",
              "1                  A Poem for the Cruel Majority   \n",
              "2  “Do Not Embrace Your Mind’s New Negro Friend”   \n",
              "3                              The Greatest Love   \n",
              "4                             Bilingual/Bilingüe   \n",
              "\n",
              "                                                Poem                Poet  \\\n",
              "0  Wandered tonight through a cityas ruined as a ...       Hester Knibbe   \n",
              "1  The cruel majority emerges!Hail to the cruel m...   Jerome Rothenberg   \n",
              "2  Do not embrace your mind’s new negro friendOr ...    William Meredith   \n",
              "3  She is sixty. She livesthe greatest love of he...           Anna Swir   \n",
              "4  My father liked them separate, one there,one h...  Rhina P. Espaillat   \n",
              "\n",
              "   Genre  \n",
              "0   Fear  \n",
              "1  Anger  \n",
              "2  Anger  \n",
              "3   Love  \n",
              "4  Anger  "
            ],
            "text/html": [
              "\n",
              "  <div id=\"df-13baa615-a2cf-4eae-9d1f-8778e854e67d\" class=\"colab-df-container\">\n",
              "    <div>\n",
              "<style scoped>\n",
              "    .dataframe tbody tr th:only-of-type {\n",
              "        vertical-align: middle;\n",
              "    }\n",
              "\n",
              "    .dataframe tbody tr th {\n",
              "        vertical-align: top;\n",
              "    }\n",
              "\n",
              "    .dataframe thead th {\n",
              "        text-align: right;\n",
              "    }\n",
              "</style>\n",
              "<table border=\"1\" class=\"dataframe\">\n",
              "  <thead>\n",
              "    <tr style=\"text-align: right;\">\n",
              "      <th></th>\n",
              "      <th>Title</th>\n",
              "      <th>Poem</th>\n",
              "      <th>Poet</th>\n",
              "      <th>Genre</th>\n",
              "    </tr>\n",
              "  </thead>\n",
              "  <tbody>\n",
              "    <tr>\n",
              "      <th>0</th>\n",
              "      <td>Search</td>\n",
              "      <td>Wandered tonight through a cityas ruined as a ...</td>\n",
              "      <td>Hester Knibbe</td>\n",
              "      <td>Fear</td>\n",
              "    </tr>\n",
              "    <tr>\n",
              "      <th>1</th>\n",
              "      <td>A Poem for the Cruel Majority</td>\n",
              "      <td>The cruel majority emerges!Hail to the cruel m...</td>\n",
              "      <td>Jerome Rothenberg</td>\n",
              "      <td>Anger</td>\n",
              "    </tr>\n",
              "    <tr>\n",
              "      <th>2</th>\n",
              "      <td>“Do Not Embrace Your Mind’s New Negro Friend”</td>\n",
              "      <td>Do not embrace your mind’s new negro friendOr ...</td>\n",
              "      <td>William Meredith</td>\n",
              "      <td>Anger</td>\n",
              "    </tr>\n",
              "    <tr>\n",
              "      <th>3</th>\n",
              "      <td>The Greatest Love</td>\n",
              "      <td>She is sixty. She livesthe greatest love of he...</td>\n",
              "      <td>Anna Swir</td>\n",
              "      <td>Love</td>\n",
              "    </tr>\n",
              "    <tr>\n",
              "      <th>4</th>\n",
              "      <td>Bilingual/Bilingüe</td>\n",
              "      <td>My father liked them separate, one there,one h...</td>\n",
              "      <td>Rhina P. Espaillat</td>\n",
              "      <td>Anger</td>\n",
              "    </tr>\n",
              "  </tbody>\n",
              "</table>\n",
              "</div>\n",
              "    <div class=\"colab-df-buttons\">\n",
              "\n",
              "  <div class=\"colab-df-container\">\n",
              "    <button class=\"colab-df-convert\" onclick=\"convertToInteractive('df-13baa615-a2cf-4eae-9d1f-8778e854e67d')\"\n",
              "            title=\"Convert this dataframe to an interactive table.\"\n",
              "            style=\"display:none;\">\n",
              "\n",
              "  <svg xmlns=\"http://www.w3.org/2000/svg\" height=\"24px\" viewBox=\"0 -960 960 960\">\n",
              "    <path d=\"M120-120v-720h720v720H120Zm60-500h600v-160H180v160Zm220 220h160v-160H400v160Zm0 220h160v-160H400v160ZM180-400h160v-160H180v160Zm440 0h160v-160H620v160ZM180-180h160v-160H180v160Zm440 0h160v-160H620v160Z\"/>\n",
              "  </svg>\n",
              "    </button>\n",
              "\n",
              "  <style>\n",
              "    .colab-df-container {\n",
              "      display:flex;\n",
              "      gap: 12px;\n",
              "    }\n",
              "\n",
              "    .colab-df-convert {\n",
              "      background-color: #E8F0FE;\n",
              "      border: none;\n",
              "      border-radius: 50%;\n",
              "      cursor: pointer;\n",
              "      display: none;\n",
              "      fill: #1967D2;\n",
              "      height: 32px;\n",
              "      padding: 0 0 0 0;\n",
              "      width: 32px;\n",
              "    }\n",
              "\n",
              "    .colab-df-convert:hover {\n",
              "      background-color: #E2EBFA;\n",
              "      box-shadow: 0px 1px 2px rgba(60, 64, 67, 0.3), 0px 1px 3px 1px rgba(60, 64, 67, 0.15);\n",
              "      fill: #174EA6;\n",
              "    }\n",
              "\n",
              "    .colab-df-buttons div {\n",
              "      margin-bottom: 4px;\n",
              "    }\n",
              "\n",
              "    [theme=dark] .colab-df-convert {\n",
              "      background-color: #3B4455;\n",
              "      fill: #D2E3FC;\n",
              "    }\n",
              "\n",
              "    [theme=dark] .colab-df-convert:hover {\n",
              "      background-color: #434B5C;\n",
              "      box-shadow: 0px 1px 3px 1px rgba(0, 0, 0, 0.15);\n",
              "      filter: drop-shadow(0px 1px 2px rgba(0, 0, 0, 0.3));\n",
              "      fill: #FFFFFF;\n",
              "    }\n",
              "  </style>\n",
              "\n",
              "    <script>\n",
              "      const buttonEl =\n",
              "        document.querySelector('#df-13baa615-a2cf-4eae-9d1f-8778e854e67d button.colab-df-convert');\n",
              "      buttonEl.style.display =\n",
              "        google.colab.kernel.accessAllowed ? 'block' : 'none';\n",
              "\n",
              "      async function convertToInteractive(key) {\n",
              "        const element = document.querySelector('#df-13baa615-a2cf-4eae-9d1f-8778e854e67d');\n",
              "        const dataTable =\n",
              "          await google.colab.kernel.invokeFunction('convertToInteractive',\n",
              "                                                    [key], {});\n",
              "        if (!dataTable) return;\n",
              "\n",
              "        const docLinkHtml = 'Like what you see? Visit the ' +\n",
              "          '<a target=\"_blank\" href=https://colab.research.google.com/notebooks/data_table.ipynb>data table notebook</a>'\n",
              "          + ' to learn more about interactive tables.';\n",
              "        element.innerHTML = '';\n",
              "        dataTable['output_type'] = 'display_data';\n",
              "        await google.colab.output.renderOutput(dataTable, element);\n",
              "        const docLink = document.createElement('div');\n",
              "        docLink.innerHTML = docLinkHtml;\n",
              "        element.appendChild(docLink);\n",
              "      }\n",
              "    </script>\n",
              "  </div>\n",
              "\n",
              "\n",
              "    <div id=\"df-71797f54-f6e9-4bf2-a189-63bfa292539c\">\n",
              "      <button class=\"colab-df-quickchart\" onclick=\"quickchart('df-71797f54-f6e9-4bf2-a189-63bfa292539c')\"\n",
              "                title=\"Suggest charts\"\n",
              "                style=\"display:none;\">\n",
              "\n",
              "<svg xmlns=\"http://www.w3.org/2000/svg\" height=\"24px\"viewBox=\"0 0 24 24\"\n",
              "     width=\"24px\">\n",
              "    <g>\n",
              "        <path d=\"M19 3H5c-1.1 0-2 .9-2 2v14c0 1.1.9 2 2 2h14c1.1 0 2-.9 2-2V5c0-1.1-.9-2-2-2zM9 17H7v-7h2v7zm4 0h-2V7h2v10zm4 0h-2v-4h2v4z\"/>\n",
              "    </g>\n",
              "</svg>\n",
              "      </button>\n",
              "\n",
              "<style>\n",
              "  .colab-df-quickchart {\n",
              "      --bg-color: #E8F0FE;\n",
              "      --fill-color: #1967D2;\n",
              "      --hover-bg-color: #E2EBFA;\n",
              "      --hover-fill-color: #174EA6;\n",
              "      --disabled-fill-color: #AAA;\n",
              "      --disabled-bg-color: #DDD;\n",
              "  }\n",
              "\n",
              "  [theme=dark] .colab-df-quickchart {\n",
              "      --bg-color: #3B4455;\n",
              "      --fill-color: #D2E3FC;\n",
              "      --hover-bg-color: #434B5C;\n",
              "      --hover-fill-color: #FFFFFF;\n",
              "      --disabled-bg-color: #3B4455;\n",
              "      --disabled-fill-color: #666;\n",
              "  }\n",
              "\n",
              "  .colab-df-quickchart {\n",
              "    background-color: var(--bg-color);\n",
              "    border: none;\n",
              "    border-radius: 50%;\n",
              "    cursor: pointer;\n",
              "    display: none;\n",
              "    fill: var(--fill-color);\n",
              "    height: 32px;\n",
              "    padding: 0;\n",
              "    width: 32px;\n",
              "  }\n",
              "\n",
              "  .colab-df-quickchart:hover {\n",
              "    background-color: var(--hover-bg-color);\n",
              "    box-shadow: 0 1px 2px rgba(60, 64, 67, 0.3), 0 1px 3px 1px rgba(60, 64, 67, 0.15);\n",
              "    fill: var(--button-hover-fill-color);\n",
              "  }\n",
              "\n",
              "  .colab-df-quickchart-complete:disabled,\n",
              "  .colab-df-quickchart-complete:disabled:hover {\n",
              "    background-color: var(--disabled-bg-color);\n",
              "    fill: var(--disabled-fill-color);\n",
              "    box-shadow: none;\n",
              "  }\n",
              "\n",
              "  .colab-df-spinner {\n",
              "    border: 2px solid var(--fill-color);\n",
              "    border-color: transparent;\n",
              "    border-bottom-color: var(--fill-color);\n",
              "    animation:\n",
              "      spin 1s steps(1) infinite;\n",
              "  }\n",
              "\n",
              "  @keyframes spin {\n",
              "    0% {\n",
              "      border-color: transparent;\n",
              "      border-bottom-color: var(--fill-color);\n",
              "      border-left-color: var(--fill-color);\n",
              "    }\n",
              "    20% {\n",
              "      border-color: transparent;\n",
              "      border-left-color: var(--fill-color);\n",
              "      border-top-color: var(--fill-color);\n",
              "    }\n",
              "    30% {\n",
              "      border-color: transparent;\n",
              "      border-left-color: var(--fill-color);\n",
              "      border-top-color: var(--fill-color);\n",
              "      border-right-color: var(--fill-color);\n",
              "    }\n",
              "    40% {\n",
              "      border-color: transparent;\n",
              "      border-right-color: var(--fill-color);\n",
              "      border-top-color: var(--fill-color);\n",
              "    }\n",
              "    60% {\n",
              "      border-color: transparent;\n",
              "      border-right-color: var(--fill-color);\n",
              "    }\n",
              "    80% {\n",
              "      border-color: transparent;\n",
              "      border-right-color: var(--fill-color);\n",
              "      border-bottom-color: var(--fill-color);\n",
              "    }\n",
              "    90% {\n",
              "      border-color: transparent;\n",
              "      border-bottom-color: var(--fill-color);\n",
              "    }\n",
              "  }\n",
              "</style>\n",
              "\n",
              "      <script>\n",
              "        async function quickchart(key) {\n",
              "          const quickchartButtonEl =\n",
              "            document.querySelector('#' + key + ' button');\n",
              "          quickchartButtonEl.disabled = true;  // To prevent multiple clicks.\n",
              "          quickchartButtonEl.classList.add('colab-df-spinner');\n",
              "          try {\n",
              "            const charts = await google.colab.kernel.invokeFunction(\n",
              "                'suggestCharts', [key], {});\n",
              "          } catch (error) {\n",
              "            console.error('Error during call to suggestCharts:', error);\n",
              "          }\n",
              "          quickchartButtonEl.classList.remove('colab-df-spinner');\n",
              "          quickchartButtonEl.classList.add('colab-df-quickchart-complete');\n",
              "        }\n",
              "        (() => {\n",
              "          let quickchartButtonEl =\n",
              "            document.querySelector('#df-71797f54-f6e9-4bf2-a189-63bfa292539c button');\n",
              "          quickchartButtonEl.style.display =\n",
              "            google.colab.kernel.accessAllowed ? 'block' : 'none';\n",
              "        })();\n",
              "      </script>\n",
              "    </div>\n",
              "\n",
              "    </div>\n",
              "  </div>\n"
            ],
            "application/vnd.google.colaboratory.intrinsic+json": {
              "type": "dataframe",
              "variable_name": "df",
              "summary": "{\n  \"name\": \"df\",\n  \"rows\": 10000,\n  \"fields\": [\n    {\n      \"column\": \"Title\",\n      \"properties\": {\n        \"dtype\": \"string\",\n        \"num_unique_values\": 9641,\n        \"samples\": [\n          \"Godolphin Horne, Who was Cursed with the Sin of Pride, and Became a Boot-Black\",\n          \"Song: \\u201cWho is Silvia? what is she\\u201d\",\n          \"Le sporting-club de Monte Carlo (for Lena Horne)\"\n        ],\n        \"semantic_type\": \"\",\n        \"description\": \"\"\n      }\n    },\n    {\n      \"column\": \"Poem\",\n      \"properties\": {\n        \"dtype\": \"string\",\n        \"num_unique_values\": 9921,\n        \"samples\": [\n          \"I made up a story for myself once,   That each glove I lost   Was sent to my father in prison   That\\u2019s all it would take for him   To chart my growth without pictures   Without words or visits,   Only colors and design,   Texture; it was ok then   For skin to chafe and ash,   To imagine him   Trying on a glove,   Stretching it out   My open palm closing   And disappearing   In his fist.\",\n          \"Let me call a ghost,Love, so it be little:In December we tookNo thought for the weather.Whom now shall I thankFor this wealth of water?Your heart loves harborsWhere I am a stranger.Where was it we layNeeding no otherTwelve days and twelve nightsIn each other\\u2019s eyes?Or was it at BabelAnd the days too smallWe spoke our own tongueNeeding no other?If a seed grow greenSet a stone upon itThat it learn therebyHoly charity.If you must smileAlways on that other,Cut me from ear to earAnd we all smile together.\",\n          \"The ancients would lift          a clay spout to your lips\\u2014          water and honey and wine.I give you milk, softened         with wine, and swearyou'll never hunger, never         thirst while I'm alive.What suffering I can't preclude         I'll soothe with singing:My future, for younot the greenness of a leaf         but of the leaves on all         the April branches.Fire, I give you fuel. I sweat         and chop the wood.I tender forever in you         who begin where I end as ifyour body is         my body, your elegance         my elegance.Sustenance, emptiness         is lack of you, yearning isthe road to where you are.You are the road, the where,         the song, the hunger. Child,I give you sleep, I sing                                          you there.\"\n        ],\n        \"semantic_type\": \"\",\n        \"description\": \"\"\n      }\n    },\n    {\n      \"column\": \"Poet\",\n      \"properties\": {\n        \"dtype\": \"category\",\n        \"num_unique_values\": 2787,\n        \"samples\": [\n          \"Chitra Banerjee Divakaruni\",\n          \"Natasha Saj\\u00e9\",\n          \"Deborah Cummins\"\n        ],\n        \"semantic_type\": \"\",\n        \"description\": \"\"\n      }\n    },\n    {\n      \"column\": \"Genre\",\n      \"properties\": {\n        \"dtype\": \"category\",\n        \"num_unique_values\": 6,\n        \"samples\": [\n          \"Fear\",\n          \"Anger\",\n          \"Surprise\"\n        ],\n        \"semantic_type\": \"\",\n        \"description\": \"\"\n      }\n    }\n  ]\n}"
            }
          },
          "metadata": {},
          "execution_count": 5
        }
      ],
      "source": [
        "# Loading the data\n",
        "df = pd.read_csv('/content/drive/MyDrive/NLP-third_assignment /PoemDataset.csv/PoemDataset.csv')\n",
        "df.head()"
      ]
    },
    {
      "cell_type": "code",
      "execution_count": null,
      "metadata": {
        "colab": {
          "base_uri": "https://localhost:8080/"
        },
        "id": "V7dfU4qe1SqZ",
        "outputId": "93f62ec1-0a46-4c31-e9f2-b7f2531c918d"
      },
      "outputs": [
        {
          "output_type": "execute_result",
          "data": {
            "text/plain": [
              "(10000, 4)"
            ]
          },
          "metadata": {},
          "execution_count": 6
        }
      ],
      "source": [
        "df.shape"
      ]
    },
    {
      "cell_type": "code",
      "execution_count": null,
      "metadata": {
        "colab": {
          "base_uri": "https://localhost:8080/",
          "height": 676
        },
        "id": "PjCdlgwT1wv0",
        "outputId": "a8066cc4-05c9-4c98-cbb2-67de87303229"
      },
      "outputs": [
        {
          "output_type": "execute_result",
          "data": {
            "text/plain": [
              "                                             Title  \\\n",
              "0                                           Search   \n",
              "1                    A Poem for the Cruel Majority   \n",
              "2    “Do Not Embrace Your Mind’s New Negro Friend”   \n",
              "3                                The Greatest Love   \n",
              "4                               Bilingual/Bilingüe   \n",
              "5                                    The War Films   \n",
              "6                     Of the Education of Children   \n",
              "7                            from America, America   \n",
              "8                      Poisonous Plants of America   \n",
              "9                                   Morte d'Arthur   \n",
              "10                                The Summer Bower   \n",
              "11                 A Carafe, that is a Blind Glass   \n",
              "12                                          Mutter   \n",
              "13                                 Eating Together   \n",
              "14            Ghazal for Becoming Your Own Country   \n",
              "15                            Sather Tower Mystery   \n",
              "16                                      Meditation   \n",
              "17  Spring and All: XIX [This is the time of year]   \n",
              "18                             On English Monsieur   \n",
              "19                                 The Young Blake   \n",
              "\n",
              "                                                 Poem     Genre  \n",
              "0   Wandered tonight through a cityas ruined as a ...      Fear  \n",
              "1   The cruel majority emerges!Hail to the cruel m...     Anger  \n",
              "2   Do not embrace your mind’s new negro friendOr ...     Anger  \n",
              "3   She is sixty. She livesthe greatest love of he...      Love  \n",
              "4   My father liked them separate, one there,one h...     Anger  \n",
              "5   O living pictures of the dead, O songs without...      Fear  \n",
              "6   I was planted, a cropnot a boy but with headlo...   Sadness  \n",
              "7   God save America,               My home, sweet...       Joy  \n",
              "8   April foolBear's-footBog-onionDevil's-appleDog...      Fear  \n",
              "9   So all day long the noise of battle roll'd Amo...      Fear  \n",
              "10  It is a place whither I’ve often goneFor peace...       Joy  \n",
              "11  A kind in glass and a cousin, a spectacle and ...  Surprise  \n",
              "12  There is a brand of play called mutenessBeneat...     Anger  \n",
              "13  I know my friend is going,though she still sit...       Joy  \n",
              "14  After Rachel Eliza Griffiths’s “Self Stones Co...      Fear  \n",
              "15  Seems there was this Professora member of what...     Anger  \n",
              "16  after BaudelaireQuiet now, sorrow; relax. Calm...     Anger  \n",
              "17  This is the time of yearwhen boys fifteen and ...     Anger  \n",
              "18  Would you believe, when you this monsieur see,...      Fear  \n",
              "19  sleeps into heaven with his lamps on, finishin...  Surprise  "
            ],
            "text/html": [
              "\n",
              "  <div id=\"df-7e8d51bb-8c26-4f5f-be1b-67bc7bb4b9c7\" class=\"colab-df-container\">\n",
              "    <div>\n",
              "<style scoped>\n",
              "    .dataframe tbody tr th:only-of-type {\n",
              "        vertical-align: middle;\n",
              "    }\n",
              "\n",
              "    .dataframe tbody tr th {\n",
              "        vertical-align: top;\n",
              "    }\n",
              "\n",
              "    .dataframe thead th {\n",
              "        text-align: right;\n",
              "    }\n",
              "</style>\n",
              "<table border=\"1\" class=\"dataframe\">\n",
              "  <thead>\n",
              "    <tr style=\"text-align: right;\">\n",
              "      <th></th>\n",
              "      <th>Title</th>\n",
              "      <th>Poem</th>\n",
              "      <th>Genre</th>\n",
              "    </tr>\n",
              "  </thead>\n",
              "  <tbody>\n",
              "    <tr>\n",
              "      <th>0</th>\n",
              "      <td>Search</td>\n",
              "      <td>Wandered tonight through a cityas ruined as a ...</td>\n",
              "      <td>Fear</td>\n",
              "    </tr>\n",
              "    <tr>\n",
              "      <th>1</th>\n",
              "      <td>A Poem for the Cruel Majority</td>\n",
              "      <td>The cruel majority emerges!Hail to the cruel m...</td>\n",
              "      <td>Anger</td>\n",
              "    </tr>\n",
              "    <tr>\n",
              "      <th>2</th>\n",
              "      <td>“Do Not Embrace Your Mind’s New Negro Friend”</td>\n",
              "      <td>Do not embrace your mind’s new negro friendOr ...</td>\n",
              "      <td>Anger</td>\n",
              "    </tr>\n",
              "    <tr>\n",
              "      <th>3</th>\n",
              "      <td>The Greatest Love</td>\n",
              "      <td>She is sixty. She livesthe greatest love of he...</td>\n",
              "      <td>Love</td>\n",
              "    </tr>\n",
              "    <tr>\n",
              "      <th>4</th>\n",
              "      <td>Bilingual/Bilingüe</td>\n",
              "      <td>My father liked them separate, one there,one h...</td>\n",
              "      <td>Anger</td>\n",
              "    </tr>\n",
              "    <tr>\n",
              "      <th>5</th>\n",
              "      <td>The War Films</td>\n",
              "      <td>O living pictures of the dead, O songs without...</td>\n",
              "      <td>Fear</td>\n",
              "    </tr>\n",
              "    <tr>\n",
              "      <th>6</th>\n",
              "      <td>Of the Education of Children</td>\n",
              "      <td>I was planted, a cropnot a boy but with headlo...</td>\n",
              "      <td>Sadness</td>\n",
              "    </tr>\n",
              "    <tr>\n",
              "      <th>7</th>\n",
              "      <td>from America, America</td>\n",
              "      <td>God save America,               My home, sweet...</td>\n",
              "      <td>Joy</td>\n",
              "    </tr>\n",
              "    <tr>\n",
              "      <th>8</th>\n",
              "      <td>Poisonous Plants of America</td>\n",
              "      <td>April foolBear's-footBog-onionDevil's-appleDog...</td>\n",
              "      <td>Fear</td>\n",
              "    </tr>\n",
              "    <tr>\n",
              "      <th>9</th>\n",
              "      <td>Morte d'Arthur</td>\n",
              "      <td>So all day long the noise of battle roll'd Amo...</td>\n",
              "      <td>Fear</td>\n",
              "    </tr>\n",
              "    <tr>\n",
              "      <th>10</th>\n",
              "      <td>The Summer Bower</td>\n",
              "      <td>It is a place whither I’ve often goneFor peace...</td>\n",
              "      <td>Joy</td>\n",
              "    </tr>\n",
              "    <tr>\n",
              "      <th>11</th>\n",
              "      <td>A Carafe, that is a Blind Glass</td>\n",
              "      <td>A kind in glass and a cousin, a spectacle and ...</td>\n",
              "      <td>Surprise</td>\n",
              "    </tr>\n",
              "    <tr>\n",
              "      <th>12</th>\n",
              "      <td>Mutter</td>\n",
              "      <td>There is a brand of play called mutenessBeneat...</td>\n",
              "      <td>Anger</td>\n",
              "    </tr>\n",
              "    <tr>\n",
              "      <th>13</th>\n",
              "      <td>Eating Together</td>\n",
              "      <td>I know my friend is going,though she still sit...</td>\n",
              "      <td>Joy</td>\n",
              "    </tr>\n",
              "    <tr>\n",
              "      <th>14</th>\n",
              "      <td>Ghazal for Becoming Your Own Country</td>\n",
              "      <td>After Rachel Eliza Griffiths’s “Self Stones Co...</td>\n",
              "      <td>Fear</td>\n",
              "    </tr>\n",
              "    <tr>\n",
              "      <th>15</th>\n",
              "      <td>Sather Tower Mystery</td>\n",
              "      <td>Seems there was this Professora member of what...</td>\n",
              "      <td>Anger</td>\n",
              "    </tr>\n",
              "    <tr>\n",
              "      <th>16</th>\n",
              "      <td>Meditation</td>\n",
              "      <td>after BaudelaireQuiet now, sorrow; relax. Calm...</td>\n",
              "      <td>Anger</td>\n",
              "    </tr>\n",
              "    <tr>\n",
              "      <th>17</th>\n",
              "      <td>Spring and All: XIX [This is the time of year]</td>\n",
              "      <td>This is the time of yearwhen boys fifteen and ...</td>\n",
              "      <td>Anger</td>\n",
              "    </tr>\n",
              "    <tr>\n",
              "      <th>18</th>\n",
              "      <td>On English Monsieur</td>\n",
              "      <td>Would you believe, when you this monsieur see,...</td>\n",
              "      <td>Fear</td>\n",
              "    </tr>\n",
              "    <tr>\n",
              "      <th>19</th>\n",
              "      <td>The Young Blake</td>\n",
              "      <td>sleeps into heaven with his lamps on, finishin...</td>\n",
              "      <td>Surprise</td>\n",
              "    </tr>\n",
              "  </tbody>\n",
              "</table>\n",
              "</div>\n",
              "    <div class=\"colab-df-buttons\">\n",
              "\n",
              "  <div class=\"colab-df-container\">\n",
              "    <button class=\"colab-df-convert\" onclick=\"convertToInteractive('df-7e8d51bb-8c26-4f5f-be1b-67bc7bb4b9c7')\"\n",
              "            title=\"Convert this dataframe to an interactive table.\"\n",
              "            style=\"display:none;\">\n",
              "\n",
              "  <svg xmlns=\"http://www.w3.org/2000/svg\" height=\"24px\" viewBox=\"0 -960 960 960\">\n",
              "    <path d=\"M120-120v-720h720v720H120Zm60-500h600v-160H180v160Zm220 220h160v-160H400v160Zm0 220h160v-160H400v160ZM180-400h160v-160H180v160Zm440 0h160v-160H620v160ZM180-180h160v-160H180v160Zm440 0h160v-160H620v160Z\"/>\n",
              "  </svg>\n",
              "    </button>\n",
              "\n",
              "  <style>\n",
              "    .colab-df-container {\n",
              "      display:flex;\n",
              "      gap: 12px;\n",
              "    }\n",
              "\n",
              "    .colab-df-convert {\n",
              "      background-color: #E8F0FE;\n",
              "      border: none;\n",
              "      border-radius: 50%;\n",
              "      cursor: pointer;\n",
              "      display: none;\n",
              "      fill: #1967D2;\n",
              "      height: 32px;\n",
              "      padding: 0 0 0 0;\n",
              "      width: 32px;\n",
              "    }\n",
              "\n",
              "    .colab-df-convert:hover {\n",
              "      background-color: #E2EBFA;\n",
              "      box-shadow: 0px 1px 2px rgba(60, 64, 67, 0.3), 0px 1px 3px 1px rgba(60, 64, 67, 0.15);\n",
              "      fill: #174EA6;\n",
              "    }\n",
              "\n",
              "    .colab-df-buttons div {\n",
              "      margin-bottom: 4px;\n",
              "    }\n",
              "\n",
              "    [theme=dark] .colab-df-convert {\n",
              "      background-color: #3B4455;\n",
              "      fill: #D2E3FC;\n",
              "    }\n",
              "\n",
              "    [theme=dark] .colab-df-convert:hover {\n",
              "      background-color: #434B5C;\n",
              "      box-shadow: 0px 1px 3px 1px rgba(0, 0, 0, 0.15);\n",
              "      filter: drop-shadow(0px 1px 2px rgba(0, 0, 0, 0.3));\n",
              "      fill: #FFFFFF;\n",
              "    }\n",
              "  </style>\n",
              "\n",
              "    <script>\n",
              "      const buttonEl =\n",
              "        document.querySelector('#df-7e8d51bb-8c26-4f5f-be1b-67bc7bb4b9c7 button.colab-df-convert');\n",
              "      buttonEl.style.display =\n",
              "        google.colab.kernel.accessAllowed ? 'block' : 'none';\n",
              "\n",
              "      async function convertToInteractive(key) {\n",
              "        const element = document.querySelector('#df-7e8d51bb-8c26-4f5f-be1b-67bc7bb4b9c7');\n",
              "        const dataTable =\n",
              "          await google.colab.kernel.invokeFunction('convertToInteractive',\n",
              "                                                    [key], {});\n",
              "        if (!dataTable) return;\n",
              "\n",
              "        const docLinkHtml = 'Like what you see? Visit the ' +\n",
              "          '<a target=\"_blank\" href=https://colab.research.google.com/notebooks/data_table.ipynb>data table notebook</a>'\n",
              "          + ' to learn more about interactive tables.';\n",
              "        element.innerHTML = '';\n",
              "        dataTable['output_type'] = 'display_data';\n",
              "        await google.colab.output.renderOutput(dataTable, element);\n",
              "        const docLink = document.createElement('div');\n",
              "        docLink.innerHTML = docLinkHtml;\n",
              "        element.appendChild(docLink);\n",
              "      }\n",
              "    </script>\n",
              "  </div>\n",
              "\n",
              "\n",
              "    <div id=\"df-abae395d-80be-49fb-aaaf-c0c320345a10\">\n",
              "      <button class=\"colab-df-quickchart\" onclick=\"quickchart('df-abae395d-80be-49fb-aaaf-c0c320345a10')\"\n",
              "                title=\"Suggest charts\"\n",
              "                style=\"display:none;\">\n",
              "\n",
              "<svg xmlns=\"http://www.w3.org/2000/svg\" height=\"24px\"viewBox=\"0 0 24 24\"\n",
              "     width=\"24px\">\n",
              "    <g>\n",
              "        <path d=\"M19 3H5c-1.1 0-2 .9-2 2v14c0 1.1.9 2 2 2h14c1.1 0 2-.9 2-2V5c0-1.1-.9-2-2-2zM9 17H7v-7h2v7zm4 0h-2V7h2v10zm4 0h-2v-4h2v4z\"/>\n",
              "    </g>\n",
              "</svg>\n",
              "      </button>\n",
              "\n",
              "<style>\n",
              "  .colab-df-quickchart {\n",
              "      --bg-color: #E8F0FE;\n",
              "      --fill-color: #1967D2;\n",
              "      --hover-bg-color: #E2EBFA;\n",
              "      --hover-fill-color: #174EA6;\n",
              "      --disabled-fill-color: #AAA;\n",
              "      --disabled-bg-color: #DDD;\n",
              "  }\n",
              "\n",
              "  [theme=dark] .colab-df-quickchart {\n",
              "      --bg-color: #3B4455;\n",
              "      --fill-color: #D2E3FC;\n",
              "      --hover-bg-color: #434B5C;\n",
              "      --hover-fill-color: #FFFFFF;\n",
              "      --disabled-bg-color: #3B4455;\n",
              "      --disabled-fill-color: #666;\n",
              "  }\n",
              "\n",
              "  .colab-df-quickchart {\n",
              "    background-color: var(--bg-color);\n",
              "    border: none;\n",
              "    border-radius: 50%;\n",
              "    cursor: pointer;\n",
              "    display: none;\n",
              "    fill: var(--fill-color);\n",
              "    height: 32px;\n",
              "    padding: 0;\n",
              "    width: 32px;\n",
              "  }\n",
              "\n",
              "  .colab-df-quickchart:hover {\n",
              "    background-color: var(--hover-bg-color);\n",
              "    box-shadow: 0 1px 2px rgba(60, 64, 67, 0.3), 0 1px 3px 1px rgba(60, 64, 67, 0.15);\n",
              "    fill: var(--button-hover-fill-color);\n",
              "  }\n",
              "\n",
              "  .colab-df-quickchart-complete:disabled,\n",
              "  .colab-df-quickchart-complete:disabled:hover {\n",
              "    background-color: var(--disabled-bg-color);\n",
              "    fill: var(--disabled-fill-color);\n",
              "    box-shadow: none;\n",
              "  }\n",
              "\n",
              "  .colab-df-spinner {\n",
              "    border: 2px solid var(--fill-color);\n",
              "    border-color: transparent;\n",
              "    border-bottom-color: var(--fill-color);\n",
              "    animation:\n",
              "      spin 1s steps(1) infinite;\n",
              "  }\n",
              "\n",
              "  @keyframes spin {\n",
              "    0% {\n",
              "      border-color: transparent;\n",
              "      border-bottom-color: var(--fill-color);\n",
              "      border-left-color: var(--fill-color);\n",
              "    }\n",
              "    20% {\n",
              "      border-color: transparent;\n",
              "      border-left-color: var(--fill-color);\n",
              "      border-top-color: var(--fill-color);\n",
              "    }\n",
              "    30% {\n",
              "      border-color: transparent;\n",
              "      border-left-color: var(--fill-color);\n",
              "      border-top-color: var(--fill-color);\n",
              "      border-right-color: var(--fill-color);\n",
              "    }\n",
              "    40% {\n",
              "      border-color: transparent;\n",
              "      border-right-color: var(--fill-color);\n",
              "      border-top-color: var(--fill-color);\n",
              "    }\n",
              "    60% {\n",
              "      border-color: transparent;\n",
              "      border-right-color: var(--fill-color);\n",
              "    }\n",
              "    80% {\n",
              "      border-color: transparent;\n",
              "      border-right-color: var(--fill-color);\n",
              "      border-bottom-color: var(--fill-color);\n",
              "    }\n",
              "    90% {\n",
              "      border-color: transparent;\n",
              "      border-bottom-color: var(--fill-color);\n",
              "    }\n",
              "  }\n",
              "</style>\n",
              "\n",
              "      <script>\n",
              "        async function quickchart(key) {\n",
              "          const quickchartButtonEl =\n",
              "            document.querySelector('#' + key + ' button');\n",
              "          quickchartButtonEl.disabled = true;  // To prevent multiple clicks.\n",
              "          quickchartButtonEl.classList.add('colab-df-spinner');\n",
              "          try {\n",
              "            const charts = await google.colab.kernel.invokeFunction(\n",
              "                'suggestCharts', [key], {});\n",
              "          } catch (error) {\n",
              "            console.error('Error during call to suggestCharts:', error);\n",
              "          }\n",
              "          quickchartButtonEl.classList.remove('colab-df-spinner');\n",
              "          quickchartButtonEl.classList.add('colab-df-quickchart-complete');\n",
              "        }\n",
              "        (() => {\n",
              "          let quickchartButtonEl =\n",
              "            document.querySelector('#df-abae395d-80be-49fb-aaaf-c0c320345a10 button');\n",
              "          quickchartButtonEl.style.display =\n",
              "            google.colab.kernel.accessAllowed ? 'block' : 'none';\n",
              "        })();\n",
              "      </script>\n",
              "    </div>\n",
              "\n",
              "    </div>\n",
              "  </div>\n"
            ],
            "application/vnd.google.colaboratory.intrinsic+json": {
              "type": "dataframe",
              "variable_name": "df",
              "summary": "{\n  \"name\": \"df\",\n  \"rows\": 10000,\n  \"fields\": [\n    {\n      \"column\": \"Title\",\n      \"properties\": {\n        \"dtype\": \"string\",\n        \"num_unique_values\": 9641,\n        \"samples\": [\n          \"Godolphin Horne, Who was Cursed with the Sin of Pride, and Became a Boot-Black\",\n          \"Song: \\u201cWho is Silvia? what is she\\u201d\",\n          \"Le sporting-club de Monte Carlo (for Lena Horne)\"\n        ],\n        \"semantic_type\": \"\",\n        \"description\": \"\"\n      }\n    },\n    {\n      \"column\": \"Poem\",\n      \"properties\": {\n        \"dtype\": \"string\",\n        \"num_unique_values\": 9921,\n        \"samples\": [\n          \"I made up a story for myself once,   That each glove I lost   Was sent to my father in prison   That\\u2019s all it would take for him   To chart my growth without pictures   Without words or visits,   Only colors and design,   Texture; it was ok then   For skin to chafe and ash,   To imagine him   Trying on a glove,   Stretching it out   My open palm closing   And disappearing   In his fist.\",\n          \"Let me call a ghost,Love, so it be little:In December we tookNo thought for the weather.Whom now shall I thankFor this wealth of water?Your heart loves harborsWhere I am a stranger.Where was it we layNeeding no otherTwelve days and twelve nightsIn each other\\u2019s eyes?Or was it at BabelAnd the days too smallWe spoke our own tongueNeeding no other?If a seed grow greenSet a stone upon itThat it learn therebyHoly charity.If you must smileAlways on that other,Cut me from ear to earAnd we all smile together.\",\n          \"The ancients would lift          a clay spout to your lips\\u2014          water and honey and wine.I give you milk, softened         with wine, and swearyou'll never hunger, never         thirst while I'm alive.What suffering I can't preclude         I'll soothe with singing:My future, for younot the greenness of a leaf         but of the leaves on all         the April branches.Fire, I give you fuel. I sweat         and chop the wood.I tender forever in you         who begin where I end as ifyour body is         my body, your elegance         my elegance.Sustenance, emptiness         is lack of you, yearning isthe road to where you are.You are the road, the where,         the song, the hunger. Child,I give you sleep, I sing                                          you there.\"\n        ],\n        \"semantic_type\": \"\",\n        \"description\": \"\"\n      }\n    },\n    {\n      \"column\": \"Genre\",\n      \"properties\": {\n        \"dtype\": \"category\",\n        \"num_unique_values\": 6,\n        \"samples\": [\n          \"Fear\",\n          \"Anger\",\n          \"Surprise\"\n        ],\n        \"semantic_type\": \"\",\n        \"description\": \"\"\n      }\n    }\n  ]\n}"
            }
          },
          "metadata": {},
          "execution_count": 7
        }
      ],
      "source": [
        "#  Peot is not important to have it in dataset\n",
        "df = df.drop(columns=['Poet'])\n",
        "df.head(20)"
      ]
    },
    {
      "cell_type": "code",
      "execution_count": null,
      "metadata": {
        "colab": {
          "base_uri": "https://localhost:8080/"
        },
        "id": "HWUAntad64_j",
        "outputId": "a0e66b8e-9c79-431f-8083-b902fe17c677"
      },
      "outputs": [
        {
          "output_type": "stream",
          "name": "stdout",
          "text": [
            "<class 'pandas.core.frame.DataFrame'>\n",
            "RangeIndex: 10000 entries, 0 to 9999\n",
            "Data columns (total 3 columns):\n",
            " #   Column  Non-Null Count  Dtype \n",
            "---  ------  --------------  ----- \n",
            " 0   Title   9999 non-null   object\n",
            " 1   Poem    9928 non-null   object\n",
            " 2   Genre   10000 non-null  object\n",
            "dtypes: object(3)\n",
            "memory usage: 234.5+ KB\n"
          ]
        }
      ],
      "source": [
        "df.info()"
      ]
    },
    {
      "cell_type": "markdown",
      "metadata": {
        "id": "a8ZtTzwbQ_vY"
      },
      "source": [
        "# Preprocessing"
      ]
    },
    {
      "cell_type": "markdown",
      "metadata": {
        "id": "ZLdm9icE34Sf"
      },
      "source": [
        "# Text cleaning"
      ]
    },
    {
      "cell_type": "code",
      "execution_count": null,
      "metadata": {
        "id": "K9i8Gakj2YsQ"
      },
      "outputs": [],
      "source": [
        "# what I can see, in title column.  I will define function to clean the text\n",
        "def clean(text):\n",
        "    if pd.isnull(text):\n",
        "        return ''\n",
        "    # In dataset, there are some chines characters, I will remove them, but I noticed that in dataset there are non English words as well , which have the same characters as English words.\n",
        "    text = re.sub(r'[^A-Za-z\\s]', '', text)\n",
        "    # Collapse multiple whitespace characters into a single space\n",
        "    text = re.sub(r'\\s+', ' ', text).strip()\n",
        "    return text.lower()\n",
        "\n",
        " # When I apply the function, I got \"TypeError: 'float' object is not iterable\" that some values are not string\n",
        "# For debugging the error, I used Qwen 2.5."
      ]
    },
    {
      "cell_type": "code",
      "execution_count": null,
      "metadata": {
        "colab": {
          "base_uri": "https://localhost:8080/",
          "height": 519
        },
        "id": "diXCmHE66cb0",
        "outputId": "47abb3b3-ea87-4c00-deb8-4227769335bf"
      },
      "outputs": [
        {
          "output_type": "execute_result",
          "data": {
            "text/plain": [
              "                                            Title  \\\n",
              "0                                          Search   \n",
              "1                   A Poem for the Cruel Majority   \n",
              "2   “Do Not Embrace Your Mind’s New Negro Friend”   \n",
              "3                               The Greatest Love   \n",
              "4                              Bilingual/Bilingüe   \n",
              "5                                   The War Films   \n",
              "6                    Of the Education of Children   \n",
              "7                           from America, America   \n",
              "8                     Poisonous Plants of America   \n",
              "9                                  Morte d'Arthur   \n",
              "10                               The Summer Bower   \n",
              "11                A Carafe, that is a Blind Glass   \n",
              "12                                         Mutter   \n",
              "13                                Eating Together   \n",
              "14           Ghazal for Becoming Your Own Country   \n",
              "\n",
              "                                                 Poem     Genre  \n",
              "0   wandered tonight through a cityas ruined as a ...      Fear  \n",
              "1   the cruel majority emergeshail to the cruel ma...     Anger  \n",
              "2   do not embrace your minds new negro friendor e...     Anger  \n",
              "3   she is sixty she livesthe greatest love of her...      Love  \n",
              "4   my father liked them separate one thereone her...     Anger  \n",
              "5   o living pictures of the dead o songs without ...      Fear  \n",
              "6   i was planted a cropnot a boy but with headlon...   Sadness  \n",
              "7                 god save america my home sweet home       Joy  \n",
              "8   april foolbearsfootbogoniondevilsappledog pars...      Fear  \n",
              "9   so all day long the noise of battle rolld amon...      Fear  \n",
              "10  it is a place whither ive often gonefor peace ...       Joy  \n",
              "11  a kind in glass and a cousin a spectacle and n...  Surprise  \n",
              "12  there is a brand of play called mutenessbeneat...     Anger  \n",
              "13  i know my friend is goingthough she still sits...       Joy  \n",
              "14  after rachel eliza griffithss self stones coun...      Fear  "
            ],
            "text/html": [
              "\n",
              "  <div id=\"df-edce0870-22fb-449b-a829-d0ce5148d31f\" class=\"colab-df-container\">\n",
              "    <div>\n",
              "<style scoped>\n",
              "    .dataframe tbody tr th:only-of-type {\n",
              "        vertical-align: middle;\n",
              "    }\n",
              "\n",
              "    .dataframe tbody tr th {\n",
              "        vertical-align: top;\n",
              "    }\n",
              "\n",
              "    .dataframe thead th {\n",
              "        text-align: right;\n",
              "    }\n",
              "</style>\n",
              "<table border=\"1\" class=\"dataframe\">\n",
              "  <thead>\n",
              "    <tr style=\"text-align: right;\">\n",
              "      <th></th>\n",
              "      <th>Title</th>\n",
              "      <th>Poem</th>\n",
              "      <th>Genre</th>\n",
              "    </tr>\n",
              "  </thead>\n",
              "  <tbody>\n",
              "    <tr>\n",
              "      <th>0</th>\n",
              "      <td>Search</td>\n",
              "      <td>wandered tonight through a cityas ruined as a ...</td>\n",
              "      <td>Fear</td>\n",
              "    </tr>\n",
              "    <tr>\n",
              "      <th>1</th>\n",
              "      <td>A Poem for the Cruel Majority</td>\n",
              "      <td>the cruel majority emergeshail to the cruel ma...</td>\n",
              "      <td>Anger</td>\n",
              "    </tr>\n",
              "    <tr>\n",
              "      <th>2</th>\n",
              "      <td>“Do Not Embrace Your Mind’s New Negro Friend”</td>\n",
              "      <td>do not embrace your minds new negro friendor e...</td>\n",
              "      <td>Anger</td>\n",
              "    </tr>\n",
              "    <tr>\n",
              "      <th>3</th>\n",
              "      <td>The Greatest Love</td>\n",
              "      <td>she is sixty she livesthe greatest love of her...</td>\n",
              "      <td>Love</td>\n",
              "    </tr>\n",
              "    <tr>\n",
              "      <th>4</th>\n",
              "      <td>Bilingual/Bilingüe</td>\n",
              "      <td>my father liked them separate one thereone her...</td>\n",
              "      <td>Anger</td>\n",
              "    </tr>\n",
              "    <tr>\n",
              "      <th>5</th>\n",
              "      <td>The War Films</td>\n",
              "      <td>o living pictures of the dead o songs without ...</td>\n",
              "      <td>Fear</td>\n",
              "    </tr>\n",
              "    <tr>\n",
              "      <th>6</th>\n",
              "      <td>Of the Education of Children</td>\n",
              "      <td>i was planted a cropnot a boy but with headlon...</td>\n",
              "      <td>Sadness</td>\n",
              "    </tr>\n",
              "    <tr>\n",
              "      <th>7</th>\n",
              "      <td>from America, America</td>\n",
              "      <td>god save america my home sweet home</td>\n",
              "      <td>Joy</td>\n",
              "    </tr>\n",
              "    <tr>\n",
              "      <th>8</th>\n",
              "      <td>Poisonous Plants of America</td>\n",
              "      <td>april foolbearsfootbogoniondevilsappledog pars...</td>\n",
              "      <td>Fear</td>\n",
              "    </tr>\n",
              "    <tr>\n",
              "      <th>9</th>\n",
              "      <td>Morte d'Arthur</td>\n",
              "      <td>so all day long the noise of battle rolld amon...</td>\n",
              "      <td>Fear</td>\n",
              "    </tr>\n",
              "    <tr>\n",
              "      <th>10</th>\n",
              "      <td>The Summer Bower</td>\n",
              "      <td>it is a place whither ive often gonefor peace ...</td>\n",
              "      <td>Joy</td>\n",
              "    </tr>\n",
              "    <tr>\n",
              "      <th>11</th>\n",
              "      <td>A Carafe, that is a Blind Glass</td>\n",
              "      <td>a kind in glass and a cousin a spectacle and n...</td>\n",
              "      <td>Surprise</td>\n",
              "    </tr>\n",
              "    <tr>\n",
              "      <th>12</th>\n",
              "      <td>Mutter</td>\n",
              "      <td>there is a brand of play called mutenessbeneat...</td>\n",
              "      <td>Anger</td>\n",
              "    </tr>\n",
              "    <tr>\n",
              "      <th>13</th>\n",
              "      <td>Eating Together</td>\n",
              "      <td>i know my friend is goingthough she still sits...</td>\n",
              "      <td>Joy</td>\n",
              "    </tr>\n",
              "    <tr>\n",
              "      <th>14</th>\n",
              "      <td>Ghazal for Becoming Your Own Country</td>\n",
              "      <td>after rachel eliza griffithss self stones coun...</td>\n",
              "      <td>Fear</td>\n",
              "    </tr>\n",
              "  </tbody>\n",
              "</table>\n",
              "</div>\n",
              "    <div class=\"colab-df-buttons\">\n",
              "\n",
              "  <div class=\"colab-df-container\">\n",
              "    <button class=\"colab-df-convert\" onclick=\"convertToInteractive('df-edce0870-22fb-449b-a829-d0ce5148d31f')\"\n",
              "            title=\"Convert this dataframe to an interactive table.\"\n",
              "            style=\"display:none;\">\n",
              "\n",
              "  <svg xmlns=\"http://www.w3.org/2000/svg\" height=\"24px\" viewBox=\"0 -960 960 960\">\n",
              "    <path d=\"M120-120v-720h720v720H120Zm60-500h600v-160H180v160Zm220 220h160v-160H400v160Zm0 220h160v-160H400v160ZM180-400h160v-160H180v160Zm440 0h160v-160H620v160ZM180-180h160v-160H180v160Zm440 0h160v-160H620v160Z\"/>\n",
              "  </svg>\n",
              "    </button>\n",
              "\n",
              "  <style>\n",
              "    .colab-df-container {\n",
              "      display:flex;\n",
              "      gap: 12px;\n",
              "    }\n",
              "\n",
              "    .colab-df-convert {\n",
              "      background-color: #E8F0FE;\n",
              "      border: none;\n",
              "      border-radius: 50%;\n",
              "      cursor: pointer;\n",
              "      display: none;\n",
              "      fill: #1967D2;\n",
              "      height: 32px;\n",
              "      padding: 0 0 0 0;\n",
              "      width: 32px;\n",
              "    }\n",
              "\n",
              "    .colab-df-convert:hover {\n",
              "      background-color: #E2EBFA;\n",
              "      box-shadow: 0px 1px 2px rgba(60, 64, 67, 0.3), 0px 1px 3px 1px rgba(60, 64, 67, 0.15);\n",
              "      fill: #174EA6;\n",
              "    }\n",
              "\n",
              "    .colab-df-buttons div {\n",
              "      margin-bottom: 4px;\n",
              "    }\n",
              "\n",
              "    [theme=dark] .colab-df-convert {\n",
              "      background-color: #3B4455;\n",
              "      fill: #D2E3FC;\n",
              "    }\n",
              "\n",
              "    [theme=dark] .colab-df-convert:hover {\n",
              "      background-color: #434B5C;\n",
              "      box-shadow: 0px 1px 3px 1px rgba(0, 0, 0, 0.15);\n",
              "      filter: drop-shadow(0px 1px 2px rgba(0, 0, 0, 0.3));\n",
              "      fill: #FFFFFF;\n",
              "    }\n",
              "  </style>\n",
              "\n",
              "    <script>\n",
              "      const buttonEl =\n",
              "        document.querySelector('#df-edce0870-22fb-449b-a829-d0ce5148d31f button.colab-df-convert');\n",
              "      buttonEl.style.display =\n",
              "        google.colab.kernel.accessAllowed ? 'block' : 'none';\n",
              "\n",
              "      async function convertToInteractive(key) {\n",
              "        const element = document.querySelector('#df-edce0870-22fb-449b-a829-d0ce5148d31f');\n",
              "        const dataTable =\n",
              "          await google.colab.kernel.invokeFunction('convertToInteractive',\n",
              "                                                    [key], {});\n",
              "        if (!dataTable) return;\n",
              "\n",
              "        const docLinkHtml = 'Like what you see? Visit the ' +\n",
              "          '<a target=\"_blank\" href=https://colab.research.google.com/notebooks/data_table.ipynb>data table notebook</a>'\n",
              "          + ' to learn more about interactive tables.';\n",
              "        element.innerHTML = '';\n",
              "        dataTable['output_type'] = 'display_data';\n",
              "        await google.colab.output.renderOutput(dataTable, element);\n",
              "        const docLink = document.createElement('div');\n",
              "        docLink.innerHTML = docLinkHtml;\n",
              "        element.appendChild(docLink);\n",
              "      }\n",
              "    </script>\n",
              "  </div>\n",
              "\n",
              "\n",
              "    <div id=\"df-17b4a706-5fd3-491e-acd8-25abe607735e\">\n",
              "      <button class=\"colab-df-quickchart\" onclick=\"quickchart('df-17b4a706-5fd3-491e-acd8-25abe607735e')\"\n",
              "                title=\"Suggest charts\"\n",
              "                style=\"display:none;\">\n",
              "\n",
              "<svg xmlns=\"http://www.w3.org/2000/svg\" height=\"24px\"viewBox=\"0 0 24 24\"\n",
              "     width=\"24px\">\n",
              "    <g>\n",
              "        <path d=\"M19 3H5c-1.1 0-2 .9-2 2v14c0 1.1.9 2 2 2h14c1.1 0 2-.9 2-2V5c0-1.1-.9-2-2-2zM9 17H7v-7h2v7zm4 0h-2V7h2v10zm4 0h-2v-4h2v4z\"/>\n",
              "    </g>\n",
              "</svg>\n",
              "      </button>\n",
              "\n",
              "<style>\n",
              "  .colab-df-quickchart {\n",
              "      --bg-color: #E8F0FE;\n",
              "      --fill-color: #1967D2;\n",
              "      --hover-bg-color: #E2EBFA;\n",
              "      --hover-fill-color: #174EA6;\n",
              "      --disabled-fill-color: #AAA;\n",
              "      --disabled-bg-color: #DDD;\n",
              "  }\n",
              "\n",
              "  [theme=dark] .colab-df-quickchart {\n",
              "      --bg-color: #3B4455;\n",
              "      --fill-color: #D2E3FC;\n",
              "      --hover-bg-color: #434B5C;\n",
              "      --hover-fill-color: #FFFFFF;\n",
              "      --disabled-bg-color: #3B4455;\n",
              "      --disabled-fill-color: #666;\n",
              "  }\n",
              "\n",
              "  .colab-df-quickchart {\n",
              "    background-color: var(--bg-color);\n",
              "    border: none;\n",
              "    border-radius: 50%;\n",
              "    cursor: pointer;\n",
              "    display: none;\n",
              "    fill: var(--fill-color);\n",
              "    height: 32px;\n",
              "    padding: 0;\n",
              "    width: 32px;\n",
              "  }\n",
              "\n",
              "  .colab-df-quickchart:hover {\n",
              "    background-color: var(--hover-bg-color);\n",
              "    box-shadow: 0 1px 2px rgba(60, 64, 67, 0.3), 0 1px 3px 1px rgba(60, 64, 67, 0.15);\n",
              "    fill: var(--button-hover-fill-color);\n",
              "  }\n",
              "\n",
              "  .colab-df-quickchart-complete:disabled,\n",
              "  .colab-df-quickchart-complete:disabled:hover {\n",
              "    background-color: var(--disabled-bg-color);\n",
              "    fill: var(--disabled-fill-color);\n",
              "    box-shadow: none;\n",
              "  }\n",
              "\n",
              "  .colab-df-spinner {\n",
              "    border: 2px solid var(--fill-color);\n",
              "    border-color: transparent;\n",
              "    border-bottom-color: var(--fill-color);\n",
              "    animation:\n",
              "      spin 1s steps(1) infinite;\n",
              "  }\n",
              "\n",
              "  @keyframes spin {\n",
              "    0% {\n",
              "      border-color: transparent;\n",
              "      border-bottom-color: var(--fill-color);\n",
              "      border-left-color: var(--fill-color);\n",
              "    }\n",
              "    20% {\n",
              "      border-color: transparent;\n",
              "      border-left-color: var(--fill-color);\n",
              "      border-top-color: var(--fill-color);\n",
              "    }\n",
              "    30% {\n",
              "      border-color: transparent;\n",
              "      border-left-color: var(--fill-color);\n",
              "      border-top-color: var(--fill-color);\n",
              "      border-right-color: var(--fill-color);\n",
              "    }\n",
              "    40% {\n",
              "      border-color: transparent;\n",
              "      border-right-color: var(--fill-color);\n",
              "      border-top-color: var(--fill-color);\n",
              "    }\n",
              "    60% {\n",
              "      border-color: transparent;\n",
              "      border-right-color: var(--fill-color);\n",
              "    }\n",
              "    80% {\n",
              "      border-color: transparent;\n",
              "      border-right-color: var(--fill-color);\n",
              "      border-bottom-color: var(--fill-color);\n",
              "    }\n",
              "    90% {\n",
              "      border-color: transparent;\n",
              "      border-bottom-color: var(--fill-color);\n",
              "    }\n",
              "  }\n",
              "</style>\n",
              "\n",
              "      <script>\n",
              "        async function quickchart(key) {\n",
              "          const quickchartButtonEl =\n",
              "            document.querySelector('#' + key + ' button');\n",
              "          quickchartButtonEl.disabled = true;  // To prevent multiple clicks.\n",
              "          quickchartButtonEl.classList.add('colab-df-spinner');\n",
              "          try {\n",
              "            const charts = await google.colab.kernel.invokeFunction(\n",
              "                'suggestCharts', [key], {});\n",
              "          } catch (error) {\n",
              "            console.error('Error during call to suggestCharts:', error);\n",
              "          }\n",
              "          quickchartButtonEl.classList.remove('colab-df-spinner');\n",
              "          quickchartButtonEl.classList.add('colab-df-quickchart-complete');\n",
              "        }\n",
              "        (() => {\n",
              "          let quickchartButtonEl =\n",
              "            document.querySelector('#df-17b4a706-5fd3-491e-acd8-25abe607735e button');\n",
              "          quickchartButtonEl.style.display =\n",
              "            google.colab.kernel.accessAllowed ? 'block' : 'none';\n",
              "        })();\n",
              "      </script>\n",
              "    </div>\n",
              "\n",
              "    </div>\n",
              "  </div>\n"
            ],
            "application/vnd.google.colaboratory.intrinsic+json": {
              "type": "dataframe",
              "variable_name": "df",
              "summary": "{\n  \"name\": \"df\",\n  \"rows\": 10000,\n  \"fields\": [\n    {\n      \"column\": \"Title\",\n      \"properties\": {\n        \"dtype\": \"string\",\n        \"num_unique_values\": 9641,\n        \"samples\": [\n          \"Godolphin Horne, Who was Cursed with the Sin of Pride, and Became a Boot-Black\",\n          \"Song: \\u201cWho is Silvia? what is she\\u201d\",\n          \"Le sporting-club de Monte Carlo (for Lena Horne)\"\n        ],\n        \"semantic_type\": \"\",\n        \"description\": \"\"\n      }\n    },\n    {\n      \"column\": \"Poem\",\n      \"properties\": {\n        \"dtype\": \"string\",\n        \"num_unique_values\": 9920,\n        \"samples\": [\n          \"she said the pitying audience melt in tears but fate and jove had stoppd the barons ears in vain thalestris with reproach assails for who can move when fair belinda fails not half so fixd the trojan could remain while anna beggd and dido ragd in vain then grave clarissa graceful wavd her fan silence ensud and thus the nymph began say why are beauties praisd and honourd most the wise mans passion and the vain mans toast why deckd with all that land and sea afford why angels calld and angellike adord why round our coaches crowd the whiteglovd beaux why bows the sidebox from its inmost rows how vain are all these glories all our pains unless good sense preserve what beauty gains that men may say when we the frontbox grace behold the first in virtue as in face oh if to dance all night and dress all day charmd the smallpox or chasd old age away who would not scorn what housewifes cares produce or who would learn one earthly thing of use to patch nay ogle might become a saint nor could it sure be such a sin to paint but since alas frail beauty must decay curld or uncurld since locks will turn to grey since painted or not painted all shall fade and she who scorns a man must die a maid what then remains but well our powr to use and keep good humour still whateer we lose and trust me dear good humour can prevail when airs and flights and screams and scolding fail beauties in vain their pretty eyes may roll charms strike the sight but merit wins the soul so spoke the dame but no applause ensud belinda frownd thalestris calld her prude to arms to arms the fierce virago cries and swift as lightning to the combat flies all side in parties and begin th attack fans clap silks rustle and tough whalebones crack heroes and heroines shouts confusdly rise and bass and treble voices strike the skies no common weapons in their hands are found like gods they fight nor dread a mortal wound so when bold homer makes the gods engage and heavnly breasts with human passions rage gainst pallas mars latona hermes arms and all olympus rings with loud alarms joves thunder roars heavn trembles all around blue neptune storms the bellowing deeps resound earth shakes her nodding towrs the ground gives way and the pale ghosts start at the flash of day triumphant umbriel on a sconces height clappd his glad wings and sate to view the fight proppd on their bodkin spears the sprites survey the growing combat or assist the fray while through the press enragd thalestris flies and scatters death around from both her eyes a beau and witling perishd in the throng one died in metaphor and one in song o cruel nymph a living death i bear cried dapperwit and sunk beside his chair a mournful glance sir fopling upwards cast those eyes are made so killingwas his last thus on meanders flowry margin lies th expiring swan and as he sings he dies when bold sir plume had drawn clarissa down chloe steppd in and killd him with a frown she smild to see the doughty hero slain but at her smile the beau revivd again now jove suspends his golden scales in air weighs the mens wits against the ladys hair the doubtful beam long nods from side to side at length the wits mount up the hairs subside see fierce belinda on the baron flies with more than usual lightning in her eyes nor feard the chief th unequal fight to try who sought no more than on his foe to die but this bold lord with manly strength endud she with one finger and a thumb subdud just where the breath of life his nostrils drew a charge of snuff the wily virgin threw the gnomes direct to evry atom just the pungent grains of titillating dust sudden with starting tears each eye oerflows and the high dome reechoes to his nose now meet thy fate incensd belinda cried and drew a deadly bodkin from her side the same his ancient personage to deck her great great grandsire wore about his neck in three sealrings which after melted down formd a vast buckle for his widows gown her infant grandames whistle next it grew the bells she jingled and the whistle blew then in a bodkin gracd her mothers hairs which long she wore and now belinda wears boast not my fall he cried insulting foe thou by some other shalt be laid as low nor think to die dejects my lofty mind all that i dread is leaving you benind rather than so ah let me still survive and burn in cupids flamesbut burn alive restore the lock she cries and all around restore the lock the vaulted roofs rebound not fierce othello in so loud a strain roard for the handkerchief that causd his pain but see how oft ambitious aims are crossd the chiefs contend till all the prize is lost the lock obtaind with guilt and kept with pain in evry place is sought but sought in vain with such a prize no mortal must be blest so heavn decrees with heavn who can contest some thought it mounted to the lunar sphere since all things lost on earth are treasurd there there heros wits are kept in pondrous vases and beaux in snuff boxes and tweezercases there broken vows and deathbed alms are found and lovers hearts with ends of riband bound the courtiers promises and sick mans prayers the smiles of harlots and the tears of heirs cages for gnats and chains to yoke a flea dried butterflies and tomes of casuistry but trust the museshe saw it upward rise though markd by none but quick poetic eyes so romes great founder to the heavns withdrew to proculus alone confessd in view a sudden star it shot through liquid air and drew behind a radiant trail of hair not berenices locks first rose so bright the heavns bespangling with dishevelld light the sylphs behold it kindling as it flies and pleasd pursue its progress through the skies this the beau monde shall from the mall survey and hail with music its propitious ray this the blest lover shall for venus take and send up vows from rosamondas lake this partridge soon shall view in cloudless skies when next he looks through galileos eyes and hence th egregious wizard shall foredoom the fate of louis and the fall of rome then cease bright nymph to mourn thy ravishd hair which adds new glory to the shining sphere not all the tresses that fair head can boast shall draw such envy as the lock you lost for after all the murders of your eye when after millions slain yourself shall die when those fair suns shall set as set they must and all those tresses shall be laid in dust this lock the muse shall consecrate to fame and midst the stars inscribe belindas name\",\n          \"after the yorubathough the amaryllis sags and spills so do those my wishes serve all along the town and yes the new moon kinked there in nights patch tugs me sobut i cant reach to right the slant and though our cat pads past without a tail some with slinking tails peer oneeyed at the dawn some with eyes are clawless some with sparking claws contain no voice with which to sing of foxes gassing in the lane roundshouldered pals parade smart shirts while my broad back supports a scrubby jumper fawn or taupe the balding english air their stubble while some headless hero sports a feathered hat i know a man whose thoroughbred grazes in his porch for want of livery there are scholars of kant who cant find kent on the map and men of kent who cannot fathom kant we who would polish off a feast have lain late in our beds our bellies groaning throats on fire we whod drain a vat of wine have drunk our own blood for its sting each of us in tatters flaunts one treasured garment flapping in the wind\",\n          \"four lanes over a plump helium heart slipped maybe from some kids wrist or a rushed lovers empty front seat through a halfcracked car window rises like a shiny purple cloudlet toward todays gray mess of clouds trailing its gold ribbon like lightning that will never strike anything or anyone here on the forsaken ground its bold love increasingly illegible as it ascends over the frozen oaks riding swift currents toward the horizon a swollen word wobbling out of sight\"\n        ],\n        \"semantic_type\": \"\",\n        \"description\": \"\"\n      }\n    },\n    {\n      \"column\": \"Genre\",\n      \"properties\": {\n        \"dtype\": \"category\",\n        \"num_unique_values\": 6,\n        \"samples\": [\n          \"Fear\",\n          \"Anger\",\n          \"Surprise\"\n        ],\n        \"semantic_type\": \"\",\n        \"description\": \"\"\n      }\n    }\n  ]\n}"
            }
          },
          "metadata": {},
          "execution_count": 10
        }
      ],
      "source": [
        "# Applying the function\n",
        "df['Poem'] = df['Poem'].apply(clean)\n",
        "df.head(15)"
      ]
    },
    {
      "cell_type": "code",
      "execution_count": null,
      "metadata": {
        "colab": {
          "base_uri": "https://localhost:8080/"
        },
        "id": "zE-oEYZZ1ZsZ",
        "outputId": "c15897ea-e07d-458e-fed5-52d1093df4fb"
      },
      "outputs": [
        {
          "output_type": "stream",
          "name": "stderr",
          "text": [
            "[nltk_data] Downloading package words to /root/nltk_data...\n",
            "[nltk_data]   Unzipping corpora/words.zip.\n"
          ]
        }
      ],
      "source": [
        "# Remove non English words\n",
        "# In dataset, there are some non English words.\n",
        "# I used toolkit to filter non English words\n",
        "# Load the NLTK\n",
        "nltk.download('words')\n",
        "# Words holds English words\n",
        "words = set(nltk.corpus.words.words())\n",
        "# lambda function for processing each poem\n",
        "df['Poem'] = df['Poem'].apply(lambda x: ' '.join([word for word in x.split() if word in words]))"
      ]
    },
    {
      "cell_type": "code",
      "execution_count": null,
      "metadata": {
        "colab": {
          "base_uri": "https://localhost:8080/"
        },
        "id": "VrvEvp0w1e9b",
        "outputId": "1a84f2aa-921e-47f3-eb4a-bb791ee5a8bf"
      },
      "outputs": [
        {
          "output_type": "execute_result",
          "data": {
            "text/plain": [
              "(10000, 3)"
            ]
          },
          "metadata": {},
          "execution_count": 12
        }
      ],
      "source": [
        "df.shape"
      ]
    },
    {
      "cell_type": "code",
      "execution_count": null,
      "metadata": {
        "id": "Jp8bCuaJ1ipO"
      },
      "outputs": [],
      "source": [
        "# I noticed some rows are empty or have only few words, Since the dataset is huge\n",
        "# So I will remove those rows which have less than 5 words and more than 100 words\n",
        "df = df[(df['Poem'].str.split().str.len() > 5) & (df['Poem'].str.split().str.len() <= 200)]"
      ]
    },
    {
      "cell_type": "code",
      "execution_count": null,
      "metadata": {
        "colab": {
          "base_uri": "https://localhost:8080/"
        },
        "id": "wtqC6VCM1ktZ",
        "outputId": "baf20b36-f4f9-4729-ae25-f89ced89cb4d"
      },
      "outputs": [
        {
          "output_type": "execute_result",
          "data": {
            "text/plain": [
              "(7591, 3)"
            ]
          },
          "metadata": {},
          "execution_count": 14
        }
      ],
      "source": [
        "df.shape"
      ]
    },
    {
      "cell_type": "code",
      "source": [
        "# Still the dataset is huge and it will take time to train the model, I will get this error again :\n",
        "# MemoryError: Unable to allocate xxxx TiB for an array with shape (7140714, 29822) and data type float64\n",
        "# I will  take small piece of the dataset for training\n",
        "df = df.sample(frac=0.09, random_state=42).reset_index(drop=True)"
      ],
      "metadata": {
        "id": "h78HUwIydFrD"
      },
      "execution_count": null,
      "outputs": []
    },
    {
      "cell_type": "code",
      "execution_count": null,
      "metadata": {
        "colab": {
          "base_uri": "https://localhost:8080/"
        },
        "id": "HUhKUSytRmHU",
        "outputId": "f3771654-b1a7-461a-a6a4-11a32b43dff5"
      },
      "outputs": [
        {
          "output_type": "execute_result",
          "data": {
            "text/plain": [
              "(683, 3)"
            ]
          },
          "metadata": {},
          "execution_count": 16
        }
      ],
      "source": [
        "df.shape"
      ]
    },
    {
      "cell_type": "code",
      "execution_count": null,
      "metadata": {
        "colab": {
          "base_uri": "https://localhost:8080/",
          "height": 489
        },
        "id": "E_IhBpzZ6msc",
        "outputId": "82d069ea-f3f8-4201-c052-eb12ba8767ec"
      },
      "outputs": [
        {
          "output_type": "execute_result",
          "data": {
            "text/plain": [
              "Title\n",
              "Cherries                                            2\n",
              "My Brother                                          2\n",
              "Eros of Heroines                                    1\n",
              "Industrial Lace                                     1\n",
              "The Universe: Original Motion Picture Soundtrack    1\n",
              "                                                   ..\n",
              "Dilemma                                             1\n",
              "Have A Good One [Just wasted]                       1\n",
              "For Freckle-Faced Gerald                            1\n",
              "Live Blindly and upon the Hour                      1\n",
              "Happy Trigger                                       1\n",
              "Name: count, Length: 681, dtype: int64"
            ],
            "text/html": [
              "<div>\n",
              "<style scoped>\n",
              "    .dataframe tbody tr th:only-of-type {\n",
              "        vertical-align: middle;\n",
              "    }\n",
              "\n",
              "    .dataframe tbody tr th {\n",
              "        vertical-align: top;\n",
              "    }\n",
              "\n",
              "    .dataframe thead th {\n",
              "        text-align: right;\n",
              "    }\n",
              "</style>\n",
              "<table border=\"1\" class=\"dataframe\">\n",
              "  <thead>\n",
              "    <tr style=\"text-align: right;\">\n",
              "      <th></th>\n",
              "      <th>count</th>\n",
              "    </tr>\n",
              "    <tr>\n",
              "      <th>Title</th>\n",
              "      <th></th>\n",
              "    </tr>\n",
              "  </thead>\n",
              "  <tbody>\n",
              "    <tr>\n",
              "      <th>Cherries</th>\n",
              "      <td>2</td>\n",
              "    </tr>\n",
              "    <tr>\n",
              "      <th>My Brother</th>\n",
              "      <td>2</td>\n",
              "    </tr>\n",
              "    <tr>\n",
              "      <th>Eros of Heroines</th>\n",
              "      <td>1</td>\n",
              "    </tr>\n",
              "    <tr>\n",
              "      <th>Industrial Lace</th>\n",
              "      <td>1</td>\n",
              "    </tr>\n",
              "    <tr>\n",
              "      <th>The Universe: Original Motion Picture Soundtrack</th>\n",
              "      <td>1</td>\n",
              "    </tr>\n",
              "    <tr>\n",
              "      <th>...</th>\n",
              "      <td>...</td>\n",
              "    </tr>\n",
              "    <tr>\n",
              "      <th>Dilemma</th>\n",
              "      <td>1</td>\n",
              "    </tr>\n",
              "    <tr>\n",
              "      <th>Have A Good One [Just wasted]</th>\n",
              "      <td>1</td>\n",
              "    </tr>\n",
              "    <tr>\n",
              "      <th>For Freckle-Faced Gerald</th>\n",
              "      <td>1</td>\n",
              "    </tr>\n",
              "    <tr>\n",
              "      <th>Live Blindly and upon the Hour</th>\n",
              "      <td>1</td>\n",
              "    </tr>\n",
              "    <tr>\n",
              "      <th>Happy Trigger</th>\n",
              "      <td>1</td>\n",
              "    </tr>\n",
              "  </tbody>\n",
              "</table>\n",
              "<p>681 rows × 1 columns</p>\n",
              "</div><br><label><b>dtype:</b> int64</label>"
            ]
          },
          "metadata": {},
          "execution_count": 17
        }
      ],
      "source": [
        "# Let's check the variation of title\n",
        "df['Title'].value_counts()"
      ]
    },
    {
      "cell_type": "code",
      "execution_count": null,
      "metadata": {
        "colab": {
          "base_uri": "https://localhost:8080/",
          "height": 303
        },
        "id": "gt8M8esELT6K",
        "outputId": "0e17607e-4def-4cbe-f92c-3ac42e338b12"
      },
      "outputs": [
        {
          "output_type": "execute_result",
          "data": {
            "text/plain": [
              "Genre\n",
              "Fear        211\n",
              "Joy         159\n",
              "Sadness     118\n",
              "Anger        77\n",
              "Surprise     61\n",
              "Love         57\n",
              "Name: count, dtype: int64"
            ],
            "text/html": [
              "<div>\n",
              "<style scoped>\n",
              "    .dataframe tbody tr th:only-of-type {\n",
              "        vertical-align: middle;\n",
              "    }\n",
              "\n",
              "    .dataframe tbody tr th {\n",
              "        vertical-align: top;\n",
              "    }\n",
              "\n",
              "    .dataframe thead th {\n",
              "        text-align: right;\n",
              "    }\n",
              "</style>\n",
              "<table border=\"1\" class=\"dataframe\">\n",
              "  <thead>\n",
              "    <tr style=\"text-align: right;\">\n",
              "      <th></th>\n",
              "      <th>count</th>\n",
              "    </tr>\n",
              "    <tr>\n",
              "      <th>Genre</th>\n",
              "      <th></th>\n",
              "    </tr>\n",
              "  </thead>\n",
              "  <tbody>\n",
              "    <tr>\n",
              "      <th>Fear</th>\n",
              "      <td>211</td>\n",
              "    </tr>\n",
              "    <tr>\n",
              "      <th>Joy</th>\n",
              "      <td>159</td>\n",
              "    </tr>\n",
              "    <tr>\n",
              "      <th>Sadness</th>\n",
              "      <td>118</td>\n",
              "    </tr>\n",
              "    <tr>\n",
              "      <th>Anger</th>\n",
              "      <td>77</td>\n",
              "    </tr>\n",
              "    <tr>\n",
              "      <th>Surprise</th>\n",
              "      <td>61</td>\n",
              "    </tr>\n",
              "    <tr>\n",
              "      <th>Love</th>\n",
              "      <td>57</td>\n",
              "    </tr>\n",
              "  </tbody>\n",
              "</table>\n",
              "</div><br><label><b>dtype:</b> int64</label>"
            ]
          },
          "metadata": {},
          "execution_count": 18
        }
      ],
      "source": [
        "# let's check the variation of Genre\n",
        "df['Genre'].value_counts()"
      ]
    },
    {
      "cell_type": "code",
      "execution_count": null,
      "metadata": {
        "colab": {
          "base_uri": "https://localhost:8080/"
        },
        "id": "hyqcSVCwLcBg",
        "outputId": "ae124da3-9ae3-4316-dbc6-08b9c850cd56"
      },
      "outputs": [
        {
          "output_type": "stream",
          "name": "stdout",
          "text": [
            "Total characters: 683\n"
          ]
        }
      ],
      "source": [
        "# When I create sigle continues sequence, LSTM transition between words and across all poets which means LSTM learns general patterns from the entire dataset.\n",
        "poem  = df['Poem'].tolist()\n",
        "# Total characters in poem\n",
        "print(f'Total characters: {len(poem)}')"
      ]
    },
    {
      "cell_type": "markdown",
      "metadata": {
        "id": "i1MVh8lkmCid"
      },
      "source": [
        "**Tokenization and Vocabular**\n"
      ]
    },
    {
      "cell_type": "code",
      "execution_count": null,
      "metadata": {
        "colab": {
          "base_uri": "https://localhost:8080/"
        },
        "id": "YcaRQtKS_ANJ",
        "outputId": "e4ae8d43-e378-45f9-a3d6-abd67304e223"
      },
      "outputs": [
        {
          "output_type": "stream",
          "name": "stdout",
          "text": [
            "Vocabulary size: 7135\n",
            "Total Words: 7134\n"
          ]
        }
      ],
      "source": [
        "# I will tokenize peom. I use tokenizer to assign integer to each unique word.\n",
        "tokenizer = Tokenizer(oov_token= 'OOV')\n",
        "tokenizer.fit_on_texts(poem)\n",
        "\n",
        "# Get the vocabulary size:\n",
        "# converting the numerical output back into readable text, I need an inverse mapping.\n",
        "# That maps integer indices back to their original words.\n",
        "# I can create this by swapping the keys and values of tokenizer.word_index.\n",
        "\n",
        "total_words = len(tokenizer.word_index)\n",
        "vocab_size = len(tokenizer.word_index) + 1\n",
        "\n",
        "# Print the result\n",
        "print(f'Vocabulary size: {vocab_size}')\n",
        "print('Total Words:', total_words)"
      ]
    },
    {
      "cell_type": "code",
      "execution_count": null,
      "metadata": {
        "colab": {
          "base_uri": "https://localhost:8080/"
        },
        "id": "mU8gxPMWSIgX",
        "outputId": "6840eb03-1bff-43cf-b75b-bd60b6c2a02c"
      },
      "outputs": [
        {
          "output_type": "stream",
          "name": "stdout",
          "text": [
            "Example word index mappings (word -> id):\n",
            "OOV -> 1\n",
            "the -> 2\n",
            "of -> 3\n",
            "a -> 4\n",
            "and -> 5\n",
            "to -> 6\n",
            "in -> 7\n",
            "i -> 8\n",
            "is -> 9\n",
            "my -> 10\n"
          ]
        }
      ],
      "source": [
        "# Let's see a sample of the word index (mapping from word to ID)\n",
        "print('Example word index mappings (word -> id):')\n",
        "for word, idx in list(tokenizer.word_index.items())[:10]:\n",
        "    print(word, '->', idx)\n",
        "# I used Qwen 2.5 to print sample of the words index."
      ]
    },
    {
      "cell_type": "code",
      "execution_count": null,
      "metadata": {
        "colab": {
          "base_uri": "https://localhost:8080/"
        },
        "id": "GGPfaQYNB5kb",
        "outputId": "34946a25-346b-46d8-fa08-9563d0df12e7"
      },
      "outputs": [
        {
          "output_type": "stream",
          "name": "stdout",
          "text": [
            "Help on Tokenizer in module keras.src.legacy.preprocessing.text object:\n",
            "\n",
            "class Tokenizer(builtins.object)\n",
            " |  Tokenizer(num_words=None, filters='!\"#$%&()*+,-./:;<=>?@[\\\\]^_`{|}~\\t\\n', lower=True, split=' ', char_level=False, oov_token=None, analyzer=None, **kwargs)\n",
            " |  \n",
            " |  DEPRECATED.\n",
            " |  \n",
            " |  Methods defined here:\n",
            " |  \n",
            " |  __init__(self, num_words=None, filters='!\"#$%&()*+,-./:;<=>?@[\\\\]^_`{|}~\\t\\n', lower=True, split=' ', char_level=False, oov_token=None, analyzer=None, **kwargs)\n",
            " |      Initialize self.  See help(type(self)) for accurate signature.\n",
            " |  \n",
            " |  fit_on_sequences(self, sequences)\n",
            " |  \n",
            " |  fit_on_texts(self, texts)\n",
            " |  \n",
            " |  get_config(self)\n",
            " |  \n",
            " |  sequences_to_matrix(self, sequences, mode='binary')\n",
            " |  \n",
            " |  sequences_to_texts(self, sequences)\n",
            " |  \n",
            " |  sequences_to_texts_generator(self, sequences)\n",
            " |  \n",
            " |  texts_to_matrix(self, texts, mode='binary')\n",
            " |  \n",
            " |  texts_to_sequences(self, texts)\n",
            " |  \n",
            " |  texts_to_sequences_generator(self, texts)\n",
            " |  \n",
            " |  to_json(self, **kwargs)\n",
            " |  \n",
            " |  ----------------------------------------------------------------------\n",
            " |  Data descriptors defined here:\n",
            " |  \n",
            " |  __dict__\n",
            " |      dictionary for instance variables\n",
            " |  \n",
            " |  __weakref__\n",
            " |      list of weak references to the object\n",
            "\n"
          ]
        }
      ],
      "source": [
        "# Previously I did not know that by running help I can ser the details and about its configuration and methods\n",
        "# Source : https://kgptalkie.medium.com/poetry-generation-using-tensorflow-keras-and-lstm-75c4e4b7f07e\n",
        "help(tokenizer)\n",
        "# Tokenizer by default converts all the words to lower case and ignores punctuation.\n",
        "# So I did not need to do that in the clean function."
      ]
    },
    {
      "cell_type": "markdown",
      "metadata": {
        "id": "tccY0-v3n_1k"
      },
      "source": [
        "**Creating n gram Sequences for Training**\n",
        "\n"
      ]
    },
    {
      "cell_type": "code",
      "execution_count": null,
      "metadata": {
        "id": "z_U9r4YkXy1F"
      },
      "outputs": [],
      "source": [
        "# I am going to create training sequences using the tokenized data. For each line of the poem,\n",
        "# I generate multiple n grams, that will be used as training samples to predict the next word"
      ]
    },
    {
      "cell_type": "markdown",
      "metadata": {
        "id": "U1bYbAL3IQiN"
      },
      "source": []
    },
    {
      "cell_type": "code",
      "execution_count": null,
      "metadata": {
        "colab": {
          "base_uri": "https://localhost:8080/"
        },
        "id": "7BsBCeS18EjH",
        "outputId": "8cd2b23e-8d5f-4fbd-ab71-ba123f165fe6"
      },
      "outputs": [
        {
          "output_type": "stream",
          "name": "stdout",
          "text": [
            "Total training sequences (n grams): 64059\n"
          ]
        }
      ],
      "source": [
        "# In each sequence the last word is the target.\n",
        "# Empty list to collect all generated n gram sequences\n",
        "input_sequences = []\n",
        "# Generate n gram sequences for each line in the poem\n",
        "for line in poem:\n",
        "    # Convert the text line into a sequence of integer tokens\n",
        "    token_list = tokenizer.texts_to_sequences([line])[0]\n",
        "    # Generate n grams:\n",
        "    # i starts from 1 to not get empty sequence\n",
        "    for i in range(1, len(token_list)):\n",
        "\n",
        "        n_gram_sequence = token_list[:i+1]\n",
        "        input_sequences.append(n_gram_sequence)\n",
        "print('Total training sequences (n grams):', len(input_sequences))\n",
        "# I got the main code structure from lecture note"
      ]
    },
    {
      "cell_type": "markdown",
      "metadata": {
        "id": "FW0LPdPeFRiY"
      },
      "source": [
        "**Padding Sequences and Creating Training Data (X, y)**"
      ]
    },
    {
      "cell_type": "code",
      "execution_count": null,
      "metadata": {
        "colab": {
          "base_uri": "https://localhost:8080/"
        },
        "id": "Q-JMUs5lAe9R",
        "outputId": "7bf2228f-016b-4cf5-f059-a0746dec390e"
      },
      "outputs": [
        {
          "output_type": "stream",
          "name": "stdout",
          "text": [
            "The longest sequence lenght is: 200\n"
          ]
        }
      ],
      "source": [
        "# I need to pad them so they all have the same length.\n",
        "max_len = max(len(seq) for seq in input_sequences)\n",
        "print('The longest sequence lenght is:',max_len)\n",
        "padded = tf.keras.preprocessing.sequence.pad_sequences(\n",
        "            input_sequences, maxlen=max_len, padding='pre')\n",
        "# Oh makes sense because I filtered the dataset, so even I could initialize 100 to max_len.\n",
        "# I got the main code structure from lecture note"
      ]
    },
    {
      "cell_type": "code",
      "execution_count": null,
      "metadata": {
        "colab": {
          "base_uri": "https://localhost:8080/"
        },
        "id": "yuMloBE48fMC",
        "outputId": "2302adf4-0607-4dca-e26b-399b8173f00f"
      },
      "outputs": [
        {
          "output_type": "stream",
          "name": "stdout",
          "text": [
            "Shape of X (features): (64059, 199)\n",
            "Shape of y (labels): (64059,)\n"
          ]
        }
      ],
      "source": [
        "padded = np.array(padded)\n",
        "X = padded[:, :-1]\n",
        "y = padded[:,  -1]\n",
        "print(\"Shape of X (features):\", X.shape)\n",
        "print(\"Shape of y (labels):\", y.shape)\n",
        "# In longest sequence target value is including and input value is max_len - 1\n",
        "# The first 99 tokens of each sequence (X) are the input words\n",
        "# The 100th token (y) is the word I want the model to predict."
      ]
    },
    {
      "cell_type": "code",
      "execution_count": null,
      "metadata": {
        "colab": {
          "base_uri": "https://localhost:8080/"
        },
        "id": "p0q2ihKfBdWY",
        "outputId": "c1945dbe-36ce-4690-80b0-0a1209500e7c"
      },
      "outputs": [
        {
          "output_type": "stream",
          "name": "stdout",
          "text": [
            "Type of X <class 'torch.Tensor'> and Shape of X:torch.Size([64059, 199])\n",
            "Type of y <class 'torch.Tensor'> and Shape of y:torch.Size([64059])\n"
          ]
        }
      ],
      "source": [
        "# I will convert X and y to PyTorch tensors, since I am gonne  use PyTorch for the LSTM\n",
        "# Convert to PyTorch tensors\n",
        "X_tensor = torch.tensor(X, dtype=torch.long)\n",
        "y_tensor = torch.tensor(y, dtype=torch.long)\n",
        "\n",
        "# Let's check the tensors\n",
        "print(f'Type of X {type(X_tensor)} and Shape of X:{(X_tensor.shape)}')\n",
        "print(f'Type of y {type(y_tensor)} and Shape of y:{(y_tensor.shape)}')"
      ]
    },
    {
      "cell_type": "code",
      "execution_count": null,
      "metadata": {
        "colab": {
          "base_uri": "https://localhost:8080/"
        },
        "id": "bsFeDRGeBhFm",
        "outputId": "5ad0f4b1-eff3-4281-ae0f-2c956c25af8f"
      },
      "outputs": [
        {
          "output_type": "stream",
          "name": "stdout",
          "text": [
            "Training samples: 6405, Validation samples: 57654\n"
          ]
        }
      ],
      "source": [
        "# I split the data into a validation to evaluate the model\n",
        "dataset = TensorDataset(X_tensor, y_tensor)\n",
        "# I use 80% for training, 20% for validation\n",
        "train_size = int(len(dataset) * 0.1)\n",
        "val_size = len(dataset) - train_size\n",
        "\n",
        "gen = torch.Generator().manual_seed(42)\n",
        "train_dataset, val_dataset = random_split(dataset, [train_size, val_size], generator=gen)\n",
        "print(f'Training samples: {len(train_dataset)}, Validation samples: {len(val_dataset)}')"
      ]
    },
    {
      "cell_type": "code",
      "execution_count": null,
      "metadata": {
        "id": "d2SklUE9BlWR"
      },
      "outputs": [],
      "source": [
        "# Create DataLoader for batching\n",
        "BATCH_SIZE = 64\n",
        "train_loader = DataLoader(train_dataset, batch_size=BATCH_SIZE, shuffle=True)\n",
        "val_loader = DataLoader(val_dataset, batch_size=BATCH_SIZE, shuffle=False)"
      ]
    },
    {
      "cell_type": "code",
      "execution_count": null,
      "metadata": {
        "id": "nPQQFXYJXQgj"
      },
      "outputs": [],
      "source": [
        "# Use GPU if available\n",
        "device = torch.device('cuda' if torch.cuda.is_available() else 'cpu')"
      ]
    },
    {
      "cell_type": "markdown",
      "metadata": {
        "id": "826YXSxOL79U"
      },
      "source": [
        "**Building the LSTM Model (PyTorch)**"
      ]
    },
    {
      "cell_type": "code",
      "execution_count": null,
      "metadata": {
        "colab": {
          "base_uri": "https://localhost:8080/"
        },
        "id": "haR0kI5nBsgK",
        "outputId": "d9c50222-4028-4fc9-e1e2-3bd6be7729ab"
      },
      "outputs": [
        {
          "output_type": "execute_result",
          "data": {
            "text/plain": [
              "PoetryLSTM(\n",
              "  (embedding): Embedding(7135, 30, padding_idx=0)\n",
              "  (lstm): LSTM(30, 512, num_layers=3, batch_first=True, dropout=0.1)\n",
              "  (fc): Linear(in_features=512, out_features=7135, bias=True)\n",
              ")"
            ]
          },
          "metadata": {},
          "execution_count": 35
        }
      ],
      "source": [
        "# I will define an LSTM based neural network using PyTorch.\n",
        "\n",
        "class PoetryLSTM(nn.Module):\n",
        "    def __init__(self, vocab_size, embed_dim, lstm_units, num_layers, dropout_prob, padding_idx=0):\n",
        "        super(PoetryLSTM, self).__init__()\n",
        "        # Embedding Layer: The first is embedding layer which takes word IDs and look up a vector.\n",
        "        self.embedding = nn.Embedding(num_embeddings=vocab_size, embedding_dim=embed_dim, padding_idx=padding_idx)\n",
        "\n",
        "        # LSTM layer: the core of my recurrent neural network\n",
        "        self.lstm = nn.LSTM(input_size=embed_dim,hidden_size=lstm_units,num_layers=num_layers, batch_first=True, dropout=dropout_prob)\n",
        "\n",
        "        # Fully connected layer: maps the LSTM output to the vocabulary size\n",
        "        self.fc = nn.Linear(lstm_units, vocab_size )\n",
        "\n",
        "\n",
        "      # First, X is passed through the embedding layer to get a sequence of embedding vectors\n",
        "      # This sequence is then fed into the LSTM layerm\n",
        "      # I apply dropout to the output of the LSTM to prevent overfitting\n",
        "\n",
        "    def forward(self, x):\n",
        "        emb = self.embedding(x)\n",
        "        # Process input through LSTM:\n",
        "        # h_n = hidden stat\n",
        "        # c_n = cell state\n",
        "        output, (h_n, c_n) = self.lstm(emb)\n",
        "        last_hidden = h_n[-1]\n",
        "        logits = self.fc(last_hidden)\n",
        "        return logits\n",
        "\n",
        "\n",
        "# The Embedding learns to place similar words nearby in vector space\n",
        "# LSTM captures patterns and context over time\n",
        "# The last hidden state  remebers: what the model has read so far\n",
        "# The fc transforms that summary over the vocabulary, letting my model predict what comes next\n",
        "\n",
        "\n",
        "\n",
        "# Set hyperparameters\n",
        "vocab_size = len(tokenizer.word_index)\n",
        "embed_dim = 30\n",
        "lstm_units = 512\n",
        "num_layers = 3\n",
        "dropout_prob = 0.1\n",
        "padding_idx = 0\n",
        "\n",
        "# Initialize the model\n",
        "model = PoetryLSTM( vocab_size=vocab_size +1 , embed_dim=embed_dim, lstm_units=lstm_units,\n",
        "                   num_layers=num_layers,dropout_prob=dropout_prob, padding_idx=padding_idx)\n",
        "\n",
        "model.to(device)\n",
        "\n",
        "# Sources:\n",
        "# https://machinelearningmastery.com/text-generation-with-lstm-in-pytorch/"
      ]
    },
    {
      "cell_type": "markdown",
      "metadata": {
        "id": "Mk76BC8P9Ftl"
      },
      "source": [
        " 6 599 vectors of dimension 150, where index 0 is fixed to zero for padding.<br>\n",
        " Three layer LSTM 150 D inputs and 352 units, applying dropout (0.15) between layers.<br>batch_first=True\n",
        "Input and output tensors have shape (batch, seq_len, feature)."
      ]
    },
    {
      "cell_type": "markdown",
      "metadata": {
        "id": "CZNJlMMwTbQB"
      },
      "source": [
        "**Training the LSTM Model**"
      ]
    },
    {
      "cell_type": "code",
      "execution_count": null,
      "metadata": {
        "id": "LDj0ZsvnhCg_"
      },
      "outputs": [],
      "source": [
        "# Loss function, scheduler and optimizer:\n",
        "# padding tokens (index 0) preventing them from affecting gradient updates\n",
        "criterion = nn.CrossEntropyLoss(ignore_index=padding_idx)\n",
        "optimizer = torch.optim.Adam(model.parameters(), lr=0.0005)\n",
        "scheduler = ReduceLROnPlateau(optimizer, mode='min', factor=0.5)"
      ]
    },
    {
      "cell_type": "code",
      "execution_count": null,
      "metadata": {
        "id": "exaqyZYThOoa"
      },
      "outputs": [],
      "source": [
        "# Early stopping:\n",
        "best_val_loss = float('inf')\n",
        "epochs_no_improve = 0\n",
        "patience = 20"
      ]
    },
    {
      "cell_type": "code",
      "execution_count": null,
      "metadata": {
        "id": "Gii6Va8aB025",
        "colab": {
          "base_uri": "https://localhost:8080/"
        },
        "outputId": "1a5a2769-8ca8-45bc-a426-c1bec383839b"
      },
      "outputs": [
        {
          "output_type": "stream",
          "name": "stdout",
          "text": [
            "Epoch 1: train_loss=7.0311 || val_loss=6.7126\n"
          ]
        }
      ],
      "source": [
        "epochs = 50\n",
        "\n",
        "for epoch in range(1, epochs+1):\n",
        "    model.train()\n",
        "    total_loss = 0\n",
        "\n",
        "    for X_batch, y_batch in train_loader:\n",
        "        X_batch, y_batch =  X_batch.to(device), y_batch.to(device)\n",
        "        # Clear previous gradients\n",
        "        optimizer.zero_grad()\n",
        "        # Forward pass\n",
        "        outputs = model(X_batch)\n",
        "        # Calculate loss\n",
        "        loss = criterion(outputs, y_batch)\n",
        "        loss.backward()\n",
        "        # stabilize training\n",
        "        clip_grad_norm_(model.parameters(), max_norm=1.0)\n",
        "        # Update weights\n",
        "        optimizer.step()\n",
        "\n",
        "        total_loss += loss.item()\n",
        "    avg_loss = total_loss / len(train_loader)\n",
        "\n",
        "    # Validation:\n",
        "    # Disable training features\n",
        "    model.eval()\n",
        "    val_loss = 0\n",
        "    with torch.no_grad():\n",
        "        for val_X, val_y in val_loader:\n",
        "            val_X, val_y = val_X.to(device), val_y.to(device)\n",
        "\n",
        "            val_out = model(val_X)\n",
        "            val_loss += criterion(val_out, val_y).item()\n",
        "    avg_val_loss = val_loss / len(val_loader)\n",
        "    # Adjust learning rate\n",
        "    scheduler.step(avg_val_loss)\n",
        "    print(f'Epoch {epoch}: train_loss={avg_loss:.4f} || val_loss={avg_val_loss:.4f}')\n",
        "\n",
        "    if avg_val_loss < best_val_loss:\n",
        "        best_val_loss = avg_val_loss\n",
        "        epochs_no_improve = 0\n",
        "    else:\n",
        "        epochs_no_improve += 1\n",
        "        if epochs_no_improve >= patience:\n",
        "            print('Training finished.')\n",
        "            break\n",
        "# For degbbuing I used Gemini to understand the errors"
      ]
    },
    {
      "cell_type": "markdown",
      "metadata": {
        "id": "4wpPTpIglIPG"
      },
      "source": [
        " Training loss keeps falling but the validation loss goes upward because the model might be memorising the small training data faster than it learns patterns that generalise.<br>"
      ]
    },
    {
      "cell_type": "markdown",
      "source": [],
      "metadata": {
        "id": "ChTPOtJhsMGu"
      }
    },
    {
      "cell_type": "code",
      "source": [
        "# Save the model\n",
        "torch.save(model.state_dict(), 'poetry_model.pth')\n"
      ],
      "metadata": {
        "id": "h0ilQRcor-Qn"
      },
      "execution_count": null,
      "outputs": []
    },
    {
      "cell_type": "markdown",
      "metadata": {
        "id": "Snn0QoNPgEmR"
      },
      "source": [
        "**Generating Poetry with the Trained Model**"
      ]
    },
    {
      "cell_type": "code",
      "execution_count": null,
      "metadata": {
        "id": "NAyENleuF9GF"
      },
      "outputs": [],
      "source": [
        "# using trained LSTM model to generate poetry\n",
        "# Function to generate poerty\n",
        "def generate_text(seed, next_words=15):\n",
        "    model.eval()  # Set the model to evaluation mode\n",
        "    current_text = seed.lower()  # Start with the seed text\n",
        "\n",
        "    for _ in range(next_words):\n",
        "        # Convert current text to tokens\n",
        "        token_list = tokenizer.texts_to_sequences([current_text])[0]\n",
        "\n",
        "        # Pad the sequence to the required length\n",
        "        token_list_padded = pad_sequences([token_list], maxlen=max_len, padding='pre')\n",
        "\n",
        "        # Convert to tensor\n",
        "        input_tensor = torch.tensor(token_list_padded, dtype=torch.long).to(device)\n",
        "\n",
        "        # Predict next word\n",
        "        with torch.no_grad():\n",
        "            output = model(input_tensor)\n",
        "\n",
        "        # Get the index of the highest probability word\n",
        "        predicted_index = torch.argmax(output, dim=1).item()\n",
        "\n",
        "        # Map the predicted index to a word\n",
        "        predicted_word = tokenizer.index_word.get(predicted_index)\n",
        "\n",
        "        # Append the predicted word to the current text\n",
        "        current_text += \" \" + predicted_word\n",
        "\n",
        "    return current_text"
      ]
    },
    {
      "cell_type": "code",
      "execution_count": null,
      "metadata": {
        "id": "k2DKdYkDD_cr"
      },
      "outputs": [],
      "source": [
        "# Generating poetry\n",
        "# Generate a poem line starting with a seed\n",
        "seed = \"the home\"\n",
        "poem_line = generate_text(seed, next_words=15)\n",
        "print(\"Generated poem line:\")\n",
        "print(poem_line)"
      ]
    },
    {
      "cell_type": "markdown",
      "metadata": {
        "id": "xqgZfaNalsfH"
      },
      "source": [
        "According to my experience working with a BERT model for detecting toxic comments and LSTM model for generating poetry in the PyTorch framework, the BERT assignment looks easier. <br>\n",
        "Because the pre trained BERT comes with its own tokenizer, so I skip most of the data preprocessing that LSTM needs. Cleaning the raw text, removing weird characters is pretty much for both, but the LSTM needs extra such as building sequance. With BERT, once the text is clean. I just call BertTokenizer; pad/truncate, and fine tune."
      ]
    }
  ],
  "metadata": {
    "accelerator": "GPU",
    "colab": {
      "gpuType": "T4",
      "provenance": []
    },
    "kernelspec": {
      "display_name": "Python 3",
      "name": "python3"
    },
    "language_info": {
      "name": "python"
    }
  },
  "nbformat": 4,
  "nbformat_minor": 0
}