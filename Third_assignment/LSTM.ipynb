{
 "cells": [
  {
   "cell_type": "markdown",
   "metadata": {
    "id": "aLygl8RWvJYj"
   },
   "source": []
  },
  {
   "cell_type": "code",
   "execution_count": 3,
   "metadata": {
    "executionInfo": {
     "elapsed": 19846,
     "status": "ok",
     "timestamp": 1746394189520,
     "user": {
      "displayName": "Morteza Heidari",
      "userId": "12437174777431138604"
     },
     "user_tz": -180
    },
    "id": "ITGu4VoX2q1x"
   },
   "outputs": [],
   "source": [
    "import pandas as pd\n",
    "import numpy as np\n",
    "import string\n",
    "import nltk\n",
    "import re\n",
    "\n",
    "from tensorflow.keras.preprocessing.sequence import pad_sequences\n",
    "from tensorflow.keras.preprocessing.text import Tokenizer\n",
    "import tensorflow as tf\n",
    "\n",
    "import torch\n",
    "import torch.nn as nn\n",
    "import torch.optim as optim\n",
    "from torch.utils.data import TensorDataset, DataLoader, random_split\n",
    "from torch.optim.lr_scheduler import ReduceLROnPlateau\n",
    "from torch.nn.utils import clip_grad_norm_\n",
    "import torch.nn.functional as F\n",
    "from google.colab import files"
   ]
  },
  {
   "cell_type": "code",
   "execution_count": 4,
   "metadata": {
    "colab": {
     "base_uri": "https://localhost:8080/"
    },
    "executionInfo": {
     "elapsed": 57314,
     "status": "ok",
     "timestamp": 1746394246819,
     "user": {
      "displayName": "Morteza Heidari",
      "userId": "12437174777431138604"
     },
     "user_tz": -180
    },
    "id": "vMz-StOWNAvP",
    "outputId": "f89c8fbd-e903-4d1c-e7af-269158fc6aac"
   },
   "outputs": [
    {
     "name": "stdout",
     "output_type": "stream",
     "text": [
      "Mounted at /content/drive\n"
     ]
    }
   ],
   "source": [
    "from google.colab import drive\n",
    "drive.mount('/content/drive')"
   ]
  },
  {
   "cell_type": "markdown",
   "metadata": {
    "id": "Gw2f_16y2rEL"
   },
   "source": [
    "[English Poem Dataset from Kaggle](https://www.kaggle.com/datasets/abdelrahmanekhaldi/english-poem-dataset)"
   ]
  },
  {
   "cell_type": "code",
   "execution_count": 5,
   "metadata": {
    "colab": {
     "base_uri": "https://localhost:8080/",
     "height": 206
    },
    "executionInfo": {
     "elapsed": 2392,
     "status": "ok",
     "timestamp": 1746394249194,
     "user": {
      "displayName": "Morteza Heidari",
      "userId": "12437174777431138604"
     },
     "user_tz": -180
    },
    "id": "7zhTNlVf1Gsh",
    "outputId": "3992233b-509b-4d42-abc7-e6224257fec5"
   },
   "outputs": [
    {
     "data": {
      "application/vnd.google.colaboratory.intrinsic+json": {
       "summary": "{\n  \"name\": \"df\",\n  \"rows\": 10000,\n  \"fields\": [\n    {\n      \"column\": \"Title\",\n      \"properties\": {\n        \"dtype\": \"string\",\n        \"num_unique_values\": 9641,\n        \"samples\": [\n          \"Godolphin Horne, Who was Cursed with the Sin of Pride, and Became a Boot-Black\",\n          \"Song: \\u201cWho is Silvia? what is she\\u201d\",\n          \"Le sporting-club de Monte Carlo (for Lena Horne)\"\n        ],\n        \"semantic_type\": \"\",\n        \"description\": \"\"\n      }\n    },\n    {\n      \"column\": \"Poem\",\n      \"properties\": {\n        \"dtype\": \"string\",\n        \"num_unique_values\": 9921,\n        \"samples\": [\n          \"I made up a story for myself once,   That each glove I lost   Was sent to my father in prison   That\\u2019s all it would take for him   To chart my growth without pictures   Without words or visits,   Only colors and design,   Texture; it was ok then   For skin to chafe and ash,   To imagine him   Trying on a glove,   Stretching it out   My open palm closing   And disappearing   In his fist.\",\n          \"Let me call a ghost,Love, so it be little:In December we tookNo thought for the weather.Whom now shall I thankFor this wealth of water?Your heart loves harborsWhere I am a stranger.Where was it we layNeeding no otherTwelve days and twelve nightsIn each other\\u2019s eyes?Or was it at BabelAnd the days too smallWe spoke our own tongueNeeding no other?If a seed grow greenSet a stone upon itThat it learn therebyHoly charity.If you must smileAlways on that other,Cut me from ear to earAnd we all smile together.\",\n          \"The ancients would lift          a clay spout to your lips\\u2014          water and honey and wine.I give you milk, softened         with wine, and swearyou'll never hunger, never         thirst while I'm alive.What suffering I can't preclude         I'll soothe with singing:My future, for younot the greenness of a leaf         but of the leaves on all         the April branches.Fire, I give you fuel. I sweat         and chop the wood.I tender forever in you         who begin where I end as ifyour body is         my body, your elegance         my elegance.Sustenance, emptiness         is lack of you, yearning isthe road to where you are.You are the road, the where,         the song, the hunger. Child,I give you sleep, I sing                                          you there.\"\n        ],\n        \"semantic_type\": \"\",\n        \"description\": \"\"\n      }\n    },\n    {\n      \"column\": \"Poet\",\n      \"properties\": {\n        \"dtype\": \"category\",\n        \"num_unique_values\": 2787,\n        \"samples\": [\n          \"Chitra Banerjee Divakaruni\",\n          \"Natasha Saj\\u00e9\",\n          \"Deborah Cummins\"\n        ],\n        \"semantic_type\": \"\",\n        \"description\": \"\"\n      }\n    },\n    {\n      \"column\": \"Genre\",\n      \"properties\": {\n        \"dtype\": \"category\",\n        \"num_unique_values\": 6,\n        \"samples\": [\n          \"Fear\",\n          \"Anger\",\n          \"Surprise\"\n        ],\n        \"semantic_type\": \"\",\n        \"description\": \"\"\n      }\n    }\n  ]\n}",
       "type": "dataframe",
       "variable_name": "df"
      },
      "text/html": [
       "\n",
       "  <div id=\"df-0b9d8fb2-a3ad-4863-8775-e4cf75eb28cb\" class=\"colab-df-container\">\n",
       "    <div>\n",
       "<style scoped>\n",
       "    .dataframe tbody tr th:only-of-type {\n",
       "        vertical-align: middle;\n",
       "    }\n",
       "\n",
       "    .dataframe tbody tr th {\n",
       "        vertical-align: top;\n",
       "    }\n",
       "\n",
       "    .dataframe thead th {\n",
       "        text-align: right;\n",
       "    }\n",
       "</style>\n",
       "<table border=\"1\" class=\"dataframe\">\n",
       "  <thead>\n",
       "    <tr style=\"text-align: right;\">\n",
       "      <th></th>\n",
       "      <th>Title</th>\n",
       "      <th>Poem</th>\n",
       "      <th>Poet</th>\n",
       "      <th>Genre</th>\n",
       "    </tr>\n",
       "  </thead>\n",
       "  <tbody>\n",
       "    <tr>\n",
       "      <th>0</th>\n",
       "      <td>Search</td>\n",
       "      <td>Wandered tonight through a cityas ruined as a ...</td>\n",
       "      <td>Hester Knibbe</td>\n",
       "      <td>Fear</td>\n",
       "    </tr>\n",
       "    <tr>\n",
       "      <th>1</th>\n",
       "      <td>A Poem for the Cruel Majority</td>\n",
       "      <td>The cruel majority emerges!Hail to the cruel m...</td>\n",
       "      <td>Jerome Rothenberg</td>\n",
       "      <td>Anger</td>\n",
       "    </tr>\n",
       "    <tr>\n",
       "      <th>2</th>\n",
       "      <td>“Do Not Embrace Your Mind’s New Negro Friend”</td>\n",
       "      <td>Do not embrace your mind’s new negro friendOr ...</td>\n",
       "      <td>William Meredith</td>\n",
       "      <td>Anger</td>\n",
       "    </tr>\n",
       "    <tr>\n",
       "      <th>3</th>\n",
       "      <td>The Greatest Love</td>\n",
       "      <td>She is sixty. She livesthe greatest love of he...</td>\n",
       "      <td>Anna Swir</td>\n",
       "      <td>Love</td>\n",
       "    </tr>\n",
       "    <tr>\n",
       "      <th>4</th>\n",
       "      <td>Bilingual/Bilingüe</td>\n",
       "      <td>My father liked them separate, one there,one h...</td>\n",
       "      <td>Rhina P. Espaillat</td>\n",
       "      <td>Anger</td>\n",
       "    </tr>\n",
       "  </tbody>\n",
       "</table>\n",
       "</div>\n",
       "    <div class=\"colab-df-buttons\">\n",
       "\n",
       "  <div class=\"colab-df-container\">\n",
       "    <button class=\"colab-df-convert\" onclick=\"convertToInteractive('df-0b9d8fb2-a3ad-4863-8775-e4cf75eb28cb')\"\n",
       "            title=\"Convert this dataframe to an interactive table.\"\n",
       "            style=\"display:none;\">\n",
       "\n",
       "  <svg xmlns=\"http://www.w3.org/2000/svg\" height=\"24px\" viewBox=\"0 -960 960 960\">\n",
       "    <path d=\"M120-120v-720h720v720H120Zm60-500h600v-160H180v160Zm220 220h160v-160H400v160Zm0 220h160v-160H400v160ZM180-400h160v-160H180v160Zm440 0h160v-160H620v160ZM180-180h160v-160H180v160Zm440 0h160v-160H620v160Z\"/>\n",
       "  </svg>\n",
       "    </button>\n",
       "\n",
       "  <style>\n",
       "    .colab-df-container {\n",
       "      display:flex;\n",
       "      gap: 12px;\n",
       "    }\n",
       "\n",
       "    .colab-df-convert {\n",
       "      background-color: #E8F0FE;\n",
       "      border: none;\n",
       "      border-radius: 50%;\n",
       "      cursor: pointer;\n",
       "      display: none;\n",
       "      fill: #1967D2;\n",
       "      height: 32px;\n",
       "      padding: 0 0 0 0;\n",
       "      width: 32px;\n",
       "    }\n",
       "\n",
       "    .colab-df-convert:hover {\n",
       "      background-color: #E2EBFA;\n",
       "      box-shadow: 0px 1px 2px rgba(60, 64, 67, 0.3), 0px 1px 3px 1px rgba(60, 64, 67, 0.15);\n",
       "      fill: #174EA6;\n",
       "    }\n",
       "\n",
       "    .colab-df-buttons div {\n",
       "      margin-bottom: 4px;\n",
       "    }\n",
       "\n",
       "    [theme=dark] .colab-df-convert {\n",
       "      background-color: #3B4455;\n",
       "      fill: #D2E3FC;\n",
       "    }\n",
       "\n",
       "    [theme=dark] .colab-df-convert:hover {\n",
       "      background-color: #434B5C;\n",
       "      box-shadow: 0px 1px 3px 1px rgba(0, 0, 0, 0.15);\n",
       "      filter: drop-shadow(0px 1px 2px rgba(0, 0, 0, 0.3));\n",
       "      fill: #FFFFFF;\n",
       "    }\n",
       "  </style>\n",
       "\n",
       "    <script>\n",
       "      const buttonEl =\n",
       "        document.querySelector('#df-0b9d8fb2-a3ad-4863-8775-e4cf75eb28cb button.colab-df-convert');\n",
       "      buttonEl.style.display =\n",
       "        google.colab.kernel.accessAllowed ? 'block' : 'none';\n",
       "\n",
       "      async function convertToInteractive(key) {\n",
       "        const element = document.querySelector('#df-0b9d8fb2-a3ad-4863-8775-e4cf75eb28cb');\n",
       "        const dataTable =\n",
       "          await google.colab.kernel.invokeFunction('convertToInteractive',\n",
       "                                                    [key], {});\n",
       "        if (!dataTable) return;\n",
       "\n",
       "        const docLinkHtml = 'Like what you see? Visit the ' +\n",
       "          '<a target=\"_blank\" href=https://colab.research.google.com/notebooks/data_table.ipynb>data table notebook</a>'\n",
       "          + ' to learn more about interactive tables.';\n",
       "        element.innerHTML = '';\n",
       "        dataTable['output_type'] = 'display_data';\n",
       "        await google.colab.output.renderOutput(dataTable, element);\n",
       "        const docLink = document.createElement('div');\n",
       "        docLink.innerHTML = docLinkHtml;\n",
       "        element.appendChild(docLink);\n",
       "      }\n",
       "    </script>\n",
       "  </div>\n",
       "\n",
       "\n",
       "    <div id=\"df-1536f861-77e7-4e48-b9be-37e88c362125\">\n",
       "      <button class=\"colab-df-quickchart\" onclick=\"quickchart('df-1536f861-77e7-4e48-b9be-37e88c362125')\"\n",
       "                title=\"Suggest charts\"\n",
       "                style=\"display:none;\">\n",
       "\n",
       "<svg xmlns=\"http://www.w3.org/2000/svg\" height=\"24px\"viewBox=\"0 0 24 24\"\n",
       "     width=\"24px\">\n",
       "    <g>\n",
       "        <path d=\"M19 3H5c-1.1 0-2 .9-2 2v14c0 1.1.9 2 2 2h14c1.1 0 2-.9 2-2V5c0-1.1-.9-2-2-2zM9 17H7v-7h2v7zm4 0h-2V7h2v10zm4 0h-2v-4h2v4z\"/>\n",
       "    </g>\n",
       "</svg>\n",
       "      </button>\n",
       "\n",
       "<style>\n",
       "  .colab-df-quickchart {\n",
       "      --bg-color: #E8F0FE;\n",
       "      --fill-color: #1967D2;\n",
       "      --hover-bg-color: #E2EBFA;\n",
       "      --hover-fill-color: #174EA6;\n",
       "      --disabled-fill-color: #AAA;\n",
       "      --disabled-bg-color: #DDD;\n",
       "  }\n",
       "\n",
       "  [theme=dark] .colab-df-quickchart {\n",
       "      --bg-color: #3B4455;\n",
       "      --fill-color: #D2E3FC;\n",
       "      --hover-bg-color: #434B5C;\n",
       "      --hover-fill-color: #FFFFFF;\n",
       "      --disabled-bg-color: #3B4455;\n",
       "      --disabled-fill-color: #666;\n",
       "  }\n",
       "\n",
       "  .colab-df-quickchart {\n",
       "    background-color: var(--bg-color);\n",
       "    border: none;\n",
       "    border-radius: 50%;\n",
       "    cursor: pointer;\n",
       "    display: none;\n",
       "    fill: var(--fill-color);\n",
       "    height: 32px;\n",
       "    padding: 0;\n",
       "    width: 32px;\n",
       "  }\n",
       "\n",
       "  .colab-df-quickchart:hover {\n",
       "    background-color: var(--hover-bg-color);\n",
       "    box-shadow: 0 1px 2px rgba(60, 64, 67, 0.3), 0 1px 3px 1px rgba(60, 64, 67, 0.15);\n",
       "    fill: var(--button-hover-fill-color);\n",
       "  }\n",
       "\n",
       "  .colab-df-quickchart-complete:disabled,\n",
       "  .colab-df-quickchart-complete:disabled:hover {\n",
       "    background-color: var(--disabled-bg-color);\n",
       "    fill: var(--disabled-fill-color);\n",
       "    box-shadow: none;\n",
       "  }\n",
       "\n",
       "  .colab-df-spinner {\n",
       "    border: 2px solid var(--fill-color);\n",
       "    border-color: transparent;\n",
       "    border-bottom-color: var(--fill-color);\n",
       "    animation:\n",
       "      spin 1s steps(1) infinite;\n",
       "  }\n",
       "\n",
       "  @keyframes spin {\n",
       "    0% {\n",
       "      border-color: transparent;\n",
       "      border-bottom-color: var(--fill-color);\n",
       "      border-left-color: var(--fill-color);\n",
       "    }\n",
       "    20% {\n",
       "      border-color: transparent;\n",
       "      border-left-color: var(--fill-color);\n",
       "      border-top-color: var(--fill-color);\n",
       "    }\n",
       "    30% {\n",
       "      border-color: transparent;\n",
       "      border-left-color: var(--fill-color);\n",
       "      border-top-color: var(--fill-color);\n",
       "      border-right-color: var(--fill-color);\n",
       "    }\n",
       "    40% {\n",
       "      border-color: transparent;\n",
       "      border-right-color: var(--fill-color);\n",
       "      border-top-color: var(--fill-color);\n",
       "    }\n",
       "    60% {\n",
       "      border-color: transparent;\n",
       "      border-right-color: var(--fill-color);\n",
       "    }\n",
       "    80% {\n",
       "      border-color: transparent;\n",
       "      border-right-color: var(--fill-color);\n",
       "      border-bottom-color: var(--fill-color);\n",
       "    }\n",
       "    90% {\n",
       "      border-color: transparent;\n",
       "      border-bottom-color: var(--fill-color);\n",
       "    }\n",
       "  }\n",
       "</style>\n",
       "\n",
       "      <script>\n",
       "        async function quickchart(key) {\n",
       "          const quickchartButtonEl =\n",
       "            document.querySelector('#' + key + ' button');\n",
       "          quickchartButtonEl.disabled = true;  // To prevent multiple clicks.\n",
       "          quickchartButtonEl.classList.add('colab-df-spinner');\n",
       "          try {\n",
       "            const charts = await google.colab.kernel.invokeFunction(\n",
       "                'suggestCharts', [key], {});\n",
       "          } catch (error) {\n",
       "            console.error('Error during call to suggestCharts:', error);\n",
       "          }\n",
       "          quickchartButtonEl.classList.remove('colab-df-spinner');\n",
       "          quickchartButtonEl.classList.add('colab-df-quickchart-complete');\n",
       "        }\n",
       "        (() => {\n",
       "          let quickchartButtonEl =\n",
       "            document.querySelector('#df-1536f861-77e7-4e48-b9be-37e88c362125 button');\n",
       "          quickchartButtonEl.style.display =\n",
       "            google.colab.kernel.accessAllowed ? 'block' : 'none';\n",
       "        })();\n",
       "      </script>\n",
       "    </div>\n",
       "\n",
       "    </div>\n",
       "  </div>\n"
      ],
      "text/plain": [
       "                                           Title  \\\n",
       "0                                         Search   \n",
       "1                  A Poem for the Cruel Majority   \n",
       "2  “Do Not Embrace Your Mind’s New Negro Friend”   \n",
       "3                              The Greatest Love   \n",
       "4                             Bilingual/Bilingüe   \n",
       "\n",
       "                                                Poem                Poet  \\\n",
       "0  Wandered tonight through a cityas ruined as a ...       Hester Knibbe   \n",
       "1  The cruel majority emerges!Hail to the cruel m...   Jerome Rothenberg   \n",
       "2  Do not embrace your mind’s new negro friendOr ...    William Meredith   \n",
       "3  She is sixty. She livesthe greatest love of he...           Anna Swir   \n",
       "4  My father liked them separate, one there,one h...  Rhina P. Espaillat   \n",
       "\n",
       "   Genre  \n",
       "0   Fear  \n",
       "1  Anger  \n",
       "2  Anger  \n",
       "3   Love  \n",
       "4  Anger  "
      ]
     },
     "execution_count": 5,
     "metadata": {},
     "output_type": "execute_result"
    }
   ],
   "source": [
    "# Loading the data\n",
    "df = pd.read_csv('/content/drive/MyDrive/NLP-third_assignment -20250504T164430Z-1-001/NLP-third_assignment/PoemDataset.csv/PoemDataset.csv')\n",
    "df.head()"
   ]
  },
  {
   "cell_type": "code",
   "execution_count": 6,
   "metadata": {
    "colab": {
     "base_uri": "https://localhost:8080/"
    },
    "executionInfo": {
     "elapsed": 10,
     "status": "ok",
     "timestamp": 1746394249203,
     "user": {
      "displayName": "Morteza Heidari",
      "userId": "12437174777431138604"
     },
     "user_tz": -180
    },
    "id": "V7dfU4qe1SqZ",
    "outputId": "d1313992-2263-430f-a8d6-84eaa0cbdb4a"
   },
   "outputs": [
    {
     "data": {
      "text/plain": [
       "(10000, 4)"
      ]
     },
     "execution_count": 6,
     "metadata": {},
     "output_type": "execute_result"
    }
   ],
   "source": [
    "df.shape"
   ]
  },
  {
   "cell_type": "code",
   "execution_count": 7,
   "metadata": {
    "colab": {
     "base_uri": "https://localhost:8080/",
     "height": 676
    },
    "executionInfo": {
     "elapsed": 58,
     "status": "ok",
     "timestamp": 1746394249262,
     "user": {
      "displayName": "Morteza Heidari",
      "userId": "12437174777431138604"
     },
     "user_tz": -180
    },
    "id": "PjCdlgwT1wv0",
    "outputId": "d182262c-a9ff-4635-cbf5-2cfecc3434ab"
   },
   "outputs": [
    {
     "data": {
      "application/vnd.google.colaboratory.intrinsic+json": {
       "summary": "{\n  \"name\": \"df\",\n  \"rows\": 10000,\n  \"fields\": [\n    {\n      \"column\": \"Title\",\n      \"properties\": {\n        \"dtype\": \"string\",\n        \"num_unique_values\": 9641,\n        \"samples\": [\n          \"Godolphin Horne, Who was Cursed with the Sin of Pride, and Became a Boot-Black\",\n          \"Song: \\u201cWho is Silvia? what is she\\u201d\",\n          \"Le sporting-club de Monte Carlo (for Lena Horne)\"\n        ],\n        \"semantic_type\": \"\",\n        \"description\": \"\"\n      }\n    },\n    {\n      \"column\": \"Poem\",\n      \"properties\": {\n        \"dtype\": \"string\",\n        \"num_unique_values\": 9921,\n        \"samples\": [\n          \"I made up a story for myself once,   That each glove I lost   Was sent to my father in prison   That\\u2019s all it would take for him   To chart my growth without pictures   Without words or visits,   Only colors and design,   Texture; it was ok then   For skin to chafe and ash,   To imagine him   Trying on a glove,   Stretching it out   My open palm closing   And disappearing   In his fist.\",\n          \"Let me call a ghost,Love, so it be little:In December we tookNo thought for the weather.Whom now shall I thankFor this wealth of water?Your heart loves harborsWhere I am a stranger.Where was it we layNeeding no otherTwelve days and twelve nightsIn each other\\u2019s eyes?Or was it at BabelAnd the days too smallWe spoke our own tongueNeeding no other?If a seed grow greenSet a stone upon itThat it learn therebyHoly charity.If you must smileAlways on that other,Cut me from ear to earAnd we all smile together.\",\n          \"The ancients would lift          a clay spout to your lips\\u2014          water and honey and wine.I give you milk, softened         with wine, and swearyou'll never hunger, never         thirst while I'm alive.What suffering I can't preclude         I'll soothe with singing:My future, for younot the greenness of a leaf         but of the leaves on all         the April branches.Fire, I give you fuel. I sweat         and chop the wood.I tender forever in you         who begin where I end as ifyour body is         my body, your elegance         my elegance.Sustenance, emptiness         is lack of you, yearning isthe road to where you are.You are the road, the where,         the song, the hunger. Child,I give you sleep, I sing                                          you there.\"\n        ],\n        \"semantic_type\": \"\",\n        \"description\": \"\"\n      }\n    },\n    {\n      \"column\": \"Genre\",\n      \"properties\": {\n        \"dtype\": \"category\",\n        \"num_unique_values\": 6,\n        \"samples\": [\n          \"Fear\",\n          \"Anger\",\n          \"Surprise\"\n        ],\n        \"semantic_type\": \"\",\n        \"description\": \"\"\n      }\n    }\n  ]\n}",
       "type": "dataframe",
       "variable_name": "df"
      },
      "text/html": [
       "\n",
       "  <div id=\"df-6d0ed128-3372-4118-b86d-6bf8413bdac5\" class=\"colab-df-container\">\n",
       "    <div>\n",
       "<style scoped>\n",
       "    .dataframe tbody tr th:only-of-type {\n",
       "        vertical-align: middle;\n",
       "    }\n",
       "\n",
       "    .dataframe tbody tr th {\n",
       "        vertical-align: top;\n",
       "    }\n",
       "\n",
       "    .dataframe thead th {\n",
       "        text-align: right;\n",
       "    }\n",
       "</style>\n",
       "<table border=\"1\" class=\"dataframe\">\n",
       "  <thead>\n",
       "    <tr style=\"text-align: right;\">\n",
       "      <th></th>\n",
       "      <th>Title</th>\n",
       "      <th>Poem</th>\n",
       "      <th>Genre</th>\n",
       "    </tr>\n",
       "  </thead>\n",
       "  <tbody>\n",
       "    <tr>\n",
       "      <th>0</th>\n",
       "      <td>Search</td>\n",
       "      <td>Wandered tonight through a cityas ruined as a ...</td>\n",
       "      <td>Fear</td>\n",
       "    </tr>\n",
       "    <tr>\n",
       "      <th>1</th>\n",
       "      <td>A Poem for the Cruel Majority</td>\n",
       "      <td>The cruel majority emerges!Hail to the cruel m...</td>\n",
       "      <td>Anger</td>\n",
       "    </tr>\n",
       "    <tr>\n",
       "      <th>2</th>\n",
       "      <td>“Do Not Embrace Your Mind’s New Negro Friend”</td>\n",
       "      <td>Do not embrace your mind’s new negro friendOr ...</td>\n",
       "      <td>Anger</td>\n",
       "    </tr>\n",
       "    <tr>\n",
       "      <th>3</th>\n",
       "      <td>The Greatest Love</td>\n",
       "      <td>She is sixty. She livesthe greatest love of he...</td>\n",
       "      <td>Love</td>\n",
       "    </tr>\n",
       "    <tr>\n",
       "      <th>4</th>\n",
       "      <td>Bilingual/Bilingüe</td>\n",
       "      <td>My father liked them separate, one there,one h...</td>\n",
       "      <td>Anger</td>\n",
       "    </tr>\n",
       "    <tr>\n",
       "      <th>5</th>\n",
       "      <td>The War Films</td>\n",
       "      <td>O living pictures of the dead, O songs without...</td>\n",
       "      <td>Fear</td>\n",
       "    </tr>\n",
       "    <tr>\n",
       "      <th>6</th>\n",
       "      <td>Of the Education of Children</td>\n",
       "      <td>I was planted, a cropnot a boy but with headlo...</td>\n",
       "      <td>Sadness</td>\n",
       "    </tr>\n",
       "    <tr>\n",
       "      <th>7</th>\n",
       "      <td>from America, America</td>\n",
       "      <td>God save America,               My home, sweet...</td>\n",
       "      <td>Joy</td>\n",
       "    </tr>\n",
       "    <tr>\n",
       "      <th>8</th>\n",
       "      <td>Poisonous Plants of America</td>\n",
       "      <td>April foolBear's-footBog-onionDevil's-appleDog...</td>\n",
       "      <td>Fear</td>\n",
       "    </tr>\n",
       "    <tr>\n",
       "      <th>9</th>\n",
       "      <td>Morte d'Arthur</td>\n",
       "      <td>So all day long the noise of battle roll'd Amo...</td>\n",
       "      <td>Fear</td>\n",
       "    </tr>\n",
       "    <tr>\n",
       "      <th>10</th>\n",
       "      <td>The Summer Bower</td>\n",
       "      <td>It is a place whither I’ve often goneFor peace...</td>\n",
       "      <td>Joy</td>\n",
       "    </tr>\n",
       "    <tr>\n",
       "      <th>11</th>\n",
       "      <td>A Carafe, that is a Blind Glass</td>\n",
       "      <td>A kind in glass and a cousin, a spectacle and ...</td>\n",
       "      <td>Surprise</td>\n",
       "    </tr>\n",
       "    <tr>\n",
       "      <th>12</th>\n",
       "      <td>Mutter</td>\n",
       "      <td>There is a brand of play called mutenessBeneat...</td>\n",
       "      <td>Anger</td>\n",
       "    </tr>\n",
       "    <tr>\n",
       "      <th>13</th>\n",
       "      <td>Eating Together</td>\n",
       "      <td>I know my friend is going,though she still sit...</td>\n",
       "      <td>Joy</td>\n",
       "    </tr>\n",
       "    <tr>\n",
       "      <th>14</th>\n",
       "      <td>Ghazal for Becoming Your Own Country</td>\n",
       "      <td>After Rachel Eliza Griffiths’s “Self Stones Co...</td>\n",
       "      <td>Fear</td>\n",
       "    </tr>\n",
       "    <tr>\n",
       "      <th>15</th>\n",
       "      <td>Sather Tower Mystery</td>\n",
       "      <td>Seems there was this Professora member of what...</td>\n",
       "      <td>Anger</td>\n",
       "    </tr>\n",
       "    <tr>\n",
       "      <th>16</th>\n",
       "      <td>Meditation</td>\n",
       "      <td>after BaudelaireQuiet now, sorrow; relax. Calm...</td>\n",
       "      <td>Anger</td>\n",
       "    </tr>\n",
       "    <tr>\n",
       "      <th>17</th>\n",
       "      <td>Spring and All: XIX [This is the time of year]</td>\n",
       "      <td>This is the time of yearwhen boys fifteen and ...</td>\n",
       "      <td>Anger</td>\n",
       "    </tr>\n",
       "    <tr>\n",
       "      <th>18</th>\n",
       "      <td>On English Monsieur</td>\n",
       "      <td>Would you believe, when you this monsieur see,...</td>\n",
       "      <td>Fear</td>\n",
       "    </tr>\n",
       "    <tr>\n",
       "      <th>19</th>\n",
       "      <td>The Young Blake</td>\n",
       "      <td>sleeps into heaven with his lamps on, finishin...</td>\n",
       "      <td>Surprise</td>\n",
       "    </tr>\n",
       "  </tbody>\n",
       "</table>\n",
       "</div>\n",
       "    <div class=\"colab-df-buttons\">\n",
       "\n",
       "  <div class=\"colab-df-container\">\n",
       "    <button class=\"colab-df-convert\" onclick=\"convertToInteractive('df-6d0ed128-3372-4118-b86d-6bf8413bdac5')\"\n",
       "            title=\"Convert this dataframe to an interactive table.\"\n",
       "            style=\"display:none;\">\n",
       "\n",
       "  <svg xmlns=\"http://www.w3.org/2000/svg\" height=\"24px\" viewBox=\"0 -960 960 960\">\n",
       "    <path d=\"M120-120v-720h720v720H120Zm60-500h600v-160H180v160Zm220 220h160v-160H400v160Zm0 220h160v-160H400v160ZM180-400h160v-160H180v160Zm440 0h160v-160H620v160ZM180-180h160v-160H180v160Zm440 0h160v-160H620v160Z\"/>\n",
       "  </svg>\n",
       "    </button>\n",
       "\n",
       "  <style>\n",
       "    .colab-df-container {\n",
       "      display:flex;\n",
       "      gap: 12px;\n",
       "    }\n",
       "\n",
       "    .colab-df-convert {\n",
       "      background-color: #E8F0FE;\n",
       "      border: none;\n",
       "      border-radius: 50%;\n",
       "      cursor: pointer;\n",
       "      display: none;\n",
       "      fill: #1967D2;\n",
       "      height: 32px;\n",
       "      padding: 0 0 0 0;\n",
       "      width: 32px;\n",
       "    }\n",
       "\n",
       "    .colab-df-convert:hover {\n",
       "      background-color: #E2EBFA;\n",
       "      box-shadow: 0px 1px 2px rgba(60, 64, 67, 0.3), 0px 1px 3px 1px rgba(60, 64, 67, 0.15);\n",
       "      fill: #174EA6;\n",
       "    }\n",
       "\n",
       "    .colab-df-buttons div {\n",
       "      margin-bottom: 4px;\n",
       "    }\n",
       "\n",
       "    [theme=dark] .colab-df-convert {\n",
       "      background-color: #3B4455;\n",
       "      fill: #D2E3FC;\n",
       "    }\n",
       "\n",
       "    [theme=dark] .colab-df-convert:hover {\n",
       "      background-color: #434B5C;\n",
       "      box-shadow: 0px 1px 3px 1px rgba(0, 0, 0, 0.15);\n",
       "      filter: drop-shadow(0px 1px 2px rgba(0, 0, 0, 0.3));\n",
       "      fill: #FFFFFF;\n",
       "    }\n",
       "  </style>\n",
       "\n",
       "    <script>\n",
       "      const buttonEl =\n",
       "        document.querySelector('#df-6d0ed128-3372-4118-b86d-6bf8413bdac5 button.colab-df-convert');\n",
       "      buttonEl.style.display =\n",
       "        google.colab.kernel.accessAllowed ? 'block' : 'none';\n",
       "\n",
       "      async function convertToInteractive(key) {\n",
       "        const element = document.querySelector('#df-6d0ed128-3372-4118-b86d-6bf8413bdac5');\n",
       "        const dataTable =\n",
       "          await google.colab.kernel.invokeFunction('convertToInteractive',\n",
       "                                                    [key], {});\n",
       "        if (!dataTable) return;\n",
       "\n",
       "        const docLinkHtml = 'Like what you see? Visit the ' +\n",
       "          '<a target=\"_blank\" href=https://colab.research.google.com/notebooks/data_table.ipynb>data table notebook</a>'\n",
       "          + ' to learn more about interactive tables.';\n",
       "        element.innerHTML = '';\n",
       "        dataTable['output_type'] = 'display_data';\n",
       "        await google.colab.output.renderOutput(dataTable, element);\n",
       "        const docLink = document.createElement('div');\n",
       "        docLink.innerHTML = docLinkHtml;\n",
       "        element.appendChild(docLink);\n",
       "      }\n",
       "    </script>\n",
       "  </div>\n",
       "\n",
       "\n",
       "    <div id=\"df-bb06b4ee-1ace-4945-93ce-64158fd5d81c\">\n",
       "      <button class=\"colab-df-quickchart\" onclick=\"quickchart('df-bb06b4ee-1ace-4945-93ce-64158fd5d81c')\"\n",
       "                title=\"Suggest charts\"\n",
       "                style=\"display:none;\">\n",
       "\n",
       "<svg xmlns=\"http://www.w3.org/2000/svg\" height=\"24px\"viewBox=\"0 0 24 24\"\n",
       "     width=\"24px\">\n",
       "    <g>\n",
       "        <path d=\"M19 3H5c-1.1 0-2 .9-2 2v14c0 1.1.9 2 2 2h14c1.1 0 2-.9 2-2V5c0-1.1-.9-2-2-2zM9 17H7v-7h2v7zm4 0h-2V7h2v10zm4 0h-2v-4h2v4z\"/>\n",
       "    </g>\n",
       "</svg>\n",
       "      </button>\n",
       "\n",
       "<style>\n",
       "  .colab-df-quickchart {\n",
       "      --bg-color: #E8F0FE;\n",
       "      --fill-color: #1967D2;\n",
       "      --hover-bg-color: #E2EBFA;\n",
       "      --hover-fill-color: #174EA6;\n",
       "      --disabled-fill-color: #AAA;\n",
       "      --disabled-bg-color: #DDD;\n",
       "  }\n",
       "\n",
       "  [theme=dark] .colab-df-quickchart {\n",
       "      --bg-color: #3B4455;\n",
       "      --fill-color: #D2E3FC;\n",
       "      --hover-bg-color: #434B5C;\n",
       "      --hover-fill-color: #FFFFFF;\n",
       "      --disabled-bg-color: #3B4455;\n",
       "      --disabled-fill-color: #666;\n",
       "  }\n",
       "\n",
       "  .colab-df-quickchart {\n",
       "    background-color: var(--bg-color);\n",
       "    border: none;\n",
       "    border-radius: 50%;\n",
       "    cursor: pointer;\n",
       "    display: none;\n",
       "    fill: var(--fill-color);\n",
       "    height: 32px;\n",
       "    padding: 0;\n",
       "    width: 32px;\n",
       "  }\n",
       "\n",
       "  .colab-df-quickchart:hover {\n",
       "    background-color: var(--hover-bg-color);\n",
       "    box-shadow: 0 1px 2px rgba(60, 64, 67, 0.3), 0 1px 3px 1px rgba(60, 64, 67, 0.15);\n",
       "    fill: var(--button-hover-fill-color);\n",
       "  }\n",
       "\n",
       "  .colab-df-quickchart-complete:disabled,\n",
       "  .colab-df-quickchart-complete:disabled:hover {\n",
       "    background-color: var(--disabled-bg-color);\n",
       "    fill: var(--disabled-fill-color);\n",
       "    box-shadow: none;\n",
       "  }\n",
       "\n",
       "  .colab-df-spinner {\n",
       "    border: 2px solid var(--fill-color);\n",
       "    border-color: transparent;\n",
       "    border-bottom-color: var(--fill-color);\n",
       "    animation:\n",
       "      spin 1s steps(1) infinite;\n",
       "  }\n",
       "\n",
       "  @keyframes spin {\n",
       "    0% {\n",
       "      border-color: transparent;\n",
       "      border-bottom-color: var(--fill-color);\n",
       "      border-left-color: var(--fill-color);\n",
       "    }\n",
       "    20% {\n",
       "      border-color: transparent;\n",
       "      border-left-color: var(--fill-color);\n",
       "      border-top-color: var(--fill-color);\n",
       "    }\n",
       "    30% {\n",
       "      border-color: transparent;\n",
       "      border-left-color: var(--fill-color);\n",
       "      border-top-color: var(--fill-color);\n",
       "      border-right-color: var(--fill-color);\n",
       "    }\n",
       "    40% {\n",
       "      border-color: transparent;\n",
       "      border-right-color: var(--fill-color);\n",
       "      border-top-color: var(--fill-color);\n",
       "    }\n",
       "    60% {\n",
       "      border-color: transparent;\n",
       "      border-right-color: var(--fill-color);\n",
       "    }\n",
       "    80% {\n",
       "      border-color: transparent;\n",
       "      border-right-color: var(--fill-color);\n",
       "      border-bottom-color: var(--fill-color);\n",
       "    }\n",
       "    90% {\n",
       "      border-color: transparent;\n",
       "      border-bottom-color: var(--fill-color);\n",
       "    }\n",
       "  }\n",
       "</style>\n",
       "\n",
       "      <script>\n",
       "        async function quickchart(key) {\n",
       "          const quickchartButtonEl =\n",
       "            document.querySelector('#' + key + ' button');\n",
       "          quickchartButtonEl.disabled = true;  // To prevent multiple clicks.\n",
       "          quickchartButtonEl.classList.add('colab-df-spinner');\n",
       "          try {\n",
       "            const charts = await google.colab.kernel.invokeFunction(\n",
       "                'suggestCharts', [key], {});\n",
       "          } catch (error) {\n",
       "            console.error('Error during call to suggestCharts:', error);\n",
       "          }\n",
       "          quickchartButtonEl.classList.remove('colab-df-spinner');\n",
       "          quickchartButtonEl.classList.add('colab-df-quickchart-complete');\n",
       "        }\n",
       "        (() => {\n",
       "          let quickchartButtonEl =\n",
       "            document.querySelector('#df-bb06b4ee-1ace-4945-93ce-64158fd5d81c button');\n",
       "          quickchartButtonEl.style.display =\n",
       "            google.colab.kernel.accessAllowed ? 'block' : 'none';\n",
       "        })();\n",
       "      </script>\n",
       "    </div>\n",
       "\n",
       "    </div>\n",
       "  </div>\n"
      ],
      "text/plain": [
       "                                             Title  \\\n",
       "0                                           Search   \n",
       "1                    A Poem for the Cruel Majority   \n",
       "2    “Do Not Embrace Your Mind’s New Negro Friend”   \n",
       "3                                The Greatest Love   \n",
       "4                               Bilingual/Bilingüe   \n",
       "5                                    The War Films   \n",
       "6                     Of the Education of Children   \n",
       "7                            from America, America   \n",
       "8                      Poisonous Plants of America   \n",
       "9                                   Morte d'Arthur   \n",
       "10                                The Summer Bower   \n",
       "11                 A Carafe, that is a Blind Glass   \n",
       "12                                          Mutter   \n",
       "13                                 Eating Together   \n",
       "14            Ghazal for Becoming Your Own Country   \n",
       "15                            Sather Tower Mystery   \n",
       "16                                      Meditation   \n",
       "17  Spring and All: XIX [This is the time of year]   \n",
       "18                             On English Monsieur   \n",
       "19                                 The Young Blake   \n",
       "\n",
       "                                                 Poem     Genre  \n",
       "0   Wandered tonight through a cityas ruined as a ...      Fear  \n",
       "1   The cruel majority emerges!Hail to the cruel m...     Anger  \n",
       "2   Do not embrace your mind’s new negro friendOr ...     Anger  \n",
       "3   She is sixty. She livesthe greatest love of he...      Love  \n",
       "4   My father liked them separate, one there,one h...     Anger  \n",
       "5   O living pictures of the dead, O songs without...      Fear  \n",
       "6   I was planted, a cropnot a boy but with headlo...   Sadness  \n",
       "7   God save America,               My home, sweet...       Joy  \n",
       "8   April foolBear's-footBog-onionDevil's-appleDog...      Fear  \n",
       "9   So all day long the noise of battle roll'd Amo...      Fear  \n",
       "10  It is a place whither I’ve often goneFor peace...       Joy  \n",
       "11  A kind in glass and a cousin, a spectacle and ...  Surprise  \n",
       "12  There is a brand of play called mutenessBeneat...     Anger  \n",
       "13  I know my friend is going,though she still sit...       Joy  \n",
       "14  After Rachel Eliza Griffiths’s “Self Stones Co...      Fear  \n",
       "15  Seems there was this Professora member of what...     Anger  \n",
       "16  after BaudelaireQuiet now, sorrow; relax. Calm...     Anger  \n",
       "17  This is the time of yearwhen boys fifteen and ...     Anger  \n",
       "18  Would you believe, when you this monsieur see,...      Fear  \n",
       "19  sleeps into heaven with his lamps on, finishin...  Surprise  "
      ]
     },
     "execution_count": 7,
     "metadata": {},
     "output_type": "execute_result"
    }
   ],
   "source": [
    "#  Peot is not important to have it in dataset\n",
    "df = df.drop(columns=['Poet'])\n",
    "df.head(20)"
   ]
  },
  {
   "cell_type": "code",
   "execution_count": 8,
   "metadata": {
    "colab": {
     "base_uri": "https://localhost:8080/"
    },
    "executionInfo": {
     "elapsed": 6,
     "status": "ok",
     "timestamp": 1746394249269,
     "user": {
      "displayName": "Morteza Heidari",
      "userId": "12437174777431138604"
     },
     "user_tz": -180
    },
    "id": "HWUAntad64_j",
    "outputId": "18d7bfea-cf12-47d9-8f4e-957a0afcbbfe"
   },
   "outputs": [
    {
     "name": "stdout",
     "output_type": "stream",
     "text": [
      "<class 'pandas.core.frame.DataFrame'>\n",
      "RangeIndex: 10000 entries, 0 to 9999\n",
      "Data columns (total 3 columns):\n",
      " #   Column  Non-Null Count  Dtype \n",
      "---  ------  --------------  ----- \n",
      " 0   Title   9999 non-null   object\n",
      " 1   Poem    9928 non-null   object\n",
      " 2   Genre   10000 non-null  object\n",
      "dtypes: object(3)\n",
      "memory usage: 234.5+ KB\n"
     ]
    }
   ],
   "source": [
    "df.info()"
   ]
  },
  {
   "cell_type": "markdown",
   "metadata": {
    "id": "a8ZtTzwbQ_vY"
   },
   "source": [
    "# Preprocessing"
   ]
  },
  {
   "cell_type": "markdown",
   "metadata": {
    "id": "ZLdm9icE34Sf"
   },
   "source": [
    "# Text cleaning"
   ]
  },
  {
   "cell_type": "code",
   "execution_count": 9,
   "metadata": {
    "executionInfo": {
     "elapsed": 25,
     "status": "ok",
     "timestamp": 1746394249296,
     "user": {
      "displayName": "Morteza Heidari",
      "userId": "12437174777431138604"
     },
     "user_tz": -180
    },
    "id": "K9i8Gakj2YsQ"
   },
   "outputs": [],
   "source": [
    "# what I can see, in title column.  I will define function to clean the text\n",
    "def clean(text):\n",
    "    if pd.isnull(text):\n",
    "        return ''\n",
    "    # In dataset, there are some chines characters, I will remove them, but I noticed that in dataset there are non English words as well , which have the same characters as English words.\n",
    "    text = re.sub(r'[^A-Za-z\\s]', '', text)\n",
    "    # Collapse multiple whitespace characters into a single space\n",
    "    text = re.sub(r'\\s+', ' ', text).strip()\n",
    "    return text.lower()\n",
    "\n",
    " # When I apply the function, I got \"TypeError: 'float' object is not iterable\" that some values are not string\n",
    "# For debugging the error, I used Qwen 2.5."
   ]
  },
  {
   "cell_type": "code",
   "execution_count": 10,
   "metadata": {
    "colab": {
     "base_uri": "https://localhost:8080/",
     "height": 519
    },
    "executionInfo": {
     "elapsed": 1707,
     "status": "ok",
     "timestamp": 1746394251005,
     "user": {
      "displayName": "Morteza Heidari",
      "userId": "12437174777431138604"
     },
     "user_tz": -180
    },
    "id": "diXCmHE66cb0",
    "outputId": "989d31b5-de72-4231-b302-4fd515e49fab"
   },
   "outputs": [
    {
     "data": {
      "application/vnd.google.colaboratory.intrinsic+json": {
       "summary": "{\n  \"name\": \"df\",\n  \"rows\": 10000,\n  \"fields\": [\n    {\n      \"column\": \"Title\",\n      \"properties\": {\n        \"dtype\": \"string\",\n        \"num_unique_values\": 9641,\n        \"samples\": [\n          \"Godolphin Horne, Who was Cursed with the Sin of Pride, and Became a Boot-Black\",\n          \"Song: \\u201cWho is Silvia? what is she\\u201d\",\n          \"Le sporting-club de Monte Carlo (for Lena Horne)\"\n        ],\n        \"semantic_type\": \"\",\n        \"description\": \"\"\n      }\n    },\n    {\n      \"column\": \"Poem\",\n      \"properties\": {\n        \"dtype\": \"string\",\n        \"num_unique_values\": 9920,\n        \"samples\": [\n          \"she said the pitying audience melt in tears but fate and jove had stoppd the barons ears in vain thalestris with reproach assails for who can move when fair belinda fails not half so fixd the trojan could remain while anna beggd and dido ragd in vain then grave clarissa graceful wavd her fan silence ensud and thus the nymph began say why are beauties praisd and honourd most the wise mans passion and the vain mans toast why deckd with all that land and sea afford why angels calld and angellike adord why round our coaches crowd the whiteglovd beaux why bows the sidebox from its inmost rows how vain are all these glories all our pains unless good sense preserve what beauty gains that men may say when we the frontbox grace behold the first in virtue as in face oh if to dance all night and dress all day charmd the smallpox or chasd old age away who would not scorn what housewifes cares produce or who would learn one earthly thing of use to patch nay ogle might become a saint nor could it sure be such a sin to paint but since alas frail beauty must decay curld or uncurld since locks will turn to grey since painted or not painted all shall fade and she who scorns a man must die a maid what then remains but well our powr to use and keep good humour still whateer we lose and trust me dear good humour can prevail when airs and flights and screams and scolding fail beauties in vain their pretty eyes may roll charms strike the sight but merit wins the soul so spoke the dame but no applause ensud belinda frownd thalestris calld her prude to arms to arms the fierce virago cries and swift as lightning to the combat flies all side in parties and begin th attack fans clap silks rustle and tough whalebones crack heroes and heroines shouts confusdly rise and bass and treble voices strike the skies no common weapons in their hands are found like gods they fight nor dread a mortal wound so when bold homer makes the gods engage and heavnly breasts with human passions rage gainst pallas mars latona hermes arms and all olympus rings with loud alarms joves thunder roars heavn trembles all around blue neptune storms the bellowing deeps resound earth shakes her nodding towrs the ground gives way and the pale ghosts start at the flash of day triumphant umbriel on a sconces height clappd his glad wings and sate to view the fight proppd on their bodkin spears the sprites survey the growing combat or assist the fray while through the press enragd thalestris flies and scatters death around from both her eyes a beau and witling perishd in the throng one died in metaphor and one in song o cruel nymph a living death i bear cried dapperwit and sunk beside his chair a mournful glance sir fopling upwards cast those eyes are made so killingwas his last thus on meanders flowry margin lies th expiring swan and as he sings he dies when bold sir plume had drawn clarissa down chloe steppd in and killd him with a frown she smild to see the doughty hero slain but at her smile the beau revivd again now jove suspends his golden scales in air weighs the mens wits against the ladys hair the doubtful beam long nods from side to side at length the wits mount up the hairs subside see fierce belinda on the baron flies with more than usual lightning in her eyes nor feard the chief th unequal fight to try who sought no more than on his foe to die but this bold lord with manly strength endud she with one finger and a thumb subdud just where the breath of life his nostrils drew a charge of snuff the wily virgin threw the gnomes direct to evry atom just the pungent grains of titillating dust sudden with starting tears each eye oerflows and the high dome reechoes to his nose now meet thy fate incensd belinda cried and drew a deadly bodkin from her side the same his ancient personage to deck her great great grandsire wore about his neck in three sealrings which after melted down formd a vast buckle for his widows gown her infant grandames whistle next it grew the bells she jingled and the whistle blew then in a bodkin gracd her mothers hairs which long she wore and now belinda wears boast not my fall he cried insulting foe thou by some other shalt be laid as low nor think to die dejects my lofty mind all that i dread is leaving you benind rather than so ah let me still survive and burn in cupids flamesbut burn alive restore the lock she cries and all around restore the lock the vaulted roofs rebound not fierce othello in so loud a strain roard for the handkerchief that causd his pain but see how oft ambitious aims are crossd the chiefs contend till all the prize is lost the lock obtaind with guilt and kept with pain in evry place is sought but sought in vain with such a prize no mortal must be blest so heavn decrees with heavn who can contest some thought it mounted to the lunar sphere since all things lost on earth are treasurd there there heros wits are kept in pondrous vases and beaux in snuff boxes and tweezercases there broken vows and deathbed alms are found and lovers hearts with ends of riband bound the courtiers promises and sick mans prayers the smiles of harlots and the tears of heirs cages for gnats and chains to yoke a flea dried butterflies and tomes of casuistry but trust the museshe saw it upward rise though markd by none but quick poetic eyes so romes great founder to the heavns withdrew to proculus alone confessd in view a sudden star it shot through liquid air and drew behind a radiant trail of hair not berenices locks first rose so bright the heavns bespangling with dishevelld light the sylphs behold it kindling as it flies and pleasd pursue its progress through the skies this the beau monde shall from the mall survey and hail with music its propitious ray this the blest lover shall for venus take and send up vows from rosamondas lake this partridge soon shall view in cloudless skies when next he looks through galileos eyes and hence th egregious wizard shall foredoom the fate of louis and the fall of rome then cease bright nymph to mourn thy ravishd hair which adds new glory to the shining sphere not all the tresses that fair head can boast shall draw such envy as the lock you lost for after all the murders of your eye when after millions slain yourself shall die when those fair suns shall set as set they must and all those tresses shall be laid in dust this lock the muse shall consecrate to fame and midst the stars inscribe belindas name\",\n          \"after the yorubathough the amaryllis sags and spills so do those my wishes serve all along the town and yes the new moon kinked there in nights patch tugs me sobut i cant reach to right the slant and though our cat pads past without a tail some with slinking tails peer oneeyed at the dawn some with eyes are clawless some with sparking claws contain no voice with which to sing of foxes gassing in the lane roundshouldered pals parade smart shirts while my broad back supports a scrubby jumper fawn or taupe the balding english air their stubble while some headless hero sports a feathered hat i know a man whose thoroughbred grazes in his porch for want of livery there are scholars of kant who cant find kent on the map and men of kent who cannot fathom kant we who would polish off a feast have lain late in our beds our bellies groaning throats on fire we whod drain a vat of wine have drunk our own blood for its sting each of us in tatters flaunts one treasured garment flapping in the wind\",\n          \"four lanes over a plump helium heart slipped maybe from some kids wrist or a rushed lovers empty front seat through a halfcracked car window rises like a shiny purple cloudlet toward todays gray mess of clouds trailing its gold ribbon like lightning that will never strike anything or anyone here on the forsaken ground its bold love increasingly illegible as it ascends over the frozen oaks riding swift currents toward the horizon a swollen word wobbling out of sight\"\n        ],\n        \"semantic_type\": \"\",\n        \"description\": \"\"\n      }\n    },\n    {\n      \"column\": \"Genre\",\n      \"properties\": {\n        \"dtype\": \"category\",\n        \"num_unique_values\": 6,\n        \"samples\": [\n          \"Fear\",\n          \"Anger\",\n          \"Surprise\"\n        ],\n        \"semantic_type\": \"\",\n        \"description\": \"\"\n      }\n    }\n  ]\n}",
       "type": "dataframe",
       "variable_name": "df"
      },
      "text/html": [
       "\n",
       "  <div id=\"df-22de7a49-f281-4df1-b527-9c2a9af87445\" class=\"colab-df-container\">\n",
       "    <div>\n",
       "<style scoped>\n",
       "    .dataframe tbody tr th:only-of-type {\n",
       "        vertical-align: middle;\n",
       "    }\n",
       "\n",
       "    .dataframe tbody tr th {\n",
       "        vertical-align: top;\n",
       "    }\n",
       "\n",
       "    .dataframe thead th {\n",
       "        text-align: right;\n",
       "    }\n",
       "</style>\n",
       "<table border=\"1\" class=\"dataframe\">\n",
       "  <thead>\n",
       "    <tr style=\"text-align: right;\">\n",
       "      <th></th>\n",
       "      <th>Title</th>\n",
       "      <th>Poem</th>\n",
       "      <th>Genre</th>\n",
       "    </tr>\n",
       "  </thead>\n",
       "  <tbody>\n",
       "    <tr>\n",
       "      <th>0</th>\n",
       "      <td>Search</td>\n",
       "      <td>wandered tonight through a cityas ruined as a ...</td>\n",
       "      <td>Fear</td>\n",
       "    </tr>\n",
       "    <tr>\n",
       "      <th>1</th>\n",
       "      <td>A Poem for the Cruel Majority</td>\n",
       "      <td>the cruel majority emergeshail to the cruel ma...</td>\n",
       "      <td>Anger</td>\n",
       "    </tr>\n",
       "    <tr>\n",
       "      <th>2</th>\n",
       "      <td>“Do Not Embrace Your Mind’s New Negro Friend”</td>\n",
       "      <td>do not embrace your minds new negro friendor e...</td>\n",
       "      <td>Anger</td>\n",
       "    </tr>\n",
       "    <tr>\n",
       "      <th>3</th>\n",
       "      <td>The Greatest Love</td>\n",
       "      <td>she is sixty she livesthe greatest love of her...</td>\n",
       "      <td>Love</td>\n",
       "    </tr>\n",
       "    <tr>\n",
       "      <th>4</th>\n",
       "      <td>Bilingual/Bilingüe</td>\n",
       "      <td>my father liked them separate one thereone her...</td>\n",
       "      <td>Anger</td>\n",
       "    </tr>\n",
       "    <tr>\n",
       "      <th>5</th>\n",
       "      <td>The War Films</td>\n",
       "      <td>o living pictures of the dead o songs without ...</td>\n",
       "      <td>Fear</td>\n",
       "    </tr>\n",
       "    <tr>\n",
       "      <th>6</th>\n",
       "      <td>Of the Education of Children</td>\n",
       "      <td>i was planted a cropnot a boy but with headlon...</td>\n",
       "      <td>Sadness</td>\n",
       "    </tr>\n",
       "    <tr>\n",
       "      <th>7</th>\n",
       "      <td>from America, America</td>\n",
       "      <td>god save america my home sweet home</td>\n",
       "      <td>Joy</td>\n",
       "    </tr>\n",
       "    <tr>\n",
       "      <th>8</th>\n",
       "      <td>Poisonous Plants of America</td>\n",
       "      <td>april foolbearsfootbogoniondevilsappledog pars...</td>\n",
       "      <td>Fear</td>\n",
       "    </tr>\n",
       "    <tr>\n",
       "      <th>9</th>\n",
       "      <td>Morte d'Arthur</td>\n",
       "      <td>so all day long the noise of battle rolld amon...</td>\n",
       "      <td>Fear</td>\n",
       "    </tr>\n",
       "    <tr>\n",
       "      <th>10</th>\n",
       "      <td>The Summer Bower</td>\n",
       "      <td>it is a place whither ive often gonefor peace ...</td>\n",
       "      <td>Joy</td>\n",
       "    </tr>\n",
       "    <tr>\n",
       "      <th>11</th>\n",
       "      <td>A Carafe, that is a Blind Glass</td>\n",
       "      <td>a kind in glass and a cousin a spectacle and n...</td>\n",
       "      <td>Surprise</td>\n",
       "    </tr>\n",
       "    <tr>\n",
       "      <th>12</th>\n",
       "      <td>Mutter</td>\n",
       "      <td>there is a brand of play called mutenessbeneat...</td>\n",
       "      <td>Anger</td>\n",
       "    </tr>\n",
       "    <tr>\n",
       "      <th>13</th>\n",
       "      <td>Eating Together</td>\n",
       "      <td>i know my friend is goingthough she still sits...</td>\n",
       "      <td>Joy</td>\n",
       "    </tr>\n",
       "    <tr>\n",
       "      <th>14</th>\n",
       "      <td>Ghazal for Becoming Your Own Country</td>\n",
       "      <td>after rachel eliza griffithss self stones coun...</td>\n",
       "      <td>Fear</td>\n",
       "    </tr>\n",
       "  </tbody>\n",
       "</table>\n",
       "</div>\n",
       "    <div class=\"colab-df-buttons\">\n",
       "\n",
       "  <div class=\"colab-df-container\">\n",
       "    <button class=\"colab-df-convert\" onclick=\"convertToInteractive('df-22de7a49-f281-4df1-b527-9c2a9af87445')\"\n",
       "            title=\"Convert this dataframe to an interactive table.\"\n",
       "            style=\"display:none;\">\n",
       "\n",
       "  <svg xmlns=\"http://www.w3.org/2000/svg\" height=\"24px\" viewBox=\"0 -960 960 960\">\n",
       "    <path d=\"M120-120v-720h720v720H120Zm60-500h600v-160H180v160Zm220 220h160v-160H400v160Zm0 220h160v-160H400v160ZM180-400h160v-160H180v160Zm440 0h160v-160H620v160ZM180-180h160v-160H180v160Zm440 0h160v-160H620v160Z\"/>\n",
       "  </svg>\n",
       "    </button>\n",
       "\n",
       "  <style>\n",
       "    .colab-df-container {\n",
       "      display:flex;\n",
       "      gap: 12px;\n",
       "    }\n",
       "\n",
       "    .colab-df-convert {\n",
       "      background-color: #E8F0FE;\n",
       "      border: none;\n",
       "      border-radius: 50%;\n",
       "      cursor: pointer;\n",
       "      display: none;\n",
       "      fill: #1967D2;\n",
       "      height: 32px;\n",
       "      padding: 0 0 0 0;\n",
       "      width: 32px;\n",
       "    }\n",
       "\n",
       "    .colab-df-convert:hover {\n",
       "      background-color: #E2EBFA;\n",
       "      box-shadow: 0px 1px 2px rgba(60, 64, 67, 0.3), 0px 1px 3px 1px rgba(60, 64, 67, 0.15);\n",
       "      fill: #174EA6;\n",
       "    }\n",
       "\n",
       "    .colab-df-buttons div {\n",
       "      margin-bottom: 4px;\n",
       "    }\n",
       "\n",
       "    [theme=dark] .colab-df-convert {\n",
       "      background-color: #3B4455;\n",
       "      fill: #D2E3FC;\n",
       "    }\n",
       "\n",
       "    [theme=dark] .colab-df-convert:hover {\n",
       "      background-color: #434B5C;\n",
       "      box-shadow: 0px 1px 3px 1px rgba(0, 0, 0, 0.15);\n",
       "      filter: drop-shadow(0px 1px 2px rgba(0, 0, 0, 0.3));\n",
       "      fill: #FFFFFF;\n",
       "    }\n",
       "  </style>\n",
       "\n",
       "    <script>\n",
       "      const buttonEl =\n",
       "        document.querySelector('#df-22de7a49-f281-4df1-b527-9c2a9af87445 button.colab-df-convert');\n",
       "      buttonEl.style.display =\n",
       "        google.colab.kernel.accessAllowed ? 'block' : 'none';\n",
       "\n",
       "      async function convertToInteractive(key) {\n",
       "        const element = document.querySelector('#df-22de7a49-f281-4df1-b527-9c2a9af87445');\n",
       "        const dataTable =\n",
       "          await google.colab.kernel.invokeFunction('convertToInteractive',\n",
       "                                                    [key], {});\n",
       "        if (!dataTable) return;\n",
       "\n",
       "        const docLinkHtml = 'Like what you see? Visit the ' +\n",
       "          '<a target=\"_blank\" href=https://colab.research.google.com/notebooks/data_table.ipynb>data table notebook</a>'\n",
       "          + ' to learn more about interactive tables.';\n",
       "        element.innerHTML = '';\n",
       "        dataTable['output_type'] = 'display_data';\n",
       "        await google.colab.output.renderOutput(dataTable, element);\n",
       "        const docLink = document.createElement('div');\n",
       "        docLink.innerHTML = docLinkHtml;\n",
       "        element.appendChild(docLink);\n",
       "      }\n",
       "    </script>\n",
       "  </div>\n",
       "\n",
       "\n",
       "    <div id=\"df-3d0f3929-13a0-4d73-ab0d-2cb65ed4a8ad\">\n",
       "      <button class=\"colab-df-quickchart\" onclick=\"quickchart('df-3d0f3929-13a0-4d73-ab0d-2cb65ed4a8ad')\"\n",
       "                title=\"Suggest charts\"\n",
       "                style=\"display:none;\">\n",
       "\n",
       "<svg xmlns=\"http://www.w3.org/2000/svg\" height=\"24px\"viewBox=\"0 0 24 24\"\n",
       "     width=\"24px\">\n",
       "    <g>\n",
       "        <path d=\"M19 3H5c-1.1 0-2 .9-2 2v14c0 1.1.9 2 2 2h14c1.1 0 2-.9 2-2V5c0-1.1-.9-2-2-2zM9 17H7v-7h2v7zm4 0h-2V7h2v10zm4 0h-2v-4h2v4z\"/>\n",
       "    </g>\n",
       "</svg>\n",
       "      </button>\n",
       "\n",
       "<style>\n",
       "  .colab-df-quickchart {\n",
       "      --bg-color: #E8F0FE;\n",
       "      --fill-color: #1967D2;\n",
       "      --hover-bg-color: #E2EBFA;\n",
       "      --hover-fill-color: #174EA6;\n",
       "      --disabled-fill-color: #AAA;\n",
       "      --disabled-bg-color: #DDD;\n",
       "  }\n",
       "\n",
       "  [theme=dark] .colab-df-quickchart {\n",
       "      --bg-color: #3B4455;\n",
       "      --fill-color: #D2E3FC;\n",
       "      --hover-bg-color: #434B5C;\n",
       "      --hover-fill-color: #FFFFFF;\n",
       "      --disabled-bg-color: #3B4455;\n",
       "      --disabled-fill-color: #666;\n",
       "  }\n",
       "\n",
       "  .colab-df-quickchart {\n",
       "    background-color: var(--bg-color);\n",
       "    border: none;\n",
       "    border-radius: 50%;\n",
       "    cursor: pointer;\n",
       "    display: none;\n",
       "    fill: var(--fill-color);\n",
       "    height: 32px;\n",
       "    padding: 0;\n",
       "    width: 32px;\n",
       "  }\n",
       "\n",
       "  .colab-df-quickchart:hover {\n",
       "    background-color: var(--hover-bg-color);\n",
       "    box-shadow: 0 1px 2px rgba(60, 64, 67, 0.3), 0 1px 3px 1px rgba(60, 64, 67, 0.15);\n",
       "    fill: var(--button-hover-fill-color);\n",
       "  }\n",
       "\n",
       "  .colab-df-quickchart-complete:disabled,\n",
       "  .colab-df-quickchart-complete:disabled:hover {\n",
       "    background-color: var(--disabled-bg-color);\n",
       "    fill: var(--disabled-fill-color);\n",
       "    box-shadow: none;\n",
       "  }\n",
       "\n",
       "  .colab-df-spinner {\n",
       "    border: 2px solid var(--fill-color);\n",
       "    border-color: transparent;\n",
       "    border-bottom-color: var(--fill-color);\n",
       "    animation:\n",
       "      spin 1s steps(1) infinite;\n",
       "  }\n",
       "\n",
       "  @keyframes spin {\n",
       "    0% {\n",
       "      border-color: transparent;\n",
       "      border-bottom-color: var(--fill-color);\n",
       "      border-left-color: var(--fill-color);\n",
       "    }\n",
       "    20% {\n",
       "      border-color: transparent;\n",
       "      border-left-color: var(--fill-color);\n",
       "      border-top-color: var(--fill-color);\n",
       "    }\n",
       "    30% {\n",
       "      border-color: transparent;\n",
       "      border-left-color: var(--fill-color);\n",
       "      border-top-color: var(--fill-color);\n",
       "      border-right-color: var(--fill-color);\n",
       "    }\n",
       "    40% {\n",
       "      border-color: transparent;\n",
       "      border-right-color: var(--fill-color);\n",
       "      border-top-color: var(--fill-color);\n",
       "    }\n",
       "    60% {\n",
       "      border-color: transparent;\n",
       "      border-right-color: var(--fill-color);\n",
       "    }\n",
       "    80% {\n",
       "      border-color: transparent;\n",
       "      border-right-color: var(--fill-color);\n",
       "      border-bottom-color: var(--fill-color);\n",
       "    }\n",
       "    90% {\n",
       "      border-color: transparent;\n",
       "      border-bottom-color: var(--fill-color);\n",
       "    }\n",
       "  }\n",
       "</style>\n",
       "\n",
       "      <script>\n",
       "        async function quickchart(key) {\n",
       "          const quickchartButtonEl =\n",
       "            document.querySelector('#' + key + ' button');\n",
       "          quickchartButtonEl.disabled = true;  // To prevent multiple clicks.\n",
       "          quickchartButtonEl.classList.add('colab-df-spinner');\n",
       "          try {\n",
       "            const charts = await google.colab.kernel.invokeFunction(\n",
       "                'suggestCharts', [key], {});\n",
       "          } catch (error) {\n",
       "            console.error('Error during call to suggestCharts:', error);\n",
       "          }\n",
       "          quickchartButtonEl.classList.remove('colab-df-spinner');\n",
       "          quickchartButtonEl.classList.add('colab-df-quickchart-complete');\n",
       "        }\n",
       "        (() => {\n",
       "          let quickchartButtonEl =\n",
       "            document.querySelector('#df-3d0f3929-13a0-4d73-ab0d-2cb65ed4a8ad button');\n",
       "          quickchartButtonEl.style.display =\n",
       "            google.colab.kernel.accessAllowed ? 'block' : 'none';\n",
       "        })();\n",
       "      </script>\n",
       "    </div>\n",
       "\n",
       "    </div>\n",
       "  </div>\n"
      ],
      "text/plain": [
       "                                            Title  \\\n",
       "0                                          Search   \n",
       "1                   A Poem for the Cruel Majority   \n",
       "2   “Do Not Embrace Your Mind’s New Negro Friend”   \n",
       "3                               The Greatest Love   \n",
       "4                              Bilingual/Bilingüe   \n",
       "5                                   The War Films   \n",
       "6                    Of the Education of Children   \n",
       "7                           from America, America   \n",
       "8                     Poisonous Plants of America   \n",
       "9                                  Morte d'Arthur   \n",
       "10                               The Summer Bower   \n",
       "11                A Carafe, that is a Blind Glass   \n",
       "12                                         Mutter   \n",
       "13                                Eating Together   \n",
       "14           Ghazal for Becoming Your Own Country   \n",
       "\n",
       "                                                 Poem     Genre  \n",
       "0   wandered tonight through a cityas ruined as a ...      Fear  \n",
       "1   the cruel majority emergeshail to the cruel ma...     Anger  \n",
       "2   do not embrace your minds new negro friendor e...     Anger  \n",
       "3   she is sixty she livesthe greatest love of her...      Love  \n",
       "4   my father liked them separate one thereone her...     Anger  \n",
       "5   o living pictures of the dead o songs without ...      Fear  \n",
       "6   i was planted a cropnot a boy but with headlon...   Sadness  \n",
       "7                 god save america my home sweet home       Joy  \n",
       "8   april foolbearsfootbogoniondevilsappledog pars...      Fear  \n",
       "9   so all day long the noise of battle rolld amon...      Fear  \n",
       "10  it is a place whither ive often gonefor peace ...       Joy  \n",
       "11  a kind in glass and a cousin a spectacle and n...  Surprise  \n",
       "12  there is a brand of play called mutenessbeneat...     Anger  \n",
       "13  i know my friend is goingthough she still sits...       Joy  \n",
       "14  after rachel eliza griffithss self stones coun...      Fear  "
      ]
     },
     "execution_count": 10,
     "metadata": {},
     "output_type": "execute_result"
    }
   ],
   "source": [
    "# Applying the function\n",
    "df['Poem'] = df['Poem'].apply(clean)\n",
    "df.head(15)"
   ]
  },
  {
   "cell_type": "code",
   "execution_count": 11,
   "metadata": {
    "colab": {
     "base_uri": "https://localhost:8080/"
    },
    "executionInfo": {
     "elapsed": 1906,
     "status": "ok",
     "timestamp": 1746394252913,
     "user": {
      "displayName": "Morteza Heidari",
      "userId": "12437174777431138604"
     },
     "user_tz": -180
    },
    "id": "zE-oEYZZ1ZsZ",
    "outputId": "4defcea5-ca38-4a9d-bcd9-09158d6b1335"
   },
   "outputs": [
    {
     "name": "stderr",
     "output_type": "stream",
     "text": [
      "[nltk_data] Downloading package words to /root/nltk_data...\n",
      "[nltk_data]   Unzipping corpora/words.zip.\n"
     ]
    }
   ],
   "source": [
    "# Remove non English words\n",
    "# In dataset, there are some non English words.\n",
    "# I used toolkit to filter non English words\n",
    "# Load the NLTK\n",
    "nltk.download('words')\n",
    "# Words holds English words\n",
    "words = set(nltk.corpus.words.words())\n",
    "# lambda function for processing each poem\n",
    "df['Poem'] = df['Poem'].apply(lambda x: ' '.join([word for word in x.split() if word in words]))"
   ]
  },
  {
   "cell_type": "code",
   "execution_count": 12,
   "metadata": {
    "colab": {
     "base_uri": "https://localhost:8080/"
    },
    "executionInfo": {
     "elapsed": 4,
     "status": "ok",
     "timestamp": 1746394252918,
     "user": {
      "displayName": "Morteza Heidari",
      "userId": "12437174777431138604"
     },
     "user_tz": -180
    },
    "id": "VrvEvp0w1e9b",
    "outputId": "a75d6c2a-6d7c-4eb9-a11c-f4514f59e9f2"
   },
   "outputs": [
    {
     "data": {
      "text/plain": [
       "(10000, 3)"
      ]
     },
     "execution_count": 12,
     "metadata": {},
     "output_type": "execute_result"
    }
   ],
   "source": [
    "df.shape"
   ]
  },
  {
   "cell_type": "code",
   "execution_count": 13,
   "metadata": {
    "executionInfo": {
     "elapsed": 1140,
     "status": "ok",
     "timestamp": 1746394254075,
     "user": {
      "displayName": "Morteza Heidari",
      "userId": "12437174777431138604"
     },
     "user_tz": -180
    },
    "id": "Jp8bCuaJ1ipO"
   },
   "outputs": [],
   "source": [
    "# I noticed some rows are empty or have only few words, Since the dataset is huge\n",
    "# So I will remove those rows which have less than 5 words and more than 100 words\n",
    "df = df[(df['Poem'].str.split().str.len() > 5) & (df['Poem'].str.split().str.len() <= 200)]"
   ]
  },
  {
   "cell_type": "code",
   "execution_count": 14,
   "metadata": {
    "colab": {
     "base_uri": "https://localhost:8080/"
    },
    "executionInfo": {
     "elapsed": 6,
     "status": "ok",
     "timestamp": 1746394254082,
     "user": {
      "displayName": "Morteza Heidari",
      "userId": "12437174777431138604"
     },
     "user_tz": -180
    },
    "id": "wtqC6VCM1ktZ",
    "outputId": "69cd8372-9f9d-4353-a560-3f2a6decb5d3"
   },
   "outputs": [
    {
     "data": {
      "text/plain": [
       "(7591, 3)"
      ]
     },
     "execution_count": 14,
     "metadata": {},
     "output_type": "execute_result"
    }
   ],
   "source": [
    "df.shape"
   ]
  },
  {
   "cell_type": "code",
   "execution_count": 15,
   "metadata": {
    "executionInfo": {
     "elapsed": 126,
     "status": "ok",
     "timestamp": 1746394254225,
     "user": {
      "displayName": "Morteza Heidari",
      "userId": "12437174777431138604"
     },
     "user_tz": -180
    },
    "id": "h78HUwIydFrD"
   },
   "outputs": [],
   "source": [
    "# Still the dataset is huge and it will take time to train the model, I will get this error again :\n",
    "# MemoryError: Unable to allocate xxxx TiB for an array with shape (7140714, 29822) and data type float64\n",
    "# I will  take small piece of the dataset for training\n",
    "df = df.sample(frac=0.5, random_state=42).reset_index(drop=True)"
   ]
  },
  {
   "cell_type": "code",
   "execution_count": 16,
   "metadata": {
    "colab": {
     "base_uri": "https://localhost:8080/"
    },
    "executionInfo": {
     "elapsed": 42,
     "status": "ok",
     "timestamp": 1746394254268,
     "user": {
      "displayName": "Morteza Heidari",
      "userId": "12437174777431138604"
     },
     "user_tz": -180
    },
    "id": "HUhKUSytRmHU",
    "outputId": "45e4381e-a2b8-47ae-a57b-550760c013a5"
   },
   "outputs": [
    {
     "data": {
      "text/plain": [
       "(3796, 3)"
      ]
     },
     "execution_count": 16,
     "metadata": {},
     "output_type": "execute_result"
    }
   ],
   "source": [
    "df.shape"
   ]
  },
  {
   "cell_type": "code",
   "execution_count": 17,
   "metadata": {
    "colab": {
     "base_uri": "https://localhost:8080/",
     "height": 489
    },
    "executionInfo": {
     "elapsed": 42,
     "status": "ok",
     "timestamp": 1746394254309,
     "user": {
      "displayName": "Morteza Heidari",
      "userId": "12437174777431138604"
     },
     "user_tz": -180
    },
    "id": "E_IhBpzZ6msc",
    "outputId": "03912fcd-c60a-4c6a-97f8-8e08de1cf7b3"
   },
   "outputs": [
    {
     "data": {
      "text/html": [
       "<div>\n",
       "<style scoped>\n",
       "    .dataframe tbody tr th:only-of-type {\n",
       "        vertical-align: middle;\n",
       "    }\n",
       "\n",
       "    .dataframe tbody tr th {\n",
       "        vertical-align: top;\n",
       "    }\n",
       "\n",
       "    .dataframe thead th {\n",
       "        text-align: right;\n",
       "    }\n",
       "</style>\n",
       "<table border=\"1\" class=\"dataframe\">\n",
       "  <thead>\n",
       "    <tr style=\"text-align: right;\">\n",
       "      <th></th>\n",
       "      <th>count</th>\n",
       "    </tr>\n",
       "    <tr>\n",
       "      <th>Title</th>\n",
       "      <th></th>\n",
       "    </tr>\n",
       "  </thead>\n",
       "  <tbody>\n",
       "    <tr>\n",
       "      <th>Song</th>\n",
       "      <td>9</td>\n",
       "    </tr>\n",
       "    <tr>\n",
       "      <th>Summer</th>\n",
       "      <td>5</td>\n",
       "    </tr>\n",
       "    <tr>\n",
       "      <th>Autumn</th>\n",
       "      <td>4</td>\n",
       "    </tr>\n",
       "    <tr>\n",
       "      <th>Sonnet</th>\n",
       "      <td>4</td>\n",
       "    </tr>\n",
       "    <tr>\n",
       "      <th>Sustenance</th>\n",
       "      <td>3</td>\n",
       "    </tr>\n",
       "    <tr>\n",
       "      <th>...</th>\n",
       "      <td>...</td>\n",
       "    </tr>\n",
       "    <tr>\n",
       "      <th>Drunk Judgment</th>\n",
       "      <td>1</td>\n",
       "    </tr>\n",
       "    <tr>\n",
       "      <th>Blackberrying</th>\n",
       "      <td>1</td>\n",
       "    </tr>\n",
       "    <tr>\n",
       "      <th>Blind Curse</th>\n",
       "      <td>1</td>\n",
       "    </tr>\n",
       "    <tr>\n",
       "      <th>Aubade﻿</th>\n",
       "      <td>1</td>\n",
       "    </tr>\n",
       "    <tr>\n",
       "      <th>November Night</th>\n",
       "      <td>1</td>\n",
       "    </tr>\n",
       "  </tbody>\n",
       "</table>\n",
       "<p>3732 rows × 1 columns</p>\n",
       "</div><br><label><b>dtype:</b> int64</label>"
      ],
      "text/plain": [
       "Title\n",
       "Song              9\n",
       "Summer            5\n",
       "Autumn            4\n",
       "Sonnet            4\n",
       "Sustenance        3\n",
       "                 ..\n",
       "Drunk Judgment    1\n",
       "Blackberrying     1\n",
       "Blind Curse       1\n",
       "Aubade﻿           1\n",
       "November Night    1\n",
       "Name: count, Length: 3732, dtype: int64"
      ]
     },
     "execution_count": 17,
     "metadata": {},
     "output_type": "execute_result"
    }
   ],
   "source": [
    "# Let's check the variation of title\n",
    "df['Title'].value_counts()"
   ]
  },
  {
   "cell_type": "code",
   "execution_count": 18,
   "metadata": {
    "colab": {
     "base_uri": "https://localhost:8080/",
     "height": 303
    },
    "executionInfo": {
     "elapsed": 77,
     "status": "ok",
     "timestamp": 1746394254387,
     "user": {
      "displayName": "Morteza Heidari",
      "userId": "12437174777431138604"
     },
     "user_tz": -180
    },
    "id": "gt8M8esELT6K",
    "outputId": "c569c2a4-097f-4065-fd26-63b2ba5fa4b1"
   },
   "outputs": [
    {
     "data": {
      "text/html": [
       "<div>\n",
       "<style scoped>\n",
       "    .dataframe tbody tr th:only-of-type {\n",
       "        vertical-align: middle;\n",
       "    }\n",
       "\n",
       "    .dataframe tbody tr th {\n",
       "        vertical-align: top;\n",
       "    }\n",
       "\n",
       "    .dataframe thead th {\n",
       "        text-align: right;\n",
       "    }\n",
       "</style>\n",
       "<table border=\"1\" class=\"dataframe\">\n",
       "  <thead>\n",
       "    <tr style=\"text-align: right;\">\n",
       "      <th></th>\n",
       "      <th>count</th>\n",
       "    </tr>\n",
       "    <tr>\n",
       "      <th>Genre</th>\n",
       "      <th></th>\n",
       "    </tr>\n",
       "  </thead>\n",
       "  <tbody>\n",
       "    <tr>\n",
       "      <th>Fear</th>\n",
       "      <td>1185</td>\n",
       "    </tr>\n",
       "    <tr>\n",
       "      <th>Joy</th>\n",
       "      <td>931</td>\n",
       "    </tr>\n",
       "    <tr>\n",
       "      <th>Sadness</th>\n",
       "      <td>620</td>\n",
       "    </tr>\n",
       "    <tr>\n",
       "      <th>Anger</th>\n",
       "      <td>448</td>\n",
       "    </tr>\n",
       "    <tr>\n",
       "      <th>Surprise</th>\n",
       "      <td>328</td>\n",
       "    </tr>\n",
       "    <tr>\n",
       "      <th>Love</th>\n",
       "      <td>284</td>\n",
       "    </tr>\n",
       "  </tbody>\n",
       "</table>\n",
       "</div><br><label><b>dtype:</b> int64</label>"
      ],
      "text/plain": [
       "Genre\n",
       "Fear        1185\n",
       "Joy          931\n",
       "Sadness      620\n",
       "Anger        448\n",
       "Surprise     328\n",
       "Love         284\n",
       "Name: count, dtype: int64"
      ]
     },
     "execution_count": 18,
     "metadata": {},
     "output_type": "execute_result"
    }
   ],
   "source": [
    "# let's check the variation of Genre\n",
    "df['Genre'].value_counts()"
   ]
  },
  {
   "cell_type": "code",
   "execution_count": 19,
   "metadata": {
    "colab": {
     "base_uri": "https://localhost:8080/"
    },
    "executionInfo": {
     "elapsed": 6,
     "status": "ok",
     "timestamp": 1746394254388,
     "user": {
      "displayName": "Morteza Heidari",
      "userId": "12437174777431138604"
     },
     "user_tz": -180
    },
    "id": "hyqcSVCwLcBg",
    "outputId": "ca45f520-4f72-4948-e916-8f4ef1a4b64d"
   },
   "outputs": [
    {
     "name": "stdout",
     "output_type": "stream",
     "text": [
      "Total characters: 3796\n"
     ]
    }
   ],
   "source": [
    "# When I create sigle continues sequence, LSTM transition between words and across all poets which means LSTM learns general patterns from the entire dataset.\n",
    "poem  = df['Poem'].tolist()\n",
    "# Total characters in poem\n",
    "print(f'Total characters: {len(poem)}')"
   ]
  },
  {
   "cell_type": "markdown",
   "metadata": {
    "id": "i1MVh8lkmCid"
   },
   "source": [
    "**Tokenization and Vocabular**\n"
   ]
  },
  {
   "cell_type": "code",
   "execution_count": 20,
   "metadata": {
    "colab": {
     "base_uri": "https://localhost:8080/"
    },
    "executionInfo": {
     "elapsed": 450,
     "status": "ok",
     "timestamp": 1746394254836,
     "user": {
      "displayName": "Morteza Heidari",
      "userId": "12437174777431138604"
     },
     "user_tz": -180
    },
    "id": "YcaRQtKS_ANJ",
    "outputId": "a9be8810-f7fb-46ce-a0df-acc9e022cc58"
   },
   "outputs": [
    {
     "name": "stdout",
     "output_type": "stream",
     "text": [
      "Vocabulary size: 16424\n",
      "Total Words: 16423\n"
     ]
    }
   ],
   "source": [
    "# I will tokenize peom. I use tokenizer to assign integer to each unique word.\n",
    "tokenizer = Tokenizer()\n",
    "tokenizer.fit_on_texts(poem)\n",
    "\n",
    "# Get the vocabulary size:\n",
    "# converting the numerical output back into readable text, I need an inverse mapping.\n",
    "# That maps integer indices back to their original words.\n",
    "# I can create this by swapping the keys and values of tokenizer.word_index.\n",
    "\n",
    "total_words = len(tokenizer.word_index)\n",
    "vocabulary_size = len(tokenizer.word_index) + 1\n",
    "\n",
    "# Print the result\n",
    "print(f'Vocabulary size: {vocabulary_size}')\n",
    "print('Total Words:', total_words)"
   ]
  },
  {
   "cell_type": "code",
   "execution_count": 21,
   "metadata": {
    "colab": {
     "base_uri": "https://localhost:8080/"
    },
    "executionInfo": {
     "elapsed": 27,
     "status": "ok",
     "timestamp": 1746394254864,
     "user": {
      "displayName": "Morteza Heidari",
      "userId": "12437174777431138604"
     },
     "user_tz": -180
    },
    "id": "mU8gxPMWSIgX",
    "outputId": "64ee6ecd-2b76-4d6f-a0db-b87d2afeaa19"
   },
   "outputs": [
    {
     "name": "stdout",
     "output_type": "stream",
     "text": [
      "Example word index mappings (word -> id):\n",
      "the -> 1\n",
      "of -> 2\n",
      "a -> 3\n",
      "and -> 4\n",
      "to -> 5\n",
      "in -> 6\n",
      "i -> 7\n",
      "my -> 8\n",
      "is -> 9\n",
      "you -> 10\n"
     ]
    }
   ],
   "source": [
    "# Let's see a sample of the word index (mapping from word to ID)\n",
    "print('Example word index mappings (word -> id):')\n",
    "for word, idx in list(tokenizer.word_index.items())[:10]:\n",
    "    print(word, '->', idx)\n",
    "# I used Qwen 2.5 to print sample of the words index."
   ]
  },
  {
   "cell_type": "code",
   "execution_count": 22,
   "metadata": {
    "colab": {
     "base_uri": "https://localhost:8080/"
    },
    "executionInfo": {
     "elapsed": 21,
     "status": "ok",
     "timestamp": 1746394254886,
     "user": {
      "displayName": "Morteza Heidari",
      "userId": "12437174777431138604"
     },
     "user_tz": -180
    },
    "id": "GGPfaQYNB5kb",
    "outputId": "cee2d7ea-18ae-43dd-b4de-cb73e1809d19"
   },
   "outputs": [
    {
     "name": "stdout",
     "output_type": "stream",
     "text": [
      "Help on Tokenizer in module keras.src.legacy.preprocessing.text object:\n",
      "\n",
      "class Tokenizer(builtins.object)\n",
      " |  Tokenizer(num_words=None, filters='!\"#$%&()*+,-./:;<=>?@[\\\\]^_`{|}~\\t\\n', lower=True, split=' ', char_level=False, oov_token=None, analyzer=None, **kwargs)\n",
      " |  \n",
      " |  DEPRECATED.\n",
      " |  \n",
      " |  Methods defined here:\n",
      " |  \n",
      " |  __init__(self, num_words=None, filters='!\"#$%&()*+,-./:;<=>?@[\\\\]^_`{|}~\\t\\n', lower=True, split=' ', char_level=False, oov_token=None, analyzer=None, **kwargs)\n",
      " |      Initialize self.  See help(type(self)) for accurate signature.\n",
      " |  \n",
      " |  fit_on_sequences(self, sequences)\n",
      " |  \n",
      " |  fit_on_texts(self, texts)\n",
      " |  \n",
      " |  get_config(self)\n",
      " |  \n",
      " |  sequences_to_matrix(self, sequences, mode='binary')\n",
      " |  \n",
      " |  sequences_to_texts(self, sequences)\n",
      " |  \n",
      " |  sequences_to_texts_generator(self, sequences)\n",
      " |  \n",
      " |  texts_to_matrix(self, texts, mode='binary')\n",
      " |  \n",
      " |  texts_to_sequences(self, texts)\n",
      " |  \n",
      " |  texts_to_sequences_generator(self, texts)\n",
      " |  \n",
      " |  to_json(self, **kwargs)\n",
      " |  \n",
      " |  ----------------------------------------------------------------------\n",
      " |  Data descriptors defined here:\n",
      " |  \n",
      " |  __dict__\n",
      " |      dictionary for instance variables\n",
      " |  \n",
      " |  __weakref__\n",
      " |      list of weak references to the object\n",
      "\n"
     ]
    }
   ],
   "source": [
    "# Previously I did not know that by running help I can ser the details and about its configuration and methods\n",
    "# Source : https://kgptalkie.medium.com/poetry-generation-using-tensorflow-keras-and-lstm-75c4e4b7f07e\n",
    "help(tokenizer)\n",
    "# Tokenizer by default converts all the words to lower case and ignores punctuation.\n",
    "# So I did not need to do that in the clean function."
   ]
  },
  {
   "cell_type": "markdown",
   "metadata": {
    "id": "tccY0-v3n_1k"
   },
   "source": [
    "**Creating n gram Sequences for Training**\n",
    "\n"
   ]
  },
  {
   "cell_type": "code",
   "execution_count": 23,
   "metadata": {
    "executionInfo": {
     "elapsed": 17,
     "status": "ok",
     "timestamp": 1746394254904,
     "user": {
      "displayName": "Morteza Heidari",
      "userId": "12437174777431138604"
     },
     "user_tz": -180
    },
    "id": "z_U9r4YkXy1F"
   },
   "outputs": [],
   "source": [
    "# I am going to create training sequences using the tokenized data. For each line of the poem,\n",
    "# I generate multiple n grams, that will be used as training samples to predict the next word"
   ]
  },
  {
   "cell_type": "markdown",
   "metadata": {
    "id": "U1bYbAL3IQiN"
   },
   "source": []
  },
  {
   "cell_type": "code",
   "execution_count": 24,
   "metadata": {
    "colab": {
     "base_uri": "https://localhost:8080/"
    },
    "executionInfo": {
     "elapsed": 4057,
     "status": "ok",
     "timestamp": 1746394258962,
     "user": {
      "displayName": "Morteza Heidari",
      "userId": "12437174777431138604"
     },
     "user_tz": -180
    },
    "id": "7BsBCeS18EjH",
    "outputId": "abfd869b-c73d-42a5-f26d-cfa72407795e"
   },
   "outputs": [
    {
     "name": "stdout",
     "output_type": "stream",
     "text": [
      "Total training sequences (n grams): 355809\n"
     ]
    }
   ],
   "source": [
    "# In each sequence the last word is the target.\n",
    "# Empty list to collect all generated n gram sequences\n",
    "input_sequences = []\n",
    "# Generate n gram sequences for each line in the poem\n",
    "for line in poem:\n",
    "    # Convert the text line into a sequence of integer tokens\n",
    "    token_list = tokenizer.texts_to_sequences([line])[0]\n",
    "    # Generate n grams:\n",
    "    # i starts from 1 to not get empty sequence\n",
    "    for i in range(1, len(token_list)):\n",
    "\n",
    "        n_gram_sequence = token_list[:i+1]\n",
    "        input_sequences.append(n_gram_sequence)\n",
    "print('Total training sequences (n grams):', len(input_sequences))\n",
    "# I got the main code structure from lecture note"
   ]
  },
  {
   "cell_type": "markdown",
   "metadata": {
    "id": "FW0LPdPeFRiY"
   },
   "source": [
    "**Padding Sequences and Creating Training Data (X, y)**"
   ]
  },
  {
   "cell_type": "code",
   "execution_count": 25,
   "metadata": {
    "colab": {
     "base_uri": "https://localhost:8080/"
    },
    "executionInfo": {
     "elapsed": 4750,
     "status": "ok",
     "timestamp": 1746394263716,
     "user": {
      "displayName": "Morteza Heidari",
      "userId": "12437174777431138604"
     },
     "user_tz": -180
    },
    "id": "Q-JMUs5lAe9R",
    "outputId": "26bfbd5e-b1df-423e-b51b-1bfeee51d936"
   },
   "outputs": [
    {
     "name": "stdout",
     "output_type": "stream",
     "text": [
      "The longest sequence lenght is: 200\n"
     ]
    }
   ],
   "source": [
    "# I need to pad them so they all have the same length.\n",
    "max_len = max(len(seq) for seq in input_sequences)\n",
    "print('The longest sequence lenght is:',max_len)\n",
    "padded = tf.keras.preprocessing.sequence.pad_sequences(\n",
    "            input_sequences, maxlen=max_len, padding='pre')\n",
    "# Oh makes sense because I filtered the dataset, so even I could initialize 200 to max_len.\n",
    "# I got the main code structure from lecture note"
   ]
  },
  {
   "cell_type": "code",
   "execution_count": 26,
   "metadata": {
    "colab": {
     "base_uri": "https://localhost:8080/"
    },
    "executionInfo": {
     "elapsed": 169,
     "status": "ok",
     "timestamp": 1746394263887,
     "user": {
      "displayName": "Morteza Heidari",
      "userId": "12437174777431138604"
     },
     "user_tz": -180
    },
    "id": "yuMloBE48fMC",
    "outputId": "622ba42d-7e4b-4a1f-8c3b-09d8f40f0746"
   },
   "outputs": [
    {
     "name": "stdout",
     "output_type": "stream",
     "text": [
      "Shape of X (features): (355809, 199)\n",
      "Shape of y (labels): (355809,)\n"
     ]
    }
   ],
   "source": [
    "padded = np.array(padded)\n",
    "X = padded[:, :-1]\n",
    "y = padded[:,  -1]\n",
    "print(\"Shape of X (features):\", X.shape)\n",
    "print(\"Shape of y (labels):\", y.shape)\n",
    "# In longest sequence target value is including and input value is max_len - 1\n",
    "# The first 199 tokens of each sequence (X) are the input words\n",
    "# The 200th token (y) is the word I want the model to predict."
   ]
  },
  {
   "cell_type": "code",
   "execution_count": 27,
   "metadata": {
    "colab": {
     "base_uri": "https://localhost:8080/"
    },
    "executionInfo": {
     "elapsed": 1662,
     "status": "ok",
     "timestamp": 1746394265550,
     "user": {
      "displayName": "Morteza Heidari",
      "userId": "12437174777431138604"
     },
     "user_tz": -180
    },
    "id": "p0q2ihKfBdWY",
    "outputId": "8f40bd97-0457-4fc7-d56f-470060f3dd3e"
   },
   "outputs": [
    {
     "name": "stdout",
     "output_type": "stream",
     "text": [
      "Type of X <class 'torch.Tensor'> and Shape of X:torch.Size([355809, 199])\n",
      "Type of y <class 'torch.Tensor'> and Shape of y:torch.Size([355809])\n"
     ]
    }
   ],
   "source": [
    "# I will convert X and y to PyTorch tensors, since I am gonne  use PyTorch for the LSTM\n",
    "# Convert to PyTorch tensors\n",
    "X_tensor = torch.tensor(X, dtype=torch.long)\n",
    "y_tensor = torch.tensor(y, dtype=torch.long)\n",
    "\n",
    "# Let's check the tensors\n",
    "print(f'Type of X {type(X_tensor)} and Shape of X:{(X_tensor.shape)}')\n",
    "print(f'Type of y {type(y_tensor)} and Shape of y:{(y_tensor.shape)}')"
   ]
  },
  {
   "cell_type": "code",
   "execution_count": 28,
   "metadata": {
    "colab": {
     "base_uri": "https://localhost:8080/"
    },
    "executionInfo": {
     "elapsed": 13,
     "status": "ok",
     "timestamp": 1746394265564,
     "user": {
      "displayName": "Morteza Heidari",
      "userId": "12437174777431138604"
     },
     "user_tz": -180
    },
    "id": "bsFeDRGeBhFm",
    "outputId": "cd5cea62-cb2f-4d93-9780-c9793f9ddd67"
   },
   "outputs": [
    {
     "name": "stdout",
     "output_type": "stream",
     "text": [
      "Training samples: 284648, Validation samples: 71161\n"
     ]
    }
   ],
   "source": [
    "# I split the data into a validation to evaluate the model\n",
    "dataset = TensorDataset(X_tensor, y_tensor)\n",
    "# I use 80% for training, 20% for validation\n",
    "val_size = int(len(dataset) * 0.2)\n",
    "train_size = len(dataset) - val_size\n",
    "\n",
    "gen = torch.Generator().manual_seed(42)\n",
    "train_dataset, val_dataset = random_split(dataset, [train_size, val_size], generator=gen)\n",
    "print(f'Training samples: {len(train_dataset)}, Validation samples: {len(val_dataset)}')"
   ]
  },
  {
   "cell_type": "code",
   "execution_count": 29,
   "metadata": {
    "executionInfo": {
     "elapsed": 1,
     "status": "ok",
     "timestamp": 1746394265566,
     "user": {
      "displayName": "Morteza Heidari",
      "userId": "12437174777431138604"
     },
     "user_tz": -180
    },
    "id": "d2SklUE9BlWR"
   },
   "outputs": [],
   "source": [
    "# Create DataLoader for batching\n",
    "BATCH_SIZE = 64\n",
    "train_loader = DataLoader(train_dataset, batch_size=BATCH_SIZE, shuffle=True)\n",
    "val_loader = DataLoader(val_dataset, batch_size=BATCH_SIZE, shuffle=False)"
   ]
  },
  {
   "cell_type": "code",
   "execution_count": 30,
   "metadata": {
    "executionInfo": {
     "elapsed": 1,
     "status": "ok",
     "timestamp": 1746394265568,
     "user": {
      "displayName": "Morteza Heidari",
      "userId": "12437174777431138604"
     },
     "user_tz": -180
    },
    "id": "nPQQFXYJXQgj"
   },
   "outputs": [],
   "source": [
    "# Use GPU if available\n",
    "device = torch.device('cuda' if torch.cuda.is_available() else 'cpu')"
   ]
  },
  {
   "cell_type": "markdown",
   "metadata": {
    "id": "826YXSxOL79U"
   },
   "source": [
    "**Building the LSTM Model (PyTorch)**"
   ]
  },
  {
   "cell_type": "code",
   "execution_count": 38,
   "metadata": {
    "executionInfo": {
     "elapsed": 4,
     "status": "ok",
     "timestamp": 1746399372914,
     "user": {
      "displayName": "Morteza Heidari",
      "userId": "12437174777431138604"
     },
     "user_tz": -180
    },
    "id": "haR0kI5nBsgK"
   },
   "outputs": [],
   "source": [
    "# I will define an LSTM based neural network using PyTorch.\n",
    "class PoetryLSTM(nn.Module):\n",
    "    def __init__(self, vocab_size, embed_dim, lstm_units, n_layers, dropout):\n",
    "        super().__init__()\n",
    "\n",
    "        # Embedding Layer: The first is embedding layer\n",
    "        self.embedding = nn.Embedding(vocab_size, embed_dim)\n",
    "        # LSTM layer:\n",
    "        self.lstm = nn.LSTM(embed_dim, lstm_units, n_layers, dropout = dropout , batch_first=True,)\n",
    "        # Fully connected layer:\n",
    "        self.fc = nn.Linear(lstm_units, vocab_size )\n",
    "\n",
    "\n",
    "    # Forward method:\n",
    "    def forward(self, x):\n",
    "      emb = self.embedding(x)\n",
    "      output_seq, _ = self.lstm(emb)\n",
    "      batch_size, seq_len, hidden_size = output_seq.size()\n",
    "      flat = output_seq.contiguous().view(-1, hidden_size)\n",
    "      flat_logits = self.fc(flat)\n",
    "      logits = flat_logits.view(batch_size, seq_len, -1)\n",
    "      return logits\n",
    "\n",
    "# In Forward, model can learn the poem structure and predicts next words\n",
    "# I created kind of chain, where you train the model to predict next words\n",
    "# So for each training, I feed the model 199 words and y is 200th.\n",
    "# In Forward is defined that model predicts right after 199th word\n",
    "# In train function, I will compare predicton with true next word\n",
    "# https://machinelearningmastery.com/text-generation-with-lstm-in-pytorch/\n",
    "\n",
    "# For me, making proper forward method was tricky, At the beginning,  I didn't know how exactly to create forward\n",
    "# In some part for debugging, I used Qwen"
   ]
  },
  {
   "cell_type": "code",
   "execution_count": null,
   "metadata": {
    "executionInfo": {
     "elapsed": 50,
     "status": "ok",
     "timestamp": 1746394265622,
     "user": {
      "displayName": "Morteza Heidari",
      "userId": "12437174777431138604"
     },
     "user_tz": -180
    },
    "id": "SLCQCNeAFAPX"
   },
   "outputs": [],
   "source": [
    "# Now I need to make function to manage the training loop\n",
    "def train_function (model, train_loader, criterion, optimizer, device):\n",
    "    model.train()\n",
    "    total_loss = 0.0\n",
    "    for X, y in train_loader:\n",
    "        X, y = X.to(device), y.to(device)\n",
    "        # Clear old Gradients\n",
    "        optimizer.zero_grad()\n",
    "        # Forward pass:\n",
    "        outputs = model(X)\n",
    "        last_logits = outputs[:, -1, :]\n",
    "        loss = criterion(last_logits, y)\n",
    "        loss.backward()\n",
    "        optimizer.step()\n",
    "        total_loss += loss.item()\n",
    "    return total_loss / len(train_loader)\n",
    "\n",
    "# In this loop model predicts the 200th word of in sequence\n",
    "# last_logits = outputs[:, -1, :], I pick the prediction which is y"
   ]
  },
  {
   "cell_type": "code",
   "execution_count": 33,
   "metadata": {
    "executionInfo": {
     "elapsed": 17,
     "status": "ok",
     "timestamp": 1746394265623,
     "user": {
      "displayName": "Morteza Heidari",
      "userId": "12437174777431138604"
     },
     "user_tz": -180
    },
    "id": "2CSdboUdH-HU"
   },
   "outputs": [],
   "source": [
    "# To monitor the model, I need to create a validation function\n",
    "def validate_function(model, val_loader, criterion, device):\n",
    "    model.eval()\n",
    "    total_loss = 0.0\n",
    "    # No backwar() just forward passes and loss computations\n",
    "    with torch.no_grad():\n",
    "        for X, y in val_loader:\n",
    "            X, y = X.to(device), y.to(device)\n",
    "            outputs = model(X)\n",
    "            last_logits = outputs[:, -1, :]\n",
    "            loss = criterion(last_logits, y)\n",
    "            total_loss += loss.item()\n",
    "    return total_loss / len(val_loader)\n",
    "# Here I validation function to uses the exact same forward logic but never updates weights\n",
    "# it  measures how well the model predicts unseen data."
   ]
  },
  {
   "cell_type": "code",
   "execution_count": 34,
   "metadata": {
    "executionInfo": {
     "elapsed": 17,
     "status": "ok",
     "timestamp": 1746394265624,
     "user": {
      "displayName": "Morteza Heidari",
      "userId": "12437174777431138604"
     },
     "user_tz": -180
    },
    "id": "NrQy78ezITCE"
   },
   "outputs": [],
   "source": [
    "def train(model, train_loader, val_loader, device):\n",
    "  # Early stopping\n",
    "    no_improve = 0\n",
    "    patience = 3\n",
    "    epochs = 20\n",
    "    best_val = 0\n",
    "    history = {'train_loss': [], 'val_loss': []}\n",
    "\n",
    "    # Set up loss, optimizer, scheduler\n",
    "    criterion = nn.CrossEntropyLoss(ignore_index=0)\n",
    "    optimizer = torch.optim.AdamW(model.parameters(), lr=0.001, weight_decay=0.005)\n",
    "    scheduler   = ReduceLROnPlateau(optimizer, mode='min', factor=0.2, patience=patience)\n",
    "\n",
    "\n",
    "    for epoch in range(1, epochs):\n",
    "        train_loss = train_function(model, train_loader, criterion, optimizer, device)\n",
    "        val_loss = validate_function(model, val_loader,   criterion, device)\n",
    "        # Scheduler updates learning rate if no improvement\n",
    "        scheduler.step(val_loss)\n",
    "\n",
    "        history['train_loss'].append(train_loss)\n",
    "        history['val_loss'].append(val_loss)\n",
    "\n",
    "        print(f\"[Epoch {epoch}/{epochs}] train={train_loss:.4f} val={val_loss:.4f}\")\n",
    "        # Early stopping logic\n",
    "        if val_loss < best_val:\n",
    "            best_val, no_improve = val_loss, 0\n",
    "            torch.save(model.state_dict(), 'best_lstm.pt')\n",
    "        else:\n",
    "            no_improve += 1\n",
    "            if no_improve >= patience:\n",
    "                print(\"Early stopping.\")\n",
    "                break\n",
    "    return history\n",
    "    # Scheduler sees val_loss to for learning rate adjusting\n",
    "    # If val_loss improves, reset no_improve and save the model."
   ]
  },
  {
   "cell_type": "code",
   "execution_count": 35,
   "metadata": {
    "executionInfo": {
     "elapsed": 6,
     "status": "ok",
     "timestamp": 1746394265625,
     "user": {
      "displayName": "Morteza Heidari",
      "userId": "12437174777431138604"
     },
     "user_tz": -180
    },
    "id": "2qLrDxOGc9Pj"
   },
   "outputs": [],
   "source": [
    "# Set hyperparameters\n",
    "vocab_size = vocabulary_size\n",
    "embed_dim = 100\n",
    "lstm_units = 256\n",
    "n_layers = 2\n",
    "dropout = 0.3"
   ]
  },
  {
   "cell_type": "code",
   "execution_count": 36,
   "metadata": {
    "colab": {
     "base_uri": "https://localhost:8080/"
    },
    "executionInfo": {
     "elapsed": 38,
     "status": "ok",
     "timestamp": 1746394265658,
     "user": {
      "displayName": "Morteza Heidari",
      "userId": "12437174777431138604"
     },
     "user_tz": -180
    },
    "id": "03sOkPbuQH8Z",
    "outputId": "a2aeb5ba-940d-4ca9-ef83-d238c0a2c2fe"
   },
   "outputs": [
    {
     "name": "stdout",
     "output_type": "stream",
     "text": [
      "PoetryLSTM(\n",
      "  (embedding): Embedding(16424, 100)\n",
      "  (lstm): LSTM(100, 256, num_layers=2, batch_first=True, dropout=0.3)\n",
      "  (fc): Linear(in_features=256, out_features=16424, bias=True)\n",
      ")\n"
     ]
    }
   ],
   "source": [
    "# Initialize the model\n",
    "model = PoetryLSTM(vocab_size , embed_dim, lstm_units, n_layers, dropout).to(device)\n",
    "print(model)"
   ]
  },
  {
   "cell_type": "code",
   "execution_count": 37,
   "metadata": {
    "colab": {
     "base_uri": "https://localhost:8080/",
     "height": 304
    },
    "executionInfo": {
     "elapsed": 1336563,
     "status": "error",
     "timestamp": 1746399370611,
     "user": {
      "displayName": "Morteza Heidari",
      "userId": "12437174777431138604"
     },
     "user_tz": -180
    },
    "id": "wM32cCdlJOJY",
    "outputId": "3bc4b1c6-e868-4873-df7c-5bc6afd8710a"
   },
   "outputs": [
    {
     "ename": "KeyboardInterrupt",
     "evalue": "",
     "output_type": "error",
     "traceback": [
      "\u001b[0;31m---------------------------------------------------------------------------\u001b[0m",
      "\u001b[0;31mKeyboardInterrupt\u001b[0m                         Traceback (most recent call last)",
      "\u001b[0;32m<ipython-input-37-be795fde337d>\u001b[0m in \u001b[0;36m<cell line: 0>\u001b[0;34m()\u001b[0m\n\u001b[1;32m      1\u001b[0m \u001b[0;31m# Run training\u001b[0m\u001b[0;34m\u001b[0m\u001b[0;34m\u001b[0m\u001b[0m\n\u001b[0;32m----> 2\u001b[0;31m \u001b[0mtrain\u001b[0m\u001b[0;34m(\u001b[0m\u001b[0mmodel\u001b[0m\u001b[0;34m,\u001b[0m \u001b[0mtrain_loader\u001b[0m\u001b[0;34m,\u001b[0m \u001b[0mval_loader\u001b[0m\u001b[0;34m,\u001b[0m \u001b[0mdevice\u001b[0m\u001b[0;34m)\u001b[0m\u001b[0;34m\u001b[0m\u001b[0;34m\u001b[0m\u001b[0m\n\u001b[0m",
      "\u001b[0;32m<ipython-input-34-f24e280868ee>\u001b[0m in \u001b[0;36mtrain\u001b[0;34m(model, train_loader, val_loader, device)\u001b[0m\n\u001b[1;32m     15\u001b[0m \u001b[0;34m\u001b[0m\u001b[0m\n\u001b[1;32m     16\u001b[0m     \u001b[0;32mfor\u001b[0m \u001b[0mepoch\u001b[0m \u001b[0;32min\u001b[0m \u001b[0mrange\u001b[0m\u001b[0;34m(\u001b[0m\u001b[0;36m1\u001b[0m\u001b[0;34m,\u001b[0m \u001b[0mepochs\u001b[0m\u001b[0;34m)\u001b[0m\u001b[0;34m:\u001b[0m\u001b[0;34m\u001b[0m\u001b[0;34m\u001b[0m\u001b[0m\n\u001b[0;32m---> 17\u001b[0;31m         \u001b[0mtrain_loss\u001b[0m \u001b[0;34m=\u001b[0m \u001b[0mtrain_function\u001b[0m\u001b[0;34m(\u001b[0m\u001b[0mmodel\u001b[0m\u001b[0;34m,\u001b[0m \u001b[0mtrain_loader\u001b[0m\u001b[0;34m,\u001b[0m \u001b[0mcriterion\u001b[0m\u001b[0;34m,\u001b[0m \u001b[0moptimizer\u001b[0m\u001b[0;34m,\u001b[0m \u001b[0mdevice\u001b[0m\u001b[0;34m)\u001b[0m\u001b[0;34m\u001b[0m\u001b[0;34m\u001b[0m\u001b[0m\n\u001b[0m\u001b[1;32m     18\u001b[0m         \u001b[0mval_loss\u001b[0m   \u001b[0;34m=\u001b[0m \u001b[0mvalidate_function\u001b[0m\u001b[0;34m(\u001b[0m\u001b[0mmodel\u001b[0m\u001b[0;34m,\u001b[0m \u001b[0mval_loader\u001b[0m\u001b[0;34m,\u001b[0m   \u001b[0mcriterion\u001b[0m\u001b[0;34m,\u001b[0m \u001b[0mdevice\u001b[0m\u001b[0;34m)\u001b[0m\u001b[0;34m\u001b[0m\u001b[0;34m\u001b[0m\u001b[0m\n\u001b[1;32m     19\u001b[0m \u001b[0;34m\u001b[0m\u001b[0m\n",
      "\u001b[0;32m<ipython-input-32-80e713f9e901>\u001b[0m in \u001b[0;36mtrain_function\u001b[0;34m(model, train_loader, criterion, optimizer, device)\u001b[0m\n\u001b[1;32m      8\u001b[0m         \u001b[0mlast_logits\u001b[0m \u001b[0;34m=\u001b[0m \u001b[0moutputs\u001b[0m\u001b[0;34m[\u001b[0m\u001b[0;34m:\u001b[0m\u001b[0;34m,\u001b[0m \u001b[0;34m-\u001b[0m\u001b[0;36m1\u001b[0m\u001b[0;34m,\u001b[0m \u001b[0;34m:\u001b[0m\u001b[0;34m]\u001b[0m\u001b[0;34m\u001b[0m\u001b[0;34m\u001b[0m\u001b[0m\n\u001b[1;32m      9\u001b[0m         \u001b[0mloss\u001b[0m \u001b[0;34m=\u001b[0m \u001b[0mcriterion\u001b[0m\u001b[0;34m(\u001b[0m\u001b[0mlast_logits\u001b[0m\u001b[0;34m,\u001b[0m \u001b[0my\u001b[0m\u001b[0;34m)\u001b[0m\u001b[0;34m\u001b[0m\u001b[0;34m\u001b[0m\u001b[0m\n\u001b[0;32m---> 10\u001b[0;31m         \u001b[0mloss\u001b[0m\u001b[0;34m.\u001b[0m\u001b[0mbackward\u001b[0m\u001b[0;34m(\u001b[0m\u001b[0;34m)\u001b[0m\u001b[0;34m\u001b[0m\u001b[0;34m\u001b[0m\u001b[0m\n\u001b[0m\u001b[1;32m     11\u001b[0m         \u001b[0moptimizer\u001b[0m\u001b[0;34m.\u001b[0m\u001b[0mstep\u001b[0m\u001b[0;34m(\u001b[0m\u001b[0;34m)\u001b[0m\u001b[0;34m\u001b[0m\u001b[0;34m\u001b[0m\u001b[0m\n\u001b[1;32m     12\u001b[0m         \u001b[0mtotal_loss\u001b[0m \u001b[0;34m+=\u001b[0m \u001b[0mloss\u001b[0m\u001b[0;34m.\u001b[0m\u001b[0mitem\u001b[0m\u001b[0;34m(\u001b[0m\u001b[0;34m)\u001b[0m\u001b[0;34m\u001b[0m\u001b[0;34m\u001b[0m\u001b[0m\n",
      "\u001b[0;32m/usr/local/lib/python3.11/dist-packages/torch/_tensor.py\u001b[0m in \u001b[0;36mbackward\u001b[0;34m(self, gradient, retain_graph, create_graph, inputs)\u001b[0m\n\u001b[1;32m    624\u001b[0m                 \u001b[0minputs\u001b[0m\u001b[0;34m=\u001b[0m\u001b[0minputs\u001b[0m\u001b[0;34m,\u001b[0m\u001b[0;34m\u001b[0m\u001b[0;34m\u001b[0m\u001b[0m\n\u001b[1;32m    625\u001b[0m             )\n\u001b[0;32m--> 626\u001b[0;31m         torch.autograd.backward(\n\u001b[0m\u001b[1;32m    627\u001b[0m             \u001b[0mself\u001b[0m\u001b[0;34m,\u001b[0m \u001b[0mgradient\u001b[0m\u001b[0;34m,\u001b[0m \u001b[0mretain_graph\u001b[0m\u001b[0;34m,\u001b[0m \u001b[0mcreate_graph\u001b[0m\u001b[0;34m,\u001b[0m \u001b[0minputs\u001b[0m\u001b[0;34m=\u001b[0m\u001b[0minputs\u001b[0m\u001b[0;34m\u001b[0m\u001b[0;34m\u001b[0m\u001b[0m\n\u001b[1;32m    628\u001b[0m         )\n",
      "\u001b[0;32m/usr/local/lib/python3.11/dist-packages/torch/autograd/__init__.py\u001b[0m in \u001b[0;36mbackward\u001b[0;34m(tensors, grad_tensors, retain_graph, create_graph, grad_variables, inputs)\u001b[0m\n\u001b[1;32m    345\u001b[0m     \u001b[0;31m# some Python versions print out the first line of a multi-line function\u001b[0m\u001b[0;34m\u001b[0m\u001b[0;34m\u001b[0m\u001b[0m\n\u001b[1;32m    346\u001b[0m     \u001b[0;31m# calls in the traceback and some print out the last line\u001b[0m\u001b[0;34m\u001b[0m\u001b[0;34m\u001b[0m\u001b[0m\n\u001b[0;32m--> 347\u001b[0;31m     _engine_run_backward(\n\u001b[0m\u001b[1;32m    348\u001b[0m         \u001b[0mtensors\u001b[0m\u001b[0;34m,\u001b[0m\u001b[0;34m\u001b[0m\u001b[0;34m\u001b[0m\u001b[0m\n\u001b[1;32m    349\u001b[0m         \u001b[0mgrad_tensors_\u001b[0m\u001b[0;34m,\u001b[0m\u001b[0;34m\u001b[0m\u001b[0;34m\u001b[0m\u001b[0m\n",
      "\u001b[0;32m/usr/local/lib/python3.11/dist-packages/torch/autograd/graph.py\u001b[0m in \u001b[0;36m_engine_run_backward\u001b[0;34m(t_outputs, *args, **kwargs)\u001b[0m\n\u001b[1;32m    821\u001b[0m         \u001b[0munregister_hooks\u001b[0m \u001b[0;34m=\u001b[0m \u001b[0m_register_logging_hooks_on_whole_graph\u001b[0m\u001b[0;34m(\u001b[0m\u001b[0mt_outputs\u001b[0m\u001b[0;34m)\u001b[0m\u001b[0;34m\u001b[0m\u001b[0;34m\u001b[0m\u001b[0m\n\u001b[1;32m    822\u001b[0m     \u001b[0;32mtry\u001b[0m\u001b[0;34m:\u001b[0m\u001b[0;34m\u001b[0m\u001b[0;34m\u001b[0m\u001b[0m\n\u001b[0;32m--> 823\u001b[0;31m         return Variable._execution_engine.run_backward(  # Calls into the C++ engine to run the backward pass\n\u001b[0m\u001b[1;32m    824\u001b[0m             \u001b[0mt_outputs\u001b[0m\u001b[0;34m,\u001b[0m \u001b[0;34m*\u001b[0m\u001b[0margs\u001b[0m\u001b[0;34m,\u001b[0m \u001b[0;34m**\u001b[0m\u001b[0mkwargs\u001b[0m\u001b[0;34m\u001b[0m\u001b[0;34m\u001b[0m\u001b[0m\n\u001b[1;32m    825\u001b[0m         )  # Calls into the C++ engine to run the backward pass\n",
      "\u001b[0;31mKeyboardInterrupt\u001b[0m: "
     ]
    }
   ],
   "source": [
    "# Run training\n",
    "train(model, train_loader, val_loader, device)"
   ]
  },
  {
   "cell_type": "code",
   "execution_count": null,
   "metadata": {
    "executionInfo": {
     "elapsed": 2,
     "status": "aborted",
     "timestamp": 1746399370620,
     "user": {
      "displayName": "Morteza Heidari",
      "userId": "12437174777431138604"
     },
     "user_tz": -180
    },
    "id": "OWpUg9zW70Bu"
   },
   "outputs": [],
   "source": [
    "# Save model\n",
    "torch.save(model.state_dict(), 'LSTM.pth')\n",
    "\n",
    "# Download the saved model\n",
    "files.download('LSTM.pth')"
   ]
  },
  {
   "cell_type": "code",
   "execution_count": null,
   "metadata": {
    "executionInfo": {
     "elapsed": 6,
     "status": "aborted",
     "timestamp": 1746399370697,
     "user": {
      "displayName": "Morteza Heidari",
      "userId": "12437174777431138604"
     },
     "user_tz": -180
    },
    "id": "vWWztlkEZbRK"
   },
   "outputs": [],
   "source": [
    "def generate_poem(model, tokenizer, seed_text, max_len, gen_length,temperature= 1, device='cpu'):\n",
    "\n",
    "    model.eval()\n",
    "    # Text to token id\n",
    "    seq = tokenizer.texts_to_sequences([seed_text])[0]\n",
    "\n",
    "    for _ in range(gen_length):\n",
    "        padded = pad_sequences([seq],maxlen=max_len,padding='pre')\n",
    "        inp = torch.tensor(padded[:, :-1], dtype=torch.long, device=device)\n",
    "\n",
    "\n",
    "\n",
    "        with torch.no_grad():\n",
    "            logits = model(inp)\n",
    "        last_logits = logits[0, -1, :]\n",
    "        # converts logits to probabilities\n",
    "        probs = F.softmax(last_logits / temperature, dim=-1)\n",
    "        next_id = torch.multinomial(probs, num_samples=1).item()\n",
    "\n",
    "        seq.append(next_id)\n",
    "\n",
    "  # Convert all token id back into words, skipping zeros\n",
    "    words = []\n",
    "    for idx in seq:\n",
    "        if idx == 0:\n",
    "            continue\n",
    "        words.append(tokenizer.index_word.get(idx, '<unk>'))\n",
    "\n",
    "    return ' '.join(words)\n",
    "  # temperature controls randomness in sampling\n",
    "  # Here I did padding and called forward method exactly the same way as in training/validation\n",
    "  # I sliced off the final prediction, matching last_logits = outputs[:, -1, :] in training."
   ]
  },
  {
   "cell_type": "markdown",
   "metadata": {
    "id": "Snn0QoNPgEmR"
   },
   "source": [
    "**Generating Poetry with the Trained Model**"
   ]
  },
  {
   "cell_type": "code",
   "execution_count": null,
   "metadata": {
    "executionInfo": {
     "elapsed": 392,
     "status": "aborted",
     "timestamp": 1746399371100,
     "user": {
      "displayName": "Morteza Heidari",
      "userId": "12437174777431138604"
     },
     "user_tz": -180
    },
    "id": "k5GR-FpH8TRd"
   },
   "outputs": [],
   "source": [
    "model.to(device)\n",
    "seed = 'Your smile'\n",
    "poem = generate_poem(model,tokenizer,seed_text=seed,max_len=200,\n",
    "                     gen_length=20,temperature=0.8,device=device)\n",
    "print(poem)"
   ]
  },
  {
   "cell_type": "markdown",
   "metadata": {
    "id": "7o4eL5iDva8H"
   },
   "source": [
    "I built many short sequences ending in a target value.<br>\n",
    "forward method defines how a batch of token sequences turns into prediction scores.\n",
    "train_function uses that forward logic to perform parameter updates on each mini batch.\n",
    "\n",
    "validate function uses the same forward logic to measure generalization without weights.\n",
    "\n",
    "train function sequences these steps across epochs, adjusts learning rates, saves the best model.\n"
   ]
  },
  {
   "cell_type": "markdown",
   "metadata": {
    "id": "xqgZfaNalsfH"
   },
   "source": [
    "According to my experience working with a BERT model for detecting toxic comments and LSTM model for generating poetry in the PyTorch framework, the BERT assignment looks easier. <br>\n",
    "The pre trained BERT comes with its own tokenizer, so I skip most of the data preprocessing that LSTM needs. Cleaning the raw text, removing weird characters is pretty much for both, but the LSTM needs extra such as building sequance. With BERT, once the text is clean. I just call BertTokenizer; pad/truncate, and fine tune."
   ]
  },
  {
   "cell_type": "markdown",
   "metadata": {
    "id": "g5qimnAZwtgR"
   },
   "source": [
    "**I changed some parameters's values and I have tried to retrain the model, but I dont have credits to use GPU.**"
   ]
  }
 ],
 "metadata": {
  "accelerator": "GPU",
  "colab": {
   "gpuType": "T4",
   "provenance": []
  },
  "kernelspec": {
   "display_name": ".venv",
   "language": "python",
   "name": "python3"
  },
  "language_info": {
   "name": "python",
   "version": "3.10.11"
  }
 },
 "nbformat": 4,
 "nbformat_minor": 0
}
