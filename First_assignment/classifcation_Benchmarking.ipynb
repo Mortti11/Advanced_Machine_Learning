{
 "cells": [
  {
   "cell_type": "code",
   "execution_count": 237,
   "metadata": {},
   "outputs": [],
   "source": [
    "import numpy as np\n",
    "import pandas as pd\n",
    "import matplotlib.pyplot as plt\n",
    "import seaborn as sns\n",
    "from scipy import stats\n",
    "import time\n",
    "\n",
    "from sklearn.preprocessing import label_binarize\n",
    "from sklearn.model_selection import train_test_split\n",
    "from sklearn.preprocessing import StandardScaler, MinMaxScaler\n",
    "from imblearn.under_sampling import RandomUnderSampler\n",
    "from sklearn.metrics import accuracy_score, precision_score, recall_score, f1_score, roc_auc_score\n",
    "from sklearn.metrics import mean_absolute_error, mean_squared_error, r2_score\n",
    "from sklearn.metrics import confusion_matrix, classification_report\n",
    "\n",
    "\n",
    "from sklearn.linear_model import LogisticRegression\n",
    "from sklearn.ensemble import RandomForestClassifier\n",
    "from sklearn.svm import SVC\n",
    "from sklearn.neighbors import KNeighborsClassifier\n",
    "from sklearn.ensemble import RandomForestClassifier, ExtraTreesClassifier, GradientBoostingClassifier\n",
    "from sklearn.neural_network import MLPClassifier\n",
    "from sklearn.tree import DecisionTreeClassifier\n",
    "\n",
    "\n",
    "import xgboost as xgb\n",
    "import lightgbm as lgb\n",
    "import catboost as cb\n",
    "\n",
    "\n",
    "import tensorflow as tf\n",
    "import keras_tuner as kt\n",
    "import keras\n",
    "from keras import layers\n",
    "import keras_tuner\n",
    "from keras.regularizers import l1"
   ]
  },
  {
   "cell_type": "code",
   "execution_count": 238,
   "metadata": {},
   "outputs": [],
   "source": [
    "# loading data \n",
    "df = pd.read_csv('dataset_classification/diabetes_012_health_indicators_BRFSS2015_cleaned.csv')"
   ]
  },
  {
   "cell_type": "code",
   "execution_count": 239,
   "metadata": {},
   "outputs": [],
   "source": [
    "# convert dataset to intrger\n",
    "df = df.astype(int)"
   ]
  },
  {
   "cell_type": "code",
   "execution_count": 240,
   "metadata": {},
   "outputs": [
    {
     "data": {
      "application/vnd.microsoft.datawrangler.viewer.v0+json": {
       "columns": [
        {
         "name": "index",
         "rawType": "int64",
         "type": "integer"
        },
        {
         "name": "Diabetes",
         "rawType": "int32",
         "type": "integer"
        },
        {
         "name": "HighBP",
         "rawType": "int32",
         "type": "integer"
        },
        {
         "name": "HighChol",
         "rawType": "int32",
         "type": "integer"
        },
        {
         "name": "BMI",
         "rawType": "int32",
         "type": "integer"
        },
        {
         "name": "Stroke",
         "rawType": "int32",
         "type": "integer"
        },
        {
         "name": "HeartDiseaseorAttack",
         "rawType": "int32",
         "type": "integer"
        },
        {
         "name": "PhysActivity",
         "rawType": "int32",
         "type": "integer"
        },
        {
         "name": "HvyAlcoholConsump",
         "rawType": "int32",
         "type": "integer"
        },
        {
         "name": "AnyHealthcare",
         "rawType": "int32",
         "type": "integer"
        },
        {
         "name": "GenHlth",
         "rawType": "int32",
         "type": "integer"
        },
        {
         "name": "PhysHlth",
         "rawType": "int32",
         "type": "integer"
        },
        {
         "name": "DiffWalk",
         "rawType": "int32",
         "type": "integer"
        },
        {
         "name": "Sex",
         "rawType": "int32",
         "type": "integer"
        },
        {
         "name": "Age",
         "rawType": "int32",
         "type": "integer"
        },
        {
         "name": "Education",
         "rawType": "int32",
         "type": "integer"
        },
        {
         "name": "Income",
         "rawType": "int32",
         "type": "integer"
        }
       ],
       "conversionMethod": "pd.DataFrame",
       "ref": "58c9b2bb-0f9b-4179-aeb1-47333d7b3123",
       "rows": [
        [
         "0",
         "0",
         "1",
         "1",
         "40",
         "0",
         "0",
         "0",
         "0",
         "1",
         "5",
         "15",
         "1",
         "0",
         "9",
         "4",
         "3"
        ],
        [
         "1",
         "0",
         "0",
         "0",
         "25",
         "0",
         "0",
         "1",
         "0",
         "0",
         "3",
         "0",
         "0",
         "0",
         "7",
         "6",
         "1"
        ],
        [
         "2",
         "0",
         "1",
         "1",
         "28",
         "0",
         "0",
         "0",
         "0",
         "1",
         "5",
         "30",
         "1",
         "0",
         "9",
         "4",
         "8"
        ],
        [
         "3",
         "0",
         "1",
         "0",
         "27",
         "0",
         "0",
         "1",
         "0",
         "1",
         "2",
         "0",
         "0",
         "0",
         "11",
         "3",
         "6"
        ],
        [
         "4",
         "0",
         "1",
         "1",
         "24",
         "0",
         "0",
         "1",
         "0",
         "1",
         "2",
         "0",
         "0",
         "0",
         "11",
         "5",
         "4"
        ]
       ],
       "shape": {
        "columns": 16,
        "rows": 5
       }
      },
      "text/html": [
       "<div>\n",
       "<style scoped>\n",
       "    .dataframe tbody tr th:only-of-type {\n",
       "        vertical-align: middle;\n",
       "    }\n",
       "\n",
       "    .dataframe tbody tr th {\n",
       "        vertical-align: top;\n",
       "    }\n",
       "\n",
       "    .dataframe thead th {\n",
       "        text-align: right;\n",
       "    }\n",
       "</style>\n",
       "<table border=\"1\" class=\"dataframe\">\n",
       "  <thead>\n",
       "    <tr style=\"text-align: right;\">\n",
       "      <th></th>\n",
       "      <th>Diabetes</th>\n",
       "      <th>HighBP</th>\n",
       "      <th>HighChol</th>\n",
       "      <th>BMI</th>\n",
       "      <th>Stroke</th>\n",
       "      <th>HeartDiseaseorAttack</th>\n",
       "      <th>PhysActivity</th>\n",
       "      <th>HvyAlcoholConsump</th>\n",
       "      <th>AnyHealthcare</th>\n",
       "      <th>GenHlth</th>\n",
       "      <th>PhysHlth</th>\n",
       "      <th>DiffWalk</th>\n",
       "      <th>Sex</th>\n",
       "      <th>Age</th>\n",
       "      <th>Education</th>\n",
       "      <th>Income</th>\n",
       "    </tr>\n",
       "  </thead>\n",
       "  <tbody>\n",
       "    <tr>\n",
       "      <th>0</th>\n",
       "      <td>0</td>\n",
       "      <td>1</td>\n",
       "      <td>1</td>\n",
       "      <td>40</td>\n",
       "      <td>0</td>\n",
       "      <td>0</td>\n",
       "      <td>0</td>\n",
       "      <td>0</td>\n",
       "      <td>1</td>\n",
       "      <td>5</td>\n",
       "      <td>15</td>\n",
       "      <td>1</td>\n",
       "      <td>0</td>\n",
       "      <td>9</td>\n",
       "      <td>4</td>\n",
       "      <td>3</td>\n",
       "    </tr>\n",
       "    <tr>\n",
       "      <th>1</th>\n",
       "      <td>0</td>\n",
       "      <td>0</td>\n",
       "      <td>0</td>\n",
       "      <td>25</td>\n",
       "      <td>0</td>\n",
       "      <td>0</td>\n",
       "      <td>1</td>\n",
       "      <td>0</td>\n",
       "      <td>0</td>\n",
       "      <td>3</td>\n",
       "      <td>0</td>\n",
       "      <td>0</td>\n",
       "      <td>0</td>\n",
       "      <td>7</td>\n",
       "      <td>6</td>\n",
       "      <td>1</td>\n",
       "    </tr>\n",
       "    <tr>\n",
       "      <th>2</th>\n",
       "      <td>0</td>\n",
       "      <td>1</td>\n",
       "      <td>1</td>\n",
       "      <td>28</td>\n",
       "      <td>0</td>\n",
       "      <td>0</td>\n",
       "      <td>0</td>\n",
       "      <td>0</td>\n",
       "      <td>1</td>\n",
       "      <td>5</td>\n",
       "      <td>30</td>\n",
       "      <td>1</td>\n",
       "      <td>0</td>\n",
       "      <td>9</td>\n",
       "      <td>4</td>\n",
       "      <td>8</td>\n",
       "    </tr>\n",
       "    <tr>\n",
       "      <th>3</th>\n",
       "      <td>0</td>\n",
       "      <td>1</td>\n",
       "      <td>0</td>\n",
       "      <td>27</td>\n",
       "      <td>0</td>\n",
       "      <td>0</td>\n",
       "      <td>1</td>\n",
       "      <td>0</td>\n",
       "      <td>1</td>\n",
       "      <td>2</td>\n",
       "      <td>0</td>\n",
       "      <td>0</td>\n",
       "      <td>0</td>\n",
       "      <td>11</td>\n",
       "      <td>3</td>\n",
       "      <td>6</td>\n",
       "    </tr>\n",
       "    <tr>\n",
       "      <th>4</th>\n",
       "      <td>0</td>\n",
       "      <td>1</td>\n",
       "      <td>1</td>\n",
       "      <td>24</td>\n",
       "      <td>0</td>\n",
       "      <td>0</td>\n",
       "      <td>1</td>\n",
       "      <td>0</td>\n",
       "      <td>1</td>\n",
       "      <td>2</td>\n",
       "      <td>0</td>\n",
       "      <td>0</td>\n",
       "      <td>0</td>\n",
       "      <td>11</td>\n",
       "      <td>5</td>\n",
       "      <td>4</td>\n",
       "    </tr>\n",
       "  </tbody>\n",
       "</table>\n",
       "</div>"
      ],
      "text/plain": [
       "   Diabetes  HighBP  HighChol  BMI  Stroke  HeartDiseaseorAttack  \\\n",
       "0         0       1         1   40       0                     0   \n",
       "1         0       0         0   25       0                     0   \n",
       "2         0       1         1   28       0                     0   \n",
       "3         0       1         0   27       0                     0   \n",
       "4         0       1         1   24       0                     0   \n",
       "\n",
       "   PhysActivity  HvyAlcoholConsump  AnyHealthcare  GenHlth  PhysHlth  \\\n",
       "0             0                  0              1        5        15   \n",
       "1             1                  0              0        3         0   \n",
       "2             0                  0              1        5        30   \n",
       "3             1                  0              1        2         0   \n",
       "4             1                  0              1        2         0   \n",
       "\n",
       "   DiffWalk  Sex  Age  Education  Income  \n",
       "0         1    0    9          4       3  \n",
       "1         0    0    7          6       1  \n",
       "2         1    0    9          4       8  \n",
       "3         0    0   11          3       6  \n",
       "4         0    0   11          5       4  "
      ]
     },
     "execution_count": 240,
     "metadata": {},
     "output_type": "execute_result"
    }
   ],
   "source": [
    "df.head()"
   ]
  },
  {
   "cell_type": "code",
   "execution_count": 241,
   "metadata": {},
   "outputs": [
    {
     "data": {
      "text/plain": [
       "(229781, 16)"
      ]
     },
     "execution_count": 241,
     "metadata": {},
     "output_type": "execute_result"
    }
   ],
   "source": [
    "df.shape   "
   ]
  },
  {
   "cell_type": "code",
   "execution_count": 242,
   "metadata": {},
   "outputs": [
    {
     "data": {
      "text/plain": [
       "Diabetes\n",
       "0    190055\n",
       "2     35097\n",
       "1      4629\n",
       "Name: count, dtype: int64"
      ]
     },
     "execution_count": 242,
     "metadata": {},
     "output_type": "execute_result"
    }
   ],
   "source": [
    "df['Diabetes'].value_counts()   "
   ]
  },
  {
   "cell_type": "code",
   "execution_count": 243,
   "metadata": {},
   "outputs": [],
   "source": [
    "X = df.drop('Diabetes', axis=1)\n",
    "y = df['Diabetes']"
   ]
  },
  {
   "cell_type": "code",
   "execution_count": 244,
   "metadata": {},
   "outputs": [],
   "source": [
    "rus = RandomUnderSampler(random_state=42)\n",
    "X, y = rus.fit_resample(X, y)"
   ]
  },
  {
   "cell_type": "code",
   "execution_count": 245,
   "metadata": {},
   "outputs": [
    {
     "data": {
      "text/plain": [
       "Diabetes\n",
       "0    4629\n",
       "1    4629\n",
       "2    4629\n",
       "Name: count, dtype: int64"
      ]
     },
     "execution_count": 245,
     "metadata": {},
     "output_type": "execute_result"
    }
   ],
   "source": [
    "y.value_counts()    "
   ]
  },
  {
   "cell_type": "code",
   "execution_count": 246,
   "metadata": {},
   "outputs": [
    {
     "name": "stdout",
     "output_type": "stream",
     "text": [
      "X_train shape: (13887, 15)\n",
      "y_train shape: (13887,)\n"
     ]
    }
   ],
   "source": [
    "print(\"X_train shape:\", X.shape)\n",
    "print(\"y_train shape:\", y.shape)"
   ]
  },
  {
   "cell_type": "code",
   "execution_count": 247,
   "metadata": {},
   "outputs": [],
   "source": [
    "X_train, X_temp, y_train, y_temp = train_test_split(X, y, test_size=0.3)\n",
    "X_val, X_test, y_val, y_test = train_test_split(X_temp, y_temp, test_size=0.5)"
   ]
  },
  {
   "cell_type": "code",
   "execution_count": 248,
   "metadata": {},
   "outputs": [],
   "source": [
    "y_train_n = y_train.copy()\n",
    "y_val_n = y_val.copy()\n",
    "y_test_n = y_test.copy()"
   ]
  },
  {
   "cell_type": "code",
   "execution_count": 249,
   "metadata": {},
   "outputs": [],
   "source": [
    "y_train_n= tf.keras.utils.to_categorical(y_train_n)\n",
    "y_val_n= tf.keras.utils.to_categorical(y_val_n)\n",
    "y_test_n= tf.keras.utils.to_categorical(y_test_n)"
   ]
  },
  {
   "cell_type": "code",
   "execution_count": 250,
   "metadata": {},
   "outputs": [
    {
     "name": "stdout",
     "output_type": "stream",
     "text": [
      "y_train_n: (9720, 3)\n",
      "y_val_n: (2083, 3)\n",
      "y_test_n: (2084, 3)\n"
     ]
    }
   ],
   "source": [
    "print(\"y_train_n:\", y_train_n.shape)\n",
    "print(\"y_val_n:\", y_val_n.shape)\n",
    "print(\"y_test_n:\", y_test_n.shape)"
   ]
  },
  {
   "cell_type": "code",
   "execution_count": 251,
   "metadata": {},
   "outputs": [
    {
     "name": "stdout",
     "output_type": "stream",
     "text": [
      "X_train shape: (9720, 15)\n",
      "y_train shape: (9720,)\n",
      "X_val shape: (2083, 15)\n",
      "y_val shape: (2083,)\n",
      "X_test shape: (2084, 15)\n",
      "y_test shape: (2084,)\n"
     ]
    }
   ],
   "source": [
    "# print the shapes of the training, validation, and testing sets\n",
    "print(\"X_train shape:\", X_train.shape)\n",
    "print(\"y_train shape:\", y_train.shape)\n",
    "print(\"X_val shape:\", X_val.shape)\n",
    "print(\"y_val shape:\", y_val.shape)\n",
    "print(\"X_test shape:\", X_test.shape)\n",
    "print(\"y_test shape:\", y_test.shape)"
   ]
  },
  {
   "cell_type": "code",
   "execution_count": 252,
   "metadata": {},
   "outputs": [
    {
     "data": {
      "text/plain": [
       "[0, 1, 2]"
      ]
     },
     "execution_count": 252,
     "metadata": {},
     "output_type": "execute_result"
    }
   ],
   "source": [
    "# Save the categories into a list \n",
    "categories = list(np.unique(df['Diabetes']))    \n",
    "categories"
   ]
  },
  {
   "cell_type": "code",
   "execution_count": 253,
   "metadata": {},
   "outputs": [],
   "source": [
    "scaler = StandardScaler()\n",
    "\n",
    "X_train_scaled = scaler.fit_transform(X_train)\n",
    "X_test_scaled = scaler.transform(X_test)\n",
    "X_val_scaled = scaler.transform(X_val)"
   ]
  },
  {
   "cell_type": "code",
   "execution_count": 202,
   "metadata": {},
   "outputs": [
    {
     "data": {
      "text/plain": [
       "[0, 1, 2]"
      ]
     },
     "execution_count": 202,
     "metadata": {},
     "output_type": "execute_result"
    }
   ],
   "source": [
    "categories"
   ]
  },
  {
   "cell_type": "code",
   "execution_count": 203,
   "metadata": {},
   "outputs": [
    {
     "name": "stdout",
     "output_type": "stream",
     "text": [
      "Trial 10 Complete [00h 05m 00s]\n",
      "val_loss: 0.9877884785334269\n",
      "\n",
      "Best val_loss So Far: 0.9698121349016825\n",
      "Total elapsed time: 01h 11m 10s\n"
     ]
    }
   ],
   "source": [
    "# Creating a function to fine tune and adding hp object\n",
    "def build_model(hp):\n",
    "    model = keras.Sequential()\n",
    "    \n",
    "    # Adding the input layer\n",
    "    \n",
    "    model.add(keras.layers.BatchNormalization(\n",
    "        momentum=hp.Float('bn_momentum', 0.1, 0.9, 0.1), input_shape=(len(X.columns),))),\n",
    "  \n",
    "     \n",
    "    \n",
    "    # First Hidden Layer \n",
    "    model.add(keras.layers.Dense(\n",
    "        units=hp.Int('units', min_value=32, max_value=256, step=4),\n",
    "        # For fine tuning the model, I am gonna use tow activation functions  relu and tanh\n",
    "        activation=hp.Choice('activation', ['relu', \"tanh\"]),\n",
    "        kernel_regularizer=keras.regularizers.l1(l1=hp.Float('l1', 0, 0.1, step=0.01),)\n",
    "    ))\n",
    "        \n",
    "    # Dropout layer\n",
    "    if hp.Boolean('dropout'):\n",
    "        model.add(keras.layers.Dropout(rate=hp.Float('dropout_rate', 0.1, 0.5, step=0.1)))\n",
    "        \n",
    "        \n",
    "    # Adding additional hidden layers\n",
    "    for i in range(hp.Int(\"num_layers\", 1, 4)):\n",
    "        units = hp.Int(f\"units_{i+1}\", 16, 128, 2)\n",
    "        activation = hp.Choice(f\"activation_{i}\", ['relu', 'tanh', 'LeakyReLU'])\n",
    "        \n",
    "        if activation == 'LeakyReLU':\n",
    "           model.add(keras.layers.Dense(units))\n",
    "           model.add(keras.layers.LeakyReLU(negative_slope=hp.Float('leaky_relu_slope', 0.1, 0.5, step=0.1)))\n",
    "            \n",
    "        else:\n",
    "           model.add(keras.layers.Dense(units, activation=activation))\n",
    "           \n",
    "    model.add(layers.Dense(len(categories), activation=\"softmax\"))\n",
    "    \n",
    "    # Setting up the optimizer and compiling the model \n",
    "    learning_rate = hp.Float('lr', min_value=1e-4, max_value=5e-2, sampling=\"log\")\n",
    "    # Creating the dictionary for the optimizers for givin flexibility to the model\n",
    "    optimizers = {\n",
    "        'adam': keras.optimizers.Adam(learning_rate=learning_rate),\n",
    "        'sgd': keras.optimizers.SGD(learning_rate=learning_rate, momentum=hp.Float('momentum', 0.0, 0.9, 0.1)),\n",
    "        'rmsprop': keras.optimizers.RMSprop(learning_rate=learning_rate)}[hp.Choice('optimizer', ['adam', 'sgd', 'rmsprop'])]\n",
    "    \n",
    "    model.compile(optimizer=optimizers, loss='categorical_crossentropy',metrics=['accuracy'])\n",
    "    return model\n",
    "\n",
    "build_model(keras_tuner.HyperParameters())\n",
    "# Setting up the Keras tuner\n",
    "tuner = keras_tuner.RandomSearch(\n",
    "    hypermodel= build_model,\n",
    "    objective=\"val_loss\",\n",
    "    max_trials=10,\n",
    "    executions_per_trial=3,\n",
    "    directory='dataset_classification/model_tuning',\n",
    "    project_name=\"classification_model\",\n",
    "    overwrite=True  \n",
    ")\n",
    "\n",
    "callback = [\n",
    "    keras.callbacks.EarlyStopping(monitor='val_loss', patience=10, restore_best_weights=True),\n",
    "    keras.callbacks.ReduceLROnPlateau(monitor='val_loss', factor=0.2, patience=5)\n",
    "]\n",
    "# Starting  searching\n",
    "tuner.search(X_train_scaled, y_train_n, epochs=250, validation_data=(X_val_scaled, y_val_n), callbacks=callback)     \n"
   ]
  },
  {
   "cell_type": "code",
   "execution_count": 204,
   "metadata": {},
   "outputs": [
    {
     "name": "stdout",
     "output_type": "stream",
     "text": [
      "Results summary\n",
      "Results in dataset_classification/model_tuning\\classification_model\n",
      "Showing 10 best trials\n",
      "Objective(name=\"val_loss\", direction=\"min\")\n",
      "\n",
      "Trial 02 summary\n",
      "Hyperparameters:\n",
      "bn_momentum: 0.9\n",
      "units: 128\n",
      "activation: relu\n",
      "l1: 0.0\n",
      "dropout: True\n",
      "num_layers: 3\n",
      "units_1: 46\n",
      "activation_0: tanh\n",
      "lr: 0.0009730546622782074\n",
      "momentum: 0.7000000000000001\n",
      "optimizer: sgd\n",
      "leaky_relu_slope: 0.4\n",
      "units_2: 30\n",
      "activation_1: relu\n",
      "units_3: 38\n",
      "activation_2: relu\n",
      "units_4: 106\n",
      "activation_3: LeakyReLU\n",
      "dropout_rate: 0.4\n",
      "Score: 0.9698121349016825\n",
      "\n",
      "Trial 00 summary\n",
      "Hyperparameters:\n",
      "bn_momentum: 0.5\n",
      "units: 164\n",
      "activation: tanh\n",
      "l1: 0.03\n",
      "dropout: False\n",
      "num_layers: 4\n",
      "units_1: 96\n",
      "activation_0: LeakyReLU\n",
      "lr: 0.0007346830490058072\n",
      "momentum: 0.2\n",
      "optimizer: rmsprop\n",
      "leaky_relu_slope: 0.1\n",
      "units_2: 16\n",
      "activation_1: relu\n",
      "units_3: 16\n",
      "activation_2: relu\n",
      "units_4: 16\n",
      "activation_3: relu\n",
      "Score: 0.9745214581489563\n",
      "\n",
      "Trial 07 summary\n",
      "Hyperparameters:\n",
      "bn_momentum: 0.1\n",
      "units: 56\n",
      "activation: tanh\n",
      "l1: 0.04\n",
      "dropout: False\n",
      "num_layers: 3\n",
      "units_1: 22\n",
      "activation_0: LeakyReLU\n",
      "lr: 0.005238760403591215\n",
      "momentum: 0.0\n",
      "optimizer: rmsprop\n",
      "leaky_relu_slope: 0.2\n",
      "units_2: 60\n",
      "activation_1: LeakyReLU\n",
      "units_3: 116\n",
      "activation_2: tanh\n",
      "units_4: 30\n",
      "activation_3: tanh\n",
      "dropout_rate: 0.1\n",
      "Score: 0.9796843330065409\n",
      "\n",
      "Trial 05 summary\n",
      "Hyperparameters:\n",
      "bn_momentum: 0.4\n",
      "units: 144\n",
      "activation: tanh\n",
      "l1: 0.07\n",
      "dropout: True\n",
      "num_layers: 4\n",
      "units_1: 32\n",
      "activation_0: relu\n",
      "lr: 0.0005831556865897062\n",
      "momentum: 0.8\n",
      "optimizer: rmsprop\n",
      "leaky_relu_slope: 0.4\n",
      "units_2: 36\n",
      "activation_1: relu\n",
      "units_3: 96\n",
      "activation_2: LeakyReLU\n",
      "units_4: 124\n",
      "activation_3: relu\n",
      "dropout_rate: 0.4\n",
      "Score: 0.9802178343137106\n",
      "\n",
      "Trial 06 summary\n",
      "Hyperparameters:\n",
      "bn_momentum: 0.30000000000000004\n",
      "units: 88\n",
      "activation: relu\n",
      "l1: 0.03\n",
      "dropout: True\n",
      "num_layers: 3\n",
      "units_1: 116\n",
      "activation_0: relu\n",
      "lr: 0.005622220605277361\n",
      "momentum: 0.7000000000000001\n",
      "optimizer: sgd\n",
      "leaky_relu_slope: 0.1\n",
      "units_2: 118\n",
      "activation_1: relu\n",
      "units_3: 106\n",
      "activation_2: LeakyReLU\n",
      "units_4: 28\n",
      "activation_3: tanh\n",
      "dropout_rate: 0.1\n",
      "Score: 0.986456036567688\n",
      "\n",
      "Trial 09 summary\n",
      "Hyperparameters:\n",
      "bn_momentum: 0.5\n",
      "units: 228\n",
      "activation: relu\n",
      "l1: 0.02\n",
      "dropout: True\n",
      "num_layers: 3\n",
      "units_1: 102\n",
      "activation_0: LeakyReLU\n",
      "lr: 0.026087894710489962\n",
      "momentum: 0.4\n",
      "optimizer: sgd\n",
      "leaky_relu_slope: 0.4\n",
      "units_2: 54\n",
      "activation_1: tanh\n",
      "units_3: 50\n",
      "activation_2: LeakyReLU\n",
      "units_4: 24\n",
      "activation_3: LeakyReLU\n",
      "dropout_rate: 0.4\n",
      "Score: 0.9877884785334269\n",
      "\n",
      "Trial 04 summary\n",
      "Hyperparameters:\n",
      "bn_momentum: 0.4\n",
      "units: 248\n",
      "activation: tanh\n",
      "l1: 0.05\n",
      "dropout: True\n",
      "num_layers: 4\n",
      "units_1: 54\n",
      "activation_0: relu\n",
      "lr: 0.00738013871664687\n",
      "momentum: 0.1\n",
      "optimizer: sgd\n",
      "leaky_relu_slope: 0.2\n",
      "units_2: 56\n",
      "activation_1: LeakyReLU\n",
      "units_3: 80\n",
      "activation_2: tanh\n",
      "units_4: 70\n",
      "activation_3: tanh\n",
      "dropout_rate: 0.2\n",
      "Score: 0.9916190505027771\n",
      "\n",
      "Trial 03 summary\n",
      "Hyperparameters:\n",
      "bn_momentum: 0.4\n",
      "units: 124\n",
      "activation: relu\n",
      "l1: 0.01\n",
      "dropout: False\n",
      "num_layers: 2\n",
      "units_1: 106\n",
      "activation_0: relu\n",
      "lr: 0.0002572650285164159\n",
      "momentum: 0.4\n",
      "optimizer: sgd\n",
      "leaky_relu_slope: 0.4\n",
      "units_2: 72\n",
      "activation_1: relu\n",
      "units_3: 82\n",
      "activation_2: relu\n",
      "units_4: 112\n",
      "activation_3: tanh\n",
      "dropout_rate: 0.5\n",
      "Score: 0.992618461449941\n",
      "\n",
      "Trial 08 summary\n",
      "Hyperparameters:\n",
      "bn_momentum: 0.9\n",
      "units: 116\n",
      "activation: tanh\n",
      "l1: 0.07\n",
      "dropout: True\n",
      "num_layers: 4\n",
      "units_1: 112\n",
      "activation_0: tanh\n",
      "lr: 0.013618397926908032\n",
      "momentum: 0.30000000000000004\n",
      "optimizer: sgd\n",
      "leaky_relu_slope: 0.2\n",
      "units_2: 46\n",
      "activation_1: LeakyReLU\n",
      "units_3: 20\n",
      "activation_2: tanh\n",
      "units_4: 48\n",
      "activation_3: relu\n",
      "dropout_rate: 0.4\n",
      "Score: 0.9965628186861674\n",
      "\n",
      "Trial 01 summary\n",
      "Hyperparameters:\n",
      "bn_momentum: 0.30000000000000004\n",
      "units: 36\n",
      "activation: tanh\n",
      "l1: 0.05\n",
      "dropout: True\n",
      "num_layers: 2\n",
      "units_1: 76\n",
      "activation_0: tanh\n",
      "lr: 0.00017610737869865216\n",
      "momentum: 0.30000000000000004\n",
      "optimizer: sgd\n",
      "leaky_relu_slope: 0.5\n",
      "units_2: 68\n",
      "activation_1: tanh\n",
      "units_3: 106\n",
      "activation_2: tanh\n",
      "units_4: 44\n",
      "activation_3: relu\n",
      "dropout_rate: 0.1\n",
      "Score: 1.0331406195958455\n"
     ]
    }
   ],
   "source": [
    "# print out the result and suggestions\n",
    "tuner.results_summary()"
   ]
  },
  {
   "cell_type": "code",
   "execution_count": 205,
   "metadata": {},
   "outputs": [
    {
     "name": "stderr",
     "output_type": "stream",
     "text": [
      "c:\\Users\\murta\\Desktop\\Desktop\\ML&DE\\Fourth_Semester\\Advanced_ML\\.venv\\lib\\site-packages\\keras\\src\\saving\\saving_lib.py:757: UserWarning: Skipping variable loading for optimizer 'SGD', because it has 2 variables whereas the saved optimizer has 14 variables. \n",
      "  saveable.load_own_variables(weights_store.get(inner_path))\n",
      "c:\\Users\\murta\\Desktop\\Desktop\\ML&DE\\Fourth_Semester\\Advanced_ML\\.venv\\lib\\site-packages\\keras\\src\\saving\\saving_lib.py:757: UserWarning: Skipping variable loading for optimizer 'rmsprop', because it has 2 variables whereas the saved optimizer has 16 variables. \n",
      "  saveable.load_own_variables(weights_store.get(inner_path))\n"
     ]
    },
    {
     "data": {
      "text/html": [
       "<pre style=\"white-space:pre;overflow-x:auto;line-height:normal;font-family:Menlo,'DejaVu Sans Mono',consolas,'Courier New',monospace\"><span style=\"font-weight: bold\">Model: \"sequential\"</span>\n",
       "</pre>\n"
      ],
      "text/plain": [
       "\u001b[1mModel: \"sequential\"\u001b[0m\n"
      ]
     },
     "metadata": {},
     "output_type": "display_data"
    },
    {
     "data": {
      "text/html": [
       "<pre style=\"white-space:pre;overflow-x:auto;line-height:normal;font-family:Menlo,'DejaVu Sans Mono',consolas,'Courier New',monospace\">┏━━━━━━━━━━━━━━━━━━━━━━━━━━━━━━━━━┳━━━━━━━━━━━━━━━━━━━━━━━━┳━━━━━━━━━━━━━━━┓\n",
       "┃<span style=\"font-weight: bold\"> Layer (type)                    </span>┃<span style=\"font-weight: bold\"> Output Shape           </span>┃<span style=\"font-weight: bold\">       Param # </span>┃\n",
       "┡━━━━━━━━━━━━━━━━━━━━━━━━━━━━━━━━━╇━━━━━━━━━━━━━━━━━━━━━━━━╇━━━━━━━━━━━━━━━┩\n",
       "│ batch_normalization             │ (<span style=\"color: #00d7ff; text-decoration-color: #00d7ff\">None</span>, <span style=\"color: #00af00; text-decoration-color: #00af00\">15</span>)             │            <span style=\"color: #00af00; text-decoration-color: #00af00\">60</span> │\n",
       "│ (<span style=\"color: #0087ff; text-decoration-color: #0087ff\">BatchNormalization</span>)            │                        │               │\n",
       "├─────────────────────────────────┼────────────────────────┼───────────────┤\n",
       "│ dense (<span style=\"color: #0087ff; text-decoration-color: #0087ff\">Dense</span>)                   │ (<span style=\"color: #00d7ff; text-decoration-color: #00d7ff\">None</span>, <span style=\"color: #00af00; text-decoration-color: #00af00\">128</span>)            │         <span style=\"color: #00af00; text-decoration-color: #00af00\">2,048</span> │\n",
       "├─────────────────────────────────┼────────────────────────┼───────────────┤\n",
       "│ dropout (<span style=\"color: #0087ff; text-decoration-color: #0087ff\">Dropout</span>)               │ (<span style=\"color: #00d7ff; text-decoration-color: #00d7ff\">None</span>, <span style=\"color: #00af00; text-decoration-color: #00af00\">128</span>)            │             <span style=\"color: #00af00; text-decoration-color: #00af00\">0</span> │\n",
       "├─────────────────────────────────┼────────────────────────┼───────────────┤\n",
       "│ dense_1 (<span style=\"color: #0087ff; text-decoration-color: #0087ff\">Dense</span>)                 │ (<span style=\"color: #00d7ff; text-decoration-color: #00d7ff\">None</span>, <span style=\"color: #00af00; text-decoration-color: #00af00\">46</span>)             │         <span style=\"color: #00af00; text-decoration-color: #00af00\">5,934</span> │\n",
       "├─────────────────────────────────┼────────────────────────┼───────────────┤\n",
       "│ dense_2 (<span style=\"color: #0087ff; text-decoration-color: #0087ff\">Dense</span>)                 │ (<span style=\"color: #00d7ff; text-decoration-color: #00d7ff\">None</span>, <span style=\"color: #00af00; text-decoration-color: #00af00\">30</span>)             │         <span style=\"color: #00af00; text-decoration-color: #00af00\">1,410</span> │\n",
       "├─────────────────────────────────┼────────────────────────┼───────────────┤\n",
       "│ dense_3 (<span style=\"color: #0087ff; text-decoration-color: #0087ff\">Dense</span>)                 │ (<span style=\"color: #00d7ff; text-decoration-color: #00d7ff\">None</span>, <span style=\"color: #00af00; text-decoration-color: #00af00\">38</span>)             │         <span style=\"color: #00af00; text-decoration-color: #00af00\">1,178</span> │\n",
       "├─────────────────────────────────┼────────────────────────┼───────────────┤\n",
       "│ dense_4 (<span style=\"color: #0087ff; text-decoration-color: #0087ff\">Dense</span>)                 │ (<span style=\"color: #00d7ff; text-decoration-color: #00d7ff\">None</span>, <span style=\"color: #00af00; text-decoration-color: #00af00\">3</span>)              │           <span style=\"color: #00af00; text-decoration-color: #00af00\">117</span> │\n",
       "└─────────────────────────────────┴────────────────────────┴───────────────┘\n",
       "</pre>\n"
      ],
      "text/plain": [
       "┏━━━━━━━━━━━━━━━━━━━━━━━━━━━━━━━━━┳━━━━━━━━━━━━━━━━━━━━━━━━┳━━━━━━━━━━━━━━━┓\n",
       "┃\u001b[1m \u001b[0m\u001b[1mLayer (type)                   \u001b[0m\u001b[1m \u001b[0m┃\u001b[1m \u001b[0m\u001b[1mOutput Shape          \u001b[0m\u001b[1m \u001b[0m┃\u001b[1m \u001b[0m\u001b[1m      Param #\u001b[0m\u001b[1m \u001b[0m┃\n",
       "┡━━━━━━━━━━━━━━━━━━━━━━━━━━━━━━━━━╇━━━━━━━━━━━━━━━━━━━━━━━━╇━━━━━━━━━━━━━━━┩\n",
       "│ batch_normalization             │ (\u001b[38;5;45mNone\u001b[0m, \u001b[38;5;34m15\u001b[0m)             │            \u001b[38;5;34m60\u001b[0m │\n",
       "│ (\u001b[38;5;33mBatchNormalization\u001b[0m)            │                        │               │\n",
       "├─────────────────────────────────┼────────────────────────┼───────────────┤\n",
       "│ dense (\u001b[38;5;33mDense\u001b[0m)                   │ (\u001b[38;5;45mNone\u001b[0m, \u001b[38;5;34m128\u001b[0m)            │         \u001b[38;5;34m2,048\u001b[0m │\n",
       "├─────────────────────────────────┼────────────────────────┼───────────────┤\n",
       "│ dropout (\u001b[38;5;33mDropout\u001b[0m)               │ (\u001b[38;5;45mNone\u001b[0m, \u001b[38;5;34m128\u001b[0m)            │             \u001b[38;5;34m0\u001b[0m │\n",
       "├─────────────────────────────────┼────────────────────────┼───────────────┤\n",
       "│ dense_1 (\u001b[38;5;33mDense\u001b[0m)                 │ (\u001b[38;5;45mNone\u001b[0m, \u001b[38;5;34m46\u001b[0m)             │         \u001b[38;5;34m5,934\u001b[0m │\n",
       "├─────────────────────────────────┼────────────────────────┼───────────────┤\n",
       "│ dense_2 (\u001b[38;5;33mDense\u001b[0m)                 │ (\u001b[38;5;45mNone\u001b[0m, \u001b[38;5;34m30\u001b[0m)             │         \u001b[38;5;34m1,410\u001b[0m │\n",
       "├─────────────────────────────────┼────────────────────────┼───────────────┤\n",
       "│ dense_3 (\u001b[38;5;33mDense\u001b[0m)                 │ (\u001b[38;5;45mNone\u001b[0m, \u001b[38;5;34m38\u001b[0m)             │         \u001b[38;5;34m1,178\u001b[0m │\n",
       "├─────────────────────────────────┼────────────────────────┼───────────────┤\n",
       "│ dense_4 (\u001b[38;5;33mDense\u001b[0m)                 │ (\u001b[38;5;45mNone\u001b[0m, \u001b[38;5;34m3\u001b[0m)              │           \u001b[38;5;34m117\u001b[0m │\n",
       "└─────────────────────────────────┴────────────────────────┴───────────────┘\n"
      ]
     },
     "metadata": {},
     "output_type": "display_data"
    },
    {
     "data": {
      "text/html": [
       "<pre style=\"white-space:pre;overflow-x:auto;line-height:normal;font-family:Menlo,'DejaVu Sans Mono',consolas,'Courier New',monospace\"><span style=\"font-weight: bold\"> Total params: </span><span style=\"color: #00af00; text-decoration-color: #00af00\">10,747</span> (41.98 KB)\n",
       "</pre>\n"
      ],
      "text/plain": [
       "\u001b[1m Total params: \u001b[0m\u001b[38;5;34m10,747\u001b[0m (41.98 KB)\n"
      ]
     },
     "metadata": {},
     "output_type": "display_data"
    },
    {
     "data": {
      "text/html": [
       "<pre style=\"white-space:pre;overflow-x:auto;line-height:normal;font-family:Menlo,'DejaVu Sans Mono',consolas,'Courier New',monospace\"><span style=\"font-weight: bold\"> Trainable params: </span><span style=\"color: #00af00; text-decoration-color: #00af00\">10,717</span> (41.86 KB)\n",
       "</pre>\n"
      ],
      "text/plain": [
       "\u001b[1m Trainable params: \u001b[0m\u001b[38;5;34m10,717\u001b[0m (41.86 KB)\n"
      ]
     },
     "metadata": {},
     "output_type": "display_data"
    },
    {
     "data": {
      "text/html": [
       "<pre style=\"white-space:pre;overflow-x:auto;line-height:normal;font-family:Menlo,'DejaVu Sans Mono',consolas,'Courier New',monospace\"><span style=\"font-weight: bold\"> Non-trainable params: </span><span style=\"color: #00af00; text-decoration-color: #00af00\">30</span> (120.00 B)\n",
       "</pre>\n"
      ],
      "text/plain": [
       "\u001b[1m Non-trainable params: \u001b[0m\u001b[38;5;34m30\u001b[0m (120.00 B)\n"
      ]
     },
     "metadata": {},
     "output_type": "display_data"
    }
   ],
   "source": [
    "# Get the top 2 models.\n",
    "models = tuner.get_best_models(num_models=2)\n",
    "best_model = models[0]\n",
    "best_model.summary()"
   ]
  },
  {
   "cell_type": "code",
   "execution_count": 206,
   "metadata": {},
   "outputs": [
    {
     "data": {
      "application/vnd.microsoft.datawrangler.viewer.v0+json": {
       "columns": [
        {
         "name": "index",
         "rawType": "int64",
         "type": "integer"
        },
        {
         "name": "Hyperparameter",
         "rawType": "object",
         "type": "string"
        },
        {
         "name": "Value",
         "rawType": "object",
         "type": "unknown"
        }
       ],
       "conversionMethod": "pd.DataFrame",
       "ref": "8c3d8b4f-179f-408b-aed5-7c096ad6eca1",
       "rows": [
        [
         "0",
         "bn_momentum",
         "0.9"
        ],
        [
         "1",
         "units",
         "128"
        ],
        [
         "2",
         "activation",
         "relu"
        ],
        [
         "3",
         "l1",
         "0.0"
        ],
        [
         "4",
         "dropout",
         "True"
        ],
        [
         "5",
         "num_layers",
         "3"
        ],
        [
         "6",
         "units_1",
         "46"
        ],
        [
         "7",
         "activation_0",
         "tanh"
        ],
        [
         "8",
         "lr",
         "0.0009730546622782074"
        ],
        [
         "9",
         "momentum",
         "0.7000000000000001"
        ],
        [
         "10",
         "optimizer",
         "sgd"
        ],
        [
         "11",
         "leaky_relu_slope",
         "0.4"
        ],
        [
         "12",
         "units_2",
         "30"
        ],
        [
         "13",
         "activation_1",
         "relu"
        ],
        [
         "14",
         "units_3",
         "38"
        ],
        [
         "15",
         "activation_2",
         "relu"
        ],
        [
         "16",
         "units_4",
         "106"
        ],
        [
         "17",
         "activation_3",
         "LeakyReLU"
        ],
        [
         "18",
         "dropout_rate",
         "0.4"
        ]
       ],
       "shape": {
        "columns": 2,
        "rows": 19
       }
      },
      "text/html": [
       "<div>\n",
       "<style scoped>\n",
       "    .dataframe tbody tr th:only-of-type {\n",
       "        vertical-align: middle;\n",
       "    }\n",
       "\n",
       "    .dataframe tbody tr th {\n",
       "        vertical-align: top;\n",
       "    }\n",
       "\n",
       "    .dataframe thead th {\n",
       "        text-align: right;\n",
       "    }\n",
       "</style>\n",
       "<table border=\"1\" class=\"dataframe\">\n",
       "  <thead>\n",
       "    <tr style=\"text-align: right;\">\n",
       "      <th></th>\n",
       "      <th>Hyperparameter</th>\n",
       "      <th>Value</th>\n",
       "    </tr>\n",
       "  </thead>\n",
       "  <tbody>\n",
       "    <tr>\n",
       "      <th>0</th>\n",
       "      <td>bn_momentum</td>\n",
       "      <td>0.9</td>\n",
       "    </tr>\n",
       "    <tr>\n",
       "      <th>1</th>\n",
       "      <td>units</td>\n",
       "      <td>128</td>\n",
       "    </tr>\n",
       "    <tr>\n",
       "      <th>2</th>\n",
       "      <td>activation</td>\n",
       "      <td>relu</td>\n",
       "    </tr>\n",
       "    <tr>\n",
       "      <th>3</th>\n",
       "      <td>l1</td>\n",
       "      <td>0.0</td>\n",
       "    </tr>\n",
       "    <tr>\n",
       "      <th>4</th>\n",
       "      <td>dropout</td>\n",
       "      <td>True</td>\n",
       "    </tr>\n",
       "    <tr>\n",
       "      <th>5</th>\n",
       "      <td>num_layers</td>\n",
       "      <td>3</td>\n",
       "    </tr>\n",
       "    <tr>\n",
       "      <th>6</th>\n",
       "      <td>units_1</td>\n",
       "      <td>46</td>\n",
       "    </tr>\n",
       "    <tr>\n",
       "      <th>7</th>\n",
       "      <td>activation_0</td>\n",
       "      <td>tanh</td>\n",
       "    </tr>\n",
       "    <tr>\n",
       "      <th>8</th>\n",
       "      <td>lr</td>\n",
       "      <td>0.000973</td>\n",
       "    </tr>\n",
       "    <tr>\n",
       "      <th>9</th>\n",
       "      <td>momentum</td>\n",
       "      <td>0.7</td>\n",
       "    </tr>\n",
       "    <tr>\n",
       "      <th>10</th>\n",
       "      <td>optimizer</td>\n",
       "      <td>sgd</td>\n",
       "    </tr>\n",
       "    <tr>\n",
       "      <th>11</th>\n",
       "      <td>leaky_relu_slope</td>\n",
       "      <td>0.4</td>\n",
       "    </tr>\n",
       "    <tr>\n",
       "      <th>12</th>\n",
       "      <td>units_2</td>\n",
       "      <td>30</td>\n",
       "    </tr>\n",
       "    <tr>\n",
       "      <th>13</th>\n",
       "      <td>activation_1</td>\n",
       "      <td>relu</td>\n",
       "    </tr>\n",
       "    <tr>\n",
       "      <th>14</th>\n",
       "      <td>units_3</td>\n",
       "      <td>38</td>\n",
       "    </tr>\n",
       "    <tr>\n",
       "      <th>15</th>\n",
       "      <td>activation_2</td>\n",
       "      <td>relu</td>\n",
       "    </tr>\n",
       "    <tr>\n",
       "      <th>16</th>\n",
       "      <td>units_4</td>\n",
       "      <td>106</td>\n",
       "    </tr>\n",
       "    <tr>\n",
       "      <th>17</th>\n",
       "      <td>activation_3</td>\n",
       "      <td>LeakyReLU</td>\n",
       "    </tr>\n",
       "    <tr>\n",
       "      <th>18</th>\n",
       "      <td>dropout_rate</td>\n",
       "      <td>0.4</td>\n",
       "    </tr>\n",
       "  </tbody>\n",
       "</table>\n",
       "</div>"
      ],
      "text/plain": [
       "      Hyperparameter      Value\n",
       "0        bn_momentum        0.9\n",
       "1              units        128\n",
       "2         activation       relu\n",
       "3                 l1        0.0\n",
       "4            dropout       True\n",
       "5         num_layers          3\n",
       "6            units_1         46\n",
       "7       activation_0       tanh\n",
       "8                 lr   0.000973\n",
       "9           momentum        0.7\n",
       "10         optimizer        sgd\n",
       "11  leaky_relu_slope        0.4\n",
       "12           units_2         30\n",
       "13      activation_1       relu\n",
       "14           units_3         38\n",
       "15      activation_2       relu\n",
       "16           units_4        106\n",
       "17      activation_3  LeakyReLU\n",
       "18      dropout_rate        0.4"
      ]
     },
     "execution_count": 206,
     "metadata": {},
     "output_type": "execute_result"
    }
   ],
   "source": [
    "# Getting the best hyperparameters\n",
    "best_hps = tuner.get_best_hyperparameters(1)[0]\n",
    "# Making dataframe to show the best hyperparameters\n",
    "best_hps_dict = best_hps.values\n",
    "best_hps_df = pd.DataFrame(best_hps_dict.items(), columns=['Hyperparameter', 'Value'])\n",
    "best_hps_df"
   ]
  },
  {
   "cell_type": "code",
   "execution_count": 207,
   "metadata": {},
   "outputs": [
    {
     "data": {
      "application/vnd.microsoft.datawrangler.viewer.v0+json": {
       "columns": [
        {
         "name": "index",
         "rawType": "int64",
         "type": "integer"
        },
        {
         "name": "Diabetes",
         "rawType": "int32",
         "type": "integer"
        },
        {
         "name": "HighBP",
         "rawType": "int32",
         "type": "integer"
        },
        {
         "name": "HighChol",
         "rawType": "int32",
         "type": "integer"
        },
        {
         "name": "BMI",
         "rawType": "int32",
         "type": "integer"
        },
        {
         "name": "Stroke",
         "rawType": "int32",
         "type": "integer"
        },
        {
         "name": "HeartDiseaseorAttack",
         "rawType": "int32",
         "type": "integer"
        },
        {
         "name": "PhysActivity",
         "rawType": "int32",
         "type": "integer"
        },
        {
         "name": "HvyAlcoholConsump",
         "rawType": "int32",
         "type": "integer"
        },
        {
         "name": "AnyHealthcare",
         "rawType": "int32",
         "type": "integer"
        },
        {
         "name": "GenHlth",
         "rawType": "int32",
         "type": "integer"
        },
        {
         "name": "PhysHlth",
         "rawType": "int32",
         "type": "integer"
        },
        {
         "name": "DiffWalk",
         "rawType": "int32",
         "type": "integer"
        },
        {
         "name": "Sex",
         "rawType": "int32",
         "type": "integer"
        },
        {
         "name": "Age",
         "rawType": "int32",
         "type": "integer"
        },
        {
         "name": "Education",
         "rawType": "int32",
         "type": "integer"
        },
        {
         "name": "Income",
         "rawType": "int32",
         "type": "integer"
        }
       ],
       "conversionMethod": "pd.DataFrame",
       "ref": "96cd4e65-e578-4267-93f6-8322d48c372b",
       "rows": [
        [
         "0",
         "0",
         "1",
         "1",
         "40",
         "0",
         "0",
         "0",
         "0",
         "1",
         "5",
         "15",
         "1",
         "0",
         "9",
         "4",
         "3"
        ],
        [
         "1",
         "0",
         "0",
         "0",
         "25",
         "0",
         "0",
         "1",
         "0",
         "0",
         "3",
         "0",
         "0",
         "0",
         "7",
         "6",
         "1"
        ],
        [
         "2",
         "0",
         "1",
         "1",
         "28",
         "0",
         "0",
         "0",
         "0",
         "1",
         "5",
         "30",
         "1",
         "0",
         "9",
         "4",
         "8"
        ],
        [
         "3",
         "0",
         "1",
         "0",
         "27",
         "0",
         "0",
         "1",
         "0",
         "1",
         "2",
         "0",
         "0",
         "0",
         "11",
         "3",
         "6"
        ],
        [
         "4",
         "0",
         "1",
         "1",
         "24",
         "0",
         "0",
         "1",
         "0",
         "1",
         "2",
         "0",
         "0",
         "0",
         "11",
         "5",
         "4"
        ]
       ],
       "shape": {
        "columns": 16,
        "rows": 5
       }
      },
      "text/html": [
       "<div>\n",
       "<style scoped>\n",
       "    .dataframe tbody tr th:only-of-type {\n",
       "        vertical-align: middle;\n",
       "    }\n",
       "\n",
       "    .dataframe tbody tr th {\n",
       "        vertical-align: top;\n",
       "    }\n",
       "\n",
       "    .dataframe thead th {\n",
       "        text-align: right;\n",
       "    }\n",
       "</style>\n",
       "<table border=\"1\" class=\"dataframe\">\n",
       "  <thead>\n",
       "    <tr style=\"text-align: right;\">\n",
       "      <th></th>\n",
       "      <th>Diabetes</th>\n",
       "      <th>HighBP</th>\n",
       "      <th>HighChol</th>\n",
       "      <th>BMI</th>\n",
       "      <th>Stroke</th>\n",
       "      <th>HeartDiseaseorAttack</th>\n",
       "      <th>PhysActivity</th>\n",
       "      <th>HvyAlcoholConsump</th>\n",
       "      <th>AnyHealthcare</th>\n",
       "      <th>GenHlth</th>\n",
       "      <th>PhysHlth</th>\n",
       "      <th>DiffWalk</th>\n",
       "      <th>Sex</th>\n",
       "      <th>Age</th>\n",
       "      <th>Education</th>\n",
       "      <th>Income</th>\n",
       "    </tr>\n",
       "  </thead>\n",
       "  <tbody>\n",
       "    <tr>\n",
       "      <th>0</th>\n",
       "      <td>0</td>\n",
       "      <td>1</td>\n",
       "      <td>1</td>\n",
       "      <td>40</td>\n",
       "      <td>0</td>\n",
       "      <td>0</td>\n",
       "      <td>0</td>\n",
       "      <td>0</td>\n",
       "      <td>1</td>\n",
       "      <td>5</td>\n",
       "      <td>15</td>\n",
       "      <td>1</td>\n",
       "      <td>0</td>\n",
       "      <td>9</td>\n",
       "      <td>4</td>\n",
       "      <td>3</td>\n",
       "    </tr>\n",
       "    <tr>\n",
       "      <th>1</th>\n",
       "      <td>0</td>\n",
       "      <td>0</td>\n",
       "      <td>0</td>\n",
       "      <td>25</td>\n",
       "      <td>0</td>\n",
       "      <td>0</td>\n",
       "      <td>1</td>\n",
       "      <td>0</td>\n",
       "      <td>0</td>\n",
       "      <td>3</td>\n",
       "      <td>0</td>\n",
       "      <td>0</td>\n",
       "      <td>0</td>\n",
       "      <td>7</td>\n",
       "      <td>6</td>\n",
       "      <td>1</td>\n",
       "    </tr>\n",
       "    <tr>\n",
       "      <th>2</th>\n",
       "      <td>0</td>\n",
       "      <td>1</td>\n",
       "      <td>1</td>\n",
       "      <td>28</td>\n",
       "      <td>0</td>\n",
       "      <td>0</td>\n",
       "      <td>0</td>\n",
       "      <td>0</td>\n",
       "      <td>1</td>\n",
       "      <td>5</td>\n",
       "      <td>30</td>\n",
       "      <td>1</td>\n",
       "      <td>0</td>\n",
       "      <td>9</td>\n",
       "      <td>4</td>\n",
       "      <td>8</td>\n",
       "    </tr>\n",
       "    <tr>\n",
       "      <th>3</th>\n",
       "      <td>0</td>\n",
       "      <td>1</td>\n",
       "      <td>0</td>\n",
       "      <td>27</td>\n",
       "      <td>0</td>\n",
       "      <td>0</td>\n",
       "      <td>1</td>\n",
       "      <td>0</td>\n",
       "      <td>1</td>\n",
       "      <td>2</td>\n",
       "      <td>0</td>\n",
       "      <td>0</td>\n",
       "      <td>0</td>\n",
       "      <td>11</td>\n",
       "      <td>3</td>\n",
       "      <td>6</td>\n",
       "    </tr>\n",
       "    <tr>\n",
       "      <th>4</th>\n",
       "      <td>0</td>\n",
       "      <td>1</td>\n",
       "      <td>1</td>\n",
       "      <td>24</td>\n",
       "      <td>0</td>\n",
       "      <td>0</td>\n",
       "      <td>1</td>\n",
       "      <td>0</td>\n",
       "      <td>1</td>\n",
       "      <td>2</td>\n",
       "      <td>0</td>\n",
       "      <td>0</td>\n",
       "      <td>0</td>\n",
       "      <td>11</td>\n",
       "      <td>5</td>\n",
       "      <td>4</td>\n",
       "    </tr>\n",
       "  </tbody>\n",
       "</table>\n",
       "</div>"
      ],
      "text/plain": [
       "   Diabetes  HighBP  HighChol  BMI  Stroke  HeartDiseaseorAttack  \\\n",
       "0         0       1         1   40       0                     0   \n",
       "1         0       0         0   25       0                     0   \n",
       "2         0       1         1   28       0                     0   \n",
       "3         0       1         0   27       0                     0   \n",
       "4         0       1         1   24       0                     0   \n",
       "\n",
       "   PhysActivity  HvyAlcoholConsump  AnyHealthcare  GenHlth  PhysHlth  \\\n",
       "0             0                  0              1        5        15   \n",
       "1             1                  0              0        3         0   \n",
       "2             0                  0              1        5        30   \n",
       "3             1                  0              1        2         0   \n",
       "4             1                  0              1        2         0   \n",
       "\n",
       "   DiffWalk  Sex  Age  Education  Income  \n",
       "0         1    0    9          4       3  \n",
       "1         0    0    7          6       1  \n",
       "2         1    0    9          4       8  \n",
       "3         0    0   11          3       6  \n",
       "4         0    0   11          5       4  "
      ]
     },
     "execution_count": 207,
     "metadata": {},
     "output_type": "execute_result"
    }
   ],
   "source": [
    "df.head()"
   ]
  },
  {
   "cell_type": "code",
   "execution_count": 254,
   "metadata": {},
   "outputs": [],
   "source": [
    "category = ['HighBP', 'HighChol','Stroke', 'PhysActivity',  'HeartDiseaseorAttack', 'HvyAlcoholConsump', 'AnyHealthcare', 'GenHlth', 'PhysHlth', 'DiffWalk', 'Sex']"
   ]
  },
  {
   "cell_type": "code",
   "execution_count": 255,
   "metadata": {},
   "outputs": [],
   "source": [
    "from keras.layers import LeakyReLU\n",
    "# Dictionary of classification models\n",
    "models = {\n",
    "    \"Logistic Regression\": LogisticRegression(C=0.5, solver='saga', max_iter=1000, multi_class='multinomial', n_jobs=-1),\n",
    "    \"Random Forest Classifier\": RandomForestClassifier(n_estimators=500, max_depth=15, min_samples_split=5, max_features='sqrt'),\n",
    "    \"SVC\": SVC(C=5, kernel='rbf', probability=True, cache_size=1000, max_iter=5000),\n",
    "    \"KNN\": KNeighborsClassifier(n_neighbors=20, weights='distance', algorithm='auto',n_jobs=-1),    \n",
    "    \"MLP Classifier\": MLPClassifier(hidden_layer_sizes=(256, 128, 64), activation='relu', solver='adam', \n",
    "                                    early_stopping=True, alpha=0.0005, learning_rate_init=0.01, max_iter=1000),\n",
    "    \"Decision Tree\": DecisionTreeClassifier(max_depth=15, min_samples_split=20, min_samples_leaf=10),\n",
    "    \"Extra Trees Classifier\": ExtraTreesClassifier(n_estimators=600, max_depth=25, min_samples_split=5, max_features='sqrt', n_jobs=-1),\n",
    "    #\"Gradient Boosting Classifier\": GradientBoostingClassifier(n_estimators=600, learning_rate=0.01, max_depth=15),\n",
    "    \"XGBoost\": xgb.XGBClassifier(n_estimators=600, learning_rate=0.01, max_depth=15, \n",
    "                                 use_label_encoder=False, enable_categorical=True, objective='multi:softprobar', num_class=len(X.columns)), \n",
    "    \"LightGBM\": lgb.LGBMClassifier(n_estimators=500, learning_rate=0.01, max_depth=12, verbose=0, objective='multiclass'),\n",
    "    \"CatBoost\": cb.CatBoostClassifier(n_estimators=600, learning_rate=0.01, depth=6, verbose=0),\n",
    "    \"Neural Network\": keras.models.Sequential([\n",
    "         keras.Input(shape=(len(X.columns),)),\n",
    "         layers.BatchNormalization( momentum=0.9),\n",
    "         layers.Dense(128, activation='relu'),\n",
    "         layers.BatchNormalization(momentum=0.9),\n",
    "         layers.Dense(46, activation='tanh'),  \n",
    "         layers.BatchNormalization( momentum=0.9),\n",
    "         layers.Dense(30, activation='relu'),\n",
    "         layers.BatchNormalization(momentum=0.9),\n",
    "         layers.Dense(30, activation='relu'),\n",
    "         layers.BatchNormalization(momentum=0.9),      \n",
    "         layers.Dense(106, activation=LeakyReLU(negative_slope=0.4)),\n",
    "         layers.BatchNormalization(momentum=0.9),\n",
    "         layers.Dense(len(categories), activation='softmax')])\n",
    "}"
   ]
  },
  {
   "cell_type": "code",
   "execution_count": 256,
   "metadata": {},
   "outputs": [
    {
     "name": "stdout",
     "output_type": "stream",
     "text": [
      "Starting ... Logistic Regression\n"
     ]
    },
    {
     "name": "stderr",
     "output_type": "stream",
     "text": [
      "c:\\Users\\murta\\Desktop\\Desktop\\ML&DE\\Fourth_Semester\\Advanced_ML\\.venv\\lib\\site-packages\\sklearn\\linear_model\\_logistic.py:1247: FutureWarning: 'multi_class' was deprecated in version 1.5 and will be removed in 1.7. From then on, it will always use 'multinomial'. Leave it to its default value to avoid this warning.\n",
      "  warnings.warn(\n"
     ]
    },
    {
     "name": "stdout",
     "output_type": "stream",
     "text": [
      "Starting ... Random Forest Classifier\n",
      "Starting ... SVC\n",
      "Starting ... KNN\n",
      "Starting ... MLP Classifier\n",
      "Starting ... Decision Tree\n",
      "Starting ... Extra Trees Classifier\n",
      "Starting ... XGBoost\n"
     ]
    },
    {
     "name": "stderr",
     "output_type": "stream",
     "text": [
      "c:\\Users\\murta\\Desktop\\Desktop\\ML&DE\\Fourth_Semester\\Advanced_ML\\.venv\\lib\\site-packages\\xgboost\\core.py:158: UserWarning: [14:39:28] WARNING: C:\\buildkite-agent\\builds\\buildkite-windows-cpu-autoscaling-group-i-0c55ff5f71b100e98-1\\xgboost\\xgboost-ci-windows\\src\\learner.cc:740: \n",
      "Parameters: { \"use_label_encoder\" } are not used.\n",
      "\n",
      "  warnings.warn(smsg, UserWarning)\n"
     ]
    },
    {
     "name": "stdout",
     "output_type": "stream",
     "text": [
      "Starting ... LightGBM\n",
      "Starting ... CatBoost\n",
      "Starting ... Neural Network\n",
      "\u001b[1m66/66\u001b[0m \u001b[32m━━━━━━━━━━━━━━━━━━━━\u001b[0m\u001b[37m\u001b[0m \u001b[1m0s\u001b[0m 5ms/step\n"
     ]
    }
   ],
   "source": [
    "# Creating a list to store the results\n",
    "results = []\n",
    "# for each model\n",
    "for name, model in models.items():\n",
    "    print(\"Starting ... \" + name)\n",
    "    model.random_state = 78\n",
    "\n",
    "    start = time.time()\n",
    "\n",
    "    if name == 'Neural Network':\n",
    "        model.compile(optimizer=keras.optimizers.SGD(learning_rate=0.0009730546622782074), loss='categorical_crossentropy', metrics=['accuracy']) \n",
    "        early_stop = keras.callbacks.EarlyStopping(patience=10, monitor='val_loss', mode='min', restore_best_weights=True)\n",
    "        model.fit(X_train_scaled, y_train_n, validation_data=(X_val_scaled, y_val_n), callbacks=[early_stop], epochs=500, batch_size=65, verbose=0)\n",
    "        predictions = model.predict(X_test_scaled)\n",
    "        predictions = np.argmax(predictions, axis=1)\n",
    "        y_test_n = np.argmax(y_test_n, axis=1)\n",
    "        accuracy = accuracy_score(y_test_n, predictions)\n",
    "        precision = precision_score(y_test_n, predictions, average=\"macro\")\n",
    "        recall = recall_score(y_test_n, predictions, average=\"macro\")\n",
    "        f1 = f1_score(y_test_n, predictions, average=\"macro\")\n",
    "\n",
    "    elif name in ['SVR', 'KNN', 'MLP Classifier']:\n",
    "        model.fit(X_train_scaled, y_train)\n",
    "        predictions = model.predict(X_test_scaled)\n",
    "        probability = model.predict_proba(X_test_scaled) if hasattr(model, \"predict_proba\") else None\n",
    "\n",
    "    elif name == 'CatBoost':\n",
    "        model.fit(X_train, y_train, cat_features=category)\n",
    "        predictions = model.predict(X_test)\n",
    "        probability = model.predict_proba(X_test)\n",
    "\n",
    "    else:\n",
    "        model.fit(X_train, y_train)\n",
    "        predictions = model.predict(X_test)\n",
    "        probability = model.predict_proba(X_test) if hasattr(model, \"predict_proba\") else None\n",
    "\n",
    "    end = time.time()\n",
    "    Train_Time = round(end - start, 2)\n",
    "    # calculate the metrics\n",
    "    mae = mean_absolute_error(y_test, predictions)\n",
    "    mse = mean_squared_error(y_test, predictions)\n",
    "    r2 = r2_score(y_test, predictions)\n",
    "\n",
    "    # Calculate metrics for current model in training\n",
    "    accuracy = accuracy_score(y_test, predictions)\n",
    "    precision = precision_score(y_test, predictions, average=\"macro\")\n",
    "    recall = recall_score(y_test, predictions, average=\"macro\")\n",
    "    f1 = f1_score(y_test, predictions, average=\"macro\")\n",
    "\n",
    "    # ROC AUC\n",
    "    if probability is not None:\n",
    "        y_test_bin = label_binarize(y_test, classes=[0, 1, 2])\n",
    "        roc_auc = roc_auc_score(y_test, probability, multi_class='ovr')\n",
    "    else:\n",
    "        roc_auc = np.nan\n",
    "\n",
    "    # save the metrics for this model into results\n",
    "    results.append([name, accuracy, precision, recall, f1, roc_auc, Train_Time])"
   ]
  },
  {
   "cell_type": "code",
   "execution_count": 259,
   "metadata": {},
   "outputs": [
    {
     "data": {
      "application/vnd.microsoft.datawrangler.viewer.v0+json": {
       "columns": [
        {
         "name": "index",
         "rawType": "int64",
         "type": "integer"
        },
        {
         "name": "Model",
         "rawType": "object",
         "type": "string"
        },
        {
         "name": "Accuracy",
         "rawType": "float64",
         "type": "float"
        },
        {
         "name": "Precision",
         "rawType": "float64",
         "type": "float"
        },
        {
         "name": "Recall",
         "rawType": "float64",
         "type": "float"
        },
        {
         "name": "F1",
         "rawType": "float64",
         "type": "float"
        },
        {
         "name": "ROC AUC",
         "rawType": "float64",
         "type": "float"
        },
        {
         "name": "Time",
         "rawType": "float64",
         "type": "float"
        }
       ],
       "conversionMethod": "pd.DataFrame",
       "ref": "fc086f55-4ec8-4e61-a234-6f3644396a2d",
       "rows": [
        [
         "2",
         "SVC",
         "0.5158349328214972",
         "0.5113168362128829",
         "0.5136627323898387",
         "0.5119668032020578",
         "0.6903513476408794",
         "24.69"
        ],
        [
         "10",
         "Neural Network",
         "0.5115163147792706",
         "0.5062383122847468",
         "0.5086103718779924",
         "0.5046182249567285",
         "0.6939328337140213",
         "68.31"
        ],
        [
         "0",
         "Logistic Regression",
         "0.5100767754318618",
         "0.49878806302882905",
         "0.5073381594798607",
         "0.4996309550549656",
         "0.6898429183084566",
         "2.6"
        ],
        [
         "1",
         "Random Forest Classifier",
         "0.5038387715930902",
         "0.49612171341349304",
         "0.5012493227342135",
         "0.4975272372426738",
         "0.6800411278356938",
         "4.96"
        ],
        [
         "8",
         "LightGBM",
         "0.503358925143954",
         "0.4955198098980944",
         "0.5005939098825481",
         "0.4959086246248507",
         "0.6900428298104462",
         "1.06"
        ],
        [
         "9",
         "CatBoost",
         "0.5",
         "0.4894386362749252",
         "0.4969671568590474",
         "0.4906245018404103",
         "0.6939328337140213",
         "48.18"
        ],
        [
         "6",
         "Extra Trees Classifier",
         "0.48272552783109407",
         "0.47840604605402604",
         "0.48060896671243225",
         "0.4789430319933022",
         "0.6587603410052444",
         "3.4"
        ],
        [
         "4",
         "MLP Classifier",
         "0.4980806142034549",
         "0.4772113074806477",
         "0.4938411564192274",
         "0.47305357369798684",
         "0.6820722524541344",
         "13.0"
        ],
        [
         "5",
         "Decision Tree",
         "0.47024952015355087",
         "0.4653755954958207",
         "0.4686152068678237",
         "0.46677265720687106",
         "0.6419245758370613",
         "0.03"
        ],
        [
         "3",
         "KNN",
         "0.4678502879078695",
         "0.46304369614465873",
         "0.4655840260768926",
         "0.4632466853403941",
         "0.6400310174637922",
         "0.38"
        ],
        [
         "7",
         "XGBoost",
         "0.45393474088291746",
         "0.45372860570397416",
         "0.452489898023347",
         "0.45294984028073787",
         "0.6408510416338502",
         "18.72"
        ]
       ],
       "shape": {
        "columns": 7,
        "rows": 11
       }
      },
      "text/html": [
       "<div>\n",
       "<style scoped>\n",
       "    .dataframe tbody tr th:only-of-type {\n",
       "        vertical-align: middle;\n",
       "    }\n",
       "\n",
       "    .dataframe tbody tr th {\n",
       "        vertical-align: top;\n",
       "    }\n",
       "\n",
       "    .dataframe thead th {\n",
       "        text-align: right;\n",
       "    }\n",
       "</style>\n",
       "<table border=\"1\" class=\"dataframe\">\n",
       "  <thead>\n",
       "    <tr style=\"text-align: right;\">\n",
       "      <th></th>\n",
       "      <th>Model</th>\n",
       "      <th>Accuracy</th>\n",
       "      <th>Precision</th>\n",
       "      <th>Recall</th>\n",
       "      <th>F1</th>\n",
       "      <th>ROC AUC</th>\n",
       "      <th>Time</th>\n",
       "    </tr>\n",
       "  </thead>\n",
       "  <tbody>\n",
       "    <tr>\n",
       "      <th>2</th>\n",
       "      <td>SVC</td>\n",
       "      <td>0.515835</td>\n",
       "      <td>0.511317</td>\n",
       "      <td>0.513663</td>\n",
       "      <td>0.511967</td>\n",
       "      <td>0.690351</td>\n",
       "      <td>24.69</td>\n",
       "    </tr>\n",
       "    <tr>\n",
       "      <th>10</th>\n",
       "      <td>Neural Network</td>\n",
       "      <td>0.511516</td>\n",
       "      <td>0.506238</td>\n",
       "      <td>0.508610</td>\n",
       "      <td>0.504618</td>\n",
       "      <td>0.693933</td>\n",
       "      <td>68.31</td>\n",
       "    </tr>\n",
       "    <tr>\n",
       "      <th>0</th>\n",
       "      <td>Logistic Regression</td>\n",
       "      <td>0.510077</td>\n",
       "      <td>0.498788</td>\n",
       "      <td>0.507338</td>\n",
       "      <td>0.499631</td>\n",
       "      <td>0.689843</td>\n",
       "      <td>2.60</td>\n",
       "    </tr>\n",
       "    <tr>\n",
       "      <th>1</th>\n",
       "      <td>Random Forest Classifier</td>\n",
       "      <td>0.503839</td>\n",
       "      <td>0.496122</td>\n",
       "      <td>0.501249</td>\n",
       "      <td>0.497527</td>\n",
       "      <td>0.680041</td>\n",
       "      <td>4.96</td>\n",
       "    </tr>\n",
       "    <tr>\n",
       "      <th>8</th>\n",
       "      <td>LightGBM</td>\n",
       "      <td>0.503359</td>\n",
       "      <td>0.495520</td>\n",
       "      <td>0.500594</td>\n",
       "      <td>0.495909</td>\n",
       "      <td>0.690043</td>\n",
       "      <td>1.06</td>\n",
       "    </tr>\n",
       "    <tr>\n",
       "      <th>9</th>\n",
       "      <td>CatBoost</td>\n",
       "      <td>0.500000</td>\n",
       "      <td>0.489439</td>\n",
       "      <td>0.496967</td>\n",
       "      <td>0.490625</td>\n",
       "      <td>0.693933</td>\n",
       "      <td>48.18</td>\n",
       "    </tr>\n",
       "    <tr>\n",
       "      <th>6</th>\n",
       "      <td>Extra Trees Classifier</td>\n",
       "      <td>0.482726</td>\n",
       "      <td>0.478406</td>\n",
       "      <td>0.480609</td>\n",
       "      <td>0.478943</td>\n",
       "      <td>0.658760</td>\n",
       "      <td>3.40</td>\n",
       "    </tr>\n",
       "    <tr>\n",
       "      <th>4</th>\n",
       "      <td>MLP Classifier</td>\n",
       "      <td>0.498081</td>\n",
       "      <td>0.477211</td>\n",
       "      <td>0.493841</td>\n",
       "      <td>0.473054</td>\n",
       "      <td>0.682072</td>\n",
       "      <td>13.00</td>\n",
       "    </tr>\n",
       "    <tr>\n",
       "      <th>5</th>\n",
       "      <td>Decision Tree</td>\n",
       "      <td>0.470250</td>\n",
       "      <td>0.465376</td>\n",
       "      <td>0.468615</td>\n",
       "      <td>0.466773</td>\n",
       "      <td>0.641925</td>\n",
       "      <td>0.03</td>\n",
       "    </tr>\n",
       "    <tr>\n",
       "      <th>3</th>\n",
       "      <td>KNN</td>\n",
       "      <td>0.467850</td>\n",
       "      <td>0.463044</td>\n",
       "      <td>0.465584</td>\n",
       "      <td>0.463247</td>\n",
       "      <td>0.640031</td>\n",
       "      <td>0.38</td>\n",
       "    </tr>\n",
       "    <tr>\n",
       "      <th>7</th>\n",
       "      <td>XGBoost</td>\n",
       "      <td>0.453935</td>\n",
       "      <td>0.453729</td>\n",
       "      <td>0.452490</td>\n",
       "      <td>0.452950</td>\n",
       "      <td>0.640851</td>\n",
       "      <td>18.72</td>\n",
       "    </tr>\n",
       "  </tbody>\n",
       "</table>\n",
       "</div>"
      ],
      "text/plain": [
       "                       Model  Accuracy  Precision    Recall        F1  \\\n",
       "2                        SVC  0.515835   0.511317  0.513663  0.511967   \n",
       "10            Neural Network  0.511516   0.506238  0.508610  0.504618   \n",
       "0        Logistic Regression  0.510077   0.498788  0.507338  0.499631   \n",
       "1   Random Forest Classifier  0.503839   0.496122  0.501249  0.497527   \n",
       "8                   LightGBM  0.503359   0.495520  0.500594  0.495909   \n",
       "9                   CatBoost  0.500000   0.489439  0.496967  0.490625   \n",
       "6     Extra Trees Classifier  0.482726   0.478406  0.480609  0.478943   \n",
       "4             MLP Classifier  0.498081   0.477211  0.493841  0.473054   \n",
       "5              Decision Tree  0.470250   0.465376  0.468615  0.466773   \n",
       "3                        KNN  0.467850   0.463044  0.465584  0.463247   \n",
       "7                    XGBoost  0.453935   0.453729  0.452490  0.452950   \n",
       "\n",
       "     ROC AUC   Time  \n",
       "2   0.690351  24.69  \n",
       "10  0.693933  68.31  \n",
       "0   0.689843   2.60  \n",
       "1   0.680041   4.96  \n",
       "8   0.690043   1.06  \n",
       "9   0.693933  48.18  \n",
       "6   0.658760   3.40  \n",
       "4   0.682072  13.00  \n",
       "5   0.641925   0.03  \n",
       "3   0.640031   0.38  \n",
       "7   0.640851  18.72  "
      ]
     },
     "execution_count": 259,
     "metadata": {},
     "output_type": "execute_result"
    }
   ],
   "source": [
    "results_df = pd.DataFrame(results, columns=['Model', 'Accuracy', \"Precision\", \"Recall\", \"F1\", \"ROC AUC\", 'Time'])\n",
    "results_df.sort_values('F1', ascending=False)   "
   ]
  }
 ],
 "metadata": {
  "kernelspec": {
   "display_name": ".venv",
   "language": "python",
   "name": "python3"
  },
  "language_info": {
   "codemirror_mode": {
    "name": "ipython",
    "version": 3
   },
   "file_extension": ".py",
   "mimetype": "text/x-python",
   "name": "python",
   "nbconvert_exporter": "python",
   "pygments_lexer": "ipython3",
   "version": "3.10.11"
  }
 },
 "nbformat": 4,
 "nbformat_minor": 2
}
