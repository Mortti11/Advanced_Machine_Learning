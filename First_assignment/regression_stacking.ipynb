{
 "cells": [
  {
   "cell_type": "code",
   "execution_count": 38,
   "metadata": {},
   "outputs": [],
   "source": [
    "import numpy as np\n",
    "import pandas as pd\n",
    "import seaborn as sns\n",
    "\n",
    "from sklearn.linear_model import LinearRegression\n",
    "from sklearn.model_selection import train_test_split\n",
    "from sklearn.metrics import mean_absolute_error, mean_squared_error, r2_score\n",
    "from sklearn.preprocessing import StandardScaler, MinMaxScaler\n",
    "\n",
    "\n",
    "import xgboost as xgb\n",
    "import lightgbm as lgb\n",
    "import catboost as cb\n",
    "\n",
    "from sklearn.model_selection import KFold\n",
    "from sklearn.ensemble import StackingRegressor\n",
    "from sklearn.ensemble import ExtraTreesRegressor, GradientBoostingRegressor\n",
    "\n",
    "from tensorflow import keras\n",
    "from keras import layers"
   ]
  },
  {
   "cell_type": "code",
   "execution_count": 39,
   "metadata": {},
   "outputs": [],
   "source": [
    "df = pd.read_csv('dataset_regression/parkinsons_updrs_cleaned.data')"
   ]
  },
  {
   "cell_type": "code",
   "execution_count": 40,
   "metadata": {},
   "outputs": [
    {
     "data": {
      "text/plain": [
       "(2296, 8)"
      ]
     },
     "execution_count": 40,
     "metadata": {},
     "output_type": "execute_result"
    }
   ],
   "source": [
    "df.shape"
   ]
  },
  {
   "cell_type": "code",
   "execution_count": 41,
   "metadata": {},
   "outputs": [],
   "source": [
    "X= df.drop('motor_UPDRS', axis=1)\n",
    "y = df['motor_UPDRS']"
   ]
  },
  {
   "cell_type": "code",
   "execution_count": 42,
   "metadata": {},
   "outputs": [],
   "source": [
    "X_train, X_test, y_train, y_test = train_test_split(X, y, test_size=0.2)"
   ]
  },
  {
   "cell_type": "code",
   "execution_count": 43,
   "metadata": {},
   "outputs": [],
   "source": [
    "meta_model = LinearRegression()\n",
    "\n",
    "# stacking regression algorithm\n",
    "stacking_model = StackingRegressor(\n",
    "    estimators=[\n",
    "        ('Extra Trees Regressor', ExtraTreesRegressor(n_estimators=400, max_depth=20, min_samples_split=2, max_features='sqrt')),\n",
    "        ('Gradient Boosting Regressor', GradientBoostingRegressor(n_estimators=500, learning_rate=0.01, max_depth=10)),\n",
    "        ('XGBoost', xgb.XGBRegressor(n_estimators=400, learning_rate=0.01, max_depth=10)),\n",
    "        ('LightGBM', lgb.LGBMRegressor(n_estimators=500, learning_rate=0.01, max_depth=12, verbose=0)),\n",
    "        ('CatBoost', cb.CatBoostRegressor(n_estimators=400, learning_rate=0.01, depth=6, verbose=0)),\n",
    "        ('Neural Network', keras.models.Sequential([\n",
    "            keras.Input(shape=(X.shape[1],)),\n",
    "            layers.BatchNormalization(),       \n",
    "            layers.Dense(16, activation='relu'),     \n",
    "            layers.BatchNormalization(),\n",
    "            layers.Dense(8, activation='relu'),   \n",
    "            layers.BatchNormalization(),\n",
    "            layers.Dense(22, activation='relu'),\n",
    "            layers.BatchNormalization(),\n",
    "            layers.Dense(1)\n",
    "        ]))\n",
    "    ],\n",
    "    \n",
    "    final_estimator=meta_model, \n",
    "    cv=KFold(n_splits=5, shuffle=True, random_state=42), verbose=2, n_jobs=-1\n",
    ")"
   ]
  },
  {
   "cell_type": "code",
   "execution_count": 44,
   "metadata": {},
   "outputs": [
    {
     "name": "stdout",
     "output_type": "stream",
     "text": [
      "\n",
      "MAE: 2.97\n",
      "MSE: 12.47\n",
      "RMSE: 3.53\n",
      "R2: 0.73\n"
     ]
    }
   ],
   "source": [
    " #fit the model\n",
    "meta_model.fit(X_train, y_train)  \n",
    "\n",
    "# test predictions and metrics\n",
    "predictions = meta_model.predict(X_test)\n",
    "\n",
    "mae = mean_absolute_error(y_test, predictions)\n",
    "mse = mean_squared_error(y_test, predictions)\n",
    "rmse = np.sqrt(mse).round(2)    \n",
    "r2 = r2_score(y_test, predictions)\n",
    "\n",
    "print()\n",
    "print(f\"MAE: {mae:.2f}\")\n",
    "print(f\"MSE: {mse:.2f}\")\n",
    "print(f\"RMSE: {rmse:.2f}\")\n",
    "print(f\"R2: {r2:.2f}\")"
   ]
  },
  {
   "cell_type": "code",
   "execution_count": 45,
   "metadata": {},
   "outputs": [],
   "source": [
    "# Create new dataframe to test the model \n",
    "new_data = pd.DataFrame({\n",
    "    'age': [72],\n",
    "    'HNR': [21.640],    \n",
    "    'RPDE': [0.572],    \n",
    "    'DFA': [0.718],\n",
    "    'PPE': [0.160],\n",
    "    'Jitter_combined': [0.003],\n",
    "    'Shimmer_combined': [0.0256],\n",
    "})  "
   ]
  },
  {
   "cell_type": "code",
   "execution_count": 46,
   "metadata": {},
   "outputs": [
    {
     "name": "stdout",
     "output_type": "stream",
     "text": [
      "Predictions:\n",
      "25.35\n"
     ]
    }
   ],
   "source": [
    "predictions = meta_model.predict(new_data)\n",
    "print(\"Predictions:\")   \n",
    "print(predictions[0].round(2))"
   ]
  }
 ],
 "metadata": {
  "kernelspec": {
   "display_name": ".venv",
   "language": "python",
   "name": "python3"
  },
  "language_info": {
   "codemirror_mode": {
    "name": "ipython",
    "version": 3
   },
   "file_extension": ".py",
   "mimetype": "text/x-python",
   "name": "python",
   "nbconvert_exporter": "python",
   "pygments_lexer": "ipython3",
   "version": "3.10.11"
  }
 },
 "nbformat": 4,
 "nbformat_minor": 2
}
