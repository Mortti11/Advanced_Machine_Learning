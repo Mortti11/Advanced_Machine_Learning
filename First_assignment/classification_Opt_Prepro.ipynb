{
 "cells": [
  {
   "cell_type": "code",
   "execution_count": 520,
   "metadata": {},
   "outputs": [],
   "source": [
    "import pandas as pd\n",
    "import numpy as np\n",
    "import seaborn as sns\n",
    "import matplotlib.pyplot as plt\n",
    "import seaborn as sns\n",
    "\n",
    "\n",
    "from statsmodels.stats.outliers_influence import variance_inflation_factor\n",
    "from sklearn.preprocessing import StandardScaler, MinMaxScaler\n",
    "\n",
    "\n",
    "from scipy.spatial.distance import mahalanobis\n",
    "from imblearn.under_sampling import TomekLinks\n",
    "from sklearn.ensemble import IsolationForest\n",
    "\n",
    "\n",
    "from sklearn.feature_selection import SelectKBest\n",
    "from sklearn.feature_selection import chi2\n",
    "from mlxtend.feature_selection import SequentialFeatureSelector\n",
    "from skfeature.function.similarity_based import fisher_score\n",
    "from sklearn.feature_selection import mutual_info_classif\n",
    "from sklearn.feature_selection import SelectPercentile\n",
    "\n",
    "\n",
    "from sklearn.model_selection import train_test_split"
   ]
  },
  {
   "cell_type": "code",
   "execution_count": 521,
   "metadata": {},
   "outputs": [
    {
     "data": {
      "application/vnd.microsoft.datawrangler.viewer.v0+json": {
       "columns": [
        {
         "name": "index",
         "rawType": "int64",
         "type": "integer"
        },
        {
         "name": "Diabetes_012",
         "rawType": "float64",
         "type": "float"
        },
        {
         "name": "HighBP",
         "rawType": "float64",
         "type": "float"
        },
        {
         "name": "HighChol",
         "rawType": "float64",
         "type": "float"
        },
        {
         "name": "CholCheck",
         "rawType": "float64",
         "type": "float"
        },
        {
         "name": "BMI",
         "rawType": "float64",
         "type": "float"
        },
        {
         "name": "Smoker",
         "rawType": "float64",
         "type": "float"
        },
        {
         "name": "Stroke",
         "rawType": "float64",
         "type": "float"
        },
        {
         "name": "HeartDiseaseorAttack",
         "rawType": "float64",
         "type": "float"
        },
        {
         "name": "PhysActivity",
         "rawType": "float64",
         "type": "float"
        },
        {
         "name": "Fruits",
         "rawType": "float64",
         "type": "float"
        },
        {
         "name": "Veggies",
         "rawType": "float64",
         "type": "float"
        },
        {
         "name": "HvyAlcoholConsump",
         "rawType": "float64",
         "type": "float"
        },
        {
         "name": "AnyHealthcare",
         "rawType": "float64",
         "type": "float"
        },
        {
         "name": "NoDocbcCost",
         "rawType": "float64",
         "type": "float"
        },
        {
         "name": "GenHlth",
         "rawType": "float64",
         "type": "float"
        },
        {
         "name": "MentHlth",
         "rawType": "float64",
         "type": "float"
        },
        {
         "name": "PhysHlth",
         "rawType": "float64",
         "type": "float"
        },
        {
         "name": "DiffWalk",
         "rawType": "float64",
         "type": "float"
        },
        {
         "name": "Sex",
         "rawType": "float64",
         "type": "float"
        },
        {
         "name": "Age",
         "rawType": "float64",
         "type": "float"
        },
        {
         "name": "Education",
         "rawType": "float64",
         "type": "float"
        },
        {
         "name": "Income",
         "rawType": "float64",
         "type": "float"
        }
       ],
       "conversionMethod": "pd.DataFrame",
       "ref": "5e4025bd-86b8-43f6-8de9-b7b3ca21181b",
       "rows": [
        [
         "0",
         "0.0",
         "1.0",
         "1.0",
         "1.0",
         "40.0",
         "1.0",
         "0.0",
         "0.0",
         "0.0",
         "0.0",
         "1.0",
         "0.0",
         "1.0",
         "0.0",
         "5.0",
         "18.0",
         "15.0",
         "1.0",
         "0.0",
         "9.0",
         "4.0",
         "3.0"
        ],
        [
         "1",
         "0.0",
         "0.0",
         "0.0",
         "0.0",
         "25.0",
         "1.0",
         "0.0",
         "0.0",
         "1.0",
         "0.0",
         "0.0",
         "0.0",
         "0.0",
         "1.0",
         "3.0",
         "0.0",
         "0.0",
         "0.0",
         "0.0",
         "7.0",
         "6.0",
         "1.0"
        ],
        [
         "2",
         "0.0",
         "1.0",
         "1.0",
         "1.0",
         "28.0",
         "0.0",
         "0.0",
         "0.0",
         "0.0",
         "1.0",
         "0.0",
         "0.0",
         "1.0",
         "1.0",
         "5.0",
         "30.0",
         "30.0",
         "1.0",
         "0.0",
         "9.0",
         "4.0",
         "8.0"
        ],
        [
         "3",
         "0.0",
         "1.0",
         "0.0",
         "1.0",
         "27.0",
         "0.0",
         "0.0",
         "0.0",
         "1.0",
         "1.0",
         "1.0",
         "0.0",
         "1.0",
         "0.0",
         "2.0",
         "0.0",
         "0.0",
         "0.0",
         "0.0",
         "11.0",
         "3.0",
         "6.0"
        ],
        [
         "4",
         "0.0",
         "1.0",
         "1.0",
         "1.0",
         "24.0",
         "0.0",
         "0.0",
         "0.0",
         "1.0",
         "1.0",
         "1.0",
         "0.0",
         "1.0",
         "0.0",
         "2.0",
         "3.0",
         "0.0",
         "0.0",
         "0.0",
         "11.0",
         "5.0",
         "4.0"
        ]
       ],
       "shape": {
        "columns": 22,
        "rows": 5
       }
      },
      "text/html": [
       "<div>\n",
       "<style scoped>\n",
       "    .dataframe tbody tr th:only-of-type {\n",
       "        vertical-align: middle;\n",
       "    }\n",
       "\n",
       "    .dataframe tbody tr th {\n",
       "        vertical-align: top;\n",
       "    }\n",
       "\n",
       "    .dataframe thead th {\n",
       "        text-align: right;\n",
       "    }\n",
       "</style>\n",
       "<table border=\"1\" class=\"dataframe\">\n",
       "  <thead>\n",
       "    <tr style=\"text-align: right;\">\n",
       "      <th></th>\n",
       "      <th>Diabetes_012</th>\n",
       "      <th>HighBP</th>\n",
       "      <th>HighChol</th>\n",
       "      <th>CholCheck</th>\n",
       "      <th>BMI</th>\n",
       "      <th>Smoker</th>\n",
       "      <th>Stroke</th>\n",
       "      <th>HeartDiseaseorAttack</th>\n",
       "      <th>PhysActivity</th>\n",
       "      <th>Fruits</th>\n",
       "      <th>...</th>\n",
       "      <th>AnyHealthcare</th>\n",
       "      <th>NoDocbcCost</th>\n",
       "      <th>GenHlth</th>\n",
       "      <th>MentHlth</th>\n",
       "      <th>PhysHlth</th>\n",
       "      <th>DiffWalk</th>\n",
       "      <th>Sex</th>\n",
       "      <th>Age</th>\n",
       "      <th>Education</th>\n",
       "      <th>Income</th>\n",
       "    </tr>\n",
       "  </thead>\n",
       "  <tbody>\n",
       "    <tr>\n",
       "      <th>0</th>\n",
       "      <td>0.00</td>\n",
       "      <td>1.00</td>\n",
       "      <td>1.00</td>\n",
       "      <td>1.00</td>\n",
       "      <td>40.00</td>\n",
       "      <td>1.00</td>\n",
       "      <td>0.00</td>\n",
       "      <td>0.00</td>\n",
       "      <td>0.00</td>\n",
       "      <td>0.00</td>\n",
       "      <td>...</td>\n",
       "      <td>1.00</td>\n",
       "      <td>0.00</td>\n",
       "      <td>5.00</td>\n",
       "      <td>18.00</td>\n",
       "      <td>15.00</td>\n",
       "      <td>1.00</td>\n",
       "      <td>0.00</td>\n",
       "      <td>9.00</td>\n",
       "      <td>4.00</td>\n",
       "      <td>3.00</td>\n",
       "    </tr>\n",
       "    <tr>\n",
       "      <th>1</th>\n",
       "      <td>0.00</td>\n",
       "      <td>0.00</td>\n",
       "      <td>0.00</td>\n",
       "      <td>0.00</td>\n",
       "      <td>25.00</td>\n",
       "      <td>1.00</td>\n",
       "      <td>0.00</td>\n",
       "      <td>0.00</td>\n",
       "      <td>1.00</td>\n",
       "      <td>0.00</td>\n",
       "      <td>...</td>\n",
       "      <td>0.00</td>\n",
       "      <td>1.00</td>\n",
       "      <td>3.00</td>\n",
       "      <td>0.00</td>\n",
       "      <td>0.00</td>\n",
       "      <td>0.00</td>\n",
       "      <td>0.00</td>\n",
       "      <td>7.00</td>\n",
       "      <td>6.00</td>\n",
       "      <td>1.00</td>\n",
       "    </tr>\n",
       "    <tr>\n",
       "      <th>2</th>\n",
       "      <td>0.00</td>\n",
       "      <td>1.00</td>\n",
       "      <td>1.00</td>\n",
       "      <td>1.00</td>\n",
       "      <td>28.00</td>\n",
       "      <td>0.00</td>\n",
       "      <td>0.00</td>\n",
       "      <td>0.00</td>\n",
       "      <td>0.00</td>\n",
       "      <td>1.00</td>\n",
       "      <td>...</td>\n",
       "      <td>1.00</td>\n",
       "      <td>1.00</td>\n",
       "      <td>5.00</td>\n",
       "      <td>30.00</td>\n",
       "      <td>30.00</td>\n",
       "      <td>1.00</td>\n",
       "      <td>0.00</td>\n",
       "      <td>9.00</td>\n",
       "      <td>4.00</td>\n",
       "      <td>8.00</td>\n",
       "    </tr>\n",
       "    <tr>\n",
       "      <th>3</th>\n",
       "      <td>0.00</td>\n",
       "      <td>1.00</td>\n",
       "      <td>0.00</td>\n",
       "      <td>1.00</td>\n",
       "      <td>27.00</td>\n",
       "      <td>0.00</td>\n",
       "      <td>0.00</td>\n",
       "      <td>0.00</td>\n",
       "      <td>1.00</td>\n",
       "      <td>1.00</td>\n",
       "      <td>...</td>\n",
       "      <td>1.00</td>\n",
       "      <td>0.00</td>\n",
       "      <td>2.00</td>\n",
       "      <td>0.00</td>\n",
       "      <td>0.00</td>\n",
       "      <td>0.00</td>\n",
       "      <td>0.00</td>\n",
       "      <td>11.00</td>\n",
       "      <td>3.00</td>\n",
       "      <td>6.00</td>\n",
       "    </tr>\n",
       "    <tr>\n",
       "      <th>4</th>\n",
       "      <td>0.00</td>\n",
       "      <td>1.00</td>\n",
       "      <td>1.00</td>\n",
       "      <td>1.00</td>\n",
       "      <td>24.00</td>\n",
       "      <td>0.00</td>\n",
       "      <td>0.00</td>\n",
       "      <td>0.00</td>\n",
       "      <td>1.00</td>\n",
       "      <td>1.00</td>\n",
       "      <td>...</td>\n",
       "      <td>1.00</td>\n",
       "      <td>0.00</td>\n",
       "      <td>2.00</td>\n",
       "      <td>3.00</td>\n",
       "      <td>0.00</td>\n",
       "      <td>0.00</td>\n",
       "      <td>0.00</td>\n",
       "      <td>11.00</td>\n",
       "      <td>5.00</td>\n",
       "      <td>4.00</td>\n",
       "    </tr>\n",
       "  </tbody>\n",
       "</table>\n",
       "<p>5 rows × 22 columns</p>\n",
       "</div>"
      ],
      "text/plain": [
       "   Diabetes_012  HighBP  HighChol  CholCheck   BMI  Smoker  Stroke  \\\n",
       "0          0.00    1.00      1.00       1.00 40.00    1.00    0.00   \n",
       "1          0.00    0.00      0.00       0.00 25.00    1.00    0.00   \n",
       "2          0.00    1.00      1.00       1.00 28.00    0.00    0.00   \n",
       "3          0.00    1.00      0.00       1.00 27.00    0.00    0.00   \n",
       "4          0.00    1.00      1.00       1.00 24.00    0.00    0.00   \n",
       "\n",
       "   HeartDiseaseorAttack  PhysActivity  Fruits  ...  AnyHealthcare  \\\n",
       "0                  0.00          0.00    0.00  ...           1.00   \n",
       "1                  0.00          1.00    0.00  ...           0.00   \n",
       "2                  0.00          0.00    1.00  ...           1.00   \n",
       "3                  0.00          1.00    1.00  ...           1.00   \n",
       "4                  0.00          1.00    1.00  ...           1.00   \n",
       "\n",
       "   NoDocbcCost  GenHlth  MentHlth  PhysHlth  DiffWalk  Sex   Age  Education  \\\n",
       "0         0.00     5.00     18.00     15.00      1.00 0.00  9.00       4.00   \n",
       "1         1.00     3.00      0.00      0.00      0.00 0.00  7.00       6.00   \n",
       "2         1.00     5.00     30.00     30.00      1.00 0.00  9.00       4.00   \n",
       "3         0.00     2.00      0.00      0.00      0.00 0.00 11.00       3.00   \n",
       "4         0.00     2.00      3.00      0.00      0.00 0.00 11.00       5.00   \n",
       "\n",
       "   Income  \n",
       "0    3.00  \n",
       "1    1.00  \n",
       "2    8.00  \n",
       "3    6.00  \n",
       "4    4.00  \n",
       "\n",
       "[5 rows x 22 columns]"
      ]
     },
     "execution_count": 521,
     "metadata": {},
     "output_type": "execute_result"
    }
   ],
   "source": [
    "df = pd.read_csv('dataset_classification/diabetes_012_health_indicators_BRFSS2015.csv')\n",
    "df.head()"
   ]
  },
  {
   "cell_type": "code",
   "execution_count": 522,
   "metadata": {},
   "outputs": [
    {
     "data": {
      "text/plain": [
       "(253680, 22)"
      ]
     },
     "execution_count": 522,
     "metadata": {},
     "output_type": "execute_result"
    }
   ],
   "source": [
    "df.shape"
   ]
  },
  {
   "cell_type": "code",
   "execution_count": 523,
   "metadata": {},
   "outputs": [
    {
     "data": {
      "text/plain": [
       "Diabetes_012\n",
       "0.00    213703\n",
       "2.00     35346\n",
       "1.00      4631\n",
       "Name: count, dtype: int64"
      ]
     },
     "execution_count": 523,
     "metadata": {},
     "output_type": "execute_result"
    }
   ],
   "source": [
    "df['Diabetes_012'].value_counts()   "
   ]
  },
  {
   "cell_type": "code",
   "execution_count": 524,
   "metadata": {},
   "outputs": [],
   "source": [
    "# I am going to rename thr Diabetes_012 column to Diabetes\n",
    "df = df.rename(columns={'Diabetes_012': 'Diabetes'})"
   ]
  },
  {
   "cell_type": "markdown",
   "metadata": {},
   "source": [
    "**Classes are imbalanced, I will try stratify or balance the classes.**"
   ]
  },
  {
   "cell_type": "code",
   "execution_count": 525,
   "metadata": {},
   "outputs": [
    {
     "name": "stdout",
     "output_type": "stream",
     "text": [
      "<class 'pandas.core.frame.DataFrame'>\n",
      "RangeIndex: 253680 entries, 0 to 253679\n",
      "Data columns (total 22 columns):\n",
      " #   Column                Non-Null Count   Dtype  \n",
      "---  ------                --------------   -----  \n",
      " 0   Diabetes              253680 non-null  float64\n",
      " 1   HighBP                253680 non-null  float64\n",
      " 2   HighChol              253680 non-null  float64\n",
      " 3   CholCheck             253680 non-null  float64\n",
      " 4   BMI                   253680 non-null  float64\n",
      " 5   Smoker                253680 non-null  float64\n",
      " 6   Stroke                253680 non-null  float64\n",
      " 7   HeartDiseaseorAttack  253680 non-null  float64\n",
      " 8   PhysActivity          253680 non-null  float64\n",
      " 9   Fruits                253680 non-null  float64\n",
      " 10  Veggies               253680 non-null  float64\n",
      " 11  HvyAlcoholConsump     253680 non-null  float64\n",
      " 12  AnyHealthcare         253680 non-null  float64\n",
      " 13  NoDocbcCost           253680 non-null  float64\n",
      " 14  GenHlth               253680 non-null  float64\n",
      " 15  MentHlth              253680 non-null  float64\n",
      " 16  PhysHlth              253680 non-null  float64\n",
      " 17  DiffWalk              253680 non-null  float64\n",
      " 18  Sex                   253680 non-null  float64\n",
      " 19  Age                   253680 non-null  float64\n",
      " 20  Education             253680 non-null  float64\n",
      " 21  Income                253680 non-null  float64\n",
      "dtypes: float64(22)\n",
      "memory usage: 42.6 MB\n"
     ]
    }
   ],
   "source": [
    "df.info()   "
   ]
  },
  {
   "cell_type": "markdown",
   "metadata": {},
   "source": [
    "**Since all features float that's why they have one decimal value which is zero. Zero does not give me extra information.**<br>\n",
    "**I do not think, that it wont effect on the model's result, so I keep it.**"
   ]
  },
  {
   "cell_type": "markdown",
   "metadata": {},
   "source": [
    "**It seems that dataset is clean, no missing data and all features are in float format.**"
   ]
  },
  {
   "cell_type": "code",
   "execution_count": 526,
   "metadata": {},
   "outputs": [
    {
     "data": {
      "text/plain": [
       "(253680, 22)"
      ]
     },
     "execution_count": 526,
     "metadata": {},
     "output_type": "execute_result"
    }
   ],
   "source": [
    "df.shape"
   ]
  },
  {
   "cell_type": "code",
   "execution_count": 527,
   "metadata": {},
   "outputs": [
    {
     "data": {
      "text/plain": [
       "23899"
      ]
     },
     "execution_count": 527,
     "metadata": {},
     "output_type": "execute_result"
    }
   ],
   "source": [
    "# Check for missing values\n",
    "df.duplicated().sum()   "
   ]
  },
  {
   "cell_type": "code",
   "execution_count": 528,
   "metadata": {},
   "outputs": [],
   "source": [
    "# Drop duplicates\n",
    "df = df.drop_duplicates()"
   ]
  },
  {
   "cell_type": "code",
   "execution_count": 529,
   "metadata": {},
   "outputs": [
    {
     "data": {
      "text/plain": [
       "0"
      ]
     },
     "execution_count": 529,
     "metadata": {},
     "output_type": "execute_result"
    }
   ],
   "source": [
    "# Check for missing values\n",
    "df.duplicated().sum()   "
   ]
  },
  {
   "cell_type": "code",
   "execution_count": 530,
   "metadata": {},
   "outputs": [
    {
     "data": {
      "text/plain": [
       "(229781, 22)"
      ]
     },
     "execution_count": 530,
     "metadata": {},
     "output_type": "execute_result"
    }
   ],
   "source": [
    "df.shape"
   ]
  },
  {
   "cell_type": "code",
   "execution_count": 531,
   "metadata": {},
   "outputs": [
    {
     "data": {
      "application/vnd.microsoft.datawrangler.viewer.v0+json": {
       "columns": [
        {
         "name": "index",
         "rawType": "object",
         "type": "string"
        },
        {
         "name": "Diabetes",
         "rawType": "float64",
         "type": "float"
        },
        {
         "name": "HighBP",
         "rawType": "float64",
         "type": "float"
        },
        {
         "name": "HighChol",
         "rawType": "float64",
         "type": "float"
        },
        {
         "name": "CholCheck",
         "rawType": "float64",
         "type": "float"
        },
        {
         "name": "BMI",
         "rawType": "float64",
         "type": "float"
        },
        {
         "name": "Smoker",
         "rawType": "float64",
         "type": "float"
        },
        {
         "name": "Stroke",
         "rawType": "float64",
         "type": "float"
        },
        {
         "name": "HeartDiseaseorAttack",
         "rawType": "float64",
         "type": "float"
        },
        {
         "name": "PhysActivity",
         "rawType": "float64",
         "type": "float"
        },
        {
         "name": "Fruits",
         "rawType": "float64",
         "type": "float"
        },
        {
         "name": "Veggies",
         "rawType": "float64",
         "type": "float"
        },
        {
         "name": "HvyAlcoholConsump",
         "rawType": "float64",
         "type": "float"
        },
        {
         "name": "AnyHealthcare",
         "rawType": "float64",
         "type": "float"
        },
        {
         "name": "NoDocbcCost",
         "rawType": "float64",
         "type": "float"
        },
        {
         "name": "GenHlth",
         "rawType": "float64",
         "type": "float"
        },
        {
         "name": "MentHlth",
         "rawType": "float64",
         "type": "float"
        },
        {
         "name": "PhysHlth",
         "rawType": "float64",
         "type": "float"
        },
        {
         "name": "DiffWalk",
         "rawType": "float64",
         "type": "float"
        },
        {
         "name": "Sex",
         "rawType": "float64",
         "type": "float"
        },
        {
         "name": "Age",
         "rawType": "float64",
         "type": "float"
        },
        {
         "name": "Education",
         "rawType": "float64",
         "type": "float"
        },
        {
         "name": "Income",
         "rawType": "float64",
         "type": "float"
        }
       ],
       "conversionMethod": "pd.DataFrame",
       "ref": "1b41f3e7-7b7a-441d-91f4-8597c9ec262a",
       "rows": [
        [
         "count",
         "229781.0",
         "229781.0",
         "229781.0",
         "229781.0",
         "229781.0",
         "229781.0",
         "229781.0",
         "229781.0",
         "229781.0",
         "229781.0",
         "229781.0",
         "229781.0",
         "229781.0",
         "229781.0",
         "229781.0",
         "229781.0",
         "229781.0",
         "229781.0",
         "229781.0",
         "229781.0",
         "229781.0",
         "229781.0"
        ],
        [
         "mean",
         "0.32562744526309834",
         "0.45444140290102314",
         "0.4417597625565212",
         "0.9595353836914279",
         "28.685670268647105",
         "0.4656607813526793",
         "0.04475565864888742",
         "0.103215670573285",
         "0.7333548030516013",
         "0.6129662591772166",
         "0.7948133222503166",
         "0.060709980372615664",
         "0.9460747407313921",
         "0.09281011049651625",
         "2.601150660846632",
         "3.5053725068652324",
         "4.67517766917195",
         "0.1855070697751337",
         "0.43923126803347534",
         "8.086582441542165",
         "4.980568454310844",
         "5.8903825816755955"
        ],
        [
         "std",
         "0.7246231253474567",
         "0.49792117166742533",
         "0.49659757145813843",
         "0.19704669525584395",
         "6.7863603415278595",
         "0.49882050973082454",
         "0.20676744358478102",
         "0.30424102082236965",
         "0.4422062718966592",
         "0.4870725374596229",
         "0.4038388475224877",
         "0.2387980879839654",
         "0.22587064375047572",
         "0.2901667801591161",
         "1.0646853747421345",
         "7.713724910573189",
         "9.046567640200626",
         "0.3887092157369551",
         "0.4962945024289532",
         "3.0938088288659333",
         "0.9928945889029314",
         "2.0924774354059825"
        ],
        [
         "min",
         "0.0",
         "0.0",
         "0.0",
         "0.0",
         "12.0",
         "0.0",
         "0.0",
         "0.0",
         "0.0",
         "0.0",
         "0.0",
         "0.0",
         "0.0",
         "0.0",
         "1.0",
         "0.0",
         "0.0",
         "0.0",
         "0.0",
         "1.0",
         "1.0",
         "1.0"
        ],
        [
         "25%",
         "0.0",
         "0.0",
         "0.0",
         "1.0",
         "24.0",
         "0.0",
         "0.0",
         "0.0",
         "0.0",
         "0.0",
         "1.0",
         "0.0",
         "1.0",
         "0.0",
         "2.0",
         "0.0",
         "0.0",
         "0.0",
         "0.0",
         "6.0",
         "4.0",
         "5.0"
        ],
        [
         "50%",
         "0.0",
         "0.0",
         "0.0",
         "1.0",
         "27.0",
         "0.0",
         "0.0",
         "0.0",
         "1.0",
         "1.0",
         "1.0",
         "0.0",
         "1.0",
         "0.0",
         "3.0",
         "0.0",
         "0.0",
         "0.0",
         "0.0",
         "8.0",
         "5.0",
         "6.0"
        ],
        [
         "75%",
         "0.0",
         "1.0",
         "1.0",
         "1.0",
         "32.0",
         "1.0",
         "0.0",
         "0.0",
         "1.0",
         "1.0",
         "1.0",
         "0.0",
         "1.0",
         "0.0",
         "3.0",
         "2.0",
         "4.0",
         "0.0",
         "1.0",
         "10.0",
         "6.0",
         "8.0"
        ],
        [
         "max",
         "2.0",
         "1.0",
         "1.0",
         "1.0",
         "98.0",
         "1.0",
         "1.0",
         "1.0",
         "1.0",
         "1.0",
         "1.0",
         "1.0",
         "1.0",
         "1.0",
         "5.0",
         "30.0",
         "30.0",
         "1.0",
         "1.0",
         "13.0",
         "6.0",
         "8.0"
        ]
       ],
       "shape": {
        "columns": 22,
        "rows": 8
       }
      },
      "text/html": [
       "<div>\n",
       "<style scoped>\n",
       "    .dataframe tbody tr th:only-of-type {\n",
       "        vertical-align: middle;\n",
       "    }\n",
       "\n",
       "    .dataframe tbody tr th {\n",
       "        vertical-align: top;\n",
       "    }\n",
       "\n",
       "    .dataframe thead th {\n",
       "        text-align: right;\n",
       "    }\n",
       "</style>\n",
       "<table border=\"1\" class=\"dataframe\">\n",
       "  <thead>\n",
       "    <tr style=\"text-align: right;\">\n",
       "      <th></th>\n",
       "      <th>Diabetes</th>\n",
       "      <th>HighBP</th>\n",
       "      <th>HighChol</th>\n",
       "      <th>CholCheck</th>\n",
       "      <th>BMI</th>\n",
       "      <th>Smoker</th>\n",
       "      <th>Stroke</th>\n",
       "      <th>HeartDiseaseorAttack</th>\n",
       "      <th>PhysActivity</th>\n",
       "      <th>Fruits</th>\n",
       "      <th>...</th>\n",
       "      <th>AnyHealthcare</th>\n",
       "      <th>NoDocbcCost</th>\n",
       "      <th>GenHlth</th>\n",
       "      <th>MentHlth</th>\n",
       "      <th>PhysHlth</th>\n",
       "      <th>DiffWalk</th>\n",
       "      <th>Sex</th>\n",
       "      <th>Age</th>\n",
       "      <th>Education</th>\n",
       "      <th>Income</th>\n",
       "    </tr>\n",
       "  </thead>\n",
       "  <tbody>\n",
       "    <tr>\n",
       "      <th>count</th>\n",
       "      <td>229781.00</td>\n",
       "      <td>229781.00</td>\n",
       "      <td>229781.00</td>\n",
       "      <td>229781.00</td>\n",
       "      <td>229781.00</td>\n",
       "      <td>229781.00</td>\n",
       "      <td>229781.00</td>\n",
       "      <td>229781.00</td>\n",
       "      <td>229781.00</td>\n",
       "      <td>229781.00</td>\n",
       "      <td>...</td>\n",
       "      <td>229781.00</td>\n",
       "      <td>229781.00</td>\n",
       "      <td>229781.00</td>\n",
       "      <td>229781.00</td>\n",
       "      <td>229781.00</td>\n",
       "      <td>229781.00</td>\n",
       "      <td>229781.00</td>\n",
       "      <td>229781.00</td>\n",
       "      <td>229781.00</td>\n",
       "      <td>229781.00</td>\n",
       "    </tr>\n",
       "    <tr>\n",
       "      <th>mean</th>\n",
       "      <td>0.33</td>\n",
       "      <td>0.45</td>\n",
       "      <td>0.44</td>\n",
       "      <td>0.96</td>\n",
       "      <td>28.69</td>\n",
       "      <td>0.47</td>\n",
       "      <td>0.04</td>\n",
       "      <td>0.10</td>\n",
       "      <td>0.73</td>\n",
       "      <td>0.61</td>\n",
       "      <td>...</td>\n",
       "      <td>0.95</td>\n",
       "      <td>0.09</td>\n",
       "      <td>2.60</td>\n",
       "      <td>3.51</td>\n",
       "      <td>4.68</td>\n",
       "      <td>0.19</td>\n",
       "      <td>0.44</td>\n",
       "      <td>8.09</td>\n",
       "      <td>4.98</td>\n",
       "      <td>5.89</td>\n",
       "    </tr>\n",
       "    <tr>\n",
       "      <th>std</th>\n",
       "      <td>0.72</td>\n",
       "      <td>0.50</td>\n",
       "      <td>0.50</td>\n",
       "      <td>0.20</td>\n",
       "      <td>6.79</td>\n",
       "      <td>0.50</td>\n",
       "      <td>0.21</td>\n",
       "      <td>0.30</td>\n",
       "      <td>0.44</td>\n",
       "      <td>0.49</td>\n",
       "      <td>...</td>\n",
       "      <td>0.23</td>\n",
       "      <td>0.29</td>\n",
       "      <td>1.06</td>\n",
       "      <td>7.71</td>\n",
       "      <td>9.05</td>\n",
       "      <td>0.39</td>\n",
       "      <td>0.50</td>\n",
       "      <td>3.09</td>\n",
       "      <td>0.99</td>\n",
       "      <td>2.09</td>\n",
       "    </tr>\n",
       "    <tr>\n",
       "      <th>min</th>\n",
       "      <td>0.00</td>\n",
       "      <td>0.00</td>\n",
       "      <td>0.00</td>\n",
       "      <td>0.00</td>\n",
       "      <td>12.00</td>\n",
       "      <td>0.00</td>\n",
       "      <td>0.00</td>\n",
       "      <td>0.00</td>\n",
       "      <td>0.00</td>\n",
       "      <td>0.00</td>\n",
       "      <td>...</td>\n",
       "      <td>0.00</td>\n",
       "      <td>0.00</td>\n",
       "      <td>1.00</td>\n",
       "      <td>0.00</td>\n",
       "      <td>0.00</td>\n",
       "      <td>0.00</td>\n",
       "      <td>0.00</td>\n",
       "      <td>1.00</td>\n",
       "      <td>1.00</td>\n",
       "      <td>1.00</td>\n",
       "    </tr>\n",
       "    <tr>\n",
       "      <th>25%</th>\n",
       "      <td>0.00</td>\n",
       "      <td>0.00</td>\n",
       "      <td>0.00</td>\n",
       "      <td>1.00</td>\n",
       "      <td>24.00</td>\n",
       "      <td>0.00</td>\n",
       "      <td>0.00</td>\n",
       "      <td>0.00</td>\n",
       "      <td>0.00</td>\n",
       "      <td>0.00</td>\n",
       "      <td>...</td>\n",
       "      <td>1.00</td>\n",
       "      <td>0.00</td>\n",
       "      <td>2.00</td>\n",
       "      <td>0.00</td>\n",
       "      <td>0.00</td>\n",
       "      <td>0.00</td>\n",
       "      <td>0.00</td>\n",
       "      <td>6.00</td>\n",
       "      <td>4.00</td>\n",
       "      <td>5.00</td>\n",
       "    </tr>\n",
       "    <tr>\n",
       "      <th>50%</th>\n",
       "      <td>0.00</td>\n",
       "      <td>0.00</td>\n",
       "      <td>0.00</td>\n",
       "      <td>1.00</td>\n",
       "      <td>27.00</td>\n",
       "      <td>0.00</td>\n",
       "      <td>0.00</td>\n",
       "      <td>0.00</td>\n",
       "      <td>1.00</td>\n",
       "      <td>1.00</td>\n",
       "      <td>...</td>\n",
       "      <td>1.00</td>\n",
       "      <td>0.00</td>\n",
       "      <td>3.00</td>\n",
       "      <td>0.00</td>\n",
       "      <td>0.00</td>\n",
       "      <td>0.00</td>\n",
       "      <td>0.00</td>\n",
       "      <td>8.00</td>\n",
       "      <td>5.00</td>\n",
       "      <td>6.00</td>\n",
       "    </tr>\n",
       "    <tr>\n",
       "      <th>75%</th>\n",
       "      <td>0.00</td>\n",
       "      <td>1.00</td>\n",
       "      <td>1.00</td>\n",
       "      <td>1.00</td>\n",
       "      <td>32.00</td>\n",
       "      <td>1.00</td>\n",
       "      <td>0.00</td>\n",
       "      <td>0.00</td>\n",
       "      <td>1.00</td>\n",
       "      <td>1.00</td>\n",
       "      <td>...</td>\n",
       "      <td>1.00</td>\n",
       "      <td>0.00</td>\n",
       "      <td>3.00</td>\n",
       "      <td>2.00</td>\n",
       "      <td>4.00</td>\n",
       "      <td>0.00</td>\n",
       "      <td>1.00</td>\n",
       "      <td>10.00</td>\n",
       "      <td>6.00</td>\n",
       "      <td>8.00</td>\n",
       "    </tr>\n",
       "    <tr>\n",
       "      <th>max</th>\n",
       "      <td>2.00</td>\n",
       "      <td>1.00</td>\n",
       "      <td>1.00</td>\n",
       "      <td>1.00</td>\n",
       "      <td>98.00</td>\n",
       "      <td>1.00</td>\n",
       "      <td>1.00</td>\n",
       "      <td>1.00</td>\n",
       "      <td>1.00</td>\n",
       "      <td>1.00</td>\n",
       "      <td>...</td>\n",
       "      <td>1.00</td>\n",
       "      <td>1.00</td>\n",
       "      <td>5.00</td>\n",
       "      <td>30.00</td>\n",
       "      <td>30.00</td>\n",
       "      <td>1.00</td>\n",
       "      <td>1.00</td>\n",
       "      <td>13.00</td>\n",
       "      <td>6.00</td>\n",
       "      <td>8.00</td>\n",
       "    </tr>\n",
       "  </tbody>\n",
       "</table>\n",
       "<p>8 rows × 22 columns</p>\n",
       "</div>"
      ],
      "text/plain": [
       "       Diabetes    HighBP  HighChol  CholCheck       BMI    Smoker    Stroke  \\\n",
       "count 229781.00 229781.00 229781.00  229781.00 229781.00 229781.00 229781.00   \n",
       "mean       0.33      0.45      0.44       0.96     28.69      0.47      0.04   \n",
       "std        0.72      0.50      0.50       0.20      6.79      0.50      0.21   \n",
       "min        0.00      0.00      0.00       0.00     12.00      0.00      0.00   \n",
       "25%        0.00      0.00      0.00       1.00     24.00      0.00      0.00   \n",
       "50%        0.00      0.00      0.00       1.00     27.00      0.00      0.00   \n",
       "75%        0.00      1.00      1.00       1.00     32.00      1.00      0.00   \n",
       "max        2.00      1.00      1.00       1.00     98.00      1.00      1.00   \n",
       "\n",
       "       HeartDiseaseorAttack  PhysActivity    Fruits  ...  AnyHealthcare  \\\n",
       "count             229781.00     229781.00 229781.00  ...      229781.00   \n",
       "mean                   0.10          0.73      0.61  ...           0.95   \n",
       "std                    0.30          0.44      0.49  ...           0.23   \n",
       "min                    0.00          0.00      0.00  ...           0.00   \n",
       "25%                    0.00          0.00      0.00  ...           1.00   \n",
       "50%                    0.00          1.00      1.00  ...           1.00   \n",
       "75%                    0.00          1.00      1.00  ...           1.00   \n",
       "max                    1.00          1.00      1.00  ...           1.00   \n",
       "\n",
       "       NoDocbcCost   GenHlth  MentHlth  PhysHlth  DiffWalk       Sex  \\\n",
       "count    229781.00 229781.00 229781.00 229781.00 229781.00 229781.00   \n",
       "mean          0.09      2.60      3.51      4.68      0.19      0.44   \n",
       "std           0.29      1.06      7.71      9.05      0.39      0.50   \n",
       "min           0.00      1.00      0.00      0.00      0.00      0.00   \n",
       "25%           0.00      2.00      0.00      0.00      0.00      0.00   \n",
       "50%           0.00      3.00      0.00      0.00      0.00      0.00   \n",
       "75%           0.00      3.00      2.00      4.00      0.00      1.00   \n",
       "max           1.00      5.00     30.00     30.00      1.00      1.00   \n",
       "\n",
       "            Age  Education    Income  \n",
       "count 229781.00  229781.00 229781.00  \n",
       "mean       8.09       4.98      5.89  \n",
       "std        3.09       0.99      2.09  \n",
       "min        1.00       1.00      1.00  \n",
       "25%        6.00       4.00      5.00  \n",
       "50%        8.00       5.00      6.00  \n",
       "75%       10.00       6.00      8.00  \n",
       "max       13.00       6.00      8.00  \n",
       "\n",
       "[8 rows x 22 columns]"
      ]
     },
     "execution_count": 531,
     "metadata": {},
     "output_type": "execute_result"
    }
   ],
   "source": [
    "df.describe()"
   ]
  },
  {
   "cell_type": "code",
   "execution_count": 532,
   "metadata": {},
   "outputs": [
    {
     "data": {
      "image/png": "[encoded data removed]",
      "text/plain": [
       "<Figure size 1800x1400 with 2 Axes>"
      ]
     },
     "metadata": {},
     "output_type": "display_data"
    }
   ],
   "source": [
    "# Correlation matrix and heatmap\n",
    "df.corr()\n",
    "plt.figure(figsize=(18,14))\n",
    "sns.heatmap(df.corr(), annot=True, cmap='coolwarm', center=0)\n",
    "plt.show()"
   ]
  },
  {
   "cell_type": "markdown",
   "metadata": {},
   "source": [
    "**When I look at this correlation matrix, I notice that some variables have a stronger relationship with diabetes. For example, HighBP and HighChol,**<br>\n",
    "**this makes sense because people with high blood pressure or cholesterol have higher chances of diabetes.**<br>\n",
    "<br>\n",
    "\n",
    "**I also see that age has positive correlation with diabetes, which means that the risk of diabetes can increase as people get older**<br>\n",
    "**It's also interesting to see that GenHealth and DiffWalk have positive correlations with diabetes, which means that if someone already has trouble walking or poor health,**<br>**they might have more chance to get diabetes.**\n",
    "<br><br>\n",
    "\n",
    "**On the other hand: PhysActivity, Education, and Income have negative correlations with diabetes. Which  means being active, having higher education, or more money might lower the risk.**<br>"
   ]
  },
  {
   "cell_type": "code",
   "execution_count": 533,
   "metadata": {},
   "outputs": [],
   "source": [
    "#from sklearn.model_selection import train_test_split\n",
    "#x= df.drop('Diabetes', axis=1)\n",
    "#y = df['Diabetes']\n",
    "#x_train, x_test, y_train, y_test = train_test_split(x, y, test_size=0.2, random_state=42)"
   ]
  },
  {
   "cell_type": "code",
   "execution_count": 534,
   "metadata": {},
   "outputs": [],
   "source": [
    "#from sklearn.ensemble import RandomForestClassifier\n",
    "#rf = RandomForestClassifier()\n",
    "#rf.fit(x_train, y_train)"
   ]
  },
  {
   "cell_type": "code",
   "execution_count": 535,
   "metadata": {},
   "outputs": [],
   "source": [
    "#from sklearn.metrics import confusion_matrix, classification_report\n",
    "#rf_pred = rf.predict(x_test)\n",
    "#cm = confusion_matrix(y_test, rf_pred)\n",
    "#print(cm)\n",
    "#print(classification_report(y_test, rf_pred))"
   ]
  },
  {
   "cell_type": "code",
   "execution_count": 536,
   "metadata": {},
   "outputs": [
    {
     "data": {
      "application/vnd.microsoft.datawrangler.viewer.v0+json": {
       "columns": [
        {
         "name": "index",
         "rawType": "int64",
         "type": "integer"
        },
        {
         "name": "Feature",
         "rawType": "object",
         "type": "string"
        },
        {
         "name": "VIF",
         "rawType": "float64",
         "type": "float"
        }
       ],
       "conversionMethod": "pd.DataFrame",
       "ref": "4f6c396c-6772-4174-a1d2-40b8dc8511e1",
       "rows": [
        [
         "20",
         "Education",
         "27.14"
        ],
        [
         "3",
         "CholCheck",
         "21.49"
        ],
        [
         "12",
         "AnyHealthcare",
         "18.96"
        ],
        [
         "4",
         "BMI",
         "17.57"
        ],
        [
         "21",
         "Income",
         "12.62"
        ],
        [
         "14",
         "GenHlth",
         "11.08"
        ],
        [
         "19",
         "Age",
         "9.78"
        ],
        [
         "10",
         "Veggies",
         "5.29"
        ],
        [
         "8",
         "PhysActivity",
         "4.14"
        ],
        [
         "9",
         "Fruits",
         "2.83"
        ],
        [
         "1",
         "HighBP",
         "2.39"
        ],
        [
         "2",
         "HighChol",
         "2.09"
        ],
        [
         "16",
         "PhysHlth",
         "2.01"
        ],
        [
         "5",
         "Smoker",
         "1.99"
        ],
        [
         "18",
         "Sex",
         "1.91"
        ],
        [
         "17",
         "DiffWalk",
         "1.85"
        ],
        [
         "15",
         "MentHlth",
         "1.47"
        ],
        [
         "0",
         "Diabetes",
         "1.42"
        ],
        [
         "7",
         "HeartDiseaseorAttack",
         "1.3"
        ],
        [
         "13",
         "NoDocbcCost",
         "1.22"
        ],
        [
         "6",
         "Stroke",
         "1.13"
        ],
        [
         "11",
         "HvyAlcoholConsump",
         "1.09"
        ]
       ],
       "shape": {
        "columns": 2,
        "rows": 22
       }
      },
      "text/html": [
       "<div>\n",
       "<style scoped>\n",
       "    .dataframe tbody tr th:only-of-type {\n",
       "        vertical-align: middle;\n",
       "    }\n",
       "\n",
       "    .dataframe tbody tr th {\n",
       "        vertical-align: top;\n",
       "    }\n",
       "\n",
       "    .dataframe thead th {\n",
       "        text-align: right;\n",
       "    }\n",
       "</style>\n",
       "<table border=\"1\" class=\"dataframe\">\n",
       "  <thead>\n",
       "    <tr style=\"text-align: right;\">\n",
       "      <th></th>\n",
       "      <th>Feature</th>\n",
       "      <th>VIF</th>\n",
       "    </tr>\n",
       "  </thead>\n",
       "  <tbody>\n",
       "    <tr>\n",
       "      <th>20</th>\n",
       "      <td>Education</td>\n",
       "      <td>27.14</td>\n",
       "    </tr>\n",
       "    <tr>\n",
       "      <th>3</th>\n",
       "      <td>CholCheck</td>\n",
       "      <td>21.49</td>\n",
       "    </tr>\n",
       "    <tr>\n",
       "      <th>12</th>\n",
       "      <td>AnyHealthcare</td>\n",
       "      <td>18.96</td>\n",
       "    </tr>\n",
       "    <tr>\n",
       "      <th>4</th>\n",
       "      <td>BMI</td>\n",
       "      <td>17.57</td>\n",
       "    </tr>\n",
       "    <tr>\n",
       "      <th>21</th>\n",
       "      <td>Income</td>\n",
       "      <td>12.62</td>\n",
       "    </tr>\n",
       "    <tr>\n",
       "      <th>14</th>\n",
       "      <td>GenHlth</td>\n",
       "      <td>11.08</td>\n",
       "    </tr>\n",
       "    <tr>\n",
       "      <th>19</th>\n",
       "      <td>Age</td>\n",
       "      <td>9.78</td>\n",
       "    </tr>\n",
       "    <tr>\n",
       "      <th>10</th>\n",
       "      <td>Veggies</td>\n",
       "      <td>5.29</td>\n",
       "    </tr>\n",
       "    <tr>\n",
       "      <th>8</th>\n",
       "      <td>PhysActivity</td>\n",
       "      <td>4.14</td>\n",
       "    </tr>\n",
       "    <tr>\n",
       "      <th>9</th>\n",
       "      <td>Fruits</td>\n",
       "      <td>2.83</td>\n",
       "    </tr>\n",
       "    <tr>\n",
       "      <th>1</th>\n",
       "      <td>HighBP</td>\n",
       "      <td>2.39</td>\n",
       "    </tr>\n",
       "    <tr>\n",
       "      <th>2</th>\n",
       "      <td>HighChol</td>\n",
       "      <td>2.09</td>\n",
       "    </tr>\n",
       "    <tr>\n",
       "      <th>16</th>\n",
       "      <td>PhysHlth</td>\n",
       "      <td>2.01</td>\n",
       "    </tr>\n",
       "    <tr>\n",
       "      <th>5</th>\n",
       "      <td>Smoker</td>\n",
       "      <td>1.99</td>\n",
       "    </tr>\n",
       "    <tr>\n",
       "      <th>18</th>\n",
       "      <td>Sex</td>\n",
       "      <td>1.91</td>\n",
       "    </tr>\n",
       "    <tr>\n",
       "      <th>17</th>\n",
       "      <td>DiffWalk</td>\n",
       "      <td>1.85</td>\n",
       "    </tr>\n",
       "    <tr>\n",
       "      <th>15</th>\n",
       "      <td>MentHlth</td>\n",
       "      <td>1.47</td>\n",
       "    </tr>\n",
       "    <tr>\n",
       "      <th>0</th>\n",
       "      <td>Diabetes</td>\n",
       "      <td>1.42</td>\n",
       "    </tr>\n",
       "    <tr>\n",
       "      <th>7</th>\n",
       "      <td>HeartDiseaseorAttack</td>\n",
       "      <td>1.30</td>\n",
       "    </tr>\n",
       "    <tr>\n",
       "      <th>13</th>\n",
       "      <td>NoDocbcCost</td>\n",
       "      <td>1.22</td>\n",
       "    </tr>\n",
       "    <tr>\n",
       "      <th>6</th>\n",
       "      <td>Stroke</td>\n",
       "      <td>1.13</td>\n",
       "    </tr>\n",
       "    <tr>\n",
       "      <th>11</th>\n",
       "      <td>HvyAlcoholConsump</td>\n",
       "      <td>1.09</td>\n",
       "    </tr>\n",
       "  </tbody>\n",
       "</table>\n",
       "</div>"
      ],
      "text/plain": [
       "                 Feature   VIF\n",
       "20             Education 27.14\n",
       "3              CholCheck 21.49\n",
       "12         AnyHealthcare 18.96\n",
       "4                    BMI 17.57\n",
       "21                Income 12.62\n",
       "14               GenHlth 11.08\n",
       "19                   Age  9.78\n",
       "10               Veggies  5.29\n",
       "8           PhysActivity  4.14\n",
       "9                 Fruits  2.83\n",
       "1                 HighBP  2.39\n",
       "2               HighChol  2.09\n",
       "16              PhysHlth  2.01\n",
       "5                 Smoker  1.99\n",
       "18                   Sex  1.91\n",
       "17              DiffWalk  1.85\n",
       "15              MentHlth  1.47\n",
       "0               Diabetes  1.42\n",
       "7   HeartDiseaseorAttack  1.30\n",
       "13           NoDocbcCost  1.22\n",
       "6                 Stroke  1.13\n",
       "11     HvyAlcoholConsump  1.09"
      ]
     },
     "execution_count": 536,
     "metadata": {},
     "output_type": "execute_result"
    }
   ],
   "source": [
    "# Creating function to calculate VIF\n",
    "def calculate_vif(data):\n",
    "    vif_df = pd.DataFrame()\n",
    "    vif_df[\"Feature\"] = data.columns\n",
    "    vif_df[\"VIF\"] = [variance_inflation_factor(data.values, i) for i in range(len(data.columns))]\n",
    "    return vif_df.sort_values(\"VIF\", ascending=False).round(2)\n",
    "\n",
    "vif_results = calculate_vif(df)\n",
    "vif_results\n",
    "# I got this code from the lecture notes and just used it in a function"
   ]
  },
  {
   "cell_type": "code",
   "execution_count": 537,
   "metadata": {},
   "outputs": [
    {
     "data": {
      "text/plain": [
       "(229781, 22)"
      ]
     },
     "execution_count": 537,
     "metadata": {},
     "output_type": "execute_result"
    }
   ],
   "source": [
    "df.shape    "
   ]
  },
  {
   "cell_type": "code",
   "execution_count": 538,
   "metadata": {},
   "outputs": [
    {
     "data": {
      "text/plain": [
       "'\\ntarget = \\'Diabetes\\'\\n\\n# Showing the target value\\'s classes distribution before removing overlap\\nprint(\"Class distribution before overlap removal:\")\\nprint(df[target].value_counts())\\n\\n\\n# Split my dataset into X and y\\nX = df.drop(target, axis=1)\\ny = df[target]\\n\\n# Creating the TomekLinks object\\ntl = TomekLinks()   \\n\\n# create new resampled versions of X and y\\nX, y = tl.fit_resample(X, y)\\n\\n# Re create a new DataFrame\\ndf = pd.DataFrame(X, columns=X.columns)\\ndf[target] = y\\n\\n#Showing  the class distribution after Tomek Links\\nprint(\"Class distribution AFTER overlap removal:\")\\nprint(df[target].value_counts())\\n# Target value\\'s has three classes:\\n#  0 is for no diabetes only during pregnancy\\n#  1 is for pre-diabetes\\n#  2 is for diabetes\\n\\n# I got the main idea code from lecture notes\\n\\n'"
      ]
     },
     "execution_count": 538,
     "metadata": {},
     "output_type": "execute_result"
    }
   ],
   "source": [
    "# Removing overlapping data with the Tomek Links method, to help model that classifies diabetes classes better\n",
    "# Define target value \n",
    "\n",
    "\"\"\"\n",
    "target = 'Diabetes'\n",
    "\n",
    "# Showing the target value's classes distribution before removing overlap\n",
    "print(\"Class distribution before overlap removal:\")\n",
    "print(df[target].value_counts())\n",
    "\n",
    "\n",
    "# Split my dataset into X and y\n",
    "X = df.drop(target, axis=1)\n",
    "y = df[target]\n",
    "\n",
    "# Creating the TomekLinks object\n",
    "tl = TomekLinks()   \n",
    "\n",
    "# create new resampled versions of X and y\n",
    "X, y = tl.fit_resample(X, y)\n",
    "\n",
    "# Re create a new DataFrame\n",
    "df = pd.DataFrame(X, columns=X.columns)\n",
    "df[target] = y\n",
    "\n",
    "#Showing  the class distribution after Tomek Links\n",
    "print(\"Class distribution AFTER overlap removal:\")\n",
    "print(df[target].value_counts())\n",
    "# Target value's has three classes:\n",
    "#  0 is for no diabetes only during pregnancy\n",
    "#  1 is for pre-diabetes\n",
    "#  2 is for diabetes\n",
    "\n",
    "# I got the main idea code from lecture notes\n",
    "\n",
    "\"\"\""
   ]
  },
  {
   "cell_type": "markdown",
   "metadata": {},
   "source": [
    "**In my dataset, classes 0 and 2 have more borderline neighbors. Some No diabetes (only during pregnancy) values are close to diabetes.<br>I guess this makes sense because those two classes are the majority.**"
   ]
  },
  {
   "cell_type": "code",
   "execution_count": 539,
   "metadata": {},
   "outputs": [
    {
     "data": {
      "text/plain": [
       "'\\n# 1) Separate the features from the target\\nfeatures = df.drop(columns=[target])\\n\\n# 2) Initialize the Isolation Forest with 5% \\niso_forest = IsolationForest(contamination=0.05, random_state=42)\\n\\n# 3) Fit the model on the features\\niso_forest.fit(features)\\n\\n# 4) Predict outliers (1 = inlier, -1 = outlier)\\ndf[\\'outlier_label\\'] = iso_forest.predict(features)\\n\\n# 5) Filter to keep only inliers\\ndf_no_outliers = df[df[\\'outlier_label\\'] == 1].copy()\\n\\n# 6) Drop the temporary outlier label\\ndf_no_outliers.drop(columns=[\\'outlier_label\\'], inplace=True)\\n\\n# 7) Calculate and display the number of outliers removed\\nnum_outliers_removed = len(df) - len(df_no_outliers)\\nprint(f\"Number of outliers removed: {num_outliers_removed}\")\\n\\n# 8) Update the original dataframe\\ndf = df_no_outliers\\n\\n# 9) Show the class distribution after outlier removal\\nprint(\"Class distribution AFTER Isolation Forest:\")\\nprint(df[target].value_counts())\\n\\n\\n# \\n'"
      ]
     },
     "execution_count": 539,
     "metadata": {},
     "output_type": "execute_result"
    }
   ],
   "source": [
    "\"\"\"\n",
    "# 1) Separate the features from the target\n",
    "features = df.drop(columns=[target])\n",
    "\n",
    "# 2) Initialize the Isolation Forest with 5% \n",
    "iso_forest = IsolationForest(contamination=0.05, random_state=42)\n",
    "\n",
    "# 3) Fit the model on the features\n",
    "iso_forest.fit(features)\n",
    "\n",
    "# 4) Predict outliers (1 = inlier, -1 = outlier)\n",
    "df['outlier_label'] = iso_forest.predict(features)\n",
    "\n",
    "# 5) Filter to keep only inliers\n",
    "df_no_outliers = df[df['outlier_label'] == 1].copy()\n",
    "\n",
    "# 6) Drop the temporary outlier label\n",
    "df_no_outliers.drop(columns=['outlier_label'], inplace=True)\n",
    "\n",
    "# 7) Calculate and display the number of outliers removed\n",
    "num_outliers_removed = len(df) - len(df_no_outliers)\n",
    "print(f\"Number of outliers removed: {num_outliers_removed}\")\n",
    "\n",
    "# 8) Update the original dataframe\n",
    "df = df_no_outliers\n",
    "\n",
    "# 9) Show the class distribution after outlier removal\n",
    "print(\"Class distribution AFTER Isolation Forest:\")\n",
    "print(df[target].value_counts())\n",
    "\n",
    "\n",
    "# \n",
    "\"\"\""
   ]
  },
  {
   "cell_type": "markdown",
   "metadata": {},
   "source": [
    "**I will use  Mahalanobis for detecting the Multivariate outliers.**"
   ]
  },
  {
   "cell_type": "code",
   "execution_count": 540,
   "metadata": {},
   "outputs": [
    {
     "data": {
      "text/plain": [
       "'data = df.values\\n\\n# Here is needed to calculate average value for each column and covariance matrix\\nmu = np.mean(data, axis=0)\\nSigma = np.cov(data, rowvar=False)\\n# Creating the list to store the Mahalanobis distances.\\n\\nlist = []\\nfor i in range(data.shape[0]):\\n    x = data[i]\\n    list.append(mahalanobis(x, mu, Sigma))\\n\\n# Calculating  Outlier Threshold\\nalpha = 0.05\\nthreshold = np.quantile(list, 1 - alpha)\\n\\n#Identify Outliers\\noutliers = np.where(list > threshold)[0]\\nprint(\"Number of outliers:\", len(outliers))\\ndf = df.drop(df.index[outliers])\\n'"
      ]
     },
     "execution_count": 540,
     "metadata": {},
     "output_type": "execute_result"
    }
   ],
   "source": [
    "\"\"\"data = df.values\n",
    "\n",
    "# Here is needed to calculate average value for each column and covariance matrix\n",
    "mu = np.mean(data, axis=0)\n",
    "Sigma = np.cov(data, rowvar=False)\n",
    "# Creating the list to store the Mahalanobis distances.\n",
    "\n",
    "list = []\n",
    "for i in range(data.shape[0]):\n",
    "    x = data[i]\n",
    "    list.append(mahalanobis(x, mu, Sigma))\n",
    "\n",
    "# Calculating  Outlier Threshold\n",
    "alpha = 0.05\n",
    "threshold = np.quantile(list, 1 - alpha)\n",
    "\n",
    "#Identify Outliers\n",
    "outliers = np.where(list > threshold)[0]\n",
    "print(\"Number of outliers:\", len(outliers))\n",
    "df = df.drop(df.index[outliers])\n",
    "\"\"\""
   ]
  },
  {
   "cell_type": "code",
   "execution_count": 541,
   "metadata": {},
   "outputs": [
    {
     "data": {
      "text/plain": [
       "(229781, 22)"
      ]
     },
     "execution_count": 541,
     "metadata": {},
     "output_type": "execute_result"
    }
   ],
   "source": [
    "# let's check the shape of the dataset after dealing with noise data\n",
    "df.shape    "
   ]
  },
  {
   "cell_type": "code",
   "execution_count": 542,
   "metadata": {},
   "outputs": [
    {
     "data": {
      "text/plain": [
       "'\\nvariance = df.var() \\nno_variance_cols = variance[variance == 0].index\\nprint(\"Columns with not variance:\", no_variance_cols.tolist())\\n\\n'"
      ]
     },
     "execution_count": 542,
     "metadata": {},
     "output_type": "execute_result"
    }
   ],
   "source": [
    "# In this dataset, some columns have low variance, after removing the outliers and overlapping data.\n",
    "# I need to check for columns with no variance.\n",
    "# I had same problem in the previous dataset, so I am gonna use the same code to check for columns with no variance.\n",
    "\"\"\"\n",
    "variance = df.var() \n",
    "no_variance_cols = variance[variance == 0].index\n",
    "print(\"Columns with not variance:\", no_variance_cols.tolist())\n",
    "\n",
    "\"\"\""
   ]
  },
  {
   "cell_type": "code",
   "execution_count": 543,
   "metadata": {},
   "outputs": [
    {
     "data": {
      "text/plain": [
       "Diabetes\n",
       "0.00    190055\n",
       "2.00     35097\n",
       "1.00      4629\n",
       "Name: count, dtype: int64"
      ]
     },
     "execution_count": 543,
     "metadata": {},
     "output_type": "execute_result"
    }
   ],
   "source": [
    "df['Diabetes'].value_counts()"
   ]
  },
  {
   "cell_type": "code",
   "execution_count": 544,
   "metadata": {},
   "outputs": [],
   "source": [
    "x = df.drop('Diabetes', axis=1)\n",
    "Y = df['Diabetes']"
   ]
  },
  {
   "cell_type": "code",
   "execution_count": 545,
   "metadata": {},
   "outputs": [
    {
     "data": {
      "application/vnd.microsoft.datawrangler.viewer.v0+json": {
       "columns": [
        {
         "name": "index",
         "rawType": "int64",
         "type": "integer"
        },
        {
         "name": "Features",
         "rawType": "object",
         "type": "string"
        },
        {
         "name": "Score",
         "rawType": "float64",
         "type": "float"
        }
       ],
       "conversionMethod": "pd.DataFrame",
       "ref": "9c1028f3-c6d9-46d9-b1ac-7d1c5b20fb30",
       "rows": [
        [
         "15",
         "PhysHlth",
         "103705.81"
        ],
        [
         "3",
         "BMI",
         "16667.01"
        ],
        [
         "14",
         "MentHlth",
         "13499.06"
        ],
        [
         "18",
         "Age",
         "9400.41"
        ],
        [
         "0",
         "HighBP",
         "8633.56"
        ],
        [
         "16",
         "DiffWalk",
         "8310.28"
        ],
        [
         "13",
         "GenHlth",
         "8142.6"
        ],
        [
         "6",
         "HeartDiseaseorAttack",
         "6015.66"
        ],
        [
         "1",
         "HighChol",
         "5381.99"
        ],
        [
         "20",
         "Income",
         "3748.25"
        ],
        [
         "5",
         "Stroke",
         "2212.06"
        ],
        [
         "10",
         "HvyAlcoholConsump",
         "973.68"
        ],
        [
         "7",
         "PhysActivity",
         "656.19"
        ],
        [
         "19",
         "Education",
         "537.07"
        ],
        [
         "4",
         "Smoker",
         "268.92"
        ],
        [
         "12",
         "NoDocbcCost",
         "163.14"
        ],
        [
         "17",
         "Sex",
         "137.0"
        ],
        [
         "9",
         "Veggies",
         "89.55"
        ],
        [
         "8",
         "Fruits",
         "57.67"
        ],
        [
         "2",
         "CholCheck",
         "54.16"
        ],
        [
         "11",
         "AnyHealthcare",
         "7.88"
        ]
       ],
       "shape": {
        "columns": 2,
        "rows": 21
       }
      },
      "text/html": [
       "<div>\n",
       "<style scoped>\n",
       "    .dataframe tbody tr th:only-of-type {\n",
       "        vertical-align: middle;\n",
       "    }\n",
       "\n",
       "    .dataframe tbody tr th {\n",
       "        vertical-align: top;\n",
       "    }\n",
       "\n",
       "    .dataframe thead th {\n",
       "        text-align: right;\n",
       "    }\n",
       "</style>\n",
       "<table border=\"1\" class=\"dataframe\">\n",
       "  <thead>\n",
       "    <tr style=\"text-align: right;\">\n",
       "      <th></th>\n",
       "      <th>Features</th>\n",
       "      <th>Score</th>\n",
       "    </tr>\n",
       "  </thead>\n",
       "  <tbody>\n",
       "    <tr>\n",
       "      <th>15</th>\n",
       "      <td>PhysHlth</td>\n",
       "      <td>103705.81</td>\n",
       "    </tr>\n",
       "    <tr>\n",
       "      <th>3</th>\n",
       "      <td>BMI</td>\n",
       "      <td>16667.01</td>\n",
       "    </tr>\n",
       "    <tr>\n",
       "      <th>14</th>\n",
       "      <td>MentHlth</td>\n",
       "      <td>13499.06</td>\n",
       "    </tr>\n",
       "    <tr>\n",
       "      <th>18</th>\n",
       "      <td>Age</td>\n",
       "      <td>9400.41</td>\n",
       "    </tr>\n",
       "    <tr>\n",
       "      <th>0</th>\n",
       "      <td>HighBP</td>\n",
       "      <td>8633.56</td>\n",
       "    </tr>\n",
       "    <tr>\n",
       "      <th>16</th>\n",
       "      <td>DiffWalk</td>\n",
       "      <td>8310.28</td>\n",
       "    </tr>\n",
       "    <tr>\n",
       "      <th>13</th>\n",
       "      <td>GenHlth</td>\n",
       "      <td>8142.60</td>\n",
       "    </tr>\n",
       "    <tr>\n",
       "      <th>6</th>\n",
       "      <td>HeartDiseaseorAttack</td>\n",
       "      <td>6015.66</td>\n",
       "    </tr>\n",
       "    <tr>\n",
       "      <th>1</th>\n",
       "      <td>HighChol</td>\n",
       "      <td>5381.99</td>\n",
       "    </tr>\n",
       "    <tr>\n",
       "      <th>20</th>\n",
       "      <td>Income</td>\n",
       "      <td>3748.25</td>\n",
       "    </tr>\n",
       "    <tr>\n",
       "      <th>5</th>\n",
       "      <td>Stroke</td>\n",
       "      <td>2212.06</td>\n",
       "    </tr>\n",
       "    <tr>\n",
       "      <th>10</th>\n",
       "      <td>HvyAlcoholConsump</td>\n",
       "      <td>973.68</td>\n",
       "    </tr>\n",
       "    <tr>\n",
       "      <th>7</th>\n",
       "      <td>PhysActivity</td>\n",
       "      <td>656.19</td>\n",
       "    </tr>\n",
       "    <tr>\n",
       "      <th>19</th>\n",
       "      <td>Education</td>\n",
       "      <td>537.07</td>\n",
       "    </tr>\n",
       "    <tr>\n",
       "      <th>4</th>\n",
       "      <td>Smoker</td>\n",
       "      <td>268.92</td>\n",
       "    </tr>\n",
       "    <tr>\n",
       "      <th>12</th>\n",
       "      <td>NoDocbcCost</td>\n",
       "      <td>163.14</td>\n",
       "    </tr>\n",
       "    <tr>\n",
       "      <th>17</th>\n",
       "      <td>Sex</td>\n",
       "      <td>137.00</td>\n",
       "    </tr>\n",
       "    <tr>\n",
       "      <th>9</th>\n",
       "      <td>Veggies</td>\n",
       "      <td>89.55</td>\n",
       "    </tr>\n",
       "    <tr>\n",
       "      <th>8</th>\n",
       "      <td>Fruits</td>\n",
       "      <td>57.67</td>\n",
       "    </tr>\n",
       "    <tr>\n",
       "      <th>2</th>\n",
       "      <td>CholCheck</td>\n",
       "      <td>54.16</td>\n",
       "    </tr>\n",
       "    <tr>\n",
       "      <th>11</th>\n",
       "      <td>AnyHealthcare</td>\n",
       "      <td>7.88</td>\n",
       "    </tr>\n",
       "  </tbody>\n",
       "</table>\n",
       "</div>"
      ],
      "text/plain": [
       "                Features     Score\n",
       "15              PhysHlth 103705.81\n",
       "3                    BMI  16667.01\n",
       "14              MentHlth  13499.06\n",
       "18                   Age   9400.41\n",
       "0                 HighBP   8633.56\n",
       "16              DiffWalk   8310.28\n",
       "13               GenHlth   8142.60\n",
       "6   HeartDiseaseorAttack   6015.66\n",
       "1               HighChol   5381.99\n",
       "20                Income   3748.25\n",
       "5                 Stroke   2212.06\n",
       "10     HvyAlcoholConsump    973.68\n",
       "7           PhysActivity    656.19\n",
       "19             Education    537.07\n",
       "4                 Smoker    268.92\n",
       "12           NoDocbcCost    163.14\n",
       "17                   Sex    137.00\n",
       "9                Veggies     89.55\n",
       "8                 Fruits     57.67\n",
       "2              CholCheck     54.16\n",
       "11         AnyHealthcare      7.88"
      ]
     },
     "execution_count": 545,
     "metadata": {},
     "output_type": "execute_result"
    }
   ],
   "source": [
    "X_cat = x.astype(int)\n",
    "X_cat = X_cat.clip(lower=0)\n",
    "\n",
    "chi_2_features = SelectKBest(chi2, k=len(X_cat.columns))\n",
    "\n",
    "best_features = chi_2_features.fit(X_cat,Y.astype(int))\n",
    "pd.options.display.float_format = '{:.2f}'.format\n",
    "\n",
    "df_features = pd.DataFrame(best_features.scores_)\n",
    "df_columns = pd.DataFrame(X_cat.columns)\n",
    "f_scores = pd.concat([df_columns,df_features],axis=1).round(2)  \n",
    "f_scores.columns = ['Features','Score']\n",
    "f_scores.sort_values(by='Score',ascending=False)"
   ]
  },
  {
   "cell_type": "code",
   "execution_count": 546,
   "metadata": {},
   "outputs": [
    {
     "data": {
      "text/plain": [
       "\"\\nmatual_info = mutual_info_classif(x, Y, random_state=42)  \\n\\nmutual_info = pd.DataFrame(matual_info)\\ndf_columns = pd.DataFrame(x.columns)\\n\\nmutual_info_scores = pd.concat([df_columns,mutual_info],axis=1).round(2)    \\nmutual_info_scores.columns = ['Features','Score']\\nmutual_info_scores.sort_values(by='Score',ascending=False)\\n\\n\""
      ]
     },
     "execution_count": 546,
     "metadata": {},
     "output_type": "execute_result"
    }
   ],
   "source": [
    "\"\"\"\n",
    "matual_info = mutual_info_classif(x, Y, random_state=42)  \n",
    "\n",
    "mutual_info = pd.DataFrame(matual_info)\n",
    "df_columns = pd.DataFrame(x.columns)\n",
    "\n",
    "mutual_info_scores = pd.concat([df_columns,mutual_info],axis=1).round(2)    \n",
    "mutual_info_scores.columns = ['Features','Score']\n",
    "mutual_info_scores.sort_values(by='Score',ascending=False)\n",
    "\n",
    "\"\"\"\n"
   ]
  },
  {
   "cell_type": "code",
   "execution_count": 547,
   "metadata": {},
   "outputs": [
    {
     "data": {
      "text/plain": [
       "\"sel_cols = SelectKBest(mutual_info_classif, k=10)\\nsel_cols.fit(x, Y)\\n\\nselected_features = pd.DataFrame({\\n    'Feature': x.columns, \\n    'Select': sel_cols.get_support(indices=True)}).sort_values(by='Select', ascending=False).round(2)\\n\\nselected_features\\n\""
      ]
     },
     "execution_count": 547,
     "metadata": {},
     "output_type": "execute_result"
    }
   ],
   "source": [
    "\"\"\"sel_cols = SelectKBest(mutual_info_classif, k=10)\n",
    "sel_cols.fit(x, Y)\n",
    "\n",
    "selected_features = pd.DataFrame({\n",
    "    'Feature': x.columns, \n",
    "    'Select': sel_cols.get_support(indices=True)}).sort_values(by='Select', ascending=False).round(2)\n",
    "\n",
    "selected_features\n",
    "\"\"\""
   ]
  },
  {
   "cell_type": "code",
   "execution_count": 548,
   "metadata": {},
   "outputs": [
    {
     "data": {
      "text/plain": [
       "\"\\nsel_cols = SelectPercentile(mutual_info_classif, percentile=50)\\nsel_cols.fit(x, Y)\\nselected_features = pd.DataFrame({\\n    'Feature': x.columns, \\n    'Selected': sel_cols.get_support()}).sort_values(by='Selected', ascending=False)\\nselected_features\\n\\n\""
      ]
     },
     "execution_count": 548,
     "metadata": {},
     "output_type": "execute_result"
    }
   ],
   "source": [
    "\"\"\"\n",
    "sel_cols = SelectPercentile(mutual_info_classif, percentile=50)\n",
    "sel_cols.fit(x, Y)\n",
    "selected_features = pd.DataFrame({\n",
    "    'Feature': x.columns, \n",
    "    'Selected': sel_cols.get_support()}).sort_values(by='Selected', ascending=False)\n",
    "selected_features\n",
    "\n",
    "\"\"\""
   ]
  },
  {
   "cell_type": "code",
   "execution_count": 549,
   "metadata": {},
   "outputs": [],
   "source": [
    "# Drop columns with False values\n",
    "#df = df.drop(columns=selected_features[selected_features['Selected'] == False]['Feature']) \n",
    "#df.head()   "
   ]
  },
  {
   "cell_type": "code",
   "execution_count": 550,
   "metadata": {},
   "outputs": [
    {
     "data": {
      "application/vnd.microsoft.datawrangler.viewer.v0+json": {
       "columns": [
        {
         "name": "index",
         "rawType": "int64",
         "type": "integer"
        },
        {
         "name": "Diabetes",
         "rawType": "float64",
         "type": "float"
        },
        {
         "name": "HighBP",
         "rawType": "float64",
         "type": "float"
        },
        {
         "name": "HighChol",
         "rawType": "float64",
         "type": "float"
        },
        {
         "name": "BMI",
         "rawType": "float64",
         "type": "float"
        },
        {
         "name": "Stroke",
         "rawType": "float64",
         "type": "float"
        },
        {
         "name": "HeartDiseaseorAttack",
         "rawType": "float64",
         "type": "float"
        },
        {
         "name": "PhysActivity",
         "rawType": "float64",
         "type": "float"
        },
        {
         "name": "HvyAlcoholConsump",
         "rawType": "float64",
         "type": "float"
        },
        {
         "name": "AnyHealthcare",
         "rawType": "float64",
         "type": "float"
        },
        {
         "name": "GenHlth",
         "rawType": "float64",
         "type": "float"
        },
        {
         "name": "PhysHlth",
         "rawType": "float64",
         "type": "float"
        },
        {
         "name": "DiffWalk",
         "rawType": "float64",
         "type": "float"
        },
        {
         "name": "Sex",
         "rawType": "float64",
         "type": "float"
        },
        {
         "name": "Age",
         "rawType": "float64",
         "type": "float"
        },
        {
         "name": "Education",
         "rawType": "float64",
         "type": "float"
        },
        {
         "name": "Income",
         "rawType": "float64",
         "type": "float"
        }
       ],
       "conversionMethod": "pd.DataFrame",
       "ref": "03f17cb2-f4db-46cb-9c82-801c5b034231",
       "rows": [
        [
         "0",
         "0.0",
         "1.0",
         "1.0",
         "40.0",
         "0.0",
         "0.0",
         "0.0",
         "0.0",
         "1.0",
         "5.0",
         "15.0",
         "1.0",
         "0.0",
         "9.0",
         "4.0",
         "3.0"
        ],
        [
         "1",
         "0.0",
         "0.0",
         "0.0",
         "25.0",
         "0.0",
         "0.0",
         "1.0",
         "0.0",
         "0.0",
         "3.0",
         "0.0",
         "0.0",
         "0.0",
         "7.0",
         "6.0",
         "1.0"
        ],
        [
         "2",
         "0.0",
         "1.0",
         "1.0",
         "28.0",
         "0.0",
         "0.0",
         "0.0",
         "0.0",
         "1.0",
         "5.0",
         "30.0",
         "1.0",
         "0.0",
         "9.0",
         "4.0",
         "8.0"
        ],
        [
         "3",
         "0.0",
         "1.0",
         "0.0",
         "27.0",
         "0.0",
         "0.0",
         "1.0",
         "0.0",
         "1.0",
         "2.0",
         "0.0",
         "0.0",
         "0.0",
         "11.0",
         "3.0",
         "6.0"
        ],
        [
         "4",
         "0.0",
         "1.0",
         "1.0",
         "24.0",
         "0.0",
         "0.0",
         "1.0",
         "0.0",
         "1.0",
         "2.0",
         "0.0",
         "0.0",
         "0.0",
         "11.0",
         "5.0",
         "4.0"
        ]
       ],
       "shape": {
        "columns": 16,
        "rows": 5
       }
      },
      "text/html": [
       "<div>\n",
       "<style scoped>\n",
       "    .dataframe tbody tr th:only-of-type {\n",
       "        vertical-align: middle;\n",
       "    }\n",
       "\n",
       "    .dataframe tbody tr th {\n",
       "        vertical-align: top;\n",
       "    }\n",
       "\n",
       "    .dataframe thead th {\n",
       "        text-align: right;\n",
       "    }\n",
       "</style>\n",
       "<table border=\"1\" class=\"dataframe\">\n",
       "  <thead>\n",
       "    <tr style=\"text-align: right;\">\n",
       "      <th></th>\n",
       "      <th>Diabetes</th>\n",
       "      <th>HighBP</th>\n",
       "      <th>HighChol</th>\n",
       "      <th>BMI</th>\n",
       "      <th>Stroke</th>\n",
       "      <th>HeartDiseaseorAttack</th>\n",
       "      <th>PhysActivity</th>\n",
       "      <th>HvyAlcoholConsump</th>\n",
       "      <th>AnyHealthcare</th>\n",
       "      <th>GenHlth</th>\n",
       "      <th>PhysHlth</th>\n",
       "      <th>DiffWalk</th>\n",
       "      <th>Sex</th>\n",
       "      <th>Age</th>\n",
       "      <th>Education</th>\n",
       "      <th>Income</th>\n",
       "    </tr>\n",
       "  </thead>\n",
       "  <tbody>\n",
       "    <tr>\n",
       "      <th>0</th>\n",
       "      <td>0.00</td>\n",
       "      <td>1.00</td>\n",
       "      <td>1.00</td>\n",
       "      <td>40.00</td>\n",
       "      <td>0.00</td>\n",
       "      <td>0.00</td>\n",
       "      <td>0.00</td>\n",
       "      <td>0.00</td>\n",
       "      <td>1.00</td>\n",
       "      <td>5.00</td>\n",
       "      <td>15.00</td>\n",
       "      <td>1.00</td>\n",
       "      <td>0.00</td>\n",
       "      <td>9.00</td>\n",
       "      <td>4.00</td>\n",
       "      <td>3.00</td>\n",
       "    </tr>\n",
       "    <tr>\n",
       "      <th>1</th>\n",
       "      <td>0.00</td>\n",
       "      <td>0.00</td>\n",
       "      <td>0.00</td>\n",
       "      <td>25.00</td>\n",
       "      <td>0.00</td>\n",
       "      <td>0.00</td>\n",
       "      <td>1.00</td>\n",
       "      <td>0.00</td>\n",
       "      <td>0.00</td>\n",
       "      <td>3.00</td>\n",
       "      <td>0.00</td>\n",
       "      <td>0.00</td>\n",
       "      <td>0.00</td>\n",
       "      <td>7.00</td>\n",
       "      <td>6.00</td>\n",
       "      <td>1.00</td>\n",
       "    </tr>\n",
       "    <tr>\n",
       "      <th>2</th>\n",
       "      <td>0.00</td>\n",
       "      <td>1.00</td>\n",
       "      <td>1.00</td>\n",
       "      <td>28.00</td>\n",
       "      <td>0.00</td>\n",
       "      <td>0.00</td>\n",
       "      <td>0.00</td>\n",
       "      <td>0.00</td>\n",
       "      <td>1.00</td>\n",
       "      <td>5.00</td>\n",
       "      <td>30.00</td>\n",
       "      <td>1.00</td>\n",
       "      <td>0.00</td>\n",
       "      <td>9.00</td>\n",
       "      <td>4.00</td>\n",
       "      <td>8.00</td>\n",
       "    </tr>\n",
       "    <tr>\n",
       "      <th>3</th>\n",
       "      <td>0.00</td>\n",
       "      <td>1.00</td>\n",
       "      <td>0.00</td>\n",
       "      <td>27.00</td>\n",
       "      <td>0.00</td>\n",
       "      <td>0.00</td>\n",
       "      <td>1.00</td>\n",
       "      <td>0.00</td>\n",
       "      <td>1.00</td>\n",
       "      <td>2.00</td>\n",
       "      <td>0.00</td>\n",
       "      <td>0.00</td>\n",
       "      <td>0.00</td>\n",
       "      <td>11.00</td>\n",
       "      <td>3.00</td>\n",
       "      <td>6.00</td>\n",
       "    </tr>\n",
       "    <tr>\n",
       "      <th>4</th>\n",
       "      <td>0.00</td>\n",
       "      <td>1.00</td>\n",
       "      <td>1.00</td>\n",
       "      <td>24.00</td>\n",
       "      <td>0.00</td>\n",
       "      <td>0.00</td>\n",
       "      <td>1.00</td>\n",
       "      <td>0.00</td>\n",
       "      <td>1.00</td>\n",
       "      <td>2.00</td>\n",
       "      <td>0.00</td>\n",
       "      <td>0.00</td>\n",
       "      <td>0.00</td>\n",
       "      <td>11.00</td>\n",
       "      <td>5.00</td>\n",
       "      <td>4.00</td>\n",
       "    </tr>\n",
       "  </tbody>\n",
       "</table>\n",
       "</div>"
      ],
      "text/plain": [
       "   Diabetes  HighBP  HighChol   BMI  Stroke  HeartDiseaseorAttack  \\\n",
       "0      0.00    1.00      1.00 40.00    0.00                  0.00   \n",
       "1      0.00    0.00      0.00 25.00    0.00                  0.00   \n",
       "2      0.00    1.00      1.00 28.00    0.00                  0.00   \n",
       "3      0.00    1.00      0.00 27.00    0.00                  0.00   \n",
       "4      0.00    1.00      1.00 24.00    0.00                  0.00   \n",
       "\n",
       "   PhysActivity  HvyAlcoholConsump  AnyHealthcare  GenHlth  PhysHlth  \\\n",
       "0          0.00               0.00           1.00     5.00     15.00   \n",
       "1          1.00               0.00           0.00     3.00      0.00   \n",
       "2          0.00               0.00           1.00     5.00     30.00   \n",
       "3          1.00               0.00           1.00     2.00      0.00   \n",
       "4          1.00               0.00           1.00     2.00      0.00   \n",
       "\n",
       "   DiffWalk  Sex   Age  Education  Income  \n",
       "0      1.00 0.00  9.00       4.00    3.00  \n",
       "1      0.00 0.00  7.00       6.00    1.00  \n",
       "2      1.00 0.00  9.00       4.00    8.00  \n",
       "3      0.00 0.00 11.00       3.00    6.00  \n",
       "4      0.00 0.00 11.00       5.00    4.00  "
      ]
     },
     "execution_count": 550,
     "metadata": {},
     "output_type": "execute_result"
    }
   ],
   "source": [
    "df=df.drop(columns=['CholCheck','Fruits', 'Veggies','NoDocbcCost','MentHlth','CholCheck','Smoker'])\n",
    "df.head()"
   ]
  },
  {
   "cell_type": "code",
   "execution_count": 551,
   "metadata": {},
   "outputs": [],
   "source": [
    "# save the cleaned dataset\n",
    "df.to_csv('dataset_classification/diabetes_012_health_indicators_BRFSS2015_cleaned.csv', index=False)"
   ]
  },
  {
   "cell_type": "code",
   "execution_count": null,
   "metadata": {},
   "outputs": [],
   "source": []
  }
 ],
 "metadata": {
  "kernelspec": {
   "display_name": ".venv",
   "language": "python",
   "name": "python3"
  },
  "language_info": {
   "codemirror_mode": {
    "name": "ipython",
    "version": 3
   },
   "file_extension": ".py",
   "mimetype": "text/x-python",
   "name": "python",
   "nbconvert_exporter": "python",
   "pygments_lexer": "ipython3",
   "version": "3.10.11"
  }
 },
 "nbformat": 4,
 "nbformat_minor": 2
}
