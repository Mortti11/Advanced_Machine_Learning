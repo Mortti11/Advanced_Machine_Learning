{
 "cells": [
  {
   "cell_type": "code",
   "execution_count": 1,
   "id": "64060343",
   "metadata": {},
   "outputs": [],
   "source": [
    "import numpy as np\n",
    "import pandas as pd\n",
    "import torch\n",
    "import torch.nn.functional as F\n",
    "import torch.optim as optim\n",
    "from torch.utils.data import TensorDataset, DataLoader\n",
    "import torch.nn as nn\n",
    "import torchbnn as bnn \n",
    "import matplotlib.pyplot as plt\n",
    "\n",
    "\n",
    "from sklearn.model_selection import train_test_split, RandomizedSearchCV\n",
    "\n",
    "from sklearn.metrics import (accuracy_score, precision_score, confusion_matrix,\n",
    "                             roc_auc_score, brier_score_loss, roc_curve,\n",
    "                             mean_squared_error, mean_absolute_error, r2_score,  classification_report,\n",
    "                             )\n",
    "\n",
    "\n",
    "from sklearn.calibration import calibration_curve\n",
    "from xgboost import XGBClassifier \n",
    "from sklearn.model_selection import train_test_split, RandomizedSearchCV\n",
    "\n",
    "from sklearn.preprocessing import StandardScaler\n",
    "from tqdm import tqdm\n",
    "import time"
   ]
  },
  {
   "cell_type": "markdown",
   "id": "80d6b958",
   "metadata": {},
   "source": [
    "**Traditional neural networks** learn fixed numbers to make predictions, even if the training data is small or messy.<br>\n",
    "**BNNs** use ranges of possible values (probability distributions) for weights, BNNs sample multiple guesses from those ranges. <br>If the guesses are similar, the model is confident; if they vary wildly, it admits uncertainty."
   ]
  },
  {
   "cell_type": "code",
   "execution_count": 2,
   "id": "368600d6",
   "metadata": {},
   "outputs": [
    {
     "data": {
      "text/html": [
       "<div>\n",
       "<style scoped>\n",
       "    .dataframe tbody tr th:only-of-type {\n",
       "        vertical-align: middle;\n",
       "    }\n",
       "\n",
       "    .dataframe tbody tr th {\n",
       "        vertical-align: top;\n",
       "    }\n",
       "\n",
       "    .dataframe thead th {\n",
       "        text-align: right;\n",
       "    }\n",
       "</style>\n",
       "<table border=\"1\" class=\"dataframe\">\n",
       "  <thead>\n",
       "    <tr style=\"text-align: right;\">\n",
       "      <th></th>\n",
       "      <th>Pregnancies</th>\n",
       "      <th>Glucose</th>\n",
       "      <th>BloodPressure</th>\n",
       "      <th>SkinThickness</th>\n",
       "      <th>Insulin</th>\n",
       "      <th>BMI</th>\n",
       "      <th>DiabetesPedigreeFunction</th>\n",
       "      <th>Age</th>\n",
       "      <th>Outcome</th>\n",
       "    </tr>\n",
       "  </thead>\n",
       "  <tbody>\n",
       "    <tr>\n",
       "      <th>0</th>\n",
       "      <td>6.0</td>\n",
       "      <td>148.0</td>\n",
       "      <td>72.0</td>\n",
       "      <td>35.00</td>\n",
       "      <td>79.8</td>\n",
       "      <td>33.6</td>\n",
       "      <td>0.627</td>\n",
       "      <td>50.0</td>\n",
       "      <td>1</td>\n",
       "    </tr>\n",
       "    <tr>\n",
       "      <th>1</th>\n",
       "      <td>1.0</td>\n",
       "      <td>85.0</td>\n",
       "      <td>66.0</td>\n",
       "      <td>29.00</td>\n",
       "      <td>79.8</td>\n",
       "      <td>26.6</td>\n",
       "      <td>0.351</td>\n",
       "      <td>31.0</td>\n",
       "      <td>0</td>\n",
       "    </tr>\n",
       "    <tr>\n",
       "      <th>2</th>\n",
       "      <td>8.0</td>\n",
       "      <td>183.0</td>\n",
       "      <td>64.0</td>\n",
       "      <td>20.54</td>\n",
       "      <td>79.8</td>\n",
       "      <td>23.3</td>\n",
       "      <td>0.672</td>\n",
       "      <td>32.0</td>\n",
       "      <td>1</td>\n",
       "    </tr>\n",
       "    <tr>\n",
       "      <th>3</th>\n",
       "      <td>1.0</td>\n",
       "      <td>89.0</td>\n",
       "      <td>66.0</td>\n",
       "      <td>23.00</td>\n",
       "      <td>94.0</td>\n",
       "      <td>28.1</td>\n",
       "      <td>0.167</td>\n",
       "      <td>21.0</td>\n",
       "      <td>0</td>\n",
       "    </tr>\n",
       "    <tr>\n",
       "      <th>4</th>\n",
       "      <td>0.0</td>\n",
       "      <td>137.0</td>\n",
       "      <td>40.0</td>\n",
       "      <td>35.00</td>\n",
       "      <td>168.0</td>\n",
       "      <td>43.1</td>\n",
       "      <td>1.200</td>\n",
       "      <td>33.0</td>\n",
       "      <td>1</td>\n",
       "    </tr>\n",
       "  </tbody>\n",
       "</table>\n",
       "</div>"
      ],
      "text/plain": [
       "   Pregnancies  Glucose  BloodPressure  SkinThickness  Insulin   BMI  \\\n",
       "0          6.0    148.0           72.0          35.00     79.8  33.6   \n",
       "1          1.0     85.0           66.0          29.00     79.8  26.6   \n",
       "2          8.0    183.0           64.0          20.54     79.8  23.3   \n",
       "3          1.0     89.0           66.0          23.00     94.0  28.1   \n",
       "4          0.0    137.0           40.0          35.00    168.0  43.1   \n",
       "\n",
       "   DiabetesPedigreeFunction   Age  Outcome  \n",
       "0                     0.627  50.0        1  \n",
       "1                     0.351  31.0        0  \n",
       "2                     0.672  32.0        1  \n",
       "3                     0.167  21.0        0  \n",
       "4                     1.200  33.0        1  "
      ]
     },
     "execution_count": 2,
     "metadata": {},
     "output_type": "execute_result"
    }
   ],
   "source": [
    "# I am using the diabetes dataset from Introduction ML Course \n",
    "df = pd.read_csv('diabetes_cleaned.csv')\n",
    "df.head()"
   ]
  },
  {
   "cell_type": "markdown",
   "id": "dee8c0f7",
   "metadata": {},
   "source": [
    "**Preprocessing**"
   ]
  },
  {
   "cell_type": "code",
   "execution_count": 3,
   "id": "d8001b24",
   "metadata": {},
   "outputs": [
    {
     "data": {
      "text/plain": [
       "(768, 9)"
      ]
     },
     "execution_count": 3,
     "metadata": {},
     "output_type": "execute_result"
    }
   ],
   "source": [
    "df.shape"
   ]
  },
  {
   "cell_type": "code",
   "execution_count": 4,
   "id": "7ba57cd0",
   "metadata": {},
   "outputs": [
    {
     "name": "stdout",
     "output_type": "stream",
     "text": [
      "X train shape:torch.Size([614, 8]) y train shape:torch.Size([614])\n",
      "\n",
      "X validation shape:torch.Size([77, 8]) validation shape:torch.Size([77])\n",
      "\n",
      "X test shape:torch.Size([77, 8]) y test shape:torch.Size([77])\n"
     ]
    }
   ],
   "source": [
    "# Features and target value\n",
    "# Since I will train BBN model in Pytorch framework, I need numpy array with no label\n",
    "X = df.drop(columns=['Outcome']).values \n",
    "y = df['Outcome'].values \n",
    "\n",
    "# Standardize the features\n",
    "scaler = StandardScaler()\n",
    "#X = scaler.fit_transform(X)\n",
    "\n",
    "# Making train/ validation and test splits\n",
    "X_train, X_test, y_train, y_test = train_test_split(X, y, test_size=0.2, random_state=42, stratify=y)\n",
    "X_test, X_val, y_test, y_val = train_test_split(X_test, y_test, test_size=0.5, random_state=42, stratify=y_test)\n",
    "\n",
    "\n",
    "# Convert NumPy arrays into PyTorch tensors\n",
    "X_train, X_val, X_test = [torch.tensor(a, dtype=torch.float32) for a in (X_train, X_val, X_test)]\n",
    "y_train, y_val, y_test = [torch.tensor(a, dtype=torch.long)   for a in (y_train, y_val, y_test)]\n",
    "\n",
    "print(f'X train shape:{X_train.shape} y train shape:{y_train.shape}')\n",
    "print(f'\\nX validation shape:{X_val.shape} validation shape:{y_val.shape}')\n",
    "print(f'\\nX test shape:{X_test.shape} y test shape:{y_test.shape}')"
   ]
  },
  {
   "cell_type": "markdown",
   "id": "4de2db5a",
   "metadata": {},
   "source": [
    "Establish a baseline with XGBoost classifier"
   ]
  },
  {
   "cell_type": "code",
   "execution_count": 5,
   "id": "2a9ee99b",
   "metadata": {},
   "outputs": [
    {
     "name": "stdout",
     "output_type": "stream",
     "text": [
      "[0]\tvalidation_0-logloss:0.64417\n",
      "[1]\tvalidation_0-logloss:0.64060\n",
      "[2]\tvalidation_0-logloss:0.63705\n",
      "[3]\tvalidation_0-logloss:0.63360\n",
      "[4]\tvalidation_0-logloss:0.63032\n",
      "[5]\tvalidation_0-logloss:0.62710\n",
      "[6]\tvalidation_0-logloss:0.62384\n",
      "[7]\tvalidation_0-logloss:0.62051\n",
      "[8]\tvalidation_0-logloss:0.61720\n",
      "[9]\tvalidation_0-logloss:0.61425\n",
      "[10]\tvalidation_0-logloss:0.61129\n",
      "[11]\tvalidation_0-logloss:0.60823\n",
      "[12]\tvalidation_0-logloss:0.60545\n",
      "[13]\tvalidation_0-logloss:0.60269\n",
      "[14]\tvalidation_0-logloss:0.59996\n",
      "[15]\tvalidation_0-logloss:0.59703\n",
      "[16]\tvalidation_0-logloss:0.59447\n",
      "[17]\tvalidation_0-logloss:0.59145\n",
      "[18]\tvalidation_0-logloss:0.58848\n",
      "[19]\tvalidation_0-logloss:0.58587\n",
      "[20]\tvalidation_0-logloss:0.58334\n",
      "[21]\tvalidation_0-logloss:0.58055\n",
      "[22]\tvalidation_0-logloss:0.57784\n",
      "[23]\tvalidation_0-logloss:0.57511\n",
      "[24]\tvalidation_0-logloss:0.57261\n",
      "[25]\tvalidation_0-logloss:0.57015\n",
      "[26]\tvalidation_0-logloss:0.56762\n",
      "[27]\tvalidation_0-logloss:0.56524\n",
      "[28]\tvalidation_0-logloss:0.56286\n",
      "[29]\tvalidation_0-logloss:0.56085\n",
      "[30]\tvalidation_0-logloss:0.55894\n",
      "[31]\tvalidation_0-logloss:0.55684\n",
      "[32]\tvalidation_0-logloss:0.55490\n",
      "[33]\tvalidation_0-logloss:0.55271\n",
      "[34]\tvalidation_0-logloss:0.55085\n",
      "[35]\tvalidation_0-logloss:0.54887\n",
      "[36]\tvalidation_0-logloss:0.54694\n",
      "[37]\tvalidation_0-logloss:0.54496\n",
      "[38]\tvalidation_0-logloss:0.54300\n",
      "[39]\tvalidation_0-logloss:0.54125\n",
      "[40]\tvalidation_0-logloss:0.53938\n",
      "[41]\tvalidation_0-logloss:0.53769\n",
      "[42]\tvalidation_0-logloss:0.53588\n",
      "[43]\tvalidation_0-logloss:0.53427\n",
      "[44]\tvalidation_0-logloss:0.53256\n",
      "[45]\tvalidation_0-logloss:0.53089\n",
      "[46]\tvalidation_0-logloss:0.52934\n",
      "[47]\tvalidation_0-logloss:0.52760\n",
      "[48]\tvalidation_0-logloss:0.52590\n",
      "[49]\tvalidation_0-logloss:0.52449\n",
      "[50]\tvalidation_0-logloss:0.52283\n",
      "[51]\tvalidation_0-logloss:0.52114\n",
      "[52]\tvalidation_0-logloss:0.51967\n",
      "[53]\tvalidation_0-logloss:0.51833\n",
      "[54]\tvalidation_0-logloss:0.51665\n",
      "[55]\tvalidation_0-logloss:0.51520\n",
      "[56]\tvalidation_0-logloss:0.51367\n",
      "[57]\tvalidation_0-logloss:0.51215\n",
      "[58]\tvalidation_0-logloss:0.51088\n",
      "[59]\tvalidation_0-logloss:0.50947\n",
      "[60]\tvalidation_0-logloss:0.50834\n",
      "[61]\tvalidation_0-logloss:0.50711\n",
      "[62]\tvalidation_0-logloss:0.50598\n",
      "[63]\tvalidation_0-logloss:0.50459\n",
      "[64]\tvalidation_0-logloss:0.50341\n",
      "[65]\tvalidation_0-logloss:0.50225\n",
      "[66]\tvalidation_0-logloss:0.50098\n",
      "[67]\tvalidation_0-logloss:0.49997\n",
      "[68]\tvalidation_0-logloss:0.49846\n",
      "[69]\tvalidation_0-logloss:0.49687\n",
      "[70]\tvalidation_0-logloss:0.49524\n",
      "[71]\tvalidation_0-logloss:0.49364\n",
      "[72]\tvalidation_0-logloss:0.49233\n",
      "[73]\tvalidation_0-logloss:0.49104\n",
      "[74]\tvalidation_0-logloss:0.48972\n"
     ]
    },
    {
     "name": "stderr",
     "output_type": "stream",
     "text": [
      "c:\\Work\\reinforcement-learning\\.venv\\lib\\site-packages\\xgboost\\core.py:158: UserWarning: [16:48:24] WARNING: C:\\buildkite-agent\\builds\\buildkite-windows-cpu-autoscaling-group-i-08cbc0333d8d4aae1-1\\xgboost\\xgboost-ci-windows\\src\\learner.cc:740: \n",
      "Parameters: { \"use_label_encoder\" } are not used.\n",
      "\n",
      "  warnings.warn(smsg, UserWarning)\n"
     ]
    },
    {
     "name": "stdout",
     "output_type": "stream",
     "text": [
      "[75]\tvalidation_0-logloss:0.48833\n",
      "[76]\tvalidation_0-logloss:0.48708\n",
      "[77]\tvalidation_0-logloss:0.48607\n",
      "[78]\tvalidation_0-logloss:0.48507\n",
      "[79]\tvalidation_0-logloss:0.48416\n",
      "[80]\tvalidation_0-logloss:0.48280\n",
      "[81]\tvalidation_0-logloss:0.48154\n",
      "[82]\tvalidation_0-logloss:0.48051\n",
      "[83]\tvalidation_0-logloss:0.47968\n",
      "[84]\tvalidation_0-logloss:0.47837\n",
      "[85]\tvalidation_0-logloss:0.47721\n",
      "[86]\tvalidation_0-logloss:0.47638\n",
      "[87]\tvalidation_0-logloss:0.47563\n",
      "[88]\tvalidation_0-logloss:0.47444\n",
      "[89]\tvalidation_0-logloss:0.47352\n",
      "[90]\tvalidation_0-logloss:0.47234\n",
      "[91]\tvalidation_0-logloss:0.47164\n",
      "[92]\tvalidation_0-logloss:0.47074\n",
      "[93]\tvalidation_0-logloss:0.46956\n",
      "[94]\tvalidation_0-logloss:0.46893\n",
      "[95]\tvalidation_0-logloss:0.46773\n",
      "[96]\tvalidation_0-logloss:0.46753\n",
      "[97]\tvalidation_0-logloss:0.46673\n",
      "[98]\tvalidation_0-logloss:0.46581\n",
      "[99]\tvalidation_0-logloss:0.46560\n",
      "[100]\tvalidation_0-logloss:0.46544\n",
      "[101]\tvalidation_0-logloss:0.46449\n",
      "[102]\tvalidation_0-logloss:0.46338\n",
      "[103]\tvalidation_0-logloss:0.46276\n",
      "[104]\tvalidation_0-logloss:0.46172\n",
      "[105]\tvalidation_0-logloss:0.46082\n",
      "[106]\tvalidation_0-logloss:0.46072\n",
      "[107]\tvalidation_0-logloss:0.46000\n",
      "[108]\tvalidation_0-logloss:0.45985\n",
      "[109]\tvalidation_0-logloss:0.45894\n",
      "[110]\tvalidation_0-logloss:0.45850\n",
      "[111]\tvalidation_0-logloss:0.45756\n",
      "[112]\tvalidation_0-logloss:0.45751\n",
      "[113]\tvalidation_0-logloss:0.45680\n",
      "[114]\tvalidation_0-logloss:0.45677\n",
      "[115]\tvalidation_0-logloss:0.45626\n",
      "[116]\tvalidation_0-logloss:0.45547\n",
      "[117]\tvalidation_0-logloss:0.45498\n",
      "[118]\tvalidation_0-logloss:0.45395\n",
      "[119]\tvalidation_0-logloss:0.45354\n",
      "[120]\tvalidation_0-logloss:0.45275\n",
      "[121]\tvalidation_0-logloss:0.45206\n",
      "[122]\tvalidation_0-logloss:0.45215\n",
      "[123]\tvalidation_0-logloss:0.45226\n",
      "[124]\tvalidation_0-logloss:0.45195\n",
      "[125]\tvalidation_0-logloss:0.45136\n",
      "[126]\tvalidation_0-logloss:0.45090\n",
      "[127]\tvalidation_0-logloss:0.45037\n",
      "[128]\tvalidation_0-logloss:0.45044\n",
      "[129]\tvalidation_0-logloss:0.45060\n",
      "[130]\tvalidation_0-logloss:0.45046\n",
      "[131]\tvalidation_0-logloss:0.44948\n",
      "[132]\tvalidation_0-logloss:0.44869\n",
      "[133]\tvalidation_0-logloss:0.44882\n",
      "[134]\tvalidation_0-logloss:0.44856\n",
      "[135]\tvalidation_0-logloss:0.44822\n",
      "[136]\tvalidation_0-logloss:0.44757\n",
      "[137]\tvalidation_0-logloss:0.44730\n",
      "[138]\tvalidation_0-logloss:0.44645\n",
      "[139]\tvalidation_0-logloss:0.44575\n",
      "[140]\tvalidation_0-logloss:0.44521\n",
      "[141]\tvalidation_0-logloss:0.44469\n",
      "[142]\tvalidation_0-logloss:0.44487\n",
      "[143]\tvalidation_0-logloss:0.44504\n",
      "[144]\tvalidation_0-logloss:0.44473\n",
      "[145]\tvalidation_0-logloss:0.44442\n",
      "[146]\tvalidation_0-logloss:0.44394\n",
      "[147]\tvalidation_0-logloss:0.44391\n",
      "[148]\tvalidation_0-logloss:0.44367\n",
      "[149]\tvalidation_0-logloss:0.44319\n",
      "[150]\tvalidation_0-logloss:0.44276\n",
      "[151]\tvalidation_0-logloss:0.44272\n",
      "[152]\tvalidation_0-logloss:0.44231\n",
      "[153]\tvalidation_0-logloss:0.44199\n",
      "[154]\tvalidation_0-logloss:0.44155\n",
      "[155]\tvalidation_0-logloss:0.44112\n",
      "[156]\tvalidation_0-logloss:0.44068\n",
      "[157]\tvalidation_0-logloss:0.44018\n",
      "[158]\tvalidation_0-logloss:0.43978\n",
      "[159]\tvalidation_0-logloss:0.43928\n",
      "[160]\tvalidation_0-logloss:0.43890\n",
      "[161]\tvalidation_0-logloss:0.43866\n",
      "[162]\tvalidation_0-logloss:0.43847\n",
      "[163]\tvalidation_0-logloss:0.43825\n",
      "[164]\tvalidation_0-logloss:0.43800\n",
      "[165]\tvalidation_0-logloss:0.43758\n",
      "[166]\tvalidation_0-logloss:0.43718\n",
      "[167]\tvalidation_0-logloss:0.43697\n",
      "[168]\tvalidation_0-logloss:0.43667\n",
      "[169]\tvalidation_0-logloss:0.43649\n",
      "[170]\tvalidation_0-logloss:0.43630\n",
      "[171]\tvalidation_0-logloss:0.43585\n",
      "[172]\tvalidation_0-logloss:0.43576\n",
      "[173]\tvalidation_0-logloss:0.43553\n",
      "[174]\tvalidation_0-logloss:0.43508\n",
      "[175]\tvalidation_0-logloss:0.43508\n",
      "[176]\tvalidation_0-logloss:0.43492\n",
      "[177]\tvalidation_0-logloss:0.43452\n",
      "[178]\tvalidation_0-logloss:0.43452\n",
      "[179]\tvalidation_0-logloss:0.43423\n",
      "[180]\tvalidation_0-logloss:0.43422\n",
      "[181]\tvalidation_0-logloss:0.43396\n",
      "[182]\tvalidation_0-logloss:0.43396\n",
      "[183]\tvalidation_0-logloss:0.43391\n",
      "[184]\tvalidation_0-logloss:0.43371\n",
      "[185]\tvalidation_0-logloss:0.43334\n",
      "[186]\tvalidation_0-logloss:0.43309\n",
      "[187]\tvalidation_0-logloss:0.43293\n",
      "[188]\tvalidation_0-logloss:0.43296\n",
      "[189]\tvalidation_0-logloss:0.43278\n",
      "[190]\tvalidation_0-logloss:0.43256\n",
      "[191]\tvalidation_0-logloss:0.43242\n",
      "[192]\tvalidation_0-logloss:0.43231\n",
      "[193]\tvalidation_0-logloss:0.43235\n",
      "[194]\tvalidation_0-logloss:0.43262\n",
      "[195]\tvalidation_0-logloss:0.43241\n",
      "[196]\tvalidation_0-logloss:0.43262\n",
      "[197]\tvalidation_0-logloss:0.43238\n",
      "[198]\tvalidation_0-logloss:0.43259\n",
      "[199]\tvalidation_0-logloss:0.43279\n",
      "[200]\tvalidation_0-logloss:0.43286\n",
      "[201]\tvalidation_0-logloss:0.43311\n",
      "[202]\tvalidation_0-logloss:0.43303\n",
      "[203]\tvalidation_0-logloss:0.43319\n",
      "[204]\tvalidation_0-logloss:0.43325\n",
      "[205]\tvalidation_0-logloss:0.43333\n",
      "[206]\tvalidation_0-logloss:0.43337\n",
      "[207]\tvalidation_0-logloss:0.43342\n",
      "[208]\tvalidation_0-logloss:0.43345\n",
      "[209]\tvalidation_0-logloss:0.43357\n",
      "[210]\tvalidation_0-logloss:0.43351\n",
      "[211]\tvalidation_0-logloss:0.43370\n",
      "[212]\tvalidation_0-logloss:0.43378\n",
      "[213]\tvalidation_0-logloss:0.43372\n",
      "[214]\tvalidation_0-logloss:0.43354\n",
      "[215]\tvalidation_0-logloss:0.43342\n",
      "[216]\tvalidation_0-logloss:0.43341\n",
      "[217]\tvalidation_0-logloss:0.43351\n",
      "[218]\tvalidation_0-logloss:0.43374\n",
      "[219]\tvalidation_0-logloss:0.43350\n",
      "[220]\tvalidation_0-logloss:0.43367\n",
      "[221]\tvalidation_0-logloss:0.43343\n",
      "[222]\tvalidation_0-logloss:0.43355\n",
      "[223]\tvalidation_0-logloss:0.43366\n",
      "[224]\tvalidation_0-logloss:0.43378\n",
      "[225]\tvalidation_0-logloss:0.43355\n",
      "[226]\tvalidation_0-logloss:0.43350\n",
      "[227]\tvalidation_0-logloss:0.43357\n",
      "[228]\tvalidation_0-logloss:0.43346\n",
      "[229]\tvalidation_0-logloss:0.43335\n",
      "[230]\tvalidation_0-logloss:0.43344\n",
      "[231]\tvalidation_0-logloss:0.43340\n",
      "[232]\tvalidation_0-logloss:0.43307\n",
      "[233]\tvalidation_0-logloss:0.43298\n",
      "[234]\tvalidation_0-logloss:0.43312\n",
      "[235]\tvalidation_0-logloss:0.43314\n",
      "[236]\tvalidation_0-logloss:0.43283\n",
      "[237]\tvalidation_0-logloss:0.43271\n",
      "[238]\tvalidation_0-logloss:0.43287\n",
      "[239]\tvalidation_0-logloss:0.43299\n",
      "[240]\tvalidation_0-logloss:0.43316\n",
      "[241]\tvalidation_0-logloss:0.43333\n",
      "[242]\tvalidation_0-logloss:0.43339\n",
      "[243]\tvalidation_0-logloss:0.43327\n",
      "[244]\tvalidation_0-logloss:0.43298\n",
      "[245]\tvalidation_0-logloss:0.43281\n",
      "[246]\tvalidation_0-logloss:0.43263\n",
      "[247]\tvalidation_0-logloss:0.43247\n",
      "[248]\tvalidation_0-logloss:0.43280\n",
      "[249]\tvalidation_0-logloss:0.43282\n",
      "[250]\tvalidation_0-logloss:0.43260\n",
      "[251]\tvalidation_0-logloss:0.43252\n",
      "[252]\tvalidation_0-logloss:0.43236\n",
      "[253]\tvalidation_0-logloss:0.43227\n",
      "[254]\tvalidation_0-logloss:0.43219\n",
      "[255]\tvalidation_0-logloss:0.43200\n",
      "[256]\tvalidation_0-logloss:0.43207\n",
      "[257]\tvalidation_0-logloss:0.43208\n",
      "[258]\tvalidation_0-logloss:0.43196\n",
      "[259]\tvalidation_0-logloss:0.43201\n",
      "[260]\tvalidation_0-logloss:0.43193\n",
      "[261]\tvalidation_0-logloss:0.43176\n",
      "[262]\tvalidation_0-logloss:0.43169\n",
      "[263]\tvalidation_0-logloss:0.43152\n",
      "[264]\tvalidation_0-logloss:0.43147\n",
      "[265]\tvalidation_0-logloss:0.43154\n",
      "[266]\tvalidation_0-logloss:0.43149\n",
      "[267]\tvalidation_0-logloss:0.43135\n",
      "[268]\tvalidation_0-logloss:0.43130\n",
      "[269]\tvalidation_0-logloss:0.43117\n",
      "[270]\tvalidation_0-logloss:0.43122\n",
      "[271]\tvalidation_0-logloss:0.43119\n",
      "[272]\tvalidation_0-logloss:0.43092\n",
      "[273]\tvalidation_0-logloss:0.43060\n",
      "[274]\tvalidation_0-logloss:0.43059\n",
      "[275]\tvalidation_0-logloss:0.43056\n",
      "[276]\tvalidation_0-logloss:0.43033\n",
      "[277]\tvalidation_0-logloss:0.43035\n",
      "[278]\tvalidation_0-logloss:0.43028\n",
      "[279]\tvalidation_0-logloss:0.43027\n",
      "[280]\tvalidation_0-logloss:0.43015\n",
      "[281]\tvalidation_0-logloss:0.43014\n",
      "[282]\tvalidation_0-logloss:0.43014\n",
      "[283]\tvalidation_0-logloss:0.42977\n",
      "[284]\tvalidation_0-logloss:0.42980\n",
      "[285]\tvalidation_0-logloss:0.43010\n",
      "[286]\tvalidation_0-logloss:0.43000\n",
      "[287]\tvalidation_0-logloss:0.43000\n",
      "[288]\tvalidation_0-logloss:0.42994\n",
      "[289]\tvalidation_0-logloss:0.42989\n",
      "[290]\tvalidation_0-logloss:0.42998\n",
      "[291]\tvalidation_0-logloss:0.42992\n",
      "[292]\tvalidation_0-logloss:0.42989\n",
      "[293]\tvalidation_0-logloss:0.42985\n",
      "[294]\tvalidation_0-logloss:0.42980\n",
      "[295]\tvalidation_0-logloss:0.42966\n",
      "[296]\tvalidation_0-logloss:0.42975\n",
      "[297]\tvalidation_0-logloss:0.42949\n",
      "[298]\tvalidation_0-logloss:0.42964\n",
      "[299]\tvalidation_0-logloss:0.42939\n",
      "[300]\tvalidation_0-logloss:0.42932\n",
      "[301]\tvalidation_0-logloss:0.42936\n",
      "[302]\tvalidation_0-logloss:0.42946\n",
      "[303]\tvalidation_0-logloss:0.42952\n",
      "[304]\tvalidation_0-logloss:0.42956\n",
      "[305]\tvalidation_0-logloss:0.42986\n",
      "[306]\tvalidation_0-logloss:0.43005\n",
      "[307]\tvalidation_0-logloss:0.43011\n",
      "[308]\tvalidation_0-logloss:0.42983\n",
      "[309]\tvalidation_0-logloss:0.42989\n",
      "[310]\tvalidation_0-logloss:0.43012\n",
      "[311]\tvalidation_0-logloss:0.43035\n",
      "[312]\tvalidation_0-logloss:0.43048\n",
      "[313]\tvalidation_0-logloss:0.43054\n",
      "[314]\tvalidation_0-logloss:0.43078\n",
      "[315]\tvalidation_0-logloss:0.43080\n",
      "[316]\tvalidation_0-logloss:0.43088\n",
      "[317]\tvalidation_0-logloss:0.43100\n",
      "[318]\tvalidation_0-logloss:0.43068\n",
      "[319]\tvalidation_0-logloss:0.43075\n",
      "[320]\tvalidation_0-logloss:0.43091\n",
      "[321]\tvalidation_0-logloss:0.43097\n",
      "[322]\tvalidation_0-logloss:0.43082\n",
      "[323]\tvalidation_0-logloss:0.43067\n",
      "[324]\tvalidation_0-logloss:0.43065\n",
      "[325]\tvalidation_0-logloss:0.43065\n",
      "[326]\tvalidation_0-logloss:0.43045\n",
      "[327]\tvalidation_0-logloss:0.43073\n",
      "[328]\tvalidation_0-logloss:0.43062\n",
      "[329]\tvalidation_0-logloss:0.43052\n",
      "[330]\tvalidation_0-logloss:0.43041\n",
      "[331]\tvalidation_0-logloss:0.43044\n",
      "[332]\tvalidation_0-logloss:0.43046\n",
      "[333]\tvalidation_0-logloss:0.43035\n",
      "[334]\tvalidation_0-logloss:0.43039\n",
      "[335]\tvalidation_0-logloss:0.43044\n",
      "[336]\tvalidation_0-logloss:0.43052\n",
      "[337]\tvalidation_0-logloss:0.43077\n",
      "[338]\tvalidation_0-logloss:0.43085\n",
      "[339]\tvalidation_0-logloss:0.43076\n",
      "[340]\tvalidation_0-logloss:0.43093\n",
      "[341]\tvalidation_0-logloss:0.43094\n",
      "[342]\tvalidation_0-logloss:0.43104\n",
      "[343]\tvalidation_0-logloss:0.43104\n",
      "[344]\tvalidation_0-logloss:0.43134\n",
      "[345]\tvalidation_0-logloss:0.43143\n",
      "[346]\tvalidation_0-logloss:0.43143\n",
      "[347]\tvalidation_0-logloss:0.43133\n",
      "[348]\tvalidation_0-logloss:0.43136\n",
      "[349]\tvalidation_0-logloss:0.43136\n",
      "[350]\tvalidation_0-logloss:0.43139\n",
      "[351]\tvalidation_0-logloss:0.43143\n",
      "[352]\tvalidation_0-logloss:0.43125\n",
      "[353]\tvalidation_0-logloss:0.43139\n",
      "[354]\tvalidation_0-logloss:0.43123\n",
      "[355]\tvalidation_0-logloss:0.43115\n",
      "[356]\tvalidation_0-logloss:0.43115\n",
      "[357]\tvalidation_0-logloss:0.43108\n",
      "[358]\tvalidation_0-logloss:0.43121\n",
      "[359]\tvalidation_0-logloss:0.43087\n",
      "[360]\tvalidation_0-logloss:0.43097\n",
      "[361]\tvalidation_0-logloss:0.43060\n",
      "[362]\tvalidation_0-logloss:0.43046\n",
      "[363]\tvalidation_0-logloss:0.43051\n",
      "[364]\tvalidation_0-logloss:0.43056\n",
      "[365]\tvalidation_0-logloss:0.43062\n",
      "[366]\tvalidation_0-logloss:0.43049\n",
      "[367]\tvalidation_0-logloss:0.43068\n",
      "[368]\tvalidation_0-logloss:0.43052\n",
      "[369]\tvalidation_0-logloss:0.43057\n",
      "[370]\tvalidation_0-logloss:0.43077\n",
      "[371]\tvalidation_0-logloss:0.43063\n",
      "[372]\tvalidation_0-logloss:0.43055\n",
      "[373]\tvalidation_0-logloss:0.43061\n",
      "[374]\tvalidation_0-logloss:0.43081\n",
      "[375]\tvalidation_0-logloss:0.43066\n",
      "[376]\tvalidation_0-logloss:0.43076\n",
      "[377]\tvalidation_0-logloss:0.43062\n",
      "[378]\tvalidation_0-logloss:0.43072\n",
      "[379]\tvalidation_0-logloss:0.43060\n",
      "[380]\tvalidation_0-logloss:0.43070\n",
      "[381]\tvalidation_0-logloss:0.43080\n",
      "[382]\tvalidation_0-logloss:0.43050\n",
      "[383]\tvalidation_0-logloss:0.43058\n",
      "[384]\tvalidation_0-logloss:0.43075\n",
      "[385]\tvalidation_0-logloss:0.43085\n",
      "[386]\tvalidation_0-logloss:0.43055\n",
      "[387]\tvalidation_0-logloss:0.43067\n",
      "[388]\tvalidation_0-logloss:0.43076\n",
      "[389]\tvalidation_0-logloss:0.43090\n",
      "[390]\tvalidation_0-logloss:0.43107\n",
      "[391]\tvalidation_0-logloss:0.43118\n",
      "[392]\tvalidation_0-logloss:0.43130\n",
      "[393]\tvalidation_0-logloss:0.43140\n",
      "[394]\tvalidation_0-logloss:0.43133\n",
      "[395]\tvalidation_0-logloss:0.43158\n",
      "[396]\tvalidation_0-logloss:0.43173\n",
      "[397]\tvalidation_0-logloss:0.43177\n",
      "[398]\tvalidation_0-logloss:0.43182\n",
      "[399]\tvalidation_0-logloss:0.43174\n",
      "[400]\tvalidation_0-logloss:0.43165\n",
      "[401]\tvalidation_0-logloss:0.43178\n",
      "[402]\tvalidation_0-logloss:0.43195\n",
      "[403]\tvalidation_0-logloss:0.43204\n",
      "[404]\tvalidation_0-logloss:0.43197\n",
      "[405]\tvalidation_0-logloss:0.43189\n",
      "[406]\tvalidation_0-logloss:0.43181\n",
      "[407]\tvalidation_0-logloss:0.43195\n",
      "[408]\tvalidation_0-logloss:0.43204\n",
      "[409]\tvalidation_0-logloss:0.43194\n",
      "[410]\tvalidation_0-logloss:0.43214\n",
      "[411]\tvalidation_0-logloss:0.43234\n",
      "[412]\tvalidation_0-logloss:0.43240\n",
      "[413]\tvalidation_0-logloss:0.43265\n",
      "[414]\tvalidation_0-logloss:0.43283\n",
      "[415]\tvalidation_0-logloss:0.43302\n",
      "[416]\tvalidation_0-logloss:0.43321\n",
      "[417]\tvalidation_0-logloss:0.43329\n",
      "[418]\tvalidation_0-logloss:0.43333\n",
      "[419]\tvalidation_0-logloss:0.43339\n",
      "[420]\tvalidation_0-logloss:0.43375\n",
      "[421]\tvalidation_0-logloss:0.43384\n",
      "[422]\tvalidation_0-logloss:0.43402\n",
      "[423]\tvalidation_0-logloss:0.43405\n",
      "[424]\tvalidation_0-logloss:0.43434\n",
      "[425]\tvalidation_0-logloss:0.43432\n",
      "[426]\tvalidation_0-logloss:0.43448\n",
      "[427]\tvalidation_0-logloss:0.43447\n",
      "[428]\tvalidation_0-logloss:0.43453\n",
      "[429]\tvalidation_0-logloss:0.43476\n",
      "[430]\tvalidation_0-logloss:0.43487\n",
      "[431]\tvalidation_0-logloss:0.43508\n",
      "[432]\tvalidation_0-logloss:0.43507\n",
      "[433]\tvalidation_0-logloss:0.43530\n",
      "[434]\tvalidation_0-logloss:0.43539\n",
      "[435]\tvalidation_0-logloss:0.43538\n",
      "[436]\tvalidation_0-logloss:0.43557\n",
      "[437]\tvalidation_0-logloss:0.43590\n",
      "[438]\tvalidation_0-logloss:0.43603\n",
      "[439]\tvalidation_0-logloss:0.43602\n",
      "[440]\tvalidation_0-logloss:0.43594\n",
      "[441]\tvalidation_0-logloss:0.43607\n",
      "[442]\tvalidation_0-logloss:0.43606\n",
      "[443]\tvalidation_0-logloss:0.43606\n",
      "[444]\tvalidation_0-logloss:0.43593\n",
      "[445]\tvalidation_0-logloss:0.43602\n",
      "[446]\tvalidation_0-logloss:0.43615\n",
      "[447]\tvalidation_0-logloss:0.43626\n",
      "[448]\tvalidation_0-logloss:0.43647\n",
      "[449]\tvalidation_0-logloss:0.43648\n",
      "[450]\tvalidation_0-logloss:0.43664\n",
      "[451]\tvalidation_0-logloss:0.43656\n",
      "[452]\tvalidation_0-logloss:0.43671\n",
      "[453]\tvalidation_0-logloss:0.43663\n",
      "[454]\tvalidation_0-logloss:0.43682\n",
      "[455]\tvalidation_0-logloss:0.43697\n",
      "[456]\tvalidation_0-logloss:0.43712\n",
      "[457]\tvalidation_0-logloss:0.43725\n",
      "[458]\tvalidation_0-logloss:0.43741\n",
      "[459]\tvalidation_0-logloss:0.43740\n",
      "[460]\tvalidation_0-logloss:0.43741\n",
      "[461]\tvalidation_0-logloss:0.43756\n",
      "[462]\tvalidation_0-logloss:0.43757\n",
      "[463]\tvalidation_0-logloss:0.43774\n",
      "[464]\tvalidation_0-logloss:0.43806\n",
      "[465]\tvalidation_0-logloss:0.43822\n",
      "[466]\tvalidation_0-logloss:0.43827\n",
      "[467]\tvalidation_0-logloss:0.43859\n",
      "[468]\tvalidation_0-logloss:0.43863\n",
      "[469]\tvalidation_0-logloss:0.43867\n",
      "[470]\tvalidation_0-logloss:0.43881\n",
      "[471]\tvalidation_0-logloss:0.43882\n",
      "[472]\tvalidation_0-logloss:0.43903\n",
      "[473]\tvalidation_0-logloss:0.43907\n",
      "[474]\tvalidation_0-logloss:0.43904\n",
      "[475]\tvalidation_0-logloss:0.43920\n",
      "[476]\tvalidation_0-logloss:0.43942\n",
      "[477]\tvalidation_0-logloss:0.43948\n",
      "[478]\tvalidation_0-logloss:0.43990\n",
      "[479]\tvalidation_0-logloss:0.44012\n",
      "[480]\tvalidation_0-logloss:0.44010\n",
      "[481]\tvalidation_0-logloss:0.44016\n",
      "[482]\tvalidation_0-logloss:0.44032\n",
      "[483]\tvalidation_0-logloss:0.44038\n",
      "[484]\tvalidation_0-logloss:0.44044\n",
      "[485]\tvalidation_0-logloss:0.44065\n",
      "[486]\tvalidation_0-logloss:0.44071\n",
      "[487]\tvalidation_0-logloss:0.44086\n",
      "[488]\tvalidation_0-logloss:0.44118\n",
      "[489]\tvalidation_0-logloss:0.44123\n",
      "[490]\tvalidation_0-logloss:0.44117\n",
      "[491]\tvalidation_0-logloss:0.44138\n",
      "[492]\tvalidation_0-logloss:0.44137\n",
      "[493]\tvalidation_0-logloss:0.44152\n",
      "[494]\tvalidation_0-logloss:0.44174\n",
      "[495]\tvalidation_0-logloss:0.44180\n",
      "[496]\tvalidation_0-logloss:0.44174\n",
      "[497]\tvalidation_0-logloss:0.44199\n",
      "[498]\tvalidation_0-logloss:0.44214\n",
      "[499]\tvalidation_0-logloss:0.44220\n"
     ]
    },
    {
     "data": {
      "text/html": [
       "<style>#sk-container-id-1 {\n",
       "  /* Definition of color scheme common for light and dark mode */\n",
       "  --sklearn-color-text: #000;\n",
       "  --sklearn-color-text-muted: #666;\n",
       "  --sklearn-color-line: gray;\n",
       "  /* Definition of color scheme for unfitted estimators */\n",
       "  --sklearn-color-unfitted-level-0: #fff5e6;\n",
       "  --sklearn-color-unfitted-level-1: #f6e4d2;\n",
       "  --sklearn-color-unfitted-level-2: #ffe0b3;\n",
       "  --sklearn-color-unfitted-level-3: chocolate;\n",
       "  /* Definition of color scheme for fitted estimators */\n",
       "  --sklearn-color-fitted-level-0: #f0f8ff;\n",
       "  --sklearn-color-fitted-level-1: #d4ebff;\n",
       "  --sklearn-color-fitted-level-2: #b3dbfd;\n",
       "  --sklearn-color-fitted-level-3: cornflowerblue;\n",
       "\n",
       "  /* Specific color for light theme */\n",
       "  --sklearn-color-text-on-default-background: var(--sg-text-color, var(--theme-code-foreground, var(--jp-content-font-color1, black)));\n",
       "  --sklearn-color-background: var(--sg-background-color, var(--theme-background, var(--jp-layout-color0, white)));\n",
       "  --sklearn-color-border-box: var(--sg-text-color, var(--theme-code-foreground, var(--jp-content-font-color1, black)));\n",
       "  --sklearn-color-icon: #696969;\n",
       "\n",
       "  @media (prefers-color-scheme: dark) {\n",
       "    /* Redefinition of color scheme for dark theme */\n",
       "    --sklearn-color-text-on-default-background: var(--sg-text-color, var(--theme-code-foreground, var(--jp-content-font-color1, white)));\n",
       "    --sklearn-color-background: var(--sg-background-color, var(--theme-background, var(--jp-layout-color0, #111)));\n",
       "    --sklearn-color-border-box: var(--sg-text-color, var(--theme-code-foreground, var(--jp-content-font-color1, white)));\n",
       "    --sklearn-color-icon: #878787;\n",
       "  }\n",
       "}\n",
       "\n",
       "#sk-container-id-1 {\n",
       "  color: var(--sklearn-color-text);\n",
       "}\n",
       "\n",
       "#sk-container-id-1 pre {\n",
       "  padding: 0;\n",
       "}\n",
       "\n",
       "#sk-container-id-1 input.sk-hidden--visually {\n",
       "  border: 0;\n",
       "  clip: rect(1px 1px 1px 1px);\n",
       "  clip: rect(1px, 1px, 1px, 1px);\n",
       "  height: 1px;\n",
       "  margin: -1px;\n",
       "  overflow: hidden;\n",
       "  padding: 0;\n",
       "  position: absolute;\n",
       "  width: 1px;\n",
       "}\n",
       "\n",
       "#sk-container-id-1 div.sk-dashed-wrapped {\n",
       "  border: 1px dashed var(--sklearn-color-line);\n",
       "  margin: 0 0.4em 0.5em 0.4em;\n",
       "  box-sizing: border-box;\n",
       "  padding-bottom: 0.4em;\n",
       "  background-color: var(--sklearn-color-background);\n",
       "}\n",
       "\n",
       "#sk-container-id-1 div.sk-container {\n",
       "  /* jupyter's `normalize.less` sets `[hidden] { display: none; }`\n",
       "     but bootstrap.min.css set `[hidden] { display: none !important; }`\n",
       "     so we also need the `!important` here to be able to override the\n",
       "     default hidden behavior on the sphinx rendered scikit-learn.org.\n",
       "     See: https://github.com/scikit-learn/scikit-learn/issues/21755 */\n",
       "  display: inline-block !important;\n",
       "  position: relative;\n",
       "}\n",
       "\n",
       "#sk-container-id-1 div.sk-text-repr-fallback {\n",
       "  display: none;\n",
       "}\n",
       "\n",
       "div.sk-parallel-item,\n",
       "div.sk-serial,\n",
       "div.sk-item {\n",
       "  /* draw centered vertical line to link estimators */\n",
       "  background-image: linear-gradient(var(--sklearn-color-text-on-default-background), var(--sklearn-color-text-on-default-background));\n",
       "  background-size: 2px 100%;\n",
       "  background-repeat: no-repeat;\n",
       "  background-position: center center;\n",
       "}\n",
       "\n",
       "/* Parallel-specific style estimator block */\n",
       "\n",
       "#sk-container-id-1 div.sk-parallel-item::after {\n",
       "  content: \"\";\n",
       "  width: 100%;\n",
       "  border-bottom: 2px solid var(--sklearn-color-text-on-default-background);\n",
       "  flex-grow: 1;\n",
       "}\n",
       "\n",
       "#sk-container-id-1 div.sk-parallel {\n",
       "  display: flex;\n",
       "  align-items: stretch;\n",
       "  justify-content: center;\n",
       "  background-color: var(--sklearn-color-background);\n",
       "  position: relative;\n",
       "}\n",
       "\n",
       "#sk-container-id-1 div.sk-parallel-item {\n",
       "  display: flex;\n",
       "  flex-direction: column;\n",
       "}\n",
       "\n",
       "#sk-container-id-1 div.sk-parallel-item:first-child::after {\n",
       "  align-self: flex-end;\n",
       "  width: 50%;\n",
       "}\n",
       "\n",
       "#sk-container-id-1 div.sk-parallel-item:last-child::after {\n",
       "  align-self: flex-start;\n",
       "  width: 50%;\n",
       "}\n",
       "\n",
       "#sk-container-id-1 div.sk-parallel-item:only-child::after {\n",
       "  width: 0;\n",
       "}\n",
       "\n",
       "/* Serial-specific style estimator block */\n",
       "\n",
       "#sk-container-id-1 div.sk-serial {\n",
       "  display: flex;\n",
       "  flex-direction: column;\n",
       "  align-items: center;\n",
       "  background-color: var(--sklearn-color-background);\n",
       "  padding-right: 1em;\n",
       "  padding-left: 1em;\n",
       "}\n",
       "\n",
       "\n",
       "/* Toggleable style: style used for estimator/Pipeline/ColumnTransformer box that is\n",
       "clickable and can be expanded/collapsed.\n",
       "- Pipeline and ColumnTransformer use this feature and define the default style\n",
       "- Estimators will overwrite some part of the style using the `sk-estimator` class\n",
       "*/\n",
       "\n",
       "/* Pipeline and ColumnTransformer style (default) */\n",
       "\n",
       "#sk-container-id-1 div.sk-toggleable {\n",
       "  /* Default theme specific background. It is overwritten whether we have a\n",
       "  specific estimator or a Pipeline/ColumnTransformer */\n",
       "  background-color: var(--sklearn-color-background);\n",
       "}\n",
       "\n",
       "/* Toggleable label */\n",
       "#sk-container-id-1 label.sk-toggleable__label {\n",
       "  cursor: pointer;\n",
       "  display: flex;\n",
       "  width: 100%;\n",
       "  margin-bottom: 0;\n",
       "  padding: 0.5em;\n",
       "  box-sizing: border-box;\n",
       "  text-align: center;\n",
       "  align-items: start;\n",
       "  justify-content: space-between;\n",
       "  gap: 0.5em;\n",
       "}\n",
       "\n",
       "#sk-container-id-1 label.sk-toggleable__label .caption {\n",
       "  font-size: 0.6rem;\n",
       "  font-weight: lighter;\n",
       "  color: var(--sklearn-color-text-muted);\n",
       "}\n",
       "\n",
       "#sk-container-id-1 label.sk-toggleable__label-arrow:before {\n",
       "  /* Arrow on the left of the label */\n",
       "  content: \"▸\";\n",
       "  float: left;\n",
       "  margin-right: 0.25em;\n",
       "  color: var(--sklearn-color-icon);\n",
       "}\n",
       "\n",
       "#sk-container-id-1 label.sk-toggleable__label-arrow:hover:before {\n",
       "  color: var(--sklearn-color-text);\n",
       "}\n",
       "\n",
       "/* Toggleable content - dropdown */\n",
       "\n",
       "#sk-container-id-1 div.sk-toggleable__content {\n",
       "  max-height: 0;\n",
       "  max-width: 0;\n",
       "  overflow: hidden;\n",
       "  text-align: left;\n",
       "  /* unfitted */\n",
       "  background-color: var(--sklearn-color-unfitted-level-0);\n",
       "}\n",
       "\n",
       "#sk-container-id-1 div.sk-toggleable__content.fitted {\n",
       "  /* fitted */\n",
       "  background-color: var(--sklearn-color-fitted-level-0);\n",
       "}\n",
       "\n",
       "#sk-container-id-1 div.sk-toggleable__content pre {\n",
       "  margin: 0.2em;\n",
       "  border-radius: 0.25em;\n",
       "  color: var(--sklearn-color-text);\n",
       "  /* unfitted */\n",
       "  background-color: var(--sklearn-color-unfitted-level-0);\n",
       "}\n",
       "\n",
       "#sk-container-id-1 div.sk-toggleable__content.fitted pre {\n",
       "  /* unfitted */\n",
       "  background-color: var(--sklearn-color-fitted-level-0);\n",
       "}\n",
       "\n",
       "#sk-container-id-1 input.sk-toggleable__control:checked~div.sk-toggleable__content {\n",
       "  /* Expand drop-down */\n",
       "  max-height: 200px;\n",
       "  max-width: 100%;\n",
       "  overflow: auto;\n",
       "}\n",
       "\n",
       "#sk-container-id-1 input.sk-toggleable__control:checked~label.sk-toggleable__label-arrow:before {\n",
       "  content: \"▾\";\n",
       "}\n",
       "\n",
       "/* Pipeline/ColumnTransformer-specific style */\n",
       "\n",
       "#sk-container-id-1 div.sk-label input.sk-toggleable__control:checked~label.sk-toggleable__label {\n",
       "  color: var(--sklearn-color-text);\n",
       "  background-color: var(--sklearn-color-unfitted-level-2);\n",
       "}\n",
       "\n",
       "#sk-container-id-1 div.sk-label.fitted input.sk-toggleable__control:checked~label.sk-toggleable__label {\n",
       "  background-color: var(--sklearn-color-fitted-level-2);\n",
       "}\n",
       "\n",
       "/* Estimator-specific style */\n",
       "\n",
       "/* Colorize estimator box */\n",
       "#sk-container-id-1 div.sk-estimator input.sk-toggleable__control:checked~label.sk-toggleable__label {\n",
       "  /* unfitted */\n",
       "  background-color: var(--sklearn-color-unfitted-level-2);\n",
       "}\n",
       "\n",
       "#sk-container-id-1 div.sk-estimator.fitted input.sk-toggleable__control:checked~label.sk-toggleable__label {\n",
       "  /* fitted */\n",
       "  background-color: var(--sklearn-color-fitted-level-2);\n",
       "}\n",
       "\n",
       "#sk-container-id-1 div.sk-label label.sk-toggleable__label,\n",
       "#sk-container-id-1 div.sk-label label {\n",
       "  /* The background is the default theme color */\n",
       "  color: var(--sklearn-color-text-on-default-background);\n",
       "}\n",
       "\n",
       "/* On hover, darken the color of the background */\n",
       "#sk-container-id-1 div.sk-label:hover label.sk-toggleable__label {\n",
       "  color: var(--sklearn-color-text);\n",
       "  background-color: var(--sklearn-color-unfitted-level-2);\n",
       "}\n",
       "\n",
       "/* Label box, darken color on hover, fitted */\n",
       "#sk-container-id-1 div.sk-label.fitted:hover label.sk-toggleable__label.fitted {\n",
       "  color: var(--sklearn-color-text);\n",
       "  background-color: var(--sklearn-color-fitted-level-2);\n",
       "}\n",
       "\n",
       "/* Estimator label */\n",
       "\n",
       "#sk-container-id-1 div.sk-label label {\n",
       "  font-family: monospace;\n",
       "  font-weight: bold;\n",
       "  display: inline-block;\n",
       "  line-height: 1.2em;\n",
       "}\n",
       "\n",
       "#sk-container-id-1 div.sk-label-container {\n",
       "  text-align: center;\n",
       "}\n",
       "\n",
       "/* Estimator-specific */\n",
       "#sk-container-id-1 div.sk-estimator {\n",
       "  font-family: monospace;\n",
       "  border: 1px dotted var(--sklearn-color-border-box);\n",
       "  border-radius: 0.25em;\n",
       "  box-sizing: border-box;\n",
       "  margin-bottom: 0.5em;\n",
       "  /* unfitted */\n",
       "  background-color: var(--sklearn-color-unfitted-level-0);\n",
       "}\n",
       "\n",
       "#sk-container-id-1 div.sk-estimator.fitted {\n",
       "  /* fitted */\n",
       "  background-color: var(--sklearn-color-fitted-level-0);\n",
       "}\n",
       "\n",
       "/* on hover */\n",
       "#sk-container-id-1 div.sk-estimator:hover {\n",
       "  /* unfitted */\n",
       "  background-color: var(--sklearn-color-unfitted-level-2);\n",
       "}\n",
       "\n",
       "#sk-container-id-1 div.sk-estimator.fitted:hover {\n",
       "  /* fitted */\n",
       "  background-color: var(--sklearn-color-fitted-level-2);\n",
       "}\n",
       "\n",
       "/* Specification for estimator info (e.g. \"i\" and \"?\") */\n",
       "\n",
       "/* Common style for \"i\" and \"?\" */\n",
       "\n",
       ".sk-estimator-doc-link,\n",
       "a:link.sk-estimator-doc-link,\n",
       "a:visited.sk-estimator-doc-link {\n",
       "  float: right;\n",
       "  font-size: smaller;\n",
       "  line-height: 1em;\n",
       "  font-family: monospace;\n",
       "  background-color: var(--sklearn-color-background);\n",
       "  border-radius: 1em;\n",
       "  height: 1em;\n",
       "  width: 1em;\n",
       "  text-decoration: none !important;\n",
       "  margin-left: 0.5em;\n",
       "  text-align: center;\n",
       "  /* unfitted */\n",
       "  border: var(--sklearn-color-unfitted-level-1) 1pt solid;\n",
       "  color: var(--sklearn-color-unfitted-level-1);\n",
       "}\n",
       "\n",
       ".sk-estimator-doc-link.fitted,\n",
       "a:link.sk-estimator-doc-link.fitted,\n",
       "a:visited.sk-estimator-doc-link.fitted {\n",
       "  /* fitted */\n",
       "  border: var(--sklearn-color-fitted-level-1) 1pt solid;\n",
       "  color: var(--sklearn-color-fitted-level-1);\n",
       "}\n",
       "\n",
       "/* On hover */\n",
       "div.sk-estimator:hover .sk-estimator-doc-link:hover,\n",
       ".sk-estimator-doc-link:hover,\n",
       "div.sk-label-container:hover .sk-estimator-doc-link:hover,\n",
       ".sk-estimator-doc-link:hover {\n",
       "  /* unfitted */\n",
       "  background-color: var(--sklearn-color-unfitted-level-3);\n",
       "  color: var(--sklearn-color-background);\n",
       "  text-decoration: none;\n",
       "}\n",
       "\n",
       "div.sk-estimator.fitted:hover .sk-estimator-doc-link.fitted:hover,\n",
       ".sk-estimator-doc-link.fitted:hover,\n",
       "div.sk-label-container:hover .sk-estimator-doc-link.fitted:hover,\n",
       ".sk-estimator-doc-link.fitted:hover {\n",
       "  /* fitted */\n",
       "  background-color: var(--sklearn-color-fitted-level-3);\n",
       "  color: var(--sklearn-color-background);\n",
       "  text-decoration: none;\n",
       "}\n",
       "\n",
       "/* Span, style for the box shown on hovering the info icon */\n",
       ".sk-estimator-doc-link span {\n",
       "  display: none;\n",
       "  z-index: 9999;\n",
       "  position: relative;\n",
       "  font-weight: normal;\n",
       "  right: .2ex;\n",
       "  padding: .5ex;\n",
       "  margin: .5ex;\n",
       "  width: min-content;\n",
       "  min-width: 20ex;\n",
       "  max-width: 50ex;\n",
       "  color: var(--sklearn-color-text);\n",
       "  box-shadow: 2pt 2pt 4pt #999;\n",
       "  /* unfitted */\n",
       "  background: var(--sklearn-color-unfitted-level-0);\n",
       "  border: .5pt solid var(--sklearn-color-unfitted-level-3);\n",
       "}\n",
       "\n",
       ".sk-estimator-doc-link.fitted span {\n",
       "  /* fitted */\n",
       "  background: var(--sklearn-color-fitted-level-0);\n",
       "  border: var(--sklearn-color-fitted-level-3);\n",
       "}\n",
       "\n",
       ".sk-estimator-doc-link:hover span {\n",
       "  display: block;\n",
       "}\n",
       "\n",
       "/* \"?\"-specific style due to the `<a>` HTML tag */\n",
       "\n",
       "#sk-container-id-1 a.estimator_doc_link {\n",
       "  float: right;\n",
       "  font-size: 1rem;\n",
       "  line-height: 1em;\n",
       "  font-family: monospace;\n",
       "  background-color: var(--sklearn-color-background);\n",
       "  border-radius: 1rem;\n",
       "  height: 1rem;\n",
       "  width: 1rem;\n",
       "  text-decoration: none;\n",
       "  /* unfitted */\n",
       "  color: var(--sklearn-color-unfitted-level-1);\n",
       "  border: var(--sklearn-color-unfitted-level-1) 1pt solid;\n",
       "}\n",
       "\n",
       "#sk-container-id-1 a.estimator_doc_link.fitted {\n",
       "  /* fitted */\n",
       "  border: var(--sklearn-color-fitted-level-1) 1pt solid;\n",
       "  color: var(--sklearn-color-fitted-level-1);\n",
       "}\n",
       "\n",
       "/* On hover */\n",
       "#sk-container-id-1 a.estimator_doc_link:hover {\n",
       "  /* unfitted */\n",
       "  background-color: var(--sklearn-color-unfitted-level-3);\n",
       "  color: var(--sklearn-color-background);\n",
       "  text-decoration: none;\n",
       "}\n",
       "\n",
       "#sk-container-id-1 a.estimator_doc_link.fitted:hover {\n",
       "  /* fitted */\n",
       "  background-color: var(--sklearn-color-fitted-level-3);\n",
       "}\n",
       "</style><div id=\"sk-container-id-1\" class=\"sk-top-container\"><div class=\"sk-text-repr-fallback\"><pre>XGBClassifier(base_score=None, booster=None, callbacks=None,\n",
       "              colsample_bylevel=None, colsample_bynode=None,\n",
       "              colsample_bytree=None, device=None, early_stopping_rounds=None,\n",
       "              enable_categorical=False, eval_metric=&#x27;logloss&#x27;,\n",
       "              feature_types=None, gamma=None, grow_policy=None,\n",
       "              importance_type=None, interaction_constraints=None,\n",
       "              learning_rate=0.01, max_bin=None, max_cat_threshold=None,\n",
       "              max_cat_to_onehot=None, max_delta_step=None, max_depth=7,\n",
       "              max_leaves=None, min_child_weight=None, missing=nan,\n",
       "              monotone_constraints=None, multi_strategy=None, n_estimators=500,\n",
       "              n_jobs=None, num_parallel_tree=None, random_state=None, ...)</pre><b>In a Jupyter environment, please rerun this cell to show the HTML representation or trust the notebook. <br />On GitHub, the HTML representation is unable to render, please try loading this page with nbviewer.org.</b></div><div class=\"sk-container\" hidden><div class=\"sk-item\"><div class=\"sk-estimator fitted sk-toggleable\"><input class=\"sk-toggleable__control sk-hidden--visually\" id=\"sk-estimator-id-1\" type=\"checkbox\" checked><label for=\"sk-estimator-id-1\" class=\"sk-toggleable__label fitted sk-toggleable__label-arrow\"><div><div>XGBClassifier</div></div><div><span class=\"sk-estimator-doc-link fitted\">i<span>Fitted</span></span></div></label><div class=\"sk-toggleable__content fitted\"><pre>XGBClassifier(base_score=None, booster=None, callbacks=None,\n",
       "              colsample_bylevel=None, colsample_bynode=None,\n",
       "              colsample_bytree=None, device=None, early_stopping_rounds=None,\n",
       "              enable_categorical=False, eval_metric=&#x27;logloss&#x27;,\n",
       "              feature_types=None, gamma=None, grow_policy=None,\n",
       "              importance_type=None, interaction_constraints=None,\n",
       "              learning_rate=0.01, max_bin=None, max_cat_threshold=None,\n",
       "              max_cat_to_onehot=None, max_delta_step=None, max_depth=7,\n",
       "              max_leaves=None, min_child_weight=None, missing=nan,\n",
       "              monotone_constraints=None, multi_strategy=None, n_estimators=500,\n",
       "              n_jobs=None, num_parallel_tree=None, random_state=None, ...)</pre></div> </div></div></div></div>"
      ],
      "text/plain": [
       "XGBClassifier(base_score=None, booster=None, callbacks=None,\n",
       "              colsample_bylevel=None, colsample_bynode=None,\n",
       "              colsample_bytree=None, device=None, early_stopping_rounds=None,\n",
       "              enable_categorical=False, eval_metric='logloss',\n",
       "              feature_types=None, gamma=None, grow_policy=None,\n",
       "              importance_type=None, interaction_constraints=None,\n",
       "              learning_rate=0.01, max_bin=None, max_cat_threshold=None,\n",
       "              max_cat_to_onehot=None, max_delta_step=None, max_depth=7,\n",
       "              max_leaves=None, min_child_weight=None, missing=nan,\n",
       "              monotone_constraints=None, multi_strategy=None, n_estimators=500,\n",
       "              n_jobs=None, num_parallel_tree=None, random_state=None, ...)"
      ]
     },
     "execution_count": 5,
     "metadata": {},
     "output_type": "execute_result"
    }
   ],
   "source": [
    "# Baseline test with XGBoost classifier\n",
    "xgb = XGBClassifier(use_label_encoder=False, \n",
    "                    n_estimators=500,\n",
    "                    max_depth=7,\n",
    "                    learning_rate=0.01,\n",
    "                    eval_metric='logloss')\n",
    "xgb.fit(X_train, y_train, eval_set=[(X_val, y_val)], verbose=True)\n"
   ]
  },
  {
   "cell_type": "code",
   "execution_count": 6,
   "id": "5aaa0f56",
   "metadata": {},
   "outputs": [
    {
     "name": "stdout",
     "output_type": "stream",
     "text": [
      "XGBoost Validation Accuracy: 0.7143\n",
      "XGBoost Validation Precision: 0.5862\n",
      "XGBoost Validation ROC AUC: 0.7689\n",
      "XGBoost Validation Confusion Matrix:\n",
      "[[38 12]\n",
      " [10 17]]\n"
     ]
    }
   ],
   "source": [
    "# Test the model on the validation set\n",
    "y_pred = xgb.predict(X_test)\n",
    "y_pred_proba = xgb.predict_proba(X_test)[:, 1]\n",
    "\n",
    "# Calculate accuracy and other metrics\n",
    "accuracy = accuracy_score(y_test, y_pred)\n",
    "precision = precision_score(y_test, y_pred)\n",
    "confusion = confusion_matrix(y_test, y_pred)\n",
    "roc_auc = roc_auc_score(y_test, y_pred_proba)\n",
    "\n",
    "print(f\"XGBoost Validation Accuracy: {accuracy:.4f}\")\n",
    "print(f\"XGBoost Validation Precision: {precision:.4f}\")\n",
    "print(f\"XGBoost Validation ROC AUC: {roc_auc:.4f}\")\n",
    "print(f\"XGBoost Validation Confusion Matrix:\\n{confusion}\")"
   ]
  },
  {
   "cell_type": "code",
   "execution_count": 7,
   "id": "8dff920b",
   "metadata": {},
   "outputs": [
    {
     "name": "stdout",
     "output_type": "stream",
     "text": [
      "              precision    recall  f1-score   support\n",
      "\n",
      " No Diabetes       0.79      0.76      0.78        50\n",
      "    Diabetes       0.59      0.63      0.61        27\n",
      "\n",
      "    accuracy                           0.71        77\n",
      "   macro avg       0.69      0.69      0.69        77\n",
      "weighted avg       0.72      0.71      0.72        77\n",
      "\n"
     ]
    }
   ],
   "source": [
    "# Classification report\n",
    "print(classification_report(y_test, y_pred, target_names=['No Diabetes', 'Diabetes']))"
   ]
  },
  {
   "cell_type": "markdown",
   "id": "2c8250a8",
   "metadata": {},
   "source": [
    "With that baseline we know an approximate score we should aim for."
   ]
  },
  {
   "cell_type": "code",
   "execution_count": 8,
   "id": "03d7c597",
   "metadata": {},
   "outputs": [
    {
     "name": "stdout",
     "output_type": "stream",
     "text": [
      "Train loader: 20 batches\n",
      "Validation loader: 3 batches\n",
      "Test loader: 3 batches\n"
     ]
    }
   ],
   "source": [
    "# Bundle tensors into mini batch loaders\n",
    "train_loader = DataLoader(TensorDataset(X_train, y_train), batch_size=32, shuffle=True)\n",
    "test_loader = DataLoader(TensorDataset(X_test, y_test), batch_size=32, shuffle=False)\n",
    "val_loader = DataLoader(TensorDataset(X_val, y_val), batch_size=32, shuffle=False)\n",
    "print(f'Train loader: {len(train_loader)} batches')\n",
    "print(f'Validation loader: {len(val_loader)} batches')\n",
    "print(f'Test loader: {len(test_loader)} batches')"
   ]
  },
  {
   "cell_type": "code",
   "execution_count": 9,
   "id": "9ecfe2b3",
   "metadata": {},
   "outputs": [],
   "source": [
    "# Distribution Mean:\n",
    "# Adjust the mean of the distribution to be 0, the model learns nearly to 0 (Symmetric), it is good to avoid model from bias.\n",
    "\n",
    "# Noise Standard Deviation:\n",
    "# This parameter is used to control the amount of randomness in the model. \n",
    "\n",
    "# LK regularization:\n",
    "# This parameter is used to measures difference between the learning weight and the prior distribution\n",
    "# This regularization controls divergence to balance simplicity and data fit. \n",
    "\n",
    "# Monte Carlo Samples:\n",
    "# This controls the number of samples used to estimate the uncertainty. Sample is number of forward passes through the model.\n",
    "# Source:\n",
    "# https://krasserm.github.io/2019/03/14/bayesian-neural-networks/?"
   ]
  },
  {
   "cell_type": "markdown",
   "id": "9aab7825",
   "metadata": {},
   "source": [
    "**Building the Bayesian Neural Network Model**"
   ]
  },
  {
   "cell_type": "code",
   "execution_count": 10,
   "id": "af4c3460",
   "metadata": {},
   "outputs": [],
   "source": [
    "# I define the Bayesian neural network architecture \n",
    "class ClassificationBNN(nn.Module):\n",
    "    def __init__(self, input_dim, output_dim, mu = 0, sigma = 0.5):\n",
    "        super(ClassificationBNN, self).__init__()\n",
    "        self.fc1 = bnn.BayesLinear(prior_mu=mu, prior_sigma = sigma, in_features=input_dim, out_features=128)\n",
    "        self.fc2 = bnn.BayesLinear(prior_mu=mu, prior_sigma = sigma, in_features=128, out_features=64)\n",
    "        self.fc3 = bnn.BayesLinear(prior_mu=mu, prior_sigma = sigma, in_features =64, out_features = 64)\n",
    "        self.fc4 = bnn.BayesLinear(prior_mu=mu, prior_sigma = sigma, in_features =64, out_features = 64)\n",
    "        self.out = bnn.BayesLinear(prior_mu=mu, prior_sigma = sigma, in_features =64, out_features = output_dim)\n",
    "        self.relu = nn.ReLU()     \n",
    "        self.sigmoid = nn.Sigmoid()\n",
    "        \n",
    "# I used in each layer mean and standard deviation to define the prior distribution over the weights\n",
    "# Here mean and standard deviation balance the data fitting and regularization.\n",
    "  \n",
    "        # BatchNorm normalizes the input to each layer by subtracting the batch mean and dividing by the batch standard deviation.\n",
    "        # This stabilizes training\n",
    "        self.bn1, self.bn2, self.bn3, self.bn4 = nn.BatchNorm1d(128), nn.BatchNorm1d(64), nn.BatchNorm1d(64), nn.BatchNorm1d(64)  \n",
    "        self.dropout = nn.Dropout(0.5)  \n",
    "        \n",
    "# I applied layers with probabilistic weights instead  of fixed values to the input \n",
    "# Then I applied Relu to accelerates the convergence and helps the model to learn complex patterns\n",
    "# For stabilizing, I applied batch normalization to the output Relu\n",
    "# Dropout will be activated when only  mac_dropout is set to True\n",
    "    def forward(self, x, mc_dropout=False):\n",
    "        x = self.dropout(self.bn1(self.relu(self.fc1(x)))) if mc_dropout else self.bn1(self.relu(self.fc1(x)))\n",
    "        x = self.dropout(self.bn2(self.relu(self.fc2(x)))) if mc_dropout else self.bn2(self.relu(self.fc2(x)))\n",
    "        x = self.dropout(self.bn3(self.relu(self.fc3(x)))) if mc_dropout else self.bn3(self.relu(self.fc3(x)))\n",
    "        x = self.dropout(self.bn4(self.relu(self.fc4(x)))) if mc_dropout else self.bn4(self.relu(self.fc4(x)))\n",
    "        x = self.sigmoid(self.out(x))\n",
    "        return x\n",
    "    \n",
    "    \n",
    "# I have 8 features and 1 output \n",
    "# I defined 3 hidden layers with 128, 64, 32 neurons and 16 to extract the features from the input data\n",
    "# The Final layer has 1 output neuron since my dataset is binary classification\n",
    "# I defined dropout and batch normalization layers for regularization\n",
    "\n",
    "# In this structure:\n",
    "# bnn.BayesLinear layers replace nn.Linear that maintain distributions over weights and biases instead of single values\n",
    "# The forward method defines how input data flows through the network.\n",
    "# I initialized prior_ mu to 0 because what I have learned, it is a common  practice to keep weights neutral \n",
    "# at the beginning of training.\n",
    "# I initialized prior_sigma to 0.5 that weights to as adapt more freely during training."
   ]
  },
  {
   "cell_type": "markdown",
   "id": "6da37dbf",
   "metadata": {},
   "source": [
    "**Initializing model anf Hyperparameter**"
   ]
  },
  {
   "cell_type": "code",
   "execution_count": 11,
   "id": "08f3df5e",
   "metadata": {},
   "outputs": [],
   "source": [
    "# Hyperparameters:\n",
    "lambda_kl = 0.05 \n",
    "mc_samples_eval = 100\n",
    "learning_rate = 0.005\n",
    "weight_decay = 0.0001\n",
    "\n",
    "# I initialize lambda_kl to 0.1, which is not too high to force the wights to be close to the prior distribution\n",
    "# 50 samples for Monte Carlo  is a good number to learn distribution of weights after training.\n",
    "# 100 samples is a good number to estimate the uncertainty \n",
    "# learning rate is 0.0009 is safe for adam optimizer to learn stable without overshooting\n",
    "# weight decay is 0.0005 to prevent overfitting and improve generalization of the model\n",
    "criterion = nn.BCELoss() # Binary Cross Entropy Loss for binary classification\n",
    "kl_loss = bnn.BKLLoss(reduction = 'mean')\n",
    "# I use BKLLoss to calculate the Kullback-Leibler divergence between the learned distribution and the prior distribution \n",
    "model  = ClassificationBNN(input_dim=8, output_dim=1, mu=0, sigma=0.5)\n",
    "optimizer = optim.AdamW(model.parameters(), lr=learning_rate, weight_decay=weight_decay)"
   ]
  },
  {
   "cell_type": "markdown",
   "id": "06f90567",
   "metadata": {},
   "source": [
    "**Training Loop**"
   ]
  },
  {
   "cell_type": "code",
   "execution_count": null,
   "id": "1365ca25",
   "metadata": {},
   "outputs": [],
   "source": [
    "@torch.no_grad()                                     \n",
    "def evaluate(model, loader, mc_samples=mc_samples_eval, threshold=0.5):\n",
    "    model.eval()                                  \n",
    "    all_probs, all_true, uncertainties = [], [], []\n",
    "    for input_feature, true_label in loader: \n",
    "        # Monte Carlo sampling for uncertainty estimation  \n",
    "        # By running the model multiple times with dropout, I can capture the uncertainty in the predictions  \n",
    "        # Adding  new dimension to aggregate Monte Carlo samples \n",
    "        # Each time returns tensor of shape (batch_size, 1) logits for binary classification         \n",
    "        mc_probs = torch.stack([model(input_feature ) for _ in range(mc_samples)])  \n",
    "        probs = mc_probs.mean(dim=0).squeeze()\n",
    "        uncertainties.append(mc_probs.std(dim=0).squeeze())  # Store uncertainties for each sample\n",
    "        # Collecting probabilities and true labels for evaluation\n",
    "        all_probs.append(probs)\n",
    "        all_true.append(true_label)\n",
    "    # Compute metrics\n",
    "    probs = torch.cat(all_probs)                      \n",
    "    y_true = torch.cat(all_true).float()\n",
    "    # Convert probabilities to class labels using the threshold\n",
    "    y_pred = (probs > threshold).float()             \n",
    "    # Calculate accuracy by comparing predicted labels with true labels  \n",
    "    accuracy = (y_pred == y_true).float().mean().item()      \n",
    "    return accuracy, probs, y_true, uncertainties\n",
    "# What I learned:\n",
    "# Monte Carlo is a clever way to guess how sure my model is about diabetes prediction\n",
    "# During training, dropout randomly neurons, To preventing overfitting by making the BNN robust to missing parts                \n",
    "# Each time I run the model, it gives me a different answer, because different neurons are dropped each time\n",
    "# Sources:\n",
    "# https://medium.com/biased-algorithms/uncertainty-estimation-in-machine-learning-with-monte-carlo-dropout-72377f5ee276"
   ]
  },
  {
   "cell_type": "code",
   "execution_count": 13,
   "id": "04c28b56",
   "metadata": {},
   "outputs": [],
   "source": [
    "# Training the model \n",
    "def train(model, loader, optimizer, Lambda_kl=lambda_kl):\n",
    "    # training mode\n",
    "    model.train()\n",
    "    running = 0\n",
    "\n",
    "    for input_feature, true_label in loader:\n",
    "        # Zero Gradients \n",
    "        optimizer.zero_grad()\n",
    "        # Forward pass: compute  raw output from input features\n",
    "        logits = model(input_feature, mc_dropout=True)  # Enable dropout during training\n",
    "        # Compute the loss        \n",
    "        loss_data = criterion(logits.squeeze(1), true_label.float())\n",
    "        # Compute the KL divergence loss:\n",
    "        # Iterates over all layers amd filters layers that have a kl_loss() method \n",
    "        # And st the end, computes the KL divergence for each Bayesian layer between its posterior and prior distributions.\n",
    "        kl = kl_loss(model)\n",
    "        loss = loss_data + Lambda_kl * kl\n",
    "        loss.backward()\n",
    "        optimizer.step()\n",
    "        running += loss.item() * input_feature.size(0)\n",
    "    return running / len(loader.dataset)\n",
    "# I did not use float32 for the labels  and I got an error:\n",
    "# RuntimeError: result type Float can't be cast to the desired output type Long\n",
    "# I used Qwen to ask why I got this error and it suggested to float the labels for compatibility with\n",
    "# the BCEWithLogitsLoss \n",
    "\n",
    "# What I learned from adjusting the kl to different values:\n",
    "# In BNN KL has L2 regularization\n",
    "# If KL value is too high, the model can not learn anything from the data.\n",
    "# If KL value is too low, the model can learn from the data but the model is overfitting"
   ]
  },
  {
   "cell_type": "code",
   "execution_count": 14,
   "id": "925287d4",
   "metadata": {},
   "outputs": [],
   "source": [
    "# History and hyperparameters\n",
    "history = {'train_loss': [], 'val_acc': [], 'val_nll': []}\n",
    "best_val_acc = 0\n",
    "best_val_nll = float('inf')\n",
    "PATIENCE = 500\n",
    "# I created empty list to hold  the validation negative log likelihood (val_nll) and accuracy for each epoch\n",
    "# Validation negative log likelihood is used to evaluate how well a probabilistic model  predicts the true labels on a validation dataset."
   ]
  },
  {
   "cell_type": "code",
   "execution_count": 15,
   "id": "a7ea3572",
   "metadata": {},
   "outputs": [],
   "source": [
    "from IPython.display import clear_output"
   ]
  },
  {
   "cell_type": "code",
   "execution_count": 16,
   "id": "775f1ddc",
   "metadata": {},
   "outputs": [
    {
     "name": "stderr",
     "output_type": "stream",
     "text": [
      "Epoch Progress:  19%|█▊        | 934/5000 [04:17<17:57,  3.77it/s]"
     ]
    },
    {
     "name": "stdout",
     "output_type": "stream",
     "text": [
      "Epoch 934: Train Loss: 0.4961, Val Accuracy: 0.7143, Val loss: 0.4669, best val acc: 0.7792\n"
     ]
    },
    {
     "name": "stderr",
     "output_type": "stream",
     "text": [
      "Epoch Progress:  19%|█▊        | 935/5000 [04:17<17:33,  3.86it/s]"
     ]
    },
    {
     "name": "stdout",
     "output_type": "stream",
     "text": [
      "Epoch 935: Train Loss: 0.4882, Val Accuracy: 0.7143, Val loss: 0.4724, best val acc: 0.7792\n"
     ]
    },
    {
     "name": "stderr",
     "output_type": "stream",
     "text": [
      "Epoch Progress:  19%|█▊        | 936/5000 [04:17<17:48,  3.80it/s]"
     ]
    },
    {
     "name": "stdout",
     "output_type": "stream",
     "text": [
      "Epoch 936: Train Loss: 0.4941, Val Accuracy: 0.7143, Val loss: 0.4778, best val acc: 0.7792\n"
     ]
    },
    {
     "name": "stderr",
     "output_type": "stream",
     "text": [
      "Epoch Progress:  19%|█▊        | 937/5000 [04:17<18:16,  3.71it/s]"
     ]
    },
    {
     "name": "stdout",
     "output_type": "stream",
     "text": [
      "Epoch 937: Train Loss: 0.4947, Val Accuracy: 0.7143, Val loss: 0.4707, best val acc: 0.7792\n"
     ]
    },
    {
     "name": "stderr",
     "output_type": "stream",
     "text": [
      "Epoch Progress:  19%|█▉        | 938/5000 [04:18<18:10,  3.72it/s]"
     ]
    },
    {
     "name": "stdout",
     "output_type": "stream",
     "text": [
      "Epoch 938: Train Loss: 0.4986, Val Accuracy: 0.7143, Val loss: 0.4753, best val acc: 0.7792\n"
     ]
    },
    {
     "name": "stderr",
     "output_type": "stream",
     "text": [
      "Epoch Progress:  19%|█▉        | 939/5000 [04:18<18:40,  3.62it/s]"
     ]
    },
    {
     "name": "stdout",
     "output_type": "stream",
     "text": [
      "Epoch 939: Train Loss: 0.4946, Val Accuracy: 0.7143, Val loss: 0.4865, best val acc: 0.7792\n"
     ]
    },
    {
     "name": "stderr",
     "output_type": "stream",
     "text": [
      "Epoch Progress:  19%|█▉        | 940/5000 [04:18<18:20,  3.69it/s]"
     ]
    },
    {
     "name": "stdout",
     "output_type": "stream",
     "text": [
      "Epoch 940: Train Loss: 0.4783, Val Accuracy: 0.7273, Val loss: 0.4756, best val acc: 0.7792\n"
     ]
    },
    {
     "name": "stderr",
     "output_type": "stream",
     "text": [
      "Epoch Progress:  19%|█▉        | 941/5000 [04:18<18:05,  3.74it/s]"
     ]
    },
    {
     "name": "stdout",
     "output_type": "stream",
     "text": [
      "Epoch 941: Train Loss: 0.5033, Val Accuracy: 0.7143, Val loss: 0.4771, best val acc: 0.7792\n"
     ]
    },
    {
     "name": "stderr",
     "output_type": "stream",
     "text": [
      "Epoch Progress:  19%|█▉        | 942/5000 [04:19<18:15,  3.70it/s]"
     ]
    },
    {
     "name": "stdout",
     "output_type": "stream",
     "text": [
      "Epoch 942: Train Loss: 0.5163, Val Accuracy: 0.7662, Val loss: 0.4757, best val acc: 0.7792\n"
     ]
    },
    {
     "name": "stderr",
     "output_type": "stream",
     "text": [
      "Epoch Progress:  19%|█▉        | 943/5000 [04:19<18:07,  3.73it/s]"
     ]
    },
    {
     "name": "stdout",
     "output_type": "stream",
     "text": [
      "Epoch 943: Train Loss: 0.5009, Val Accuracy: 0.7143, Val loss: 0.4737, best val acc: 0.7792\n"
     ]
    },
    {
     "name": "stderr",
     "output_type": "stream",
     "text": [
      "Epoch Progress:  19%|█▉        | 944/5000 [04:19<18:38,  3.63it/s]"
     ]
    },
    {
     "name": "stdout",
     "output_type": "stream",
     "text": [
      "Epoch 944: Train Loss: 0.5055, Val Accuracy: 0.7143, Val loss: 0.4764, best val acc: 0.7792\n"
     ]
    },
    {
     "name": "stderr",
     "output_type": "stream",
     "text": [
      "Epoch Progress:  19%|█▉        | 945/5000 [04:20<18:29,  3.66it/s]"
     ]
    },
    {
     "name": "stdout",
     "output_type": "stream",
     "text": [
      "Epoch 945: Train Loss: 0.5020, Val Accuracy: 0.7143, Val loss: 0.4772, best val acc: 0.7792\n"
     ]
    },
    {
     "name": "stderr",
     "output_type": "stream",
     "text": [
      "Epoch Progress:  19%|█▉        | 946/5000 [04:20<18:40,  3.62it/s]"
     ]
    },
    {
     "name": "stdout",
     "output_type": "stream",
     "text": [
      "Epoch 946: Train Loss: 0.4917, Val Accuracy: 0.7143, Val loss: 0.4787, best val acc: 0.7792\n"
     ]
    },
    {
     "name": "stderr",
     "output_type": "stream",
     "text": [
      "Epoch Progress:  19%|█▉        | 947/5000 [04:20<18:28,  3.66it/s]"
     ]
    },
    {
     "name": "stdout",
     "output_type": "stream",
     "text": [
      "Epoch 947: Train Loss: 0.5096, Val Accuracy: 0.7143, Val loss: 0.4800, best val acc: 0.7792\n"
     ]
    },
    {
     "name": "stderr",
     "output_type": "stream",
     "text": [
      "Epoch Progress:  19%|█▉        | 948/5000 [04:20<18:28,  3.66it/s]"
     ]
    },
    {
     "name": "stdout",
     "output_type": "stream",
     "text": [
      "Epoch 948: Train Loss: 0.4806, Val Accuracy: 0.7143, Val loss: 0.4779, best val acc: 0.7792\n"
     ]
    },
    {
     "name": "stderr",
     "output_type": "stream",
     "text": [
      "Epoch Progress:  19%|█▉        | 949/5000 [04:21<19:30,  3.46it/s]"
     ]
    },
    {
     "name": "stdout",
     "output_type": "stream",
     "text": [
      "Epoch 949: Train Loss: 0.4845, Val Accuracy: 0.7143, Val loss: 0.4691, best val acc: 0.7792\n"
     ]
    },
    {
     "name": "stderr",
     "output_type": "stream",
     "text": [
      "Epoch Progress:  19%|█▉        | 950/5000 [04:21<20:00,  3.37it/s]"
     ]
    },
    {
     "name": "stdout",
     "output_type": "stream",
     "text": [
      "Epoch 950: Train Loss: 0.4961, Val Accuracy: 0.7403, Val loss: 0.4756, best val acc: 0.7792\n"
     ]
    },
    {
     "name": "stderr",
     "output_type": "stream",
     "text": [
      "Epoch Progress:  19%|█▉        | 951/5000 [04:21<19:57,  3.38it/s]"
     ]
    },
    {
     "name": "stdout",
     "output_type": "stream",
     "text": [
      "Epoch 951: Train Loss: 0.5244, Val Accuracy: 0.7532, Val loss: 0.4745, best val acc: 0.7792\n"
     ]
    },
    {
     "name": "stderr",
     "output_type": "stream",
     "text": [
      "Epoch Progress:  19%|█▉        | 952/5000 [04:22<20:03,  3.36it/s]"
     ]
    },
    {
     "name": "stdout",
     "output_type": "stream",
     "text": [
      "Epoch 952: Train Loss: 0.4680, Val Accuracy: 0.7143, Val loss: 0.4702, best val acc: 0.7792\n"
     ]
    },
    {
     "name": "stderr",
     "output_type": "stream",
     "text": [
      "Epoch Progress:  19%|█▉        | 953/5000 [04:22<20:04,  3.36it/s]"
     ]
    },
    {
     "name": "stdout",
     "output_type": "stream",
     "text": [
      "Epoch 953: Train Loss: 0.5216, Val Accuracy: 0.7143, Val loss: 0.4728, best val acc: 0.7792\n"
     ]
    },
    {
     "name": "stderr",
     "output_type": "stream",
     "text": [
      "Epoch Progress:  19%|█▉        | 954/5000 [04:22<21:02,  3.21it/s]"
     ]
    },
    {
     "name": "stdout",
     "output_type": "stream",
     "text": [
      "Epoch 954: Train Loss: 0.4956, Val Accuracy: 0.7143, Val loss: 0.4753, best val acc: 0.7792\n"
     ]
    },
    {
     "name": "stderr",
     "output_type": "stream",
     "text": [
      "Epoch Progress:  19%|█▉        | 955/5000 [04:23<20:49,  3.24it/s]"
     ]
    },
    {
     "name": "stdout",
     "output_type": "stream",
     "text": [
      "Epoch 955: Train Loss: 0.4937, Val Accuracy: 0.7273, Val loss: 0.4755, best val acc: 0.7792\n"
     ]
    },
    {
     "name": "stderr",
     "output_type": "stream",
     "text": [
      "Epoch Progress:  19%|█▉        | 956/5000 [04:23<20:13,  3.33it/s]"
     ]
    },
    {
     "name": "stdout",
     "output_type": "stream",
     "text": [
      "Epoch 956: Train Loss: 0.5066, Val Accuracy: 0.7143, Val loss: 0.4763, best val acc: 0.7792\n"
     ]
    },
    {
     "name": "stderr",
     "output_type": "stream",
     "text": [
      "Epoch Progress:  19%|█▉        | 957/5000 [04:23<20:00,  3.37it/s]"
     ]
    },
    {
     "name": "stdout",
     "output_type": "stream",
     "text": [
      "Epoch 957: Train Loss: 0.5153, Val Accuracy: 0.7143, Val loss: 0.4714, best val acc: 0.7792\n"
     ]
    },
    {
     "name": "stderr",
     "output_type": "stream",
     "text": [
      "Epoch Progress:  19%|█▉        | 958/5000 [04:23<19:46,  3.41it/s]"
     ]
    },
    {
     "name": "stdout",
     "output_type": "stream",
     "text": [
      "Epoch 958: Train Loss: 0.4961, Val Accuracy: 0.7143, Val loss: 0.4792, best val acc: 0.7792\n"
     ]
    },
    {
     "name": "stderr",
     "output_type": "stream",
     "text": [
      "Epoch Progress:  19%|█▉        | 959/5000 [04:24<20:28,  3.29it/s]"
     ]
    },
    {
     "name": "stdout",
     "output_type": "stream",
     "text": [
      "Epoch 959: Train Loss: 0.4834, Val Accuracy: 0.7143, Val loss: 0.4796, best val acc: 0.7792\n"
     ]
    },
    {
     "name": "stderr",
     "output_type": "stream",
     "text": [
      "Epoch Progress:  19%|█▉        | 960/5000 [04:24<20:00,  3.36it/s]"
     ]
    },
    {
     "name": "stdout",
     "output_type": "stream",
     "text": [
      "Epoch 960: Train Loss: 0.5161, Val Accuracy: 0.7013, Val loss: 0.4746, best val acc: 0.7792\n"
     ]
    },
    {
     "name": "stderr",
     "output_type": "stream",
     "text": [
      "Epoch Progress:  19%|█▉        | 961/5000 [04:24<19:34,  3.44it/s]"
     ]
    },
    {
     "name": "stdout",
     "output_type": "stream",
     "text": [
      "Epoch 961: Train Loss: 0.5094, Val Accuracy: 0.7273, Val loss: 0.4728, best val acc: 0.7792\n"
     ]
    },
    {
     "name": "stderr",
     "output_type": "stream",
     "text": [
      "Epoch Progress:  19%|█▉        | 962/5000 [04:25<19:17,  3.49it/s]"
     ]
    },
    {
     "name": "stdout",
     "output_type": "stream",
     "text": [
      "Epoch 962: Train Loss: 0.5113, Val Accuracy: 0.7273, Val loss: 0.4810, best val acc: 0.7792\n"
     ]
    },
    {
     "name": "stderr",
     "output_type": "stream",
     "text": [
      "Epoch Progress:  19%|█▉        | 963/5000 [04:25<18:48,  3.58it/s]"
     ]
    },
    {
     "name": "stdout",
     "output_type": "stream",
     "text": [
      "Epoch 963: Train Loss: 0.5114, Val Accuracy: 0.7143, Val loss: 0.4866, best val acc: 0.7792\n"
     ]
    },
    {
     "name": "stderr",
     "output_type": "stream",
     "text": [
      "Epoch Progress:  19%|█▉        | 964/5000 [04:25<19:04,  3.52it/s]"
     ]
    },
    {
     "name": "stdout",
     "output_type": "stream",
     "text": [
      "Epoch 964: Train Loss: 0.4916, Val Accuracy: 0.7403, Val loss: 0.4825, best val acc: 0.7792\n"
     ]
    },
    {
     "name": "stderr",
     "output_type": "stream",
     "text": [
      "Epoch Progress:  19%|█▉        | 965/5000 [04:25<18:53,  3.56it/s]"
     ]
    },
    {
     "name": "stdout",
     "output_type": "stream",
     "text": [
      "Epoch 965: Train Loss: 0.4976, Val Accuracy: 0.7273, Val loss: 0.4844, best val acc: 0.7792\n"
     ]
    },
    {
     "name": "stderr",
     "output_type": "stream",
     "text": [
      "Epoch Progress:  19%|█▉        | 966/5000 [04:26<18:31,  3.63it/s]"
     ]
    },
    {
     "name": "stdout",
     "output_type": "stream",
     "text": [
      "Epoch 966: Train Loss: 0.4956, Val Accuracy: 0.7403, Val loss: 0.4855, best val acc: 0.7792\n"
     ]
    },
    {
     "name": "stderr",
     "output_type": "stream",
     "text": [
      "Epoch Progress:  19%|█▉        | 967/5000 [04:26<18:35,  3.61it/s]"
     ]
    },
    {
     "name": "stdout",
     "output_type": "stream",
     "text": [
      "Epoch 967: Train Loss: 0.4983, Val Accuracy: 0.7143, Val loss: 0.4807, best val acc: 0.7792\n"
     ]
    },
    {
     "name": "stderr",
     "output_type": "stream",
     "text": [
      "Epoch Progress:  19%|█▉        | 968/5000 [04:26<18:40,  3.60it/s]"
     ]
    },
    {
     "name": "stdout",
     "output_type": "stream",
     "text": [
      "Epoch 968: Train Loss: 0.5034, Val Accuracy: 0.7143, Val loss: 0.4766, best val acc: 0.7792\n"
     ]
    },
    {
     "name": "stderr",
     "output_type": "stream",
     "text": [
      "Epoch Progress:  19%|█▉        | 969/5000 [04:27<19:02,  3.53it/s]"
     ]
    },
    {
     "name": "stdout",
     "output_type": "stream",
     "text": [
      "Epoch 969: Train Loss: 0.4801, Val Accuracy: 0.7143, Val loss: 0.4785, best val acc: 0.7792\n"
     ]
    },
    {
     "name": "stderr",
     "output_type": "stream",
     "text": [
      "Epoch Progress:  19%|█▉        | 970/5000 [04:27<18:37,  3.61it/s]"
     ]
    },
    {
     "name": "stdout",
     "output_type": "stream",
     "text": [
      "Epoch 970: Train Loss: 0.4943, Val Accuracy: 0.7143, Val loss: 0.4765, best val acc: 0.7792\n"
     ]
    },
    {
     "name": "stderr",
     "output_type": "stream",
     "text": [
      "Epoch Progress:  19%|█▉        | 971/5000 [04:27<18:30,  3.63it/s]"
     ]
    },
    {
     "name": "stdout",
     "output_type": "stream",
     "text": [
      "Epoch 971: Train Loss: 0.5058, Val Accuracy: 0.7143, Val loss: 0.4770, best val acc: 0.7792\n"
     ]
    },
    {
     "name": "stderr",
     "output_type": "stream",
     "text": [
      "Epoch Progress:  19%|█▉        | 972/5000 [04:27<17:59,  3.73it/s]"
     ]
    },
    {
     "name": "stdout",
     "output_type": "stream",
     "text": [
      "Epoch 972: Train Loss: 0.4933, Val Accuracy: 0.7143, Val loss: 0.4712, best val acc: 0.7792\n"
     ]
    },
    {
     "name": "stderr",
     "output_type": "stream",
     "text": [
      "Epoch Progress:  19%|█▉        | 973/5000 [04:28<17:36,  3.81it/s]"
     ]
    },
    {
     "name": "stdout",
     "output_type": "stream",
     "text": [
      "Epoch 973: Train Loss: 0.4966, Val Accuracy: 0.7273, Val loss: 0.4711, best val acc: 0.7792\n"
     ]
    },
    {
     "name": "stderr",
     "output_type": "stream",
     "text": [
      "Epoch Progress:  19%|█▉        | 974/5000 [04:28<18:11,  3.69it/s]"
     ]
    },
    {
     "name": "stdout",
     "output_type": "stream",
     "text": [
      "Epoch 974: Train Loss: 0.4767, Val Accuracy: 0.7143, Val loss: 0.4786, best val acc: 0.7792\n"
     ]
    },
    {
     "name": "stderr",
     "output_type": "stream",
     "text": [
      "Epoch Progress:  20%|█▉        | 975/5000 [04:28<17:47,  3.77it/s]"
     ]
    },
    {
     "name": "stdout",
     "output_type": "stream",
     "text": [
      "Epoch 975: Train Loss: 0.4974, Val Accuracy: 0.7143, Val loss: 0.4792, best val acc: 0.7792\n"
     ]
    },
    {
     "name": "stderr",
     "output_type": "stream",
     "text": [
      "Epoch Progress:  20%|█▉        | 976/5000 [04:28<17:46,  3.77it/s]"
     ]
    },
    {
     "name": "stdout",
     "output_type": "stream",
     "text": [
      "Epoch 976: Train Loss: 0.4999, Val Accuracy: 0.7403, Val loss: 0.4753, best val acc: 0.7792\n"
     ]
    },
    {
     "name": "stderr",
     "output_type": "stream",
     "text": [
      "Epoch Progress:  20%|█▉        | 977/5000 [04:29<18:03,  3.71it/s]"
     ]
    },
    {
     "name": "stdout",
     "output_type": "stream",
     "text": [
      "Epoch 977: Train Loss: 0.4940, Val Accuracy: 0.7403, Val loss: 0.4707, best val acc: 0.7792\n"
     ]
    },
    {
     "name": "stderr",
     "output_type": "stream",
     "text": [
      "Epoch Progress:  20%|█▉        | 978/5000 [04:29<17:52,  3.75it/s]"
     ]
    },
    {
     "name": "stdout",
     "output_type": "stream",
     "text": [
      "Epoch 978: Train Loss: 0.5088, Val Accuracy: 0.7273, Val loss: 0.4704, best val acc: 0.7792\n"
     ]
    },
    {
     "name": "stderr",
     "output_type": "stream",
     "text": [
      "Epoch Progress:  20%|█▉        | 979/5000 [04:29<18:31,  3.62it/s]"
     ]
    },
    {
     "name": "stdout",
     "output_type": "stream",
     "text": [
      "Epoch 979: Train Loss: 0.5109, Val Accuracy: 0.7403, Val loss: 0.4698, best val acc: 0.7792\n"
     ]
    },
    {
     "name": "stderr",
     "output_type": "stream",
     "text": [
      "Epoch Progress:  20%|█▉        | 980/5000 [04:30<18:13,  3.68it/s]"
     ]
    },
    {
     "name": "stdout",
     "output_type": "stream",
     "text": [
      "Epoch 980: Train Loss: 0.4885, Val Accuracy: 0.7403, Val loss: 0.4717, best val acc: 0.7792\n"
     ]
    },
    {
     "name": "stderr",
     "output_type": "stream",
     "text": [
      "Epoch Progress:  20%|█▉        | 981/5000 [04:30<18:06,  3.70it/s]"
     ]
    },
    {
     "name": "stdout",
     "output_type": "stream",
     "text": [
      "Epoch 981: Train Loss: 0.4939, Val Accuracy: 0.7143, Val loss: 0.4748, best val acc: 0.7792\n"
     ]
    },
    {
     "name": "stderr",
     "output_type": "stream",
     "text": [
      "Epoch Progress:  20%|█▉        | 982/5000 [04:30<17:55,  3.73it/s]"
     ]
    },
    {
     "name": "stdout",
     "output_type": "stream",
     "text": [
      "Epoch 982: Train Loss: 0.5003, Val Accuracy: 0.7662, Val loss: 0.4785, best val acc: 0.7792\n"
     ]
    },
    {
     "name": "stderr",
     "output_type": "stream",
     "text": [
      "Epoch Progress:  20%|█▉        | 983/5000 [04:30<17:55,  3.73it/s]"
     ]
    },
    {
     "name": "stdout",
     "output_type": "stream",
     "text": [
      "Epoch 983: Train Loss: 0.4907, Val Accuracy: 0.7143, Val loss: 0.4774, best val acc: 0.7792\n"
     ]
    },
    {
     "name": "stderr",
     "output_type": "stream",
     "text": [
      "Epoch Progress:  20%|█▉        | 984/5000 [04:31<18:15,  3.66it/s]"
     ]
    },
    {
     "name": "stdout",
     "output_type": "stream",
     "text": [
      "Epoch 984: Train Loss: 0.4870, Val Accuracy: 0.7273, Val loss: 0.4826, best val acc: 0.7792\n"
     ]
    },
    {
     "name": "stderr",
     "output_type": "stream",
     "text": [
      "Epoch Progress:  20%|█▉        | 985/5000 [04:31<18:04,  3.70it/s]"
     ]
    },
    {
     "name": "stdout",
     "output_type": "stream",
     "text": [
      "Epoch 985: Train Loss: 0.4931, Val Accuracy: 0.7143, Val loss: 0.4840, best val acc: 0.7792\n"
     ]
    },
    {
     "name": "stderr",
     "output_type": "stream",
     "text": [
      "Epoch Progress:  20%|█▉        | 986/5000 [04:31<18:04,  3.70it/s]"
     ]
    },
    {
     "name": "stdout",
     "output_type": "stream",
     "text": [
      "Epoch 986: Train Loss: 0.5122, Val Accuracy: 0.7143, Val loss: 0.4819, best val acc: 0.7792\n"
     ]
    },
    {
     "name": "stderr",
     "output_type": "stream",
     "text": [
      "Epoch Progress:  20%|█▉        | 987/5000 [04:31<17:44,  3.77it/s]"
     ]
    },
    {
     "name": "stdout",
     "output_type": "stream",
     "text": [
      "Epoch 987: Train Loss: 0.4762, Val Accuracy: 0.7143, Val loss: 0.4853, best val acc: 0.7792\n"
     ]
    },
    {
     "name": "stderr",
     "output_type": "stream",
     "text": [
      "Epoch Progress:  20%|█▉        | 988/5000 [04:32<17:36,  3.80it/s]"
     ]
    },
    {
     "name": "stdout",
     "output_type": "stream",
     "text": [
      "Epoch 988: Train Loss: 0.4940, Val Accuracy: 0.7143, Val loss: 0.4803, best val acc: 0.7792\n"
     ]
    },
    {
     "name": "stderr",
     "output_type": "stream",
     "text": [
      "Epoch Progress:  20%|█▉        | 989/5000 [04:32<18:26,  3.63it/s]"
     ]
    },
    {
     "name": "stdout",
     "output_type": "stream",
     "text": [
      "Epoch 989: Train Loss: 0.4831, Val Accuracy: 0.7143, Val loss: 0.4765, best val acc: 0.7792\n"
     ]
    },
    {
     "name": "stderr",
     "output_type": "stream",
     "text": [
      "Epoch Progress:  20%|█▉        | 990/5000 [04:32<18:16,  3.66it/s]"
     ]
    },
    {
     "name": "stdout",
     "output_type": "stream",
     "text": [
      "Epoch 990: Train Loss: 0.4853, Val Accuracy: 0.7143, Val loss: 0.4809, best val acc: 0.7792\n"
     ]
    },
    {
     "name": "stderr",
     "output_type": "stream",
     "text": [
      "Epoch Progress:  20%|█▉        | 991/5000 [04:32<18:21,  3.64it/s]"
     ]
    },
    {
     "name": "stdout",
     "output_type": "stream",
     "text": [
      "Epoch 991: Train Loss: 0.4908, Val Accuracy: 0.7403, Val loss: 0.4784, best val acc: 0.7792\n"
     ]
    },
    {
     "name": "stderr",
     "output_type": "stream",
     "text": [
      "Epoch Progress:  20%|█▉        | 992/5000 [04:33<18:21,  3.64it/s]"
     ]
    },
    {
     "name": "stdout",
     "output_type": "stream",
     "text": [
      "Epoch 992: Train Loss: 0.4784, Val Accuracy: 0.7143, Val loss: 0.4825, best val acc: 0.7792\n"
     ]
    },
    {
     "name": "stderr",
     "output_type": "stream",
     "text": [
      "Epoch Progress:  20%|█▉        | 993/5000 [04:33<18:16,  3.65it/s]"
     ]
    },
    {
     "name": "stdout",
     "output_type": "stream",
     "text": [
      "Epoch 993: Train Loss: 0.4927, Val Accuracy: 0.7013, Val loss: 0.4764, best val acc: 0.7792\n"
     ]
    },
    {
     "name": "stderr",
     "output_type": "stream",
     "text": [
      "Epoch Progress:  20%|█▉        | 994/5000 [04:33<18:54,  3.53it/s]"
     ]
    },
    {
     "name": "stdout",
     "output_type": "stream",
     "text": [
      "Epoch 994: Train Loss: 0.5041, Val Accuracy: 0.7143, Val loss: 0.4859, best val acc: 0.7792\n"
     ]
    },
    {
     "name": "stderr",
     "output_type": "stream",
     "text": [
      "Epoch Progress:  20%|█▉        | 995/5000 [04:34<18:21,  3.64it/s]"
     ]
    },
    {
     "name": "stdout",
     "output_type": "stream",
     "text": [
      "Epoch 995: Train Loss: 0.4974, Val Accuracy: 0.7403, Val loss: 0.4797, best val acc: 0.7792\n"
     ]
    },
    {
     "name": "stderr",
     "output_type": "stream",
     "text": [
      "Epoch Progress:  20%|█▉        | 996/5000 [04:34<18:27,  3.61it/s]"
     ]
    },
    {
     "name": "stdout",
     "output_type": "stream",
     "text": [
      "Epoch 996: Train Loss: 0.4916, Val Accuracy: 0.7273, Val loss: 0.4749, best val acc: 0.7792\n"
     ]
    },
    {
     "name": "stderr",
     "output_type": "stream",
     "text": [
      "Epoch Progress:  20%|█▉        | 997/5000 [04:34<18:01,  3.70it/s]"
     ]
    },
    {
     "name": "stdout",
     "output_type": "stream",
     "text": [
      "Epoch 997: Train Loss: 0.4985, Val Accuracy: 0.7143, Val loss: 0.4756, best val acc: 0.7792\n"
     ]
    },
    {
     "name": "stderr",
     "output_type": "stream",
     "text": [
      "Epoch Progress:  20%|█▉        | 998/5000 [04:34<17:36,  3.79it/s]"
     ]
    },
    {
     "name": "stdout",
     "output_type": "stream",
     "text": [
      "Epoch 998: Train Loss: 0.4842, Val Accuracy: 0.7143, Val loss: 0.4680, best val acc: 0.7792\n"
     ]
    },
    {
     "name": "stderr",
     "output_type": "stream",
     "text": [
      "Epoch Progress:  20%|█▉        | 999/5000 [04:35<18:04,  3.69it/s]"
     ]
    },
    {
     "name": "stdout",
     "output_type": "stream",
     "text": [
      "Epoch 999: Train Loss: 0.4881, Val Accuracy: 0.7013, Val loss: 0.4741, best val acc: 0.7792\n"
     ]
    },
    {
     "name": "stderr",
     "output_type": "stream",
     "text": [
      "Epoch Progress:  20%|██        | 1000/5000 [04:35<17:47,  3.75it/s]"
     ]
    },
    {
     "name": "stdout",
     "output_type": "stream",
     "text": [
      "Epoch 1000: Train Loss: 0.5009, Val Accuracy: 0.7143, Val loss: 0.4675, best val acc: 0.7792\n"
     ]
    },
    {
     "name": "stderr",
     "output_type": "stream",
     "text": [
      "Epoch Progress:  20%|██        | 1001/5000 [04:35<17:29,  3.81it/s]"
     ]
    },
    {
     "name": "stdout",
     "output_type": "stream",
     "text": [
      "Epoch 1001: Train Loss: 0.4772, Val Accuracy: 0.7143, Val loss: 0.4741, best val acc: 0.7792\n"
     ]
    },
    {
     "name": "stderr",
     "output_type": "stream",
     "text": [
      "Epoch Progress:  20%|██        | 1002/5000 [04:35<17:28,  3.81it/s]"
     ]
    },
    {
     "name": "stdout",
     "output_type": "stream",
     "text": [
      "Epoch 1002: Train Loss: 0.4981, Val Accuracy: 0.7143, Val loss: 0.4695, best val acc: 0.7792\n"
     ]
    },
    {
     "name": "stderr",
     "output_type": "stream",
     "text": [
      "Epoch Progress:  20%|██        | 1003/5000 [04:36<17:19,  3.85it/s]"
     ]
    },
    {
     "name": "stdout",
     "output_type": "stream",
     "text": [
      "Epoch 1003: Train Loss: 0.4928, Val Accuracy: 0.7143, Val loss: 0.4672, best val acc: 0.7792\n"
     ]
    },
    {
     "name": "stderr",
     "output_type": "stream",
     "text": [
      "Epoch Progress:  20%|██        | 1004/5000 [04:36<18:17,  3.64it/s]"
     ]
    },
    {
     "name": "stdout",
     "output_type": "stream",
     "text": [
      "Epoch 1004: Train Loss: 0.5062, Val Accuracy: 0.7143, Val loss: 0.4744, best val acc: 0.7792\n"
     ]
    },
    {
     "name": "stderr",
     "output_type": "stream",
     "text": [
      "Epoch Progress:  20%|██        | 1005/5000 [04:36<17:54,  3.72it/s]"
     ]
    },
    {
     "name": "stdout",
     "output_type": "stream",
     "text": [
      "Epoch 1005: Train Loss: 0.4904, Val Accuracy: 0.7143, Val loss: 0.4677, best val acc: 0.7792\n"
     ]
    },
    {
     "name": "stderr",
     "output_type": "stream",
     "text": [
      "Epoch Progress:  20%|██        | 1006/5000 [04:37<17:34,  3.79it/s]"
     ]
    },
    {
     "name": "stdout",
     "output_type": "stream",
     "text": [
      "Epoch 1006: Train Loss: 0.4947, Val Accuracy: 0.7143, Val loss: 0.4645, best val acc: 0.7792\n"
     ]
    },
    {
     "name": "stderr",
     "output_type": "stream",
     "text": [
      "Epoch Progress:  20%|██        | 1007/5000 [04:37<17:34,  3.79it/s]"
     ]
    },
    {
     "name": "stdout",
     "output_type": "stream",
     "text": [
      "Epoch 1007: Train Loss: 0.4876, Val Accuracy: 0.7143, Val loss: 0.4705, best val acc: 0.7792\n"
     ]
    },
    {
     "name": "stderr",
     "output_type": "stream",
     "text": [
      "Epoch Progress:  20%|██        | 1008/5000 [04:37<17:20,  3.84it/s]"
     ]
    },
    {
     "name": "stdout",
     "output_type": "stream",
     "text": [
      "Epoch 1008: Train Loss: 0.4974, Val Accuracy: 0.7143, Val loss: 0.4687, best val acc: 0.7792\n"
     ]
    },
    {
     "name": "stderr",
     "output_type": "stream",
     "text": [
      "Epoch Progress:  20%|██        | 1009/5000 [04:37<17:45,  3.75it/s]"
     ]
    },
    {
     "name": "stdout",
     "output_type": "stream",
     "text": [
      "Epoch 1009: Train Loss: 0.4778, Val Accuracy: 0.7013, Val loss: 0.4774, best val acc: 0.7792\n"
     ]
    },
    {
     "name": "stderr",
     "output_type": "stream",
     "text": [
      "Epoch Progress:  20%|██        | 1010/5000 [04:38<17:34,  3.78it/s]"
     ]
    },
    {
     "name": "stdout",
     "output_type": "stream",
     "text": [
      "Epoch 1010: Train Loss: 0.4812, Val Accuracy: 0.7273, Val loss: 0.4741, best val acc: 0.7792\n"
     ]
    },
    {
     "name": "stderr",
     "output_type": "stream",
     "text": [
      "Epoch Progress:  20%|██        | 1011/5000 [04:38<17:50,  3.73it/s]"
     ]
    },
    {
     "name": "stdout",
     "output_type": "stream",
     "text": [
      "Epoch 1011: Train Loss: 0.4913, Val Accuracy: 0.7143, Val loss: 0.4765, best val acc: 0.7792\n"
     ]
    },
    {
     "name": "stderr",
     "output_type": "stream",
     "text": [
      "Epoch Progress:  20%|██        | 1012/5000 [04:38<17:55,  3.71it/s]"
     ]
    },
    {
     "name": "stdout",
     "output_type": "stream",
     "text": [
      "Epoch 1012: Train Loss: 0.4966, Val Accuracy: 0.7143, Val loss: 0.4774, best val acc: 0.7792\n"
     ]
    },
    {
     "name": "stderr",
     "output_type": "stream",
     "text": [
      "Epoch Progress:  20%|██        | 1013/5000 [04:38<17:39,  3.76it/s]"
     ]
    },
    {
     "name": "stdout",
     "output_type": "stream",
     "text": [
      "Epoch 1013: Train Loss: 0.4996, Val Accuracy: 0.7273, Val loss: 0.4761, best val acc: 0.7792\n"
     ]
    },
    {
     "name": "stderr",
     "output_type": "stream",
     "text": [
      "Epoch Progress:  20%|██        | 1014/5000 [04:39<17:57,  3.70it/s]"
     ]
    },
    {
     "name": "stdout",
     "output_type": "stream",
     "text": [
      "Epoch 1014: Train Loss: 0.5020, Val Accuracy: 0.7273, Val loss: 0.4769, best val acc: 0.7792\n"
     ]
    },
    {
     "name": "stderr",
     "output_type": "stream",
     "text": [
      "Epoch Progress:  20%|██        | 1015/5000 [04:39<17:43,  3.75it/s]"
     ]
    },
    {
     "name": "stdout",
     "output_type": "stream",
     "text": [
      "Epoch 1015: Train Loss: 0.4834, Val Accuracy: 0.7273, Val loss: 0.4715, best val acc: 0.7792\n"
     ]
    },
    {
     "name": "stderr",
     "output_type": "stream",
     "text": [
      "Epoch Progress:  20%|██        | 1016/5000 [04:39<17:42,  3.75it/s]"
     ]
    },
    {
     "name": "stdout",
     "output_type": "stream",
     "text": [
      "Epoch 1016: Train Loss: 0.4809, Val Accuracy: 0.7273, Val loss: 0.4703, best val acc: 0.7792\n"
     ]
    },
    {
     "name": "stderr",
     "output_type": "stream",
     "text": [
      "Epoch Progress:  20%|██        | 1017/5000 [04:39<17:32,  3.79it/s]"
     ]
    },
    {
     "name": "stdout",
     "output_type": "stream",
     "text": [
      "Epoch 1017: Train Loss: 0.4992, Val Accuracy: 0.7143, Val loss: 0.4698, best val acc: 0.7792\n"
     ]
    },
    {
     "name": "stderr",
     "output_type": "stream",
     "text": [
      "Epoch Progress:  20%|██        | 1018/5000 [04:40<17:57,  3.69it/s]"
     ]
    },
    {
     "name": "stdout",
     "output_type": "stream",
     "text": [
      "Epoch 1018: Train Loss: 0.4940, Val Accuracy: 0.7143, Val loss: 0.4663, best val acc: 0.7792\n"
     ]
    },
    {
     "name": "stderr",
     "output_type": "stream",
     "text": [
      "Epoch Progress:  20%|██        | 1019/5000 [04:40<18:16,  3.63it/s]"
     ]
    },
    {
     "name": "stdout",
     "output_type": "stream",
     "text": [
      "Epoch 1019: Train Loss: 0.4867, Val Accuracy: 0.7143, Val loss: 0.4763, best val acc: 0.7792\n"
     ]
    },
    {
     "name": "stderr",
     "output_type": "stream",
     "text": [
      "Epoch Progress:  20%|██        | 1020/5000 [04:40<18:03,  3.67it/s]"
     ]
    },
    {
     "name": "stdout",
     "output_type": "stream",
     "text": [
      "Epoch 1020: Train Loss: 0.5022, Val Accuracy: 0.7143, Val loss: 0.4708, best val acc: 0.7792\n"
     ]
    },
    {
     "name": "stderr",
     "output_type": "stream",
     "text": [
      "Epoch Progress:  20%|██        | 1021/5000 [04:41<17:48,  3.72it/s]"
     ]
    },
    {
     "name": "stdout",
     "output_type": "stream",
     "text": [
      "Epoch 1021: Train Loss: 0.5078, Val Accuracy: 0.7273, Val loss: 0.4714, best val acc: 0.7792\n"
     ]
    },
    {
     "name": "stderr",
     "output_type": "stream",
     "text": [
      "Epoch Progress:  20%|██        | 1022/5000 [04:41<17:29,  3.79it/s]"
     ]
    },
    {
     "name": "stdout",
     "output_type": "stream",
     "text": [
      "Epoch 1022: Train Loss: 0.4885, Val Accuracy: 0.7273, Val loss: 0.4719, best val acc: 0.7792\n"
     ]
    },
    {
     "name": "stderr",
     "output_type": "stream",
     "text": [
      "Epoch Progress:  20%|██        | 1023/5000 [04:41<18:17,  3.63it/s]"
     ]
    },
    {
     "name": "stdout",
     "output_type": "stream",
     "text": [
      "Epoch 1023: Train Loss: 0.4698, Val Accuracy: 0.7143, Val loss: 0.4718, best val acc: 0.7792\n"
     ]
    },
    {
     "name": "stderr",
     "output_type": "stream",
     "text": [
      "Epoch Progress:  20%|██        | 1024/5000 [04:41<18:09,  3.65it/s]"
     ]
    },
    {
     "name": "stdout",
     "output_type": "stream",
     "text": [
      "Epoch 1024: Train Loss: 0.4912, Val Accuracy: 0.7143, Val loss: 0.4866, best val acc: 0.7792\n"
     ]
    },
    {
     "name": "stderr",
     "output_type": "stream",
     "text": [
      "Epoch Progress:  20%|██        | 1025/5000 [04:42<17:49,  3.72it/s]"
     ]
    },
    {
     "name": "stdout",
     "output_type": "stream",
     "text": [
      "Epoch 1025: Train Loss: 0.4800, Val Accuracy: 0.7143, Val loss: 0.4807, best val acc: 0.7792\n"
     ]
    },
    {
     "name": "stderr",
     "output_type": "stream",
     "text": [
      "Epoch Progress:  21%|██        | 1026/5000 [04:42<17:45,  3.73it/s]"
     ]
    },
    {
     "name": "stdout",
     "output_type": "stream",
     "text": [
      "Epoch 1026: Train Loss: 0.4931, Val Accuracy: 0.7273, Val loss: 0.4811, best val acc: 0.7792\n"
     ]
    },
    {
     "name": "stderr",
     "output_type": "stream",
     "text": [
      "Epoch Progress:  21%|██        | 1027/5000 [04:42<17:51,  3.71it/s]"
     ]
    },
    {
     "name": "stdout",
     "output_type": "stream",
     "text": [
      "Epoch 1027: Train Loss: 0.4935, Val Accuracy: 0.7532, Val loss: 0.4694, best val acc: 0.7792\n"
     ]
    },
    {
     "name": "stderr",
     "output_type": "stream",
     "text": [
      "Epoch Progress:  21%|██        | 1028/5000 [04:42<18:20,  3.61it/s]"
     ]
    },
    {
     "name": "stdout",
     "output_type": "stream",
     "text": [
      "Epoch 1028: Train Loss: 0.4863, Val Accuracy: 0.7143, Val loss: 0.4699, best val acc: 0.7792\n"
     ]
    },
    {
     "name": "stderr",
     "output_type": "stream",
     "text": [
      "Epoch Progress:  21%|██        | 1029/5000 [04:43<18:02,  3.67it/s]"
     ]
    },
    {
     "name": "stdout",
     "output_type": "stream",
     "text": [
      "Epoch 1029: Train Loss: 0.4795, Val Accuracy: 0.7143, Val loss: 0.4703, best val acc: 0.7792\n"
     ]
    },
    {
     "name": "stderr",
     "output_type": "stream",
     "text": [
      "Epoch Progress:  21%|██        | 1030/5000 [04:43<17:44,  3.73it/s]"
     ]
    },
    {
     "name": "stdout",
     "output_type": "stream",
     "text": [
      "Epoch 1030: Train Loss: 0.5028, Val Accuracy: 0.7273, Val loss: 0.4685, best val acc: 0.7792\n"
     ]
    },
    {
     "name": "stderr",
     "output_type": "stream",
     "text": [
      "Epoch Progress:  21%|██        | 1031/5000 [04:43<17:39,  3.75it/s]"
     ]
    },
    {
     "name": "stdout",
     "output_type": "stream",
     "text": [
      "Epoch 1031: Train Loss: 0.5035, Val Accuracy: 0.7143, Val loss: 0.4679, best val acc: 0.7792\n"
     ]
    },
    {
     "name": "stderr",
     "output_type": "stream",
     "text": [
      "Epoch Progress:  21%|██        | 1032/5000 [04:44<17:31,  3.77it/s]"
     ]
    },
    {
     "name": "stdout",
     "output_type": "stream",
     "text": [
      "Epoch 1032: Train Loss: 0.4920, Val Accuracy: 0.7403, Val loss: 0.4731, best val acc: 0.7792\n"
     ]
    },
    {
     "name": "stderr",
     "output_type": "stream",
     "text": [
      "Epoch Progress:  21%|██        | 1033/5000 [04:44<17:57,  3.68it/s]"
     ]
    },
    {
     "name": "stdout",
     "output_type": "stream",
     "text": [
      "Epoch 1033: Train Loss: 0.5090, Val Accuracy: 0.7143, Val loss: 0.4678, best val acc: 0.7792\n"
     ]
    },
    {
     "name": "stderr",
     "output_type": "stream",
     "text": [
      "Epoch Progress:  21%|██        | 1034/5000 [04:44<17:44,  3.73it/s]"
     ]
    },
    {
     "name": "stdout",
     "output_type": "stream",
     "text": [
      "Epoch 1034: Train Loss: 0.5114, Val Accuracy: 0.7273, Val loss: 0.4751, best val acc: 0.7792\n"
     ]
    },
    {
     "name": "stderr",
     "output_type": "stream",
     "text": [
      "Epoch Progress:  21%|██        | 1035/5000 [04:44<18:40,  3.54it/s]"
     ]
    },
    {
     "name": "stdout",
     "output_type": "stream",
     "text": [
      "Epoch 1035: Train Loss: 0.4938, Val Accuracy: 0.7143, Val loss: 0.4774, best val acc: 0.7792\n"
     ]
    },
    {
     "name": "stderr",
     "output_type": "stream",
     "text": [
      "Epoch Progress:  21%|██        | 1036/5000 [04:45<19:29,  3.39it/s]"
     ]
    },
    {
     "name": "stdout",
     "output_type": "stream",
     "text": [
      "Epoch 1036: Train Loss: 0.4873, Val Accuracy: 0.7273, Val loss: 0.4718, best val acc: 0.7792\n"
     ]
    },
    {
     "name": "stderr",
     "output_type": "stream",
     "text": [
      "Epoch Progress:  21%|██        | 1037/5000 [04:45<18:56,  3.49it/s]"
     ]
    },
    {
     "name": "stdout",
     "output_type": "stream",
     "text": [
      "Epoch 1037: Train Loss: 0.4966, Val Accuracy: 0.7273, Val loss: 0.4673, best val acc: 0.7792\n"
     ]
    },
    {
     "name": "stderr",
     "output_type": "stream",
     "text": [
      "Epoch Progress:  21%|██        | 1038/5000 [04:45<18:56,  3.49it/s]"
     ]
    },
    {
     "name": "stdout",
     "output_type": "stream",
     "text": [
      "Epoch 1038: Train Loss: 0.4790, Val Accuracy: 0.7273, Val loss: 0.4698, best val acc: 0.7792\n"
     ]
    },
    {
     "name": "stderr",
     "output_type": "stream",
     "text": [
      "Epoch Progress:  21%|██        | 1039/5000 [04:45<18:13,  3.62it/s]"
     ]
    },
    {
     "name": "stdout",
     "output_type": "stream",
     "text": [
      "Epoch 1039: Train Loss: 0.4931, Val Accuracy: 0.7143, Val loss: 0.4671, best val acc: 0.7792\n"
     ]
    },
    {
     "name": "stderr",
     "output_type": "stream",
     "text": [
      "Epoch Progress:  21%|██        | 1040/5000 [04:46<17:49,  3.70it/s]"
     ]
    },
    {
     "name": "stdout",
     "output_type": "stream",
     "text": [
      "Epoch 1040: Train Loss: 0.5028, Val Accuracy: 0.7143, Val loss: 0.4661, best val acc: 0.7792\n"
     ]
    },
    {
     "name": "stderr",
     "output_type": "stream",
     "text": [
      "Epoch Progress:  21%|██        | 1041/5000 [04:46<17:44,  3.72it/s]"
     ]
    },
    {
     "name": "stdout",
     "output_type": "stream",
     "text": [
      "Epoch 1041: Train Loss: 0.5036, Val Accuracy: 0.7273, Val loss: 0.4713, best val acc: 0.7792\n"
     ]
    },
    {
     "name": "stderr",
     "output_type": "stream",
     "text": [
      "Epoch Progress:  21%|██        | 1042/5000 [04:46<18:00,  3.66it/s]"
     ]
    },
    {
     "name": "stdout",
     "output_type": "stream",
     "text": [
      "Epoch 1042: Train Loss: 0.4843, Val Accuracy: 0.7143, Val loss: 0.4757, best val acc: 0.7792\n"
     ]
    },
    {
     "name": "stderr",
     "output_type": "stream",
     "text": [
      "Epoch Progress:  21%|██        | 1043/5000 [04:47<18:14,  3.62it/s]"
     ]
    },
    {
     "name": "stdout",
     "output_type": "stream",
     "text": [
      "Epoch 1043: Train Loss: 0.4942, Val Accuracy: 0.7143, Val loss: 0.4705, best val acc: 0.7792\n"
     ]
    },
    {
     "name": "stderr",
     "output_type": "stream",
     "text": [
      "Epoch Progress:  21%|██        | 1044/5000 [04:47<17:45,  3.71it/s]"
     ]
    },
    {
     "name": "stdout",
     "output_type": "stream",
     "text": [
      "Epoch 1044: Train Loss: 0.4956, Val Accuracy: 0.7143, Val loss: 0.4735, best val acc: 0.7792\n"
     ]
    },
    {
     "name": "stderr",
     "output_type": "stream",
     "text": [
      "Epoch Progress:  21%|██        | 1045/5000 [04:47<17:22,  3.79it/s]"
     ]
    },
    {
     "name": "stdout",
     "output_type": "stream",
     "text": [
      "Epoch 1045: Train Loss: 0.5023, Val Accuracy: 0.7403, Val loss: 0.4713, best val acc: 0.7792\n"
     ]
    },
    {
     "name": "stderr",
     "output_type": "stream",
     "text": [
      "Epoch Progress:  21%|██        | 1046/5000 [04:47<17:18,  3.81it/s]"
     ]
    },
    {
     "name": "stdout",
     "output_type": "stream",
     "text": [
      "Epoch 1046: Train Loss: 0.5031, Val Accuracy: 0.7273, Val loss: 0.4711, best val acc: 0.7792\n"
     ]
    },
    {
     "name": "stderr",
     "output_type": "stream",
     "text": [
      "Epoch Progress:  21%|██        | 1047/5000 [04:48<17:46,  3.71it/s]"
     ]
    },
    {
     "name": "stdout",
     "output_type": "stream",
     "text": [
      "Epoch 1047: Train Loss: 0.4905, Val Accuracy: 0.7273, Val loss: 0.4763, best val acc: 0.7792\n"
     ]
    },
    {
     "name": "stderr",
     "output_type": "stream",
     "text": [
      "Epoch Progress:  21%|██        | 1048/5000 [04:48<17:37,  3.74it/s]"
     ]
    },
    {
     "name": "stdout",
     "output_type": "stream",
     "text": [
      "Epoch 1048: Train Loss: 0.4935, Val Accuracy: 0.7403, Val loss: 0.4727, best val acc: 0.7792\n"
     ]
    },
    {
     "name": "stderr",
     "output_type": "stream",
     "text": [
      "Epoch Progress:  21%|██        | 1049/5000 [04:48<17:19,  3.80it/s]"
     ]
    },
    {
     "name": "stdout",
     "output_type": "stream",
     "text": [
      "Epoch 1049: Train Loss: 0.4847, Val Accuracy: 0.7273, Val loss: 0.4678, best val acc: 0.7792\n"
     ]
    },
    {
     "name": "stderr",
     "output_type": "stream",
     "text": [
      "Epoch Progress:  21%|██        | 1050/5000 [04:48<17:15,  3.81it/s]"
     ]
    },
    {
     "name": "stdout",
     "output_type": "stream",
     "text": [
      "Epoch 1050: Train Loss: 0.4850, Val Accuracy: 0.7273, Val loss: 0.4709, best val acc: 0.7792\n"
     ]
    },
    {
     "name": "stderr",
     "output_type": "stream",
     "text": [
      "Epoch Progress:  21%|██        | 1051/5000 [04:49<18:39,  3.53it/s]"
     ]
    },
    {
     "name": "stdout",
     "output_type": "stream",
     "text": [
      "Epoch 1051: Train Loss: 0.4982, Val Accuracy: 0.7143, Val loss: 0.4765, best val acc: 0.7792\n"
     ]
    },
    {
     "name": "stderr",
     "output_type": "stream",
     "text": [
      "Epoch Progress:  21%|██        | 1052/5000 [04:49<18:05,  3.64it/s]"
     ]
    },
    {
     "name": "stdout",
     "output_type": "stream",
     "text": [
      "Epoch 1052: Train Loss: 0.4880, Val Accuracy: 0.7532, Val loss: 0.4697, best val acc: 0.7792\n"
     ]
    },
    {
     "name": "stderr",
     "output_type": "stream",
     "text": [
      "Epoch Progress:  21%|██        | 1053/5000 [04:49<18:05,  3.64it/s]"
     ]
    },
    {
     "name": "stdout",
     "output_type": "stream",
     "text": [
      "Epoch 1053: Train Loss: 0.5125, Val Accuracy: 0.7662, Val loss: 0.4751, best val acc: 0.7792\n"
     ]
    },
    {
     "name": "stderr",
     "output_type": "stream",
     "text": [
      "Epoch Progress:  21%|██        | 1054/5000 [04:50<17:53,  3.68it/s]"
     ]
    },
    {
     "name": "stdout",
     "output_type": "stream",
     "text": [
      "Epoch 1054: Train Loss: 0.5010, Val Accuracy: 0.7532, Val loss: 0.4657, best val acc: 0.7792\n"
     ]
    },
    {
     "name": "stderr",
     "output_type": "stream",
     "text": [
      "Epoch Progress:  21%|██        | 1055/5000 [04:50<17:55,  3.67it/s]"
     ]
    },
    {
     "name": "stdout",
     "output_type": "stream",
     "text": [
      "Epoch 1055: Train Loss: 0.5009, Val Accuracy: 0.7013, Val loss: 0.4686, best val acc: 0.7792\n"
     ]
    },
    {
     "name": "stderr",
     "output_type": "stream",
     "text": [
      "Epoch Progress:  21%|██        | 1056/5000 [04:50<18:31,  3.55it/s]"
     ]
    },
    {
     "name": "stdout",
     "output_type": "stream",
     "text": [
      "Epoch 1056: Train Loss: 0.4906, Val Accuracy: 0.7532, Val loss: 0.4704, best val acc: 0.7792\n"
     ]
    },
    {
     "name": "stderr",
     "output_type": "stream",
     "text": [
      "Epoch Progress:  21%|██        | 1057/5000 [04:50<18:31,  3.55it/s]"
     ]
    },
    {
     "name": "stdout",
     "output_type": "stream",
     "text": [
      "Epoch 1057: Train Loss: 0.4991, Val Accuracy: 0.7013, Val loss: 0.4731, best val acc: 0.7792\n"
     ]
    },
    {
     "name": "stderr",
     "output_type": "stream",
     "text": [
      "Epoch Progress:  21%|██        | 1058/5000 [04:51<18:20,  3.58it/s]"
     ]
    },
    {
     "name": "stdout",
     "output_type": "stream",
     "text": [
      "Epoch 1058: Train Loss: 0.4866, Val Accuracy: 0.7143, Val loss: 0.4783, best val acc: 0.7792\n"
     ]
    },
    {
     "name": "stderr",
     "output_type": "stream",
     "text": [
      "Epoch Progress:  21%|██        | 1059/5000 [04:51<18:26,  3.56it/s]"
     ]
    },
    {
     "name": "stdout",
     "output_type": "stream",
     "text": [
      "Epoch 1059: Train Loss: 0.4772, Val Accuracy: 0.7143, Val loss: 0.4733, best val acc: 0.7792\n"
     ]
    },
    {
     "name": "stderr",
     "output_type": "stream",
     "text": [
      "Epoch Progress:  21%|██        | 1060/5000 [04:51<18:34,  3.53it/s]"
     ]
    },
    {
     "name": "stdout",
     "output_type": "stream",
     "text": [
      "Epoch 1060: Train Loss: 0.4781, Val Accuracy: 0.7143, Val loss: 0.4756, best val acc: 0.7792\n"
     ]
    },
    {
     "name": "stderr",
     "output_type": "stream",
     "text": [
      "Epoch Progress:  21%|██        | 1061/5000 [04:52<18:21,  3.57it/s]"
     ]
    },
    {
     "name": "stdout",
     "output_type": "stream",
     "text": [
      "Epoch 1061: Train Loss: 0.4765, Val Accuracy: 0.7143, Val loss: 0.4765, best val acc: 0.7792\n"
     ]
    },
    {
     "name": "stderr",
     "output_type": "stream",
     "text": [
      "Epoch Progress:  21%|██        | 1062/5000 [04:52<17:59,  3.65it/s]"
     ]
    },
    {
     "name": "stdout",
     "output_type": "stream",
     "text": [
      "Epoch 1062: Train Loss: 0.4828, Val Accuracy: 0.7143, Val loss: 0.4882, best val acc: 0.7792\n"
     ]
    },
    {
     "name": "stderr",
     "output_type": "stream",
     "text": [
      "Epoch Progress:  21%|██▏       | 1063/5000 [04:52<17:55,  3.66it/s]"
     ]
    },
    {
     "name": "stdout",
     "output_type": "stream",
     "text": [
      "Epoch 1063: Train Loss: 0.4916, Val Accuracy: 0.7143, Val loss: 0.4684, best val acc: 0.7792\n"
     ]
    },
    {
     "name": "stderr",
     "output_type": "stream",
     "text": [
      "Epoch Progress:  21%|██▏       | 1064/5000 [04:52<17:50,  3.68it/s]"
     ]
    },
    {
     "name": "stdout",
     "output_type": "stream",
     "text": [
      "Epoch 1064: Train Loss: 0.4816, Val Accuracy: 0.7273, Val loss: 0.4659, best val acc: 0.7792\n"
     ]
    },
    {
     "name": "stderr",
     "output_type": "stream",
     "text": [
      "Epoch Progress:  21%|██▏       | 1065/5000 [04:53<18:20,  3.58it/s]"
     ]
    },
    {
     "name": "stdout",
     "output_type": "stream",
     "text": [
      "Epoch 1065: Train Loss: 0.5035, Val Accuracy: 0.7143, Val loss: 0.4748, best val acc: 0.7792\n"
     ]
    },
    {
     "name": "stderr",
     "output_type": "stream",
     "text": [
      "Epoch Progress:  21%|██▏       | 1066/5000 [04:53<18:32,  3.54it/s]"
     ]
    },
    {
     "name": "stdout",
     "output_type": "stream",
     "text": [
      "Epoch 1066: Train Loss: 0.5069, Val Accuracy: 0.7273, Val loss: 0.4696, best val acc: 0.7792\n"
     ]
    },
    {
     "name": "stderr",
     "output_type": "stream",
     "text": [
      "Epoch Progress:  21%|██▏       | 1067/5000 [04:53<18:08,  3.61it/s]"
     ]
    },
    {
     "name": "stdout",
     "output_type": "stream",
     "text": [
      "Epoch 1067: Train Loss: 0.4988, Val Accuracy: 0.7273, Val loss: 0.4691, best val acc: 0.7792\n"
     ]
    },
    {
     "name": "stderr",
     "output_type": "stream",
     "text": [
      "Epoch Progress:  21%|██▏       | 1068/5000 [04:53<18:18,  3.58it/s]"
     ]
    },
    {
     "name": "stdout",
     "output_type": "stream",
     "text": [
      "Epoch 1068: Train Loss: 0.5109, Val Accuracy: 0.7273, Val loss: 0.4698, best val acc: 0.7792\n"
     ]
    },
    {
     "name": "stderr",
     "output_type": "stream",
     "text": [
      "Epoch Progress:  21%|██▏       | 1069/5000 [04:54<17:59,  3.64it/s]"
     ]
    },
    {
     "name": "stdout",
     "output_type": "stream",
     "text": [
      "Epoch 1069: Train Loss: 0.4986, Val Accuracy: 0.7532, Val loss: 0.4747, best val acc: 0.7792\n"
     ]
    },
    {
     "name": "stderr",
     "output_type": "stream",
     "text": [
      "Epoch Progress:  21%|██▏       | 1070/5000 [04:54<18:50,  3.48it/s]"
     ]
    },
    {
     "name": "stdout",
     "output_type": "stream",
     "text": [
      "Epoch 1070: Train Loss: 0.5010, Val Accuracy: 0.7273, Val loss: 0.4795, best val acc: 0.7792\n"
     ]
    },
    {
     "name": "stderr",
     "output_type": "stream",
     "text": [
      "Epoch Progress:  21%|██▏       | 1071/5000 [04:54<18:21,  3.57it/s]"
     ]
    },
    {
     "name": "stdout",
     "output_type": "stream",
     "text": [
      "Epoch 1071: Train Loss: 0.4852, Val Accuracy: 0.7403, Val loss: 0.4785, best val acc: 0.7792\n"
     ]
    },
    {
     "name": "stderr",
     "output_type": "stream",
     "text": [
      "Epoch Progress:  21%|██▏       | 1072/5000 [04:55<17:40,  3.70it/s]"
     ]
    },
    {
     "name": "stdout",
     "output_type": "stream",
     "text": [
      "Epoch 1072: Train Loss: 0.5041, Val Accuracy: 0.7403, Val loss: 0.4841, best val acc: 0.7792\n"
     ]
    },
    {
     "name": "stderr",
     "output_type": "stream",
     "text": [
      "Epoch Progress:  21%|██▏       | 1073/5000 [04:55<17:24,  3.76it/s]"
     ]
    },
    {
     "name": "stdout",
     "output_type": "stream",
     "text": [
      "Epoch 1073: Train Loss: 0.4853, Val Accuracy: 0.7143, Val loss: 0.4756, best val acc: 0.7792\n"
     ]
    },
    {
     "name": "stderr",
     "output_type": "stream",
     "text": [
      "Epoch Progress:  21%|██▏       | 1074/5000 [04:55<16:59,  3.85it/s]"
     ]
    },
    {
     "name": "stdout",
     "output_type": "stream",
     "text": [
      "Epoch 1074: Train Loss: 0.5054, Val Accuracy: 0.7532, Val loss: 0.4762, best val acc: 0.7792\n"
     ]
    },
    {
     "name": "stderr",
     "output_type": "stream",
     "text": [
      "Epoch Progress:  22%|██▏       | 1075/5000 [04:55<17:48,  3.67it/s]"
     ]
    },
    {
     "name": "stdout",
     "output_type": "stream",
     "text": [
      "Epoch 1075: Train Loss: 0.5063, Val Accuracy: 0.7273, Val loss: 0.4768, best val acc: 0.7792\n"
     ]
    },
    {
     "name": "stderr",
     "output_type": "stream",
     "text": [
      "Epoch Progress:  22%|██▏       | 1076/5000 [04:56<17:39,  3.70it/s]"
     ]
    },
    {
     "name": "stdout",
     "output_type": "stream",
     "text": [
      "Epoch 1076: Train Loss: 0.4865, Val Accuracy: 0.7013, Val loss: 0.4682, best val acc: 0.7792\n"
     ]
    },
    {
     "name": "stderr",
     "output_type": "stream",
     "text": [
      "Epoch Progress:  22%|██▏       | 1077/5000 [04:56<17:29,  3.74it/s]"
     ]
    },
    {
     "name": "stdout",
     "output_type": "stream",
     "text": [
      "Epoch 1077: Train Loss: 0.5168, Val Accuracy: 0.7143, Val loss: 0.4667, best val acc: 0.7792\n"
     ]
    },
    {
     "name": "stderr",
     "output_type": "stream",
     "text": [
      "Epoch Progress:  22%|██▏       | 1078/5000 [04:56<17:27,  3.74it/s]"
     ]
    },
    {
     "name": "stdout",
     "output_type": "stream",
     "text": [
      "Epoch 1078: Train Loss: 0.4782, Val Accuracy: 0.7143, Val loss: 0.4732, best val acc: 0.7792\n"
     ]
    },
    {
     "name": "stderr",
     "output_type": "stream",
     "text": [
      "Epoch Progress:  22%|██▏       | 1079/5000 [04:56<18:05,  3.61it/s]"
     ]
    },
    {
     "name": "stdout",
     "output_type": "stream",
     "text": [
      "Epoch 1079: Train Loss: 0.5006, Val Accuracy: 0.7273, Val loss: 0.4737, best val acc: 0.7792\n"
     ]
    },
    {
     "name": "stderr",
     "output_type": "stream",
     "text": [
      "Epoch Progress:  22%|██▏       | 1080/5000 [04:57<17:44,  3.68it/s]"
     ]
    },
    {
     "name": "stdout",
     "output_type": "stream",
     "text": [
      "Epoch 1080: Train Loss: 0.4806, Val Accuracy: 0.7013, Val loss: 0.4781, best val acc: 0.7792\n"
     ]
    },
    {
     "name": "stderr",
     "output_type": "stream",
     "text": [
      "Epoch Progress:  22%|██▏       | 1081/5000 [04:57<17:27,  3.74it/s]"
     ]
    },
    {
     "name": "stdout",
     "output_type": "stream",
     "text": [
      "Epoch 1081: Train Loss: 0.4837, Val Accuracy: 0.7013, Val loss: 0.4797, best val acc: 0.7792\n"
     ]
    },
    {
     "name": "stderr",
     "output_type": "stream",
     "text": [
      "Epoch Progress:  22%|██▏       | 1082/5000 [04:57<17:01,  3.84it/s]"
     ]
    },
    {
     "name": "stdout",
     "output_type": "stream",
     "text": [
      "Epoch 1082: Train Loss: 0.4997, Val Accuracy: 0.7273, Val loss: 0.4699, best val acc: 0.7792\n"
     ]
    },
    {
     "name": "stderr",
     "output_type": "stream",
     "text": [
      "Epoch Progress:  22%|██▏       | 1083/5000 [04:57<16:51,  3.87it/s]"
     ]
    },
    {
     "name": "stdout",
     "output_type": "stream",
     "text": [
      "Epoch 1083: Train Loss: 0.4958, Val Accuracy: 0.7273, Val loss: 0.4754, best val acc: 0.7792\n"
     ]
    },
    {
     "name": "stderr",
     "output_type": "stream",
     "text": [
      "Epoch Progress:  22%|██▏       | 1084/5000 [04:58<17:40,  3.69it/s]"
     ]
    },
    {
     "name": "stdout",
     "output_type": "stream",
     "text": [
      "Epoch 1084: Train Loss: 0.5013, Val Accuracy: 0.7403, Val loss: 0.4720, best val acc: 0.7792\n"
     ]
    },
    {
     "name": "stderr",
     "output_type": "stream",
     "text": [
      "Epoch Progress:  22%|██▏       | 1085/5000 [04:58<17:30,  3.73it/s]"
     ]
    },
    {
     "name": "stdout",
     "output_type": "stream",
     "text": [
      "Epoch 1085: Train Loss: 0.4864, Val Accuracy: 0.7273, Val loss: 0.4697, best val acc: 0.7792\n"
     ]
    },
    {
     "name": "stderr",
     "output_type": "stream",
     "text": [
      "Epoch Progress:  22%|██▏       | 1086/5000 [04:58<17:09,  3.80it/s]"
     ]
    },
    {
     "name": "stdout",
     "output_type": "stream",
     "text": [
      "Epoch 1086: Train Loss: 0.4859, Val Accuracy: 0.7273, Val loss: 0.4746, best val acc: 0.7792\n"
     ]
    },
    {
     "name": "stderr",
     "output_type": "stream",
     "text": [
      "Epoch Progress:  22%|██▏       | 1087/5000 [04:59<17:02,  3.83it/s]"
     ]
    },
    {
     "name": "stdout",
     "output_type": "stream",
     "text": [
      "Epoch 1087: Train Loss: 0.4990, Val Accuracy: 0.7273, Val loss: 0.4717, best val acc: 0.7792\n"
     ]
    },
    {
     "name": "stderr",
     "output_type": "stream",
     "text": [
      "Epoch Progress:  22%|██▏       | 1088/5000 [04:59<17:39,  3.69it/s]"
     ]
    },
    {
     "name": "stdout",
     "output_type": "stream",
     "text": [
      "Epoch 1088: Train Loss: 0.4908, Val Accuracy: 0.7143, Val loss: 0.4785, best val acc: 0.7792\n"
     ]
    },
    {
     "name": "stderr",
     "output_type": "stream",
     "text": [
      "Epoch Progress:  22%|██▏       | 1089/5000 [04:59<17:24,  3.75it/s]"
     ]
    },
    {
     "name": "stdout",
     "output_type": "stream",
     "text": [
      "Epoch 1089: Train Loss: 0.4870, Val Accuracy: 0.7143, Val loss: 0.4727, best val acc: 0.7792\n"
     ]
    },
    {
     "name": "stderr",
     "output_type": "stream",
     "text": [
      "Epoch Progress:  22%|██▏       | 1090/5000 [04:59<17:49,  3.66it/s]"
     ]
    },
    {
     "name": "stdout",
     "output_type": "stream",
     "text": [
      "Epoch 1090: Train Loss: 0.5126, Val Accuracy: 0.7273, Val loss: 0.4791, best val acc: 0.7792\n"
     ]
    },
    {
     "name": "stderr",
     "output_type": "stream",
     "text": [
      "Epoch Progress:  22%|██▏       | 1091/5000 [05:00<17:39,  3.69it/s]"
     ]
    },
    {
     "name": "stdout",
     "output_type": "stream",
     "text": [
      "Epoch 1091: Train Loss: 0.4929, Val Accuracy: 0.7273, Val loss: 0.4827, best val acc: 0.7792\n"
     ]
    },
    {
     "name": "stderr",
     "output_type": "stream",
     "text": [
      "Epoch Progress:  22%|██▏       | 1092/5000 [05:00<18:10,  3.58it/s]"
     ]
    },
    {
     "name": "stdout",
     "output_type": "stream",
     "text": [
      "Epoch 1092: Train Loss: 0.4893, Val Accuracy: 0.7273, Val loss: 0.4783, best val acc: 0.7792\n"
     ]
    },
    {
     "name": "stderr",
     "output_type": "stream",
     "text": [
      "Epoch Progress:  22%|██▏       | 1093/5000 [05:00<19:05,  3.41it/s]"
     ]
    },
    {
     "name": "stdout",
     "output_type": "stream",
     "text": [
      "Epoch 1093: Train Loss: 0.4916, Val Accuracy: 0.7143, Val loss: 0.4782, best val acc: 0.7792\n"
     ]
    },
    {
     "name": "stderr",
     "output_type": "stream",
     "text": [
      "Epoch Progress:  22%|██▏       | 1094/5000 [05:01<18:49,  3.46it/s]"
     ]
    },
    {
     "name": "stdout",
     "output_type": "stream",
     "text": [
      "Epoch 1094: Train Loss: 0.4985, Val Accuracy: 0.7273, Val loss: 0.4781, best val acc: 0.7792\n"
     ]
    },
    {
     "name": "stderr",
     "output_type": "stream",
     "text": [
      "Epoch Progress:  22%|██▏       | 1095/5000 [05:01<18:29,  3.52it/s]"
     ]
    },
    {
     "name": "stdout",
     "output_type": "stream",
     "text": [
      "Epoch 1095: Train Loss: 0.4911, Val Accuracy: 0.7273, Val loss: 0.4771, best val acc: 0.7792\n"
     ]
    },
    {
     "name": "stderr",
     "output_type": "stream",
     "text": [
      "Epoch Progress:  22%|██▏       | 1096/5000 [05:01<18:12,  3.57it/s]"
     ]
    },
    {
     "name": "stdout",
     "output_type": "stream",
     "text": [
      "Epoch 1096: Train Loss: 0.4909, Val Accuracy: 0.7273, Val loss: 0.4738, best val acc: 0.7792\n"
     ]
    },
    {
     "name": "stderr",
     "output_type": "stream",
     "text": [
      "Epoch Progress:  22%|██▏       | 1097/5000 [05:01<18:57,  3.43it/s]"
     ]
    },
    {
     "name": "stdout",
     "output_type": "stream",
     "text": [
      "Epoch 1097: Train Loss: 0.4926, Val Accuracy: 0.7143, Val loss: 0.4687, best val acc: 0.7792\n"
     ]
    },
    {
     "name": "stderr",
     "output_type": "stream",
     "text": [
      "Epoch Progress:  22%|██▏       | 1098/5000 [05:02<18:39,  3.49it/s]"
     ]
    },
    {
     "name": "stdout",
     "output_type": "stream",
     "text": [
      "Epoch 1098: Train Loss: 0.5081, Val Accuracy: 0.7532, Val loss: 0.4755, best val acc: 0.7792\n"
     ]
    },
    {
     "name": "stderr",
     "output_type": "stream",
     "text": [
      "Epoch Progress:  22%|██▏       | 1099/5000 [05:02<18:24,  3.53it/s]"
     ]
    },
    {
     "name": "stdout",
     "output_type": "stream",
     "text": [
      "Epoch 1099: Train Loss: 0.4916, Val Accuracy: 0.7273, Val loss: 0.4781, best val acc: 0.7792\n"
     ]
    },
    {
     "name": "stderr",
     "output_type": "stream",
     "text": [
      "Epoch Progress:  22%|██▏       | 1100/5000 [05:02<18:37,  3.49it/s]"
     ]
    },
    {
     "name": "stdout",
     "output_type": "stream",
     "text": [
      "Epoch 1100: Train Loss: 0.5057, Val Accuracy: 0.7143, Val loss: 0.4744, best val acc: 0.7792\n"
     ]
    },
    {
     "name": "stderr",
     "output_type": "stream",
     "text": [
      "Epoch Progress:  22%|██▏       | 1101/5000 [05:03<18:48,  3.45it/s]"
     ]
    },
    {
     "name": "stdout",
     "output_type": "stream",
     "text": [
      "Epoch 1101: Train Loss: 0.4992, Val Accuracy: 0.7273, Val loss: 0.4766, best val acc: 0.7792\n"
     ]
    },
    {
     "name": "stderr",
     "output_type": "stream",
     "text": [
      "Epoch Progress:  22%|██▏       | 1102/5000 [05:03<19:14,  3.38it/s]"
     ]
    },
    {
     "name": "stdout",
     "output_type": "stream",
     "text": [
      "Epoch 1102: Train Loss: 0.4886, Val Accuracy: 0.7273, Val loss: 0.4821, best val acc: 0.7792\n"
     ]
    },
    {
     "name": "stderr",
     "output_type": "stream",
     "text": [
      "Epoch Progress:  22%|██▏       | 1103/5000 [05:03<18:43,  3.47it/s]"
     ]
    },
    {
     "name": "stdout",
     "output_type": "stream",
     "text": [
      "Epoch 1103: Train Loss: 0.4917, Val Accuracy: 0.7143, Val loss: 0.4810, best val acc: 0.7792\n"
     ]
    },
    {
     "name": "stderr",
     "output_type": "stream",
     "text": [
      "Epoch Progress:  22%|██▏       | 1104/5000 [05:03<18:27,  3.52it/s]"
     ]
    },
    {
     "name": "stdout",
     "output_type": "stream",
     "text": [
      "Epoch 1104: Train Loss: 0.4886, Val Accuracy: 0.7273, Val loss: 0.4795, best val acc: 0.7792\n"
     ]
    },
    {
     "name": "stderr",
     "output_type": "stream",
     "text": [
      "Epoch Progress:  22%|██▏       | 1105/5000 [05:04<18:18,  3.55it/s]"
     ]
    },
    {
     "name": "stdout",
     "output_type": "stream",
     "text": [
      "Epoch 1105: Train Loss: 0.4831, Val Accuracy: 0.7273, Val loss: 0.4760, best val acc: 0.7792\n"
     ]
    },
    {
     "name": "stderr",
     "output_type": "stream",
     "text": [
      "Epoch Progress:  22%|██▏       | 1106/5000 [05:04<19:01,  3.41it/s]"
     ]
    },
    {
     "name": "stdout",
     "output_type": "stream",
     "text": [
      "Epoch 1106: Train Loss: 0.4753, Val Accuracy: 0.7273, Val loss: 0.4731, best val acc: 0.7792\n"
     ]
    },
    {
     "name": "stderr",
     "output_type": "stream",
     "text": [
      "Epoch Progress:  22%|██▏       | 1107/5000 [05:04<19:01,  3.41it/s]"
     ]
    },
    {
     "name": "stdout",
     "output_type": "stream",
     "text": [
      "Epoch 1107: Train Loss: 0.4820, Val Accuracy: 0.7273, Val loss: 0.4774, best val acc: 0.7792\n"
     ]
    },
    {
     "name": "stderr",
     "output_type": "stream",
     "text": [
      "Epoch Progress:  22%|██▏       | 1108/5000 [05:05<18:56,  3.42it/s]"
     ]
    },
    {
     "name": "stdout",
     "output_type": "stream",
     "text": [
      "Epoch 1108: Train Loss: 0.5098, Val Accuracy: 0.7273, Val loss: 0.4706, best val acc: 0.7792\n"
     ]
    },
    {
     "name": "stderr",
     "output_type": "stream",
     "text": [
      "Epoch Progress:  22%|██▏       | 1109/5000 [05:05<18:24,  3.52it/s]"
     ]
    },
    {
     "name": "stdout",
     "output_type": "stream",
     "text": [
      "Epoch 1109: Train Loss: 0.4894, Val Accuracy: 0.7273, Val loss: 0.4690, best val acc: 0.7792\n"
     ]
    },
    {
     "name": "stderr",
     "output_type": "stream",
     "text": [
      "Epoch Progress:  22%|██▏       | 1110/5000 [05:05<17:54,  3.62it/s]"
     ]
    },
    {
     "name": "stdout",
     "output_type": "stream",
     "text": [
      "Epoch 1110: Train Loss: 0.5078, Val Accuracy: 0.7403, Val loss: 0.4688, best val acc: 0.7792\n"
     ]
    },
    {
     "name": "stderr",
     "output_type": "stream",
     "text": [
      "Epoch Progress:  22%|██▏       | 1111/5000 [05:05<19:00,  3.41it/s]"
     ]
    },
    {
     "name": "stdout",
     "output_type": "stream",
     "text": [
      "Epoch 1111: Train Loss: 0.4988, Val Accuracy: 0.7273, Val loss: 0.4733, best val acc: 0.7792\n"
     ]
    },
    {
     "name": "stderr",
     "output_type": "stream",
     "text": [
      "Epoch Progress:  22%|██▏       | 1112/5000 [05:06<18:43,  3.46it/s]"
     ]
    },
    {
     "name": "stdout",
     "output_type": "stream",
     "text": [
      "Epoch 1112: Train Loss: 0.4831, Val Accuracy: 0.7273, Val loss: 0.4716, best val acc: 0.7792\n"
     ]
    },
    {
     "name": "stderr",
     "output_type": "stream",
     "text": [
      "Epoch Progress:  22%|██▏       | 1113/5000 [05:06<18:46,  3.45it/s]"
     ]
    },
    {
     "name": "stdout",
     "output_type": "stream",
     "text": [
      "Epoch 1113: Train Loss: 0.5110, Val Accuracy: 0.7143, Val loss: 0.4702, best val acc: 0.7792\n"
     ]
    },
    {
     "name": "stderr",
     "output_type": "stream",
     "text": [
      "Epoch Progress:  22%|██▏       | 1114/5000 [05:06<18:06,  3.58it/s]"
     ]
    },
    {
     "name": "stdout",
     "output_type": "stream",
     "text": [
      "Epoch 1114: Train Loss: 0.5083, Val Accuracy: 0.7273, Val loss: 0.4726, best val acc: 0.7792\n"
     ]
    },
    {
     "name": "stderr",
     "output_type": "stream",
     "text": [
      "Epoch Progress:  22%|██▏       | 1115/5000 [05:07<18:54,  3.42it/s]"
     ]
    },
    {
     "name": "stdout",
     "output_type": "stream",
     "text": [
      "Epoch 1115: Train Loss: 0.5235, Val Accuracy: 0.7273, Val loss: 0.4736, best val acc: 0.7792\n"
     ]
    },
    {
     "name": "stderr",
     "output_type": "stream",
     "text": [
      "Epoch Progress:  22%|██▏       | 1116/5000 [05:07<19:05,  3.39it/s]"
     ]
    },
    {
     "name": "stdout",
     "output_type": "stream",
     "text": [
      "Epoch 1116: Train Loss: 0.4959, Val Accuracy: 0.7273, Val loss: 0.4756, best val acc: 0.7792\n"
     ]
    },
    {
     "name": "stderr",
     "output_type": "stream",
     "text": [
      "Epoch Progress:  22%|██▏       | 1117/5000 [05:07<18:32,  3.49it/s]"
     ]
    },
    {
     "name": "stdout",
     "output_type": "stream",
     "text": [
      "Epoch 1117: Train Loss: 0.4955, Val Accuracy: 0.7143, Val loss: 0.4788, best val acc: 0.7792\n"
     ]
    },
    {
     "name": "stderr",
     "output_type": "stream",
     "text": [
      "Epoch Progress:  22%|██▏       | 1118/5000 [05:07<18:08,  3.57it/s]"
     ]
    },
    {
     "name": "stdout",
     "output_type": "stream",
     "text": [
      "Epoch 1118: Train Loss: 0.5054, Val Accuracy: 0.7143, Val loss: 0.4789, best val acc: 0.7792\n"
     ]
    },
    {
     "name": "stderr",
     "output_type": "stream",
     "text": [
      "Epoch Progress:  22%|██▏       | 1119/5000 [05:08<17:41,  3.66it/s]"
     ]
    },
    {
     "name": "stdout",
     "output_type": "stream",
     "text": [
      "Epoch 1119: Train Loss: 0.4921, Val Accuracy: 0.7143, Val loss: 0.4799, best val acc: 0.7792\n"
     ]
    },
    {
     "name": "stderr",
     "output_type": "stream",
     "text": [
      "Epoch Progress:  22%|██▏       | 1120/5000 [05:08<18:08,  3.56it/s]"
     ]
    },
    {
     "name": "stdout",
     "output_type": "stream",
     "text": [
      "Epoch 1120: Train Loss: 0.4976, Val Accuracy: 0.7273, Val loss: 0.4762, best val acc: 0.7792\n"
     ]
    },
    {
     "name": "stderr",
     "output_type": "stream",
     "text": [
      "Epoch Progress:  22%|██▏       | 1121/5000 [05:08<18:08,  3.57it/s]"
     ]
    },
    {
     "name": "stdout",
     "output_type": "stream",
     "text": [
      "Epoch 1121: Train Loss: 0.4970, Val Accuracy: 0.7273, Val loss: 0.4768, best val acc: 0.7792\n"
     ]
    },
    {
     "name": "stderr",
     "output_type": "stream",
     "text": [
      "Epoch Progress:  22%|██▏       | 1122/5000 [05:08<17:33,  3.68it/s]"
     ]
    },
    {
     "name": "stdout",
     "output_type": "stream",
     "text": [
      "Epoch 1122: Train Loss: 0.5068, Val Accuracy: 0.7273, Val loss: 0.4771, best val acc: 0.7792\n"
     ]
    },
    {
     "name": "stderr",
     "output_type": "stream",
     "text": [
      "Epoch Progress:  22%|██▏       | 1123/5000 [05:09<18:13,  3.55it/s]"
     ]
    },
    {
     "name": "stdout",
     "output_type": "stream",
     "text": [
      "Epoch 1123: Train Loss: 0.4921, Val Accuracy: 0.7143, Val loss: 0.4819, best val acc: 0.7792\n"
     ]
    },
    {
     "name": "stderr",
     "output_type": "stream",
     "text": [
      "Epoch Progress:  22%|██▏       | 1124/5000 [05:09<19:12,  3.36it/s]"
     ]
    },
    {
     "name": "stdout",
     "output_type": "stream",
     "text": [
      "Epoch 1124: Train Loss: 0.5024, Val Accuracy: 0.7273, Val loss: 0.4790, best val acc: 0.7792\n"
     ]
    },
    {
     "name": "stderr",
     "output_type": "stream",
     "text": [
      "Epoch Progress:  22%|██▎       | 1125/5000 [05:09<18:15,  3.54it/s]"
     ]
    },
    {
     "name": "stdout",
     "output_type": "stream",
     "text": [
      "Epoch 1125: Train Loss: 0.4900, Val Accuracy: 0.7273, Val loss: 0.4740, best val acc: 0.7792\n"
     ]
    },
    {
     "name": "stderr",
     "output_type": "stream",
     "text": [
      "Epoch Progress:  23%|██▎       | 1126/5000 [05:10<17:56,  3.60it/s]"
     ]
    },
    {
     "name": "stdout",
     "output_type": "stream",
     "text": [
      "Epoch 1126: Train Loss: 0.4967, Val Accuracy: 0.7273, Val loss: 0.4749, best val acc: 0.7792\n"
     ]
    },
    {
     "name": "stderr",
     "output_type": "stream",
     "text": [
      "Epoch Progress:  23%|██▎       | 1127/5000 [05:10<18:24,  3.51it/s]"
     ]
    },
    {
     "name": "stdout",
     "output_type": "stream",
     "text": [
      "Epoch 1127: Train Loss: 0.5065, Val Accuracy: 0.7273, Val loss: 0.4770, best val acc: 0.7792\n"
     ]
    },
    {
     "name": "stderr",
     "output_type": "stream",
     "text": [
      "Epoch Progress:  23%|██▎       | 1128/5000 [05:10<18:24,  3.51it/s]"
     ]
    },
    {
     "name": "stdout",
     "output_type": "stream",
     "text": [
      "Epoch 1128: Train Loss: 0.4790, Val Accuracy: 0.7273, Val loss: 0.4832, best val acc: 0.7792\n"
     ]
    },
    {
     "name": "stderr",
     "output_type": "stream",
     "text": [
      "Epoch Progress:  23%|██▎       | 1129/5000 [05:11<19:13,  3.36it/s]"
     ]
    },
    {
     "name": "stdout",
     "output_type": "stream",
     "text": [
      "Epoch 1129: Train Loss: 0.4827, Val Accuracy: 0.7273, Val loss: 0.4776, best val acc: 0.7792\n"
     ]
    },
    {
     "name": "stderr",
     "output_type": "stream",
     "text": [
      "Epoch Progress:  23%|██▎       | 1130/5000 [05:11<18:55,  3.41it/s]"
     ]
    },
    {
     "name": "stdout",
     "output_type": "stream",
     "text": [
      "Epoch 1130: Train Loss: 0.4955, Val Accuracy: 0.7273, Val loss: 0.4789, best val acc: 0.7792\n"
     ]
    },
    {
     "name": "stderr",
     "output_type": "stream",
     "text": [
      "Epoch Progress:  23%|██▎       | 1131/5000 [05:11<18:24,  3.50it/s]"
     ]
    },
    {
     "name": "stdout",
     "output_type": "stream",
     "text": [
      "Epoch 1131: Train Loss: 0.4984, Val Accuracy: 0.7662, Val loss: 0.4811, best val acc: 0.7792\n"
     ]
    },
    {
     "name": "stderr",
     "output_type": "stream",
     "text": [
      "Epoch Progress:  23%|██▎       | 1132/5000 [05:11<18:06,  3.56it/s]"
     ]
    },
    {
     "name": "stdout",
     "output_type": "stream",
     "text": [
      "Epoch 1132: Train Loss: 0.5158, Val Accuracy: 0.7143, Val loss: 0.4746, best val acc: 0.7792\n"
     ]
    },
    {
     "name": "stderr",
     "output_type": "stream",
     "text": [
      "Epoch Progress:  23%|██▎       | 1133/5000 [05:12<17:59,  3.58it/s]"
     ]
    },
    {
     "name": "stdout",
     "output_type": "stream",
     "text": [
      "Epoch 1133: Train Loss: 0.5024, Val Accuracy: 0.7273, Val loss: 0.4727, best val acc: 0.7792\n"
     ]
    },
    {
     "name": "stderr",
     "output_type": "stream",
     "text": [
      "Epoch Progress:  23%|██▎       | 1134/5000 [05:12<19:08,  3.37it/s]"
     ]
    },
    {
     "name": "stdout",
     "output_type": "stream",
     "text": [
      "Epoch 1134: Train Loss: 0.4933, Val Accuracy: 0.7143, Val loss: 0.4794, best val acc: 0.7792\n"
     ]
    },
    {
     "name": "stderr",
     "output_type": "stream",
     "text": [
      "Epoch Progress:  23%|██▎       | 1135/5000 [05:12<19:05,  3.37it/s]"
     ]
    },
    {
     "name": "stdout",
     "output_type": "stream",
     "text": [
      "Epoch 1135: Train Loss: 0.5058, Val Accuracy: 0.7273, Val loss: 0.4685, best val acc: 0.7792\n"
     ]
    },
    {
     "name": "stderr",
     "output_type": "stream",
     "text": [
      "Epoch Progress:  23%|██▎       | 1136/5000 [05:13<19:47,  3.25it/s]"
     ]
    },
    {
     "name": "stdout",
     "output_type": "stream",
     "text": [
      "Epoch 1136: Train Loss: 0.4763, Val Accuracy: 0.7143, Val loss: 0.4767, best val acc: 0.7792\n"
     ]
    },
    {
     "name": "stderr",
     "output_type": "stream",
     "text": [
      "Epoch Progress:  23%|██▎       | 1137/5000 [05:13<19:14,  3.35it/s]"
     ]
    },
    {
     "name": "stdout",
     "output_type": "stream",
     "text": [
      "Epoch 1137: Train Loss: 0.4802, Val Accuracy: 0.7143, Val loss: 0.4696, best val acc: 0.7792\n"
     ]
    },
    {
     "name": "stderr",
     "output_type": "stream",
     "text": [
      "Epoch Progress:  23%|██▎       | 1138/5000 [05:13<19:37,  3.28it/s]"
     ]
    },
    {
     "name": "stdout",
     "output_type": "stream",
     "text": [
      "Epoch 1138: Train Loss: 0.5068, Val Accuracy: 0.7273, Val loss: 0.4681, best val acc: 0.7792\n"
     ]
    },
    {
     "name": "stderr",
     "output_type": "stream",
     "text": [
      "Epoch Progress:  23%|██▎       | 1139/5000 [05:13<18:55,  3.40it/s]"
     ]
    },
    {
     "name": "stdout",
     "output_type": "stream",
     "text": [
      "Epoch 1139: Train Loss: 0.4910, Val Accuracy: 0.7143, Val loss: 0.4720, best val acc: 0.7792\n"
     ]
    },
    {
     "name": "stderr",
     "output_type": "stream",
     "text": [
      "Epoch Progress:  23%|██▎       | 1140/5000 [05:14<18:28,  3.48it/s]"
     ]
    },
    {
     "name": "stdout",
     "output_type": "stream",
     "text": [
      "Epoch 1140: Train Loss: 0.5095, Val Accuracy: 0.7273, Val loss: 0.4714, best val acc: 0.7792\n"
     ]
    },
    {
     "name": "stderr",
     "output_type": "stream",
     "text": [
      "Epoch Progress:  23%|██▎       | 1141/5000 [05:14<18:38,  3.45it/s]"
     ]
    },
    {
     "name": "stdout",
     "output_type": "stream",
     "text": [
      "Epoch 1141: Train Loss: 0.4912, Val Accuracy: 0.7273, Val loss: 0.4726, best val acc: 0.7792\n"
     ]
    },
    {
     "name": "stderr",
     "output_type": "stream",
     "text": [
      "Epoch Progress:  23%|██▎       | 1142/5000 [05:14<18:26,  3.49it/s]"
     ]
    },
    {
     "name": "stdout",
     "output_type": "stream",
     "text": [
      "Epoch 1142: Train Loss: 0.4980, Val Accuracy: 0.7273, Val loss: 0.4714, best val acc: 0.7792\n"
     ]
    },
    {
     "name": "stderr",
     "output_type": "stream",
     "text": [
      "Epoch Progress:  23%|██▎       | 1143/5000 [05:15<18:17,  3.51it/s]"
     ]
    },
    {
     "name": "stdout",
     "output_type": "stream",
     "text": [
      "Epoch 1143: Train Loss: 0.4942, Val Accuracy: 0.7403, Val loss: 0.4740, best val acc: 0.7792\n"
     ]
    },
    {
     "name": "stderr",
     "output_type": "stream",
     "text": [
      "Epoch Progress:  23%|██▎       | 1144/5000 [05:15<18:31,  3.47it/s]"
     ]
    },
    {
     "name": "stdout",
     "output_type": "stream",
     "text": [
      "Epoch 1144: Train Loss: 0.4832, Val Accuracy: 0.7273, Val loss: 0.4737, best val acc: 0.7792\n"
     ]
    },
    {
     "name": "stderr",
     "output_type": "stream",
     "text": [
      "Epoch Progress:  23%|██▎       | 1145/5000 [05:15<18:36,  3.45it/s]"
     ]
    },
    {
     "name": "stdout",
     "output_type": "stream",
     "text": [
      "Epoch 1145: Train Loss: 0.4921, Val Accuracy: 0.7273, Val loss: 0.4792, best val acc: 0.7792\n"
     ]
    },
    {
     "name": "stderr",
     "output_type": "stream",
     "text": [
      "Epoch Progress:  23%|██▎       | 1146/5000 [05:16<18:44,  3.43it/s]"
     ]
    },
    {
     "name": "stdout",
     "output_type": "stream",
     "text": [
      "Epoch 1146: Train Loss: 0.5247, Val Accuracy: 0.7403, Val loss: 0.4811, best val acc: 0.7792\n"
     ]
    },
    {
     "name": "stderr",
     "output_type": "stream",
     "text": [
      "Epoch Progress:  23%|██▎       | 1147/5000 [05:16<18:48,  3.41it/s]"
     ]
    },
    {
     "name": "stdout",
     "output_type": "stream",
     "text": [
      "Epoch 1147: Train Loss: 0.4894, Val Accuracy: 0.7143, Val loss: 0.4728, best val acc: 0.7792\n"
     ]
    },
    {
     "name": "stderr",
     "output_type": "stream",
     "text": [
      "Epoch Progress:  23%|██▎       | 1148/5000 [05:16<19:16,  3.33it/s]"
     ]
    },
    {
     "name": "stdout",
     "output_type": "stream",
     "text": [
      "Epoch 1148: Train Loss: 0.5038, Val Accuracy: 0.7273, Val loss: 0.4837, best val acc: 0.7792\n"
     ]
    },
    {
     "name": "stderr",
     "output_type": "stream",
     "text": [
      "Epoch Progress:  23%|██▎       | 1149/5000 [05:16<18:41,  3.43it/s]"
     ]
    },
    {
     "name": "stdout",
     "output_type": "stream",
     "text": [
      "Epoch 1149: Train Loss: 0.5007, Val Accuracy: 0.7403, Val loss: 0.4870, best val acc: 0.7792\n"
     ]
    },
    {
     "name": "stderr",
     "output_type": "stream",
     "text": [
      "Epoch Progress:  23%|██▎       | 1150/5000 [05:17<17:42,  3.62it/s]"
     ]
    },
    {
     "name": "stdout",
     "output_type": "stream",
     "text": [
      "Epoch 1150: Train Loss: 0.4900, Val Accuracy: 0.7403, Val loss: 0.4785, best val acc: 0.7792\n"
     ]
    },
    {
     "name": "stderr",
     "output_type": "stream",
     "text": [
      "Epoch Progress:  23%|██▎       | 1151/5000 [05:17<17:55,  3.58it/s]"
     ]
    },
    {
     "name": "stdout",
     "output_type": "stream",
     "text": [
      "Epoch 1151: Train Loss: 0.5066, Val Accuracy: 0.7273, Val loss: 0.4784, best val acc: 0.7792\n"
     ]
    },
    {
     "name": "stderr",
     "output_type": "stream",
     "text": [
      "Epoch Progress:  23%|██▎       | 1152/5000 [05:17<18:02,  3.56it/s]"
     ]
    },
    {
     "name": "stdout",
     "output_type": "stream",
     "text": [
      "Epoch 1152: Train Loss: 0.4844, Val Accuracy: 0.7273, Val loss: 0.4779, best val acc: 0.7792\n"
     ]
    },
    {
     "name": "stderr",
     "output_type": "stream",
     "text": [
      "Epoch Progress:  23%|██▎       | 1153/5000 [05:17<17:44,  3.61it/s]"
     ]
    },
    {
     "name": "stdout",
     "output_type": "stream",
     "text": [
      "Epoch 1153: Train Loss: 0.4773, Val Accuracy: 0.7273, Val loss: 0.4777, best val acc: 0.7792\n"
     ]
    },
    {
     "name": "stderr",
     "output_type": "stream",
     "text": [
      "Epoch Progress:  23%|██▎       | 1154/5000 [05:18<17:50,  3.59it/s]"
     ]
    },
    {
     "name": "stdout",
     "output_type": "stream",
     "text": [
      "Epoch 1154: Train Loss: 0.5062, Val Accuracy: 0.7273, Val loss: 0.4817, best val acc: 0.7792\n"
     ]
    },
    {
     "name": "stderr",
     "output_type": "stream",
     "text": [
      "Epoch Progress:  23%|██▎       | 1155/5000 [05:18<17:50,  3.59it/s]"
     ]
    },
    {
     "name": "stdout",
     "output_type": "stream",
     "text": [
      "Epoch 1155: Train Loss: 0.4986, Val Accuracy: 0.7143, Val loss: 0.4702, best val acc: 0.7792\n"
     ]
    },
    {
     "name": "stderr",
     "output_type": "stream",
     "text": [
      "Epoch Progress:  23%|██▎       | 1156/5000 [05:18<18:52,  3.39it/s]"
     ]
    },
    {
     "name": "stdout",
     "output_type": "stream",
     "text": [
      "Epoch 1156: Train Loss: 0.4913, Val Accuracy: 0.7143, Val loss: 0.4661, best val acc: 0.7792\n"
     ]
    },
    {
     "name": "stderr",
     "output_type": "stream",
     "text": [
      "Epoch Progress:  23%|██▎       | 1157/5000 [05:19<18:19,  3.49it/s]"
     ]
    },
    {
     "name": "stdout",
     "output_type": "stream",
     "text": [
      "Epoch 1157: Train Loss: 0.4927, Val Accuracy: 0.7143, Val loss: 0.4749, best val acc: 0.7792\n"
     ]
    },
    {
     "name": "stderr",
     "output_type": "stream",
     "text": [
      "Epoch Progress:  23%|██▎       | 1158/5000 [05:19<17:55,  3.57it/s]"
     ]
    },
    {
     "name": "stdout",
     "output_type": "stream",
     "text": [
      "Epoch 1158: Train Loss: 0.4784, Val Accuracy: 0.7143, Val loss: 0.4770, best val acc: 0.7792\n"
     ]
    },
    {
     "name": "stderr",
     "output_type": "stream",
     "text": [
      "Epoch Progress:  23%|██▎       | 1159/5000 [05:19<17:50,  3.59it/s]"
     ]
    },
    {
     "name": "stdout",
     "output_type": "stream",
     "text": [
      "Epoch 1159: Train Loss: 0.4928, Val Accuracy: 0.7143, Val loss: 0.4696, best val acc: 0.7792\n"
     ]
    },
    {
     "name": "stderr",
     "output_type": "stream",
     "text": [
      "Epoch Progress:  23%|██▎       | 1160/5000 [05:19<17:35,  3.64it/s]"
     ]
    },
    {
     "name": "stdout",
     "output_type": "stream",
     "text": [
      "Epoch 1160: Train Loss: 0.5085, Val Accuracy: 0.7143, Val loss: 0.4761, best val acc: 0.7792\n"
     ]
    },
    {
     "name": "stderr",
     "output_type": "stream",
     "text": [
      "Epoch Progress:  23%|██▎       | 1161/5000 [05:20<17:50,  3.59it/s]"
     ]
    },
    {
     "name": "stdout",
     "output_type": "stream",
     "text": [
      "Epoch 1161: Train Loss: 0.4982, Val Accuracy: 0.7662, Val loss: 0.4775, best val acc: 0.7792\n"
     ]
    },
    {
     "name": "stderr",
     "output_type": "stream",
     "text": [
      "Epoch Progress:  23%|██▎       | 1162/5000 [05:20<18:48,  3.40it/s]"
     ]
    },
    {
     "name": "stdout",
     "output_type": "stream",
     "text": [
      "Epoch 1162: Train Loss: 0.5026, Val Accuracy: 0.7143, Val loss: 0.4760, best val acc: 0.7792\n"
     ]
    },
    {
     "name": "stderr",
     "output_type": "stream",
     "text": [
      "Epoch Progress:  23%|██▎       | 1163/5000 [05:20<18:53,  3.38it/s]"
     ]
    },
    {
     "name": "stdout",
     "output_type": "stream",
     "text": [
      "Epoch 1163: Train Loss: 0.4934, Val Accuracy: 0.7143, Val loss: 0.4853, best val acc: 0.7792\n"
     ]
    },
    {
     "name": "stderr",
     "output_type": "stream",
     "text": [
      "Epoch Progress:  23%|██▎       | 1164/5000 [05:21<18:41,  3.42it/s]"
     ]
    },
    {
     "name": "stdout",
     "output_type": "stream",
     "text": [
      "Epoch 1164: Train Loss: 0.4930, Val Accuracy: 0.7143, Val loss: 0.4805, best val acc: 0.7792\n"
     ]
    },
    {
     "name": "stderr",
     "output_type": "stream",
     "text": [
      "Epoch Progress:  23%|██▎       | 1165/5000 [05:21<18:13,  3.51it/s]"
     ]
    },
    {
     "name": "stdout",
     "output_type": "stream",
     "text": [
      "Epoch 1165: Train Loss: 0.4898, Val Accuracy: 0.7273, Val loss: 0.4783, best val acc: 0.7792\n"
     ]
    },
    {
     "name": "stderr",
     "output_type": "stream",
     "text": [
      "Epoch Progress:  23%|██▎       | 1166/5000 [05:21<18:17,  3.49it/s]"
     ]
    },
    {
     "name": "stdout",
     "output_type": "stream",
     "text": [
      "Epoch 1166: Train Loss: 0.4831, Val Accuracy: 0.7143, Val loss: 0.4724, best val acc: 0.7792\n"
     ]
    },
    {
     "name": "stderr",
     "output_type": "stream",
     "text": [
      "Epoch Progress:  23%|██▎       | 1167/5000 [05:21<18:00,  3.55it/s]"
     ]
    },
    {
     "name": "stdout",
     "output_type": "stream",
     "text": [
      "Epoch 1167: Train Loss: 0.4978, Val Accuracy: 0.7273, Val loss: 0.4712, best val acc: 0.7792\n"
     ]
    },
    {
     "name": "stderr",
     "output_type": "stream",
     "text": [
      "Epoch Progress:  23%|██▎       | 1168/5000 [05:22<17:53,  3.57it/s]"
     ]
    },
    {
     "name": "stdout",
     "output_type": "stream",
     "text": [
      "Epoch 1168: Train Loss: 0.4775, Val Accuracy: 0.7143, Val loss: 0.4754, best val acc: 0.7792\n"
     ]
    },
    {
     "name": "stderr",
     "output_type": "stream",
     "text": [
      "Epoch Progress:  23%|██▎       | 1169/5000 [05:22<17:52,  3.57it/s]"
     ]
    },
    {
     "name": "stdout",
     "output_type": "stream",
     "text": [
      "Epoch 1169: Train Loss: 0.4773, Val Accuracy: 0.7143, Val loss: 0.4777, best val acc: 0.7792\n"
     ]
    },
    {
     "name": "stderr",
     "output_type": "stream",
     "text": [
      "Epoch Progress:  23%|██▎       | 1170/5000 [05:22<17:50,  3.58it/s]"
     ]
    },
    {
     "name": "stdout",
     "output_type": "stream",
     "text": [
      "Epoch 1170: Train Loss: 0.5106, Val Accuracy: 0.7273, Val loss: 0.4638, best val acc: 0.7792\n"
     ]
    },
    {
     "name": "stderr",
     "output_type": "stream",
     "text": [
      "Epoch Progress:  23%|██▎       | 1171/5000 [05:23<17:36,  3.62it/s]"
     ]
    },
    {
     "name": "stdout",
     "output_type": "stream",
     "text": [
      "Epoch 1171: Train Loss: 0.4905, Val Accuracy: 0.7013, Val loss: 0.4731, best val acc: 0.7792\n"
     ]
    },
    {
     "name": "stderr",
     "output_type": "stream",
     "text": [
      "Epoch Progress:  23%|██▎       | 1172/5000 [05:23<17:52,  3.57it/s]"
     ]
    },
    {
     "name": "stdout",
     "output_type": "stream",
     "text": [
      "Epoch 1172: Train Loss: 0.5007, Val Accuracy: 0.7143, Val loss: 0.4741, best val acc: 0.7792\n"
     ]
    },
    {
     "name": "stderr",
     "output_type": "stream",
     "text": [
      "Epoch Progress:  23%|██▎       | 1173/5000 [05:23<18:14,  3.50it/s]"
     ]
    },
    {
     "name": "stdout",
     "output_type": "stream",
     "text": [
      "Epoch 1173: Train Loss: 0.4993, Val Accuracy: 0.7403, Val loss: 0.4735, best val acc: 0.7792\n"
     ]
    },
    {
     "name": "stderr",
     "output_type": "stream",
     "text": [
      "Epoch Progress:  23%|██▎       | 1174/5000 [05:24<19:31,  3.27it/s]"
     ]
    },
    {
     "name": "stdout",
     "output_type": "stream",
     "text": [
      "Epoch 1174: Train Loss: 0.4865, Val Accuracy: 0.7013, Val loss: 0.4747, best val acc: 0.7792\n"
     ]
    },
    {
     "name": "stderr",
     "output_type": "stream",
     "text": [
      "Epoch Progress:  24%|██▎       | 1175/5000 [05:24<19:22,  3.29it/s]"
     ]
    },
    {
     "name": "stdout",
     "output_type": "stream",
     "text": [
      "Epoch 1175: Train Loss: 0.5035, Val Accuracy: 0.7143, Val loss: 0.4772, best val acc: 0.7792\n"
     ]
    },
    {
     "name": "stderr",
     "output_type": "stream",
     "text": [
      "Epoch Progress:  24%|██▎       | 1176/5000 [05:24<19:19,  3.30it/s]"
     ]
    },
    {
     "name": "stdout",
     "output_type": "stream",
     "text": [
      "Epoch 1176: Train Loss: 0.5131, Val Accuracy: 0.7273, Val loss: 0.4731, best val acc: 0.7792\n"
     ]
    },
    {
     "name": "stderr",
     "output_type": "stream",
     "text": [
      "Epoch Progress:  24%|██▎       | 1177/5000 [05:24<20:06,  3.17it/s]"
     ]
    },
    {
     "name": "stdout",
     "output_type": "stream",
     "text": [
      "Epoch 1177: Train Loss: 0.4903, Val Accuracy: 0.7273, Val loss: 0.4725, best val acc: 0.7792\n"
     ]
    },
    {
     "name": "stderr",
     "output_type": "stream",
     "text": [
      "Epoch Progress:  24%|██▎       | 1178/5000 [05:25<20:00,  3.18it/s]"
     ]
    },
    {
     "name": "stdout",
     "output_type": "stream",
     "text": [
      "Epoch 1178: Train Loss: 0.4978, Val Accuracy: 0.7013, Val loss: 0.4765, best val acc: 0.7792\n"
     ]
    },
    {
     "name": "stderr",
     "output_type": "stream",
     "text": [
      "Epoch Progress:  24%|██▎       | 1179/5000 [05:25<19:22,  3.29it/s]"
     ]
    },
    {
     "name": "stdout",
     "output_type": "stream",
     "text": [
      "Epoch 1179: Train Loss: 0.4927, Val Accuracy: 0.7143, Val loss: 0.4750, best val acc: 0.7792\n"
     ]
    },
    {
     "name": "stderr",
     "output_type": "stream",
     "text": [
      "Epoch Progress:  24%|██▎       | 1180/5000 [05:25<18:55,  3.36it/s]"
     ]
    },
    {
     "name": "stdout",
     "output_type": "stream",
     "text": [
      "Epoch 1180: Train Loss: 0.4962, Val Accuracy: 0.7532, Val loss: 0.4786, best val acc: 0.7792\n"
     ]
    },
    {
     "name": "stderr",
     "output_type": "stream",
     "text": [
      "Epoch Progress:  24%|██▎       | 1181/5000 [05:26<18:45,  3.39it/s]"
     ]
    },
    {
     "name": "stdout",
     "output_type": "stream",
     "text": [
      "Epoch 1181: Train Loss: 0.4878, Val Accuracy: 0.7143, Val loss: 0.4787, best val acc: 0.7792\n"
     ]
    },
    {
     "name": "stderr",
     "output_type": "stream",
     "text": [
      "Epoch Progress:  24%|██▎       | 1182/5000 [05:26<18:33,  3.43it/s]"
     ]
    },
    {
     "name": "stdout",
     "output_type": "stream",
     "text": [
      "Epoch 1182: Train Loss: 0.4886, Val Accuracy: 0.7013, Val loss: 0.4709, best val acc: 0.7792\n"
     ]
    },
    {
     "name": "stderr",
     "output_type": "stream",
     "text": [
      "Epoch Progress:  24%|██▎       | 1183/5000 [05:26<18:18,  3.48it/s]"
     ]
    },
    {
     "name": "stdout",
     "output_type": "stream",
     "text": [
      "Epoch 1183: Train Loss: 0.4842, Val Accuracy: 0.7013, Val loss: 0.4874, best val acc: 0.7792\n"
     ]
    },
    {
     "name": "stderr",
     "output_type": "stream",
     "text": [
      "Epoch Progress:  24%|██▎       | 1184/5000 [05:26<18:17,  3.48it/s]"
     ]
    },
    {
     "name": "stdout",
     "output_type": "stream",
     "text": [
      "Epoch 1184: Train Loss: 0.5074, Val Accuracy: 0.7143, Val loss: 0.4825, best val acc: 0.7792\n"
     ]
    },
    {
     "name": "stderr",
     "output_type": "stream",
     "text": [
      "Epoch Progress:  24%|██▎       | 1185/5000 [05:27<17:54,  3.55it/s]"
     ]
    },
    {
     "name": "stdout",
     "output_type": "stream",
     "text": [
      "Epoch 1185: Train Loss: 0.5159, Val Accuracy: 0.7143, Val loss: 0.4832, best val acc: 0.7792\n"
     ]
    },
    {
     "name": "stderr",
     "output_type": "stream",
     "text": [
      "Epoch Progress:  24%|██▎       | 1186/5000 [05:27<17:31,  3.63it/s]"
     ]
    },
    {
     "name": "stdout",
     "output_type": "stream",
     "text": [
      "Epoch 1186: Train Loss: 0.5003, Val Accuracy: 0.7143, Val loss: 0.4843, best val acc: 0.7792\n"
     ]
    },
    {
     "name": "stderr",
     "output_type": "stream",
     "text": [
      "Epoch Progress:  24%|██▎       | 1187/5000 [05:27<17:20,  3.67it/s]"
     ]
    },
    {
     "name": "stdout",
     "output_type": "stream",
     "text": [
      "Epoch 1187: Train Loss: 0.4990, Val Accuracy: 0.7143, Val loss: 0.4783, best val acc: 0.7792\n"
     ]
    },
    {
     "name": "stderr",
     "output_type": "stream",
     "text": [
      "Epoch Progress:  24%|██▍       | 1188/5000 [05:28<17:03,  3.72it/s]"
     ]
    },
    {
     "name": "stdout",
     "output_type": "stream",
     "text": [
      "Epoch 1188: Train Loss: 0.4877, Val Accuracy: 0.7143, Val loss: 0.4785, best val acc: 0.7792\n"
     ]
    },
    {
     "name": "stderr",
     "output_type": "stream",
     "text": [
      "Epoch Progress:  24%|██▍       | 1189/5000 [05:28<16:47,  3.78it/s]"
     ]
    },
    {
     "name": "stdout",
     "output_type": "stream",
     "text": [
      "Epoch 1189: Train Loss: 0.4839, Val Accuracy: 0.7403, Val loss: 0.4741, best val acc: 0.7792\n"
     ]
    },
    {
     "name": "stderr",
     "output_type": "stream",
     "text": [
      "Epoch Progress:  24%|██▍       | 1190/5000 [05:28<17:28,  3.63it/s]"
     ]
    },
    {
     "name": "stdout",
     "output_type": "stream",
     "text": [
      "Epoch 1190: Train Loss: 0.4836, Val Accuracy: 0.7143, Val loss: 0.4712, best val acc: 0.7792\n"
     ]
    },
    {
     "name": "stderr",
     "output_type": "stream",
     "text": [
      "Epoch Progress:  24%|██▍       | 1191/5000 [05:28<17:38,  3.60it/s]"
     ]
    },
    {
     "name": "stdout",
     "output_type": "stream",
     "text": [
      "Epoch 1191: Train Loss: 0.5111, Val Accuracy: 0.7273, Val loss: 0.4682, best val acc: 0.7792\n"
     ]
    },
    {
     "name": "stderr",
     "output_type": "stream",
     "text": [
      "Epoch Progress:  24%|██▍       | 1192/5000 [05:29<17:03,  3.72it/s]"
     ]
    },
    {
     "name": "stdout",
     "output_type": "stream",
     "text": [
      "Epoch 1192: Train Loss: 0.5004, Val Accuracy: 0.7143, Val loss: 0.4696, best val acc: 0.7792\n"
     ]
    },
    {
     "name": "stderr",
     "output_type": "stream",
     "text": [
      "Epoch Progress:  24%|██▍       | 1193/5000 [05:29<17:27,  3.63it/s]"
     ]
    },
    {
     "name": "stdout",
     "output_type": "stream",
     "text": [
      "Epoch 1193: Train Loss: 0.4967, Val Accuracy: 0.7143, Val loss: 0.4674, best val acc: 0.7792\n"
     ]
    },
    {
     "name": "stderr",
     "output_type": "stream",
     "text": [
      "Epoch Progress:  24%|██▍       | 1194/5000 [05:29<17:51,  3.55it/s]"
     ]
    },
    {
     "name": "stdout",
     "output_type": "stream",
     "text": [
      "Epoch 1194: Train Loss: 0.4803, Val Accuracy: 0.7273, Val loss: 0.4739, best val acc: 0.7792\n"
     ]
    },
    {
     "name": "stderr",
     "output_type": "stream",
     "text": [
      "Epoch Progress:  24%|██▍       | 1195/5000 [05:29<17:47,  3.56it/s]"
     ]
    },
    {
     "name": "stdout",
     "output_type": "stream",
     "text": [
      "Epoch 1195: Train Loss: 0.5123, Val Accuracy: 0.7143, Val loss: 0.4872, best val acc: 0.7792\n"
     ]
    },
    {
     "name": "stderr",
     "output_type": "stream",
     "text": [
      "Epoch Progress:  24%|██▍       | 1196/5000 [05:30<17:45,  3.57it/s]"
     ]
    },
    {
     "name": "stdout",
     "output_type": "stream",
     "text": [
      "Epoch 1196: Train Loss: 0.5138, Val Accuracy: 0.7143, Val loss: 0.4784, best val acc: 0.7792\n"
     ]
    },
    {
     "name": "stderr",
     "output_type": "stream",
     "text": [
      "Epoch Progress:  24%|██▍       | 1197/5000 [05:30<17:43,  3.58it/s]"
     ]
    },
    {
     "name": "stdout",
     "output_type": "stream",
     "text": [
      "Epoch 1197: Train Loss: 0.4972, Val Accuracy: 0.7143, Val loss: 0.4846, best val acc: 0.7792\n"
     ]
    },
    {
     "name": "stderr",
     "output_type": "stream",
     "text": [
      "Epoch Progress:  24%|██▍       | 1198/5000 [05:30<17:29,  3.62it/s]"
     ]
    },
    {
     "name": "stdout",
     "output_type": "stream",
     "text": [
      "Epoch 1198: Train Loss: 0.4941, Val Accuracy: 0.7273, Val loss: 0.4800, best val acc: 0.7792\n"
     ]
    },
    {
     "name": "stderr",
     "output_type": "stream",
     "text": [
      "Epoch Progress:  24%|██▍       | 1199/5000 [05:31<17:16,  3.67it/s]"
     ]
    },
    {
     "name": "stdout",
     "output_type": "stream",
     "text": [
      "Epoch 1199: Train Loss: 0.5066, Val Accuracy: 0.7273, Val loss: 0.4751, best val acc: 0.7792\n"
     ]
    },
    {
     "name": "stderr",
     "output_type": "stream",
     "text": [
      "Epoch Progress:  24%|██▍       | 1200/5000 [05:31<17:05,  3.70it/s]"
     ]
    },
    {
     "name": "stdout",
     "output_type": "stream",
     "text": [
      "Epoch 1200: Train Loss: 0.4877, Val Accuracy: 0.7273, Val loss: 0.4834, best val acc: 0.7792\n"
     ]
    },
    {
     "name": "stderr",
     "output_type": "stream",
     "text": [
      "Epoch Progress:  24%|██▍       | 1201/5000 [05:31<17:28,  3.62it/s]"
     ]
    },
    {
     "name": "stdout",
     "output_type": "stream",
     "text": [
      "Epoch 1201: Train Loss: 0.4929, Val Accuracy: 0.7273, Val loss: 0.4777, best val acc: 0.7792\n"
     ]
    },
    {
     "name": "stderr",
     "output_type": "stream",
     "text": [
      "Epoch Progress:  24%|██▍       | 1202/5000 [05:31<17:08,  3.69it/s]"
     ]
    },
    {
     "name": "stdout",
     "output_type": "stream",
     "text": [
      "Epoch 1202: Train Loss: 0.4897, Val Accuracy: 0.7143, Val loss: 0.4761, best val acc: 0.7792\n"
     ]
    },
    {
     "name": "stderr",
     "output_type": "stream",
     "text": [
      "Epoch Progress:  24%|██▍       | 1203/5000 [05:32<17:36,  3.60it/s]"
     ]
    },
    {
     "name": "stdout",
     "output_type": "stream",
     "text": [
      "Epoch 1203: Train Loss: 0.4965, Val Accuracy: 0.7143, Val loss: 0.4799, best val acc: 0.7792\n"
     ]
    },
    {
     "name": "stderr",
     "output_type": "stream",
     "text": [
      "Epoch Progress:  24%|██▍       | 1204/5000 [05:32<17:49,  3.55it/s]"
     ]
    },
    {
     "name": "stdout",
     "output_type": "stream",
     "text": [
      "Epoch 1204: Train Loss: 0.4935, Val Accuracy: 0.7143, Val loss: 0.4742, best val acc: 0.7792\n"
     ]
    },
    {
     "name": "stderr",
     "output_type": "stream",
     "text": [
      "Epoch Progress:  24%|██▍       | 1205/5000 [05:32<18:26,  3.43it/s]"
     ]
    },
    {
     "name": "stdout",
     "output_type": "stream",
     "text": [
      "Epoch 1205: Train Loss: 0.4868, Val Accuracy: 0.7273, Val loss: 0.4767, best val acc: 0.7792\n"
     ]
    },
    {
     "name": "stderr",
     "output_type": "stream",
     "text": [
      "Epoch Progress:  24%|██▍       | 1206/5000 [05:33<18:34,  3.40it/s]"
     ]
    },
    {
     "name": "stdout",
     "output_type": "stream",
     "text": [
      "Epoch 1206: Train Loss: 0.4879, Val Accuracy: 0.7143, Val loss: 0.4744, best val acc: 0.7792\n"
     ]
    },
    {
     "name": "stderr",
     "output_type": "stream",
     "text": [
      "Epoch Progress:  24%|██▍       | 1207/5000 [05:33<18:21,  3.44it/s]"
     ]
    },
    {
     "name": "stdout",
     "output_type": "stream",
     "text": [
      "Epoch 1207: Train Loss: 0.5021, Val Accuracy: 0.7273, Val loss: 0.4744, best val acc: 0.7792\n"
     ]
    },
    {
     "name": "stderr",
     "output_type": "stream",
     "text": [
      "Epoch Progress:  24%|██▍       | 1208/5000 [05:33<18:41,  3.38it/s]"
     ]
    },
    {
     "name": "stdout",
     "output_type": "stream",
     "text": [
      "Epoch 1208: Train Loss: 0.5015, Val Accuracy: 0.7532, Val loss: 0.4815, best val acc: 0.7792\n"
     ]
    },
    {
     "name": "stderr",
     "output_type": "stream",
     "text": [
      "Epoch Progress:  24%|██▍       | 1209/5000 [05:33<18:26,  3.43it/s]"
     ]
    },
    {
     "name": "stdout",
     "output_type": "stream",
     "text": [
      "Epoch 1209: Train Loss: 0.5013, Val Accuracy: 0.7273, Val loss: 0.4761, best val acc: 0.7792\n"
     ]
    },
    {
     "name": "stderr",
     "output_type": "stream",
     "text": [
      "Epoch Progress:  24%|██▍       | 1210/5000 [05:34<18:56,  3.34it/s]"
     ]
    },
    {
     "name": "stdout",
     "output_type": "stream",
     "text": [
      "Epoch 1210: Train Loss: 0.4860, Val Accuracy: 0.7273, Val loss: 0.4796, best val acc: 0.7792\n"
     ]
    },
    {
     "name": "stderr",
     "output_type": "stream",
     "text": [
      "Epoch Progress:  24%|██▍       | 1211/5000 [05:34<18:47,  3.36it/s]"
     ]
    },
    {
     "name": "stdout",
     "output_type": "stream",
     "text": [
      "Epoch 1211: Train Loss: 0.4873, Val Accuracy: 0.7273, Val loss: 0.4765, best val acc: 0.7792\n"
     ]
    },
    {
     "name": "stderr",
     "output_type": "stream",
     "text": [
      "Epoch Progress:  24%|██▍       | 1212/5000 [05:34<18:40,  3.38it/s]"
     ]
    },
    {
     "name": "stdout",
     "output_type": "stream",
     "text": [
      "Epoch 1212: Train Loss: 0.5041, Val Accuracy: 0.7273, Val loss: 0.4748, best val acc: 0.7792\n"
     ]
    },
    {
     "name": "stderr",
     "output_type": "stream",
     "text": [
      "Epoch Progress:  24%|██▍       | 1213/5000 [05:35<18:20,  3.44it/s]"
     ]
    },
    {
     "name": "stdout",
     "output_type": "stream",
     "text": [
      "Epoch 1213: Train Loss: 0.4953, Val Accuracy: 0.7273, Val loss: 0.4779, best val acc: 0.7792\n"
     ]
    },
    {
     "name": "stderr",
     "output_type": "stream",
     "text": [
      "Epoch Progress:  24%|██▍       | 1214/5000 [05:35<18:00,  3.51it/s]"
     ]
    },
    {
     "name": "stdout",
     "output_type": "stream",
     "text": [
      "Epoch 1214: Train Loss: 0.5001, Val Accuracy: 0.7273, Val loss: 0.4745, best val acc: 0.7792\n"
     ]
    },
    {
     "name": "stderr",
     "output_type": "stream",
     "text": [
      "Epoch Progress:  24%|██▍       | 1215/5000 [05:35<18:19,  3.44it/s]"
     ]
    },
    {
     "name": "stdout",
     "output_type": "stream",
     "text": [
      "Epoch 1215: Train Loss: 0.4989, Val Accuracy: 0.7143, Val loss: 0.4783, best val acc: 0.7792\n"
     ]
    },
    {
     "name": "stderr",
     "output_type": "stream",
     "text": [
      "Epoch Progress:  24%|██▍       | 1216/5000 [05:35<18:06,  3.48it/s]"
     ]
    },
    {
     "name": "stdout",
     "output_type": "stream",
     "text": [
      "Epoch 1216: Train Loss: 0.5025, Val Accuracy: 0.7273, Val loss: 0.4760, best val acc: 0.7792\n"
     ]
    },
    {
     "name": "stderr",
     "output_type": "stream",
     "text": [
      "Epoch Progress:  24%|██▍       | 1217/5000 [05:36<17:31,  3.60it/s]"
     ]
    },
    {
     "name": "stdout",
     "output_type": "stream",
     "text": [
      "Epoch 1217: Train Loss: 0.4967, Val Accuracy: 0.7273, Val loss: 0.4777, best val acc: 0.7792\n"
     ]
    },
    {
     "name": "stderr",
     "output_type": "stream",
     "text": [
      "Epoch Progress:  24%|██▍       | 1218/5000 [05:36<17:12,  3.66it/s]"
     ]
    },
    {
     "name": "stdout",
     "output_type": "stream",
     "text": [
      "Epoch 1218: Train Loss: 0.4870, Val Accuracy: 0.7532, Val loss: 0.4768, best val acc: 0.7792\n"
     ]
    },
    {
     "name": "stderr",
     "output_type": "stream",
     "text": [
      "Epoch Progress:  24%|██▍       | 1219/5000 [05:36<17:44,  3.55it/s]"
     ]
    },
    {
     "name": "stdout",
     "output_type": "stream",
     "text": [
      "Epoch 1219: Train Loss: 0.4738, Val Accuracy: 0.7273, Val loss: 0.4749, best val acc: 0.7792\n"
     ]
    },
    {
     "name": "stderr",
     "output_type": "stream",
     "text": [
      "Epoch Progress:  24%|██▍       | 1220/5000 [05:37<18:54,  3.33it/s]"
     ]
    },
    {
     "name": "stdout",
     "output_type": "stream",
     "text": [
      "Epoch 1220: Train Loss: 0.4642, Val Accuracy: 0.7143, Val loss: 0.4762, best val acc: 0.7792\n"
     ]
    },
    {
     "name": "stderr",
     "output_type": "stream",
     "text": [
      "Epoch Progress:  24%|██▍       | 1221/5000 [05:37<18:30,  3.40it/s]"
     ]
    },
    {
     "name": "stdout",
     "output_type": "stream",
     "text": [
      "Epoch 1221: Train Loss: 0.4930, Val Accuracy: 0.7143, Val loss: 0.4730, best val acc: 0.7792\n"
     ]
    },
    {
     "name": "stderr",
     "output_type": "stream",
     "text": [
      "Epoch Progress:  24%|██▍       | 1222/5000 [05:37<18:00,  3.50it/s]"
     ]
    },
    {
     "name": "stdout",
     "output_type": "stream",
     "text": [
      "Epoch 1222: Train Loss: 0.5078, Val Accuracy: 0.7532, Val loss: 0.4728, best val acc: 0.7792\n"
     ]
    },
    {
     "name": "stderr",
     "output_type": "stream",
     "text": [
      "Epoch Progress:  24%|██▍       | 1223/5000 [05:37<17:25,  3.61it/s]"
     ]
    },
    {
     "name": "stdout",
     "output_type": "stream",
     "text": [
      "Epoch 1223: Train Loss: 0.4842, Val Accuracy: 0.7273, Val loss: 0.4740, best val acc: 0.7792\n"
     ]
    },
    {
     "name": "stderr",
     "output_type": "stream",
     "text": [
      "Epoch Progress:  24%|██▍       | 1224/5000 [05:38<17:14,  3.65it/s]"
     ]
    },
    {
     "name": "stdout",
     "output_type": "stream",
     "text": [
      "Epoch 1224: Train Loss: 0.4901, Val Accuracy: 0.7273, Val loss: 0.4768, best val acc: 0.7792\n"
     ]
    },
    {
     "name": "stderr",
     "output_type": "stream",
     "text": [
      "Epoch Progress:  24%|██▍       | 1225/5000 [05:38<17:11,  3.66it/s]"
     ]
    },
    {
     "name": "stdout",
     "output_type": "stream",
     "text": [
      "Epoch 1225: Train Loss: 0.4790, Val Accuracy: 0.7403, Val loss: 0.4780, best val acc: 0.7792\n"
     ]
    },
    {
     "name": "stderr",
     "output_type": "stream",
     "text": [
      "Epoch Progress:  25%|██▍       | 1226/5000 [05:38<17:08,  3.67it/s]"
     ]
    },
    {
     "name": "stdout",
     "output_type": "stream",
     "text": [
      "Epoch 1226: Train Loss: 0.4910, Val Accuracy: 0.7143, Val loss: 0.4779, best val acc: 0.7792\n"
     ]
    },
    {
     "name": "stderr",
     "output_type": "stream",
     "text": [
      "Epoch Progress:  25%|██▍       | 1227/5000 [05:39<16:58,  3.70it/s]"
     ]
    },
    {
     "name": "stdout",
     "output_type": "stream",
     "text": [
      "Epoch 1227: Train Loss: 0.4892, Val Accuracy: 0.7273, Val loss: 0.4706, best val acc: 0.7792\n"
     ]
    },
    {
     "name": "stderr",
     "output_type": "stream",
     "text": [
      "Epoch Progress:  25%|██▍       | 1228/5000 [05:39<17:08,  3.67it/s]"
     ]
    },
    {
     "name": "stdout",
     "output_type": "stream",
     "text": [
      "Epoch 1228: Train Loss: 0.4964, Val Accuracy: 0.7143, Val loss: 0.4760, best val acc: 0.7792\n"
     ]
    },
    {
     "name": "stderr",
     "output_type": "stream",
     "text": [
      "Epoch Progress:  25%|██▍       | 1229/5000 [05:39<17:27,  3.60it/s]"
     ]
    },
    {
     "name": "stdout",
     "output_type": "stream",
     "text": [
      "Epoch 1229: Train Loss: 0.4912, Val Accuracy: 0.7143, Val loss: 0.4786, best val acc: 0.7792\n"
     ]
    },
    {
     "name": "stderr",
     "output_type": "stream",
     "text": [
      "Epoch Progress:  25%|██▍       | 1230/5000 [05:39<17:21,  3.62it/s]"
     ]
    },
    {
     "name": "stdout",
     "output_type": "stream",
     "text": [
      "Epoch 1230: Train Loss: 0.4981, Val Accuracy: 0.7143, Val loss: 0.4740, best val acc: 0.7792\n"
     ]
    },
    {
     "name": "stderr",
     "output_type": "stream",
     "text": [
      "Epoch Progress:  25%|██▍       | 1231/5000 [05:40<16:53,  3.72it/s]"
     ]
    },
    {
     "name": "stdout",
     "output_type": "stream",
     "text": [
      "Epoch 1231: Train Loss: 0.5004, Val Accuracy: 0.7273, Val loss: 0.4724, best val acc: 0.7792\n"
     ]
    },
    {
     "name": "stderr",
     "output_type": "stream",
     "text": [
      "Epoch Progress:  25%|██▍       | 1232/5000 [05:40<17:07,  3.67it/s]"
     ]
    },
    {
     "name": "stdout",
     "output_type": "stream",
     "text": [
      "Epoch 1232: Train Loss: 0.4979, Val Accuracy: 0.7143, Val loss: 0.4755, best val acc: 0.7792\n"
     ]
    },
    {
     "name": "stderr",
     "output_type": "stream",
     "text": [
      "Epoch Progress:  25%|██▍       | 1233/5000 [05:40<17:38,  3.56it/s]"
     ]
    },
    {
     "name": "stdout",
     "output_type": "stream",
     "text": [
      "Epoch 1233: Train Loss: 0.4916, Val Accuracy: 0.7273, Val loss: 0.4739, best val acc: 0.7792\n"
     ]
    },
    {
     "name": "stderr",
     "output_type": "stream",
     "text": [
      "Epoch Progress:  25%|██▍       | 1234/5000 [05:41<18:07,  3.46it/s]"
     ]
    },
    {
     "name": "stdout",
     "output_type": "stream",
     "text": [
      "Epoch 1234: Train Loss: 0.4825, Val Accuracy: 0.7143, Val loss: 0.4692, best val acc: 0.7792\n"
     ]
    },
    {
     "name": "stderr",
     "output_type": "stream",
     "text": [
      "Epoch Progress:  25%|██▍       | 1235/5000 [05:41<17:40,  3.55it/s]"
     ]
    },
    {
     "name": "stdout",
     "output_type": "stream",
     "text": [
      "Epoch 1235: Train Loss: 0.4954, Val Accuracy: 0.7013, Val loss: 0.4770, best val acc: 0.7792\n"
     ]
    },
    {
     "name": "stderr",
     "output_type": "stream",
     "text": [
      "Epoch Progress:  25%|██▍       | 1236/5000 [05:41<17:34,  3.57it/s]"
     ]
    },
    {
     "name": "stdout",
     "output_type": "stream",
     "text": [
      "Epoch 1236: Train Loss: 0.4978, Val Accuracy: 0.7403, Val loss: 0.4765, best val acc: 0.7792\n"
     ]
    },
    {
     "name": "stderr",
     "output_type": "stream",
     "text": [
      "Epoch Progress:  25%|██▍       | 1237/5000 [05:41<17:25,  3.60it/s]"
     ]
    },
    {
     "name": "stdout",
     "output_type": "stream",
     "text": [
      "Epoch 1237: Train Loss: 0.4793, Val Accuracy: 0.7013, Val loss: 0.4780, best val acc: 0.7792\n"
     ]
    },
    {
     "name": "stderr",
     "output_type": "stream",
     "text": [
      "Epoch Progress:  25%|██▍       | 1238/5000 [05:42<17:53,  3.50it/s]"
     ]
    },
    {
     "name": "stdout",
     "output_type": "stream",
     "text": [
      "Epoch 1238: Train Loss: 0.4971, Val Accuracy: 0.7143, Val loss: 0.4736, best val acc: 0.7792\n"
     ]
    },
    {
     "name": "stderr",
     "output_type": "stream",
     "text": [
      "Epoch Progress:  25%|██▍       | 1239/5000 [05:42<17:27,  3.59it/s]"
     ]
    },
    {
     "name": "stdout",
     "output_type": "stream",
     "text": [
      "Epoch 1239: Train Loss: 0.4992, Val Accuracy: 0.7273, Val loss: 0.4784, best val acc: 0.7792\n"
     ]
    },
    {
     "name": "stderr",
     "output_type": "stream",
     "text": [
      "Epoch Progress:  25%|██▍       | 1240/5000 [05:42<17:21,  3.61it/s]"
     ]
    },
    {
     "name": "stdout",
     "output_type": "stream",
     "text": [
      "Epoch 1240: Train Loss: 0.4862, Val Accuracy: 0.7143, Val loss: 0.4712, best val acc: 0.7792\n"
     ]
    },
    {
     "name": "stderr",
     "output_type": "stream",
     "text": [
      "Epoch Progress:  25%|██▍       | 1241/5000 [05:42<17:00,  3.68it/s]"
     ]
    },
    {
     "name": "stdout",
     "output_type": "stream",
     "text": [
      "Epoch 1241: Train Loss: 0.5030, Val Accuracy: 0.7143, Val loss: 0.4745, best val acc: 0.7792\n"
     ]
    },
    {
     "name": "stderr",
     "output_type": "stream",
     "text": [
      "Epoch Progress:  25%|██▍       | 1242/5000 [05:43<16:43,  3.74it/s]"
     ]
    },
    {
     "name": "stdout",
     "output_type": "stream",
     "text": [
      "Epoch 1242: Train Loss: 0.4831, Val Accuracy: 0.7143, Val loss: 0.4717, best val acc: 0.7792\n"
     ]
    },
    {
     "name": "stderr",
     "output_type": "stream",
     "text": [
      "Epoch Progress:  25%|██▍       | 1243/5000 [05:43<16:27,  3.81it/s]"
     ]
    },
    {
     "name": "stdout",
     "output_type": "stream",
     "text": [
      "Epoch 1243: Train Loss: 0.4824, Val Accuracy: 0.7013, Val loss: 0.4766, best val acc: 0.7792\n"
     ]
    },
    {
     "name": "stderr",
     "output_type": "stream",
     "text": [
      "Epoch Progress:  25%|██▍       | 1244/5000 [05:43<16:24,  3.81it/s]"
     ]
    },
    {
     "name": "stdout",
     "output_type": "stream",
     "text": [
      "Epoch 1244: Train Loss: 0.4979, Val Accuracy: 0.7143, Val loss: 0.4725, best val acc: 0.7792\n"
     ]
    },
    {
     "name": "stderr",
     "output_type": "stream",
     "text": [
      "Epoch Progress:  25%|██▍       | 1245/5000 [05:43<16:21,  3.83it/s]"
     ]
    },
    {
     "name": "stdout",
     "output_type": "stream",
     "text": [
      "Epoch 1245: Train Loss: 0.4866, Val Accuracy: 0.7273, Val loss: 0.4742, best val acc: 0.7792\n"
     ]
    },
    {
     "name": "stderr",
     "output_type": "stream",
     "text": [
      "Epoch Progress:  25%|██▍       | 1246/5000 [05:44<16:19,  3.83it/s]"
     ]
    },
    {
     "name": "stdout",
     "output_type": "stream",
     "text": [
      "Epoch 1246: Train Loss: 0.5109, Val Accuracy: 0.7273, Val loss: 0.4729, best val acc: 0.7792\n"
     ]
    },
    {
     "name": "stderr",
     "output_type": "stream",
     "text": [
      "Epoch Progress:  25%|██▍       | 1247/5000 [05:44<16:55,  3.70it/s]"
     ]
    },
    {
     "name": "stdout",
     "output_type": "stream",
     "text": [
      "Epoch 1247: Train Loss: 0.5010, Val Accuracy: 0.7143, Val loss: 0.4721, best val acc: 0.7792\n"
     ]
    },
    {
     "name": "stderr",
     "output_type": "stream",
     "text": [
      "Epoch Progress:  25%|██▍       | 1248/5000 [05:44<17:20,  3.60it/s]"
     ]
    },
    {
     "name": "stdout",
     "output_type": "stream",
     "text": [
      "Epoch 1248: Train Loss: 0.5104, Val Accuracy: 0.7273, Val loss: 0.4767, best val acc: 0.7792\n"
     ]
    },
    {
     "name": "stderr",
     "output_type": "stream",
     "text": [
      "Epoch Progress:  25%|██▍       | 1249/5000 [05:45<17:09,  3.64it/s]"
     ]
    },
    {
     "name": "stdout",
     "output_type": "stream",
     "text": [
      "Epoch 1249: Train Loss: 0.4937, Val Accuracy: 0.7143, Val loss: 0.4717, best val acc: 0.7792\n"
     ]
    },
    {
     "name": "stderr",
     "output_type": "stream",
     "text": [
      "Epoch Progress:  25%|██▌       | 1250/5000 [05:45<16:50,  3.71it/s]"
     ]
    },
    {
     "name": "stdout",
     "output_type": "stream",
     "text": [
      "Epoch 1250: Train Loss: 0.4958, Val Accuracy: 0.7143, Val loss: 0.4678, best val acc: 0.7792\n"
     ]
    },
    {
     "name": "stderr",
     "output_type": "stream",
     "text": [
      "Epoch Progress:  25%|██▌       | 1251/5000 [05:45<16:27,  3.80it/s]"
     ]
    },
    {
     "name": "stdout",
     "output_type": "stream",
     "text": [
      "Epoch 1251: Train Loss: 0.4843, Val Accuracy: 0.7143, Val loss: 0.4711, best val acc: 0.7792\n"
     ]
    },
    {
     "name": "stderr",
     "output_type": "stream",
     "text": [
      "Epoch Progress:  25%|██▌       | 1252/5000 [05:45<16:06,  3.88it/s]"
     ]
    },
    {
     "name": "stdout",
     "output_type": "stream",
     "text": [
      "Epoch 1252: Train Loss: 0.4811, Val Accuracy: 0.7273, Val loss: 0.4732, best val acc: 0.7792\n"
     ]
    },
    {
     "name": "stderr",
     "output_type": "stream",
     "text": [
      "Epoch Progress:  25%|██▌       | 1253/5000 [05:46<15:58,  3.91it/s]"
     ]
    },
    {
     "name": "stdout",
     "output_type": "stream",
     "text": [
      "Epoch 1253: Train Loss: 0.4830, Val Accuracy: 0.7143, Val loss: 0.4704, best val acc: 0.7792\n"
     ]
    },
    {
     "name": "stderr",
     "output_type": "stream",
     "text": [
      "Epoch Progress:  25%|██▌       | 1254/5000 [05:46<15:46,  3.96it/s]"
     ]
    },
    {
     "name": "stdout",
     "output_type": "stream",
     "text": [
      "Epoch 1254: Train Loss: 0.4952, Val Accuracy: 0.7143, Val loss: 0.4707, best val acc: 0.7792\n"
     ]
    },
    {
     "name": "stderr",
     "output_type": "stream",
     "text": [
      "Epoch Progress:  25%|██▌       | 1255/5000 [05:46<15:50,  3.94it/s]"
     ]
    },
    {
     "name": "stdout",
     "output_type": "stream",
     "text": [
      "Epoch 1255: Train Loss: 0.4868, Val Accuracy: 0.7273, Val loss: 0.4704, best val acc: 0.7792\n"
     ]
    },
    {
     "name": "stderr",
     "output_type": "stream",
     "text": [
      "Epoch Progress:  25%|██▌       | 1256/5000 [05:46<16:19,  3.82it/s]"
     ]
    },
    {
     "name": "stdout",
     "output_type": "stream",
     "text": [
      "Epoch 1256: Train Loss: 0.4878, Val Accuracy: 0.7143, Val loss: 0.4777, best val acc: 0.7792\n"
     ]
    },
    {
     "name": "stderr",
     "output_type": "stream",
     "text": [
      "Epoch Progress:  25%|██▌       | 1257/5000 [05:47<16:06,  3.87it/s]"
     ]
    },
    {
     "name": "stdout",
     "output_type": "stream",
     "text": [
      "Epoch 1257: Train Loss: 0.5051, Val Accuracy: 0.7273, Val loss: 0.4785, best val acc: 0.7792\n"
     ]
    },
    {
     "name": "stderr",
     "output_type": "stream",
     "text": [
      "Epoch Progress:  25%|██▌       | 1258/5000 [05:47<15:51,  3.93it/s]"
     ]
    },
    {
     "name": "stdout",
     "output_type": "stream",
     "text": [
      "Epoch 1258: Train Loss: 0.5171, Val Accuracy: 0.7273, Val loss: 0.4738, best val acc: 0.7792\n"
     ]
    },
    {
     "name": "stderr",
     "output_type": "stream",
     "text": [
      "Epoch Progress:  25%|██▌       | 1259/5000 [05:47<15:47,  3.95it/s]"
     ]
    },
    {
     "name": "stdout",
     "output_type": "stream",
     "text": [
      "Epoch 1259: Train Loss: 0.4901, Val Accuracy: 0.7273, Val loss: 0.4771, best val acc: 0.7792\n"
     ]
    },
    {
     "name": "stderr",
     "output_type": "stream",
     "text": [
      "Epoch Progress:  25%|██▌       | 1260/5000 [05:47<15:55,  3.92it/s]"
     ]
    },
    {
     "name": "stdout",
     "output_type": "stream",
     "text": [
      "Epoch 1260: Train Loss: 0.4722, Val Accuracy: 0.7143, Val loss: 0.4807, best val acc: 0.7792\n"
     ]
    },
    {
     "name": "stderr",
     "output_type": "stream",
     "text": [
      "Epoch Progress:  25%|██▌       | 1261/5000 [05:48<15:53,  3.92it/s]"
     ]
    },
    {
     "name": "stdout",
     "output_type": "stream",
     "text": [
      "Epoch 1261: Train Loss: 0.4952, Val Accuracy: 0.7143, Val loss: 0.4743, best val acc: 0.7792\n"
     ]
    },
    {
     "name": "stderr",
     "output_type": "stream",
     "text": [
      "Epoch Progress:  25%|██▌       | 1262/5000 [05:48<15:45,  3.95it/s]"
     ]
    },
    {
     "name": "stdout",
     "output_type": "stream",
     "text": [
      "Epoch 1262: Train Loss: 0.4929, Val Accuracy: 0.7143, Val loss: 0.4830, best val acc: 0.7792\n"
     ]
    },
    {
     "name": "stderr",
     "output_type": "stream",
     "text": [
      "Epoch Progress:  25%|██▌       | 1263/5000 [05:48<15:54,  3.91it/s]"
     ]
    },
    {
     "name": "stdout",
     "output_type": "stream",
     "text": [
      "Epoch 1263: Train Loss: 0.4971, Val Accuracy: 0.7273, Val loss: 0.4757, best val acc: 0.7792\n"
     ]
    },
    {
     "name": "stderr",
     "output_type": "stream",
     "text": [
      "Epoch Progress:  25%|██▌       | 1264/5000 [05:48<15:55,  3.91it/s]"
     ]
    },
    {
     "name": "stdout",
     "output_type": "stream",
     "text": [
      "Epoch 1264: Train Loss: 0.5014, Val Accuracy: 0.7273, Val loss: 0.4737, best val acc: 0.7792\n"
     ]
    },
    {
     "name": "stderr",
     "output_type": "stream",
     "text": [
      "Epoch Progress:  25%|██▌       | 1265/5000 [05:49<16:13,  3.84it/s]"
     ]
    },
    {
     "name": "stdout",
     "output_type": "stream",
     "text": [
      "Epoch 1265: Train Loss: 0.4986, Val Accuracy: 0.7273, Val loss: 0.4737, best val acc: 0.7792\n"
     ]
    },
    {
     "name": "stderr",
     "output_type": "stream",
     "text": [
      "Epoch Progress:  25%|██▌       | 1266/5000 [05:49<16:10,  3.85it/s]"
     ]
    },
    {
     "name": "stdout",
     "output_type": "stream",
     "text": [
      "Epoch 1266: Train Loss: 0.5001, Val Accuracy: 0.7143, Val loss: 0.4808, best val acc: 0.7792\n"
     ]
    },
    {
     "name": "stderr",
     "output_type": "stream",
     "text": [
      "Epoch Progress:  25%|██▌       | 1267/5000 [05:49<16:00,  3.89it/s]"
     ]
    },
    {
     "name": "stdout",
     "output_type": "stream",
     "text": [
      "Epoch 1267: Train Loss: 0.4886, Val Accuracy: 0.7273, Val loss: 0.4814, best val acc: 0.7792\n"
     ]
    },
    {
     "name": "stderr",
     "output_type": "stream",
     "text": [
      "Epoch Progress:  25%|██▌       | 1268/5000 [05:49<15:40,  3.97it/s]"
     ]
    },
    {
     "name": "stdout",
     "output_type": "stream",
     "text": [
      "Epoch 1268: Train Loss: 0.4902, Val Accuracy: 0.7273, Val loss: 0.4826, best val acc: 0.7792\n"
     ]
    },
    {
     "name": "stderr",
     "output_type": "stream",
     "text": [
      "Epoch Progress:  25%|██▌       | 1269/5000 [05:50<15:42,  3.96it/s]"
     ]
    },
    {
     "name": "stdout",
     "output_type": "stream",
     "text": [
      "Epoch 1269: Train Loss: 0.4872, Val Accuracy: 0.7143, Val loss: 0.4855, best val acc: 0.7792\n"
     ]
    },
    {
     "name": "stderr",
     "output_type": "stream",
     "text": [
      "Epoch Progress:  25%|██▌       | 1270/5000 [05:50<15:35,  3.99it/s]"
     ]
    },
    {
     "name": "stdout",
     "output_type": "stream",
     "text": [
      "Epoch 1270: Train Loss: 0.4872, Val Accuracy: 0.7143, Val loss: 0.4751, best val acc: 0.7792\n"
     ]
    },
    {
     "name": "stderr",
     "output_type": "stream",
     "text": [
      "Epoch Progress:  25%|██▌       | 1271/5000 [05:50<15:56,  3.90it/s]"
     ]
    },
    {
     "name": "stdout",
     "output_type": "stream",
     "text": [
      "Epoch 1271: Train Loss: 0.5101, Val Accuracy: 0.7143, Val loss: 0.4811, best val acc: 0.7792\n"
     ]
    },
    {
     "name": "stderr",
     "output_type": "stream",
     "text": [
      "Epoch Progress:  25%|██▌       | 1272/5000 [05:50<16:11,  3.84it/s]"
     ]
    },
    {
     "name": "stdout",
     "output_type": "stream",
     "text": [
      "Epoch 1272: Train Loss: 0.4828, Val Accuracy: 0.7273, Val loss: 0.4793, best val acc: 0.7792\n"
     ]
    },
    {
     "name": "stderr",
     "output_type": "stream",
     "text": [
      "Epoch Progress:  25%|██▌       | 1273/5000 [05:51<16:23,  3.79it/s]"
     ]
    },
    {
     "name": "stdout",
     "output_type": "stream",
     "text": [
      "Epoch 1273: Train Loss: 0.5029, Val Accuracy: 0.7143, Val loss: 0.4836, best val acc: 0.7792\n"
     ]
    },
    {
     "name": "stderr",
     "output_type": "stream",
     "text": [
      "Epoch Progress:  25%|██▌       | 1274/5000 [05:51<16:46,  3.70it/s]"
     ]
    },
    {
     "name": "stdout",
     "output_type": "stream",
     "text": [
      "Epoch 1274: Train Loss: 0.5018, Val Accuracy: 0.7273, Val loss: 0.4753, best val acc: 0.7792\n"
     ]
    },
    {
     "name": "stderr",
     "output_type": "stream",
     "text": [
      "Epoch Progress:  26%|██▌       | 1275/5000 [05:51<16:38,  3.73it/s]"
     ]
    },
    {
     "name": "stdout",
     "output_type": "stream",
     "text": [
      "Epoch 1275: Train Loss: 0.4923, Val Accuracy: 0.7143, Val loss: 0.4713, best val acc: 0.7792\n"
     ]
    },
    {
     "name": "stderr",
     "output_type": "stream",
     "text": [
      "Epoch Progress:  26%|██▌       | 1276/5000 [05:52<16:22,  3.79it/s]"
     ]
    },
    {
     "name": "stdout",
     "output_type": "stream",
     "text": [
      "Epoch 1276: Train Loss: 0.4965, Val Accuracy: 0.7013, Val loss: 0.4734, best val acc: 0.7792\n"
     ]
    },
    {
     "name": "stderr",
     "output_type": "stream",
     "text": [
      "Epoch Progress:  26%|██▌       | 1277/5000 [05:52<16:04,  3.86it/s]"
     ]
    },
    {
     "name": "stdout",
     "output_type": "stream",
     "text": [
      "Epoch 1277: Train Loss: 0.4830, Val Accuracy: 0.7143, Val loss: 0.4794, best val acc: 0.7792\n"
     ]
    },
    {
     "name": "stderr",
     "output_type": "stream",
     "text": [
      "Epoch Progress:  26%|██▌       | 1278/5000 [05:52<16:01,  3.87it/s]"
     ]
    },
    {
     "name": "stdout",
     "output_type": "stream",
     "text": [
      "Epoch 1278: Train Loss: 0.5171, Val Accuracy: 0.7143, Val loss: 0.4737, best val acc: 0.7792\n"
     ]
    },
    {
     "name": "stderr",
     "output_type": "stream",
     "text": [
      "Epoch Progress:  26%|██▌       | 1279/5000 [05:52<16:11,  3.83it/s]"
     ]
    },
    {
     "name": "stdout",
     "output_type": "stream",
     "text": [
      "Epoch 1279: Train Loss: 0.4866, Val Accuracy: 0.7143, Val loss: 0.4724, best val acc: 0.7792\n"
     ]
    },
    {
     "name": "stderr",
     "output_type": "stream",
     "text": [
      "Epoch Progress:  26%|██▌       | 1280/5000 [05:53<16:07,  3.84it/s]"
     ]
    },
    {
     "name": "stdout",
     "output_type": "stream",
     "text": [
      "Epoch 1280: Train Loss: 0.5083, Val Accuracy: 0.7143, Val loss: 0.4758, best val acc: 0.7792\n"
     ]
    },
    {
     "name": "stderr",
     "output_type": "stream",
     "text": [
      "Epoch Progress:  26%|██▌       | 1281/5000 [05:53<16:10,  3.83it/s]"
     ]
    },
    {
     "name": "stdout",
     "output_type": "stream",
     "text": [
      "Epoch 1281: Train Loss: 0.5048, Val Accuracy: 0.7143, Val loss: 0.4754, best val acc: 0.7792\n"
     ]
    },
    {
     "name": "stderr",
     "output_type": "stream",
     "text": [
      "Epoch Progress:  26%|██▌       | 1282/5000 [05:53<16:21,  3.79it/s]"
     ]
    },
    {
     "name": "stdout",
     "output_type": "stream",
     "text": [
      "Epoch 1282: Train Loss: 0.4927, Val Accuracy: 0.7403, Val loss: 0.4738, best val acc: 0.7792\n"
     ]
    },
    {
     "name": "stderr",
     "output_type": "stream",
     "text": [
      "Epoch Progress:  26%|██▌       | 1283/5000 [05:53<16:43,  3.71it/s]"
     ]
    },
    {
     "name": "stdout",
     "output_type": "stream",
     "text": [
      "Epoch 1283: Train Loss: 0.5001, Val Accuracy: 0.7143, Val loss: 0.4769, best val acc: 0.7792\n"
     ]
    },
    {
     "name": "stderr",
     "output_type": "stream",
     "text": [
      "Epoch Progress:  26%|██▌       | 1284/5000 [05:54<16:25,  3.77it/s]"
     ]
    },
    {
     "name": "stdout",
     "output_type": "stream",
     "text": [
      "Epoch 1284: Train Loss: 0.4880, Val Accuracy: 0.7143, Val loss: 0.4741, best val acc: 0.7792\n"
     ]
    },
    {
     "name": "stderr",
     "output_type": "stream",
     "text": [
      "Epoch Progress:  26%|██▌       | 1285/5000 [05:54<16:24,  3.77it/s]"
     ]
    },
    {
     "name": "stdout",
     "output_type": "stream",
     "text": [
      "Epoch 1285: Train Loss: 0.4937, Val Accuracy: 0.7013, Val loss: 0.4696, best val acc: 0.7792\n"
     ]
    },
    {
     "name": "stderr",
     "output_type": "stream",
     "text": [
      "Epoch Progress:  26%|██▌       | 1286/5000 [05:54<16:10,  3.83it/s]"
     ]
    },
    {
     "name": "stdout",
     "output_type": "stream",
     "text": [
      "Epoch 1286: Train Loss: 0.5122, Val Accuracy: 0.7143, Val loss: 0.4745, best val acc: 0.7792\n"
     ]
    },
    {
     "name": "stderr",
     "output_type": "stream",
     "text": [
      "Epoch Progress:  26%|██▌       | 1287/5000 [05:54<16:06,  3.84it/s]"
     ]
    },
    {
     "name": "stdout",
     "output_type": "stream",
     "text": [
      "Epoch 1287: Train Loss: 0.4855, Val Accuracy: 0.7013, Val loss: 0.4785, best val acc: 0.7792\n"
     ]
    },
    {
     "name": "stderr",
     "output_type": "stream",
     "text": [
      "Epoch Progress:  26%|██▌       | 1288/5000 [05:55<15:58,  3.87it/s]"
     ]
    },
    {
     "name": "stdout",
     "output_type": "stream",
     "text": [
      "Epoch 1288: Train Loss: 0.4829, Val Accuracy: 0.7273, Val loss: 0.4764, best val acc: 0.7792\n"
     ]
    },
    {
     "name": "stderr",
     "output_type": "stream",
     "text": [
      "Epoch Progress:  26%|██▌       | 1289/5000 [05:55<16:00,  3.86it/s]"
     ]
    },
    {
     "name": "stdout",
     "output_type": "stream",
     "text": [
      "Epoch 1289: Train Loss: 0.4723, Val Accuracy: 0.7143, Val loss: 0.4682, best val acc: 0.7792\n"
     ]
    },
    {
     "name": "stderr",
     "output_type": "stream",
     "text": [
      "Epoch Progress:  26%|██▌       | 1290/5000 [05:55<15:49,  3.91it/s]"
     ]
    },
    {
     "name": "stdout",
     "output_type": "stream",
     "text": [
      "Epoch 1290: Train Loss: 0.4982, Val Accuracy: 0.7273, Val loss: 0.4686, best val acc: 0.7792\n"
     ]
    },
    {
     "name": "stderr",
     "output_type": "stream",
     "text": [
      "Epoch Progress:  26%|██▌       | 1291/5000 [05:55<15:53,  3.89it/s]"
     ]
    },
    {
     "name": "stdout",
     "output_type": "stream",
     "text": [
      "Epoch 1291: Train Loss: 0.4890, Val Accuracy: 0.7143, Val loss: 0.4717, best val acc: 0.7792\n"
     ]
    },
    {
     "name": "stderr",
     "output_type": "stream",
     "text": [
      "Epoch Progress:  26%|██▌       | 1292/5000 [05:56<16:36,  3.72it/s]"
     ]
    },
    {
     "name": "stdout",
     "output_type": "stream",
     "text": [
      "Epoch 1292: Train Loss: 0.4969, Val Accuracy: 0.7143, Val loss: 0.4765, best val acc: 0.7792\n"
     ]
    },
    {
     "name": "stderr",
     "output_type": "stream",
     "text": [
      "Epoch Progress:  26%|██▌       | 1293/5000 [05:56<16:18,  3.79it/s]"
     ]
    },
    {
     "name": "stdout",
     "output_type": "stream",
     "text": [
      "Epoch 1293: Train Loss: 0.4953, Val Accuracy: 0.7143, Val loss: 0.4771, best val acc: 0.7792\n"
     ]
    },
    {
     "name": "stderr",
     "output_type": "stream",
     "text": [
      "Epoch Progress:  26%|██▌       | 1294/5000 [05:56<16:21,  3.78it/s]"
     ]
    },
    {
     "name": "stdout",
     "output_type": "stream",
     "text": [
      "Epoch 1294: Train Loss: 0.4914, Val Accuracy: 0.7143, Val loss: 0.4866, best val acc: 0.7792\n"
     ]
    },
    {
     "name": "stderr",
     "output_type": "stream",
     "text": [
      "Epoch Progress:  26%|██▌       | 1295/5000 [05:56<16:16,  3.80it/s]"
     ]
    },
    {
     "name": "stdout",
     "output_type": "stream",
     "text": [
      "Epoch 1295: Train Loss: 0.4809, Val Accuracy: 0.7403, Val loss: 0.4768, best val acc: 0.7792\n"
     ]
    },
    {
     "name": "stderr",
     "output_type": "stream",
     "text": [
      "Epoch Progress:  26%|██▌       | 1296/5000 [05:57<16:03,  3.84it/s]"
     ]
    },
    {
     "name": "stdout",
     "output_type": "stream",
     "text": [
      "Epoch 1296: Train Loss: 0.4884, Val Accuracy: 0.7143, Val loss: 0.4685, best val acc: 0.7792\n"
     ]
    },
    {
     "name": "stderr",
     "output_type": "stream",
     "text": [
      "Epoch Progress:  26%|██▌       | 1297/5000 [05:57<16:15,  3.80it/s]"
     ]
    },
    {
     "name": "stdout",
     "output_type": "stream",
     "text": [
      "Epoch 1297: Train Loss: 0.4645, Val Accuracy: 0.7143, Val loss: 0.4780, best val acc: 0.7792\n"
     ]
    },
    {
     "name": "stderr",
     "output_type": "stream",
     "text": [
      "Epoch Progress:  26%|██▌       | 1298/5000 [05:57<16:57,  3.64it/s]"
     ]
    },
    {
     "name": "stdout",
     "output_type": "stream",
     "text": [
      "Epoch 1298: Train Loss: 0.5063, Val Accuracy: 0.7013, Val loss: 0.4702, best val acc: 0.7792\n"
     ]
    },
    {
     "name": "stderr",
     "output_type": "stream",
     "text": [
      "Epoch Progress:  26%|██▌       | 1299/5000 [05:58<17:02,  3.62it/s]"
     ]
    },
    {
     "name": "stdout",
     "output_type": "stream",
     "text": [
      "Epoch 1299: Train Loss: 0.4856, Val Accuracy: 0.7143, Val loss: 0.4701, best val acc: 0.7792\n"
     ]
    },
    {
     "name": "stderr",
     "output_type": "stream",
     "text": [
      "Epoch Progress:  26%|██▌       | 1300/5000 [05:58<16:33,  3.73it/s]"
     ]
    },
    {
     "name": "stdout",
     "output_type": "stream",
     "text": [
      "Epoch 1300: Train Loss: 0.4829, Val Accuracy: 0.7143, Val loss: 0.4711, best val acc: 0.7792\n"
     ]
    },
    {
     "name": "stderr",
     "output_type": "stream",
     "text": [
      "Epoch Progress:  26%|██▌       | 1301/5000 [05:58<16:45,  3.68it/s]"
     ]
    },
    {
     "name": "stdout",
     "output_type": "stream",
     "text": [
      "Epoch 1301: Train Loss: 0.4870, Val Accuracy: 0.7273, Val loss: 0.4663, best val acc: 0.7792\n"
     ]
    },
    {
     "name": "stderr",
     "output_type": "stream",
     "text": [
      "Epoch Progress:  26%|██▌       | 1302/5000 [05:58<16:16,  3.79it/s]"
     ]
    },
    {
     "name": "stdout",
     "output_type": "stream",
     "text": [
      "Epoch 1302: Train Loss: 0.5186, Val Accuracy: 0.7143, Val loss: 0.4748, best val acc: 0.7792\n"
     ]
    },
    {
     "name": "stderr",
     "output_type": "stream",
     "text": [
      "Epoch Progress:  26%|██▌       | 1303/5000 [05:59<15:59,  3.85it/s]"
     ]
    },
    {
     "name": "stdout",
     "output_type": "stream",
     "text": [
      "Epoch 1303: Train Loss: 0.4926, Val Accuracy: 0.7143, Val loss: 0.4735, best val acc: 0.7792\n"
     ]
    },
    {
     "name": "stderr",
     "output_type": "stream",
     "text": [
      "Epoch Progress:  26%|██▌       | 1304/5000 [05:59<15:55,  3.87it/s]"
     ]
    },
    {
     "name": "stdout",
     "output_type": "stream",
     "text": [
      "Epoch 1304: Train Loss: 0.4885, Val Accuracy: 0.7013, Val loss: 0.4781, best val acc: 0.7792\n"
     ]
    },
    {
     "name": "stderr",
     "output_type": "stream",
     "text": [
      "Epoch Progress:  26%|██▌       | 1305/5000 [05:59<15:48,  3.90it/s]"
     ]
    },
    {
     "name": "stdout",
     "output_type": "stream",
     "text": [
      "Epoch 1305: Train Loss: 0.4886, Val Accuracy: 0.7143, Val loss: 0.4735, best val acc: 0.7792\n"
     ]
    },
    {
     "name": "stderr",
     "output_type": "stream",
     "text": [
      "Epoch Progress:  26%|██▌       | 1306/5000 [05:59<16:00,  3.85it/s]"
     ]
    },
    {
     "name": "stdout",
     "output_type": "stream",
     "text": [
      "Epoch 1306: Train Loss: 0.4832, Val Accuracy: 0.7273, Val loss: 0.4736, best val acc: 0.7792\n"
     ]
    },
    {
     "name": "stderr",
     "output_type": "stream",
     "text": [
      "Epoch Progress:  26%|██▌       | 1307/5000 [06:00<15:53,  3.87it/s]"
     ]
    },
    {
     "name": "stdout",
     "output_type": "stream",
     "text": [
      "Epoch 1307: Train Loss: 0.4823, Val Accuracy: 0.7143, Val loss: 0.4824, best val acc: 0.7792\n"
     ]
    },
    {
     "name": "stderr",
     "output_type": "stream",
     "text": [
      "Epoch Progress:  26%|██▌       | 1308/5000 [06:00<16:01,  3.84it/s]"
     ]
    },
    {
     "name": "stdout",
     "output_type": "stream",
     "text": [
      "Epoch 1308: Train Loss: 0.4865, Val Accuracy: 0.7273, Val loss: 0.4770, best val acc: 0.7792\n"
     ]
    },
    {
     "name": "stderr",
     "output_type": "stream",
     "text": [
      "Epoch Progress:  26%|██▌       | 1309/5000 [06:00<16:28,  3.73it/s]"
     ]
    },
    {
     "name": "stdout",
     "output_type": "stream",
     "text": [
      "Epoch 1309: Train Loss: 0.4876, Val Accuracy: 0.7013, Val loss: 0.4717, best val acc: 0.7792\n"
     ]
    },
    {
     "name": "stderr",
     "output_type": "stream",
     "text": [
      "Epoch Progress:  26%|██▌       | 1310/5000 [06:00<16:13,  3.79it/s]"
     ]
    },
    {
     "name": "stdout",
     "output_type": "stream",
     "text": [
      "Epoch 1310: Train Loss: 0.4989, Val Accuracy: 0.7143, Val loss: 0.4779, best val acc: 0.7792\n"
     ]
    },
    {
     "name": "stderr",
     "output_type": "stream",
     "text": [
      "Epoch Progress:  26%|██▌       | 1311/5000 [06:01<16:05,  3.82it/s]"
     ]
    },
    {
     "name": "stdout",
     "output_type": "stream",
     "text": [
      "Epoch 1311: Train Loss: 0.4781, Val Accuracy: 0.7143, Val loss: 0.4684, best val acc: 0.7792\n"
     ]
    },
    {
     "name": "stderr",
     "output_type": "stream",
     "text": [
      "Epoch Progress:  26%|██▌       | 1312/5000 [06:01<19:53,  3.09it/s]"
     ]
    },
    {
     "name": "stdout",
     "output_type": "stream",
     "text": [
      "Epoch 1312: Train Loss: 0.4904, Val Accuracy: 0.7143, Val loss: 0.4666, best val acc: 0.7792\n"
     ]
    },
    {
     "name": "stderr",
     "output_type": "stream",
     "text": [
      "Epoch Progress:  26%|██▋       | 1313/5000 [06:01<18:31,  3.32it/s]"
     ]
    },
    {
     "name": "stdout",
     "output_type": "stream",
     "text": [
      "Epoch 1313: Train Loss: 0.5019, Val Accuracy: 0.7143, Val loss: 0.4756, best val acc: 0.7792\n"
     ]
    },
    {
     "name": "stderr",
     "output_type": "stream",
     "text": [
      "Epoch Progress:  26%|██▋       | 1314/5000 [06:02<17:34,  3.50it/s]"
     ]
    },
    {
     "name": "stdout",
     "output_type": "stream",
     "text": [
      "Epoch 1314: Train Loss: 0.4952, Val Accuracy: 0.7273, Val loss: 0.4677, best val acc: 0.7792\n"
     ]
    },
    {
     "name": "stderr",
     "output_type": "stream",
     "text": [
      "Epoch Progress:  26%|██▋       | 1315/5000 [06:02<17:03,  3.60it/s]"
     ]
    },
    {
     "name": "stdout",
     "output_type": "stream",
     "text": [
      "Epoch 1315: Train Loss: 0.4836, Val Accuracy: 0.7273, Val loss: 0.4717, best val acc: 0.7792\n"
     ]
    },
    {
     "name": "stderr",
     "output_type": "stream",
     "text": [
      "Epoch Progress:  26%|██▋       | 1316/5000 [06:02<17:06,  3.59it/s]"
     ]
    },
    {
     "name": "stdout",
     "output_type": "stream",
     "text": [
      "Epoch 1316: Train Loss: 0.4895, Val Accuracy: 0.7143, Val loss: 0.4697, best val acc: 0.7792\n"
     ]
    },
    {
     "name": "stderr",
     "output_type": "stream",
     "text": [
      "Epoch Progress:  26%|██▋       | 1317/5000 [06:03<17:35,  3.49it/s]"
     ]
    },
    {
     "name": "stdout",
     "output_type": "stream",
     "text": [
      "Epoch 1317: Train Loss: 0.4978, Val Accuracy: 0.7273, Val loss: 0.4731, best val acc: 0.7792\n"
     ]
    },
    {
     "name": "stderr",
     "output_type": "stream",
     "text": [
      "Epoch Progress:  26%|██▋       | 1318/5000 [06:03<17:02,  3.60it/s]"
     ]
    },
    {
     "name": "stdout",
     "output_type": "stream",
     "text": [
      "Epoch 1318: Train Loss: 0.5040, Val Accuracy: 0.7143, Val loss: 0.4752, best val acc: 0.7792\n"
     ]
    },
    {
     "name": "stderr",
     "output_type": "stream",
     "text": [
      "Epoch Progress:  26%|██▋       | 1319/5000 [06:03<16:37,  3.69it/s]"
     ]
    },
    {
     "name": "stdout",
     "output_type": "stream",
     "text": [
      "Epoch 1319: Train Loss: 0.4947, Val Accuracy: 0.7143, Val loss: 0.4731, best val acc: 0.7792\n"
     ]
    },
    {
     "name": "stderr",
     "output_type": "stream",
     "text": [
      "Epoch Progress:  26%|██▋       | 1320/5000 [06:03<16:22,  3.74it/s]"
     ]
    },
    {
     "name": "stdout",
     "output_type": "stream",
     "text": [
      "Epoch 1320: Train Loss: 0.4906, Val Accuracy: 0.7143, Val loss: 0.4714, best val acc: 0.7792\n"
     ]
    },
    {
     "name": "stderr",
     "output_type": "stream",
     "text": [
      "Epoch Progress:  26%|██▋       | 1321/5000 [06:04<16:05,  3.81it/s]"
     ]
    },
    {
     "name": "stdout",
     "output_type": "stream",
     "text": [
      "Epoch 1321: Train Loss: 0.4932, Val Accuracy: 0.7143, Val loss: 0.4695, best val acc: 0.7792\n"
     ]
    },
    {
     "name": "stderr",
     "output_type": "stream",
     "text": [
      "Epoch Progress:  26%|██▋       | 1322/5000 [06:04<16:00,  3.83it/s]"
     ]
    },
    {
     "name": "stdout",
     "output_type": "stream",
     "text": [
      "Epoch 1322: Train Loss: 0.4863, Val Accuracy: 0.7273, Val loss: 0.4748, best val acc: 0.7792\n"
     ]
    },
    {
     "name": "stderr",
     "output_type": "stream",
     "text": [
      "Epoch Progress:  26%|██▋       | 1323/5000 [06:04<15:48,  3.87it/s]"
     ]
    },
    {
     "name": "stdout",
     "output_type": "stream",
     "text": [
      "Epoch 1323: Train Loss: 0.4800, Val Accuracy: 0.7143, Val loss: 0.4701, best val acc: 0.7792\n"
     ]
    },
    {
     "name": "stderr",
     "output_type": "stream",
     "text": [
      "Epoch Progress:  26%|██▋       | 1324/5000 [06:04<16:06,  3.80it/s]"
     ]
    },
    {
     "name": "stdout",
     "output_type": "stream",
     "text": [
      "Epoch 1324: Train Loss: 0.4857, Val Accuracy: 0.7273, Val loss: 0.4674, best val acc: 0.7792\n"
     ]
    },
    {
     "name": "stderr",
     "output_type": "stream",
     "text": [
      "Epoch Progress:  26%|██▋       | 1325/5000 [06:05<16:29,  3.71it/s]"
     ]
    },
    {
     "name": "stdout",
     "output_type": "stream",
     "text": [
      "Epoch 1325: Train Loss: 0.4896, Val Accuracy: 0.7013, Val loss: 0.4714, best val acc: 0.7792\n"
     ]
    },
    {
     "name": "stderr",
     "output_type": "stream",
     "text": [
      "Epoch Progress:  27%|██▋       | 1326/5000 [06:05<16:12,  3.78it/s]"
     ]
    },
    {
     "name": "stdout",
     "output_type": "stream",
     "text": [
      "Epoch 1326: Train Loss: 0.4845, Val Accuracy: 0.7273, Val loss: 0.4671, best val acc: 0.7792\n"
     ]
    },
    {
     "name": "stderr",
     "output_type": "stream",
     "text": [
      "Epoch Progress:  27%|██▋       | 1327/5000 [06:05<16:17,  3.76it/s]"
     ]
    },
    {
     "name": "stdout",
     "output_type": "stream",
     "text": [
      "Epoch 1327: Train Loss: 0.4868, Val Accuracy: 0.7143, Val loss: 0.4667, best val acc: 0.7792\n"
     ]
    },
    {
     "name": "stderr",
     "output_type": "stream",
     "text": [
      "Epoch Progress:  27%|██▋       | 1328/5000 [06:05<16:10,  3.78it/s]"
     ]
    },
    {
     "name": "stdout",
     "output_type": "stream",
     "text": [
      "Epoch 1328: Train Loss: 0.4873, Val Accuracy: 0.7143, Val loss: 0.4795, best val acc: 0.7792\n"
     ]
    },
    {
     "name": "stderr",
     "output_type": "stream",
     "text": [
      "Epoch Progress:  27%|██▋       | 1329/5000 [06:06<15:50,  3.86it/s]"
     ]
    },
    {
     "name": "stdout",
     "output_type": "stream",
     "text": [
      "Epoch 1329: Train Loss: 0.4883, Val Accuracy: 0.7143, Val loss: 0.4758, best val acc: 0.7792\n"
     ]
    },
    {
     "name": "stderr",
     "output_type": "stream",
     "text": [
      "Epoch Progress:  27%|██▋       | 1330/5000 [06:06<15:37,  3.92it/s]"
     ]
    },
    {
     "name": "stdout",
     "output_type": "stream",
     "text": [
      "Epoch 1330: Train Loss: 0.4857, Val Accuracy: 0.7273, Val loss: 0.4727, best val acc: 0.7792\n"
     ]
    },
    {
     "name": "stderr",
     "output_type": "stream",
     "text": [
      "Epoch Progress:  27%|██▋       | 1331/5000 [06:06<15:36,  3.92it/s]"
     ]
    },
    {
     "name": "stdout",
     "output_type": "stream",
     "text": [
      "Epoch 1331: Train Loss: 0.4963, Val Accuracy: 0.7143, Val loss: 0.4672, best val acc: 0.7792\n"
     ]
    },
    {
     "name": "stderr",
     "output_type": "stream",
     "text": [
      "Epoch Progress:  27%|██▋       | 1332/5000 [06:06<15:49,  3.86it/s]"
     ]
    },
    {
     "name": "stdout",
     "output_type": "stream",
     "text": [
      "Epoch 1332: Train Loss: 0.4842, Val Accuracy: 0.7143, Val loss: 0.4666, best val acc: 0.7792\n"
     ]
    },
    {
     "name": "stderr",
     "output_type": "stream",
     "text": [
      "Epoch Progress:  27%|██▋       | 1333/5000 [06:07<16:18,  3.75it/s]"
     ]
    },
    {
     "name": "stdout",
     "output_type": "stream",
     "text": [
      "Epoch 1333: Train Loss: 0.4907, Val Accuracy: 0.7143, Val loss: 0.4777, best val acc: 0.7792\n"
     ]
    },
    {
     "name": "stderr",
     "output_type": "stream",
     "text": [
      "Epoch Progress:  27%|██▋       | 1334/5000 [06:07<15:59,  3.82it/s]"
     ]
    },
    {
     "name": "stdout",
     "output_type": "stream",
     "text": [
      "Epoch 1334: Train Loss: 0.4752, Val Accuracy: 0.7273, Val loss: 0.4701, best val acc: 0.7792\n"
     ]
    },
    {
     "name": "stderr",
     "output_type": "stream",
     "text": [
      "Epoch Progress:  27%|██▋       | 1335/5000 [06:07<15:41,  3.89it/s]"
     ]
    },
    {
     "name": "stdout",
     "output_type": "stream",
     "text": [
      "Epoch 1335: Train Loss: 0.4943, Val Accuracy: 0.7143, Val loss: 0.4858, best val acc: 0.7792\n"
     ]
    },
    {
     "name": "stderr",
     "output_type": "stream",
     "text": [
      "Epoch Progress:  27%|██▋       | 1336/5000 [06:07<15:27,  3.95it/s]"
     ]
    },
    {
     "name": "stdout",
     "output_type": "stream",
     "text": [
      "Epoch 1336: Train Loss: 0.4884, Val Accuracy: 0.7273, Val loss: 0.4702, best val acc: 0.7792\n"
     ]
    },
    {
     "name": "stderr",
     "output_type": "stream",
     "text": [
      "Epoch Progress:  27%|██▋       | 1337/5000 [06:08<15:22,  3.97it/s]"
     ]
    },
    {
     "name": "stdout",
     "output_type": "stream",
     "text": [
      "Epoch 1337: Train Loss: 0.4947, Val Accuracy: 0.7143, Val loss: 0.4750, best val acc: 0.7792\n"
     ]
    },
    {
     "name": "stderr",
     "output_type": "stream",
     "text": [
      "Epoch Progress:  27%|██▋       | 1338/5000 [06:08<15:19,  3.98it/s]"
     ]
    },
    {
     "name": "stdout",
     "output_type": "stream",
     "text": [
      "Epoch 1338: Train Loss: 0.4929, Val Accuracy: 0.7143, Val loss: 0.4745, best val acc: 0.7792\n"
     ]
    },
    {
     "name": "stderr",
     "output_type": "stream",
     "text": [
      "Epoch Progress:  27%|██▋       | 1339/5000 [06:08<15:28,  3.94it/s]"
     ]
    },
    {
     "name": "stdout",
     "output_type": "stream",
     "text": [
      "Epoch 1339: Train Loss: 0.4928, Val Accuracy: 0.7143, Val loss: 0.4800, best val acc: 0.7792\n"
     ]
    },
    {
     "name": "stderr",
     "output_type": "stream",
     "text": [
      "Epoch Progress:  27%|██▋       | 1340/5000 [06:08<15:42,  3.88it/s]"
     ]
    },
    {
     "name": "stdout",
     "output_type": "stream",
     "text": [
      "Epoch 1340: Train Loss: 0.4728, Val Accuracy: 0.7143, Val loss: 0.4739, best val acc: 0.7792\n"
     ]
    },
    {
     "name": "stderr",
     "output_type": "stream",
     "text": [
      "Epoch Progress:  27%|██▋       | 1341/5000 [06:09<16:27,  3.70it/s]"
     ]
    },
    {
     "name": "stdout",
     "output_type": "stream",
     "text": [
      "Epoch 1341: Train Loss: 0.4934, Val Accuracy: 0.7143, Val loss: 0.4756, best val acc: 0.7792\n"
     ]
    },
    {
     "name": "stderr",
     "output_type": "stream",
     "text": [
      "Epoch Progress:  27%|██▋       | 1342/5000 [06:09<16:14,  3.75it/s]"
     ]
    },
    {
     "name": "stdout",
     "output_type": "stream",
     "text": [
      "Epoch 1342: Train Loss: 0.4969, Val Accuracy: 0.7273, Val loss: 0.4765, best val acc: 0.7792\n"
     ]
    },
    {
     "name": "stderr",
     "output_type": "stream",
     "text": [
      "Epoch Progress:  27%|██▋       | 1343/5000 [06:09<15:56,  3.82it/s]"
     ]
    },
    {
     "name": "stdout",
     "output_type": "stream",
     "text": [
      "Epoch 1343: Train Loss: 0.4920, Val Accuracy: 0.7013, Val loss: 0.4812, best val acc: 0.7792\n"
     ]
    },
    {
     "name": "stderr",
     "output_type": "stream",
     "text": [
      "Epoch Progress:  27%|██▋       | 1344/5000 [06:10<16:36,  3.67it/s]"
     ]
    },
    {
     "name": "stdout",
     "output_type": "stream",
     "text": [
      "Epoch 1344: Train Loss: 0.4901, Val Accuracy: 0.7143, Val loss: 0.4784, best val acc: 0.7792\n"
     ]
    },
    {
     "name": "stderr",
     "output_type": "stream",
     "text": [
      "Epoch Progress:  27%|██▋       | 1345/5000 [06:10<17:02,  3.57it/s]"
     ]
    },
    {
     "name": "stdout",
     "output_type": "stream",
     "text": [
      "Epoch 1345: Train Loss: 0.4957, Val Accuracy: 0.7143, Val loss: 0.4764, best val acc: 0.7792\n"
     ]
    },
    {
     "name": "stderr",
     "output_type": "stream",
     "text": [
      "Epoch Progress:  27%|██▋       | 1346/5000 [06:10<17:35,  3.46it/s]"
     ]
    },
    {
     "name": "stdout",
     "output_type": "stream",
     "text": [
      "Epoch 1346: Train Loss: 0.4896, Val Accuracy: 0.7143, Val loss: 0.4723, best val acc: 0.7792\n"
     ]
    },
    {
     "name": "stderr",
     "output_type": "stream",
     "text": [
      "Epoch Progress:  27%|██▋       | 1347/5000 [06:10<18:13,  3.34it/s]"
     ]
    },
    {
     "name": "stdout",
     "output_type": "stream",
     "text": [
      "Epoch 1347: Train Loss: 0.5098, Val Accuracy: 0.7532, Val loss: 0.4786, best val acc: 0.7792\n"
     ]
    },
    {
     "name": "stderr",
     "output_type": "stream",
     "text": [
      "Epoch Progress:  27%|██▋       | 1348/5000 [06:11<17:30,  3.48it/s]"
     ]
    },
    {
     "name": "stdout",
     "output_type": "stream",
     "text": [
      "Epoch 1348: Train Loss: 0.4993, Val Accuracy: 0.7143, Val loss: 0.4683, best val acc: 0.7792\n"
     ]
    },
    {
     "name": "stderr",
     "output_type": "stream",
     "text": [
      "Epoch Progress:  27%|██▋       | 1349/5000 [06:11<17:52,  3.41it/s]"
     ]
    },
    {
     "name": "stdout",
     "output_type": "stream",
     "text": [
      "Epoch 1349: Train Loss: 0.4884, Val Accuracy: 0.7143, Val loss: 0.4764, best val acc: 0.7792\n"
     ]
    },
    {
     "name": "stderr",
     "output_type": "stream",
     "text": [
      "Epoch Progress:  27%|██▋       | 1350/5000 [06:11<17:20,  3.51it/s]"
     ]
    },
    {
     "name": "stdout",
     "output_type": "stream",
     "text": [
      "Epoch 1350: Train Loss: 0.4929, Val Accuracy: 0.7143, Val loss: 0.4739, best val acc: 0.7792\n"
     ]
    },
    {
     "name": "stderr",
     "output_type": "stream",
     "text": [
      "Epoch Progress:  27%|██▋       | 1351/5000 [06:12<17:03,  3.57it/s]"
     ]
    },
    {
     "name": "stdout",
     "output_type": "stream",
     "text": [
      "Epoch 1351: Train Loss: 0.5058, Val Accuracy: 0.7143, Val loss: 0.4658, best val acc: 0.7792\n"
     ]
    },
    {
     "name": "stderr",
     "output_type": "stream",
     "text": [
      "Epoch Progress:  27%|██▋       | 1352/5000 [06:12<16:30,  3.68it/s]"
     ]
    },
    {
     "name": "stdout",
     "output_type": "stream",
     "text": [
      "Epoch 1352: Train Loss: 0.4858, Val Accuracy: 0.7273, Val loss: 0.4670, best val acc: 0.7792\n"
     ]
    },
    {
     "name": "stderr",
     "output_type": "stream",
     "text": [
      "Epoch Progress:  27%|██▋       | 1353/5000 [06:12<16:08,  3.76it/s]"
     ]
    },
    {
     "name": "stdout",
     "output_type": "stream",
     "text": [
      "Epoch 1353: Train Loss: 0.5086, Val Accuracy: 0.7143, Val loss: 0.4733, best val acc: 0.7792\n"
     ]
    },
    {
     "name": "stderr",
     "output_type": "stream",
     "text": [
      "Epoch Progress:  27%|██▋       | 1354/5000 [06:12<16:04,  3.78it/s]"
     ]
    },
    {
     "name": "stdout",
     "output_type": "stream",
     "text": [
      "Epoch 1354: Train Loss: 0.4878, Val Accuracy: 0.7143, Val loss: 0.4687, best val acc: 0.7792\n"
     ]
    },
    {
     "name": "stderr",
     "output_type": "stream",
     "text": [
      "Epoch Progress:  27%|██▋       | 1355/5000 [06:13<15:47,  3.85it/s]"
     ]
    },
    {
     "name": "stdout",
     "output_type": "stream",
     "text": [
      "Epoch 1355: Train Loss: 0.5073, Val Accuracy: 0.7273, Val loss: 0.4702, best val acc: 0.7792\n"
     ]
    },
    {
     "name": "stderr",
     "output_type": "stream",
     "text": [
      "Epoch Progress:  27%|██▋       | 1356/5000 [06:13<15:47,  3.85it/s]"
     ]
    },
    {
     "name": "stdout",
     "output_type": "stream",
     "text": [
      "Epoch 1356: Train Loss: 0.4871, Val Accuracy: 0.7143, Val loss: 0.4695, best val acc: 0.7792\n"
     ]
    },
    {
     "name": "stderr",
     "output_type": "stream",
     "text": [
      "Epoch Progress:  27%|██▋       | 1357/5000 [06:13<16:29,  3.68it/s]"
     ]
    },
    {
     "name": "stdout",
     "output_type": "stream",
     "text": [
      "Epoch 1357: Train Loss: 0.4953, Val Accuracy: 0.7143, Val loss: 0.4745, best val acc: 0.7792\n"
     ]
    },
    {
     "name": "stderr",
     "output_type": "stream",
     "text": [
      "Epoch Progress:  27%|██▋       | 1358/5000 [06:13<16:07,  3.76it/s]"
     ]
    },
    {
     "name": "stdout",
     "output_type": "stream",
     "text": [
      "Epoch 1358: Train Loss: 0.4951, Val Accuracy: 0.7273, Val loss: 0.4744, best val acc: 0.7792\n"
     ]
    },
    {
     "name": "stderr",
     "output_type": "stream",
     "text": [
      "Epoch Progress:  27%|██▋       | 1359/5000 [06:14<15:52,  3.82it/s]"
     ]
    },
    {
     "name": "stdout",
     "output_type": "stream",
     "text": [
      "Epoch 1359: Train Loss: 0.4920, Val Accuracy: 0.7273, Val loss: 0.4761, best val acc: 0.7792\n"
     ]
    },
    {
     "name": "stderr",
     "output_type": "stream",
     "text": [
      "Epoch Progress:  27%|██▋       | 1360/5000 [06:14<15:45,  3.85it/s]"
     ]
    },
    {
     "name": "stdout",
     "output_type": "stream",
     "text": [
      "Epoch 1360: Train Loss: 0.4779, Val Accuracy: 0.7273, Val loss: 0.4834, best val acc: 0.7792\n"
     ]
    },
    {
     "name": "stderr",
     "output_type": "stream",
     "text": [
      "Epoch Progress:  27%|██▋       | 1361/5000 [06:14<15:39,  3.87it/s]"
     ]
    },
    {
     "name": "stdout",
     "output_type": "stream",
     "text": [
      "Epoch 1361: Train Loss: 0.4953, Val Accuracy: 0.7143, Val loss: 0.4785, best val acc: 0.7792\n"
     ]
    },
    {
     "name": "stderr",
     "output_type": "stream",
     "text": [
      "Epoch Progress:  27%|██▋       | 1362/5000 [06:14<15:54,  3.81it/s]"
     ]
    },
    {
     "name": "stdout",
     "output_type": "stream",
     "text": [
      "Epoch 1362: Train Loss: 0.5026, Val Accuracy: 0.7273, Val loss: 0.4727, best val acc: 0.7792\n"
     ]
    },
    {
     "name": "stderr",
     "output_type": "stream",
     "text": [
      "Epoch Progress:  27%|██▋       | 1363/5000 [06:15<15:51,  3.82it/s]"
     ]
    },
    {
     "name": "stdout",
     "output_type": "stream",
     "text": [
      "Epoch 1363: Train Loss: 0.4924, Val Accuracy: 0.7143, Val loss: 0.4740, best val acc: 0.7792\n"
     ]
    },
    {
     "name": "stderr",
     "output_type": "stream",
     "text": [
      "Epoch Progress:  27%|██▋       | 1364/5000 [06:15<15:46,  3.84it/s]"
     ]
    },
    {
     "name": "stdout",
     "output_type": "stream",
     "text": [
      "Epoch 1364: Train Loss: 0.4873, Val Accuracy: 0.7143, Val loss: 0.4682, best val acc: 0.7792\n"
     ]
    },
    {
     "name": "stderr",
     "output_type": "stream",
     "text": [
      "Epoch Progress:  27%|██▋       | 1365/5000 [06:15<16:01,  3.78it/s]"
     ]
    },
    {
     "name": "stdout",
     "output_type": "stream",
     "text": [
      "Epoch 1365: Train Loss: 0.4875, Val Accuracy: 0.7273, Val loss: 0.4703, best val acc: 0.7792\n"
     ]
    },
    {
     "name": "stderr",
     "output_type": "stream",
     "text": [
      "Epoch Progress:  27%|██▋       | 1366/5000 [06:15<15:54,  3.81it/s]"
     ]
    },
    {
     "name": "stdout",
     "output_type": "stream",
     "text": [
      "Epoch 1366: Train Loss: 0.4886, Val Accuracy: 0.7143, Val loss: 0.4715, best val acc: 0.7792\n"
     ]
    },
    {
     "name": "stderr",
     "output_type": "stream",
     "text": [
      "Epoch Progress:  27%|██▋       | 1367/5000 [06:16<15:41,  3.86it/s]"
     ]
    },
    {
     "name": "stdout",
     "output_type": "stream",
     "text": [
      "Epoch 1367: Train Loss: 0.4887, Val Accuracy: 0.7143, Val loss: 0.4701, best val acc: 0.7792\n"
     ]
    },
    {
     "name": "stderr",
     "output_type": "stream",
     "text": [
      "Epoch Progress:  27%|██▋       | 1368/5000 [06:16<15:30,  3.90it/s]"
     ]
    },
    {
     "name": "stdout",
     "output_type": "stream",
     "text": [
      "Epoch 1368: Train Loss: 0.4760, Val Accuracy: 0.7143, Val loss: 0.4696, best val acc: 0.7792\n"
     ]
    },
    {
     "name": "stderr",
     "output_type": "stream",
     "text": [
      "Epoch Progress:  27%|██▋       | 1369/5000 [06:16<15:44,  3.84it/s]"
     ]
    },
    {
     "name": "stdout",
     "output_type": "stream",
     "text": [
      "Epoch 1369: Train Loss: 0.4799, Val Accuracy: 0.7143, Val loss: 0.4745, best val acc: 0.7792\n"
     ]
    },
    {
     "name": "stderr",
     "output_type": "stream",
     "text": [
      "Epoch Progress:  27%|██▋       | 1370/5000 [06:17<15:24,  3.93it/s]"
     ]
    },
    {
     "name": "stdout",
     "output_type": "stream",
     "text": [
      "Epoch 1370: Train Loss: 0.4968, Val Accuracy: 0.7143, Val loss: 0.4810, best val acc: 0.7792\n"
     ]
    },
    {
     "name": "stderr",
     "output_type": "stream",
     "text": [
      "Epoch Progress:  27%|██▋       | 1371/5000 [06:17<15:14,  3.97it/s]"
     ]
    },
    {
     "name": "stdout",
     "output_type": "stream",
     "text": [
      "Epoch 1371: Train Loss: 0.5009, Val Accuracy: 0.7273, Val loss: 0.4771, best val acc: 0.7792\n"
     ]
    },
    {
     "name": "stderr",
     "output_type": "stream",
     "text": [
      "Epoch Progress:  27%|██▋       | 1372/5000 [06:17<15:04,  4.01it/s]"
     ]
    },
    {
     "name": "stdout",
     "output_type": "stream",
     "text": [
      "Epoch 1372: Train Loss: 0.4994, Val Accuracy: 0.7273, Val loss: 0.4728, best val acc: 0.7792\n"
     ]
    },
    {
     "name": "stderr",
     "output_type": "stream",
     "text": [
      "Epoch Progress:  27%|██▋       | 1373/5000 [06:17<15:43,  3.85it/s]"
     ]
    },
    {
     "name": "stdout",
     "output_type": "stream",
     "text": [
      "Epoch 1373: Train Loss: 0.4815, Val Accuracy: 0.7143, Val loss: 0.4721, best val acc: 0.7792\n"
     ]
    },
    {
     "name": "stderr",
     "output_type": "stream",
     "text": [
      "Epoch Progress:  27%|██▋       | 1374/5000 [06:18<15:45,  3.83it/s]"
     ]
    },
    {
     "name": "stdout",
     "output_type": "stream",
     "text": [
      "Epoch 1374: Train Loss: 0.4769, Val Accuracy: 0.7143, Val loss: 0.4775, best val acc: 0.7792\n"
     ]
    },
    {
     "name": "stderr",
     "output_type": "stream",
     "text": [
      "Epoch Progress:  28%|██▊       | 1375/5000 [06:18<15:33,  3.88it/s]"
     ]
    },
    {
     "name": "stdout",
     "output_type": "stream",
     "text": [
      "Epoch 1375: Train Loss: 0.4968, Val Accuracy: 0.7143, Val loss: 0.4757, best val acc: 0.7792\n"
     ]
    },
    {
     "name": "stderr",
     "output_type": "stream",
     "text": [
      "Epoch Progress:  28%|██▊       | 1376/5000 [06:18<15:20,  3.94it/s]"
     ]
    },
    {
     "name": "stdout",
     "output_type": "stream",
     "text": [
      "Epoch 1376: Train Loss: 0.4819, Val Accuracy: 0.7273, Val loss: 0.4680, best val acc: 0.7792\n"
     ]
    },
    {
     "name": "stderr",
     "output_type": "stream",
     "text": [
      "Epoch Progress:  28%|██▊       | 1377/5000 [06:18<15:26,  3.91it/s]"
     ]
    },
    {
     "name": "stdout",
     "output_type": "stream",
     "text": [
      "Epoch 1377: Train Loss: 0.4770, Val Accuracy: 0.7273, Val loss: 0.4691, best val acc: 0.7792\n"
     ]
    },
    {
     "name": "stderr",
     "output_type": "stream",
     "text": [
      "Epoch Progress:  28%|██▊       | 1378/5000 [06:19<15:22,  3.92it/s]"
     ]
    },
    {
     "name": "stdout",
     "output_type": "stream",
     "text": [
      "Epoch 1378: Train Loss: 0.4935, Val Accuracy: 0.7143, Val loss: 0.4651, best val acc: 0.7792\n"
     ]
    },
    {
     "name": "stderr",
     "output_type": "stream",
     "text": [
      "Epoch Progress:  28%|██▊       | 1379/5000 [06:19<15:10,  3.98it/s]"
     ]
    },
    {
     "name": "stdout",
     "output_type": "stream",
     "text": [
      "Epoch 1379: Train Loss: 0.5033, Val Accuracy: 0.7403, Val loss: 0.4765, best val acc: 0.7792\n"
     ]
    },
    {
     "name": "stderr",
     "output_type": "stream",
     "text": [
      "Epoch Progress:  28%|██▊       | 1380/5000 [06:19<15:15,  3.95it/s]"
     ]
    },
    {
     "name": "stdout",
     "output_type": "stream",
     "text": [
      "Epoch 1380: Train Loss: 0.4900, Val Accuracy: 0.7143, Val loss: 0.4807, best val acc: 0.7792\n"
     ]
    },
    {
     "name": "stderr",
     "output_type": "stream",
     "text": [
      "Epoch Progress:  28%|██▊       | 1381/5000 [06:19<16:04,  3.75it/s]"
     ]
    },
    {
     "name": "stdout",
     "output_type": "stream",
     "text": [
      "Epoch 1381: Train Loss: 0.4861, Val Accuracy: 0.7013, Val loss: 0.4834, best val acc: 0.7792\n"
     ]
    },
    {
     "name": "stderr",
     "output_type": "stream",
     "text": [
      "Epoch Progress:  28%|██▊       | 1382/5000 [06:20<15:52,  3.80it/s]"
     ]
    },
    {
     "name": "stdout",
     "output_type": "stream",
     "text": [
      "Epoch 1382: Train Loss: 0.4977, Val Accuracy: 0.7143, Val loss: 0.4804, best val acc: 0.7792\n"
     ]
    },
    {
     "name": "stderr",
     "output_type": "stream",
     "text": [
      "Epoch Progress:  28%|██▊       | 1383/5000 [06:20<15:59,  3.77it/s]"
     ]
    },
    {
     "name": "stdout",
     "output_type": "stream",
     "text": [
      "Epoch 1383: Train Loss: 0.4829, Val Accuracy: 0.7143, Val loss: 0.4841, best val acc: 0.7792\n"
     ]
    },
    {
     "name": "stderr",
     "output_type": "stream",
     "text": [
      "Epoch Progress:  28%|██▊       | 1384/5000 [06:20<15:45,  3.82it/s]"
     ]
    },
    {
     "name": "stdout",
     "output_type": "stream",
     "text": [
      "Epoch 1384: Train Loss: 0.4904, Val Accuracy: 0.7013, Val loss: 0.4762, best val acc: 0.7792\n"
     ]
    },
    {
     "name": "stderr",
     "output_type": "stream",
     "text": [
      "Epoch Progress:  28%|██▊       | 1385/5000 [06:20<16:17,  3.70it/s]"
     ]
    },
    {
     "name": "stdout",
     "output_type": "stream",
     "text": [
      "Epoch 1385: Train Loss: 0.4783, Val Accuracy: 0.7273, Val loss: 0.4631, best val acc: 0.7792\n"
     ]
    },
    {
     "name": "stderr",
     "output_type": "stream",
     "text": [
      "Epoch Progress:  28%|██▊       | 1386/5000 [06:21<16:14,  3.71it/s]"
     ]
    },
    {
     "name": "stdout",
     "output_type": "stream",
     "text": [
      "Epoch 1386: Train Loss: 0.4887, Val Accuracy: 0.7273, Val loss: 0.4769, best val acc: 0.7792\n"
     ]
    },
    {
     "name": "stderr",
     "output_type": "stream",
     "text": [
      "Epoch Progress:  28%|██▊       | 1387/5000 [06:21<16:34,  3.63it/s]"
     ]
    },
    {
     "name": "stdout",
     "output_type": "stream",
     "text": [
      "Epoch 1387: Train Loss: 0.4999, Val Accuracy: 0.7143, Val loss: 0.4735, best val acc: 0.7792\n"
     ]
    },
    {
     "name": "stderr",
     "output_type": "stream",
     "text": [
      "Epoch Progress:  28%|██▊       | 1388/5000 [06:21<17:46,  3.39it/s]"
     ]
    },
    {
     "name": "stdout",
     "output_type": "stream",
     "text": [
      "Epoch 1388: Train Loss: 0.5092, Val Accuracy: 0.7403, Val loss: 0.4742, best val acc: 0.7792\n"
     ]
    },
    {
     "name": "stderr",
     "output_type": "stream",
     "text": [
      "Epoch Progress:  28%|██▊       | 1389/5000 [06:22<17:39,  3.41it/s]"
     ]
    },
    {
     "name": "stdout",
     "output_type": "stream",
     "text": [
      "Epoch 1389: Train Loss: 0.5006, Val Accuracy: 0.7143, Val loss: 0.4775, best val acc: 0.7792\n"
     ]
    },
    {
     "name": "stderr",
     "output_type": "stream",
     "text": [
      "Epoch Progress:  28%|██▊       | 1390/5000 [06:22<17:06,  3.52it/s]"
     ]
    },
    {
     "name": "stdout",
     "output_type": "stream",
     "text": [
      "Epoch 1390: Train Loss: 0.4811, Val Accuracy: 0.7143, Val loss: 0.4678, best val acc: 0.7792\n"
     ]
    },
    {
     "name": "stderr",
     "output_type": "stream",
     "text": [
      "Epoch Progress:  28%|██▊       | 1391/5000 [06:22<17:02,  3.53it/s]"
     ]
    },
    {
     "name": "stdout",
     "output_type": "stream",
     "text": [
      "Epoch 1391: Train Loss: 0.4930, Val Accuracy: 0.7273, Val loss: 0.4651, best val acc: 0.7792\n"
     ]
    },
    {
     "name": "stderr",
     "output_type": "stream",
     "text": [
      "Epoch Progress:  28%|██▊       | 1392/5000 [06:22<16:56,  3.55it/s]"
     ]
    },
    {
     "name": "stdout",
     "output_type": "stream",
     "text": [
      "Epoch 1392: Train Loss: 0.5013, Val Accuracy: 0.7013, Val loss: 0.4692, best val acc: 0.7792\n"
     ]
    },
    {
     "name": "stderr",
     "output_type": "stream",
     "text": [
      "Epoch Progress:  28%|██▊       | 1393/5000 [06:23<16:32,  3.63it/s]"
     ]
    },
    {
     "name": "stdout",
     "output_type": "stream",
     "text": [
      "Epoch 1393: Train Loss: 0.4734, Val Accuracy: 0.7143, Val loss: 0.4633, best val acc: 0.7792\n"
     ]
    },
    {
     "name": "stderr",
     "output_type": "stream",
     "text": [
      "Epoch Progress:  28%|██▊       | 1394/5000 [06:23<16:22,  3.67it/s]"
     ]
    },
    {
     "name": "stdout",
     "output_type": "stream",
     "text": [
      "Epoch 1394: Train Loss: 0.5130, Val Accuracy: 0.7403, Val loss: 0.4742, best val acc: 0.7792\n"
     ]
    },
    {
     "name": "stderr",
     "output_type": "stream",
     "text": [
      "Epoch Progress:  28%|██▊       | 1395/5000 [06:23<16:24,  3.66it/s]"
     ]
    },
    {
     "name": "stdout",
     "output_type": "stream",
     "text": [
      "Epoch 1395: Train Loss: 0.4792, Val Accuracy: 0.7403, Val loss: 0.4705, best val acc: 0.7792\n"
     ]
    },
    {
     "name": "stderr",
     "output_type": "stream",
     "text": [
      "Epoch Progress:  28%|██▊       | 1396/5000 [06:24<17:03,  3.52it/s]"
     ]
    },
    {
     "name": "stdout",
     "output_type": "stream",
     "text": [
      "Epoch 1396: Train Loss: 0.4950, Val Accuracy: 0.7013, Val loss: 0.4674, best val acc: 0.7792\n"
     ]
    },
    {
     "name": "stderr",
     "output_type": "stream",
     "text": [
      "Epoch Progress:  28%|██▊       | 1397/5000 [06:24<16:54,  3.55it/s]"
     ]
    },
    {
     "name": "stdout",
     "output_type": "stream",
     "text": [
      "Epoch 1397: Train Loss: 0.5072, Val Accuracy: 0.7143, Val loss: 0.4707, best val acc: 0.7792\n"
     ]
    },
    {
     "name": "stderr",
     "output_type": "stream",
     "text": [
      "Epoch Progress:  28%|██▊       | 1398/5000 [06:24<16:36,  3.61it/s]"
     ]
    },
    {
     "name": "stdout",
     "output_type": "stream",
     "text": [
      "Epoch 1398: Train Loss: 0.5017, Val Accuracy: 0.7273, Val loss: 0.4693, best val acc: 0.7792\n"
     ]
    },
    {
     "name": "stderr",
     "output_type": "stream",
     "text": [
      "Epoch Progress:  28%|██▊       | 1399/5000 [06:24<16:37,  3.61it/s]"
     ]
    },
    {
     "name": "stdout",
     "output_type": "stream",
     "text": [
      "Epoch 1399: Train Loss: 0.5012, Val Accuracy: 0.7143, Val loss: 0.4726, best val acc: 0.7792\n"
     ]
    },
    {
     "name": "stderr",
     "output_type": "stream",
     "text": [
      "Epoch Progress:  28%|██▊       | 1400/5000 [06:25<16:20,  3.67it/s]"
     ]
    },
    {
     "name": "stdout",
     "output_type": "stream",
     "text": [
      "Epoch 1400: Train Loss: 0.4888, Val Accuracy: 0.7403, Val loss: 0.4682, best val acc: 0.7792\n"
     ]
    },
    {
     "name": "stderr",
     "output_type": "stream",
     "text": [
      "Epoch Progress:  28%|██▊       | 1401/5000 [06:25<16:17,  3.68it/s]"
     ]
    },
    {
     "name": "stdout",
     "output_type": "stream",
     "text": [
      "Epoch 1401: Train Loss: 0.4858, Val Accuracy: 0.7532, Val loss: 0.4673, best val acc: 0.7792\n"
     ]
    },
    {
     "name": "stderr",
     "output_type": "stream",
     "text": [
      "Epoch Progress:  28%|██▊       | 1402/5000 [06:25<16:06,  3.72it/s]"
     ]
    },
    {
     "name": "stdout",
     "output_type": "stream",
     "text": [
      "Epoch 1402: Train Loss: 0.4675, Val Accuracy: 0.7143, Val loss: 0.4695, best val acc: 0.7792\n"
     ]
    },
    {
     "name": "stderr",
     "output_type": "stream",
     "text": [
      "Epoch Progress:  28%|██▊       | 1403/5000 [06:25<16:13,  3.69it/s]"
     ]
    },
    {
     "name": "stdout",
     "output_type": "stream",
     "text": [
      "Epoch 1403: Train Loss: 0.4860, Val Accuracy: 0.7403, Val loss: 0.4723, best val acc: 0.7792\n"
     ]
    },
    {
     "name": "stderr",
     "output_type": "stream",
     "text": [
      "Epoch Progress:  28%|██▊       | 1404/5000 [06:26<16:47,  3.57it/s]"
     ]
    },
    {
     "name": "stdout",
     "output_type": "stream",
     "text": [
      "Epoch 1404: Train Loss: 0.4762, Val Accuracy: 0.7143, Val loss: 0.4622, best val acc: 0.7792\n"
     ]
    },
    {
     "name": "stderr",
     "output_type": "stream",
     "text": [
      "Epoch Progress:  28%|██▊       | 1405/5000 [06:26<16:24,  3.65it/s]"
     ]
    },
    {
     "name": "stdout",
     "output_type": "stream",
     "text": [
      "Epoch 1405: Train Loss: 0.4909, Val Accuracy: 0.7143, Val loss: 0.4855, best val acc: 0.7792\n"
     ]
    },
    {
     "name": "stderr",
     "output_type": "stream",
     "text": [
      "Epoch Progress:  28%|██▊       | 1406/5000 [06:26<16:33,  3.62it/s]"
     ]
    },
    {
     "name": "stdout",
     "output_type": "stream",
     "text": [
      "Epoch 1406: Train Loss: 0.4847, Val Accuracy: 0.7143, Val loss: 0.4697, best val acc: 0.7792\n"
     ]
    },
    {
     "name": "stderr",
     "output_type": "stream",
     "text": [
      "Epoch Progress:  28%|██▊       | 1407/5000 [06:27<16:23,  3.65it/s]"
     ]
    },
    {
     "name": "stdout",
     "output_type": "stream",
     "text": [
      "Epoch 1407: Train Loss: 0.5129, Val Accuracy: 0.7273, Val loss: 0.4670, best val acc: 0.7792\n"
     ]
    },
    {
     "name": "stderr",
     "output_type": "stream",
     "text": [
      "Epoch Progress:  28%|██▊       | 1408/5000 [06:27<16:16,  3.68it/s]"
     ]
    },
    {
     "name": "stdout",
     "output_type": "stream",
     "text": [
      "Epoch 1408: Train Loss: 0.4919, Val Accuracy: 0.7273, Val loss: 0.4703, best val acc: 0.7792\n"
     ]
    },
    {
     "name": "stderr",
     "output_type": "stream",
     "text": [
      "Epoch Progress:  28%|██▊       | 1409/5000 [06:27<15:56,  3.75it/s]"
     ]
    },
    {
     "name": "stdout",
     "output_type": "stream",
     "text": [
      "Epoch 1409: Train Loss: 0.5111, Val Accuracy: 0.7143, Val loss: 0.4716, best val acc: 0.7792\n"
     ]
    },
    {
     "name": "stderr",
     "output_type": "stream",
     "text": [
      "Epoch Progress:  28%|██▊       | 1410/5000 [06:27<15:45,  3.80it/s]"
     ]
    },
    {
     "name": "stdout",
     "output_type": "stream",
     "text": [
      "Epoch 1410: Train Loss: 0.4947, Val Accuracy: 0.7143, Val loss: 0.4727, best val acc: 0.7792\n"
     ]
    },
    {
     "name": "stderr",
     "output_type": "stream",
     "text": [
      "Epoch Progress:  28%|██▊       | 1411/5000 [06:28<15:46,  3.79it/s]"
     ]
    },
    {
     "name": "stdout",
     "output_type": "stream",
     "text": [
      "Epoch 1411: Train Loss: 0.4883, Val Accuracy: 0.7273, Val loss: 0.4725, best val acc: 0.7792\n"
     ]
    },
    {
     "name": "stderr",
     "output_type": "stream",
     "text": [
      "Epoch Progress:  28%|██▊       | 1412/5000 [06:28<16:01,  3.73it/s]"
     ]
    },
    {
     "name": "stdout",
     "output_type": "stream",
     "text": [
      "Epoch 1412: Train Loss: 0.4784, Val Accuracy: 0.7273, Val loss: 0.4809, best val acc: 0.7792\n"
     ]
    },
    {
     "name": "stderr",
     "output_type": "stream",
     "text": [
      "Epoch Progress:  28%|██▊       | 1413/5000 [06:28<15:54,  3.76it/s]"
     ]
    },
    {
     "name": "stdout",
     "output_type": "stream",
     "text": [
      "Epoch 1413: Train Loss: 0.4975, Val Accuracy: 0.7143, Val loss: 0.4782, best val acc: 0.7792\n"
     ]
    },
    {
     "name": "stderr",
     "output_type": "stream",
     "text": [
      "Epoch Progress:  28%|██▊       | 1414/5000 [06:28<15:50,  3.77it/s]"
     ]
    },
    {
     "name": "stdout",
     "output_type": "stream",
     "text": [
      "Epoch 1414: Train Loss: 0.4944, Val Accuracy: 0.7273, Val loss: 0.4832, best val acc: 0.7792\n"
     ]
    },
    {
     "name": "stderr",
     "output_type": "stream",
     "text": [
      "Epoch Progress:  28%|██▊       | 1415/5000 [06:29<16:05,  3.71it/s]"
     ]
    },
    {
     "name": "stdout",
     "output_type": "stream",
     "text": [
      "Epoch 1415: Train Loss: 0.5033, Val Accuracy: 0.7143, Val loss: 0.4866, best val acc: 0.7792\n"
     ]
    },
    {
     "name": "stderr",
     "output_type": "stream",
     "text": [
      "Epoch Progress:  28%|██▊       | 1416/5000 [06:29<16:07,  3.70it/s]"
     ]
    },
    {
     "name": "stdout",
     "output_type": "stream",
     "text": [
      "Epoch 1416: Train Loss: 0.5074, Val Accuracy: 0.7143, Val loss: 0.4852, best val acc: 0.7792\n"
     ]
    },
    {
     "name": "stderr",
     "output_type": "stream",
     "text": [
      "Epoch Progress:  28%|██▊       | 1417/5000 [06:29<15:51,  3.77it/s]"
     ]
    },
    {
     "name": "stdout",
     "output_type": "stream",
     "text": [
      "Epoch 1417: Train Loss: 0.4935, Val Accuracy: 0.7143, Val loss: 0.4909, best val acc: 0.7792\n"
     ]
    },
    {
     "name": "stderr",
     "output_type": "stream",
     "text": [
      "Epoch Progress:  28%|██▊       | 1418/5000 [06:29<16:04,  3.71it/s]"
     ]
    },
    {
     "name": "stdout",
     "output_type": "stream",
     "text": [
      "Epoch 1418: Train Loss: 0.5017, Val Accuracy: 0.7143, Val loss: 0.4825, best val acc: 0.7792\n"
     ]
    },
    {
     "name": "stderr",
     "output_type": "stream",
     "text": [
      "Epoch Progress:  28%|██▊       | 1419/5000 [06:30<16:22,  3.64it/s]"
     ]
    },
    {
     "name": "stdout",
     "output_type": "stream",
     "text": [
      "Epoch 1419: Train Loss: 0.4978, Val Accuracy: 0.7143, Val loss: 0.4696, best val acc: 0.7792\n"
     ]
    },
    {
     "name": "stderr",
     "output_type": "stream",
     "text": [
      "Epoch Progress:  28%|██▊       | 1420/5000 [06:30<16:12,  3.68it/s]"
     ]
    },
    {
     "name": "stdout",
     "output_type": "stream",
     "text": [
      "Epoch 1420: Train Loss: 0.4973, Val Accuracy: 0.7143, Val loss: 0.4732, best val acc: 0.7792\n"
     ]
    },
    {
     "name": "stderr",
     "output_type": "stream",
     "text": [
      "Epoch Progress:  28%|██▊       | 1421/5000 [06:30<17:16,  3.45it/s]"
     ]
    },
    {
     "name": "stdout",
     "output_type": "stream",
     "text": [
      "Epoch 1421: Train Loss: 0.4902, Val Accuracy: 0.7143, Val loss: 0.4855, best val acc: 0.7792\n"
     ]
    },
    {
     "name": "stderr",
     "output_type": "stream",
     "text": [
      "Epoch Progress:  28%|██▊       | 1422/5000 [06:31<17:37,  3.38it/s]"
     ]
    },
    {
     "name": "stdout",
     "output_type": "stream",
     "text": [
      "Epoch 1422: Train Loss: 0.5078, Val Accuracy: 0.7143, Val loss: 0.4765, best val acc: 0.7792\n"
     ]
    },
    {
     "name": "stderr",
     "output_type": "stream",
     "text": [
      "Epoch Progress:  28%|██▊       | 1423/5000 [06:31<18:05,  3.29it/s]"
     ]
    },
    {
     "name": "stdout",
     "output_type": "stream",
     "text": [
      "Epoch 1423: Train Loss: 0.4968, Val Accuracy: 0.7143, Val loss: 0.4807, best val acc: 0.7792\n"
     ]
    },
    {
     "name": "stderr",
     "output_type": "stream",
     "text": [
      "Epoch Progress:  28%|██▊       | 1424/5000 [06:31<18:08,  3.29it/s]"
     ]
    },
    {
     "name": "stdout",
     "output_type": "stream",
     "text": [
      "Epoch 1424: Train Loss: 0.5114, Val Accuracy: 0.7273, Val loss: 0.4801, best val acc: 0.7792\n"
     ]
    },
    {
     "name": "stderr",
     "output_type": "stream",
     "text": [
      "Epoch Progress:  28%|██▊       | 1425/5000 [06:32<18:05,  3.29it/s]"
     ]
    },
    {
     "name": "stdout",
     "output_type": "stream",
     "text": [
      "Epoch 1425: Train Loss: 0.4973, Val Accuracy: 0.7143, Val loss: 0.4741, best val acc: 0.7792\n"
     ]
    },
    {
     "name": "stderr",
     "output_type": "stream",
     "text": [
      "Epoch Progress:  29%|██▊       | 1426/5000 [06:32<18:15,  3.26it/s]"
     ]
    },
    {
     "name": "stdout",
     "output_type": "stream",
     "text": [
      "Epoch 1426: Train Loss: 0.4848, Val Accuracy: 0.7143, Val loss: 0.4828, best val acc: 0.7792\n"
     ]
    },
    {
     "name": "stderr",
     "output_type": "stream",
     "text": [
      "Epoch Progress:  29%|██▊       | 1427/5000 [06:32<17:57,  3.32it/s]"
     ]
    },
    {
     "name": "stdout",
     "output_type": "stream",
     "text": [
      "Epoch 1427: Train Loss: 0.5022, Val Accuracy: 0.7143, Val loss: 0.4781, best val acc: 0.7792\n"
     ]
    },
    {
     "name": "stderr",
     "output_type": "stream",
     "text": [
      "Epoch Progress:  29%|██▊       | 1428/5000 [06:33<18:02,  3.30it/s]"
     ]
    },
    {
     "name": "stdout",
     "output_type": "stream",
     "text": [
      "Epoch 1428: Train Loss: 0.4909, Val Accuracy: 0.7273, Val loss: 0.4702, best val acc: 0.7792\n"
     ]
    },
    {
     "name": "stderr",
     "output_type": "stream",
     "text": [
      "Epoch Progress:  29%|██▊       | 1429/5000 [06:33<17:04,  3.48it/s]"
     ]
    },
    {
     "name": "stdout",
     "output_type": "stream",
     "text": [
      "Epoch 1429: Train Loss: 0.5031, Val Accuracy: 0.7143, Val loss: 0.4773, best val acc: 0.7792\n"
     ]
    },
    {
     "name": "stderr",
     "output_type": "stream",
     "text": [
      "Epoch Progress:  29%|██▊       | 1430/5000 [06:33<16:39,  3.57it/s]"
     ]
    },
    {
     "name": "stdout",
     "output_type": "stream",
     "text": [
      "Epoch 1430: Train Loss: 0.4858, Val Accuracy: 0.7143, Val loss: 0.4751, best val acc: 0.7792\n"
     ]
    },
    {
     "name": "stderr",
     "output_type": "stream",
     "text": [
      "Epoch Progress:  29%|██▊       | 1431/5000 [06:33<16:29,  3.61it/s]"
     ]
    },
    {
     "name": "stdout",
     "output_type": "stream",
     "text": [
      "Epoch 1431: Train Loss: 0.4846, Val Accuracy: 0.7143, Val loss: 0.4769, best val acc: 0.7792\n"
     ]
    },
    {
     "name": "stderr",
     "output_type": "stream",
     "text": [
      "Epoch Progress:  29%|██▊       | 1432/5000 [06:34<16:30,  3.60it/s]"
     ]
    },
    {
     "name": "stdout",
     "output_type": "stream",
     "text": [
      "Epoch 1432: Train Loss: 0.4924, Val Accuracy: 0.7143, Val loss: 0.4707, best val acc: 0.7792\n"
     ]
    },
    {
     "name": "stderr",
     "output_type": "stream",
     "text": [
      "Epoch Progress:  29%|██▊       | 1432/5000 [06:34<16:22,  3.63it/s]"
     ]
    },
    {
     "name": "stdout",
     "output_type": "stream",
     "text": [
      "Epoch 1433: Train Loss: 0.4993, Val Accuracy: 0.7143, Val loss: 0.4692, best val acc: 0.7792\n",
      "\n",
      "Early stopping at Epoch 1432 | Best Val Acc: 0.7792\n",
      "Loading best model state...\n",
      "Training finished! Total duration: 394.34s\n"
     ]
    },
    {
     "name": "stderr",
     "output_type": "stream",
     "text": [
      "\n"
     ]
    }
   ],
   "source": [
    "# Training loop \n",
    "print('Training the model...')\n",
    "start_time = time.time()\n",
    "\n",
    "# Get initial model state for early stopping\n",
    "best_state = model.state_dict()\n",
    "\n",
    "for epoch in tqdm(range(5000), desc='Epoch Progress'):\n",
    "    # Compute validation negative log likelihood using the BCEWithLogitsLoss \n",
    "    # to measure predictive uncertainty\n",
    "    train_loss = train(model, train_loader, optimizer, lambda_kl)\n",
    "    val_acc, val_probs, val_true, uncertainties = evaluate(model, val_loader, mc_samples=50)\n",
    "    val_nll = criterion(val_probs, val_true).item() \n",
    "    \n",
    "    history['train_loss'].append(train_loss)\n",
    "    history['val_acc'].append(val_acc)\n",
    "    history['val_nll'].append(val_nll)\n",
    "    \n",
    "    \n",
    "    print(f'Epoch {epoch + 1}: Train Loss: {train_loss:.4f}, Val Accuracy: {val_acc:.4f}, Val loss: {val_nll:.4f}, best val acc: {best_val_acc:.4f}')\n",
    "    \n",
    "    # Check for val accuracy improvement\n",
    "    if val_acc > best_val_acc or val_nll < best_val_nll:\n",
    "        if val_acc > best_val_acc:\n",
    "            best_val_acc = val_acc\n",
    "        if val_nll < best_val_nll:\n",
    "            best_val_nll = val_nll\n",
    "        patience_counter = 0\n",
    "        # Save the best model state\n",
    "        best_state = model.state_dict()\n",
    "        print(f'Best model state saved at epoch {epoch + 1}')\n",
    "        clear_output(wait=True)\n",
    "    else:\n",
    "        patience_counter += 1\n",
    "    \n",
    "    \n",
    "\n",
    "    # Early stopping\n",
    "    if patience_counter >= PATIENCE:\n",
    "        print(f'\\nEarly stopping at Epoch {epoch} | Best Val Acc: {best_val_acc:.4f}')\n",
    "        print(\"Loading best model state...\")\n",
    "        # Load the best model state\n",
    "        model.load_state_dict(best_state)\n",
    "        break\n",
    "\n",
    "\n",
    "print(f'Training finished! Total duration: {time.time() - start_time:.2f}s')\n",
    "\n",
    "\n",
    "\n",
    "# I got the early stopping code from Qwen\n",
    "# I got the main code structures for this assignment from the lecture note\n",
    "# In some parts I used Qwen to understand the lines of code.\n",
    "# But I am not confident if I understand all the concept of BNN, I need to practice more to understand the concept of BNN\n",
    "# In this assignment I tried to code what I learned from the lecture notes."
   ]
  },
  {
   "cell_type": "code",
   "execution_count": 17,
   "id": "36a4df6d",
   "metadata": {},
   "outputs": [
    {
     "data": {
      "image/png": "[encoded data removed]",
      "text/plain": [
       "<Figure size 1200x500 with 2 Axes>"
      ]
     },
     "metadata": {},
     "output_type": "display_data"
    }
   ],
   "source": [
    "plt.figure(figsize=(12, 5))\n",
    "plt.subplot(1, 2, 1)\n",
    "plt.plot(history['train_loss'], label='Train Loss (ELBO)')\n",
    "plt.plot(history['val_nll'], label='Validation NLL')\n",
    "plt.xlabel('Epoch'); plt.ylabel('Loss')\n",
    "plt.title('Training vs Validation Loss')\n",
    "plt.legend()\n",
    "\n",
    "# Plot Accuracy\n",
    "plt.subplot(1, 2, 2)\n",
    "plt.plot(history['val_acc'], label='Validation Accuracy', color='green')\n",
    "plt.xlabel('Epoch'); plt.ylabel('Accuracy')\n",
    "plt.title('Validation Accuracy')\n",
    "plt.legend()\n",
    "plt.tight_layout()\n",
    "plt.show()\n",
    "\n",
    "# I got the main code structures from the lecture notes"
   ]
  },
  {
   "cell_type": "code",
   "execution_count": 26,
   "id": "d789941d",
   "metadata": {},
   "outputs": [],
   "source": [
    "# Check the metrics on the test set\n",
    "test_acc, test_probs, test_true, uncertainties = evaluate(model, test_loader, mc_samples=500)\n",
    "all_uncertainties = torch.cat(uncertainties).numpy()\n",
    "average_uncertainty = np.mean(all_uncertainties, axis=0)  # Average uncertainty across samples\n",
    "test_nll = criterion(test_probs, test_true).item()\n",
    "test_brier = brier_score_loss(test_true, test_probs)\n",
    "test_roc_auc = roc_auc_score(test_true, test_probs)\n",
    "classification_rep = classification_report(test_true, (test_probs >= 0.5).float(), target_names=['No Diabetes', 'Diabetes'])\n"
   ]
  },
  {
   "cell_type": "code",
   "execution_count": 27,
   "id": "29eeae7d",
   "metadata": {},
   "outputs": [
    {
     "name": "stdout",
     "output_type": "stream",
     "text": [
      "Test Accuracy: 0.7143\n",
      "Test NLL: 0.5543\n",
      "Test Brier Score: 0.1883\n",
      "Test ROC AUC: 0.7681\n",
      "Test average uncertainty: 0.0553\n"
     ]
    }
   ],
   "source": [
    "print(f\"Test Accuracy: {test_acc:.4f}\")\n",
    "print(f\"Test NLL: {test_nll:.4f}\")\n",
    "print(f\"Test Brier Score: {test_brier:.4f}\")\n",
    "print(f\"Test ROC AUC: {test_roc_auc:.4f}\")\n",
    "print(f\"Test average uncertainty: {average_uncertainty:.4f}\")"
   ]
  },
  {
   "cell_type": "code",
   "execution_count": 28,
   "id": "17ef9559",
   "metadata": {},
   "outputs": [
    {
     "name": "stdout",
     "output_type": "stream",
     "text": [
      "              precision    recall  f1-score   support\n",
      "\n",
      " No Diabetes       0.76      0.82      0.79        50\n",
      "    Diabetes       0.61      0.52      0.56        27\n",
      "\n",
      "    accuracy                           0.71        77\n",
      "   macro avg       0.68      0.67      0.67        77\n",
      "weighted avg       0.71      0.71      0.71        77\n",
      "\n"
     ]
    }
   ],
   "source": [
    "print(classification_rep)"
   ]
  }
 ],
 "metadata": {
  "kernelspec": {
   "display_name": ".venv (3.10.0)",
   "language": "python",
   "name": "python3"
  },
  "language_info": {
   "codemirror_mode": {
    "name": "ipython",
    "version": 3
   },
   "file_extension": ".py",
   "mimetype": "text/x-python",
   "name": "python",
   "nbconvert_exporter": "python",
   "pygments_lexer": "ipython3",
   "version": "3.10.0"
  }
 },
 "nbformat": 4,
 "nbformat_minor": 5
}
