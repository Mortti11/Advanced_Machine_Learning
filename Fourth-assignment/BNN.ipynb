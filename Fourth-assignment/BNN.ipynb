{
 "cells": [
  {
   "cell_type": "code",
   "execution_count": 781,
   "id": "64060343",
   "metadata": {},
   "outputs": [],
   "source": [
    "import numpy as np\n",
    "import pandas as pd\n",
    "import torch\n",
    "import torch.nn.functional as F\n",
    "import torch.optim as optim\n",
    "from torch.utils.data import TensorDataset, DataLoader\n",
    "import torch.nn as nn\n",
    "import torchbnn as bnn \n",
    "import matplotlib.pyplot as plt\n",
    "\n",
    "\n",
    "from sklearn.model_selection import train_test_split, RandomizedSearchCV\n",
    "\n",
    "from sklearn.metrics import (accuracy_score, precision_score, confusion_matrix,\n",
    "                             roc_auc_score, brier_score_loss, roc_curve,\n",
    "                             mean_squared_error, mean_absolute_error, r2_score,  classification_report,\n",
    "                             )\n",
    "\n",
    "\n",
    "from sklearn.calibration import calibration_curve\n",
    "from xgboost import XGBClassifier \n",
    "from sklearn.model_selection import train_test_split, RandomizedSearchCV\n",
    "\n",
    "from sklearn.preprocessing import StandardScaler\n",
    "from tqdm import tqdm\n",
    "import time"
   ]
  },
  {
   "cell_type": "markdown",
   "id": "80d6b958",
   "metadata": {},
   "source": [
    "**Traditional neural networks** learn fixed numbers to make predictions, even if the training data is small or messy.<br>\n",
    "**BNNs** use ranges of possible values (probability distributions) for weights, BNNs sample multiple guesses from those ranges. <br>If the guesses are similar, the model is confident; if they vary wildly, it admits uncertainty."
   ]
  },
  {
   "cell_type": "markdown",
   "id": "80cf9e27",
   "metadata": {},
   "source": [
    "**Important concepts:**<br>\n",
    "<p>Prior: How wide the weight distributions should be before data</p><br>\n",
    "<p>"
   ]
  },
  {
   "cell_type": "code",
   "execution_count": 743,
   "id": "368600d6",
   "metadata": {},
   "outputs": [
    {
     "data": {
      "application/vnd.microsoft.datawrangler.viewer.v0+json": {
       "columns": [
        {
         "name": "index",
         "rawType": "int64",
         "type": "integer"
        },
        {
         "name": "Pregnancies",
         "rawType": "float64",
         "type": "float"
        },
        {
         "name": "Glucose",
         "rawType": "float64",
         "type": "float"
        },
        {
         "name": "BloodPressure",
         "rawType": "float64",
         "type": "float"
        },
        {
         "name": "SkinThickness",
         "rawType": "float64",
         "type": "float"
        },
        {
         "name": "Insulin",
         "rawType": "float64",
         "type": "float"
        },
        {
         "name": "BMI",
         "rawType": "float64",
         "type": "float"
        },
        {
         "name": "DiabetesPedigreeFunction",
         "rawType": "float64",
         "type": "float"
        },
        {
         "name": "Age",
         "rawType": "float64",
         "type": "float"
        },
        {
         "name": "Outcome",
         "rawType": "int64",
         "type": "integer"
        }
       ],
       "conversionMethod": "pd.DataFrame",
       "ref": "2a4e50d3-f27b-4d83-9b61-27fa48dad1ed",
       "rows": [
        [
         "0",
         "6.0",
         "148.0",
         "72.0",
         "35.0",
         "79.8",
         "33.6",
         "0.627",
         "50.0",
         "1"
        ],
        [
         "1",
         "1.0",
         "85.0",
         "66.0",
         "29.0",
         "79.8",
         "26.6",
         "0.351",
         "31.0",
         "0"
        ],
        [
         "2",
         "8.0",
         "183.0",
         "64.0",
         "20.54",
         "79.8",
         "23.3",
         "0.672",
         "32.0",
         "1"
        ],
        [
         "3",
         "1.0",
         "89.0",
         "66.0",
         "23.0",
         "94.0",
         "28.1",
         "0.167",
         "21.0",
         "0"
        ],
        [
         "4",
         "0.0",
         "137.0",
         "40.0",
         "35.0",
         "168.0",
         "43.1",
         "1.2",
         "33.0",
         "1"
        ]
       ],
       "shape": {
        "columns": 9,
        "rows": 5
       }
      },
      "text/html": [
       "<div>\n",
       "<style scoped>\n",
       "    .dataframe tbody tr th:only-of-type {\n",
       "        vertical-align: middle;\n",
       "    }\n",
       "\n",
       "    .dataframe tbody tr th {\n",
       "        vertical-align: top;\n",
       "    }\n",
       "\n",
       "    .dataframe thead th {\n",
       "        text-align: right;\n",
       "    }\n",
       "</style>\n",
       "<table border=\"1\" class=\"dataframe\">\n",
       "  <thead>\n",
       "    <tr style=\"text-align: right;\">\n",
       "      <th></th>\n",
       "      <th>Pregnancies</th>\n",
       "      <th>Glucose</th>\n",
       "      <th>BloodPressure</th>\n",
       "      <th>SkinThickness</th>\n",
       "      <th>Insulin</th>\n",
       "      <th>BMI</th>\n",
       "      <th>DiabetesPedigreeFunction</th>\n",
       "      <th>Age</th>\n",
       "      <th>Outcome</th>\n",
       "    </tr>\n",
       "  </thead>\n",
       "  <tbody>\n",
       "    <tr>\n",
       "      <th>0</th>\n",
       "      <td>6.0</td>\n",
       "      <td>148.0</td>\n",
       "      <td>72.0</td>\n",
       "      <td>35.00</td>\n",
       "      <td>79.8</td>\n",
       "      <td>33.6</td>\n",
       "      <td>0.627</td>\n",
       "      <td>50.0</td>\n",
       "      <td>1</td>\n",
       "    </tr>\n",
       "    <tr>\n",
       "      <th>1</th>\n",
       "      <td>1.0</td>\n",
       "      <td>85.0</td>\n",
       "      <td>66.0</td>\n",
       "      <td>29.00</td>\n",
       "      <td>79.8</td>\n",
       "      <td>26.6</td>\n",
       "      <td>0.351</td>\n",
       "      <td>31.0</td>\n",
       "      <td>0</td>\n",
       "    </tr>\n",
       "    <tr>\n",
       "      <th>2</th>\n",
       "      <td>8.0</td>\n",
       "      <td>183.0</td>\n",
       "      <td>64.0</td>\n",
       "      <td>20.54</td>\n",
       "      <td>79.8</td>\n",
       "      <td>23.3</td>\n",
       "      <td>0.672</td>\n",
       "      <td>32.0</td>\n",
       "      <td>1</td>\n",
       "    </tr>\n",
       "    <tr>\n",
       "      <th>3</th>\n",
       "      <td>1.0</td>\n",
       "      <td>89.0</td>\n",
       "      <td>66.0</td>\n",
       "      <td>23.00</td>\n",
       "      <td>94.0</td>\n",
       "      <td>28.1</td>\n",
       "      <td>0.167</td>\n",
       "      <td>21.0</td>\n",
       "      <td>0</td>\n",
       "    </tr>\n",
       "    <tr>\n",
       "      <th>4</th>\n",
       "      <td>0.0</td>\n",
       "      <td>137.0</td>\n",
       "      <td>40.0</td>\n",
       "      <td>35.00</td>\n",
       "      <td>168.0</td>\n",
       "      <td>43.1</td>\n",
       "      <td>1.200</td>\n",
       "      <td>33.0</td>\n",
       "      <td>1</td>\n",
       "    </tr>\n",
       "  </tbody>\n",
       "</table>\n",
       "</div>"
      ],
      "text/plain": [
       "   Pregnancies  Glucose  BloodPressure  SkinThickness  Insulin   BMI  \\\n",
       "0          6.0    148.0           72.0          35.00     79.8  33.6   \n",
       "1          1.0     85.0           66.0          29.00     79.8  26.6   \n",
       "2          8.0    183.0           64.0          20.54     79.8  23.3   \n",
       "3          1.0     89.0           66.0          23.00     94.0  28.1   \n",
       "4          0.0    137.0           40.0          35.00    168.0  43.1   \n",
       "\n",
       "   DiabetesPedigreeFunction   Age  Outcome  \n",
       "0                     0.627  50.0        1  \n",
       "1                     0.351  31.0        0  \n",
       "2                     0.672  32.0        1  \n",
       "3                     0.167  21.0        0  \n",
       "4                     1.200  33.0        1  "
      ]
     },
     "execution_count": 743,
     "metadata": {},
     "output_type": "execute_result"
    }
   ],
   "source": [
    "# I am using the diabetes dataset from Introduction ML Course \n",
    "df = pd.read_csv('diabetes_cleaned.csv')\n",
    "df.head()"
   ]
  },
  {
   "cell_type": "markdown",
   "id": "dee8c0f7",
   "metadata": {},
   "source": [
    "**Preprocessing**"
   ]
  },
  {
   "cell_type": "code",
   "execution_count": 744,
   "id": "d8001b24",
   "metadata": {},
   "outputs": [
    {
     "data": {
      "text/plain": [
       "(768, 9)"
      ]
     },
     "execution_count": 744,
     "metadata": {},
     "output_type": "execute_result"
    }
   ],
   "source": [
    "df.shape"
   ]
  },
  {
   "cell_type": "code",
   "execution_count": 745,
   "id": "7ba57cd0",
   "metadata": {},
   "outputs": [
    {
     "name": "stdout",
     "output_type": "stream",
     "text": [
      "X train shape:torch.Size([614, 8]) y train shape:torch.Size([614])\n",
      "\n",
      "X validation shape:torch.Size([77, 8]) validation shape:torch.Size([77])\n",
      "\n",
      "X test shape:torch.Size([77, 8]) y test shape:torch.Size([77])\n"
     ]
    }
   ],
   "source": [
    "# Features and target value\n",
    "# Since I will train BBN model in Pytorch framework, I need numpy array with no label\n",
    "X = df.drop(columns=['Outcome']).values \n",
    "y = df['Outcome'].values \n",
    "\n",
    "# Standardize the features\n",
    "scaler = StandardScaler()\n",
    "X = scaler.fit_transform(X)\n",
    "\n",
    "# Making train/ validation and test splits\n",
    "X_train, X_test, y_train, y_test = train_test_split(X, y, test_size=0.2, random_state=42)   \n",
    "X_test, X_val, y_test, y_val = train_test_split(X_test, y_test, test_size=0.5, random_state=42)\n",
    "\n",
    "\n",
    "# Convert NumPy arrays into PyTorch tensors\n",
    "X_train, X_val, X_test = [torch.tensor(a, dtype=torch.float32) for a in (X_train, X_val, X_test)]\n",
    "y_train, y_val, y_test = [torch.tensor(a, dtype=torch.long)   for a in (y_train, y_val, y_test)]\n",
    "\n",
    "print(f'X train shape:{X_train.shape} y train shape:{y_train.shape}')\n",
    "print(f'\\nX validation shape:{X_val.shape} validation shape:{y_val.shape}')\n",
    "print(f'\\nX test shape:{X_test.shape} y test shape:{y_test.shape}')"
   ]
  },
  {
   "cell_type": "code",
   "execution_count": 746,
   "id": "03d7c597",
   "metadata": {},
   "outputs": [
    {
     "name": "stdout",
     "output_type": "stream",
     "text": [
      "Train loader: 10 batches\n",
      "Validation loader: 2 batches\n",
      "Test loader: 2 batches\n"
     ]
    }
   ],
   "source": [
    "# Bundle tensors into mini-batch loaders\n",
    "train_loader = DataLoader(TensorDataset(X_train, y_train), batch_size=64, shuffle=True)\n",
    "test_loader = DataLoader(TensorDataset(X_test, y_test), batch_size=64, shuffle=False)\n",
    "val_loader = DataLoader(TensorDataset(X_val, y_val), batch_size=64, shuffle=False)\n",
    "print(f'Train loader: {len(train_loader)} batches')\n",
    "print(f'Validation loader: {len(val_loader)} batches')\n",
    "print(f'Test loader: {len(test_loader)} batches')"
   ]
  },
  {
   "cell_type": "markdown",
   "id": "9aab7825",
   "metadata": {},
   "source": [
    "**Building the Bayesian Neural Network Model**"
   ]
  },
  {
   "cell_type": "code",
   "execution_count": 747,
   "id": "af4c3460",
   "metadata": {},
   "outputs": [],
   "source": [
    "# I define the Bayesian neural network architecture \n",
    "\n",
    "class ClassificationBNN(nn.Module):\n",
    "    def __init__(self, input_dim, output_dim, mu = 0, sigma = 0.7):\n",
    "        super(ClassificationBNN, self).__init__()\n",
    "        self.fc1 = bnn.BayesLinear(prior_mu=mu, prior_sigma = sigma, in_features=input_dim, out_features=128)\n",
    "        self.fc2 = bnn.BayesLinear(prior_mu=mu, prior_sigma = sigma, in_features=128, out_features=64)\n",
    "        self.fc3 = bnn.BayesLinear(prior_mu=mu, prior_sigma = sigma, in_features =64, out_features = 32)\n",
    "        self.fc4 = bnn.BayesLinear(prior_mu=mu, prior_sigma = sigma, in_features =32, out_features = 16)\n",
    "        self.out = bnn.BayesLinear(prior_mu=mu, prior_sigma = sigma, in_features =16, out_features = output_dim)\n",
    "        self.relu = nn.ReLU()            \n",
    "        \n",
    "        \n",
    "        self.bn1, self.bn2, self.bn3, self.bn4 = nn.BatchNorm1d(128), nn.BatchNorm1d(64), nn.BatchNorm1d(32), nn.BatchNorm1d(16)  \n",
    "        self.dropout = nn.Dropout(0.2)  \n",
    "        \n",
    "        \n",
    "    def forward(self, x, mc_dropout=False):\n",
    "        x = self.dropout(self.bn1(self.relu(self.fc1(x)))) if mc_dropout else self.bn1(self.relu(self.fc1(x)))\n",
    "        x = self.dropout(self.bn2(self.relu(self.fc2(x)))) if mc_dropout else self.bn2(self.relu(self.fc2(x)))\n",
    "        x = self.dropout(self.bn3(self.relu(self.fc3(x)))) if mc_dropout else self.bn3(self.relu(self.fc3(x)))\n",
    "        x = self.dropout(self.bn4(self.relu(self.fc4(x)))) if mc_dropout else self.bn4(self.relu(self.fc4(x)))\n",
    "        return self.out(x)\n",
    "    \n",
    "    \n",
    "# I have 8 features and 1 output \n",
    "# I defined 3 hidden layers with 128, 64, 32 neurons and 16 to extract the features from the input data\n",
    "# The Final layer has 1 output neuron since my dataset is binary classification\n",
    "# I defined dropout and batch normalization layers for regularization\n",
    "\n",
    "# In this structure:\n",
    "# bnn.BayesLinear layers replace nn.Linear that maintain distributions over weights and biases instead of single values\n",
    "# The forward method defines how input data flows through the network.\n",
    "\n",
    "# I initialized prior_ mu to 0 because what I have learned, it is a common  practice to keep weights neutral \n",
    "# at the beginning of training.\n",
    "# I initialized prior_sigma to 0.5 that weights to as adapt more freely during training."
   ]
  },
  {
   "cell_type": "markdown",
   "id": "6da37dbf",
   "metadata": {},
   "source": [
    "**Initializing model anf Hyperparameter**"
   ]
  },
  {
   "cell_type": "code",
   "execution_count": 748,
   "id": "08f3df5e",
   "metadata": {},
   "outputs": [],
   "source": [
    "# Hyperparameters:\n",
    "lambda_kl = 0.1 \n",
    "mc_samples_eval = 50\n",
    "learning_rate = 0.0009\n",
    "weight_decay = 0.0005\n",
    "\n",
    "# I initialize lambda_kl to 0.01, which is not too high to force the wights to be close to the prior distribution\n",
    "# 50 samples for Monte Carlo  is a good number to learn distribution of weights after training.\n",
    "# 100 samples is a good number to estimate the uncertainty \n",
    "# learning rate is 0.0009 is safe for adam optimizer to learn stable without overshooting\n",
    "# weight decay is 0.0005 to prevent overfitting and improve generalization of the model\n",
    "criterion = nn.BCEWithLogitsLoss()\n",
    "kl_loss = bnn.BKLLoss(reduction = 'mean')\n",
    "# I use BKLLoss to calculate the Kullback-Leibler divergence between the learned distribution and the prior distribution \n",
    "model  = ClassificationBNN(input_dim=8, output_dim=1, mu=0, sigma=0.5)\n",
    "optimizer = optim.Adam(model.parameters(), lr=learning_rate, weight_decay=weight_decay)  "
   ]
  },
  {
   "cell_type": "markdown",
   "id": "06f90567",
   "metadata": {},
   "source": [
    "**Training Loop**"
   ]
  },
  {
   "cell_type": "code",
   "execution_count": 749,
   "id": "1365ca25",
   "metadata": {},
   "outputs": [],
   "source": [
    "@torch.no_grad()                                     \n",
    "def evaluate(model, loader, mc_samples=mc_samples_eval, threshold=0.5):\n",
    "    model.eval()                                  \n",
    "    all_probs, all_true = [], []\n",
    "\n",
    "    for input_feature, true_label in loader:  \n",
    "        # Monte Carlo sampling for uncertainty estimation  \n",
    "        # By running the model multiple times with dropout, I can capture the uncertainty in the predictions  \n",
    "        # Adding  new dimension to aggregate Monte Carlo samples \n",
    "        # Each time returns tensor of shape (batch_size, 1) logits for binary classification         \n",
    "        mc_logits = torch.stack([model(input_feature, mc_dropout=True) for _ in range(mc_samples)])  \n",
    "        # Applying sigmoid to convert logits to probabilities\n",
    "        # Taking average over the Monte Carlo samples \n",
    "        probs = torch.sigmoid(mc_logits).mean(0).squeeze(1)\n",
    "        # Collecting probabilities and true labels for evaluation\n",
    "        all_probs.append(probs)\n",
    "        all_true.append(true_label)\n",
    "    # Compute metrics\n",
    "    probs = torch.cat(all_probs)                      \n",
    "    y_true = torch.cat(all_true).float()\n",
    "    # Convert probabilities to class labels using the threshold\n",
    "    y_pred = (probs >= threshold).float()             \n",
    "    # Calculate accuracy by comparing predicted labels with true labels  \n",
    "    accuracy = (y_pred == y_true).float().mean().item()      \n",
    "    return accuracy, probs, y_true                    \n"
   ]
  },
  {
   "cell_type": "code",
   "execution_count": 750,
   "id": "04c28b56",
   "metadata": {},
   "outputs": [],
   "source": [
    "# Training the model \n",
    "def train(model, loader, optimizer, Lambda_kl=lambda_kl):\n",
    "    # training mode\n",
    "    model.train()\n",
    "    running = 0\n",
    "\n",
    "    for input_feature, true_label in loader:\n",
    "        # Zero Gradients \n",
    "        optimizer.zero_grad()\n",
    "        # Forward pass: compute  raw output from input features\n",
    "        logits = model(input_feature, mc_dropout=True)   \n",
    "        # Compute the loss        \n",
    "        loss_data = criterion(logits.squeeze(1), true_label.float())\n",
    "        # Compute the KL divergence loss:\n",
    "        # Iterates over all layers amd filters layers that have a kl_loss() method \n",
    "        # And st the end, computes the KL divergence for each Bayesian layer between its posterior and prior distributions.\n",
    "        kl = sum(m.kl_loss() for m in model.modules()if hasattr(m, 'kl_loss'))\n",
    "        loss = loss_data + Lambda_kl * kl\n",
    "        loss.backward()\n",
    "        optimizer.step()\n",
    "        running += loss.item() * input_feature.size(0)\n",
    "    return running / len(loader.dataset)\n",
    "# I did not use float32 for the labels  and I got an error:\n",
    "# RuntimeError: result type Float can't be cast to the desired output type Long\n",
    "# I used Qwen to ask why I got this error and it suggested to float the labels for compatibility with\n",
    "# the BCEWithLogitsLoss "
   ]
  },
  {
   "cell_type": "code",
   "execution_count": null,
   "id": "925287d4",
   "metadata": {},
   "outputs": [],
   "source": [
    "# History and hyperparameters\n",
    "history = {'train_loss': [], 'val_acc': [], 'val_nll': []}\n",
    "best_val_nll = float('inf')\n",
    "PATIENCE = 20\n",
    "# I created empty list to hold  the validation negative log likelihood (val_nll) and accuracy for each epoch\n",
    "# Validation negative log likelihood is used to evaluate how well a probabilistic model  predicts the true labels on a validation dataset."
   ]
  },
  {
   "cell_type": "code",
   "execution_count": 752,
   "id": "775f1ddc",
   "metadata": {},
   "outputs": [
    {
     "name": "stdout",
     "output_type": "stream",
     "text": [
      "Training the model...\n"
     ]
    },
    {
     "name": "stderr",
     "output_type": "stream",
     "text": [
      "Epoch Progress:  20%|██        | 100/500 [00:12<00:50,  7.93it/s]"
     ]
    },
    {
     "name": "stdout",
     "output_type": "stream",
     "text": [
      "\n",
      "Early stopping at Epoch 100 | Best Val NLL: 0.744\n",
      "Training finished! Total duration: 12.62s\n"
     ]
    },
    {
     "name": "stderr",
     "output_type": "stream",
     "text": [
      "\n"
     ]
    }
   ],
   "source": [
    "# Training loop \n",
    "print('Training the model...')\n",
    "start_time = time.time()\n",
    "\n",
    "for epoch in tqdm(range(500), desc='Epoch Progress'):\n",
    "    # Compute validation negative log likelihood using the BCEWithLogitsLoss \n",
    "    # to measure predictive uncertainty\n",
    "    train_loss = train(model, train_loader, optimizer, lambda_kl)\n",
    "    val_acc, val_probs, val_true = evaluate(model, val_loader, mc_samples=50)\n",
    "    val_nll = criterion(val_probs, val_true).item() \n",
    "    scheduler = optim.lr_scheduler.ReduceLROnPlateau(optimizer, 'min', patience=5)\n",
    "    scheduler.step(val_nll) \n",
    "    \n",
    "    history['train_loss'].append(train_loss)\n",
    "    history['val_acc'].append(val_acc)\n",
    "    history['val_nll'].append(val_nll)\n",
    "    \n",
    "    \n",
    "    # If val_nll is lower than the best_val_nll, update the best_val_nll and reset patience_counter\n",
    "    # Otherwise,  +1 is added to patience_counter, This is used to for early stopping\n",
    "    if val_nll < best_val_nll:\n",
    "        best_val_nll = val_nll\n",
    "        patience_counter = 0\n",
    "    else:\n",
    "        patience_counter += 1\n",
    "    \n",
    "    # Early stopping\n",
    "    if patience_counter >= PATIENCE:\n",
    "        print(f'\\nEarly stopping at Epoch {epoch} | Best Val NLL: {best_val_nll:.3f}')\n",
    "        break\n",
    "print(f'Training finished! Total duration: {time.time() - start_time:.2f}s')"
   ]
  },
  {
   "cell_type": "code",
   "execution_count": 753,
   "id": "36a4df6d",
   "metadata": {},
   "outputs": [
    {
     "data": {
      "image/png": "[encoded data removed]",
      "text/plain": [
       "<Figure size 1200x500 with 2 Axes>"
      ]
     },
     "metadata": {},
     "output_type": "display_data"
    }
   ],
   "source": [
    "plt.figure(figsize=(12, 5))\n",
    "plt.subplot(1, 2, 1)\n",
    "plt.plot(history['train_loss'], label='Train Loss (ELBO)')\n",
    "plt.plot(history['val_nll'], label='Validation NLL')\n",
    "plt.xlabel('Epoch'); plt.ylabel('Loss')\n",
    "plt.title('Training vs Validation Loss')\n",
    "plt.legend()\n",
    "\n",
    "# Plot Accuracy\n",
    "plt.subplot(1, 2, 2)\n",
    "plt.plot(history['val_acc'], label='Validation Accuracy', color='green')\n",
    "plt.xlabel('Epoch'); plt.ylabel('Accuracy')\n",
    "plt.title('Validation Accuracy')\n",
    "plt.legend()\n",
    "plt.tight_layout()\n",
    "plt.show()"
   ]
  },
  {
   "cell_type": "markdown",
   "id": "44000edc",
   "metadata": {},
   "source": [
    "**XGBoost Baseline (Classification)**"
   ]
  },
  {
   "cell_type": "code",
   "execution_count": 764,
   "id": "d6898cfe",
   "metadata": {},
   "outputs": [],
   "source": [
    "# I will  train  XGBoost classifier on the same data\n",
    "x= df.drop(columns=['Outcome']) \n",
    "y= df['Outcome']\n"
   ]
  },
  {
   "cell_type": "code",
   "execution_count": 772,
   "id": "97f2518e",
   "metadata": {},
   "outputs": [],
   "source": [
    "# Split data into training and testing\n",
    "X_Train, X_Test, y_Train, y_Test = train_test_split(x, y, test_size=0.2, random_state=42)"
   ]
  },
  {
   "cell_type": "code",
   "execution_count": 773,
   "id": "af487a3b",
   "metadata": {},
   "outputs": [
    {
     "name": "stdout",
     "output_type": "stream",
     "text": [
      "Fitting 3 folds for each of 10 candidates, totalling 30 fits\n"
     ]
    }
   ],
   "source": [
    "# XGBoost classifier\n",
    "xgb_model = XGBClassifier(random_state=42)\n",
    "\n",
    "\n",
    "# I will use RandomizedSearchCV to find the best hyperparameters for the XGBoost model\n",
    "param_dist = {\n",
    "   'n_estimators': [50, 100, 200],\n",
    "    'max_depth': [3, 5, 7],\n",
    "    'learning_rate': [0.01, 0.1, 0.2]\n",
    "}\n",
    "\n",
    "# Hyperparameter tuning with RandomizedSearchCV\n",
    "xgb_random = RandomizedSearchCV(estimator = xgb_model, param_distributions=param_dist, n_iter=10, cv=3, verbose=1, random_state=42)\n",
    "\n",
    "\n",
    "# Train model\n",
    "xgb_random.fit(X_Train, y_Train)\n",
    "\n",
    "# Getting best model from search\n",
    "best_xgb_model = xgb_random.best_estimator_ \n",
    "\n",
    "# Predictions and probabilities\n",
    "y_pred_xgb = best_xgb_model.predict(X_Test)\n",
    "y_pred_proba_xgb = best_xgb_model.predict_proba(X_Test)[:, 1]"
   ]
  },
  {
   "cell_type": "code",
   "execution_count": null,
   "id": "962b6be6",
   "metadata": {},
   "outputs": [
    {
     "name": "stdout",
     "output_type": "stream",
     "text": [
      "Best Parameters: {'n_estimators': 50, 'max_depth': 3, 'learning_rate': 0.1}\n",
      "\n",
      "Classification Report:\n",
      "              precision    recall  f1-score   support\n",
      "\n",
      "           0       0.80      0.80      0.80        99\n",
      "           1       0.64      0.64      0.64        55\n",
      "\n",
      "    accuracy                           0.74       154\n",
      "   macro avg       0.72      0.72      0.72       154\n",
      "weighted avg       0.74      0.74      0.74       154\n",
      "\n"
     ]
    }
   ],
   "source": [
    "print(\"Best Parameters:\", xgb_random.best_params_)  # Show optimal hyperparameters [[7]]\n",
    "print(\"\\nClassification Report:\")\n",
    "print(classification_report(y_Test, y_pred_xgb)) "
   ]
  },
  {
   "cell_type": "code",
   "execution_count": 780,
   "id": "1ce866ea",
   "metadata": {},
   "outputs": [
    {
     "name": "stdout",
     "output_type": "stream",
     "text": [
      "Accuracy: 0.74\n",
      "Precision: 0.64\n",
      "F1 Score: 0.64\n",
      "ROC AUC Score: 0.82\n"
     ]
    }
   ],
   "source": [
    "print(f\"Accuracy: {accuracy_score(y_Test, y_pred_xgb):.2f}\")\n",
    "print(f\"Precision: {precision_score(y_Test, y_pred_xgb):.2f}\")\n",
    "print(f\"F1 Score: {f1_score(y_Test, y_pred_xgb):.2f}\")\n",
    "print(f\"ROC AUC Score: {roc_auc_score(y_Test, y_pred_proba_xgb):.2f}\")"
   ]
  }
 ],
 "metadata": {
  "kernelspec": {
   "display_name": ".venv",
   "language": "python",
   "name": "python3"
  },
  "language_info": {
   "codemirror_mode": {
    "name": "ipython",
    "version": 3
   },
   "file_extension": ".py",
   "mimetype": "text/x-python",
   "name": "python",
   "nbconvert_exporter": "python",
   "pygments_lexer": "ipython3",
   "version": "3.10.11"
  }
 },
 "nbformat": 4,
 "nbformat_minor": 5
}
